{
 "cells": [
  {
   "cell_type": "markdown",
   "metadata": {},
   "source": [
    "다양한 방법 시도"
   ]
  },
  {
   "cell_type": "code",
   "execution_count": 32,
   "metadata": {},
   "outputs": [
    {
     "name": "stderr",
     "output_type": "stream",
     "text": [
      "0it [00:00, ?it/s]\n",
      "  2%|▏         | 1/50 [00:05<04:12,  5.16s/it]"
     ]
    },
    {
     "name": "stdout",
     "output_type": "stream",
     "text": [
      "Completed processing F:\\UCF_Crimes\\UCF_Crimes\\Videos\\Abuse\\Abuse001_x264.mp4\n"
     ]
    },
    {
     "name": "stderr",
     "output_type": "stream",
     "text": [
      "  4%|▍         | 2/50 [00:06<02:07,  2.66s/it]"
     ]
    },
    {
     "name": "stdout",
     "output_type": "stream",
     "text": [
      "Completed processing F:\\UCF_Crimes\\UCF_Crimes\\Videos\\Abuse\\Abuse002_x264.mp4\n"
     ]
    },
    {
     "name": "stderr",
     "output_type": "stream",
     "text": [
      "  6%|▌         | 3/50 [00:09<02:24,  3.07s/it]"
     ]
    },
    {
     "name": "stdout",
     "output_type": "stream",
     "text": [
      "Completed processing F:\\UCF_Crimes\\UCF_Crimes\\Videos\\Abuse\\Abuse003_x264.mp4\n"
     ]
    },
    {
     "name": "stderr",
     "output_type": "stream",
     "text": [
      "  8%|▊         | 4/50 [00:22<05:22,  7.01s/it]"
     ]
    },
    {
     "name": "stdout",
     "output_type": "stream",
     "text": [
      "Completed processing F:\\UCF_Crimes\\UCF_Crimes\\Videos\\Abuse\\Abuse004_x264.mp4\n"
     ]
    },
    {
     "name": "stderr",
     "output_type": "stream",
     "text": [
      " 10%|█         | 5/50 [00:23<03:36,  4.81s/it]"
     ]
    },
    {
     "name": "stdout",
     "output_type": "stream",
     "text": [
      "Completed processing F:\\UCF_Crimes\\UCF_Crimes\\Videos\\Abuse\\Abuse005_x264.mp4\n"
     ]
    },
    {
     "name": "stderr",
     "output_type": "stream",
     "text": [
      " 12%|█▏        | 6/50 [00:27<03:25,  4.66s/it]"
     ]
    },
    {
     "name": "stdout",
     "output_type": "stream",
     "text": [
      "Completed processing F:\\UCF_Crimes\\UCF_Crimes\\Videos\\Abuse\\Abuse006_x264.mp4\n"
     ]
    },
    {
     "name": "stderr",
     "output_type": "stream",
     "text": [
      " 14%|█▍        | 7/50 [00:29<02:30,  3.50s/it]"
     ]
    },
    {
     "name": "stdout",
     "output_type": "stream",
     "text": [
      "Completed processing F:\\UCF_Crimes\\UCF_Crimes\\Videos\\Abuse\\Abuse007_x264.mp4\n"
     ]
    },
    {
     "name": "stderr",
     "output_type": "stream",
     "text": [
      " 16%|█▌        | 8/50 [00:35<03:08,  4.48s/it]"
     ]
    },
    {
     "name": "stdout",
     "output_type": "stream",
     "text": [
      "Completed processing F:\\UCF_Crimes\\UCF_Crimes\\Videos\\Abuse\\Abuse008_x264.mp4\n"
     ]
    },
    {
     "name": "stderr",
     "output_type": "stream",
     "text": [
      " 18%|█▊        | 9/50 [00:36<02:19,  3.41s/it]"
     ]
    },
    {
     "name": "stdout",
     "output_type": "stream",
     "text": [
      "Completed processing F:\\UCF_Crimes\\UCF_Crimes\\Videos\\Abuse\\Abuse009_x264.mp4\n"
     ]
    },
    {
     "name": "stderr",
     "output_type": "stream",
     "text": [
      " 20%|██        | 10/50 [00:37<01:48,  2.71s/it]"
     ]
    },
    {
     "name": "stdout",
     "output_type": "stream",
     "text": [
      "Completed processing F:\\UCF_Crimes\\UCF_Crimes\\Videos\\Abuse\\Abuse010_x264.mp4\n"
     ]
    },
    {
     "name": "stderr",
     "output_type": "stream",
     "text": [
      " 22%|██▏       | 11/50 [00:40<01:46,  2.72s/it]"
     ]
    },
    {
     "name": "stdout",
     "output_type": "stream",
     "text": [
      "Completed processing F:\\UCF_Crimes\\UCF_Crimes\\Videos\\Abuse\\Abuse011_x264.mp4\n"
     ]
    },
    {
     "name": "stderr",
     "output_type": "stream",
     "text": [
      " 24%|██▍       | 12/50 [00:44<01:59,  3.13s/it]"
     ]
    },
    {
     "name": "stdout",
     "output_type": "stream",
     "text": [
      "Completed processing F:\\UCF_Crimes\\UCF_Crimes\\Videos\\Abuse\\Abuse012_x264.mp4\n"
     ]
    },
    {
     "name": "stderr",
     "output_type": "stream",
     "text": [
      " 26%|██▌       | 13/50 [00:49<02:13,  3.60s/it]"
     ]
    },
    {
     "name": "stdout",
     "output_type": "stream",
     "text": [
      "Completed processing F:\\UCF_Crimes\\UCF_Crimes\\Videos\\Abuse\\Abuse013_x264.mp4\n"
     ]
    },
    {
     "name": "stderr",
     "output_type": "stream",
     "text": [
      " 28%|██▊       | 14/50 [00:51<01:52,  3.14s/it]"
     ]
    },
    {
     "name": "stdout",
     "output_type": "stream",
     "text": [
      "Completed processing F:\\UCF_Crimes\\UCF_Crimes\\Videos\\Abuse\\Abuse014_x264.mp4\n"
     ]
    },
    {
     "name": "stderr",
     "output_type": "stream",
     "text": [
      " 30%|███       | 15/50 [00:57<02:17,  3.92s/it]"
     ]
    },
    {
     "name": "stdout",
     "output_type": "stream",
     "text": [
      "Completed processing F:\\UCF_Crimes\\UCF_Crimes\\Videos\\Abuse\\Abuse015_x264.mp4\n"
     ]
    },
    {
     "name": "stderr",
     "output_type": "stream",
     "text": [
      " 32%|███▏      | 16/50 [00:58<01:45,  3.11s/it]"
     ]
    },
    {
     "name": "stdout",
     "output_type": "stream",
     "text": [
      "Completed processing F:\\UCF_Crimes\\UCF_Crimes\\Videos\\Abuse\\Abuse016_x264.mp4\n"
     ]
    },
    {
     "name": "stderr",
     "output_type": "stream",
     "text": [
      " 34%|███▍      | 17/50 [01:00<01:28,  2.69s/it]"
     ]
    },
    {
     "name": "stdout",
     "output_type": "stream",
     "text": [
      "Completed processing F:\\UCF_Crimes\\UCF_Crimes\\Videos\\Abuse\\Abuse017_x264.mp4\n"
     ]
    },
    {
     "name": "stderr",
     "output_type": "stream",
     "text": [
      " 36%|███▌      | 18/50 [01:01<01:17,  2.43s/it]"
     ]
    },
    {
     "name": "stdout",
     "output_type": "stream",
     "text": [
      "Completed processing F:\\UCF_Crimes\\UCF_Crimes\\Videos\\Abuse\\Abuse018_x264.mp4\n"
     ]
    },
    {
     "name": "stderr",
     "output_type": "stream",
     "text": [
      " 38%|███▊      | 19/50 [01:05<01:21,  2.63s/it]"
     ]
    },
    {
     "name": "stdout",
     "output_type": "stream",
     "text": [
      "Completed processing F:\\UCF_Crimes\\UCF_Crimes\\Videos\\Abuse\\Abuse019_x264.mp4\n"
     ]
    },
    {
     "name": "stderr",
     "output_type": "stream",
     "text": [
      " 40%|████      | 20/50 [01:07<01:18,  2.62s/it]"
     ]
    },
    {
     "name": "stdout",
     "output_type": "stream",
     "text": [
      "Completed processing F:\\UCF_Crimes\\UCF_Crimes\\Videos\\Abuse\\Abuse020_x264.mp4\n"
     ]
    },
    {
     "name": "stderr",
     "output_type": "stream",
     "text": [
      " 42%|████▏     | 21/50 [01:09<01:06,  2.29s/it]"
     ]
    },
    {
     "name": "stdout",
     "output_type": "stream",
     "text": [
      "Completed processing F:\\UCF_Crimes\\UCF_Crimes\\Videos\\Abuse\\Abuse021_x264.mp4\n"
     ]
    },
    {
     "name": "stderr",
     "output_type": "stream",
     "text": [
      " 44%|████▍     | 22/50 [01:11<01:05,  2.36s/it]"
     ]
    },
    {
     "name": "stdout",
     "output_type": "stream",
     "text": [
      "Completed processing F:\\UCF_Crimes\\UCF_Crimes\\Videos\\Abuse\\Abuse022_x264.mp4\n"
     ]
    },
    {
     "name": "stderr",
     "output_type": "stream",
     "text": [
      " 46%|████▌     | 23/50 [01:12<00:51,  1.92s/it]"
     ]
    },
    {
     "name": "stdout",
     "output_type": "stream",
     "text": [
      "Completed processing F:\\UCF_Crimes\\UCF_Crimes\\Videos\\Abuse\\Abuse023_x264.mp4\n"
     ]
    },
    {
     "name": "stderr",
     "output_type": "stream",
     "text": [
      " 48%|████▊     | 24/50 [01:13<00:44,  1.70s/it]"
     ]
    },
    {
     "name": "stdout",
     "output_type": "stream",
     "text": [
      "Completed processing F:\\UCF_Crimes\\UCF_Crimes\\Videos\\Abuse\\Abuse024_x264.mp4\n"
     ]
    },
    {
     "name": "stderr",
     "output_type": "stream",
     "text": [
      " 50%|█████     | 25/50 [01:15<00:45,  1.81s/it]"
     ]
    },
    {
     "name": "stdout",
     "output_type": "stream",
     "text": [
      "Completed processing F:\\UCF_Crimes\\UCF_Crimes\\Videos\\Abuse\\Abuse025_x264.mp4\n"
     ]
    },
    {
     "name": "stderr",
     "output_type": "stream",
     "text": [
      " 52%|█████▏    | 26/50 [01:18<00:46,  1.93s/it]"
     ]
    },
    {
     "name": "stdout",
     "output_type": "stream",
     "text": [
      "Completed processing F:\\UCF_Crimes\\UCF_Crimes\\Videos\\Abuse\\Abuse026_x264.mp4\n"
     ]
    },
    {
     "name": "stderr",
     "output_type": "stream",
     "text": [
      " 54%|█████▍    | 27/50 [01:21<00:57,  2.49s/it]"
     ]
    },
    {
     "name": "stdout",
     "output_type": "stream",
     "text": [
      "Completed processing F:\\UCF_Crimes\\UCF_Crimes\\Videos\\Abuse\\Abuse027_x264.mp4\n"
     ]
    },
    {
     "name": "stderr",
     "output_type": "stream",
     "text": [
      " 56%|█████▌    | 28/50 [01:23<00:46,  2.10s/it]"
     ]
    },
    {
     "name": "stdout",
     "output_type": "stream",
     "text": [
      "Completed processing F:\\UCF_Crimes\\UCF_Crimes\\Videos\\Abuse\\Abuse028_x264.mp4\n"
     ]
    },
    {
     "name": "stderr",
     "output_type": "stream",
     "text": [
      " 58%|█████▊    | 29/50 [01:23<00:32,  1.56s/it]"
     ]
    },
    {
     "name": "stdout",
     "output_type": "stream",
     "text": [
      "Completed processing F:\\UCF_Crimes\\UCF_Crimes\\Videos\\Abuse\\Abuse029_x264.mp4\n"
     ]
    },
    {
     "name": "stderr",
     "output_type": "stream",
     "text": [
      " 60%|██████    | 30/50 [01:24<00:30,  1.55s/it]"
     ]
    },
    {
     "name": "stdout",
     "output_type": "stream",
     "text": [
      "Completed processing F:\\UCF_Crimes\\UCF_Crimes\\Videos\\Abuse\\Abuse030_x264.mp4\n"
     ]
    },
    {
     "name": "stderr",
     "output_type": "stream",
     "text": [
      " 62%|██████▏   | 31/50 [01:28<00:42,  2.21s/it]"
     ]
    },
    {
     "name": "stdout",
     "output_type": "stream",
     "text": [
      "Completed processing F:\\UCF_Crimes\\UCF_Crimes\\Videos\\Abuse\\Abuse031_x264.mp4\n"
     ]
    },
    {
     "name": "stderr",
     "output_type": "stream",
     "text": [
      " 64%|██████▍   | 32/50 [01:32<00:48,  2.70s/it]"
     ]
    },
    {
     "name": "stdout",
     "output_type": "stream",
     "text": [
      "Completed processing F:\\UCF_Crimes\\UCF_Crimes\\Videos\\Abuse\\Abuse032_x264.mp4\n"
     ]
    },
    {
     "name": "stderr",
     "output_type": "stream",
     "text": [
      " 66%|██████▌   | 33/50 [01:34<00:44,  2.63s/it]"
     ]
    },
    {
     "name": "stdout",
     "output_type": "stream",
     "text": [
      "Completed processing F:\\UCF_Crimes\\UCF_Crimes\\Videos\\Abuse\\Abuse033_x264.mp4\n"
     ]
    },
    {
     "name": "stderr",
     "output_type": "stream",
     "text": [
      " 68%|██████▊   | 34/50 [01:36<00:36,  2.28s/it]"
     ]
    },
    {
     "name": "stdout",
     "output_type": "stream",
     "text": [
      "Completed processing F:\\UCF_Crimes\\UCF_Crimes\\Videos\\Abuse\\Abuse034_x264.mp4\n"
     ]
    },
    {
     "name": "stderr",
     "output_type": "stream",
     "text": [
      " 70%|███████   | 35/50 [01:39<00:36,  2.45s/it]"
     ]
    },
    {
     "name": "stdout",
     "output_type": "stream",
     "text": [
      "Completed processing F:\\UCF_Crimes\\UCF_Crimes\\Videos\\Abuse\\Abuse035_x264.mp4\n"
     ]
    },
    {
     "name": "stderr",
     "output_type": "stream",
     "text": [
      " 72%|███████▏  | 36/50 [01:43<00:42,  3.01s/it]"
     ]
    },
    {
     "name": "stdout",
     "output_type": "stream",
     "text": [
      "Completed processing F:\\UCF_Crimes\\UCF_Crimes\\Videos\\Abuse\\Abuse036_x264.mp4\n"
     ]
    },
    {
     "name": "stderr",
     "output_type": "stream",
     "text": [
      " 74%|███████▍  | 37/50 [01:45<00:34,  2.62s/it]"
     ]
    },
    {
     "name": "stdout",
     "output_type": "stream",
     "text": [
      "Completed processing F:\\UCF_Crimes\\UCF_Crimes\\Videos\\Abuse\\Abuse037_x264.mp4\n"
     ]
    },
    {
     "name": "stderr",
     "output_type": "stream",
     "text": [
      " 76%|███████▌  | 38/50 [01:46<00:25,  2.11s/it]"
     ]
    },
    {
     "name": "stdout",
     "output_type": "stream",
     "text": [
      "Completed processing F:\\UCF_Crimes\\UCF_Crimes\\Videos\\Abuse\\Abuse038_x264.mp4\n"
     ]
    },
    {
     "name": "stderr",
     "output_type": "stream",
     "text": [
      " 78%|███████▊  | 39/50 [01:59<00:58,  5.35s/it]"
     ]
    },
    {
     "name": "stdout",
     "output_type": "stream",
     "text": [
      "Completed processing F:\\UCF_Crimes\\UCF_Crimes\\Videos\\Abuse\\Abuse039_x264.mp4\n"
     ]
    },
    {
     "name": "stderr",
     "output_type": "stream",
     "text": [
      " 80%|████████  | 40/50 [02:01<00:45,  4.57s/it]"
     ]
    },
    {
     "name": "stdout",
     "output_type": "stream",
     "text": [
      "Completed processing F:\\UCF_Crimes\\UCF_Crimes\\Videos\\Abuse\\Abuse040_x264.mp4\n"
     ]
    },
    {
     "name": "stderr",
     "output_type": "stream",
     "text": [
      " 82%|████████▏ | 41/50 [02:03<00:32,  3.62s/it]"
     ]
    },
    {
     "name": "stdout",
     "output_type": "stream",
     "text": [
      "Completed processing F:\\UCF_Crimes\\UCF_Crimes\\Videos\\Abuse\\Abuse041_x264.mp4\n"
     ]
    },
    {
     "name": "stderr",
     "output_type": "stream",
     "text": [
      " 84%|████████▍ | 42/50 [02:28<01:21, 10.14s/it]"
     ]
    },
    {
     "name": "stdout",
     "output_type": "stream",
     "text": [
      "Completed processing F:\\UCF_Crimes\\UCF_Crimes\\Videos\\Abuse\\Abuse042_x264.mp4\n"
     ]
    },
    {
     "name": "stderr",
     "output_type": "stream",
     "text": [
      " 86%|████████▌ | 43/50 [02:32<00:57,  8.19s/it]"
     ]
    },
    {
     "name": "stdout",
     "output_type": "stream",
     "text": [
      "Completed processing F:\\UCF_Crimes\\UCF_Crimes\\Videos\\Abuse\\Abuse043_x264.mp4\n"
     ]
    },
    {
     "name": "stderr",
     "output_type": "stream",
     "text": [
      " 88%|████████▊ | 44/50 [02:36<00:41,  6.92s/it]"
     ]
    },
    {
     "name": "stdout",
     "output_type": "stream",
     "text": [
      "Completed processing F:\\UCF_Crimes\\UCF_Crimes\\Videos\\Abuse\\Abuse044_x264.mp4\n"
     ]
    },
    {
     "name": "stderr",
     "output_type": "stream",
     "text": [
      " 90%|█████████ | 45/50 [02:40<00:30,  6.05s/it]"
     ]
    },
    {
     "name": "stdout",
     "output_type": "stream",
     "text": [
      "Completed processing F:\\UCF_Crimes\\UCF_Crimes\\Videos\\Abuse\\Abuse045_x264.mp4\n"
     ]
    },
    {
     "name": "stderr",
     "output_type": "stream",
     "text": [
      " 92%|█████████▏| 46/50 [02:41<00:18,  4.62s/it]"
     ]
    },
    {
     "name": "stdout",
     "output_type": "stream",
     "text": [
      "Completed processing F:\\UCF_Crimes\\UCF_Crimes\\Videos\\Abuse\\Abuse046_x264.mp4\n"
     ]
    },
    {
     "name": "stderr",
     "output_type": "stream",
     "text": [
      " 94%|█████████▍| 47/50 [02:42<00:10,  3.61s/it]"
     ]
    },
    {
     "name": "stdout",
     "output_type": "stream",
     "text": [
      "Completed processing F:\\UCF_Crimes\\UCF_Crimes\\Videos\\Abuse\\Abuse047_x264.mp4\n"
     ]
    },
    {
     "name": "stderr",
     "output_type": "stream",
     "text": [
      " 96%|█████████▌| 48/50 [02:45<00:06,  3.44s/it]"
     ]
    },
    {
     "name": "stdout",
     "output_type": "stream",
     "text": [
      "Completed processing F:\\UCF_Crimes\\UCF_Crimes\\Videos\\Abuse\\Abuse048_x264.mp4\n"
     ]
    },
    {
     "name": "stderr",
     "output_type": "stream",
     "text": [
      " 98%|█████████▊| 49/50 [02:47<00:03,  3.02s/it]"
     ]
    },
    {
     "name": "stdout",
     "output_type": "stream",
     "text": [
      "Completed processing F:\\UCF_Crimes\\UCF_Crimes\\Videos\\Abuse\\Abuse049_x264.mp4\n"
     ]
    },
    {
     "name": "stderr",
     "output_type": "stream",
     "text": [
      "100%|██████████| 50/50 [02:52<00:00,  3.45s/it]\n"
     ]
    },
    {
     "name": "stdout",
     "output_type": "stream",
     "text": [
      "Completed processing F:\\UCF_Crimes\\UCF_Crimes\\Videos\\Abuse\\Abuse050_x264.mp4\n"
     ]
    },
    {
     "name": "stderr",
     "output_type": "stream",
     "text": [
      "  2%|▏         | 1/50 [00:02<01:44,  2.14s/it]"
     ]
    },
    {
     "name": "stdout",
     "output_type": "stream",
     "text": [
      "Completed processing F:\\UCF_Crimes\\UCF_Crimes\\Videos\\Arrest\\Arrest001_x264.mp4\n"
     ]
    },
    {
     "name": "stderr",
     "output_type": "stream",
     "text": [
      "  4%|▍         | 2/50 [00:03<01:29,  1.87s/it]"
     ]
    },
    {
     "name": "stdout",
     "output_type": "stream",
     "text": [
      "Completed processing F:\\UCF_Crimes\\UCF_Crimes\\Videos\\Arrest\\Arrest002_x264.mp4\n"
     ]
    },
    {
     "name": "stderr",
     "output_type": "stream",
     "text": [
      "  6%|▌         | 3/50 [00:06<01:43,  2.20s/it]"
     ]
    },
    {
     "name": "stdout",
     "output_type": "stream",
     "text": [
      "Completed processing F:\\UCF_Crimes\\UCF_Crimes\\Videos\\Arrest\\Arrest003_x264.mp4\n"
     ]
    },
    {
     "name": "stderr",
     "output_type": "stream",
     "text": [
      "  8%|▊         | 4/50 [00:15<03:53,  5.08s/it]"
     ]
    },
    {
     "name": "stdout",
     "output_type": "stream",
     "text": [
      "Completed processing F:\\UCF_Crimes\\UCF_Crimes\\Videos\\Arrest\\Arrest004_x264.mp4\n"
     ]
    },
    {
     "name": "stderr",
     "output_type": "stream",
     "text": [
      " 10%|█         | 5/50 [00:19<03:22,  4.50s/it]"
     ]
    },
    {
     "name": "stdout",
     "output_type": "stream",
     "text": [
      "Completed processing F:\\UCF_Crimes\\UCF_Crimes\\Videos\\Arrest\\Arrest005_x264.mp4\n"
     ]
    },
    {
     "name": "stderr",
     "output_type": "stream",
     "text": [
      " 12%|█▏        | 6/50 [00:22<02:53,  3.95s/it]"
     ]
    },
    {
     "name": "stdout",
     "output_type": "stream",
     "text": [
      "Completed processing F:\\UCF_Crimes\\UCF_Crimes\\Videos\\Arrest\\Arrest006_x264.mp4\n"
     ]
    },
    {
     "name": "stderr",
     "output_type": "stream",
     "text": [
      " 14%|█▍        | 7/50 [00:24<02:32,  3.55s/it]"
     ]
    },
    {
     "name": "stdout",
     "output_type": "stream",
     "text": [
      "Completed processing F:\\UCF_Crimes\\UCF_Crimes\\Videos\\Arrest\\Arrest007_x264.mp4\n"
     ]
    },
    {
     "name": "stderr",
     "output_type": "stream",
     "text": [
      " 16%|█▌        | 8/50 [00:31<03:03,  4.36s/it]"
     ]
    },
    {
     "name": "stdout",
     "output_type": "stream",
     "text": [
      "Completed processing F:\\UCF_Crimes\\UCF_Crimes\\Videos\\Arrest\\Arrest008_x264.mp4\n"
     ]
    },
    {
     "name": "stderr",
     "output_type": "stream",
     "text": [
      " 18%|█▊        | 9/50 [00:32<02:22,  3.48s/it]"
     ]
    },
    {
     "name": "stdout",
     "output_type": "stream",
     "text": [
      "Completed processing F:\\UCF_Crimes\\UCF_Crimes\\Videos\\Arrest\\Arrest009_x264.mp4\n"
     ]
    },
    {
     "name": "stderr",
     "output_type": "stream",
     "text": [
      " 20%|██        | 10/50 [00:35<02:05,  3.15s/it]"
     ]
    },
    {
     "name": "stdout",
     "output_type": "stream",
     "text": [
      "Completed processing F:\\UCF_Crimes\\UCF_Crimes\\Videos\\Arrest\\Arrest010_x264.mp4\n"
     ]
    },
    {
     "name": "stderr",
     "output_type": "stream",
     "text": [
      " 22%|██▏       | 11/50 [00:36<01:48,  2.78s/it]"
     ]
    },
    {
     "name": "stdout",
     "output_type": "stream",
     "text": [
      "Completed processing F:\\UCF_Crimes\\UCF_Crimes\\Videos\\Arrest\\Arrest011_x264.mp4\n"
     ]
    },
    {
     "name": "stderr",
     "output_type": "stream",
     "text": [
      " 24%|██▍       | 12/50 [00:52<04:17,  6.77s/it]"
     ]
    },
    {
     "name": "stdout",
     "output_type": "stream",
     "text": [
      "Completed processing F:\\UCF_Crimes\\UCF_Crimes\\Videos\\Arrest\\Arrest012_x264.mp4\n"
     ]
    },
    {
     "name": "stderr",
     "output_type": "stream",
     "text": [
      " 26%|██▌       | 13/50 [00:53<03:05,  5.00s/it]"
     ]
    },
    {
     "name": "stdout",
     "output_type": "stream",
     "text": [
      "Completed processing F:\\UCF_Crimes\\UCF_Crimes\\Videos\\Arrest\\Arrest013_x264.mp4\n"
     ]
    },
    {
     "name": "stderr",
     "output_type": "stream",
     "text": [
      " 28%|██▊       | 14/50 [00:55<02:23,  3.99s/it]"
     ]
    },
    {
     "name": "stdout",
     "output_type": "stream",
     "text": [
      "Completed processing F:\\UCF_Crimes\\UCF_Crimes\\Videos\\Arrest\\Arrest014_x264.mp4\n"
     ]
    },
    {
     "name": "stderr",
     "output_type": "stream",
     "text": [
      " 30%|███       | 15/50 [00:56<01:48,  3.09s/it]"
     ]
    },
    {
     "name": "stdout",
     "output_type": "stream",
     "text": [
      "Completed processing F:\\UCF_Crimes\\UCF_Crimes\\Videos\\Arrest\\Arrest015_x264.mp4\n"
     ]
    },
    {
     "name": "stderr",
     "output_type": "stream",
     "text": [
      " 32%|███▏      | 16/50 [01:05<02:42,  4.77s/it]"
     ]
    },
    {
     "name": "stdout",
     "output_type": "stream",
     "text": [
      "Completed processing F:\\UCF_Crimes\\UCF_Crimes\\Videos\\Arrest\\Arrest016_x264.mp4\n"
     ]
    },
    {
     "name": "stderr",
     "output_type": "stream",
     "text": [
      " 34%|███▍      | 17/50 [01:08<02:22,  4.32s/it]"
     ]
    },
    {
     "name": "stdout",
     "output_type": "stream",
     "text": [
      "Completed processing F:\\UCF_Crimes\\UCF_Crimes\\Videos\\Arrest\\Arrest017_x264.mp4\n"
     ]
    },
    {
     "name": "stderr",
     "output_type": "stream",
     "text": [
      " 36%|███▌      | 18/50 [01:10<01:57,  3.66s/it]"
     ]
    },
    {
     "name": "stdout",
     "output_type": "stream",
     "text": [
      "Completed processing F:\\UCF_Crimes\\UCF_Crimes\\Videos\\Arrest\\Arrest018_x264.mp4\n"
     ]
    },
    {
     "name": "stderr",
     "output_type": "stream",
     "text": [
      " 38%|███▊      | 19/50 [01:11<01:32,  2.98s/it]"
     ]
    },
    {
     "name": "stdout",
     "output_type": "stream",
     "text": [
      "Completed processing F:\\UCF_Crimes\\UCF_Crimes\\Videos\\Arrest\\Arrest019_x264.mp4\n"
     ]
    },
    {
     "name": "stderr",
     "output_type": "stream",
     "text": [
      " 40%|████      | 20/50 [01:14<01:28,  2.94s/it]"
     ]
    },
    {
     "name": "stdout",
     "output_type": "stream",
     "text": [
      "Completed processing F:\\UCF_Crimes\\UCF_Crimes\\Videos\\Arrest\\Arrest020_x264.mp4\n"
     ]
    },
    {
     "name": "stderr",
     "output_type": "stream",
     "text": [
      " 42%|████▏     | 21/50 [01:24<02:20,  4.86s/it]"
     ]
    },
    {
     "name": "stdout",
     "output_type": "stream",
     "text": [
      "Completed processing F:\\UCF_Crimes\\UCF_Crimes\\Videos\\Arrest\\Arrest021_x264.mp4\n"
     ]
    },
    {
     "name": "stderr",
     "output_type": "stream",
     "text": [
      " 44%|████▍     | 22/50 [01:25<01:49,  3.93s/it]"
     ]
    },
    {
     "name": "stdout",
     "output_type": "stream",
     "text": [
      "Completed processing F:\\UCF_Crimes\\UCF_Crimes\\Videos\\Arrest\\Arrest022_x264.mp4\n"
     ]
    },
    {
     "name": "stderr",
     "output_type": "stream",
     "text": [
      " 46%|████▌     | 23/50 [01:27<01:27,  3.24s/it]"
     ]
    },
    {
     "name": "stdout",
     "output_type": "stream",
     "text": [
      "Completed processing F:\\UCF_Crimes\\UCF_Crimes\\Videos\\Arrest\\Arrest023_x264.mp4\n"
     ]
    },
    {
     "name": "stderr",
     "output_type": "stream",
     "text": [
      " 48%|████▊     | 24/50 [01:30<01:24,  3.24s/it]"
     ]
    },
    {
     "name": "stdout",
     "output_type": "stream",
     "text": [
      "Completed processing F:\\UCF_Crimes\\UCF_Crimes\\Videos\\Arrest\\Arrest024_x264.mp4\n"
     ]
    },
    {
     "name": "stderr",
     "output_type": "stream",
     "text": [
      " 50%|█████     | 25/50 [01:31<01:05,  2.62s/it]"
     ]
    },
    {
     "name": "stdout",
     "output_type": "stream",
     "text": [
      "Completed processing F:\\UCF_Crimes\\UCF_Crimes\\Videos\\Arrest\\Arrest025_x264.mp4\n"
     ]
    },
    {
     "name": "stderr",
     "output_type": "stream",
     "text": [
      " 52%|█████▏    | 26/50 [01:37<01:24,  3.52s/it]"
     ]
    },
    {
     "name": "stdout",
     "output_type": "stream",
     "text": [
      "Completed processing F:\\UCF_Crimes\\UCF_Crimes\\Videos\\Arrest\\Arrest026_x264.mp4\n"
     ]
    },
    {
     "name": "stderr",
     "output_type": "stream",
     "text": [
      " 54%|█████▍    | 27/50 [01:39<01:08,  2.96s/it]"
     ]
    },
    {
     "name": "stdout",
     "output_type": "stream",
     "text": [
      "Completed processing F:\\UCF_Crimes\\UCF_Crimes\\Videos\\Arrest\\Arrest027_x264.mp4\n"
     ]
    },
    {
     "name": "stderr",
     "output_type": "stream",
     "text": [
      " 56%|█████▌    | 28/50 [01:41<01:01,  2.78s/it]"
     ]
    },
    {
     "name": "stdout",
     "output_type": "stream",
     "text": [
      "Completed processing F:\\UCF_Crimes\\UCF_Crimes\\Videos\\Arrest\\Arrest028_x264.mp4\n"
     ]
    },
    {
     "name": "stderr",
     "output_type": "stream",
     "text": [
      " 58%|█████▊    | 29/50 [02:03<02:56,  8.40s/it]"
     ]
    },
    {
     "name": "stdout",
     "output_type": "stream",
     "text": [
      "Completed processing F:\\UCF_Crimes\\UCF_Crimes\\Videos\\Arrest\\Arrest029_x264.mp4\n"
     ]
    },
    {
     "name": "stderr",
     "output_type": "stream",
     "text": [
      " 60%|██████    | 30/50 [02:24<04:07, 12.39s/it]"
     ]
    },
    {
     "name": "stdout",
     "output_type": "stream",
     "text": [
      "Completed processing F:\\UCF_Crimes\\UCF_Crimes\\Videos\\Arrest\\Arrest030_x264.mp4\n"
     ]
    },
    {
     "name": "stderr",
     "output_type": "stream",
     "text": [
      " 62%|██████▏   | 31/50 [02:26<02:53,  9.12s/it]"
     ]
    },
    {
     "name": "stdout",
     "output_type": "stream",
     "text": [
      "Completed processing F:\\UCF_Crimes\\UCF_Crimes\\Videos\\Arrest\\Arrest031_x264.mp4\n"
     ]
    },
    {
     "name": "stderr",
     "output_type": "stream",
     "text": [
      " 64%|██████▍   | 32/50 [02:27<02:03,  6.83s/it]"
     ]
    },
    {
     "name": "stdout",
     "output_type": "stream",
     "text": [
      "Completed processing F:\\UCF_Crimes\\UCF_Crimes\\Videos\\Arrest\\Arrest032_x264.mp4\n"
     ]
    },
    {
     "name": "stderr",
     "output_type": "stream",
     "text": [
      " 66%|██████▌   | 33/50 [02:34<01:55,  6.80s/it]"
     ]
    },
    {
     "name": "stdout",
     "output_type": "stream",
     "text": [
      "Completed processing F:\\UCF_Crimes\\UCF_Crimes\\Videos\\Arrest\\Arrest033_x264.mp4\n"
     ]
    },
    {
     "name": "stderr",
     "output_type": "stream",
     "text": [
      " 68%|██████▊   | 34/50 [02:44<02:03,  7.74s/it]"
     ]
    },
    {
     "name": "stdout",
     "output_type": "stream",
     "text": [
      "Completed processing F:\\UCF_Crimes\\UCF_Crimes\\Videos\\Arrest\\Arrest034_x264.mp4\n"
     ]
    },
    {
     "name": "stderr",
     "output_type": "stream",
     "text": [
      " 70%|███████   | 35/50 [02:50<01:47,  7.20s/it]"
     ]
    },
    {
     "name": "stdout",
     "output_type": "stream",
     "text": [
      "Completed processing F:\\UCF_Crimes\\UCF_Crimes\\Videos\\Arrest\\Arrest035_x264.mp4\n"
     ]
    },
    {
     "name": "stderr",
     "output_type": "stream",
     "text": [
      " 72%|███████▏  | 36/50 [02:53<01:25,  6.12s/it]"
     ]
    },
    {
     "name": "stdout",
     "output_type": "stream",
     "text": [
      "Completed processing F:\\UCF_Crimes\\UCF_Crimes\\Videos\\Arrest\\Arrest036_x264.mp4\n"
     ]
    },
    {
     "name": "stderr",
     "output_type": "stream",
     "text": [
      " 74%|███████▍  | 37/50 [02:56<01:06,  5.09s/it]"
     ]
    },
    {
     "name": "stdout",
     "output_type": "stream",
     "text": [
      "Completed processing F:\\UCF_Crimes\\UCF_Crimes\\Videos\\Arrest\\Arrest037_x264.mp4\n"
     ]
    },
    {
     "name": "stderr",
     "output_type": "stream",
     "text": [
      " 76%|███████▌  | 38/50 [02:58<00:50,  4.17s/it]"
     ]
    },
    {
     "name": "stdout",
     "output_type": "stream",
     "text": [
      "Completed processing F:\\UCF_Crimes\\UCF_Crimes\\Videos\\Arrest\\Arrest038_x264.mp4\n"
     ]
    },
    {
     "name": "stderr",
     "output_type": "stream",
     "text": [
      " 78%|███████▊  | 39/50 [03:15<01:27,  7.95s/it]"
     ]
    },
    {
     "name": "stdout",
     "output_type": "stream",
     "text": [
      "Completed processing F:\\UCF_Crimes\\UCF_Crimes\\Videos\\Arrest\\Arrest039_x264.mp4\n"
     ]
    },
    {
     "name": "stderr",
     "output_type": "stream",
     "text": [
      " 80%|████████  | 40/50 [03:17<01:00,  6.08s/it]"
     ]
    },
    {
     "name": "stdout",
     "output_type": "stream",
     "text": [
      "Completed processing F:\\UCF_Crimes\\UCF_Crimes\\Videos\\Arrest\\Arrest040_x264.mp4\n"
     ]
    },
    {
     "name": "stderr",
     "output_type": "stream",
     "text": [
      " 82%|████████▏ | 41/50 [03:20<00:47,  5.30s/it]"
     ]
    },
    {
     "name": "stdout",
     "output_type": "stream",
     "text": [
      "Completed processing F:\\UCF_Crimes\\UCF_Crimes\\Videos\\Arrest\\Arrest041_x264.mp4\n"
     ]
    },
    {
     "name": "stderr",
     "output_type": "stream",
     "text": [
      " 84%|████████▍ | 42/50 [03:22<00:34,  4.32s/it]"
     ]
    },
    {
     "name": "stdout",
     "output_type": "stream",
     "text": [
      "Completed processing F:\\UCF_Crimes\\UCF_Crimes\\Videos\\Arrest\\Arrest042_x264.mp4\n"
     ]
    },
    {
     "name": "stderr",
     "output_type": "stream",
     "text": [
      " 86%|████████▌ | 43/50 [03:33<00:43,  6.24s/it]"
     ]
    },
    {
     "name": "stdout",
     "output_type": "stream",
     "text": [
      "Completed processing F:\\UCF_Crimes\\UCF_Crimes\\Videos\\Arrest\\Arrest043_x264.mp4\n"
     ]
    },
    {
     "name": "stderr",
     "output_type": "stream",
     "text": [
      " 88%|████████▊ | 44/50 [03:37<00:33,  5.58s/it]"
     ]
    },
    {
     "name": "stdout",
     "output_type": "stream",
     "text": [
      "Completed processing F:\\UCF_Crimes\\UCF_Crimes\\Videos\\Arrest\\Arrest044_x264.mp4\n"
     ]
    },
    {
     "name": "stderr",
     "output_type": "stream",
     "text": [
      " 90%|█████████ | 45/50 [03:44<00:30,  6.07s/it]"
     ]
    },
    {
     "name": "stdout",
     "output_type": "stream",
     "text": [
      "Completed processing F:\\UCF_Crimes\\UCF_Crimes\\Videos\\Arrest\\Arrest046_x264.mp4\n"
     ]
    },
    {
     "name": "stderr",
     "output_type": "stream",
     "text": [
      " 92%|█████████▏| 46/50 [04:55<01:42, 25.58s/it]"
     ]
    },
    {
     "name": "stdout",
     "output_type": "stream",
     "text": [
      "Completed processing F:\\UCF_Crimes\\UCF_Crimes\\Videos\\Arrest\\Arrest047_x264.mp4\n"
     ]
    },
    {
     "name": "stderr",
     "output_type": "stream",
     "text": [
      " 94%|█████████▍| 47/50 [05:00<00:57, 19.30s/it]"
     ]
    },
    {
     "name": "stdout",
     "output_type": "stream",
     "text": [
      "Completed processing F:\\UCF_Crimes\\UCF_Crimes\\Videos\\Arrest\\Arrest048_x264.mp4\n"
     ]
    },
    {
     "name": "stderr",
     "output_type": "stream",
     "text": [
      " 96%|█████████▌| 48/50 [05:14<00:35, 17.84s/it]"
     ]
    },
    {
     "name": "stdout",
     "output_type": "stream",
     "text": [
      "Completed processing F:\\UCF_Crimes\\UCF_Crimes\\Videos\\Arrest\\Arrest049_x264.mp4\n"
     ]
    },
    {
     "name": "stderr",
     "output_type": "stream",
     "text": [
      " 98%|█████████▊| 49/50 [05:23<00:15, 15.13s/it]"
     ]
    },
    {
     "name": "stdout",
     "output_type": "stream",
     "text": [
      "Completed processing F:\\UCF_Crimes\\UCF_Crimes\\Videos\\Arrest\\Arrest050_x264.mp4\n"
     ]
    },
    {
     "name": "stderr",
     "output_type": "stream",
     "text": [
      "100%|██████████| 50/50 [05:34<00:00,  6.68s/it]\n"
     ]
    },
    {
     "name": "stdout",
     "output_type": "stream",
     "text": [
      "Completed processing F:\\UCF_Crimes\\UCF_Crimes\\Videos\\Arrest\\Arrest051_x264.mp4\n"
     ]
    },
    {
     "name": "stderr",
     "output_type": "stream",
     "text": [
      "  2%|▏         | 1/50 [00:04<03:57,  4.84s/it]"
     ]
    },
    {
     "name": "stdout",
     "output_type": "stream",
     "text": [
      "Completed processing F:\\UCF_Crimes\\UCF_Crimes\\Videos\\Arson\\Arson001_x264.mp4\n"
     ]
    },
    {
     "name": "stderr",
     "output_type": "stream",
     "text": [
      "  4%|▍         | 2/50 [00:09<03:51,  4.81s/it]"
     ]
    },
    {
     "name": "stdout",
     "output_type": "stream",
     "text": [
      "Completed processing F:\\UCF_Crimes\\UCF_Crimes\\Videos\\Arson\\Arson002_x264.mp4\n"
     ]
    },
    {
     "name": "stderr",
     "output_type": "stream",
     "text": [
      "  6%|▌         | 3/50 [00:13<03:23,  4.33s/it]"
     ]
    },
    {
     "name": "stdout",
     "output_type": "stream",
     "text": [
      "Completed processing F:\\UCF_Crimes\\UCF_Crimes\\Videos\\Arson\\Arson003_x264.mp4\n"
     ]
    },
    {
     "name": "stderr",
     "output_type": "stream",
     "text": [
      "  8%|▊         | 4/50 [00:14<02:24,  3.15s/it]"
     ]
    },
    {
     "name": "stdout",
     "output_type": "stream",
     "text": [
      "Completed processing F:\\UCF_Crimes\\UCF_Crimes\\Videos\\Arson\\Arson005_x264.mp4\n"
     ]
    },
    {
     "name": "stderr",
     "output_type": "stream",
     "text": [
      " 10%|█         | 5/50 [00:17<02:10,  2.89s/it]"
     ]
    },
    {
     "name": "stdout",
     "output_type": "stream",
     "text": [
      "Completed processing F:\\UCF_Crimes\\UCF_Crimes\\Videos\\Arson\\Arson006_x264.mp4\n"
     ]
    },
    {
     "name": "stderr",
     "output_type": "stream",
     "text": [
      " 12%|█▏        | 6/50 [00:23<03:04,  4.18s/it]"
     ]
    },
    {
     "name": "stdout",
     "output_type": "stream",
     "text": [
      "Completed processing F:\\UCF_Crimes\\UCF_Crimes\\Videos\\Arson\\Arson007_x264.mp4\n"
     ]
    },
    {
     "name": "stderr",
     "output_type": "stream",
     "text": [
      " 14%|█▍        | 7/50 [00:24<02:16,  3.17s/it]"
     ]
    },
    {
     "name": "stdout",
     "output_type": "stream",
     "text": [
      "Completed processing F:\\UCF_Crimes\\UCF_Crimes\\Videos\\Arson\\Arson008_x264.mp4\n"
     ]
    },
    {
     "name": "stderr",
     "output_type": "stream",
     "text": [
      " 16%|█▌        | 8/50 [00:25<01:43,  2.46s/it]"
     ]
    },
    {
     "name": "stdout",
     "output_type": "stream",
     "text": [
      "Completed processing F:\\UCF_Crimes\\UCF_Crimes\\Videos\\Arson\\Arson009_x264.mp4\n"
     ]
    },
    {
     "name": "stderr",
     "output_type": "stream",
     "text": [
      " 18%|█▊        | 9/50 [00:28<01:43,  2.53s/it]"
     ]
    },
    {
     "name": "stdout",
     "output_type": "stream",
     "text": [
      "Completed processing F:\\UCF_Crimes\\UCF_Crimes\\Videos\\Arson\\Arson010_x264.mp4\n"
     ]
    },
    {
     "name": "stderr",
     "output_type": "stream",
     "text": [
      " 20%|██        | 10/50 [00:29<01:26,  2.15s/it]"
     ]
    },
    {
     "name": "stdout",
     "output_type": "stream",
     "text": [
      "Completed processing F:\\UCF_Crimes\\UCF_Crimes\\Videos\\Arson\\Arson011_x264.mp4\n"
     ]
    },
    {
     "name": "stderr",
     "output_type": "stream",
     "text": [
      " 22%|██▏       | 11/50 [00:30<01:09,  1.78s/it]"
     ]
    },
    {
     "name": "stdout",
     "output_type": "stream",
     "text": [
      "Completed processing F:\\UCF_Crimes\\UCF_Crimes\\Videos\\Arson\\Arson012_x264.mp4\n"
     ]
    },
    {
     "name": "stderr",
     "output_type": "stream",
     "text": [
      " 24%|██▍       | 12/50 [00:36<01:51,  2.94s/it]"
     ]
    },
    {
     "name": "stdout",
     "output_type": "stream",
     "text": [
      "Completed processing F:\\UCF_Crimes\\UCF_Crimes\\Videos\\Arson\\Arson013_x264.mp4\n"
     ]
    },
    {
     "name": "stderr",
     "output_type": "stream",
     "text": [
      " 26%|██▌       | 13/50 [00:38<01:43,  2.78s/it]"
     ]
    },
    {
     "name": "stdout",
     "output_type": "stream",
     "text": [
      "Completed processing F:\\UCF_Crimes\\UCF_Crimes\\Videos\\Arson\\Arson014_x264.mp4\n"
     ]
    },
    {
     "name": "stderr",
     "output_type": "stream",
     "text": [
      " 28%|██▊       | 14/50 [00:49<03:04,  5.12s/it]"
     ]
    },
    {
     "name": "stdout",
     "output_type": "stream",
     "text": [
      "Completed processing F:\\UCF_Crimes\\UCF_Crimes\\Videos\\Arson\\Arson015_x264.mp4\n"
     ]
    },
    {
     "name": "stderr",
     "output_type": "stream",
     "text": [
      " 30%|███       | 15/50 [00:51<02:23,  4.09s/it]"
     ]
    },
    {
     "name": "stdout",
     "output_type": "stream",
     "text": [
      "Completed processing F:\\UCF_Crimes\\UCF_Crimes\\Videos\\Arson\\Arson016_x264.mp4\n"
     ]
    },
    {
     "name": "stderr",
     "output_type": "stream",
     "text": [
      " 32%|███▏      | 16/50 [00:52<01:48,  3.19s/it]"
     ]
    },
    {
     "name": "stdout",
     "output_type": "stream",
     "text": [
      "Completed processing F:\\UCF_Crimes\\UCF_Crimes\\Videos\\Arson\\Arson017_x264.mp4\n"
     ]
    },
    {
     "name": "stderr",
     "output_type": "stream",
     "text": [
      " 34%|███▍      | 17/50 [00:53<01:22,  2.50s/it]"
     ]
    },
    {
     "name": "stdout",
     "output_type": "stream",
     "text": [
      "Completed processing F:\\UCF_Crimes\\UCF_Crimes\\Videos\\Arson\\Arson018_x264.mp4\n"
     ]
    },
    {
     "name": "stderr",
     "output_type": "stream",
     "text": [
      " 36%|███▌      | 18/50 [02:47<19:16, 36.14s/it]"
     ]
    },
    {
     "name": "stdout",
     "output_type": "stream",
     "text": [
      "Completed processing F:\\UCF_Crimes\\UCF_Crimes\\Videos\\Arson\\Arson019_x264.mp4\n"
     ]
    },
    {
     "name": "stderr",
     "output_type": "stream",
     "text": [
      " 38%|███▊      | 19/50 [02:50<13:30, 26.13s/it]"
     ]
    },
    {
     "name": "stdout",
     "output_type": "stream",
     "text": [
      "Completed processing F:\\UCF_Crimes\\UCF_Crimes\\Videos\\Arson\\Arson020_x264.mp4\n"
     ]
    },
    {
     "name": "stderr",
     "output_type": "stream",
     "text": [
      " 40%|████      | 20/50 [02:51<09:21, 18.72s/it]"
     ]
    },
    {
     "name": "stdout",
     "output_type": "stream",
     "text": [
      "Completed processing F:\\UCF_Crimes\\UCF_Crimes\\Videos\\Arson\\Arson021_x264.mp4\n"
     ]
    },
    {
     "name": "stderr",
     "output_type": "stream",
     "text": [
      " 42%|████▏     | 21/50 [03:00<07:32, 15.59s/it]"
     ]
    },
    {
     "name": "stdout",
     "output_type": "stream",
     "text": [
      "Completed processing F:\\UCF_Crimes\\UCF_Crimes\\Videos\\Arson\\Arson022_x264.mp4\n"
     ]
    },
    {
     "name": "stderr",
     "output_type": "stream",
     "text": [
      " 44%|████▍     | 22/50 [03:01<05:17, 11.33s/it]"
     ]
    },
    {
     "name": "stdout",
     "output_type": "stream",
     "text": [
      "Completed processing F:\\UCF_Crimes\\UCF_Crimes\\Videos\\Arson\\Arson023_x264.mp4\n"
     ]
    },
    {
     "name": "stderr",
     "output_type": "stream",
     "text": [
      " 46%|████▌     | 23/50 [03:04<03:59,  8.87s/it]"
     ]
    },
    {
     "name": "stdout",
     "output_type": "stream",
     "text": [
      "Completed processing F:\\UCF_Crimes\\UCF_Crimes\\Videos\\Arson\\Arson024_x264.mp4\n"
     ]
    },
    {
     "name": "stderr",
     "output_type": "stream",
     "text": [
      " 48%|████▊     | 24/50 [03:09<03:18,  7.64s/it]"
     ]
    },
    {
     "name": "stdout",
     "output_type": "stream",
     "text": [
      "Completed processing F:\\UCF_Crimes\\UCF_Crimes\\Videos\\Arson\\Arson025_x264.mp4\n"
     ]
    },
    {
     "name": "stderr",
     "output_type": "stream",
     "text": [
      " 50%|█████     | 25/50 [03:30<04:52, 11.69s/it]"
     ]
    },
    {
     "name": "stdout",
     "output_type": "stream",
     "text": [
      "Completed processing F:\\UCF_Crimes\\UCF_Crimes\\Videos\\Arson\\Arson026_x264.mp4\n"
     ]
    },
    {
     "name": "stderr",
     "output_type": "stream",
     "text": [
      " 52%|█████▏    | 26/50 [03:32<03:33,  8.90s/it]"
     ]
    },
    {
     "name": "stdout",
     "output_type": "stream",
     "text": [
      "Completed processing F:\\UCF_Crimes\\UCF_Crimes\\Videos\\Arson\\Arson027_x264.mp4\n"
     ]
    },
    {
     "name": "stderr",
     "output_type": "stream",
     "text": [
      " 54%|█████▍    | 27/50 [03:35<02:39,  6.91s/it]"
     ]
    },
    {
     "name": "stdout",
     "output_type": "stream",
     "text": [
      "Completed processing F:\\UCF_Crimes\\UCF_Crimes\\Videos\\Arson\\Arson028_x264.mp4\n"
     ]
    },
    {
     "name": "stderr",
     "output_type": "stream",
     "text": [
      " 56%|█████▌    | 28/50 [03:36<01:57,  5.32s/it]"
     ]
    },
    {
     "name": "stdout",
     "output_type": "stream",
     "text": [
      "Completed processing F:\\UCF_Crimes\\UCF_Crimes\\Videos\\Arson\\Arson029_x264.mp4\n"
     ]
    },
    {
     "name": "stderr",
     "output_type": "stream",
     "text": [
      " 58%|█████▊    | 29/50 [03:40<01:40,  4.79s/it]"
     ]
    },
    {
     "name": "stdout",
     "output_type": "stream",
     "text": [
      "Completed processing F:\\UCF_Crimes\\UCF_Crimes\\Videos\\Arson\\Arson030_x264.mp4\n"
     ]
    },
    {
     "name": "stderr",
     "output_type": "stream",
     "text": [
      " 60%|██████    | 30/50 [03:42<01:23,  4.15s/it]"
     ]
    },
    {
     "name": "stdout",
     "output_type": "stream",
     "text": [
      "Completed processing F:\\UCF_Crimes\\UCF_Crimes\\Videos\\Arson\\Arson031_x264.mp4\n"
     ]
    },
    {
     "name": "stderr",
     "output_type": "stream",
     "text": [
      " 62%|██████▏   | 31/50 [03:45<01:12,  3.80s/it]"
     ]
    },
    {
     "name": "stdout",
     "output_type": "stream",
     "text": [
      "Completed processing F:\\UCF_Crimes\\UCF_Crimes\\Videos\\Arson\\Arson032_x264.mp4\n"
     ]
    },
    {
     "name": "stderr",
     "output_type": "stream",
     "text": [
      " 64%|██████▍   | 32/50 [03:48<00:59,  3.29s/it]"
     ]
    },
    {
     "name": "stdout",
     "output_type": "stream",
     "text": [
      "Completed processing F:\\UCF_Crimes\\UCF_Crimes\\Videos\\Arson\\Arson034_x264.mp4\n"
     ]
    },
    {
     "name": "stderr",
     "output_type": "stream",
     "text": [
      " 66%|██████▌   | 33/50 [03:49<00:47,  2.81s/it]"
     ]
    },
    {
     "name": "stdout",
     "output_type": "stream",
     "text": [
      "Completed processing F:\\UCF_Crimes\\UCF_Crimes\\Videos\\Arson\\Arson035_x264.mp4\n"
     ]
    },
    {
     "name": "stderr",
     "output_type": "stream",
     "text": [
      " 68%|██████▊   | 34/50 [03:51<00:39,  2.48s/it]"
     ]
    },
    {
     "name": "stdout",
     "output_type": "stream",
     "text": [
      "Completed processing F:\\UCF_Crimes\\UCF_Crimes\\Videos\\Arson\\Arson036_x264.mp4\n"
     ]
    },
    {
     "name": "stderr",
     "output_type": "stream",
     "text": [
      " 70%|███████   | 35/50 [03:52<00:31,  2.08s/it]"
     ]
    },
    {
     "name": "stdout",
     "output_type": "stream",
     "text": [
      "Completed processing F:\\UCF_Crimes\\UCF_Crimes\\Videos\\Arson\\Arson037_x264.mp4\n"
     ]
    },
    {
     "name": "stderr",
     "output_type": "stream",
     "text": [
      " 72%|███████▏  | 36/50 [03:53<00:24,  1.73s/it]"
     ]
    },
    {
     "name": "stdout",
     "output_type": "stream",
     "text": [
      "Completed processing F:\\UCF_Crimes\\UCF_Crimes\\Videos\\Arson\\Arson038_x264.mp4\n"
     ]
    },
    {
     "name": "stderr",
     "output_type": "stream",
     "text": [
      " 74%|███████▍  | 37/50 [03:57<00:30,  2.32s/it]"
     ]
    },
    {
     "name": "stdout",
     "output_type": "stream",
     "text": [
      "Completed processing F:\\UCF_Crimes\\UCF_Crimes\\Videos\\Arson\\Arson039_x264.mp4\n"
     ]
    },
    {
     "name": "stderr",
     "output_type": "stream",
     "text": [
      " 76%|███████▌  | 38/50 [03:59<00:29,  2.45s/it]"
     ]
    },
    {
     "name": "stdout",
     "output_type": "stream",
     "text": [
      "Completed processing F:\\UCF_Crimes\\UCF_Crimes\\Videos\\Arson\\Arson040_x264.mp4\n"
     ]
    },
    {
     "name": "stderr",
     "output_type": "stream",
     "text": [
      " 78%|███████▊  | 39/50 [04:03<00:30,  2.77s/it]"
     ]
    },
    {
     "name": "stdout",
     "output_type": "stream",
     "text": [
      "Completed processing F:\\UCF_Crimes\\UCF_Crimes\\Videos\\Arson\\Arson041_x264.mp4\n"
     ]
    },
    {
     "name": "stderr",
     "output_type": "stream",
     "text": [
      " 80%|████████  | 40/50 [04:08<00:34,  3.49s/it]"
     ]
    },
    {
     "name": "stdout",
     "output_type": "stream",
     "text": [
      "Completed processing F:\\UCF_Crimes\\UCF_Crimes\\Videos\\Arson\\Arson042_x264.mp4\n"
     ]
    },
    {
     "name": "stderr",
     "output_type": "stream",
     "text": [
      " 82%|████████▏ | 41/50 [04:10<00:25,  2.88s/it]"
     ]
    },
    {
     "name": "stdout",
     "output_type": "stream",
     "text": [
      "Completed processing F:\\UCF_Crimes\\UCF_Crimes\\Videos\\Arson\\Arson044_x264.mp4\n"
     ]
    },
    {
     "name": "stderr",
     "output_type": "stream",
     "text": [
      " 84%|████████▍ | 42/50 [04:14<00:25,  3.20s/it]"
     ]
    },
    {
     "name": "stdout",
     "output_type": "stream",
     "text": [
      "Completed processing F:\\UCF_Crimes\\UCF_Crimes\\Videos\\Arson\\Arson045_x264.mp4\n"
     ]
    },
    {
     "name": "stderr",
     "output_type": "stream",
     "text": [
      " 86%|████████▌ | 43/50 [04:16<00:19,  2.83s/it]"
     ]
    },
    {
     "name": "stdout",
     "output_type": "stream",
     "text": [
      "Completed processing F:\\UCF_Crimes\\UCF_Crimes\\Videos\\Arson\\Arson046_x264.mp4\n"
     ]
    },
    {
     "name": "stderr",
     "output_type": "stream",
     "text": [
      " 88%|████████▊ | 44/50 [04:17<00:15,  2.57s/it]"
     ]
    },
    {
     "name": "stdout",
     "output_type": "stream",
     "text": [
      "Completed processing F:\\UCF_Crimes\\UCF_Crimes\\Videos\\Arson\\Arson047_x264.mp4\n"
     ]
    },
    {
     "name": "stderr",
     "output_type": "stream",
     "text": [
      " 90%|█████████ | 45/50 [04:18<00:09,  1.96s/it]"
     ]
    },
    {
     "name": "stdout",
     "output_type": "stream",
     "text": [
      "Completed processing F:\\UCF_Crimes\\UCF_Crimes\\Videos\\Arson\\Arson048_x264.mp4\n"
     ]
    },
    {
     "name": "stderr",
     "output_type": "stream",
     "text": [
      " 92%|█████████▏| 46/50 [04:19<00:06,  1.52s/it]"
     ]
    },
    {
     "name": "stdout",
     "output_type": "stream",
     "text": [
      "Completed processing F:\\UCF_Crimes\\UCF_Crimes\\Videos\\Arson\\Arson049_x264.mp4\n"
     ]
    },
    {
     "name": "stderr",
     "output_type": "stream",
     "text": [
      " 94%|█████████▍| 47/50 [04:20<00:04,  1.53s/it]"
     ]
    },
    {
     "name": "stdout",
     "output_type": "stream",
     "text": [
      "Completed processing F:\\UCF_Crimes\\UCF_Crimes\\Videos\\Arson\\Arson050_x264.mp4\n"
     ]
    },
    {
     "name": "stderr",
     "output_type": "stream",
     "text": [
      " 96%|█████████▌| 48/50 [04:21<00:02,  1.43s/it]"
     ]
    },
    {
     "name": "stdout",
     "output_type": "stream",
     "text": [
      "Completed processing F:\\UCF_Crimes\\UCF_Crimes\\Videos\\Arson\\Arson051_x264.mp4\n"
     ]
    },
    {
     "name": "stderr",
     "output_type": "stream",
     "text": [
      " 98%|█████████▊| 49/50 [04:25<00:02,  2.23s/it]"
     ]
    },
    {
     "name": "stdout",
     "output_type": "stream",
     "text": [
      "Completed processing F:\\UCF_Crimes\\UCF_Crimes\\Videos\\Arson\\Arson052_x264.mp4\n"
     ]
    },
    {
     "name": "stderr",
     "output_type": "stream",
     "text": [
      "100%|██████████| 50/50 [04:32<00:00,  5.44s/it]\n"
     ]
    },
    {
     "name": "stdout",
     "output_type": "stream",
     "text": [
      "Completed processing F:\\UCF_Crimes\\UCF_Crimes\\Videos\\Arson\\Arson053_x264.mp4\n"
     ]
    },
    {
     "name": "stderr",
     "output_type": "stream",
     "text": [
      "  2%|▏         | 1/50 [00:02<01:55,  2.36s/it]"
     ]
    },
    {
     "name": "stdout",
     "output_type": "stream",
     "text": [
      "Completed processing F:\\UCF_Crimes\\UCF_Crimes\\Videos\\Assault\\Assault001_x264.mp4\n"
     ]
    },
    {
     "name": "stderr",
     "output_type": "stream",
     "text": [
      "  4%|▍         | 2/50 [00:10<04:46,  5.96s/it]"
     ]
    },
    {
     "name": "stdout",
     "output_type": "stream",
     "text": [
      "Completed processing F:\\UCF_Crimes\\UCF_Crimes\\Videos\\Assault\\Assault002_x264.mp4\n"
     ]
    },
    {
     "name": "stderr",
     "output_type": "stream",
     "text": [
      "  6%|▌         | 3/50 [00:14<03:58,  5.07s/it]"
     ]
    },
    {
     "name": "stdout",
     "output_type": "stream",
     "text": [
      "Completed processing F:\\UCF_Crimes\\UCF_Crimes\\Videos\\Assault\\Assault003_x264.mp4\n"
     ]
    },
    {
     "name": "stderr",
     "output_type": "stream",
     "text": [
      "  8%|▊         | 4/50 [00:18<03:24,  4.44s/it]"
     ]
    },
    {
     "name": "stdout",
     "output_type": "stream",
     "text": [
      "Completed processing F:\\UCF_Crimes\\UCF_Crimes\\Videos\\Assault\\Assault004_x264.mp4\n"
     ]
    },
    {
     "name": "stderr",
     "output_type": "stream",
     "text": [
      " 10%|█         | 5/50 [00:19<02:26,  3.26s/it]"
     ]
    },
    {
     "name": "stdout",
     "output_type": "stream",
     "text": [
      "Completed processing F:\\UCF_Crimes\\UCF_Crimes\\Videos\\Assault\\Assault005_x264.mp4\n"
     ]
    },
    {
     "name": "stderr",
     "output_type": "stream",
     "text": [
      " 12%|█▏        | 6/50 [00:28<03:51,  5.26s/it]"
     ]
    },
    {
     "name": "stdout",
     "output_type": "stream",
     "text": [
      "Completed processing F:\\UCF_Crimes\\UCF_Crimes\\Videos\\Assault\\Assault006_x264.mp4\n"
     ]
    },
    {
     "name": "stderr",
     "output_type": "stream",
     "text": [
      " 14%|█▍        | 7/50 [00:30<03:03,  4.26s/it]"
     ]
    },
    {
     "name": "stdout",
     "output_type": "stream",
     "text": [
      "Completed processing F:\\UCF_Crimes\\UCF_Crimes\\Videos\\Assault\\Assault007_x264.mp4\n"
     ]
    },
    {
     "name": "stderr",
     "output_type": "stream",
     "text": [
      " 16%|█▌        | 8/50 [00:38<03:45,  5.38s/it]"
     ]
    },
    {
     "name": "stdout",
     "output_type": "stream",
     "text": [
      "Completed processing F:\\UCF_Crimes\\UCF_Crimes\\Videos\\Assault\\Assault008_x264.mp4\n"
     ]
    },
    {
     "name": "stderr",
     "output_type": "stream",
     "text": [
      " 18%|█▊        | 9/50 [00:42<03:22,  4.94s/it]"
     ]
    },
    {
     "name": "stdout",
     "output_type": "stream",
     "text": [
      "Completed processing F:\\UCF_Crimes\\UCF_Crimes\\Videos\\Assault\\Assault009_x264.mp4\n"
     ]
    },
    {
     "name": "stderr",
     "output_type": "stream",
     "text": [
      " 20%|██        | 10/50 [00:57<05:16,  7.91s/it]"
     ]
    },
    {
     "name": "stdout",
     "output_type": "stream",
     "text": [
      "Completed processing F:\\UCF_Crimes\\UCF_Crimes\\Videos\\Assault\\Assault010_x264.mp4\n"
     ]
    },
    {
     "name": "stderr",
     "output_type": "stream",
     "text": [
      " 22%|██▏       | 11/50 [00:59<04:05,  6.30s/it]"
     ]
    },
    {
     "name": "stdout",
     "output_type": "stream",
     "text": [
      "Completed processing F:\\UCF_Crimes\\UCF_Crimes\\Videos\\Assault\\Assault011_x264.mp4\n"
     ]
    },
    {
     "name": "stderr",
     "output_type": "stream",
     "text": [
      " 24%|██▍       | 12/50 [01:00<02:54,  4.60s/it]"
     ]
    },
    {
     "name": "stdout",
     "output_type": "stream",
     "text": [
      "Completed processing F:\\UCF_Crimes\\UCF_Crimes\\Videos\\Assault\\Assault012_x264.mp4\n"
     ]
    },
    {
     "name": "stderr",
     "output_type": "stream",
     "text": [
      " 26%|██▌       | 13/50 [01:02<02:21,  3.83s/it]"
     ]
    },
    {
     "name": "stdout",
     "output_type": "stream",
     "text": [
      "Completed processing F:\\UCF_Crimes\\UCF_Crimes\\Videos\\Assault\\Assault013_x264.mp4\n"
     ]
    },
    {
     "name": "stderr",
     "output_type": "stream",
     "text": [
      " 28%|██▊       | 14/50 [01:04<01:53,  3.16s/it]"
     ]
    },
    {
     "name": "stdout",
     "output_type": "stream",
     "text": [
      "Completed processing F:\\UCF_Crimes\\UCF_Crimes\\Videos\\Assault\\Assault014_x264.mp4\n"
     ]
    },
    {
     "name": "stderr",
     "output_type": "stream",
     "text": [
      " 30%|███       | 15/50 [01:05<01:36,  2.75s/it]"
     ]
    },
    {
     "name": "stdout",
     "output_type": "stream",
     "text": [
      "Completed processing F:\\UCF_Crimes\\UCF_Crimes\\Videos\\Assault\\Assault015_x264.mp4\n"
     ]
    },
    {
     "name": "stderr",
     "output_type": "stream",
     "text": [
      " 32%|███▏      | 16/50 [01:11<02:06,  3.73s/it]"
     ]
    },
    {
     "name": "stdout",
     "output_type": "stream",
     "text": [
      "Completed processing F:\\UCF_Crimes\\UCF_Crimes\\Videos\\Assault\\Assault016_x264.mp4\n"
     ]
    },
    {
     "name": "stderr",
     "output_type": "stream",
     "text": [
      " 34%|███▍      | 17/50 [01:15<01:57,  3.57s/it]"
     ]
    },
    {
     "name": "stdout",
     "output_type": "stream",
     "text": [
      "Completed processing F:\\UCF_Crimes\\UCF_Crimes\\Videos\\Assault\\Assault017_x264.mp4\n"
     ]
    },
    {
     "name": "stderr",
     "output_type": "stream",
     "text": [
      " 36%|███▌      | 18/50 [01:15<01:24,  2.66s/it]"
     ]
    },
    {
     "name": "stdout",
     "output_type": "stream",
     "text": [
      "Completed processing F:\\UCF_Crimes\\UCF_Crimes\\Videos\\Assault\\Assault018_x264.mp4\n"
     ]
    },
    {
     "name": "stderr",
     "output_type": "stream",
     "text": [
      " 38%|███▊      | 19/50 [01:18<01:19,  2.55s/it]"
     ]
    },
    {
     "name": "stdout",
     "output_type": "stream",
     "text": [
      "Completed processing F:\\UCF_Crimes\\UCF_Crimes\\Videos\\Assault\\Assault019_x264.mp4\n"
     ]
    },
    {
     "name": "stderr",
     "output_type": "stream",
     "text": [
      " 40%|████      | 20/50 [01:18<00:59,  1.97s/it]"
     ]
    },
    {
     "name": "stdout",
     "output_type": "stream",
     "text": [
      "Completed processing F:\\UCF_Crimes\\UCF_Crimes\\Videos\\Assault\\Assault020_x264.mp4\n"
     ]
    },
    {
     "name": "stderr",
     "output_type": "stream",
     "text": [
      " 42%|████▏     | 21/50 [01:20<01:00,  2.07s/it]"
     ]
    },
    {
     "name": "stdout",
     "output_type": "stream",
     "text": [
      "Completed processing F:\\UCF_Crimes\\UCF_Crimes\\Videos\\Assault\\Assault022_x264.mp4\n"
     ]
    },
    {
     "name": "stderr",
     "output_type": "stream",
     "text": [
      " 44%|████▍     | 22/50 [01:22<00:50,  1.80s/it]"
     ]
    },
    {
     "name": "stdout",
     "output_type": "stream",
     "text": [
      "Completed processing F:\\UCF_Crimes\\UCF_Crimes\\Videos\\Assault\\Assault023_x264.mp4\n"
     ]
    },
    {
     "name": "stderr",
     "output_type": "stream",
     "text": [
      " 46%|████▌     | 23/50 [01:22<00:38,  1.41s/it]"
     ]
    },
    {
     "name": "stdout",
     "output_type": "stream",
     "text": [
      "Completed processing F:\\UCF_Crimes\\UCF_Crimes\\Videos\\Assault\\Assault024_x264.mp4\n"
     ]
    },
    {
     "name": "stderr",
     "output_type": "stream",
     "text": [
      " 48%|████▊     | 24/50 [01:24<00:37,  1.44s/it]"
     ]
    },
    {
     "name": "stdout",
     "output_type": "stream",
     "text": [
      "Completed processing F:\\UCF_Crimes\\UCF_Crimes\\Videos\\Assault\\Assault025_x264.mp4\n"
     ]
    },
    {
     "name": "stderr",
     "output_type": "stream",
     "text": [
      " 50%|█████     | 25/50 [01:24<00:31,  1.26s/it]"
     ]
    },
    {
     "name": "stdout",
     "output_type": "stream",
     "text": [
      "Completed processing F:\\UCF_Crimes\\UCF_Crimes\\Videos\\Assault\\Assault026_x264.mp4\n"
     ]
    },
    {
     "name": "stderr",
     "output_type": "stream",
     "text": [
      " 52%|█████▏    | 26/50 [01:31<01:09,  2.91s/it]"
     ]
    },
    {
     "name": "stdout",
     "output_type": "stream",
     "text": [
      "Completed processing F:\\UCF_Crimes\\UCF_Crimes\\Videos\\Assault\\Assault027_x264.mp4\n"
     ]
    },
    {
     "name": "stderr",
     "output_type": "stream",
     "text": [
      " 54%|█████▍    | 27/50 [01:34<01:06,  2.90s/it]"
     ]
    },
    {
     "name": "stdout",
     "output_type": "stream",
     "text": [
      "Completed processing F:\\UCF_Crimes\\UCF_Crimes\\Videos\\Assault\\Assault028_x264.mp4\n"
     ]
    },
    {
     "name": "stderr",
     "output_type": "stream",
     "text": [
      " 56%|█████▌    | 28/50 [01:35<00:49,  2.24s/it]"
     ]
    },
    {
     "name": "stdout",
     "output_type": "stream",
     "text": [
      "Completed processing F:\\UCF_Crimes\\UCF_Crimes\\Videos\\Assault\\Assault029_x264.mp4\n"
     ]
    },
    {
     "name": "stderr",
     "output_type": "stream",
     "text": [
      " 58%|█████▊    | 29/50 [01:37<00:43,  2.08s/it]"
     ]
    },
    {
     "name": "stdout",
     "output_type": "stream",
     "text": [
      "Completed processing F:\\UCF_Crimes\\UCF_Crimes\\Videos\\Assault\\Assault030_x264.mp4\n"
     ]
    },
    {
     "name": "stderr",
     "output_type": "stream",
     "text": [
      " 60%|██████    | 30/50 [01:37<00:34,  1.74s/it]"
     ]
    },
    {
     "name": "stdout",
     "output_type": "stream",
     "text": [
      "Completed processing F:\\UCF_Crimes\\UCF_Crimes\\Videos\\Assault\\Assault031_x264.mp4\n"
     ]
    },
    {
     "name": "stderr",
     "output_type": "stream",
     "text": [
      " 62%|██████▏   | 31/50 [01:38<00:26,  1.41s/it]"
     ]
    },
    {
     "name": "stdout",
     "output_type": "stream",
     "text": [
      "Completed processing F:\\UCF_Crimes\\UCF_Crimes\\Videos\\Assault\\Assault032_x264.mp4\n"
     ]
    },
    {
     "name": "stderr",
     "output_type": "stream",
     "text": [
      " 64%|██████▍   | 32/50 [01:40<00:25,  1.42s/it]"
     ]
    },
    {
     "name": "stdout",
     "output_type": "stream",
     "text": [
      "Completed processing F:\\UCF_Crimes\\UCF_Crimes\\Videos\\Assault\\Assault033_x264.mp4\n"
     ]
    },
    {
     "name": "stderr",
     "output_type": "stream",
     "text": [
      " 66%|██████▌   | 33/50 [01:42<00:27,  1.64s/it]"
     ]
    },
    {
     "name": "stdout",
     "output_type": "stream",
     "text": [
      "Completed processing F:\\UCF_Crimes\\UCF_Crimes\\Videos\\Assault\\Assault034_x264.mp4\n"
     ]
    },
    {
     "name": "stderr",
     "output_type": "stream",
     "text": [
      " 68%|██████▊   | 34/50 [01:43<00:22,  1.42s/it]"
     ]
    },
    {
     "name": "stdout",
     "output_type": "stream",
     "text": [
      "Completed processing F:\\UCF_Crimes\\UCF_Crimes\\Videos\\Assault\\Assault035_x264.mp4\n"
     ]
    },
    {
     "name": "stderr",
     "output_type": "stream",
     "text": [
      " 70%|███████   | 35/50 [01:43<00:18,  1.24s/it]"
     ]
    },
    {
     "name": "stdout",
     "output_type": "stream",
     "text": [
      "Completed processing F:\\UCF_Crimes\\UCF_Crimes\\Videos\\Assault\\Assault036_x264.mp4\n"
     ]
    },
    {
     "name": "stderr",
     "output_type": "stream",
     "text": [
      " 72%|███████▏  | 36/50 [01:47<00:28,  2.01s/it]"
     ]
    },
    {
     "name": "stdout",
     "output_type": "stream",
     "text": [
      "Completed processing F:\\UCF_Crimes\\UCF_Crimes\\Videos\\Assault\\Assault037_x264.mp4\n"
     ]
    },
    {
     "name": "stderr",
     "output_type": "stream",
     "text": [
      " 74%|███████▍  | 37/50 [01:47<00:19,  1.48s/it]"
     ]
    },
    {
     "name": "stdout",
     "output_type": "stream",
     "text": [
      "Completed processing F:\\UCF_Crimes\\UCF_Crimes\\Videos\\Assault\\Assault038_x264.mp4\n"
     ]
    },
    {
     "name": "stderr",
     "output_type": "stream",
     "text": [
      " 76%|███████▌  | 38/50 [01:48<00:14,  1.19s/it]"
     ]
    },
    {
     "name": "stdout",
     "output_type": "stream",
     "text": [
      "Completed processing F:\\UCF_Crimes\\UCF_Crimes\\Videos\\Assault\\Assault039_x264.mp4\n"
     ]
    },
    {
     "name": "stderr",
     "output_type": "stream",
     "text": [
      " 78%|███████▊  | 39/50 [01:51<00:20,  1.82s/it]"
     ]
    },
    {
     "name": "stdout",
     "output_type": "stream",
     "text": [
      "Completed processing F:\\UCF_Crimes\\UCF_Crimes\\Videos\\Assault\\Assault040_x264.mp4\n"
     ]
    },
    {
     "name": "stderr",
     "output_type": "stream",
     "text": [
      " 80%|████████  | 40/50 [01:56<00:27,  2.76s/it]"
     ]
    },
    {
     "name": "stdout",
     "output_type": "stream",
     "text": [
      "Completed processing F:\\UCF_Crimes\\UCF_Crimes\\Videos\\Assault\\Assault041_x264.mp4\n"
     ]
    },
    {
     "name": "stderr",
     "output_type": "stream",
     "text": [
      " 82%|████████▏ | 41/50 [02:05<00:40,  4.48s/it]"
     ]
    },
    {
     "name": "stdout",
     "output_type": "stream",
     "text": [
      "Completed processing F:\\UCF_Crimes\\UCF_Crimes\\Videos\\Assault\\Assault042_x264.mp4\n"
     ]
    },
    {
     "name": "stderr",
     "output_type": "stream",
     "text": [
      " 84%|████████▍ | 42/50 [02:06<00:27,  3.39s/it]"
     ]
    },
    {
     "name": "stdout",
     "output_type": "stream",
     "text": [
      "Completed processing F:\\UCF_Crimes\\UCF_Crimes\\Videos\\Assault\\Assault044_x264.mp4\n"
     ]
    },
    {
     "name": "stderr",
     "output_type": "stream",
     "text": [
      " 86%|████████▌ | 43/50 [02:07<00:18,  2.70s/it]"
     ]
    },
    {
     "name": "stdout",
     "output_type": "stream",
     "text": [
      "Completed processing F:\\UCF_Crimes\\UCF_Crimes\\Videos\\Assault\\Assault045_x264.mp4\n"
     ]
    },
    {
     "name": "stderr",
     "output_type": "stream",
     "text": [
      " 88%|████████▊ | 44/50 [02:08<00:13,  2.17s/it]"
     ]
    },
    {
     "name": "stdout",
     "output_type": "stream",
     "text": [
      "Completed processing F:\\UCF_Crimes\\UCF_Crimes\\Videos\\Assault\\Assault046_x264.mp4\n"
     ]
    },
    {
     "name": "stderr",
     "output_type": "stream",
     "text": [
      " 90%|█████████ | 45/50 [02:10<00:11,  2.36s/it]"
     ]
    },
    {
     "name": "stdout",
     "output_type": "stream",
     "text": [
      "Completed processing F:\\UCF_Crimes\\UCF_Crimes\\Videos\\Assault\\Assault047_x264.mp4\n"
     ]
    },
    {
     "name": "stderr",
     "output_type": "stream",
     "text": [
      " 92%|█████████▏| 46/50 [02:13<00:09,  2.32s/it]"
     ]
    },
    {
     "name": "stdout",
     "output_type": "stream",
     "text": [
      "Completed processing F:\\UCF_Crimes\\UCF_Crimes\\Videos\\Assault\\Assault048_x264.mp4\n"
     ]
    },
    {
     "name": "stderr",
     "output_type": "stream",
     "text": [
      " 94%|█████████▍| 47/50 [02:14<00:06,  2.01s/it]"
     ]
    },
    {
     "name": "stdout",
     "output_type": "stream",
     "text": [
      "Completed processing F:\\UCF_Crimes\\UCF_Crimes\\Videos\\Assault\\Assault049_x264.mp4\n"
     ]
    },
    {
     "name": "stderr",
     "output_type": "stream",
     "text": [
      " 96%|█████████▌| 48/50 [02:15<00:03,  1.64s/it]"
     ]
    },
    {
     "name": "stdout",
     "output_type": "stream",
     "text": [
      "Completed processing F:\\UCF_Crimes\\UCF_Crimes\\Videos\\Assault\\Assault050_x264.mp4\n"
     ]
    },
    {
     "name": "stderr",
     "output_type": "stream",
     "text": [
      " 98%|█████████▊| 49/50 [02:15<00:01,  1.37s/it]"
     ]
    },
    {
     "name": "stdout",
     "output_type": "stream",
     "text": [
      "Completed processing F:\\UCF_Crimes\\UCF_Crimes\\Videos\\Assault\\Assault051_x264.mp4\n"
     ]
    },
    {
     "name": "stderr",
     "output_type": "stream",
     "text": [
      "100%|██████████| 50/50 [02:16<00:00,  2.74s/it]\n"
     ]
    },
    {
     "name": "stdout",
     "output_type": "stream",
     "text": [
      "Completed processing F:\\UCF_Crimes\\UCF_Crimes\\Videos\\Assault\\Assault052_x264.mp4\n"
     ]
    },
    {
     "name": "stderr",
     "output_type": "stream",
     "text": [
      "  1%|          | 1/100 [00:04<06:39,  4.04s/it]"
     ]
    },
    {
     "name": "stdout",
     "output_type": "stream",
     "text": [
      "Completed processing F:\\UCF_Crimes\\UCF_Crimes\\Videos\\Burglary\\Burglary001_x264.mp4\n"
     ]
    },
    {
     "name": "stderr",
     "output_type": "stream",
     "text": [
      "  2%|▏         | 2/100 [00:06<05:05,  3.11s/it]"
     ]
    },
    {
     "name": "stdout",
     "output_type": "stream",
     "text": [
      "Completed processing F:\\UCF_Crimes\\UCF_Crimes\\Videos\\Burglary\\Burglary002_x264.mp4\n"
     ]
    },
    {
     "name": "stderr",
     "output_type": "stream",
     "text": [
      "  3%|▎         | 3/100 [00:07<03:42,  2.29s/it]"
     ]
    },
    {
     "name": "stdout",
     "output_type": "stream",
     "text": [
      "Completed processing F:\\UCF_Crimes\\UCF_Crimes\\Videos\\Burglary\\Burglary003_x264.mp4\n"
     ]
    },
    {
     "name": "stderr",
     "output_type": "stream",
     "text": [
      "  4%|▍         | 4/100 [00:09<03:29,  2.19s/it]"
     ]
    },
    {
     "name": "stdout",
     "output_type": "stream",
     "text": [
      "Completed processing F:\\UCF_Crimes\\UCF_Crimes\\Videos\\Burglary\\Burglary004_x264.mp4\n"
     ]
    },
    {
     "name": "stderr",
     "output_type": "stream",
     "text": [
      "  5%|▌         | 5/100 [00:16<06:16,  3.96s/it]"
     ]
    },
    {
     "name": "stdout",
     "output_type": "stream",
     "text": [
      "Completed processing F:\\UCF_Crimes\\UCF_Crimes\\Videos\\Burglary\\Burglary005_x264.mp4\n"
     ]
    },
    {
     "name": "stderr",
     "output_type": "stream",
     "text": [
      "  6%|▌         | 6/100 [00:26<09:14,  5.90s/it]"
     ]
    },
    {
     "name": "stdout",
     "output_type": "stream",
     "text": [
      "Completed processing F:\\UCF_Crimes\\UCF_Crimes\\Videos\\Burglary\\Burglary006_x264.mp4\n"
     ]
    },
    {
     "name": "stderr",
     "output_type": "stream",
     "text": [
      "  7%|▋         | 7/100 [00:28<06:51,  4.43s/it]"
     ]
    },
    {
     "name": "stdout",
     "output_type": "stream",
     "text": [
      "Completed processing F:\\UCF_Crimes\\UCF_Crimes\\Videos\\Burglary\\Burglary007_x264.mp4\n"
     ]
    },
    {
     "name": "stderr",
     "output_type": "stream",
     "text": [
      "  8%|▊         | 8/100 [00:32<06:45,  4.41s/it]"
     ]
    },
    {
     "name": "stdout",
     "output_type": "stream",
     "text": [
      "Completed processing F:\\UCF_Crimes\\UCF_Crimes\\Videos\\Burglary\\Burglary008_x264.mp4\n"
     ]
    },
    {
     "name": "stderr",
     "output_type": "stream",
     "text": [
      "  9%|▉         | 9/100 [00:34<05:50,  3.85s/it]"
     ]
    },
    {
     "name": "stdout",
     "output_type": "stream",
     "text": [
      "Completed processing F:\\UCF_Crimes\\UCF_Crimes\\Videos\\Burglary\\Burglary009_x264.mp4\n"
     ]
    },
    {
     "name": "stderr",
     "output_type": "stream",
     "text": [
      " 10%|█         | 10/100 [00:41<07:03,  4.71s/it]"
     ]
    },
    {
     "name": "stdout",
     "output_type": "stream",
     "text": [
      "Completed processing F:\\UCF_Crimes\\UCF_Crimes\\Videos\\Burglary\\Burglary010_x264.mp4\n"
     ]
    },
    {
     "name": "stderr",
     "output_type": "stream",
     "text": [
      " 11%|█         | 11/100 [00:43<05:30,  3.71s/it]"
     ]
    },
    {
     "name": "stdout",
     "output_type": "stream",
     "text": [
      "Completed processing F:\\UCF_Crimes\\UCF_Crimes\\Videos\\Burglary\\Burglary011_x264.mp4\n"
     ]
    },
    {
     "name": "stderr",
     "output_type": "stream",
     "text": [
      " 12%|█▏        | 12/100 [00:44<04:35,  3.13s/it]"
     ]
    },
    {
     "name": "stdout",
     "output_type": "stream",
     "text": [
      "Completed processing F:\\UCF_Crimes\\UCF_Crimes\\Videos\\Burglary\\Burglary012_x264.mp4\n"
     ]
    },
    {
     "name": "stderr",
     "output_type": "stream",
     "text": [
      " 13%|█▎        | 13/100 [00:47<04:09,  2.86s/it]"
     ]
    },
    {
     "name": "stdout",
     "output_type": "stream",
     "text": [
      "Completed processing F:\\UCF_Crimes\\UCF_Crimes\\Videos\\Burglary\\Burglary013_x264.mp4\n"
     ]
    },
    {
     "name": "stderr",
     "output_type": "stream",
     "text": [
      " 14%|█▍        | 14/100 [00:49<03:42,  2.58s/it]"
     ]
    },
    {
     "name": "stdout",
     "output_type": "stream",
     "text": [
      "Completed processing F:\\UCF_Crimes\\UCF_Crimes\\Videos\\Burglary\\Burglary014_x264.mp4\n"
     ]
    },
    {
     "name": "stderr",
     "output_type": "stream",
     "text": [
      " 15%|█▌        | 15/100 [00:50<03:09,  2.22s/it]"
     ]
    },
    {
     "name": "stdout",
     "output_type": "stream",
     "text": [
      "Completed processing F:\\UCF_Crimes\\UCF_Crimes\\Videos\\Burglary\\Burglary015_x264.mp4\n"
     ]
    },
    {
     "name": "stderr",
     "output_type": "stream",
     "text": [
      " 16%|█▌        | 16/100 [00:55<04:12,  3.01s/it]"
     ]
    },
    {
     "name": "stdout",
     "output_type": "stream",
     "text": [
      "Completed processing F:\\UCF_Crimes\\UCF_Crimes\\Videos\\Burglary\\Burglary016_x264.mp4\n"
     ]
    },
    {
     "name": "stderr",
     "output_type": "stream",
     "text": [
      " 17%|█▋        | 17/100 [00:57<04:01,  2.91s/it]"
     ]
    },
    {
     "name": "stdout",
     "output_type": "stream",
     "text": [
      "Completed processing F:\\UCF_Crimes\\UCF_Crimes\\Videos\\Burglary\\Burglary017_x264.mp4\n"
     ]
    },
    {
     "name": "stderr",
     "output_type": "stream",
     "text": [
      " 18%|█▊        | 18/100 [00:58<03:08,  2.30s/it]"
     ]
    },
    {
     "name": "stdout",
     "output_type": "stream",
     "text": [
      "Completed processing F:\\UCF_Crimes\\UCF_Crimes\\Videos\\Burglary\\Burglary018_x264.mp4\n"
     ]
    },
    {
     "name": "stderr",
     "output_type": "stream",
     "text": [
      " 19%|█▉        | 19/100 [01:01<03:25,  2.53s/it]"
     ]
    },
    {
     "name": "stdout",
     "output_type": "stream",
     "text": [
      "Completed processing F:\\UCF_Crimes\\UCF_Crimes\\Videos\\Burglary\\Burglary019_x264.mp4\n"
     ]
    },
    {
     "name": "stderr",
     "output_type": "stream",
     "text": [
      " 20%|██        | 20/100 [01:05<03:39,  2.74s/it]"
     ]
    },
    {
     "name": "stdout",
     "output_type": "stream",
     "text": [
      "Completed processing F:\\UCF_Crimes\\UCF_Crimes\\Videos\\Burglary\\Burglary020_x264.mp4\n"
     ]
    },
    {
     "name": "stderr",
     "output_type": "stream",
     "text": [
      " 21%|██        | 21/100 [01:06<03:01,  2.29s/it]"
     ]
    },
    {
     "name": "stdout",
     "output_type": "stream",
     "text": [
      "Completed processing F:\\UCF_Crimes\\UCF_Crimes\\Videos\\Burglary\\Burglary021_x264.mp4\n"
     ]
    },
    {
     "name": "stderr",
     "output_type": "stream",
     "text": [
      " 22%|██▏       | 22/100 [01:09<03:29,  2.68s/it]"
     ]
    },
    {
     "name": "stdout",
     "output_type": "stream",
     "text": [
      "Completed processing F:\\UCF_Crimes\\UCF_Crimes\\Videos\\Burglary\\Burglary022_x264.mp4\n"
     ]
    },
    {
     "name": "stderr",
     "output_type": "stream",
     "text": [
      " 23%|██▎       | 23/100 [01:21<06:43,  5.24s/it]"
     ]
    },
    {
     "name": "stdout",
     "output_type": "stream",
     "text": [
      "Completed processing F:\\UCF_Crimes\\UCF_Crimes\\Videos\\Burglary\\Burglary023_x264.mp4\n"
     ]
    },
    {
     "name": "stderr",
     "output_type": "stream",
     "text": [
      " 24%|██▍       | 24/100 [01:25<06:13,  4.92s/it]"
     ]
    },
    {
     "name": "stdout",
     "output_type": "stream",
     "text": [
      "Completed processing F:\\UCF_Crimes\\UCF_Crimes\\Videos\\Burglary\\Burglary024_x264.mp4\n"
     ]
    },
    {
     "name": "stderr",
     "output_type": "stream",
     "text": [
      " 25%|██▌       | 25/100 [01:30<06:16,  5.02s/it]"
     ]
    },
    {
     "name": "stdout",
     "output_type": "stream",
     "text": [
      "Completed processing F:\\UCF_Crimes\\UCF_Crimes\\Videos\\Burglary\\Burglary025_x264.mp4\n"
     ]
    },
    {
     "name": "stderr",
     "output_type": "stream",
     "text": [
      " 26%|██▌       | 26/100 [01:32<05:00,  4.07s/it]"
     ]
    },
    {
     "name": "stdout",
     "output_type": "stream",
     "text": [
      "Completed processing F:\\UCF_Crimes\\UCF_Crimes\\Videos\\Burglary\\Burglary026_x264.mp4\n"
     ]
    },
    {
     "name": "stderr",
     "output_type": "stream",
     "text": [
      " 27%|██▋       | 27/100 [01:35<04:30,  3.71s/it]"
     ]
    },
    {
     "name": "stdout",
     "output_type": "stream",
     "text": [
      "Completed processing F:\\UCF_Crimes\\UCF_Crimes\\Videos\\Burglary\\Burglary027_x264.mp4\n"
     ]
    },
    {
     "name": "stderr",
     "output_type": "stream",
     "text": [
      " 28%|██▊       | 28/100 [01:36<03:27,  2.88s/it]"
     ]
    },
    {
     "name": "stdout",
     "output_type": "stream",
     "text": [
      "Completed processing F:\\UCF_Crimes\\UCF_Crimes\\Videos\\Burglary\\Burglary028_x264.mp4\n"
     ]
    },
    {
     "name": "stderr",
     "output_type": "stream",
     "text": [
      " 29%|██▉       | 29/100 [01:40<03:49,  3.23s/it]"
     ]
    },
    {
     "name": "stdout",
     "output_type": "stream",
     "text": [
      "Completed processing F:\\UCF_Crimes\\UCF_Crimes\\Videos\\Burglary\\Burglary029_x264.mp4\n"
     ]
    },
    {
     "name": "stderr",
     "output_type": "stream",
     "text": [
      " 30%|███       | 30/100 [01:41<02:55,  2.51s/it]"
     ]
    },
    {
     "name": "stdout",
     "output_type": "stream",
     "text": [
      "Completed processing F:\\UCF_Crimes\\UCF_Crimes\\Videos\\Burglary\\Burglary030_x264.mp4\n"
     ]
    },
    {
     "name": "stderr",
     "output_type": "stream",
     "text": [
      " 31%|███       | 31/100 [01:46<03:48,  3.31s/it]"
     ]
    },
    {
     "name": "stdout",
     "output_type": "stream",
     "text": [
      "Completed processing F:\\UCF_Crimes\\UCF_Crimes\\Videos\\Burglary\\Burglary031_x264.mp4\n"
     ]
    },
    {
     "name": "stderr",
     "output_type": "stream",
     "text": [
      " 32%|███▏      | 32/100 [02:46<23:10, 20.45s/it]"
     ]
    },
    {
     "name": "stdout",
     "output_type": "stream",
     "text": [
      "Completed processing F:\\UCF_Crimes\\UCF_Crimes\\Videos\\Burglary\\Burglary032_x264.mp4\n"
     ]
    },
    {
     "name": "stderr",
     "output_type": "stream",
     "text": [
      " 33%|███▎      | 33/100 [02:48<16:27, 14.73s/it]"
     ]
    },
    {
     "name": "stdout",
     "output_type": "stream",
     "text": [
      "Completed processing F:\\UCF_Crimes\\UCF_Crimes\\Videos\\Burglary\\Burglary033_x264.mp4\n"
     ]
    },
    {
     "name": "stderr",
     "output_type": "stream",
     "text": [
      " 34%|███▍      | 34/100 [02:49<11:42, 10.65s/it]"
     ]
    },
    {
     "name": "stdout",
     "output_type": "stream",
     "text": [
      "Completed processing F:\\UCF_Crimes\\UCF_Crimes\\Videos\\Burglary\\Burglary034_x264.mp4\n"
     ]
    },
    {
     "name": "stderr",
     "output_type": "stream",
     "text": [
      " 35%|███▌      | 35/100 [02:52<09:08,  8.44s/it]"
     ]
    },
    {
     "name": "stdout",
     "output_type": "stream",
     "text": [
      "Completed processing F:\\UCF_Crimes\\UCF_Crimes\\Videos\\Burglary\\Burglary035_x264.mp4\n"
     ]
    },
    {
     "name": "stderr",
     "output_type": "stream",
     "text": [
      " 36%|███▌      | 36/100 [02:54<06:47,  6.37s/it]"
     ]
    },
    {
     "name": "stdout",
     "output_type": "stream",
     "text": [
      "Completed processing F:\\UCF_Crimes\\UCF_Crimes\\Videos\\Burglary\\Burglary036_x264.mp4\n"
     ]
    },
    {
     "name": "stderr",
     "output_type": "stream",
     "text": [
      " 37%|███▋      | 37/100 [02:56<05:26,  5.17s/it]"
     ]
    },
    {
     "name": "stdout",
     "output_type": "stream",
     "text": [
      "Completed processing F:\\UCF_Crimes\\UCF_Crimes\\Videos\\Burglary\\Burglary037_x264.mp4\n"
     ]
    },
    {
     "name": "stderr",
     "output_type": "stream",
     "text": [
      " 38%|███▊      | 38/100 [02:57<04:05,  3.96s/it]"
     ]
    },
    {
     "name": "stdout",
     "output_type": "stream",
     "text": [
      "Completed processing F:\\UCF_Crimes\\UCF_Crimes\\Videos\\Burglary\\Burglary038_x264.mp4\n"
     ]
    },
    {
     "name": "stderr",
     "output_type": "stream",
     "text": [
      " 39%|███▉      | 39/100 [03:07<05:43,  5.63s/it]"
     ]
    },
    {
     "name": "stdout",
     "output_type": "stream",
     "text": [
      "Completed processing F:\\UCF_Crimes\\UCF_Crimes\\Videos\\Burglary\\Burglary039_x264.mp4\n"
     ]
    },
    {
     "name": "stderr",
     "output_type": "stream",
     "text": [
      " 40%|████      | 40/100 [03:12<05:26,  5.45s/it]"
     ]
    },
    {
     "name": "stdout",
     "output_type": "stream",
     "text": [
      "Completed processing F:\\UCF_Crimes\\UCF_Crimes\\Videos\\Burglary\\Burglary040_x264.mp4\n"
     ]
    },
    {
     "name": "stderr",
     "output_type": "stream",
     "text": [
      " 41%|████      | 41/100 [03:14<04:23,  4.46s/it]"
     ]
    },
    {
     "name": "stdout",
     "output_type": "stream",
     "text": [
      "Completed processing F:\\UCF_Crimes\\UCF_Crimes\\Videos\\Burglary\\Burglary041_x264.mp4\n"
     ]
    },
    {
     "name": "stderr",
     "output_type": "stream",
     "text": [
      " 42%|████▏     | 42/100 [03:18<04:06,  4.25s/it]"
     ]
    },
    {
     "name": "stdout",
     "output_type": "stream",
     "text": [
      "Completed processing F:\\UCF_Crimes\\UCF_Crimes\\Videos\\Burglary\\Burglary042_x264.mp4\n"
     ]
    },
    {
     "name": "stderr",
     "output_type": "stream",
     "text": [
      " 43%|████▎     | 43/100 [03:18<03:00,  3.17s/it]"
     ]
    },
    {
     "name": "stdout",
     "output_type": "stream",
     "text": [
      "Completed processing F:\\UCF_Crimes\\UCF_Crimes\\Videos\\Burglary\\Burglary043_x264.mp4\n"
     ]
    },
    {
     "name": "stderr",
     "output_type": "stream",
     "text": [
      " 44%|████▍     | 44/100 [03:26<04:13,  4.53s/it]"
     ]
    },
    {
     "name": "stdout",
     "output_type": "stream",
     "text": [
      "Completed processing F:\\UCF_Crimes\\UCF_Crimes\\Videos\\Burglary\\Burglary044_x264.mp4\n"
     ]
    },
    {
     "name": "stderr",
     "output_type": "stream",
     "text": [
      " 45%|████▌     | 45/100 [03:36<05:47,  6.33s/it]"
     ]
    },
    {
     "name": "stdout",
     "output_type": "stream",
     "text": [
      "Completed processing F:\\UCF_Crimes\\UCF_Crimes\\Videos\\Burglary\\Burglary045_x264.mp4\n"
     ]
    },
    {
     "name": "stderr",
     "output_type": "stream",
     "text": [
      " 46%|████▌     | 46/100 [03:39<04:34,  5.08s/it]"
     ]
    },
    {
     "name": "stdout",
     "output_type": "stream",
     "text": [
      "Completed processing F:\\UCF_Crimes\\UCF_Crimes\\Videos\\Burglary\\Burglary046_x264.mp4\n"
     ]
    },
    {
     "name": "stderr",
     "output_type": "stream",
     "text": [
      " 47%|████▋     | 47/100 [03:41<03:51,  4.37s/it]"
     ]
    },
    {
     "name": "stdout",
     "output_type": "stream",
     "text": [
      "Completed processing F:\\UCF_Crimes\\UCF_Crimes\\Videos\\Burglary\\Burglary047_x264.mp4\n"
     ]
    },
    {
     "name": "stderr",
     "output_type": "stream",
     "text": [
      " 48%|████▊     | 48/100 [03:43<03:05,  3.56s/it]"
     ]
    },
    {
     "name": "stdout",
     "output_type": "stream",
     "text": [
      "Completed processing F:\\UCF_Crimes\\UCF_Crimes\\Videos\\Burglary\\Burglary048_x264.mp4\n"
     ]
    },
    {
     "name": "stderr",
     "output_type": "stream",
     "text": [
      " 49%|████▉     | 49/100 [04:02<07:00,  8.24s/it]"
     ]
    },
    {
     "name": "stdout",
     "output_type": "stream",
     "text": [
      "Completed processing F:\\UCF_Crimes\\UCF_Crimes\\Videos\\Burglary\\Burglary049_x264.mp4\n"
     ]
    },
    {
     "name": "stderr",
     "output_type": "stream",
     "text": [
      " 50%|█████     | 50/100 [04:03<05:07,  6.14s/it]"
     ]
    },
    {
     "name": "stdout",
     "output_type": "stream",
     "text": [
      "Completed processing F:\\UCF_Crimes\\UCF_Crimes\\Videos\\Burglary\\Burglary050_x264.mp4\n"
     ]
    },
    {
     "name": "stderr",
     "output_type": "stream",
     "text": [
      " 51%|█████     | 51/100 [04:05<03:50,  4.70s/it]"
     ]
    },
    {
     "name": "stdout",
     "output_type": "stream",
     "text": [
      "Completed processing F:\\UCF_Crimes\\UCF_Crimes\\Videos\\Burglary\\Burglary051_x264.mp4\n"
     ]
    },
    {
     "name": "stderr",
     "output_type": "stream",
     "text": [
      " 52%|█████▏    | 52/100 [04:16<05:24,  6.76s/it]"
     ]
    },
    {
     "name": "stdout",
     "output_type": "stream",
     "text": [
      "Completed processing F:\\UCF_Crimes\\UCF_Crimes\\Videos\\Burglary\\Burglary052_x264.mp4\n"
     ]
    },
    {
     "name": "stderr",
     "output_type": "stream",
     "text": [
      " 53%|█████▎    | 53/100 [04:20<04:31,  5.78s/it]"
     ]
    },
    {
     "name": "stdout",
     "output_type": "stream",
     "text": [
      "Completed processing F:\\UCF_Crimes\\UCF_Crimes\\Videos\\Burglary\\Burglary053_x264.mp4\n"
     ]
    },
    {
     "name": "stderr",
     "output_type": "stream",
     "text": [
      " 54%|█████▍    | 54/100 [04:20<03:14,  4.23s/it]"
     ]
    },
    {
     "name": "stdout",
     "output_type": "stream",
     "text": [
      "Completed processing F:\\UCF_Crimes\\UCF_Crimes\\Videos\\Burglary\\Burglary054_x264.mp4\n"
     ]
    },
    {
     "name": "stderr",
     "output_type": "stream",
     "text": [
      " 55%|█████▌    | 55/100 [04:24<02:58,  3.96s/it]"
     ]
    },
    {
     "name": "stdout",
     "output_type": "stream",
     "text": [
      "Completed processing F:\\UCF_Crimes\\UCF_Crimes\\Videos\\Burglary\\Burglary055_x264.mp4\n"
     ]
    },
    {
     "name": "stderr",
     "output_type": "stream",
     "text": [
      " 56%|█████▌    | 56/100 [04:25<02:20,  3.20s/it]"
     ]
    },
    {
     "name": "stdout",
     "output_type": "stream",
     "text": [
      "Completed processing F:\\UCF_Crimes\\UCF_Crimes\\Videos\\Burglary\\Burglary056_x264.mp4\n"
     ]
    },
    {
     "name": "stderr",
     "output_type": "stream",
     "text": [
      " 57%|█████▋    | 57/100 [04:33<03:12,  4.47s/it]"
     ]
    },
    {
     "name": "stdout",
     "output_type": "stream",
     "text": [
      "Completed processing F:\\UCF_Crimes\\UCF_Crimes\\Videos\\Burglary\\Burglary057_x264.mp4\n"
     ]
    },
    {
     "name": "stderr",
     "output_type": "stream",
     "text": [
      " 58%|█████▊    | 58/100 [04:44<04:37,  6.60s/it]"
     ]
    },
    {
     "name": "stdout",
     "output_type": "stream",
     "text": [
      "Completed processing F:\\UCF_Crimes\\UCF_Crimes\\Videos\\Burglary\\Burglary058_x264.mp4\n"
     ]
    },
    {
     "name": "stderr",
     "output_type": "stream",
     "text": [
      " 59%|█████▉    | 59/100 [04:45<03:16,  4.80s/it]"
     ]
    },
    {
     "name": "stdout",
     "output_type": "stream",
     "text": [
      "Completed processing F:\\UCF_Crimes\\UCF_Crimes\\Videos\\Burglary\\Burglary059_x264.mp4\n"
     ]
    },
    {
     "name": "stderr",
     "output_type": "stream",
     "text": [
      " 60%|██████    | 60/100 [04:46<02:25,  3.63s/it]"
     ]
    },
    {
     "name": "stdout",
     "output_type": "stream",
     "text": [
      "Completed processing F:\\UCF_Crimes\\UCF_Crimes\\Videos\\Burglary\\Burglary060_x264.mp4\n"
     ]
    },
    {
     "name": "stderr",
     "output_type": "stream",
     "text": [
      " 61%|██████    | 61/100 [04:55<03:24,  5.24s/it]"
     ]
    },
    {
     "name": "stdout",
     "output_type": "stream",
     "text": [
      "Completed processing F:\\UCF_Crimes\\UCF_Crimes\\Videos\\Burglary\\Burglary061_x264.mp4\n"
     ]
    },
    {
     "name": "stderr",
     "output_type": "stream",
     "text": [
      " 62%|██████▏   | 62/100 [05:05<04:11,  6.62s/it]"
     ]
    },
    {
     "name": "stdout",
     "output_type": "stream",
     "text": [
      "Completed processing F:\\UCF_Crimes\\UCF_Crimes\\Videos\\Burglary\\Burglary062_x264.mp4\n"
     ]
    },
    {
     "name": "stderr",
     "output_type": "stream",
     "text": [
      " 63%|██████▎   | 63/100 [05:09<03:37,  5.89s/it]"
     ]
    },
    {
     "name": "stdout",
     "output_type": "stream",
     "text": [
      "Completed processing F:\\UCF_Crimes\\UCF_Crimes\\Videos\\Burglary\\Burglary063_x264.mp4\n"
     ]
    },
    {
     "name": "stderr",
     "output_type": "stream",
     "text": [
      " 64%|██████▍   | 64/100 [05:56<10:54, 18.18s/it]"
     ]
    },
    {
     "name": "stdout",
     "output_type": "stream",
     "text": [
      "Completed processing F:\\UCF_Crimes\\UCF_Crimes\\Videos\\Burglary\\Burglary064_x264.mp4\n"
     ]
    },
    {
     "name": "stderr",
     "output_type": "stream",
     "text": [
      " 65%|██████▌   | 65/100 [06:05<09:00, 15.44s/it]"
     ]
    },
    {
     "name": "stdout",
     "output_type": "stream",
     "text": [
      "Completed processing F:\\UCF_Crimes\\UCF_Crimes\\Videos\\Burglary\\Burglary065_x264.mp4\n"
     ]
    },
    {
     "name": "stderr",
     "output_type": "stream",
     "text": [
      " 66%|██████▌   | 66/100 [06:07<06:32, 11.54s/it]"
     ]
    },
    {
     "name": "stdout",
     "output_type": "stream",
     "text": [
      "Completed processing F:\\UCF_Crimes\\UCF_Crimes\\Videos\\Burglary\\Burglary066_x264.mp4\n"
     ]
    },
    {
     "name": "stderr",
     "output_type": "stream",
     "text": [
      " 67%|██████▋   | 67/100 [06:09<04:43,  8.59s/it]"
     ]
    },
    {
     "name": "stdout",
     "output_type": "stream",
     "text": [
      "Completed processing F:\\UCF_Crimes\\UCF_Crimes\\Videos\\Burglary\\Burglary067_x264.mp4\n"
     ]
    },
    {
     "name": "stderr",
     "output_type": "stream",
     "text": [
      " 68%|██████▊   | 68/100 [06:10<03:20,  6.27s/it]"
     ]
    },
    {
     "name": "stdout",
     "output_type": "stream",
     "text": [
      "Completed processing F:\\UCF_Crimes\\UCF_Crimes\\Videos\\Burglary\\Burglary068_x264.mp4\n"
     ]
    },
    {
     "name": "stderr",
     "output_type": "stream",
     "text": [
      " 69%|██████▉   | 69/100 [06:12<02:33,  4.97s/it]"
     ]
    },
    {
     "name": "stdout",
     "output_type": "stream",
     "text": [
      "Completed processing F:\\UCF_Crimes\\UCF_Crimes\\Videos\\Burglary\\Burglary069_x264.mp4\n"
     ]
    },
    {
     "name": "stderr",
     "output_type": "stream",
     "text": [
      " 70%|███████   | 70/100 [06:13<01:54,  3.82s/it]"
     ]
    },
    {
     "name": "stdout",
     "output_type": "stream",
     "text": [
      "Completed processing F:\\UCF_Crimes\\UCF_Crimes\\Videos\\Burglary\\Burglary070_x264.mp4\n"
     ]
    },
    {
     "name": "stderr",
     "output_type": "stream",
     "text": [
      " 71%|███████   | 71/100 [06:16<01:47,  3.70s/it]"
     ]
    },
    {
     "name": "stdout",
     "output_type": "stream",
     "text": [
      "Completed processing F:\\UCF_Crimes\\UCF_Crimes\\Videos\\Burglary\\Burglary071_x264.mp4\n"
     ]
    },
    {
     "name": "stderr",
     "output_type": "stream",
     "text": [
      " 72%|███████▏  | 72/100 [06:19<01:34,  3.38s/it]"
     ]
    },
    {
     "name": "stdout",
     "output_type": "stream",
     "text": [
      "Completed processing F:\\UCF_Crimes\\UCF_Crimes\\Videos\\Burglary\\Burglary072_x264.mp4\n"
     ]
    },
    {
     "name": "stderr",
     "output_type": "stream",
     "text": [
      " 73%|███████▎  | 73/100 [06:21<01:23,  3.10s/it]"
     ]
    },
    {
     "name": "stdout",
     "output_type": "stream",
     "text": [
      "Completed processing F:\\UCF_Crimes\\UCF_Crimes\\Videos\\Burglary\\Burglary073_x264.mp4\n"
     ]
    },
    {
     "name": "stderr",
     "output_type": "stream",
     "text": [
      " 74%|███████▍  | 74/100 [06:24<01:15,  2.92s/it]"
     ]
    },
    {
     "name": "stdout",
     "output_type": "stream",
     "text": [
      "Completed processing F:\\UCF_Crimes\\UCF_Crimes\\Videos\\Burglary\\Burglary074_x264.mp4\n"
     ]
    },
    {
     "name": "stderr",
     "output_type": "stream",
     "text": [
      " 75%|███████▌  | 75/100 [06:40<02:54,  6.98s/it]"
     ]
    },
    {
     "name": "stdout",
     "output_type": "stream",
     "text": [
      "Completed processing F:\\UCF_Crimes\\UCF_Crimes\\Videos\\Burglary\\Burglary075_x264.mp4\n"
     ]
    },
    {
     "name": "stderr",
     "output_type": "stream",
     "text": [
      " 76%|███████▌  | 76/100 [06:52<03:19,  8.31s/it]"
     ]
    },
    {
     "name": "stdout",
     "output_type": "stream",
     "text": [
      "Completed processing F:\\UCF_Crimes\\UCF_Crimes\\Videos\\Burglary\\Burglary076_x264.mp4\n"
     ]
    },
    {
     "name": "stderr",
     "output_type": "stream",
     "text": [
      " 77%|███████▋  | 77/100 [06:53<02:26,  6.37s/it]"
     ]
    },
    {
     "name": "stdout",
     "output_type": "stream",
     "text": [
      "Completed processing F:\\UCF_Crimes\\UCF_Crimes\\Videos\\Burglary\\Burglary077_x264.mp4\n"
     ]
    },
    {
     "name": "stderr",
     "output_type": "stream",
     "text": [
      " 78%|███████▊  | 78/100 [06:54<01:40,  4.58s/it]"
     ]
    },
    {
     "name": "stdout",
     "output_type": "stream",
     "text": [
      "Completed processing F:\\UCF_Crimes\\UCF_Crimes\\Videos\\Burglary\\Burglary078_x264.mp4\n"
     ]
    },
    {
     "name": "stderr",
     "output_type": "stream",
     "text": [
      " 79%|███████▉  | 79/100 [07:06<02:25,  6.93s/it]"
     ]
    },
    {
     "name": "stdout",
     "output_type": "stream",
     "text": [
      "Completed processing F:\\UCF_Crimes\\UCF_Crimes\\Videos\\Burglary\\Burglary079_x264.mp4\n"
     ]
    },
    {
     "name": "stderr",
     "output_type": "stream",
     "text": [
      " 80%|████████  | 80/100 [07:08<01:47,  5.36s/it]"
     ]
    },
    {
     "name": "stdout",
     "output_type": "stream",
     "text": [
      "Completed processing F:\\UCF_Crimes\\UCF_Crimes\\Videos\\Burglary\\Burglary080_x264.mp4\n"
     ]
    },
    {
     "name": "stderr",
     "output_type": "stream",
     "text": [
      " 81%|████████  | 81/100 [07:09<01:14,  3.94s/it]"
     ]
    },
    {
     "name": "stdout",
     "output_type": "stream",
     "text": [
      "Completed processing F:\\UCF_Crimes\\UCF_Crimes\\Videos\\Burglary\\Burglary081_x264.mp4\n"
     ]
    },
    {
     "name": "stderr",
     "output_type": "stream",
     "text": [
      " 82%|████████▏ | 82/100 [07:11<01:04,  3.59s/it]"
     ]
    },
    {
     "name": "stdout",
     "output_type": "stream",
     "text": [
      "Completed processing F:\\UCF_Crimes\\UCF_Crimes\\Videos\\Burglary\\Burglary082_x264.mp4\n"
     ]
    },
    {
     "name": "stderr",
     "output_type": "stream",
     "text": [
      " 83%|████████▎ | 83/100 [07:17<01:10,  4.13s/it]"
     ]
    },
    {
     "name": "stdout",
     "output_type": "stream",
     "text": [
      "Completed processing F:\\UCF_Crimes\\UCF_Crimes\\Videos\\Burglary\\Burglary083_x264.mp4\n"
     ]
    },
    {
     "name": "stderr",
     "output_type": "stream",
     "text": [
      " 84%|████████▍ | 84/100 [07:22<01:11,  4.48s/it]"
     ]
    },
    {
     "name": "stdout",
     "output_type": "stream",
     "text": [
      "Completed processing F:\\UCF_Crimes\\UCF_Crimes\\Videos\\Burglary\\Burglary084_x264.mp4\n"
     ]
    },
    {
     "name": "stderr",
     "output_type": "stream",
     "text": [
      " 85%|████████▌ | 85/100 [07:25<01:00,  4.04s/it]"
     ]
    },
    {
     "name": "stdout",
     "output_type": "stream",
     "text": [
      "Completed processing F:\\UCF_Crimes\\UCF_Crimes\\Videos\\Burglary\\Burglary085_x264.mp4\n"
     ]
    },
    {
     "name": "stderr",
     "output_type": "stream",
     "text": [
      " 86%|████████▌ | 86/100 [07:28<00:53,  3.82s/it]"
     ]
    },
    {
     "name": "stdout",
     "output_type": "stream",
     "text": [
      "Completed processing F:\\UCF_Crimes\\UCF_Crimes\\Videos\\Burglary\\Burglary086_x264.mp4\n"
     ]
    },
    {
     "name": "stderr",
     "output_type": "stream",
     "text": [
      " 87%|████████▋ | 87/100 [07:31<00:45,  3.51s/it]"
     ]
    },
    {
     "name": "stdout",
     "output_type": "stream",
     "text": [
      "Completed processing F:\\UCF_Crimes\\UCF_Crimes\\Videos\\Burglary\\Burglary087_x264.mp4\n"
     ]
    },
    {
     "name": "stderr",
     "output_type": "stream",
     "text": [
      " 88%|████████▊ | 88/100 [07:37<00:49,  4.16s/it]"
     ]
    },
    {
     "name": "stdout",
     "output_type": "stream",
     "text": [
      "Completed processing F:\\UCF_Crimes\\UCF_Crimes\\Videos\\Burglary\\Burglary088_x264.mp4\n"
     ]
    },
    {
     "name": "stderr",
     "output_type": "stream",
     "text": [
      " 89%|████████▉ | 89/100 [07:41<00:44,  4.08s/it]"
     ]
    },
    {
     "name": "stdout",
     "output_type": "stream",
     "text": [
      "Completed processing F:\\UCF_Crimes\\UCF_Crimes\\Videos\\Burglary\\Burglary089_x264.mp4\n"
     ]
    },
    {
     "name": "stderr",
     "output_type": "stream",
     "text": [
      " 90%|█████████ | 90/100 [07:44<00:38,  3.88s/it]"
     ]
    },
    {
     "name": "stdout",
     "output_type": "stream",
     "text": [
      "Completed processing F:\\UCF_Crimes\\UCF_Crimes\\Videos\\Burglary\\Burglary090_x264.mp4\n"
     ]
    },
    {
     "name": "stderr",
     "output_type": "stream",
     "text": [
      " 91%|█████████ | 91/100 [07:53<00:49,  5.49s/it]"
     ]
    },
    {
     "name": "stdout",
     "output_type": "stream",
     "text": [
      "Completed processing F:\\UCF_Crimes\\UCF_Crimes\\Videos\\Burglary\\Burglary091_x264.mp4\n"
     ]
    },
    {
     "name": "stderr",
     "output_type": "stream",
     "text": [
      " 92%|█████████▏| 92/100 [07:54<00:32,  4.08s/it]"
     ]
    },
    {
     "name": "stdout",
     "output_type": "stream",
     "text": [
      "Completed processing F:\\UCF_Crimes\\UCF_Crimes\\Videos\\Burglary\\Burglary092_x264.mp4\n"
     ]
    },
    {
     "name": "stderr",
     "output_type": "stream",
     "text": [
      " 93%|█████████▎| 93/100 [07:55<00:21,  3.14s/it]"
     ]
    },
    {
     "name": "stdout",
     "output_type": "stream",
     "text": [
      "Completed processing F:\\UCF_Crimes\\UCF_Crimes\\Videos\\Burglary\\Burglary093_x264.mp4\n"
     ]
    },
    {
     "name": "stderr",
     "output_type": "stream",
     "text": [
      " 94%|█████████▍| 94/100 [07:57<00:15,  2.63s/it]"
     ]
    },
    {
     "name": "stdout",
     "output_type": "stream",
     "text": [
      "Completed processing F:\\UCF_Crimes\\UCF_Crimes\\Videos\\Burglary\\Burglary094_x264.mp4\n"
     ]
    },
    {
     "name": "stderr",
     "output_type": "stream",
     "text": [
      " 95%|█████████▌| 95/100 [08:32<01:02, 12.51s/it]"
     ]
    },
    {
     "name": "stdout",
     "output_type": "stream",
     "text": [
      "Completed processing F:\\UCF_Crimes\\UCF_Crimes\\Videos\\Burglary\\Burglary095_x264.mp4\n"
     ]
    },
    {
     "name": "stderr",
     "output_type": "stream",
     "text": [
      " 96%|█████████▌| 96/100 [08:59<01:07, 16.77s/it]"
     ]
    },
    {
     "name": "stdout",
     "output_type": "stream",
     "text": [
      "Completed processing F:\\UCF_Crimes\\UCF_Crimes\\Videos\\Burglary\\Burglary096_x264.mp4\n"
     ]
    },
    {
     "name": "stderr",
     "output_type": "stream",
     "text": [
      " 97%|█████████▋| 97/100 [08:59<00:35, 11.89s/it]"
     ]
    },
    {
     "name": "stdout",
     "output_type": "stream",
     "text": [
      "Completed processing F:\\UCF_Crimes\\UCF_Crimes\\Videos\\Burglary\\Burglary097_x264.mp4\n"
     ]
    },
    {
     "name": "stderr",
     "output_type": "stream",
     "text": [
      " 98%|█████████▊| 98/100 [09:00<00:17,  8.63s/it]"
     ]
    },
    {
     "name": "stdout",
     "output_type": "stream",
     "text": [
      "Completed processing F:\\UCF_Crimes\\UCF_Crimes\\Videos\\Burglary\\Burglary098_x264.mp4\n"
     ]
    },
    {
     "name": "stderr",
     "output_type": "stream",
     "text": [
      " 99%|█████████▉| 99/100 [09:02<00:06,  6.57s/it]"
     ]
    },
    {
     "name": "stdout",
     "output_type": "stream",
     "text": [
      "Completed processing F:\\UCF_Crimes\\UCF_Crimes\\Videos\\Burglary\\Burglary099_x264.mp4\n"
     ]
    },
    {
     "name": "stderr",
     "output_type": "stream",
     "text": [
      "100%|██████████| 100/100 [09:09<00:00,  5.50s/it]\n"
     ]
    },
    {
     "name": "stdout",
     "output_type": "stream",
     "text": [
      "Completed processing F:\\UCF_Crimes\\UCF_Crimes\\Videos\\Burglary\\Burglary100_x264.mp4\n"
     ]
    },
    {
     "name": "stderr",
     "output_type": "stream",
     "text": [
      "  2%|▏         | 1/50 [00:00<00:29,  1.65it/s]"
     ]
    },
    {
     "name": "stdout",
     "output_type": "stream",
     "text": [
      "Completed processing F:\\UCF_Crimes\\UCF_Crimes\\Videos\\Explosion\\Explosion001_x264.mp4\n"
     ]
    },
    {
     "name": "stderr",
     "output_type": "stream",
     "text": [
      "  4%|▍         | 2/50 [00:04<02:07,  2.66s/it]"
     ]
    },
    {
     "name": "stdout",
     "output_type": "stream",
     "text": [
      "Completed processing F:\\UCF_Crimes\\UCF_Crimes\\Videos\\Explosion\\Explosion002_x264.mp4\n"
     ]
    },
    {
     "name": "stderr",
     "output_type": "stream",
     "text": [
      "  6%|▌         | 3/50 [00:05<01:24,  1.80s/it]"
     ]
    },
    {
     "name": "stdout",
     "output_type": "stream",
     "text": [
      "Completed processing F:\\UCF_Crimes\\UCF_Crimes\\Videos\\Explosion\\Explosion003_x264.mp4\n"
     ]
    },
    {
     "name": "stderr",
     "output_type": "stream",
     "text": [
      "  8%|▊         | 4/50 [00:07<01:17,  1.69s/it]"
     ]
    },
    {
     "name": "stdout",
     "output_type": "stream",
     "text": [
      "Completed processing F:\\UCF_Crimes\\UCF_Crimes\\Videos\\Explosion\\Explosion004_x264.mp4\n"
     ]
    },
    {
     "name": "stderr",
     "output_type": "stream",
     "text": [
      " 10%|█         | 5/50 [00:08<01:04,  1.44s/it]"
     ]
    },
    {
     "name": "stdout",
     "output_type": "stream",
     "text": [
      "Completed processing F:\\UCF_Crimes\\UCF_Crimes\\Videos\\Explosion\\Explosion005_x264.mp4\n"
     ]
    },
    {
     "name": "stderr",
     "output_type": "stream",
     "text": [
      " 12%|█▏        | 6/50 [00:10<01:13,  1.68s/it]"
     ]
    },
    {
     "name": "stdout",
     "output_type": "stream",
     "text": [
      "Completed processing F:\\UCF_Crimes\\UCF_Crimes\\Videos\\Explosion\\Explosion006_x264.mp4\n"
     ]
    },
    {
     "name": "stderr",
     "output_type": "stream",
     "text": [
      " 14%|█▍        | 7/50 [00:26<04:44,  6.62s/it]"
     ]
    },
    {
     "name": "stdout",
     "output_type": "stream",
     "text": [
      "Completed processing F:\\UCF_Crimes\\UCF_Crimes\\Videos\\Explosion\\Explosion007_x264.mp4\n"
     ]
    },
    {
     "name": "stderr",
     "output_type": "stream",
     "text": [
      " 16%|█▌        | 8/50 [00:28<03:34,  5.10s/it]"
     ]
    },
    {
     "name": "stdout",
     "output_type": "stream",
     "text": [
      "Completed processing F:\\UCF_Crimes\\UCF_Crimes\\Videos\\Explosion\\Explosion008_x264.mp4\n"
     ]
    },
    {
     "name": "stderr",
     "output_type": "stream",
     "text": [
      " 18%|█▊        | 9/50 [00:30<02:42,  3.96s/it]"
     ]
    },
    {
     "name": "stdout",
     "output_type": "stream",
     "text": [
      "Completed processing F:\\UCF_Crimes\\UCF_Crimes\\Videos\\Explosion\\Explosion009_x264.mp4\n"
     ]
    },
    {
     "name": "stderr",
     "output_type": "stream",
     "text": [
      " 20%|██        | 10/50 [00:32<02:20,  3.50s/it]"
     ]
    },
    {
     "name": "stdout",
     "output_type": "stream",
     "text": [
      "Completed processing F:\\UCF_Crimes\\UCF_Crimes\\Videos\\Explosion\\Explosion010_x264.mp4\n"
     ]
    },
    {
     "name": "stderr",
     "output_type": "stream",
     "text": [
      " 22%|██▏       | 11/50 [00:34<01:57,  3.00s/it]"
     ]
    },
    {
     "name": "stdout",
     "output_type": "stream",
     "text": [
      "Completed processing F:\\UCF_Crimes\\UCF_Crimes\\Videos\\Explosion\\Explosion011_x264.mp4\n"
     ]
    },
    {
     "name": "stderr",
     "output_type": "stream",
     "text": [
      " 24%|██▍       | 12/50 [00:35<01:29,  2.35s/it]"
     ]
    },
    {
     "name": "stdout",
     "output_type": "stream",
     "text": [
      "Completed processing F:\\UCF_Crimes\\UCF_Crimes\\Videos\\Explosion\\Explosion012_x264.mp4\n"
     ]
    },
    {
     "name": "stderr",
     "output_type": "stream",
     "text": [
      " 26%|██▌       | 13/50 [00:38<01:31,  2.48s/it]"
     ]
    },
    {
     "name": "stdout",
     "output_type": "stream",
     "text": [
      "Completed processing F:\\UCF_Crimes\\UCF_Crimes\\Videos\\Explosion\\Explosion013_x264.mp4\n"
     ]
    },
    {
     "name": "stderr",
     "output_type": "stream",
     "text": [
      " 28%|██▊       | 14/50 [00:39<01:14,  2.07s/it]"
     ]
    },
    {
     "name": "stdout",
     "output_type": "stream",
     "text": [
      "Completed processing F:\\UCF_Crimes\\UCF_Crimes\\Videos\\Explosion\\Explosion014_x264.mp4\n"
     ]
    },
    {
     "name": "stderr",
     "output_type": "stream",
     "text": [
      " 30%|███       | 15/50 [00:40<01:02,  1.78s/it]"
     ]
    },
    {
     "name": "stdout",
     "output_type": "stream",
     "text": [
      "Completed processing F:\\UCF_Crimes\\UCF_Crimes\\Videos\\Explosion\\Explosion015_x264.mp4\n"
     ]
    },
    {
     "name": "stderr",
     "output_type": "stream",
     "text": [
      " 32%|███▏      | 16/50 [00:41<00:52,  1.55s/it]"
     ]
    },
    {
     "name": "stdout",
     "output_type": "stream",
     "text": [
      "Completed processing F:\\UCF_Crimes\\UCF_Crimes\\Videos\\Explosion\\Explosion016_x264.mp4\n"
     ]
    },
    {
     "name": "stderr",
     "output_type": "stream",
     "text": [
      " 34%|███▍      | 17/50 [00:43<00:55,  1.69s/it]"
     ]
    },
    {
     "name": "stdout",
     "output_type": "stream",
     "text": [
      "Completed processing F:\\UCF_Crimes\\UCF_Crimes\\Videos\\Explosion\\Explosion017_x264.mp4\n"
     ]
    },
    {
     "name": "stderr",
     "output_type": "stream",
     "text": [
      " 36%|███▌      | 18/50 [00:45<00:54,  1.70s/it]"
     ]
    },
    {
     "name": "stdout",
     "output_type": "stream",
     "text": [
      "Completed processing F:\\UCF_Crimes\\UCF_Crimes\\Videos\\Explosion\\Explosion018_x264.mp4\n"
     ]
    },
    {
     "name": "stderr",
     "output_type": "stream",
     "text": [
      " 38%|███▊      | 19/50 [00:45<00:40,  1.32s/it]"
     ]
    },
    {
     "name": "stdout",
     "output_type": "stream",
     "text": [
      "Completed processing F:\\UCF_Crimes\\UCF_Crimes\\Videos\\Explosion\\Explosion019_x264.mp4\n"
     ]
    },
    {
     "name": "stderr",
     "output_type": "stream",
     "text": [
      " 40%|████      | 20/50 [00:47<00:40,  1.35s/it]"
     ]
    },
    {
     "name": "stdout",
     "output_type": "stream",
     "text": [
      "Completed processing F:\\UCF_Crimes\\UCF_Crimes\\Videos\\Explosion\\Explosion020_x264.mp4\n"
     ]
    },
    {
     "name": "stderr",
     "output_type": "stream",
     "text": [
      " 42%|████▏     | 21/50 [00:47<00:35,  1.21s/it]"
     ]
    },
    {
     "name": "stdout",
     "output_type": "stream",
     "text": [
      "Completed processing F:\\UCF_Crimes\\UCF_Crimes\\Videos\\Explosion\\Explosion021_x264.mp4\n"
     ]
    },
    {
     "name": "stderr",
     "output_type": "stream",
     "text": [
      " 44%|████▍     | 22/50 [00:50<00:48,  1.75s/it]"
     ]
    },
    {
     "name": "stdout",
     "output_type": "stream",
     "text": [
      "Completed processing F:\\UCF_Crimes\\UCF_Crimes\\Videos\\Explosion\\Explosion022_x264.mp4\n"
     ]
    },
    {
     "name": "stderr",
     "output_type": "stream",
     "text": [
      " 46%|████▌     | 23/50 [00:53<00:50,  1.86s/it]"
     ]
    },
    {
     "name": "stdout",
     "output_type": "stream",
     "text": [
      "Completed processing F:\\UCF_Crimes\\UCF_Crimes\\Videos\\Explosion\\Explosion023_x264.mp4\n"
     ]
    },
    {
     "name": "stderr",
     "output_type": "stream",
     "text": [
      " 48%|████▊     | 24/50 [00:54<00:43,  1.67s/it]"
     ]
    },
    {
     "name": "stdout",
     "output_type": "stream",
     "text": [
      "Completed processing F:\\UCF_Crimes\\UCF_Crimes\\Videos\\Explosion\\Explosion024_x264.mp4\n"
     ]
    },
    {
     "name": "stderr",
     "output_type": "stream",
     "text": [
      " 50%|█████     | 25/50 [00:55<00:35,  1.40s/it]"
     ]
    },
    {
     "name": "stdout",
     "output_type": "stream",
     "text": [
      "Completed processing F:\\UCF_Crimes\\UCF_Crimes\\Videos\\Explosion\\Explosion025_x264.mp4\n"
     ]
    },
    {
     "name": "stderr",
     "output_type": "stream",
     "text": [
      " 52%|█████▏    | 26/50 [00:57<00:40,  1.70s/it]"
     ]
    },
    {
     "name": "stdout",
     "output_type": "stream",
     "text": [
      "Completed processing F:\\UCF_Crimes\\UCF_Crimes\\Videos\\Explosion\\Explosion026_x264.mp4\n"
     ]
    },
    {
     "name": "stderr",
     "output_type": "stream",
     "text": [
      " 54%|█████▍    | 27/50 [00:58<00:33,  1.47s/it]"
     ]
    },
    {
     "name": "stdout",
     "output_type": "stream",
     "text": [
      "Completed processing F:\\UCF_Crimes\\UCF_Crimes\\Videos\\Explosion\\Explosion027_x264.mp4\n"
     ]
    },
    {
     "name": "stderr",
     "output_type": "stream",
     "text": [
      " 56%|█████▌    | 28/50 [00:59<00:32,  1.49s/it]"
     ]
    },
    {
     "name": "stdout",
     "output_type": "stream",
     "text": [
      "Completed processing F:\\UCF_Crimes\\UCF_Crimes\\Videos\\Explosion\\Explosion028_x264.mp4\n"
     ]
    },
    {
     "name": "stderr",
     "output_type": "stream",
     "text": [
      " 58%|█████▊    | 29/50 [01:02<00:35,  1.69s/it]"
     ]
    },
    {
     "name": "stdout",
     "output_type": "stream",
     "text": [
      "Completed processing F:\\UCF_Crimes\\UCF_Crimes\\Videos\\Explosion\\Explosion029_x264.mp4\n"
     ]
    },
    {
     "name": "stderr",
     "output_type": "stream",
     "text": [
      " 60%|██████    | 30/50 [01:06<00:48,  2.45s/it]"
     ]
    },
    {
     "name": "stdout",
     "output_type": "stream",
     "text": [
      "Completed processing F:\\UCF_Crimes\\UCF_Crimes\\Videos\\Explosion\\Explosion030_x264.mp4\n"
     ]
    },
    {
     "name": "stderr",
     "output_type": "stream",
     "text": [
      " 62%|██████▏   | 31/50 [01:08<00:45,  2.39s/it]"
     ]
    },
    {
     "name": "stdout",
     "output_type": "stream",
     "text": [
      "Completed processing F:\\UCF_Crimes\\UCF_Crimes\\Videos\\Explosion\\Explosion032_x264.mp4\n"
     ]
    },
    {
     "name": "stderr",
     "output_type": "stream",
     "text": [
      " 64%|██████▍   | 32/50 [01:11<00:47,  2.67s/it]"
     ]
    },
    {
     "name": "stdout",
     "output_type": "stream",
     "text": [
      "Completed processing F:\\UCF_Crimes\\UCF_Crimes\\Videos\\Explosion\\Explosion033_x264.mp4\n"
     ]
    },
    {
     "name": "stderr",
     "output_type": "stream",
     "text": [
      " 66%|██████▌   | 33/50 [01:12<00:34,  2.00s/it]"
     ]
    },
    {
     "name": "stdout",
     "output_type": "stream",
     "text": [
      "Completed processing F:\\UCF_Crimes\\UCF_Crimes\\Videos\\Explosion\\Explosion034_x264.mp4\n"
     ]
    },
    {
     "name": "stderr",
     "output_type": "stream",
     "text": [
      " 68%|██████▊   | 34/50 [01:14<00:34,  2.19s/it]"
     ]
    },
    {
     "name": "stdout",
     "output_type": "stream",
     "text": [
      "Completed processing F:\\UCF_Crimes\\UCF_Crimes\\Videos\\Explosion\\Explosion035_x264.mp4\n"
     ]
    },
    {
     "name": "stderr",
     "output_type": "stream",
     "text": [
      " 70%|███████   | 35/50 [01:20<00:46,  3.08s/it]"
     ]
    },
    {
     "name": "stdout",
     "output_type": "stream",
     "text": [
      "Completed processing F:\\UCF_Crimes\\UCF_Crimes\\Videos\\Explosion\\Explosion036_x264.mp4\n"
     ]
    },
    {
     "name": "stderr",
     "output_type": "stream",
     "text": [
      " 72%|███████▏  | 36/50 [01:21<00:34,  2.43s/it]"
     ]
    },
    {
     "name": "stdout",
     "output_type": "stream",
     "text": [
      "Completed processing F:\\UCF_Crimes\\UCF_Crimes\\Videos\\Explosion\\Explosion037_x264.mp4\n"
     ]
    },
    {
     "name": "stderr",
     "output_type": "stream",
     "text": [
      " 74%|███████▍  | 37/50 [01:23<00:32,  2.52s/it]"
     ]
    },
    {
     "name": "stdout",
     "output_type": "stream",
     "text": [
      "Completed processing F:\\UCF_Crimes\\UCF_Crimes\\Videos\\Explosion\\Explosion038_x264.mp4\n"
     ]
    },
    {
     "name": "stderr",
     "output_type": "stream",
     "text": [
      " 76%|███████▌  | 38/50 [01:24<00:25,  2.10s/it]"
     ]
    },
    {
     "name": "stdout",
     "output_type": "stream",
     "text": [
      "Completed processing F:\\UCF_Crimes\\UCF_Crimes\\Videos\\Explosion\\Explosion039_x264.mp4\n"
     ]
    },
    {
     "name": "stderr",
     "output_type": "stream",
     "text": [
      " 78%|███████▊  | 39/50 [01:29<00:33,  3.01s/it]"
     ]
    },
    {
     "name": "stdout",
     "output_type": "stream",
     "text": [
      "Completed processing F:\\UCF_Crimes\\UCF_Crimes\\Videos\\Explosion\\Explosion040_x264.mp4\n"
     ]
    },
    {
     "name": "stderr",
     "output_type": "stream",
     "text": [
      " 80%|████████  | 40/50 [01:32<00:28,  2.81s/it]"
     ]
    },
    {
     "name": "stdout",
     "output_type": "stream",
     "text": [
      "Completed processing F:\\UCF_Crimes\\UCF_Crimes\\Videos\\Explosion\\Explosion041_x264.mp4\n"
     ]
    },
    {
     "name": "stderr",
     "output_type": "stream",
     "text": [
      " 82%|████████▏ | 41/50 [01:34<00:24,  2.76s/it]"
     ]
    },
    {
     "name": "stdout",
     "output_type": "stream",
     "text": [
      "Completed processing F:\\UCF_Crimes\\UCF_Crimes\\Videos\\Explosion\\Explosion042_x264.mp4\n"
     ]
    },
    {
     "name": "stderr",
     "output_type": "stream",
     "text": [
      " 84%|████████▍ | 42/50 [01:41<00:31,  3.88s/it]"
     ]
    },
    {
     "name": "stdout",
     "output_type": "stream",
     "text": [
      "Completed processing F:\\UCF_Crimes\\UCF_Crimes\\Videos\\Explosion\\Explosion043_x264.mp4\n"
     ]
    },
    {
     "name": "stderr",
     "output_type": "stream",
     "text": [
      " 86%|████████▌ | 43/50 [01:42<00:20,  2.93s/it]"
     ]
    },
    {
     "name": "stdout",
     "output_type": "stream",
     "text": [
      "Completed processing F:\\UCF_Crimes\\UCF_Crimes\\Videos\\Explosion\\Explosion044_x264.mp4\n"
     ]
    },
    {
     "name": "stderr",
     "output_type": "stream",
     "text": [
      " 88%|████████▊ | 44/50 [01:42<00:13,  2.29s/it]"
     ]
    },
    {
     "name": "stdout",
     "output_type": "stream",
     "text": [
      "Completed processing F:\\UCF_Crimes\\UCF_Crimes\\Videos\\Explosion\\Explosion045_x264.mp4\n"
     ]
    },
    {
     "name": "stderr",
     "output_type": "stream",
     "text": [
      " 90%|█████████ | 45/50 [04:00<03:34, 42.82s/it]"
     ]
    },
    {
     "name": "stdout",
     "output_type": "stream",
     "text": [
      "Completed processing F:\\UCF_Crimes\\UCF_Crimes\\Videos\\Explosion\\Explosion046_x264.mp4\n"
     ]
    },
    {
     "name": "stderr",
     "output_type": "stream",
     "text": [
      " 92%|█████████▏| 46/50 [04:01<02:01, 30.32s/it]"
     ]
    },
    {
     "name": "stdout",
     "output_type": "stream",
     "text": [
      "Completed processing F:\\UCF_Crimes\\UCF_Crimes\\Videos\\Explosion\\Explosion047_x264.mp4\n"
     ]
    },
    {
     "name": "stderr",
     "output_type": "stream",
     "text": [
      " 94%|█████████▍| 47/50 [04:02<01:04, 21.45s/it]"
     ]
    },
    {
     "name": "stdout",
     "output_type": "stream",
     "text": [
      "Completed processing F:\\UCF_Crimes\\UCF_Crimes\\Videos\\Explosion\\Explosion048_x264.mp4\n"
     ]
    },
    {
     "name": "stderr",
     "output_type": "stream",
     "text": [
      " 96%|█████████▌| 48/50 [04:02<00:30, 15.14s/it]"
     ]
    },
    {
     "name": "stdout",
     "output_type": "stream",
     "text": [
      "Completed processing F:\\UCF_Crimes\\UCF_Crimes\\Videos\\Explosion\\Explosion050_x264.mp4\n"
     ]
    },
    {
     "name": "stderr",
     "output_type": "stream",
     "text": [
      " 98%|█████████▊| 49/50 [04:04<00:11, 11.23s/it]"
     ]
    },
    {
     "name": "stdout",
     "output_type": "stream",
     "text": [
      "Completed processing F:\\UCF_Crimes\\UCF_Crimes\\Videos\\Explosion\\Explosion051_x264.mp4\n"
     ]
    },
    {
     "name": "stderr",
     "output_type": "stream",
     "text": [
      "100%|██████████| 50/50 [04:08<00:00,  4.97s/it]\n"
     ]
    },
    {
     "name": "stdout",
     "output_type": "stream",
     "text": [
      "Completed processing F:\\UCF_Crimes\\UCF_Crimes\\Videos\\Explosion\\Explosion052_x264.mp4\n"
     ]
    },
    {
     "name": "stderr",
     "output_type": "stream",
     "text": [
      "  2%|▏         | 1/50 [00:02<02:07,  2.61s/it]"
     ]
    },
    {
     "name": "stdout",
     "output_type": "stream",
     "text": [
      "Completed processing F:\\UCF_Crimes\\UCF_Crimes\\Videos\\Fighting\\Fighting002_x264.mp4\n"
     ]
    },
    {
     "name": "stderr",
     "output_type": "stream",
     "text": [
      "  4%|▍         | 2/50 [00:05<02:18,  2.89s/it]"
     ]
    },
    {
     "name": "stdout",
     "output_type": "stream",
     "text": [
      "Completed processing F:\\UCF_Crimes\\UCF_Crimes\\Videos\\Fighting\\Fighting003_x264.mp4\n"
     ]
    },
    {
     "name": "stderr",
     "output_type": "stream",
     "text": [
      "  6%|▌         | 3/50 [00:21<06:42,  8.57s/it]"
     ]
    },
    {
     "name": "stdout",
     "output_type": "stream",
     "text": [
      "Completed processing F:\\UCF_Crimes\\UCF_Crimes\\Videos\\Fighting\\Fighting004_x264.mp4\n"
     ]
    },
    {
     "name": "stderr",
     "output_type": "stream",
     "text": [
      "  8%|▊         | 4/50 [00:22<04:28,  5.84s/it]"
     ]
    },
    {
     "name": "stdout",
     "output_type": "stream",
     "text": [
      "Completed processing F:\\UCF_Crimes\\UCF_Crimes\\Videos\\Fighting\\Fighting005_x264.mp4\n"
     ]
    },
    {
     "name": "stderr",
     "output_type": "stream",
     "text": [
      " 10%|█         | 5/50 [00:23<03:05,  4.12s/it]"
     ]
    },
    {
     "name": "stdout",
     "output_type": "stream",
     "text": [
      "Completed processing F:\\UCF_Crimes\\UCF_Crimes\\Videos\\Fighting\\Fighting006_x264.mp4\n"
     ]
    },
    {
     "name": "stderr",
     "output_type": "stream",
     "text": [
      " 12%|█▏        | 6/50 [00:27<03:02,  4.14s/it]"
     ]
    },
    {
     "name": "stdout",
     "output_type": "stream",
     "text": [
      "Completed processing F:\\UCF_Crimes\\UCF_Crimes\\Videos\\Fighting\\Fighting007_x264.mp4\n"
     ]
    },
    {
     "name": "stderr",
     "output_type": "stream",
     "text": [
      " 14%|█▍        | 7/50 [00:41<05:08,  7.18s/it]"
     ]
    },
    {
     "name": "stdout",
     "output_type": "stream",
     "text": [
      "Completed processing F:\\UCF_Crimes\\UCF_Crimes\\Videos\\Fighting\\Fighting008_x264.mp4\n"
     ]
    },
    {
     "name": "stderr",
     "output_type": "stream",
     "text": [
      " 16%|█▌        | 8/50 [00:43<03:51,  5.51s/it]"
     ]
    },
    {
     "name": "stdout",
     "output_type": "stream",
     "text": [
      "Completed processing F:\\UCF_Crimes\\UCF_Crimes\\Videos\\Fighting\\Fighting009_x264.mp4\n"
     ]
    },
    {
     "name": "stderr",
     "output_type": "stream",
     "text": [
      " 18%|█▊        | 9/50 [00:49<03:52,  5.68s/it]"
     ]
    },
    {
     "name": "stdout",
     "output_type": "stream",
     "text": [
      "Completed processing F:\\UCF_Crimes\\UCF_Crimes\\Videos\\Fighting\\Fighting010_x264.mp4\n"
     ]
    },
    {
     "name": "stderr",
     "output_type": "stream",
     "text": [
      " 20%|██        | 10/50 [00:57<04:13,  6.35s/it]"
     ]
    },
    {
     "name": "stdout",
     "output_type": "stream",
     "text": [
      "Completed processing F:\\UCF_Crimes\\UCF_Crimes\\Videos\\Fighting\\Fighting011_x264.mp4\n"
     ]
    },
    {
     "name": "stderr",
     "output_type": "stream",
     "text": [
      " 22%|██▏       | 11/50 [00:58<03:07,  4.81s/it]"
     ]
    },
    {
     "name": "stdout",
     "output_type": "stream",
     "text": [
      "Completed processing F:\\UCF_Crimes\\UCF_Crimes\\Videos\\Fighting\\Fighting012_x264.mp4\n"
     ]
    },
    {
     "name": "stderr",
     "output_type": "stream",
     "text": [
      " 24%|██▍       | 12/50 [00:59<02:23,  3.77s/it]"
     ]
    },
    {
     "name": "stdout",
     "output_type": "stream",
     "text": [
      "Completed processing F:\\UCF_Crimes\\UCF_Crimes\\Videos\\Fighting\\Fighting013_x264.mp4\n"
     ]
    },
    {
     "name": "stderr",
     "output_type": "stream",
     "text": [
      " 26%|██▌       | 13/50 [01:04<02:30,  4.06s/it]"
     ]
    },
    {
     "name": "stdout",
     "output_type": "stream",
     "text": [
      "Completed processing F:\\UCF_Crimes\\UCF_Crimes\\Videos\\Fighting\\Fighting014_x264.mp4\n"
     ]
    },
    {
     "name": "stderr",
     "output_type": "stream",
     "text": [
      " 28%|██▊       | 14/50 [01:15<03:43,  6.21s/it]"
     ]
    },
    {
     "name": "stdout",
     "output_type": "stream",
     "text": [
      "Completed processing F:\\UCF_Crimes\\UCF_Crimes\\Videos\\Fighting\\Fighting015_x264.mp4\n"
     ]
    },
    {
     "name": "stderr",
     "output_type": "stream",
     "text": [
      " 30%|███       | 15/50 [01:18<03:03,  5.25s/it]"
     ]
    },
    {
     "name": "stdout",
     "output_type": "stream",
     "text": [
      "Completed processing F:\\UCF_Crimes\\UCF_Crimes\\Videos\\Fighting\\Fighting016_x264.mp4\n"
     ]
    },
    {
     "name": "stderr",
     "output_type": "stream",
     "text": [
      " 32%|███▏      | 16/50 [01:21<02:26,  4.32s/it]"
     ]
    },
    {
     "name": "stdout",
     "output_type": "stream",
     "text": [
      "Completed processing F:\\UCF_Crimes\\UCF_Crimes\\Videos\\Fighting\\Fighting017_x264.mp4\n"
     ]
    },
    {
     "name": "stderr",
     "output_type": "stream",
     "text": [
      " 34%|███▍      | 17/50 [01:22<01:52,  3.40s/it]"
     ]
    },
    {
     "name": "stdout",
     "output_type": "stream",
     "text": [
      "Completed processing F:\\UCF_Crimes\\UCF_Crimes\\Videos\\Fighting\\Fighting018_x264.mp4\n"
     ]
    },
    {
     "name": "stderr",
     "output_type": "stream",
     "text": [
      " 36%|███▌      | 18/50 [01:25<01:51,  3.47s/it]"
     ]
    },
    {
     "name": "stdout",
     "output_type": "stream",
     "text": [
      "Completed processing F:\\UCF_Crimes\\UCF_Crimes\\Videos\\Fighting\\Fighting019_x264.mp4\n"
     ]
    },
    {
     "name": "stderr",
     "output_type": "stream",
     "text": [
      " 38%|███▊      | 19/50 [01:28<01:34,  3.05s/it]"
     ]
    },
    {
     "name": "stdout",
     "output_type": "stream",
     "text": [
      "Completed processing F:\\UCF_Crimes\\UCF_Crimes\\Videos\\Fighting\\Fighting020_x264.mp4\n"
     ]
    },
    {
     "name": "stderr",
     "output_type": "stream",
     "text": [
      " 40%|████      | 20/50 [01:31<01:37,  3.26s/it]"
     ]
    },
    {
     "name": "stdout",
     "output_type": "stream",
     "text": [
      "Completed processing F:\\UCF_Crimes\\UCF_Crimes\\Videos\\Fighting\\Fighting021_x264.mp4\n"
     ]
    },
    {
     "name": "stderr",
     "output_type": "stream",
     "text": [
      " 42%|████▏     | 21/50 [01:36<01:47,  3.71s/it]"
     ]
    },
    {
     "name": "stdout",
     "output_type": "stream",
     "text": [
      "Completed processing F:\\UCF_Crimes\\UCF_Crimes\\Videos\\Fighting\\Fighting022_x264.mp4\n"
     ]
    },
    {
     "name": "stderr",
     "output_type": "stream",
     "text": [
      " 44%|████▍     | 22/50 [01:37<01:20,  2.87s/it]"
     ]
    },
    {
     "name": "stdout",
     "output_type": "stream",
     "text": [
      "Completed processing F:\\UCF_Crimes\\UCF_Crimes\\Videos\\Fighting\\Fighting023_x264.mp4\n"
     ]
    },
    {
     "name": "stderr",
     "output_type": "stream",
     "text": [
      " 46%|████▌     | 23/50 [01:44<01:51,  4.12s/it]"
     ]
    },
    {
     "name": "stdout",
     "output_type": "stream",
     "text": [
      "Completed processing F:\\UCF_Crimes\\UCF_Crimes\\Videos\\Fighting\\Fighting024_x264.mp4\n"
     ]
    },
    {
     "name": "stderr",
     "output_type": "stream",
     "text": [
      " 48%|████▊     | 24/50 [01:49<01:52,  4.33s/it]"
     ]
    },
    {
     "name": "stdout",
     "output_type": "stream",
     "text": [
      "Completed processing F:\\UCF_Crimes\\UCF_Crimes\\Videos\\Fighting\\Fighting025_x264.mp4\n"
     ]
    },
    {
     "name": "stderr",
     "output_type": "stream",
     "text": [
      " 50%|█████     | 25/50 [01:52<01:36,  3.87s/it]"
     ]
    },
    {
     "name": "stdout",
     "output_type": "stream",
     "text": [
      "Completed processing F:\\UCF_Crimes\\UCF_Crimes\\Videos\\Fighting\\Fighting026_x264.mp4\n"
     ]
    },
    {
     "name": "stderr",
     "output_type": "stream",
     "text": [
      " 52%|█████▏    | 26/50 [01:55<01:31,  3.83s/it]"
     ]
    },
    {
     "name": "stdout",
     "output_type": "stream",
     "text": [
      "Completed processing F:\\UCF_Crimes\\UCF_Crimes\\Videos\\Fighting\\Fighting027_x264.mp4\n"
     ]
    },
    {
     "name": "stderr",
     "output_type": "stream",
     "text": [
      " 54%|█████▍    | 27/50 [01:58<01:22,  3.57s/it]"
     ]
    },
    {
     "name": "stdout",
     "output_type": "stream",
     "text": [
      "Completed processing F:\\UCF_Crimes\\UCF_Crimes\\Videos\\Fighting\\Fighting028_x264.mp4\n"
     ]
    },
    {
     "name": "stderr",
     "output_type": "stream",
     "text": [
      " 56%|█████▌    | 28/50 [02:02<01:17,  3.52s/it]"
     ]
    },
    {
     "name": "stdout",
     "output_type": "stream",
     "text": [
      "Completed processing F:\\UCF_Crimes\\UCF_Crimes\\Videos\\Fighting\\Fighting029_x264.mp4\n"
     ]
    },
    {
     "name": "stderr",
     "output_type": "stream",
     "text": [
      " 58%|█████▊    | 29/50 [02:04<01:06,  3.18s/it]"
     ]
    },
    {
     "name": "stdout",
     "output_type": "stream",
     "text": [
      "Completed processing F:\\UCF_Crimes\\UCF_Crimes\\Videos\\Fighting\\Fighting030_x264.mp4\n"
     ]
    },
    {
     "name": "stderr",
     "output_type": "stream",
     "text": [
      " 60%|██████    | 30/50 [02:14<01:46,  5.31s/it]"
     ]
    },
    {
     "name": "stdout",
     "output_type": "stream",
     "text": [
      "Completed processing F:\\UCF_Crimes\\UCF_Crimes\\Videos\\Fighting\\Fighting031_x264.mp4\n"
     ]
    },
    {
     "name": "stderr",
     "output_type": "stream",
     "text": [
      " 62%|██████▏   | 31/50 [02:16<01:19,  4.18s/it]"
     ]
    },
    {
     "name": "stdout",
     "output_type": "stream",
     "text": [
      "Completed processing F:\\UCF_Crimes\\UCF_Crimes\\Videos\\Fighting\\Fighting032_x264.mp4\n"
     ]
    },
    {
     "name": "stderr",
     "output_type": "stream",
     "text": [
      " 64%|██████▍   | 32/50 [02:17<00:58,  3.27s/it]"
     ]
    },
    {
     "name": "stdout",
     "output_type": "stream",
     "text": [
      "Completed processing F:\\UCF_Crimes\\UCF_Crimes\\Videos\\Fighting\\Fighting033_x264.mp4\n"
     ]
    },
    {
     "name": "stderr",
     "output_type": "stream",
     "text": [
      " 66%|██████▌   | 33/50 [02:23<01:11,  4.22s/it]"
     ]
    },
    {
     "name": "stdout",
     "output_type": "stream",
     "text": [
      "Completed processing F:\\UCF_Crimes\\UCF_Crimes\\Videos\\Fighting\\Fighting034_x264.mp4\n"
     ]
    },
    {
     "name": "stderr",
     "output_type": "stream",
     "text": [
      " 68%|██████▊   | 34/50 [02:25<00:52,  3.28s/it]"
     ]
    },
    {
     "name": "stdout",
     "output_type": "stream",
     "text": [
      "Completed processing F:\\UCF_Crimes\\UCF_Crimes\\Videos\\Fighting\\Fighting035_x264.mp4\n"
     ]
    },
    {
     "name": "stderr",
     "output_type": "stream",
     "text": [
      " 70%|███████   | 35/50 [02:29<00:52,  3.49s/it]"
     ]
    },
    {
     "name": "stdout",
     "output_type": "stream",
     "text": [
      "Completed processing F:\\UCF_Crimes\\UCF_Crimes\\Videos\\Fighting\\Fighting036_x264.mp4\n"
     ]
    },
    {
     "name": "stderr",
     "output_type": "stream",
     "text": [
      " 72%|███████▏  | 36/50 [02:33<00:52,  3.73s/it]"
     ]
    },
    {
     "name": "stdout",
     "output_type": "stream",
     "text": [
      "Completed processing F:\\UCF_Crimes\\UCF_Crimes\\Videos\\Fighting\\Fighting037_x264.mp4\n"
     ]
    },
    {
     "name": "stderr",
     "output_type": "stream",
     "text": [
      " 74%|███████▍  | 37/50 [02:34<00:36,  2.85s/it]"
     ]
    },
    {
     "name": "stdout",
     "output_type": "stream",
     "text": [
      "Completed processing F:\\UCF_Crimes\\UCF_Crimes\\Videos\\Fighting\\Fighting038_x264.mp4\n"
     ]
    },
    {
     "name": "stderr",
     "output_type": "stream",
     "text": [
      " 76%|███████▌  | 38/50 [02:42<00:52,  4.40s/it]"
     ]
    },
    {
     "name": "stdout",
     "output_type": "stream",
     "text": [
      "Completed processing F:\\UCF_Crimes\\UCF_Crimes\\Videos\\Fighting\\Fighting039_x264.mp4\n"
     ]
    },
    {
     "name": "stderr",
     "output_type": "stream",
     "text": [
      " 78%|███████▊  | 39/50 [02:44<00:42,  3.83s/it]"
     ]
    },
    {
     "name": "stdout",
     "output_type": "stream",
     "text": [
      "Completed processing F:\\UCF_Crimes\\UCF_Crimes\\Videos\\Fighting\\Fighting040_x264.mp4\n"
     ]
    },
    {
     "name": "stderr",
     "output_type": "stream",
     "text": [
      " 80%|████████  | 40/50 [03:13<01:53, 11.38s/it]"
     ]
    },
    {
     "name": "stdout",
     "output_type": "stream",
     "text": [
      "Completed processing F:\\UCF_Crimes\\UCF_Crimes\\Videos\\Fighting\\Fighting041_x264.mp4\n"
     ]
    },
    {
     "name": "stderr",
     "output_type": "stream",
     "text": [
      " 82%|████████▏ | 41/50 [03:15<01:17,  8.65s/it]"
     ]
    },
    {
     "name": "stdout",
     "output_type": "stream",
     "text": [
      "Completed processing F:\\UCF_Crimes\\UCF_Crimes\\Videos\\Fighting\\Fighting042_x264.mp4\n"
     ]
    },
    {
     "name": "stderr",
     "output_type": "stream",
     "text": [
      " 84%|████████▍ | 42/50 [03:19<00:57,  7.18s/it]"
     ]
    },
    {
     "name": "stdout",
     "output_type": "stream",
     "text": [
      "Completed processing F:\\UCF_Crimes\\UCF_Crimes\\Videos\\Fighting\\Fighting043_x264.mp4\n"
     ]
    },
    {
     "name": "stderr",
     "output_type": "stream",
     "text": [
      " 86%|████████▌ | 43/50 [03:26<00:50,  7.22s/it]"
     ]
    },
    {
     "name": "stdout",
     "output_type": "stream",
     "text": [
      "Completed processing F:\\UCF_Crimes\\UCF_Crimes\\Videos\\Fighting\\Fighting044_x264.mp4\n"
     ]
    },
    {
     "name": "stderr",
     "output_type": "stream",
     "text": [
      " 88%|████████▊ | 44/50 [03:33<00:41,  6.99s/it]"
     ]
    },
    {
     "name": "stdout",
     "output_type": "stream",
     "text": [
      "Completed processing F:\\UCF_Crimes\\UCF_Crimes\\Videos\\Fighting\\Fighting045_x264.mp4\n"
     ]
    },
    {
     "name": "stderr",
     "output_type": "stream",
     "text": [
      " 90%|█████████ | 45/50 [03:36<00:29,  5.88s/it]"
     ]
    },
    {
     "name": "stdout",
     "output_type": "stream",
     "text": [
      "Completed processing F:\\UCF_Crimes\\UCF_Crimes\\Videos\\Fighting\\Fighting046_x264.mp4\n"
     ]
    },
    {
     "name": "stderr",
     "output_type": "stream",
     "text": [
      " 92%|█████████▏| 46/50 [03:40<00:21,  5.26s/it]"
     ]
    },
    {
     "name": "stdout",
     "output_type": "stream",
     "text": [
      "Completed processing F:\\UCF_Crimes\\UCF_Crimes\\Videos\\Fighting\\Fighting047_x264.mp4\n"
     ]
    },
    {
     "name": "stderr",
     "output_type": "stream",
     "text": [
      " 94%|█████████▍| 47/50 [03:47<00:17,  5.84s/it]"
     ]
    },
    {
     "name": "stdout",
     "output_type": "stream",
     "text": [
      "Completed processing F:\\UCF_Crimes\\UCF_Crimes\\Videos\\Fighting\\Fighting048_x264.mp4\n"
     ]
    },
    {
     "name": "stderr",
     "output_type": "stream",
     "text": [
      " 96%|█████████▌| 48/50 [03:49<00:09,  4.53s/it]"
     ]
    },
    {
     "name": "stdout",
     "output_type": "stream",
     "text": [
      "Completed processing F:\\UCF_Crimes\\UCF_Crimes\\Videos\\Fighting\\Fighting049_x264.mp4\n"
     ]
    },
    {
     "name": "stderr",
     "output_type": "stream",
     "text": [
      " 98%|█████████▊| 49/50 [04:18<00:11, 11.83s/it]"
     ]
    },
    {
     "name": "stdout",
     "output_type": "stream",
     "text": [
      "Completed processing F:\\UCF_Crimes\\UCF_Crimes\\Videos\\Fighting\\Fighting050_x264.mp4\n"
     ]
    },
    {
     "name": "stderr",
     "output_type": "stream",
     "text": [
      "100%|██████████| 50/50 [04:25<00:00,  5.31s/it]\n"
     ]
    },
    {
     "name": "stdout",
     "output_type": "stream",
     "text": [
      "Completed processing F:\\UCF_Crimes\\UCF_Crimes\\Videos\\Fighting\\Fighting051_x264.mp4\n"
     ]
    },
    {
     "name": "stderr",
     "output_type": "stream",
     "text": [
      "  1%|          | 1/150 [00:01<03:17,  1.33s/it]"
     ]
    },
    {
     "name": "stdout",
     "output_type": "stream",
     "text": [
      "Completed processing F:\\UCF_Crimes\\UCF_Crimes\\Videos\\RoadAccidents\\RoadAccidents001_x264.mp4\n"
     ]
    },
    {
     "name": "stderr",
     "output_type": "stream",
     "text": [
      "  1%|▏         | 2/150 [00:01<02:08,  1.15it/s]"
     ]
    },
    {
     "name": "stdout",
     "output_type": "stream",
     "text": [
      "Completed processing F:\\UCF_Crimes\\UCF_Crimes\\Videos\\RoadAccidents\\RoadAccidents002_x264.mp4\n"
     ]
    },
    {
     "name": "stderr",
     "output_type": "stream",
     "text": [
      "  2%|▏         | 3/150 [00:03<03:20,  1.36s/it]"
     ]
    },
    {
     "name": "stdout",
     "output_type": "stream",
     "text": [
      "Completed processing F:\\UCF_Crimes\\UCF_Crimes\\Videos\\RoadAccidents\\RoadAccidents003_x264.mp4\n"
     ]
    },
    {
     "name": "stderr",
     "output_type": "stream",
     "text": [
      "  3%|▎         | 4/150 [00:04<02:30,  1.03s/it]"
     ]
    },
    {
     "name": "stdout",
     "output_type": "stream",
     "text": [
      "Completed processing F:\\UCF_Crimes\\UCF_Crimes\\Videos\\RoadAccidents\\RoadAccidents004_x264.mp4\n"
     ]
    },
    {
     "name": "stderr",
     "output_type": "stream",
     "text": [
      "  3%|▎         | 5/150 [00:04<01:52,  1.28it/s]"
     ]
    },
    {
     "name": "stdout",
     "output_type": "stream",
     "text": [
      "Completed processing F:\\UCF_Crimes\\UCF_Crimes\\Videos\\RoadAccidents\\RoadAccidents005_x264.mp4\n"
     ]
    },
    {
     "name": "stderr",
     "output_type": "stream",
     "text": [
      "  4%|▍         | 6/150 [00:06<02:29,  1.04s/it]"
     ]
    },
    {
     "name": "stdout",
     "output_type": "stream",
     "text": [
      "Completed processing F:\\UCF_Crimes\\UCF_Crimes\\Videos\\RoadAccidents\\RoadAccidents006_x264.mp4\n"
     ]
    },
    {
     "name": "stderr",
     "output_type": "stream",
     "text": [
      "  5%|▍         | 7/150 [00:07<02:34,  1.08s/it]"
     ]
    },
    {
     "name": "stdout",
     "output_type": "stream",
     "text": [
      "Completed processing F:\\UCF_Crimes\\UCF_Crimes\\Videos\\RoadAccidents\\RoadAccidents007_x264.mp4\n"
     ]
    },
    {
     "name": "stderr",
     "output_type": "stream",
     "text": [
      "  5%|▌         | 8/150 [00:08<02:52,  1.22s/it]"
     ]
    },
    {
     "name": "stdout",
     "output_type": "stream",
     "text": [
      "Completed processing F:\\UCF_Crimes\\UCF_Crimes\\Videos\\RoadAccidents\\RoadAccidents008_x264.mp4\n"
     ]
    },
    {
     "name": "stderr",
     "output_type": "stream",
     "text": [
      "  6%|▌         | 9/150 [00:10<02:52,  1.22s/it]"
     ]
    },
    {
     "name": "stdout",
     "output_type": "stream",
     "text": [
      "Completed processing F:\\UCF_Crimes\\UCF_Crimes\\Videos\\RoadAccidents\\RoadAccidents009_x264.mp4\n"
     ]
    },
    {
     "name": "stderr",
     "output_type": "stream",
     "text": [
      "  7%|▋         | 10/150 [00:10<02:26,  1.04s/it]"
     ]
    },
    {
     "name": "stdout",
     "output_type": "stream",
     "text": [
      "Completed processing F:\\UCF_Crimes\\UCF_Crimes\\Videos\\RoadAccidents\\RoadAccidents010_x264.mp4\n"
     ]
    },
    {
     "name": "stderr",
     "output_type": "stream",
     "text": [
      "  7%|▋         | 11/150 [00:13<03:30,  1.51s/it]"
     ]
    },
    {
     "name": "stdout",
     "output_type": "stream",
     "text": [
      "Completed processing F:\\UCF_Crimes\\UCF_Crimes\\Videos\\RoadAccidents\\RoadAccidents011_x264.mp4\n"
     ]
    },
    {
     "name": "stderr",
     "output_type": "stream",
     "text": [
      "  8%|▊         | 12/150 [00:13<02:51,  1.25s/it]"
     ]
    },
    {
     "name": "stdout",
     "output_type": "stream",
     "text": [
      "Completed processing F:\\UCF_Crimes\\UCF_Crimes\\Videos\\RoadAccidents\\RoadAccidents012_x264.mp4\n"
     ]
    },
    {
     "name": "stderr",
     "output_type": "stream",
     "text": [
      "  9%|▊         | 13/150 [00:16<03:27,  1.51s/it]"
     ]
    },
    {
     "name": "stdout",
     "output_type": "stream",
     "text": [
      "Completed processing F:\\UCF_Crimes\\UCF_Crimes\\Videos\\RoadAccidents\\RoadAccidents013_x264.mp4\n"
     ]
    },
    {
     "name": "stderr",
     "output_type": "stream",
     "text": [
      "  9%|▉         | 14/150 [00:29<11:41,  5.16s/it]"
     ]
    },
    {
     "name": "stdout",
     "output_type": "stream",
     "text": [
      "Completed processing F:\\UCF_Crimes\\UCF_Crimes\\Videos\\RoadAccidents\\RoadAccidents014_x264.mp4\n"
     ]
    },
    {
     "name": "stderr",
     "output_type": "stream",
     "text": [
      " 10%|█         | 15/150 [00:31<09:09,  4.07s/it]"
     ]
    },
    {
     "name": "stdout",
     "output_type": "stream",
     "text": [
      "Completed processing F:\\UCF_Crimes\\UCF_Crimes\\Videos\\RoadAccidents\\RoadAccidents015_x264.mp4\n"
     ]
    },
    {
     "name": "stderr",
     "output_type": "stream",
     "text": [
      " 11%|█         | 16/150 [00:34<08:17,  3.71s/it]"
     ]
    },
    {
     "name": "stdout",
     "output_type": "stream",
     "text": [
      "Completed processing F:\\UCF_Crimes\\UCF_Crimes\\Videos\\RoadAccidents\\RoadAccidents016_x264.mp4\n"
     ]
    },
    {
     "name": "stderr",
     "output_type": "stream",
     "text": [
      " 11%|█▏        | 17/150 [00:34<06:02,  2.73s/it]"
     ]
    },
    {
     "name": "stdout",
     "output_type": "stream",
     "text": [
      "Completed processing F:\\UCF_Crimes\\UCF_Crimes\\Videos\\RoadAccidents\\RoadAccidents017_x264.mp4\n"
     ]
    },
    {
     "name": "stderr",
     "output_type": "stream",
     "text": [
      " 12%|█▏        | 18/150 [00:36<05:25,  2.47s/it]"
     ]
    },
    {
     "name": "stdout",
     "output_type": "stream",
     "text": [
      "Completed processing F:\\UCF_Crimes\\UCF_Crimes\\Videos\\RoadAccidents\\RoadAccidents018_x264.mp4\n"
     ]
    },
    {
     "name": "stderr",
     "output_type": "stream",
     "text": [
      " 13%|█▎        | 19/150 [00:38<04:51,  2.22s/it]"
     ]
    },
    {
     "name": "stdout",
     "output_type": "stream",
     "text": [
      "Completed processing F:\\UCF_Crimes\\UCF_Crimes\\Videos\\RoadAccidents\\RoadAccidents019_x264.mp4\n"
     ]
    },
    {
     "name": "stderr",
     "output_type": "stream",
     "text": [
      " 13%|█▎        | 20/150 [00:39<04:28,  2.06s/it]"
     ]
    },
    {
     "name": "stdout",
     "output_type": "stream",
     "text": [
      "Completed processing F:\\UCF_Crimes\\UCF_Crimes\\Videos\\RoadAccidents\\RoadAccidents020_x264.mp4\n"
     ]
    },
    {
     "name": "stderr",
     "output_type": "stream",
     "text": [
      " 14%|█▍        | 21/150 [00:40<03:19,  1.55s/it]"
     ]
    },
    {
     "name": "stdout",
     "output_type": "stream",
     "text": [
      "Completed processing F:\\UCF_Crimes\\UCF_Crimes\\Videos\\RoadAccidents\\RoadAccidents021_x264.mp4\n"
     ]
    },
    {
     "name": "stderr",
     "output_type": "stream",
     "text": [
      " 15%|█▍        | 22/150 [00:40<02:48,  1.32s/it]"
     ]
    },
    {
     "name": "stdout",
     "output_type": "stream",
     "text": [
      "Completed processing F:\\UCF_Crimes\\UCF_Crimes\\Videos\\RoadAccidents\\RoadAccidents022_x264.mp4\n"
     ]
    },
    {
     "name": "stderr",
     "output_type": "stream",
     "text": [
      " 15%|█▌        | 23/150 [00:44<04:09,  1.96s/it]"
     ]
    },
    {
     "name": "stdout",
     "output_type": "stream",
     "text": [
      "Completed processing F:\\UCF_Crimes\\UCF_Crimes\\Videos\\RoadAccidents\\RoadAccidents023_x264.mp4\n"
     ]
    },
    {
     "name": "stderr",
     "output_type": "stream",
     "text": [
      " 16%|█▌        | 24/150 [00:51<07:03,  3.36s/it]"
     ]
    },
    {
     "name": "stdout",
     "output_type": "stream",
     "text": [
      "Completed processing F:\\UCF_Crimes\\UCF_Crimes\\Videos\\RoadAccidents\\RoadAccidents024_x264.mp4\n"
     ]
    },
    {
     "name": "stderr",
     "output_type": "stream",
     "text": [
      " 17%|█▋        | 25/150 [00:52<05:52,  2.82s/it]"
     ]
    },
    {
     "name": "stdout",
     "output_type": "stream",
     "text": [
      "Completed processing F:\\UCF_Crimes\\UCF_Crimes\\Videos\\RoadAccidents\\RoadAccidents025_x264.mp4\n"
     ]
    },
    {
     "name": "stderr",
     "output_type": "stream",
     "text": [
      " 17%|█▋        | 26/150 [00:53<04:44,  2.29s/it]"
     ]
    },
    {
     "name": "stdout",
     "output_type": "stream",
     "text": [
      "Completed processing F:\\UCF_Crimes\\UCF_Crimes\\Videos\\RoadAccidents\\RoadAccidents026_x264.mp4\n"
     ]
    },
    {
     "name": "stderr",
     "output_type": "stream",
     "text": [
      " 18%|█▊        | 27/150 [00:53<03:24,  1.67s/it]"
     ]
    },
    {
     "name": "stdout",
     "output_type": "stream",
     "text": [
      "Completed processing F:\\UCF_Crimes\\UCF_Crimes\\Videos\\RoadAccidents\\RoadAccidents027_x264.mp4\n"
     ]
    },
    {
     "name": "stderr",
     "output_type": "stream",
     "text": [
      " 19%|█▊        | 28/150 [00:54<02:49,  1.39s/it]"
     ]
    },
    {
     "name": "stdout",
     "output_type": "stream",
     "text": [
      "Completed processing F:\\UCF_Crimes\\UCF_Crimes\\Videos\\RoadAccidents\\RoadAccidents028_x264.mp4\n"
     ]
    },
    {
     "name": "stderr",
     "output_type": "stream",
     "text": [
      " 19%|█▉        | 29/150 [00:55<02:24,  1.20s/it]"
     ]
    },
    {
     "name": "stdout",
     "output_type": "stream",
     "text": [
      "Completed processing F:\\UCF_Crimes\\UCF_Crimes\\Videos\\RoadAccidents\\RoadAccidents029_x264.mp4\n"
     ]
    },
    {
     "name": "stderr",
     "output_type": "stream",
     "text": [
      " 20%|██        | 30/150 [00:56<02:36,  1.30s/it]"
     ]
    },
    {
     "name": "stdout",
     "output_type": "stream",
     "text": [
      "Completed processing F:\\UCF_Crimes\\UCF_Crimes\\Videos\\RoadAccidents\\RoadAccidents030_x264.mp4\n"
     ]
    },
    {
     "name": "stderr",
     "output_type": "stream",
     "text": [
      " 21%|██        | 31/150 [00:58<02:53,  1.46s/it]"
     ]
    },
    {
     "name": "stdout",
     "output_type": "stream",
     "text": [
      "Completed processing F:\\UCF_Crimes\\UCF_Crimes\\Videos\\RoadAccidents\\RoadAccidents031_x264.mp4\n"
     ]
    },
    {
     "name": "stderr",
     "output_type": "stream",
     "text": [
      " 21%|██▏       | 32/150 [01:01<03:40,  1.87s/it]"
     ]
    },
    {
     "name": "stdout",
     "output_type": "stream",
     "text": [
      "Completed processing F:\\UCF_Crimes\\UCF_Crimes\\Videos\\RoadAccidents\\RoadAccidents032_x264.mp4\n"
     ]
    },
    {
     "name": "stderr",
     "output_type": "stream",
     "text": [
      " 22%|██▏       | 33/150 [01:02<03:06,  1.59s/it]"
     ]
    },
    {
     "name": "stdout",
     "output_type": "stream",
     "text": [
      "Completed processing F:\\UCF_Crimes\\UCF_Crimes\\Videos\\RoadAccidents\\RoadAccidents033_x264.mp4\n"
     ]
    },
    {
     "name": "stderr",
     "output_type": "stream",
     "text": [
      " 23%|██▎       | 34/150 [01:04<03:22,  1.74s/it]"
     ]
    },
    {
     "name": "stdout",
     "output_type": "stream",
     "text": [
      "Completed processing F:\\UCF_Crimes\\UCF_Crimes\\Videos\\RoadAccidents\\RoadAccidents034_x264.mp4\n"
     ]
    },
    {
     "name": "stderr",
     "output_type": "stream",
     "text": [
      " 23%|██▎       | 35/150 [01:05<02:36,  1.36s/it]"
     ]
    },
    {
     "name": "stdout",
     "output_type": "stream",
     "text": [
      "Completed processing F:\\UCF_Crimes\\UCF_Crimes\\Videos\\RoadAccidents\\RoadAccidents035_x264.mp4\n"
     ]
    },
    {
     "name": "stderr",
     "output_type": "stream",
     "text": [
      " 24%|██▍       | 36/150 [01:06<02:35,  1.37s/it]"
     ]
    },
    {
     "name": "stdout",
     "output_type": "stream",
     "text": [
      "Completed processing F:\\UCF_Crimes\\UCF_Crimes\\Videos\\RoadAccidents\\RoadAccidents036_x264.mp4\n"
     ]
    },
    {
     "name": "stderr",
     "output_type": "stream",
     "text": [
      " 25%|██▍       | 37/150 [01:08<02:56,  1.56s/it]"
     ]
    },
    {
     "name": "stdout",
     "output_type": "stream",
     "text": [
      "Completed processing F:\\UCF_Crimes\\UCF_Crimes\\Videos\\RoadAccidents\\RoadAccidents037_x264.mp4\n"
     ]
    },
    {
     "name": "stderr",
     "output_type": "stream",
     "text": [
      " 25%|██▌       | 38/150 [01:08<02:21,  1.26s/it]"
     ]
    },
    {
     "name": "stdout",
     "output_type": "stream",
     "text": [
      "Completed processing F:\\UCF_Crimes\\UCF_Crimes\\Videos\\RoadAccidents\\RoadAccidents038_x264.mp4\n"
     ]
    },
    {
     "name": "stderr",
     "output_type": "stream",
     "text": [
      " 26%|██▌       | 39/150 [01:09<01:53,  1.02s/it]"
     ]
    },
    {
     "name": "stdout",
     "output_type": "stream",
     "text": [
      "Completed processing F:\\UCF_Crimes\\UCF_Crimes\\Videos\\RoadAccidents\\RoadAccidents039_x264.mp4\n"
     ]
    },
    {
     "name": "stderr",
     "output_type": "stream",
     "text": [
      " 27%|██▋       | 40/150 [01:11<02:19,  1.27s/it]"
     ]
    },
    {
     "name": "stdout",
     "output_type": "stream",
     "text": [
      "Completed processing F:\\UCF_Crimes\\UCF_Crimes\\Videos\\RoadAccidents\\RoadAccidents040_x264.mp4\n"
     ]
    },
    {
     "name": "stderr",
     "output_type": "stream",
     "text": [
      " 27%|██▋       | 41/150 [01:11<01:49,  1.00s/it]"
     ]
    },
    {
     "name": "stdout",
     "output_type": "stream",
     "text": [
      "Completed processing F:\\UCF_Crimes\\UCF_Crimes\\Videos\\RoadAccidents\\RoadAccidents041_x264.mp4\n"
     ]
    },
    {
     "name": "stderr",
     "output_type": "stream",
     "text": [
      " 28%|██▊       | 42/150 [01:12<01:46,  1.01it/s]"
     ]
    },
    {
     "name": "stdout",
     "output_type": "stream",
     "text": [
      "Completed processing F:\\UCF_Crimes\\UCF_Crimes\\Videos\\RoadAccidents\\RoadAccidents042_x264.mp4\n"
     ]
    },
    {
     "name": "stderr",
     "output_type": "stream",
     "text": [
      " 29%|██▊       | 43/150 [01:12<01:25,  1.25it/s]"
     ]
    },
    {
     "name": "stdout",
     "output_type": "stream",
     "text": [
      "Completed processing F:\\UCF_Crimes\\UCF_Crimes\\Videos\\RoadAccidents\\RoadAccidents043_x264.mp4\n"
     ]
    },
    {
     "name": "stderr",
     "output_type": "stream",
     "text": [
      " 29%|██▉       | 44/150 [01:13<01:15,  1.41it/s]"
     ]
    },
    {
     "name": "stdout",
     "output_type": "stream",
     "text": [
      "Completed processing F:\\UCF_Crimes\\UCF_Crimes\\Videos\\RoadAccidents\\RoadAccidents044_x264.mp4\n"
     ]
    },
    {
     "name": "stderr",
     "output_type": "stream",
     "text": [
      " 30%|███       | 45/150 [01:14<01:20,  1.30it/s]"
     ]
    },
    {
     "name": "stdout",
     "output_type": "stream",
     "text": [
      "Completed processing F:\\UCF_Crimes\\UCF_Crimes\\Videos\\RoadAccidents\\RoadAccidents046_x264.mp4\n"
     ]
    },
    {
     "name": "stderr",
     "output_type": "stream",
     "text": [
      " 31%|███       | 46/150 [01:15<01:16,  1.36it/s]"
     ]
    },
    {
     "name": "stdout",
     "output_type": "stream",
     "text": [
      "Completed processing F:\\UCF_Crimes\\UCF_Crimes\\Videos\\RoadAccidents\\RoadAccidents047_x264.mp4\n"
     ]
    },
    {
     "name": "stderr",
     "output_type": "stream",
     "text": [
      " 31%|███▏      | 47/150 [01:17<02:08,  1.25s/it]"
     ]
    },
    {
     "name": "stdout",
     "output_type": "stream",
     "text": [
      "Completed processing F:\\UCF_Crimes\\UCF_Crimes\\Videos\\RoadAccidents\\RoadAccidents048_x264.mp4\n"
     ]
    },
    {
     "name": "stderr",
     "output_type": "stream",
     "text": [
      " 32%|███▏      | 48/150 [01:18<02:02,  1.20s/it]"
     ]
    },
    {
     "name": "stdout",
     "output_type": "stream",
     "text": [
      "Completed processing F:\\UCF_Crimes\\UCF_Crimes\\Videos\\RoadAccidents\\RoadAccidents049_x264.mp4\n"
     ]
    },
    {
     "name": "stderr",
     "output_type": "stream",
     "text": [
      " 33%|███▎      | 49/150 [01:19<02:06,  1.25s/it]"
     ]
    },
    {
     "name": "stdout",
     "output_type": "stream",
     "text": [
      "Completed processing F:\\UCF_Crimes\\UCF_Crimes\\Videos\\RoadAccidents\\RoadAccidents050_x264.mp4\n"
     ]
    },
    {
     "name": "stderr",
     "output_type": "stream",
     "text": [
      " 33%|███▎      | 50/150 [01:20<01:43,  1.04s/it]"
     ]
    },
    {
     "name": "stdout",
     "output_type": "stream",
     "text": [
      "Completed processing F:\\UCF_Crimes\\UCF_Crimes\\Videos\\RoadAccidents\\RoadAccidents051_x264.mp4\n"
     ]
    },
    {
     "name": "stderr",
     "output_type": "stream",
     "text": [
      " 34%|███▍      | 51/150 [01:20<01:25,  1.16it/s]"
     ]
    },
    {
     "name": "stdout",
     "output_type": "stream",
     "text": [
      "Completed processing F:\\UCF_Crimes\\UCF_Crimes\\Videos\\RoadAccidents\\RoadAccidents052_x264.mp4\n"
     ]
    },
    {
     "name": "stderr",
     "output_type": "stream",
     "text": [
      " 35%|███▍      | 52/150 [01:21<01:23,  1.17it/s]"
     ]
    },
    {
     "name": "stdout",
     "output_type": "stream",
     "text": [
      "Completed processing F:\\UCF_Crimes\\UCF_Crimes\\Videos\\RoadAccidents\\RoadAccidents053_x264.mp4\n"
     ]
    },
    {
     "name": "stderr",
     "output_type": "stream",
     "text": [
      " 35%|███▌      | 53/150 [01:23<01:38,  1.02s/it]"
     ]
    },
    {
     "name": "stdout",
     "output_type": "stream",
     "text": [
      "Completed processing F:\\UCF_Crimes\\UCF_Crimes\\Videos\\RoadAccidents\\RoadAccidents054_x264.mp4\n"
     ]
    },
    {
     "name": "stderr",
     "output_type": "stream",
     "text": [
      " 36%|███▌      | 54/150 [01:24<01:35,  1.00it/s]"
     ]
    },
    {
     "name": "stdout",
     "output_type": "stream",
     "text": [
      "Completed processing F:\\UCF_Crimes\\UCF_Crimes\\Videos\\RoadAccidents\\RoadAccidents055_x264.mp4\n"
     ]
    },
    {
     "name": "stderr",
     "output_type": "stream",
     "text": [
      " 37%|███▋      | 55/150 [01:25<01:40,  1.05s/it]"
     ]
    },
    {
     "name": "stdout",
     "output_type": "stream",
     "text": [
      "Completed processing F:\\UCF_Crimes\\UCF_Crimes\\Videos\\RoadAccidents\\RoadAccidents056_x264.mp4\n"
     ]
    },
    {
     "name": "stderr",
     "output_type": "stream",
     "text": [
      " 37%|███▋      | 56/150 [01:27<02:16,  1.46s/it]"
     ]
    },
    {
     "name": "stdout",
     "output_type": "stream",
     "text": [
      "Completed processing F:\\UCF_Crimes\\UCF_Crimes\\Videos\\RoadAccidents\\RoadAccidents057_x264.mp4\n"
     ]
    },
    {
     "name": "stderr",
     "output_type": "stream",
     "text": [
      " 38%|███▊      | 57/150 [01:28<01:54,  1.23s/it]"
     ]
    },
    {
     "name": "stdout",
     "output_type": "stream",
     "text": [
      "Completed processing F:\\UCF_Crimes\\UCF_Crimes\\Videos\\RoadAccidents\\RoadAccidents058_x264.mp4\n"
     ]
    },
    {
     "name": "stderr",
     "output_type": "stream",
     "text": [
      " 39%|███▊      | 58/150 [01:30<02:09,  1.41s/it]"
     ]
    },
    {
     "name": "stdout",
     "output_type": "stream",
     "text": [
      "Completed processing F:\\UCF_Crimes\\UCF_Crimes\\Videos\\RoadAccidents\\RoadAccidents059_x264.mp4\n"
     ]
    },
    {
     "name": "stderr",
     "output_type": "stream",
     "text": [
      " 39%|███▉      | 59/150 [01:31<01:55,  1.27s/it]"
     ]
    },
    {
     "name": "stdout",
     "output_type": "stream",
     "text": [
      "Completed processing F:\\UCF_Crimes\\UCF_Crimes\\Videos\\RoadAccidents\\RoadAccidents060_x264.mp4\n"
     ]
    },
    {
     "name": "stderr",
     "output_type": "stream",
     "text": [
      " 40%|████      | 60/150 [01:31<01:40,  1.12s/it]"
     ]
    },
    {
     "name": "stdout",
     "output_type": "stream",
     "text": [
      "Completed processing F:\\UCF_Crimes\\UCF_Crimes\\Videos\\RoadAccidents\\RoadAccidents061_x264.mp4\n"
     ]
    },
    {
     "name": "stderr",
     "output_type": "stream",
     "text": [
      " 41%|████      | 61/150 [01:46<07:46,  5.24s/it]"
     ]
    },
    {
     "name": "stdout",
     "output_type": "stream",
     "text": [
      "Completed processing F:\\UCF_Crimes\\UCF_Crimes\\Videos\\RoadAccidents\\RoadAccidents062_x264.mp4\n"
     ]
    },
    {
     "name": "stderr",
     "output_type": "stream",
     "text": [
      " 41%|████▏     | 62/150 [01:59<10:52,  7.41s/it]"
     ]
    },
    {
     "name": "stdout",
     "output_type": "stream",
     "text": [
      "Completed processing F:\\UCF_Crimes\\UCF_Crimes\\Videos\\RoadAccidents\\RoadAccidents063_x264.mp4\n"
     ]
    },
    {
     "name": "stderr",
     "output_type": "stream",
     "text": [
      " 42%|████▏     | 63/150 [02:01<08:28,  5.84s/it]"
     ]
    },
    {
     "name": "stdout",
     "output_type": "stream",
     "text": [
      "Completed processing F:\\UCF_Crimes\\UCF_Crimes\\Videos\\RoadAccidents\\RoadAccidents064_x264.mp4\n"
     ]
    },
    {
     "name": "stderr",
     "output_type": "stream",
     "text": [
      " 43%|████▎     | 64/150 [02:01<05:59,  4.18s/it]"
     ]
    },
    {
     "name": "stdout",
     "output_type": "stream",
     "text": [
      "Completed processing F:\\UCF_Crimes\\UCF_Crimes\\Videos\\RoadAccidents\\RoadAccidents065_x264.mp4\n"
     ]
    },
    {
     "name": "stderr",
     "output_type": "stream",
     "text": [
      " 43%|████▎     | 65/150 [02:03<04:59,  3.52s/it]"
     ]
    },
    {
     "name": "stdout",
     "output_type": "stream",
     "text": [
      "Completed processing F:\\UCF_Crimes\\UCF_Crimes\\Videos\\RoadAccidents\\RoadAccidents066_x264.mp4\n"
     ]
    },
    {
     "name": "stderr",
     "output_type": "stream",
     "text": [
      " 44%|████▍     | 66/150 [02:05<04:03,  2.90s/it]"
     ]
    },
    {
     "name": "stdout",
     "output_type": "stream",
     "text": [
      "Completed processing F:\\UCF_Crimes\\UCF_Crimes\\Videos\\RoadAccidents\\RoadAccidents067_x264.mp4\n"
     ]
    },
    {
     "name": "stderr",
     "output_type": "stream",
     "text": [
      " 45%|████▍     | 67/150 [02:07<03:43,  2.69s/it]"
     ]
    },
    {
     "name": "stdout",
     "output_type": "stream",
     "text": [
      "Completed processing F:\\UCF_Crimes\\UCF_Crimes\\Videos\\RoadAccidents\\RoadAccidents068_x264.mp4\n"
     ]
    },
    {
     "name": "stderr",
     "output_type": "stream",
     "text": [
      " 45%|████▌     | 68/150 [02:07<02:46,  2.03s/it]"
     ]
    },
    {
     "name": "stdout",
     "output_type": "stream",
     "text": [
      "Completed processing F:\\UCF_Crimes\\UCF_Crimes\\Videos\\RoadAccidents\\RoadAccidents069_x264.mp4\n"
     ]
    },
    {
     "name": "stderr",
     "output_type": "stream",
     "text": [
      " 46%|████▌     | 69/150 [02:08<02:12,  1.63s/it]"
     ]
    },
    {
     "name": "stdout",
     "output_type": "stream",
     "text": [
      "Completed processing F:\\UCF_Crimes\\UCF_Crimes\\Videos\\RoadAccidents\\RoadAccidents070_x264.mp4\n"
     ]
    },
    {
     "name": "stderr",
     "output_type": "stream",
     "text": [
      " 47%|████▋     | 70/150 [02:09<01:46,  1.33s/it]"
     ]
    },
    {
     "name": "stdout",
     "output_type": "stream",
     "text": [
      "Completed processing F:\\UCF_Crimes\\UCF_Crimes\\Videos\\RoadAccidents\\RoadAccidents071_x264.mp4\n"
     ]
    },
    {
     "name": "stderr",
     "output_type": "stream",
     "text": [
      " 47%|████▋     | 71/150 [02:10<01:38,  1.24s/it]"
     ]
    },
    {
     "name": "stdout",
     "output_type": "stream",
     "text": [
      "Completed processing F:\\UCF_Crimes\\UCF_Crimes\\Videos\\RoadAccidents\\RoadAccidents072_x264.mp4\n"
     ]
    },
    {
     "name": "stderr",
     "output_type": "stream",
     "text": [
      " 48%|████▊     | 72/150 [02:11<01:25,  1.09s/it]"
     ]
    },
    {
     "name": "stdout",
     "output_type": "stream",
     "text": [
      "Completed processing F:\\UCF_Crimes\\UCF_Crimes\\Videos\\RoadAccidents\\RoadAccidents073_x264.mp4\n"
     ]
    },
    {
     "name": "stderr",
     "output_type": "stream",
     "text": [
      " 49%|████▊     | 73/150 [02:13<01:45,  1.37s/it]"
     ]
    },
    {
     "name": "stdout",
     "output_type": "stream",
     "text": [
      "Completed processing F:\\UCF_Crimes\\UCF_Crimes\\Videos\\RoadAccidents\\RoadAccidents074_x264.mp4\n"
     ]
    },
    {
     "name": "stderr",
     "output_type": "stream",
     "text": [
      " 49%|████▉     | 74/150 [02:13<01:23,  1.10s/it]"
     ]
    },
    {
     "name": "stdout",
     "output_type": "stream",
     "text": [
      "Completed processing F:\\UCF_Crimes\\UCF_Crimes\\Videos\\RoadAccidents\\RoadAccidents075_x264.mp4\n"
     ]
    },
    {
     "name": "stderr",
     "output_type": "stream",
     "text": [
      " 50%|█████     | 75/150 [02:15<01:51,  1.48s/it]"
     ]
    },
    {
     "name": "stdout",
     "output_type": "stream",
     "text": [
      "Completed processing F:\\UCF_Crimes\\UCF_Crimes\\Videos\\RoadAccidents\\RoadAccidents076_x264.mp4\n"
     ]
    },
    {
     "name": "stderr",
     "output_type": "stream",
     "text": [
      " 51%|█████     | 76/150 [02:17<01:50,  1.49s/it]"
     ]
    },
    {
     "name": "stdout",
     "output_type": "stream",
     "text": [
      "Completed processing F:\\UCF_Crimes\\UCF_Crimes\\Videos\\RoadAccidents\\RoadAccidents077_x264.mp4\n"
     ]
    },
    {
     "name": "stderr",
     "output_type": "stream",
     "text": [
      " 51%|█████▏    | 77/150 [02:23<03:28,  2.86s/it]"
     ]
    },
    {
     "name": "stdout",
     "output_type": "stream",
     "text": [
      "Completed processing F:\\UCF_Crimes\\UCF_Crimes\\Videos\\RoadAccidents\\RoadAccidents078_x264.mp4\n"
     ]
    },
    {
     "name": "stderr",
     "output_type": "stream",
     "text": [
      " 52%|█████▏    | 78/150 [02:24<02:55,  2.44s/it]"
     ]
    },
    {
     "name": "stdout",
     "output_type": "stream",
     "text": [
      "Completed processing F:\\UCF_Crimes\\UCF_Crimes\\Videos\\RoadAccidents\\RoadAccidents079_x264.mp4\n"
     ]
    },
    {
     "name": "stderr",
     "output_type": "stream",
     "text": [
      " 53%|█████▎    | 79/150 [02:25<02:24,  2.03s/it]"
     ]
    },
    {
     "name": "stdout",
     "output_type": "stream",
     "text": [
      "Completed processing F:\\UCF_Crimes\\UCF_Crimes\\Videos\\RoadAccidents\\RoadAccidents080_x264.mp4\n"
     ]
    },
    {
     "name": "stderr",
     "output_type": "stream",
     "text": [
      " 53%|█████▎    | 80/150 [02:26<02:01,  1.73s/it]"
     ]
    },
    {
     "name": "stdout",
     "output_type": "stream",
     "text": [
      "Completed processing F:\\UCF_Crimes\\UCF_Crimes\\Videos\\RoadAccidents\\RoadAccidents081_x264.mp4\n"
     ]
    },
    {
     "name": "stderr",
     "output_type": "stream",
     "text": [
      " 54%|█████▍    | 81/150 [02:28<01:46,  1.55s/it]"
     ]
    },
    {
     "name": "stdout",
     "output_type": "stream",
     "text": [
      "Completed processing F:\\UCF_Crimes\\UCF_Crimes\\Videos\\RoadAccidents\\RoadAccidents082_x264.mp4\n"
     ]
    },
    {
     "name": "stderr",
     "output_type": "stream",
     "text": [
      " 55%|█████▍    | 82/150 [02:29<01:41,  1.50s/it]"
     ]
    },
    {
     "name": "stdout",
     "output_type": "stream",
     "text": [
      "Completed processing F:\\UCF_Crimes\\UCF_Crimes\\Videos\\RoadAccidents\\RoadAccidents083_x264.mp4\n"
     ]
    },
    {
     "name": "stderr",
     "output_type": "stream",
     "text": [
      " 55%|█████▌    | 83/150 [02:30<01:32,  1.39s/it]"
     ]
    },
    {
     "name": "stdout",
     "output_type": "stream",
     "text": [
      "Completed processing F:\\UCF_Crimes\\UCF_Crimes\\Videos\\RoadAccidents\\RoadAccidents084_x264.mp4\n"
     ]
    },
    {
     "name": "stderr",
     "output_type": "stream",
     "text": [
      " 56%|█████▌    | 84/150 [02:35<02:49,  2.57s/it]"
     ]
    },
    {
     "name": "stdout",
     "output_type": "stream",
     "text": [
      "Completed processing F:\\UCF_Crimes\\UCF_Crimes\\Videos\\RoadAccidents\\RoadAccidents085_x264.mp4\n"
     ]
    },
    {
     "name": "stderr",
     "output_type": "stream",
     "text": [
      " 57%|█████▋    | 85/150 [02:36<02:13,  2.06s/it]"
     ]
    },
    {
     "name": "stdout",
     "output_type": "stream",
     "text": [
      "Completed processing F:\\UCF_Crimes\\UCF_Crimes\\Videos\\RoadAccidents\\RoadAccidents086_x264.mp4\n"
     ]
    },
    {
     "name": "stderr",
     "output_type": "stream",
     "text": [
      " 57%|█████▋    | 86/150 [02:48<05:17,  4.96s/it]"
     ]
    },
    {
     "name": "stdout",
     "output_type": "stream",
     "text": [
      "Completed processing F:\\UCF_Crimes\\UCF_Crimes\\Videos\\RoadAccidents\\RoadAccidents087_x264.mp4\n"
     ]
    },
    {
     "name": "stderr",
     "output_type": "stream",
     "text": [
      " 58%|█████▊    | 87/150 [02:49<04:00,  3.82s/it]"
     ]
    },
    {
     "name": "stdout",
     "output_type": "stream",
     "text": [
      "Completed processing F:\\UCF_Crimes\\UCF_Crimes\\Videos\\RoadAccidents\\RoadAccidents088_x264.mp4\n"
     ]
    },
    {
     "name": "stderr",
     "output_type": "stream",
     "text": [
      " 59%|█████▊    | 88/150 [02:50<03:08,  3.04s/it]"
     ]
    },
    {
     "name": "stdout",
     "output_type": "stream",
     "text": [
      "Completed processing F:\\UCF_Crimes\\UCF_Crimes\\Videos\\RoadAccidents\\RoadAccidents089_x264.mp4\n"
     ]
    },
    {
     "name": "stderr",
     "output_type": "stream",
     "text": [
      " 59%|█████▉    | 89/150 [02:52<02:36,  2.57s/it]"
     ]
    },
    {
     "name": "stdout",
     "output_type": "stream",
     "text": [
      "Completed processing F:\\UCF_Crimes\\UCF_Crimes\\Videos\\RoadAccidents\\RoadAccidents090_x264.mp4\n"
     ]
    },
    {
     "name": "stderr",
     "output_type": "stream",
     "text": [
      " 60%|██████    | 90/150 [02:53<02:15,  2.25s/it]"
     ]
    },
    {
     "name": "stdout",
     "output_type": "stream",
     "text": [
      "Completed processing F:\\UCF_Crimes\\UCF_Crimes\\Videos\\RoadAccidents\\RoadAccidents091_x264.mp4\n"
     ]
    },
    {
     "name": "stderr",
     "output_type": "stream",
     "text": [
      " 61%|██████    | 91/150 [02:55<02:02,  2.07s/it]"
     ]
    },
    {
     "name": "stdout",
     "output_type": "stream",
     "text": [
      "Completed processing F:\\UCF_Crimes\\UCF_Crimes\\Videos\\RoadAccidents\\RoadAccidents092_x264.mp4\n"
     ]
    },
    {
     "name": "stderr",
     "output_type": "stream",
     "text": [
      " 61%|██████▏   | 92/150 [02:57<02:01,  2.10s/it]"
     ]
    },
    {
     "name": "stdout",
     "output_type": "stream",
     "text": [
      "Completed processing F:\\UCF_Crimes\\UCF_Crimes\\Videos\\RoadAccidents\\RoadAccidents093_x264.mp4\n"
     ]
    },
    {
     "name": "stderr",
     "output_type": "stream",
     "text": [
      " 62%|██████▏   | 93/150 [02:59<01:48,  1.90s/it]"
     ]
    },
    {
     "name": "stdout",
     "output_type": "stream",
     "text": [
      "Completed processing F:\\UCF_Crimes\\UCF_Crimes\\Videos\\RoadAccidents\\RoadAccidents094_x264.mp4\n"
     ]
    },
    {
     "name": "stderr",
     "output_type": "stream",
     "text": [
      " 63%|██████▎   | 94/150 [03:00<01:32,  1.66s/it]"
     ]
    },
    {
     "name": "stdout",
     "output_type": "stream",
     "text": [
      "Completed processing F:\\UCF_Crimes\\UCF_Crimes\\Videos\\RoadAccidents\\RoadAccidents095_x264.mp4\n"
     ]
    },
    {
     "name": "stderr",
     "output_type": "stream",
     "text": [
      " 63%|██████▎   | 95/150 [03:00<01:15,  1.38s/it]"
     ]
    },
    {
     "name": "stdout",
     "output_type": "stream",
     "text": [
      "Completed processing F:\\UCF_Crimes\\UCF_Crimes\\Videos\\RoadAccidents\\RoadAccidents096_x264.mp4\n"
     ]
    },
    {
     "name": "stderr",
     "output_type": "stream",
     "text": [
      " 64%|██████▍   | 96/150 [03:04<01:49,  2.02s/it]"
     ]
    },
    {
     "name": "stdout",
     "output_type": "stream",
     "text": [
      "Completed processing F:\\UCF_Crimes\\UCF_Crimes\\Videos\\RoadAccidents\\RoadAccidents097_x264.mp4\n"
     ]
    },
    {
     "name": "stderr",
     "output_type": "stream",
     "text": [
      " 65%|██████▍   | 97/150 [03:06<01:40,  1.90s/it]"
     ]
    },
    {
     "name": "stdout",
     "output_type": "stream",
     "text": [
      "Completed processing F:\\UCF_Crimes\\UCF_Crimes\\Videos\\RoadAccidents\\RoadAccidents098_x264.mp4\n"
     ]
    },
    {
     "name": "stderr",
     "output_type": "stream",
     "text": [
      " 65%|██████▌   | 98/150 [03:07<01:30,  1.74s/it]"
     ]
    },
    {
     "name": "stdout",
     "output_type": "stream",
     "text": [
      "Completed processing F:\\UCF_Crimes\\UCF_Crimes\\Videos\\RoadAccidents\\RoadAccidents099_x264.mp4\n"
     ]
    },
    {
     "name": "stderr",
     "output_type": "stream",
     "text": [
      " 66%|██████▌   | 99/150 [03:08<01:12,  1.42s/it]"
     ]
    },
    {
     "name": "stdout",
     "output_type": "stream",
     "text": [
      "Completed processing F:\\UCF_Crimes\\UCF_Crimes\\Videos\\RoadAccidents\\RoadAccidents100_x264.mp4\n"
     ]
    },
    {
     "name": "stderr",
     "output_type": "stream",
     "text": [
      " 67%|██████▋   | 100/150 [03:08<00:57,  1.16s/it]"
     ]
    },
    {
     "name": "stdout",
     "output_type": "stream",
     "text": [
      "Completed processing F:\\UCF_Crimes\\UCF_Crimes\\Videos\\RoadAccidents\\RoadAccidents101_x264.mp4\n"
     ]
    },
    {
     "name": "stderr",
     "output_type": "stream",
     "text": [
      " 67%|██████▋   | 101/150 [03:09<00:46,  1.06it/s]"
     ]
    },
    {
     "name": "stdout",
     "output_type": "stream",
     "text": [
      "Completed processing F:\\UCF_Crimes\\UCF_Crimes\\Videos\\RoadAccidents\\RoadAccidents102_x264.mp4\n"
     ]
    },
    {
     "name": "stderr",
     "output_type": "stream",
     "text": [
      " 68%|██████▊   | 102/150 [03:10<00:50,  1.04s/it]"
     ]
    },
    {
     "name": "stdout",
     "output_type": "stream",
     "text": [
      "Completed processing F:\\UCF_Crimes\\UCF_Crimes\\Videos\\RoadAccidents\\RoadAccidents103_x264.mp4\n"
     ]
    },
    {
     "name": "stderr",
     "output_type": "stream",
     "text": [
      " 69%|██████▊   | 103/150 [03:14<01:32,  1.97s/it]"
     ]
    },
    {
     "name": "stdout",
     "output_type": "stream",
     "text": [
      "Completed processing F:\\UCF_Crimes\\UCF_Crimes\\Videos\\RoadAccidents\\RoadAccidents104_x264.mp4\n"
     ]
    },
    {
     "name": "stderr",
     "output_type": "stream",
     "text": [
      " 69%|██████▉   | 104/150 [03:16<01:33,  2.03s/it]"
     ]
    },
    {
     "name": "stdout",
     "output_type": "stream",
     "text": [
      "Completed processing F:\\UCF_Crimes\\UCF_Crimes\\Videos\\RoadAccidents\\RoadAccidents105_x264.mp4\n"
     ]
    },
    {
     "name": "stderr",
     "output_type": "stream",
     "text": [
      " 70%|███████   | 105/150 [03:18<01:30,  2.01s/it]"
     ]
    },
    {
     "name": "stdout",
     "output_type": "stream",
     "text": [
      "Completed processing F:\\UCF_Crimes\\UCF_Crimes\\Videos\\RoadAccidents\\RoadAccidents106_x264.mp4\n"
     ]
    },
    {
     "name": "stderr",
     "output_type": "stream",
     "text": [
      " 71%|███████   | 106/150 [03:19<01:17,  1.75s/it]"
     ]
    },
    {
     "name": "stdout",
     "output_type": "stream",
     "text": [
      "Completed processing F:\\UCF_Crimes\\UCF_Crimes\\Videos\\RoadAccidents\\RoadAccidents107_x264.mp4\n"
     ]
    },
    {
     "name": "stderr",
     "output_type": "stream",
     "text": [
      " 71%|███████▏  | 107/150 [03:24<01:47,  2.50s/it]"
     ]
    },
    {
     "name": "stdout",
     "output_type": "stream",
     "text": [
      "Completed processing F:\\UCF_Crimes\\UCF_Crimes\\Videos\\RoadAccidents\\RoadAccidents108_x264.mp4\n"
     ]
    },
    {
     "name": "stderr",
     "output_type": "stream",
     "text": [
      " 72%|███████▏  | 108/150 [03:27<01:59,  2.85s/it]"
     ]
    },
    {
     "name": "stdout",
     "output_type": "stream",
     "text": [
      "Completed processing F:\\UCF_Crimes\\UCF_Crimes\\Videos\\RoadAccidents\\RoadAccidents109_x264.mp4\n"
     ]
    },
    {
     "name": "stderr",
     "output_type": "stream",
     "text": [
      " 73%|███████▎  | 109/150 [03:28<01:29,  2.19s/it]"
     ]
    },
    {
     "name": "stdout",
     "output_type": "stream",
     "text": [
      "Completed processing F:\\UCF_Crimes\\UCF_Crimes\\Videos\\RoadAccidents\\RoadAccidents110_x264.mp4\n"
     ]
    },
    {
     "name": "stderr",
     "output_type": "stream",
     "text": [
      " 73%|███████▎  | 110/150 [03:29<01:13,  1.85s/it]"
     ]
    },
    {
     "name": "stdout",
     "output_type": "stream",
     "text": [
      "Completed processing F:\\UCF_Crimes\\UCF_Crimes\\Videos\\RoadAccidents\\RoadAccidents111_x264.mp4\n"
     ]
    },
    {
     "name": "stderr",
     "output_type": "stream",
     "text": [
      " 74%|███████▍  | 111/150 [03:30<01:00,  1.54s/it]"
     ]
    },
    {
     "name": "stdout",
     "output_type": "stream",
     "text": [
      "Completed processing F:\\UCF_Crimes\\UCF_Crimes\\Videos\\RoadAccidents\\RoadAccidents112_x264.mp4\n"
     ]
    },
    {
     "name": "stderr",
     "output_type": "stream",
     "text": [
      " 75%|███████▍  | 112/150 [03:31<00:59,  1.55s/it]"
     ]
    },
    {
     "name": "stdout",
     "output_type": "stream",
     "text": [
      "Completed processing F:\\UCF_Crimes\\UCF_Crimes\\Videos\\RoadAccidents\\RoadAccidents113_x264.mp4\n"
     ]
    },
    {
     "name": "stderr",
     "output_type": "stream",
     "text": [
      " 75%|███████▌  | 113/150 [03:33<00:56,  1.51s/it]"
     ]
    },
    {
     "name": "stdout",
     "output_type": "stream",
     "text": [
      "Completed processing F:\\UCF_Crimes\\UCF_Crimes\\Videos\\RoadAccidents\\RoadAccidents114_x264.mp4\n"
     ]
    },
    {
     "name": "stderr",
     "output_type": "stream",
     "text": [
      " 76%|███████▌  | 114/150 [03:35<01:02,  1.73s/it]"
     ]
    },
    {
     "name": "stdout",
     "output_type": "stream",
     "text": [
      "Completed processing F:\\UCF_Crimes\\UCF_Crimes\\Videos\\RoadAccidents\\RoadAccidents115_x264.mp4\n"
     ]
    },
    {
     "name": "stderr",
     "output_type": "stream",
     "text": [
      " 77%|███████▋  | 115/150 [03:36<00:50,  1.43s/it]"
     ]
    },
    {
     "name": "stdout",
     "output_type": "stream",
     "text": [
      "Completed processing F:\\UCF_Crimes\\UCF_Crimes\\Videos\\RoadAccidents\\RoadAccidents116_x264.mp4\n"
     ]
    },
    {
     "name": "stderr",
     "output_type": "stream",
     "text": [
      " 77%|███████▋  | 116/150 [03:38<00:56,  1.68s/it]"
     ]
    },
    {
     "name": "stdout",
     "output_type": "stream",
     "text": [
      "Completed processing F:\\UCF_Crimes\\UCF_Crimes\\Videos\\RoadAccidents\\RoadAccidents117_x264.mp4\n"
     ]
    },
    {
     "name": "stderr",
     "output_type": "stream",
     "text": [
      " 78%|███████▊  | 117/150 [03:39<00:51,  1.56s/it]"
     ]
    },
    {
     "name": "stdout",
     "output_type": "stream",
     "text": [
      "Completed processing F:\\UCF_Crimes\\UCF_Crimes\\Videos\\RoadAccidents\\RoadAccidents118_x264.mp4\n"
     ]
    },
    {
     "name": "stderr",
     "output_type": "stream",
     "text": [
      " 79%|███████▊  | 118/150 [03:41<00:55,  1.74s/it]"
     ]
    },
    {
     "name": "stdout",
     "output_type": "stream",
     "text": [
      "Completed processing F:\\UCF_Crimes\\UCF_Crimes\\Videos\\RoadAccidents\\RoadAccidents119_x264.mp4\n"
     ]
    },
    {
     "name": "stderr",
     "output_type": "stream",
     "text": [
      " 79%|███████▉  | 119/150 [03:43<00:51,  1.67s/it]"
     ]
    },
    {
     "name": "stdout",
     "output_type": "stream",
     "text": [
      "Completed processing F:\\UCF_Crimes\\UCF_Crimes\\Videos\\RoadAccidents\\RoadAccidents120_x264.mp4\n"
     ]
    },
    {
     "name": "stderr",
     "output_type": "stream",
     "text": [
      " 80%|████████  | 120/150 [03:45<00:54,  1.81s/it]"
     ]
    },
    {
     "name": "stdout",
     "output_type": "stream",
     "text": [
      "Completed processing F:\\UCF_Crimes\\UCF_Crimes\\Videos\\RoadAccidents\\RoadAccidents121_x264.mp4\n"
     ]
    },
    {
     "name": "stderr",
     "output_type": "stream",
     "text": [
      " 81%|████████  | 121/150 [03:46<00:42,  1.47s/it]"
     ]
    },
    {
     "name": "stdout",
     "output_type": "stream",
     "text": [
      "Completed processing F:\\UCF_Crimes\\UCF_Crimes\\Videos\\RoadAccidents\\RoadAccidents122_x264.mp4\n"
     ]
    },
    {
     "name": "stderr",
     "output_type": "stream",
     "text": [
      " 81%|████████▏ | 122/150 [03:47<00:38,  1.38s/it]"
     ]
    },
    {
     "name": "stdout",
     "output_type": "stream",
     "text": [
      "Completed processing F:\\UCF_Crimes\\UCF_Crimes\\Videos\\RoadAccidents\\RoadAccidents123_x264.mp4\n"
     ]
    },
    {
     "name": "stderr",
     "output_type": "stream",
     "text": [
      " 82%|████████▏ | 123/150 [03:48<00:38,  1.43s/it]"
     ]
    },
    {
     "name": "stdout",
     "output_type": "stream",
     "text": [
      "Completed processing F:\\UCF_Crimes\\UCF_Crimes\\Videos\\RoadAccidents\\RoadAccidents124_x264.mp4\n"
     ]
    },
    {
     "name": "stderr",
     "output_type": "stream",
     "text": [
      " 83%|████████▎ | 124/150 [03:50<00:39,  1.50s/it]"
     ]
    },
    {
     "name": "stdout",
     "output_type": "stream",
     "text": [
      "Completed processing F:\\UCF_Crimes\\UCF_Crimes\\Videos\\RoadAccidents\\RoadAccidents125_x264.mp4\n"
     ]
    },
    {
     "name": "stderr",
     "output_type": "stream",
     "text": [
      " 83%|████████▎ | 125/150 [03:52<00:37,  1.52s/it]"
     ]
    },
    {
     "name": "stdout",
     "output_type": "stream",
     "text": [
      "Completed processing F:\\UCF_Crimes\\UCF_Crimes\\Videos\\RoadAccidents\\RoadAccidents126_x264.mp4\n"
     ]
    },
    {
     "name": "stderr",
     "output_type": "stream",
     "text": [
      " 84%|████████▍ | 126/150 [03:54<00:43,  1.83s/it]"
     ]
    },
    {
     "name": "stdout",
     "output_type": "stream",
     "text": [
      "Completed processing F:\\UCF_Crimes\\UCF_Crimes\\Videos\\RoadAccidents\\RoadAccidents127_x264.mp4\n"
     ]
    },
    {
     "name": "stderr",
     "output_type": "stream",
     "text": [
      " 85%|████████▍ | 127/150 [03:55<00:33,  1.45s/it]"
     ]
    },
    {
     "name": "stdout",
     "output_type": "stream",
     "text": [
      "Completed processing F:\\UCF_Crimes\\UCF_Crimes\\Videos\\RoadAccidents\\RoadAccidents128_x264.mp4\n"
     ]
    },
    {
     "name": "stderr",
     "output_type": "stream",
     "text": [
      " 85%|████████▌ | 128/150 [03:55<00:24,  1.11s/it]"
     ]
    },
    {
     "name": "stdout",
     "output_type": "stream",
     "text": [
      "Completed processing F:\\UCF_Crimes\\UCF_Crimes\\Videos\\RoadAccidents\\RoadAccidents129_x264.mp4\n"
     ]
    },
    {
     "name": "stderr",
     "output_type": "stream",
     "text": [
      " 86%|████████▌ | 129/150 [03:57<00:25,  1.24s/it]"
     ]
    },
    {
     "name": "stdout",
     "output_type": "stream",
     "text": [
      "Completed processing F:\\UCF_Crimes\\UCF_Crimes\\Videos\\RoadAccidents\\RoadAccidents130_x264.mp4\n"
     ]
    },
    {
     "name": "stderr",
     "output_type": "stream",
     "text": [
      " 87%|████████▋ | 130/150 [03:58<00:25,  1.25s/it]"
     ]
    },
    {
     "name": "stdout",
     "output_type": "stream",
     "text": [
      "Completed processing F:\\UCF_Crimes\\UCF_Crimes\\Videos\\RoadAccidents\\RoadAccidents131_x264.mp4\n"
     ]
    },
    {
     "name": "stderr",
     "output_type": "stream",
     "text": [
      " 87%|████████▋ | 131/150 [04:00<00:26,  1.41s/it]"
     ]
    },
    {
     "name": "stdout",
     "output_type": "stream",
     "text": [
      "Completed processing F:\\UCF_Crimes\\UCF_Crimes\\Videos\\RoadAccidents\\RoadAccidents132_x264.mp4\n"
     ]
    },
    {
     "name": "stderr",
     "output_type": "stream",
     "text": [
      " 88%|████████▊ | 132/150 [04:01<00:22,  1.26s/it]"
     ]
    },
    {
     "name": "stdout",
     "output_type": "stream",
     "text": [
      "Completed processing F:\\UCF_Crimes\\UCF_Crimes\\Videos\\RoadAccidents\\RoadAccidents133_x264.mp4\n"
     ]
    },
    {
     "name": "stderr",
     "output_type": "stream",
     "text": [
      " 89%|████████▊ | 133/150 [04:01<00:16,  1.02it/s]"
     ]
    },
    {
     "name": "stdout",
     "output_type": "stream",
     "text": [
      "Completed processing F:\\UCF_Crimes\\UCF_Crimes\\Videos\\RoadAccidents\\RoadAccidents134_x264.mp4\n"
     ]
    },
    {
     "name": "stderr",
     "output_type": "stream",
     "text": [
      " 89%|████████▉ | 134/150 [04:02<00:16,  1.06s/it]"
     ]
    },
    {
     "name": "stdout",
     "output_type": "stream",
     "text": [
      "Completed processing F:\\UCF_Crimes\\UCF_Crimes\\Videos\\RoadAccidents\\RoadAccidents135_x264.mp4\n"
     ]
    },
    {
     "name": "stderr",
     "output_type": "stream",
     "text": [
      " 90%|█████████ | 135/150 [04:05<00:23,  1.55s/it]"
     ]
    },
    {
     "name": "stdout",
     "output_type": "stream",
     "text": [
      "Completed processing F:\\UCF_Crimes\\UCF_Crimes\\Videos\\RoadAccidents\\RoadAccidents136_x264.mp4\n"
     ]
    },
    {
     "name": "stderr",
     "output_type": "stream",
     "text": [
      " 91%|█████████ | 136/150 [04:06<00:19,  1.38s/it]"
     ]
    },
    {
     "name": "stdout",
     "output_type": "stream",
     "text": [
      "Completed processing F:\\UCF_Crimes\\UCF_Crimes\\Videos\\RoadAccidents\\RoadAccidents137_x264.mp4\n"
     ]
    },
    {
     "name": "stderr",
     "output_type": "stream",
     "text": [
      " 91%|█████████▏| 137/150 [04:07<00:16,  1.23s/it]"
     ]
    },
    {
     "name": "stdout",
     "output_type": "stream",
     "text": [
      "Completed processing F:\\UCF_Crimes\\UCF_Crimes\\Videos\\RoadAccidents\\RoadAccidents138_x264.mp4\n"
     ]
    },
    {
     "name": "stderr",
     "output_type": "stream",
     "text": [
      " 92%|█████████▏| 138/150 [04:10<00:21,  1.75s/it]"
     ]
    },
    {
     "name": "stdout",
     "output_type": "stream",
     "text": [
      "Completed processing F:\\UCF_Crimes\\UCF_Crimes\\Videos\\RoadAccidents\\RoadAccidents139_x264.mp4\n"
     ]
    },
    {
     "name": "stderr",
     "output_type": "stream",
     "text": [
      " 93%|█████████▎| 139/150 [04:12<00:20,  1.86s/it]"
     ]
    },
    {
     "name": "stdout",
     "output_type": "stream",
     "text": [
      "Completed processing F:\\UCF_Crimes\\UCF_Crimes\\Videos\\RoadAccidents\\RoadAccidents140_x264.mp4\n"
     ]
    },
    {
     "name": "stderr",
     "output_type": "stream",
     "text": [
      " 93%|█████████▎| 140/150 [04:17<00:29,  2.92s/it]"
     ]
    },
    {
     "name": "stdout",
     "output_type": "stream",
     "text": [
      "Completed processing F:\\UCF_Crimes\\UCF_Crimes\\Videos\\RoadAccidents\\RoadAccidents141_x264.mp4\n"
     ]
    },
    {
     "name": "stderr",
     "output_type": "stream",
     "text": [
      " 94%|█████████▍| 141/150 [04:22<00:30,  3.40s/it]"
     ]
    },
    {
     "name": "stdout",
     "output_type": "stream",
     "text": [
      "Completed processing F:\\UCF_Crimes\\UCF_Crimes\\Videos\\RoadAccidents\\RoadAccidents142_x264.mp4\n"
     ]
    },
    {
     "name": "stderr",
     "output_type": "stream",
     "text": [
      " 95%|█████████▍| 142/150 [04:23<00:21,  2.70s/it]"
     ]
    },
    {
     "name": "stdout",
     "output_type": "stream",
     "text": [
      "Completed processing F:\\UCF_Crimes\\UCF_Crimes\\Videos\\RoadAccidents\\RoadAccidents143_x264.mp4\n"
     ]
    },
    {
     "name": "stderr",
     "output_type": "stream",
     "text": [
      " 95%|█████████▌| 143/150 [04:24<00:14,  2.14s/it]"
     ]
    },
    {
     "name": "stdout",
     "output_type": "stream",
     "text": [
      "Completed processing F:\\UCF_Crimes\\UCF_Crimes\\Videos\\RoadAccidents\\RoadAccidents144_x264.mp4\n"
     ]
    },
    {
     "name": "stderr",
     "output_type": "stream",
     "text": [
      " 96%|█████████▌| 144/150 [04:25<00:11,  1.84s/it]"
     ]
    },
    {
     "name": "stdout",
     "output_type": "stream",
     "text": [
      "Completed processing F:\\UCF_Crimes\\UCF_Crimes\\Videos\\RoadAccidents\\RoadAccidents145_x264.mp4\n"
     ]
    },
    {
     "name": "stderr",
     "output_type": "stream",
     "text": [
      " 97%|█████████▋| 145/150 [04:26<00:08,  1.62s/it]"
     ]
    },
    {
     "name": "stdout",
     "output_type": "stream",
     "text": [
      "Completed processing F:\\UCF_Crimes\\UCF_Crimes\\Videos\\RoadAccidents\\RoadAccidents146_x264.mp4\n"
     ]
    },
    {
     "name": "stderr",
     "output_type": "stream",
     "text": [
      " 97%|█████████▋| 146/150 [04:35<00:15,  3.79s/it]"
     ]
    },
    {
     "name": "stdout",
     "output_type": "stream",
     "text": [
      "Completed processing F:\\UCF_Crimes\\UCF_Crimes\\Videos\\RoadAccidents\\RoadAccidents147_x264.mp4\n"
     ]
    },
    {
     "name": "stderr",
     "output_type": "stream",
     "text": [
      " 98%|█████████▊| 147/150 [04:53<00:24,  8.17s/it]"
     ]
    },
    {
     "name": "stdout",
     "output_type": "stream",
     "text": [
      "Completed processing F:\\UCF_Crimes\\UCF_Crimes\\Videos\\RoadAccidents\\RoadAccidents148_x264.mp4\n"
     ]
    },
    {
     "name": "stderr",
     "output_type": "stream",
     "text": [
      " 99%|█████████▊| 148/150 [04:56<00:12,  6.43s/it]"
     ]
    },
    {
     "name": "stdout",
     "output_type": "stream",
     "text": [
      "Completed processing F:\\UCF_Crimes\\UCF_Crimes\\Videos\\RoadAccidents\\RoadAccidents149_x264.mp4\n"
     ]
    },
    {
     "name": "stderr",
     "output_type": "stream",
     "text": [
      " 99%|█████████▉| 149/150 [04:57<00:04,  5.00s/it]"
     ]
    },
    {
     "name": "stdout",
     "output_type": "stream",
     "text": [
      "Completed processing F:\\UCF_Crimes\\UCF_Crimes\\Videos\\RoadAccidents\\RoadAccidents150_x264.mp4\n"
     ]
    },
    {
     "name": "stderr",
     "output_type": "stream",
     "text": [
      "100%|██████████| 150/150 [04:58<00:00,  1.99s/it]\n"
     ]
    },
    {
     "name": "stdout",
     "output_type": "stream",
     "text": [
      "Completed processing F:\\UCF_Crimes\\UCF_Crimes\\Videos\\RoadAccidents\\RoadAccidents151_x264.mp4\n"
     ]
    },
    {
     "name": "stderr",
     "output_type": "stream",
     "text": [
      "  1%|          | 1/150 [00:01<02:31,  1.02s/it]"
     ]
    },
    {
     "name": "stdout",
     "output_type": "stream",
     "text": [
      "Completed processing F:\\UCF_Crimes\\UCF_Crimes\\Videos\\Robbery\\Robbery001_x264.mp4\n"
     ]
    },
    {
     "name": "stderr",
     "output_type": "stream",
     "text": [
      "  1%|▏         | 2/150 [00:03<04:34,  1.86s/it]"
     ]
    },
    {
     "name": "stdout",
     "output_type": "stream",
     "text": [
      "Completed processing F:\\UCF_Crimes\\UCF_Crimes\\Videos\\Robbery\\Robbery002_x264.mp4\n"
     ]
    },
    {
     "name": "stderr",
     "output_type": "stream",
     "text": [
      "  2%|▏         | 3/150 [00:04<03:27,  1.41s/it]"
     ]
    },
    {
     "name": "stdout",
     "output_type": "stream",
     "text": [
      "Completed processing F:\\UCF_Crimes\\UCF_Crimes\\Videos\\Robbery\\Robbery003_x264.mp4\n"
     ]
    },
    {
     "name": "stderr",
     "output_type": "stream",
     "text": [
      "  3%|▎         | 4/150 [00:05<03:14,  1.34s/it]"
     ]
    },
    {
     "name": "stdout",
     "output_type": "stream",
     "text": [
      "Completed processing F:\\UCF_Crimes\\UCF_Crimes\\Videos\\Robbery\\Robbery004_x264.mp4\n"
     ]
    },
    {
     "name": "stderr",
     "output_type": "stream",
     "text": [
      "  3%|▎         | 5/150 [00:08<04:13,  1.75s/it]"
     ]
    },
    {
     "name": "stdout",
     "output_type": "stream",
     "text": [
      "Completed processing F:\\UCF_Crimes\\UCF_Crimes\\Videos\\Robbery\\Robbery005_x264.mp4\n"
     ]
    },
    {
     "name": "stderr",
     "output_type": "stream",
     "text": [
      "  4%|▍         | 6/150 [00:11<05:59,  2.50s/it]"
     ]
    },
    {
     "name": "stdout",
     "output_type": "stream",
     "text": [
      "Completed processing F:\\UCF_Crimes\\UCF_Crimes\\Videos\\Robbery\\Robbery006_x264.mp4\n"
     ]
    },
    {
     "name": "stderr",
     "output_type": "stream",
     "text": [
      "  5%|▍         | 7/150 [00:14<05:51,  2.46s/it]"
     ]
    },
    {
     "name": "stdout",
     "output_type": "stream",
     "text": [
      "Completed processing F:\\UCF_Crimes\\UCF_Crimes\\Videos\\Robbery\\Robbery007_x264.mp4\n"
     ]
    },
    {
     "name": "stderr",
     "output_type": "stream",
     "text": [
      "  5%|▌         | 8/150 [00:17<05:57,  2.52s/it]"
     ]
    },
    {
     "name": "stdout",
     "output_type": "stream",
     "text": [
      "Completed processing F:\\UCF_Crimes\\UCF_Crimes\\Videos\\Robbery\\Robbery008_x264.mp4\n"
     ]
    },
    {
     "name": "stderr",
     "output_type": "stream",
     "text": [
      "  6%|▌         | 9/150 [00:19<06:14,  2.66s/it]"
     ]
    },
    {
     "name": "stdout",
     "output_type": "stream",
     "text": [
      "Completed processing F:\\UCF_Crimes\\UCF_Crimes\\Videos\\Robbery\\Robbery009_x264.mp4\n"
     ]
    },
    {
     "name": "stderr",
     "output_type": "stream",
     "text": [
      "  7%|▋         | 10/150 [00:23<06:44,  2.89s/it]"
     ]
    },
    {
     "name": "stdout",
     "output_type": "stream",
     "text": [
      "Completed processing F:\\UCF_Crimes\\UCF_Crimes\\Videos\\Robbery\\Robbery010_x264.mp4\n"
     ]
    },
    {
     "name": "stderr",
     "output_type": "stream",
     "text": [
      "  7%|▋         | 11/150 [00:25<05:54,  2.55s/it]"
     ]
    },
    {
     "name": "stdout",
     "output_type": "stream",
     "text": [
      "Completed processing F:\\UCF_Crimes\\UCF_Crimes\\Videos\\Robbery\\Robbery011_x264.mp4\n"
     ]
    },
    {
     "name": "stderr",
     "output_type": "stream",
     "text": [
      "  8%|▊         | 12/150 [00:26<04:41,  2.04s/it]"
     ]
    },
    {
     "name": "stdout",
     "output_type": "stream",
     "text": [
      "Completed processing F:\\UCF_Crimes\\UCF_Crimes\\Videos\\Robbery\\Robbery012_x264.mp4\n"
     ]
    },
    {
     "name": "stderr",
     "output_type": "stream",
     "text": [
      "  9%|▊         | 13/150 [00:29<05:43,  2.51s/it]"
     ]
    },
    {
     "name": "stdout",
     "output_type": "stream",
     "text": [
      "Completed processing F:\\UCF_Crimes\\UCF_Crimes\\Videos\\Robbery\\Robbery013_x264.mp4\n"
     ]
    },
    {
     "name": "stderr",
     "output_type": "stream",
     "text": [
      "  9%|▉         | 14/150 [00:46<15:32,  6.85s/it]"
     ]
    },
    {
     "name": "stdout",
     "output_type": "stream",
     "text": [
      "Completed processing F:\\UCF_Crimes\\UCF_Crimes\\Videos\\Robbery\\Robbery014_x264.mp4\n"
     ]
    },
    {
     "name": "stderr",
     "output_type": "stream",
     "text": [
      " 10%|█         | 15/150 [00:49<12:38,  5.62s/it]"
     ]
    },
    {
     "name": "stdout",
     "output_type": "stream",
     "text": [
      "Completed processing F:\\UCF_Crimes\\UCF_Crimes\\Videos\\Robbery\\Robbery015_x264.mp4\n"
     ]
    },
    {
     "name": "stderr",
     "output_type": "stream",
     "text": [
      " 11%|█         | 16/150 [00:51<10:03,  4.50s/it]"
     ]
    },
    {
     "name": "stdout",
     "output_type": "stream",
     "text": [
      "Completed processing F:\\UCF_Crimes\\UCF_Crimes\\Videos\\Robbery\\Robbery016_x264.mp4\n"
     ]
    },
    {
     "name": "stderr",
     "output_type": "stream",
     "text": [
      " 11%|█▏        | 17/150 [00:55<09:48,  4.42s/it]"
     ]
    },
    {
     "name": "stdout",
     "output_type": "stream",
     "text": [
      "Completed processing F:\\UCF_Crimes\\UCF_Crimes\\Videos\\Robbery\\Robbery017_x264.mp4\n"
     ]
    },
    {
     "name": "stderr",
     "output_type": "stream",
     "text": [
      " 12%|█▏        | 18/150 [00:58<08:46,  3.99s/it]"
     ]
    },
    {
     "name": "stdout",
     "output_type": "stream",
     "text": [
      "Completed processing F:\\UCF_Crimes\\UCF_Crimes\\Videos\\Robbery\\Robbery018_x264.mp4\n"
     ]
    },
    {
     "name": "stderr",
     "output_type": "stream",
     "text": [
      " 13%|█▎        | 19/150 [01:05<10:27,  4.79s/it]"
     ]
    },
    {
     "name": "stdout",
     "output_type": "stream",
     "text": [
      "Completed processing F:\\UCF_Crimes\\UCF_Crimes\\Videos\\Robbery\\Robbery019_x264.mp4\n"
     ]
    },
    {
     "name": "stderr",
     "output_type": "stream",
     "text": [
      " 13%|█▎        | 20/150 [01:09<10:06,  4.67s/it]"
     ]
    },
    {
     "name": "stdout",
     "output_type": "stream",
     "text": [
      "Completed processing F:\\UCF_Crimes\\UCF_Crimes\\Videos\\Robbery\\Robbery020_x264.mp4\n"
     ]
    },
    {
     "name": "stderr",
     "output_type": "stream",
     "text": [
      " 14%|█▍        | 21/150 [01:17<12:12,  5.68s/it]"
     ]
    },
    {
     "name": "stdout",
     "output_type": "stream",
     "text": [
      "Completed processing F:\\UCF_Crimes\\UCF_Crimes\\Videos\\Robbery\\Robbery021_x264.mp4\n"
     ]
    },
    {
     "name": "stderr",
     "output_type": "stream",
     "text": [
      " 15%|█▍        | 22/150 [01:20<10:31,  4.94s/it]"
     ]
    },
    {
     "name": "stdout",
     "output_type": "stream",
     "text": [
      "Completed processing F:\\UCF_Crimes\\UCF_Crimes\\Videos\\Robbery\\Robbery022_x264.mp4\n"
     ]
    },
    {
     "name": "stderr",
     "output_type": "stream",
     "text": [
      " 15%|█▌        | 23/150 [01:21<08:06,  3.83s/it]"
     ]
    },
    {
     "name": "stdout",
     "output_type": "stream",
     "text": [
      "Completed processing F:\\UCF_Crimes\\UCF_Crimes\\Videos\\Robbery\\Robbery023_x264.mp4\n"
     ]
    },
    {
     "name": "stderr",
     "output_type": "stream",
     "text": [
      " 16%|█▌        | 24/150 [01:24<07:26,  3.55s/it]"
     ]
    },
    {
     "name": "stdout",
     "output_type": "stream",
     "text": [
      "Completed processing F:\\UCF_Crimes\\UCF_Crimes\\Videos\\Robbery\\Robbery024_x264.mp4\n"
     ]
    },
    {
     "name": "stderr",
     "output_type": "stream",
     "text": [
      " 17%|█▋        | 25/150 [01:26<06:19,  3.03s/it]"
     ]
    },
    {
     "name": "stdout",
     "output_type": "stream",
     "text": [
      "Completed processing F:\\UCF_Crimes\\UCF_Crimes\\Videos\\Robbery\\Robbery025_x264.mp4\n"
     ]
    },
    {
     "name": "stderr",
     "output_type": "stream",
     "text": [
      " 17%|█▋        | 26/150 [01:41<13:28,  6.52s/it]"
     ]
    },
    {
     "name": "stdout",
     "output_type": "stream",
     "text": [
      "Completed processing F:\\UCF_Crimes\\UCF_Crimes\\Videos\\Robbery\\Robbery026_x264.mp4\n"
     ]
    },
    {
     "name": "stderr",
     "output_type": "stream",
     "text": [
      " 18%|█▊        | 27/150 [01:48<13:29,  6.58s/it]"
     ]
    },
    {
     "name": "stdout",
     "output_type": "stream",
     "text": [
      "Completed processing F:\\UCF_Crimes\\UCF_Crimes\\Videos\\Robbery\\Robbery027_x264.mp4\n"
     ]
    },
    {
     "name": "stderr",
     "output_type": "stream",
     "text": [
      " 19%|█▊        | 28/150 [01:50<10:59,  5.40s/it]"
     ]
    },
    {
     "name": "stdout",
     "output_type": "stream",
     "text": [
      "Completed processing F:\\UCF_Crimes\\UCF_Crimes\\Videos\\Robbery\\Robbery028_x264.mp4\n"
     ]
    },
    {
     "name": "stderr",
     "output_type": "stream",
     "text": [
      " 19%|█▉        | 29/150 [01:53<09:15,  4.59s/it]"
     ]
    },
    {
     "name": "stdout",
     "output_type": "stream",
     "text": [
      "Completed processing F:\\UCF_Crimes\\UCF_Crimes\\Videos\\Robbery\\Robbery029_x264.mp4\n"
     ]
    },
    {
     "name": "stderr",
     "output_type": "stream",
     "text": [
      " 20%|██        | 30/150 [01:56<08:19,  4.16s/it]"
     ]
    },
    {
     "name": "stdout",
     "output_type": "stream",
     "text": [
      "Completed processing F:\\UCF_Crimes\\UCF_Crimes\\Videos\\Robbery\\Robbery030_x264.mp4\n"
     ]
    },
    {
     "name": "stderr",
     "output_type": "stream",
     "text": [
      " 21%|██        | 31/150 [01:57<06:25,  3.24s/it]"
     ]
    },
    {
     "name": "stdout",
     "output_type": "stream",
     "text": [
      "Completed processing F:\\UCF_Crimes\\UCF_Crimes\\Videos\\Robbery\\Robbery031_x264.mp4\n"
     ]
    },
    {
     "name": "stderr",
     "output_type": "stream",
     "text": [
      " 21%|██▏       | 32/150 [02:02<07:21,  3.74s/it]"
     ]
    },
    {
     "name": "stdout",
     "output_type": "stream",
     "text": [
      "Completed processing F:\\UCF_Crimes\\UCF_Crimes\\Videos\\Robbery\\Robbery032_x264.mp4\n"
     ]
    },
    {
     "name": "stderr",
     "output_type": "stream",
     "text": [
      " 22%|██▏       | 33/150 [02:03<05:44,  2.95s/it]"
     ]
    },
    {
     "name": "stdout",
     "output_type": "stream",
     "text": [
      "Completed processing F:\\UCF_Crimes\\UCF_Crimes\\Videos\\Robbery\\Robbery033_x264.mp4\n"
     ]
    },
    {
     "name": "stderr",
     "output_type": "stream",
     "text": [
      " 23%|██▎       | 34/150 [02:11<08:27,  4.37s/it]"
     ]
    },
    {
     "name": "stdout",
     "output_type": "stream",
     "text": [
      "Completed processing F:\\UCF_Crimes\\UCF_Crimes\\Videos\\Robbery\\Robbery034_x264.mp4\n"
     ]
    },
    {
     "name": "stderr",
     "output_type": "stream",
     "text": [
      " 23%|██▎       | 35/150 [02:16<08:45,  4.57s/it]"
     ]
    },
    {
     "name": "stdout",
     "output_type": "stream",
     "text": [
      "Completed processing F:\\UCF_Crimes\\UCF_Crimes\\Videos\\Robbery\\Robbery035_x264.mp4\n"
     ]
    },
    {
     "name": "stderr",
     "output_type": "stream",
     "text": [
      " 24%|██▍       | 36/150 [02:22<09:45,  5.13s/it]"
     ]
    },
    {
     "name": "stdout",
     "output_type": "stream",
     "text": [
      "Completed processing F:\\UCF_Crimes\\UCF_Crimes\\Videos\\Robbery\\Robbery036_x264.mp4\n"
     ]
    },
    {
     "name": "stderr",
     "output_type": "stream",
     "text": [
      " 25%|██▍       | 37/150 [02:32<12:24,  6.59s/it]"
     ]
    },
    {
     "name": "stdout",
     "output_type": "stream",
     "text": [
      "Completed processing F:\\UCF_Crimes\\UCF_Crimes\\Videos\\Robbery\\Robbery037_x264.mp4\n"
     ]
    },
    {
     "name": "stderr",
     "output_type": "stream",
     "text": [
      " 25%|██▌       | 38/150 [02:34<09:44,  5.22s/it]"
     ]
    },
    {
     "name": "stdout",
     "output_type": "stream",
     "text": [
      "Completed processing F:\\UCF_Crimes\\UCF_Crimes\\Videos\\Robbery\\Robbery038_x264.mp4\n"
     ]
    },
    {
     "name": "stderr",
     "output_type": "stream",
     "text": [
      " 26%|██▌       | 39/150 [02:35<07:12,  3.90s/it]"
     ]
    },
    {
     "name": "stdout",
     "output_type": "stream",
     "text": [
      "Completed processing F:\\UCF_Crimes\\UCF_Crimes\\Videos\\Robbery\\Robbery039_x264.mp4\n"
     ]
    },
    {
     "name": "stderr",
     "output_type": "stream",
     "text": [
      " 27%|██▋       | 40/150 [02:36<05:37,  3.07s/it]"
     ]
    },
    {
     "name": "stdout",
     "output_type": "stream",
     "text": [
      "Completed processing F:\\UCF_Crimes\\UCF_Crimes\\Videos\\Robbery\\Robbery040_x264.mp4\n"
     ]
    },
    {
     "name": "stderr",
     "output_type": "stream",
     "text": [
      " 27%|██▋       | 41/150 [02:38<04:39,  2.56s/it]"
     ]
    },
    {
     "name": "stdout",
     "output_type": "stream",
     "text": [
      "Completed processing F:\\UCF_Crimes\\UCF_Crimes\\Videos\\Robbery\\Robbery041_x264.mp4\n"
     ]
    },
    {
     "name": "stderr",
     "output_type": "stream",
     "text": [
      " 28%|██▊       | 42/150 [02:40<04:34,  2.54s/it]"
     ]
    },
    {
     "name": "stdout",
     "output_type": "stream",
     "text": [
      "Completed processing F:\\UCF_Crimes\\UCF_Crimes\\Videos\\Robbery\\Robbery042_x264.mp4\n"
     ]
    },
    {
     "name": "stderr",
     "output_type": "stream",
     "text": [
      " 29%|██▊       | 43/150 [02:41<03:46,  2.12s/it]"
     ]
    },
    {
     "name": "stdout",
     "output_type": "stream",
     "text": [
      "Completed processing F:\\UCF_Crimes\\UCF_Crimes\\Videos\\Robbery\\Robbery043_x264.mp4\n"
     ]
    },
    {
     "name": "stderr",
     "output_type": "stream",
     "text": [
      " 29%|██▉       | 44/150 [02:42<02:57,  1.67s/it]"
     ]
    },
    {
     "name": "stdout",
     "output_type": "stream",
     "text": [
      "Completed processing F:\\UCF_Crimes\\UCF_Crimes\\Videos\\Robbery\\Robbery044_x264.mp4\n"
     ]
    },
    {
     "name": "stderr",
     "output_type": "stream",
     "text": [
      " 30%|███       | 45/150 [02:45<03:46,  2.16s/it]"
     ]
    },
    {
     "name": "stdout",
     "output_type": "stream",
     "text": [
      "Completed processing F:\\UCF_Crimes\\UCF_Crimes\\Videos\\Robbery\\Robbery045_x264.mp4\n"
     ]
    },
    {
     "name": "stderr",
     "output_type": "stream",
     "text": [
      " 31%|███       | 46/150 [02:46<03:06,  1.79s/it]"
     ]
    },
    {
     "name": "stdout",
     "output_type": "stream",
     "text": [
      "Completed processing F:\\UCF_Crimes\\UCF_Crimes\\Videos\\Robbery\\Robbery046_x264.mp4\n"
     ]
    },
    {
     "name": "stderr",
     "output_type": "stream",
     "text": [
      " 31%|███▏      | 47/150 [02:48<03:01,  1.76s/it]"
     ]
    },
    {
     "name": "stdout",
     "output_type": "stream",
     "text": [
      "Completed processing F:\\UCF_Crimes\\UCF_Crimes\\Videos\\Robbery\\Robbery047_x264.mp4\n"
     ]
    },
    {
     "name": "stderr",
     "output_type": "stream",
     "text": [
      " 32%|███▏      | 48/150 [02:49<02:40,  1.58s/it]"
     ]
    },
    {
     "name": "stdout",
     "output_type": "stream",
     "text": [
      "Completed processing F:\\UCF_Crimes\\UCF_Crimes\\Videos\\Robbery\\Robbery048_x264.mp4\n"
     ]
    },
    {
     "name": "stderr",
     "output_type": "stream",
     "text": [
      " 33%|███▎      | 49/150 [02:51<02:39,  1.58s/it]"
     ]
    },
    {
     "name": "stdout",
     "output_type": "stream",
     "text": [
      "Completed processing F:\\UCF_Crimes\\UCF_Crimes\\Videos\\Robbery\\Robbery049_x264.mp4\n"
     ]
    },
    {
     "name": "stderr",
     "output_type": "stream",
     "text": [
      " 33%|███▎      | 50/150 [02:52<02:32,  1.52s/it]"
     ]
    },
    {
     "name": "stdout",
     "output_type": "stream",
     "text": [
      "Completed processing F:\\UCF_Crimes\\UCF_Crimes\\Videos\\Robbery\\Robbery050_x264.mp4\n"
     ]
    },
    {
     "name": "stderr",
     "output_type": "stream",
     "text": [
      " 34%|███▍      | 51/150 [02:54<02:42,  1.64s/it]"
     ]
    },
    {
     "name": "stdout",
     "output_type": "stream",
     "text": [
      "Completed processing F:\\UCF_Crimes\\UCF_Crimes\\Videos\\Robbery\\Robbery051_x264.mp4\n"
     ]
    },
    {
     "name": "stderr",
     "output_type": "stream",
     "text": [
      " 35%|███▍      | 52/150 [02:57<03:29,  2.13s/it]"
     ]
    },
    {
     "name": "stdout",
     "output_type": "stream",
     "text": [
      "Completed processing F:\\UCF_Crimes\\UCF_Crimes\\Videos\\Robbery\\Robbery052_x264.mp4\n"
     ]
    },
    {
     "name": "stderr",
     "output_type": "stream",
     "text": [
      " 35%|███▌      | 53/150 [02:59<03:14,  2.00s/it]"
     ]
    },
    {
     "name": "stdout",
     "output_type": "stream",
     "text": [
      "Completed processing F:\\UCF_Crimes\\UCF_Crimes\\Videos\\Robbery\\Robbery053_x264.mp4\n"
     ]
    },
    {
     "name": "stderr",
     "output_type": "stream",
     "text": [
      " 36%|███▌      | 54/150 [03:01<03:14,  2.03s/it]"
     ]
    },
    {
     "name": "stdout",
     "output_type": "stream",
     "text": [
      "Completed processing F:\\UCF_Crimes\\UCF_Crimes\\Videos\\Robbery\\Robbery054_x264.mp4\n"
     ]
    },
    {
     "name": "stderr",
     "output_type": "stream",
     "text": [
      " 37%|███▋      | 55/150 [03:11<06:50,  4.32s/it]"
     ]
    },
    {
     "name": "stdout",
     "output_type": "stream",
     "text": [
      "Completed processing F:\\UCF_Crimes\\UCF_Crimes\\Videos\\Robbery\\Robbery055_x264.mp4\n"
     ]
    },
    {
     "name": "stderr",
     "output_type": "stream",
     "text": [
      " 37%|███▋      | 56/150 [03:13<05:53,  3.76s/it]"
     ]
    },
    {
     "name": "stdout",
     "output_type": "stream",
     "text": [
      "Completed processing F:\\UCF_Crimes\\UCF_Crimes\\Videos\\Robbery\\Robbery056_x264.mp4\n"
     ]
    },
    {
     "name": "stderr",
     "output_type": "stream",
     "text": [
      " 38%|███▊      | 57/150 [03:15<05:08,  3.32s/it]"
     ]
    },
    {
     "name": "stdout",
     "output_type": "stream",
     "text": [
      "Completed processing F:\\UCF_Crimes\\UCF_Crimes\\Videos\\Robbery\\Robbery057_x264.mp4\n"
     ]
    },
    {
     "name": "stderr",
     "output_type": "stream",
     "text": [
      " 39%|███▊      | 58/150 [03:17<04:19,  2.82s/it]"
     ]
    },
    {
     "name": "stdout",
     "output_type": "stream",
     "text": [
      "Completed processing F:\\UCF_Crimes\\UCF_Crimes\\Videos\\Robbery\\Robbery058_x264.mp4\n"
     ]
    },
    {
     "name": "stderr",
     "output_type": "stream",
     "text": [
      " 39%|███▉      | 59/150 [03:25<06:31,  4.30s/it]"
     ]
    },
    {
     "name": "stdout",
     "output_type": "stream",
     "text": [
      "Completed processing F:\\UCF_Crimes\\UCF_Crimes\\Videos\\Robbery\\Robbery059_x264.mp4\n"
     ]
    },
    {
     "name": "stderr",
     "output_type": "stream",
     "text": [
      " 40%|████      | 60/150 [03:26<05:11,  3.46s/it]"
     ]
    },
    {
     "name": "stdout",
     "output_type": "stream",
     "text": [
      "Completed processing F:\\UCF_Crimes\\UCF_Crimes\\Videos\\Robbery\\Robbery060_x264.mp4\n"
     ]
    },
    {
     "name": "stderr",
     "output_type": "stream",
     "text": [
      " 41%|████      | 61/150 [03:30<05:27,  3.68s/it]"
     ]
    },
    {
     "name": "stdout",
     "output_type": "stream",
     "text": [
      "Completed processing F:\\UCF_Crimes\\UCF_Crimes\\Videos\\Robbery\\Robbery061_x264.mp4\n"
     ]
    },
    {
     "name": "stderr",
     "output_type": "stream",
     "text": [
      " 41%|████▏     | 62/150 [03:34<05:16,  3.60s/it]"
     ]
    },
    {
     "name": "stdout",
     "output_type": "stream",
     "text": [
      "Completed processing F:\\UCF_Crimes\\UCF_Crimes\\Videos\\Robbery\\Robbery062_x264.mp4\n"
     ]
    },
    {
     "name": "stderr",
     "output_type": "stream",
     "text": [
      " 42%|████▏     | 63/150 [03:36<04:44,  3.27s/it]"
     ]
    },
    {
     "name": "stdout",
     "output_type": "stream",
     "text": [
      "Completed processing F:\\UCF_Crimes\\UCF_Crimes\\Videos\\Robbery\\Robbery063_x264.mp4\n"
     ]
    },
    {
     "name": "stderr",
     "output_type": "stream",
     "text": [
      " 43%|████▎     | 64/150 [03:38<03:48,  2.66s/it]"
     ]
    },
    {
     "name": "stdout",
     "output_type": "stream",
     "text": [
      "Completed processing F:\\UCF_Crimes\\UCF_Crimes\\Videos\\Robbery\\Robbery064_x264.mp4\n"
     ]
    },
    {
     "name": "stderr",
     "output_type": "stream",
     "text": [
      " 43%|████▎     | 65/150 [03:41<03:52,  2.74s/it]"
     ]
    },
    {
     "name": "stdout",
     "output_type": "stream",
     "text": [
      "Completed processing F:\\UCF_Crimes\\UCF_Crimes\\Videos\\Robbery\\Robbery065_x264.mp4\n"
     ]
    },
    {
     "name": "stderr",
     "output_type": "stream",
     "text": [
      " 44%|████▍     | 66/150 [03:45<04:22,  3.12s/it]"
     ]
    },
    {
     "name": "stdout",
     "output_type": "stream",
     "text": [
      "Completed processing F:\\UCF_Crimes\\UCF_Crimes\\Videos\\Robbery\\Robbery066_x264.mp4\n"
     ]
    },
    {
     "name": "stderr",
     "output_type": "stream",
     "text": [
      " 45%|████▍     | 67/150 [03:48<04:32,  3.28s/it]"
     ]
    },
    {
     "name": "stdout",
     "output_type": "stream",
     "text": [
      "Completed processing F:\\UCF_Crimes\\UCF_Crimes\\Videos\\Robbery\\Robbery067_x264.mp4\n"
     ]
    },
    {
     "name": "stderr",
     "output_type": "stream",
     "text": [
      " 45%|████▌     | 68/150 [03:49<03:22,  2.47s/it]"
     ]
    },
    {
     "name": "stdout",
     "output_type": "stream",
     "text": [
      "Completed processing F:\\UCF_Crimes\\UCF_Crimes\\Videos\\Robbery\\Robbery068_x264.mp4\n"
     ]
    },
    {
     "name": "stderr",
     "output_type": "stream",
     "text": [
      " 46%|████▌     | 69/150 [03:50<02:41,  1.99s/it]"
     ]
    },
    {
     "name": "stdout",
     "output_type": "stream",
     "text": [
      "Completed processing F:\\UCF_Crimes\\UCF_Crimes\\Videos\\Robbery\\Robbery069_x264.mp4\n"
     ]
    },
    {
     "name": "stderr",
     "output_type": "stream",
     "text": [
      " 47%|████▋     | 70/150 [03:50<02:06,  1.58s/it]"
     ]
    },
    {
     "name": "stdout",
     "output_type": "stream",
     "text": [
      "Completed processing F:\\UCF_Crimes\\UCF_Crimes\\Videos\\Robbery\\Robbery070_x264.mp4\n"
     ]
    },
    {
     "name": "stderr",
     "output_type": "stream",
     "text": [
      " 47%|████▋     | 71/150 [03:52<02:07,  1.61s/it]"
     ]
    },
    {
     "name": "stdout",
     "output_type": "stream",
     "text": [
      "Completed processing F:\\UCF_Crimes\\UCF_Crimes\\Videos\\Robbery\\Robbery071_x264.mp4\n"
     ]
    },
    {
     "name": "stderr",
     "output_type": "stream",
     "text": [
      " 48%|████▊     | 72/150 [03:53<01:57,  1.50s/it]"
     ]
    },
    {
     "name": "stdout",
     "output_type": "stream",
     "text": [
      "Completed processing F:\\UCF_Crimes\\UCF_Crimes\\Videos\\Robbery\\Robbery072_x264.mp4\n"
     ]
    },
    {
     "name": "stderr",
     "output_type": "stream",
     "text": [
      " 49%|████▊     | 73/150 [04:01<04:26,  3.47s/it]"
     ]
    },
    {
     "name": "stdout",
     "output_type": "stream",
     "text": [
      "Completed processing F:\\UCF_Crimes\\UCF_Crimes\\Videos\\Robbery\\Robbery073_x264.mp4\n"
     ]
    },
    {
     "name": "stderr",
     "output_type": "stream",
     "text": [
      " 49%|████▉     | 74/150 [04:02<03:27,  2.73s/it]"
     ]
    },
    {
     "name": "stdout",
     "output_type": "stream",
     "text": [
      "Completed processing F:\\UCF_Crimes\\UCF_Crimes\\Videos\\Robbery\\Robbery074_x264.mp4\n"
     ]
    },
    {
     "name": "stderr",
     "output_type": "stream",
     "text": [
      " 50%|█████     | 75/150 [04:05<03:24,  2.72s/it]"
     ]
    },
    {
     "name": "stdout",
     "output_type": "stream",
     "text": [
      "Completed processing F:\\UCF_Crimes\\UCF_Crimes\\Videos\\Robbery\\Robbery075_x264.mp4\n"
     ]
    },
    {
     "name": "stderr",
     "output_type": "stream",
     "text": [
      " 51%|█████     | 76/150 [04:06<02:40,  2.17s/it]"
     ]
    },
    {
     "name": "stdout",
     "output_type": "stream",
     "text": [
      "Completed processing F:\\UCF_Crimes\\UCF_Crimes\\Videos\\Robbery\\Robbery076_x264.mp4\n"
     ]
    },
    {
     "name": "stderr",
     "output_type": "stream",
     "text": [
      " 51%|█████▏    | 77/150 [04:08<02:31,  2.07s/it]"
     ]
    },
    {
     "name": "stdout",
     "output_type": "stream",
     "text": [
      "Completed processing F:\\UCF_Crimes\\UCF_Crimes\\Videos\\Robbery\\Robbery077_x264.mp4\n"
     ]
    },
    {
     "name": "stderr",
     "output_type": "stream",
     "text": [
      " 52%|█████▏    | 78/150 [04:10<02:41,  2.24s/it]"
     ]
    },
    {
     "name": "stdout",
     "output_type": "stream",
     "text": [
      "Completed processing F:\\UCF_Crimes\\UCF_Crimes\\Videos\\Robbery\\Robbery078_x264.mp4\n"
     ]
    },
    {
     "name": "stderr",
     "output_type": "stream",
     "text": [
      " 53%|█████▎    | 79/150 [04:11<02:06,  1.78s/it]"
     ]
    },
    {
     "name": "stdout",
     "output_type": "stream",
     "text": [
      "Completed processing F:\\UCF_Crimes\\UCF_Crimes\\Videos\\Robbery\\Robbery079_x264.mp4\n"
     ]
    },
    {
     "name": "stderr",
     "output_type": "stream",
     "text": [
      " 53%|█████▎    | 80/150 [04:14<02:25,  2.08s/it]"
     ]
    },
    {
     "name": "stdout",
     "output_type": "stream",
     "text": [
      "Completed processing F:\\UCF_Crimes\\UCF_Crimes\\Videos\\Robbery\\Robbery080_x264.mp4\n"
     ]
    },
    {
     "name": "stderr",
     "output_type": "stream",
     "text": [
      " 54%|█████▍    | 81/150 [04:19<03:33,  3.09s/it]"
     ]
    },
    {
     "name": "stdout",
     "output_type": "stream",
     "text": [
      "Completed processing F:\\UCF_Crimes\\UCF_Crimes\\Videos\\Robbery\\Robbery081_x264.mp4\n"
     ]
    },
    {
     "name": "stderr",
     "output_type": "stream",
     "text": [
      " 55%|█████▍    | 82/150 [04:21<02:54,  2.57s/it]"
     ]
    },
    {
     "name": "stdout",
     "output_type": "stream",
     "text": [
      "Completed processing F:\\UCF_Crimes\\UCF_Crimes\\Videos\\Robbery\\Robbery082_x264.mp4\n"
     ]
    },
    {
     "name": "stderr",
     "output_type": "stream",
     "text": [
      " 55%|█████▌    | 83/150 [04:22<02:27,  2.20s/it]"
     ]
    },
    {
     "name": "stdout",
     "output_type": "stream",
     "text": [
      "Completed processing F:\\UCF_Crimes\\UCF_Crimes\\Videos\\Robbery\\Robbery083_x264.mp4\n"
     ]
    },
    {
     "name": "stderr",
     "output_type": "stream",
     "text": [
      " 56%|█████▌    | 84/150 [04:25<02:49,  2.57s/it]"
     ]
    },
    {
     "name": "stdout",
     "output_type": "stream",
     "text": [
      "Completed processing F:\\UCF_Crimes\\UCF_Crimes\\Videos\\Robbery\\Robbery084_x264.mp4\n"
     ]
    },
    {
     "name": "stderr",
     "output_type": "stream",
     "text": [
      " 57%|█████▋    | 85/150 [04:27<02:32,  2.34s/it]"
     ]
    },
    {
     "name": "stdout",
     "output_type": "stream",
     "text": [
      "Completed processing F:\\UCF_Crimes\\UCF_Crimes\\Videos\\Robbery\\Robbery085_x264.mp4\n"
     ]
    },
    {
     "name": "stderr",
     "output_type": "stream",
     "text": [
      " 57%|█████▋    | 86/150 [04:33<03:42,  3.47s/it]"
     ]
    },
    {
     "name": "stdout",
     "output_type": "stream",
     "text": [
      "Completed processing F:\\UCF_Crimes\\UCF_Crimes\\Videos\\Robbery\\Robbery086_x264.mp4\n"
     ]
    },
    {
     "name": "stderr",
     "output_type": "stream",
     "text": [
      " 58%|█████▊    | 87/150 [04:34<02:53,  2.75s/it]"
     ]
    },
    {
     "name": "stdout",
     "output_type": "stream",
     "text": [
      "Completed processing F:\\UCF_Crimes\\UCF_Crimes\\Videos\\Robbery\\Robbery087_x264.mp4\n"
     ]
    },
    {
     "name": "stderr",
     "output_type": "stream",
     "text": [
      " 59%|█████▊    | 88/150 [04:40<03:51,  3.74s/it]"
     ]
    },
    {
     "name": "stdout",
     "output_type": "stream",
     "text": [
      "Completed processing F:\\UCF_Crimes\\UCF_Crimes\\Videos\\Robbery\\Robbery088_x264.mp4\n"
     ]
    },
    {
     "name": "stderr",
     "output_type": "stream",
     "text": [
      " 59%|█████▉    | 89/150 [04:41<02:47,  2.75s/it]"
     ]
    },
    {
     "name": "stdout",
     "output_type": "stream",
     "text": [
      "Completed processing F:\\UCF_Crimes\\UCF_Crimes\\Videos\\Robbery\\Robbery089_x264.mp4\n"
     ]
    },
    {
     "name": "stderr",
     "output_type": "stream",
     "text": [
      " 60%|██████    | 90/150 [04:47<03:50,  3.85s/it]"
     ]
    },
    {
     "name": "stdout",
     "output_type": "stream",
     "text": [
      "Completed processing F:\\UCF_Crimes\\UCF_Crimes\\Videos\\Robbery\\Robbery090_x264.mp4\n"
     ]
    },
    {
     "name": "stderr",
     "output_type": "stream",
     "text": [
      " 61%|██████    | 91/150 [04:49<03:14,  3.29s/it]"
     ]
    },
    {
     "name": "stdout",
     "output_type": "stream",
     "text": [
      "Completed processing F:\\UCF_Crimes\\UCF_Crimes\\Videos\\Robbery\\Robbery091_x264.mp4\n"
     ]
    },
    {
     "name": "stderr",
     "output_type": "stream",
     "text": [
      " 61%|██████▏   | 92/150 [04:50<02:32,  2.63s/it]"
     ]
    },
    {
     "name": "stdout",
     "output_type": "stream",
     "text": [
      "Completed processing F:\\UCF_Crimes\\UCF_Crimes\\Videos\\Robbery\\Robbery092_x264.mp4\n"
     ]
    },
    {
     "name": "stderr",
     "output_type": "stream",
     "text": [
      " 62%|██████▏   | 93/150 [04:52<02:07,  2.24s/it]"
     ]
    },
    {
     "name": "stdout",
     "output_type": "stream",
     "text": [
      "Completed processing F:\\UCF_Crimes\\UCF_Crimes\\Videos\\Robbery\\Robbery093_x264.mp4\n"
     ]
    },
    {
     "name": "stderr",
     "output_type": "stream",
     "text": [
      " 63%|██████▎   | 94/150 [04:55<02:26,  2.62s/it]"
     ]
    },
    {
     "name": "stdout",
     "output_type": "stream",
     "text": [
      "Completed processing F:\\UCF_Crimes\\UCF_Crimes\\Videos\\Robbery\\Robbery094_x264.mp4\n"
     ]
    },
    {
     "name": "stderr",
     "output_type": "stream",
     "text": [
      " 63%|██████▎   | 95/150 [04:56<01:58,  2.16s/it]"
     ]
    },
    {
     "name": "stdout",
     "output_type": "stream",
     "text": [
      "Completed processing F:\\UCF_Crimes\\UCF_Crimes\\Videos\\Robbery\\Robbery095_x264.mp4\n"
     ]
    },
    {
     "name": "stderr",
     "output_type": "stream",
     "text": [
      " 64%|██████▍   | 96/150 [05:00<02:27,  2.74s/it]"
     ]
    },
    {
     "name": "stdout",
     "output_type": "stream",
     "text": [
      "Completed processing F:\\UCF_Crimes\\UCF_Crimes\\Videos\\Robbery\\Robbery096_x264.mp4\n"
     ]
    },
    {
     "name": "stderr",
     "output_type": "stream",
     "text": [
      " 65%|██████▍   | 97/150 [05:05<02:47,  3.16s/it]"
     ]
    },
    {
     "name": "stdout",
     "output_type": "stream",
     "text": [
      "Completed processing F:\\UCF_Crimes\\UCF_Crimes\\Videos\\Robbery\\Robbery097_x264.mp4\n"
     ]
    },
    {
     "name": "stderr",
     "output_type": "stream",
     "text": [
      " 65%|██████▌   | 98/150 [05:17<05:02,  5.82s/it]"
     ]
    },
    {
     "name": "stdout",
     "output_type": "stream",
     "text": [
      "Completed processing F:\\UCF_Crimes\\UCF_Crimes\\Videos\\Robbery\\Robbery098_x264.mp4\n"
     ]
    },
    {
     "name": "stderr",
     "output_type": "stream",
     "text": [
      " 66%|██████▌   | 99/150 [05:18<03:55,  4.61s/it]"
     ]
    },
    {
     "name": "stdout",
     "output_type": "stream",
     "text": [
      "Completed processing F:\\UCF_Crimes\\UCF_Crimes\\Videos\\Robbery\\Robbery099_x264.mp4\n"
     ]
    },
    {
     "name": "stderr",
     "output_type": "stream",
     "text": [
      " 67%|██████▋   | 100/150 [05:25<04:14,  5.10s/it]"
     ]
    },
    {
     "name": "stdout",
     "output_type": "stream",
     "text": [
      "Completed processing F:\\UCF_Crimes\\UCF_Crimes\\Videos\\Robbery\\Robbery100_x264.mp4\n"
     ]
    },
    {
     "name": "stderr",
     "output_type": "stream",
     "text": [
      " 67%|██████▋   | 101/150 [05:28<03:44,  4.59s/it]"
     ]
    },
    {
     "name": "stdout",
     "output_type": "stream",
     "text": [
      "Completed processing F:\\UCF_Crimes\\UCF_Crimes\\Videos\\Robbery\\Robbery101_x264.mp4\n"
     ]
    },
    {
     "name": "stderr",
     "output_type": "stream",
     "text": [
      " 68%|██████▊   | 102/150 [05:30<02:58,  3.71s/it]"
     ]
    },
    {
     "name": "stdout",
     "output_type": "stream",
     "text": [
      "Completed processing F:\\UCF_Crimes\\UCF_Crimes\\Videos\\Robbery\\Robbery102_x264.mp4\n"
     ]
    },
    {
     "name": "stderr",
     "output_type": "stream",
     "text": [
      " 69%|██████▊   | 103/150 [05:32<02:41,  3.45s/it]"
     ]
    },
    {
     "name": "stdout",
     "output_type": "stream",
     "text": [
      "Completed processing F:\\UCF_Crimes\\UCF_Crimes\\Videos\\Robbery\\Robbery103_x264.mp4\n"
     ]
    },
    {
     "name": "stderr",
     "output_type": "stream",
     "text": [
      " 69%|██████▉   | 104/150 [05:34<02:14,  2.93s/it]"
     ]
    },
    {
     "name": "stdout",
     "output_type": "stream",
     "text": [
      "Completed processing F:\\UCF_Crimes\\UCF_Crimes\\Videos\\Robbery\\Robbery104_x264.mp4\n"
     ]
    },
    {
     "name": "stderr",
     "output_type": "stream",
     "text": [
      " 70%|███████   | 105/150 [05:36<02:00,  2.69s/it]"
     ]
    },
    {
     "name": "stdout",
     "output_type": "stream",
     "text": [
      "Completed processing F:\\UCF_Crimes\\UCF_Crimes\\Videos\\Robbery\\Robbery105_x264.mp4\n"
     ]
    },
    {
     "name": "stderr",
     "output_type": "stream",
     "text": [
      " 71%|███████   | 106/150 [05:37<01:37,  2.21s/it]"
     ]
    },
    {
     "name": "stdout",
     "output_type": "stream",
     "text": [
      "Completed processing F:\\UCF_Crimes\\UCF_Crimes\\Videos\\Robbery\\Robbery106_x264.mp4\n"
     ]
    },
    {
     "name": "stderr",
     "output_type": "stream",
     "text": [
      " 71%|███████▏  | 107/150 [05:39<01:26,  2.00s/it]"
     ]
    },
    {
     "name": "stdout",
     "output_type": "stream",
     "text": [
      "Completed processing F:\\UCF_Crimes\\UCF_Crimes\\Videos\\Robbery\\Robbery107_x264.mp4\n"
     ]
    },
    {
     "name": "stderr",
     "output_type": "stream",
     "text": [
      " 72%|███████▏  | 108/150 [05:41<01:19,  1.88s/it]"
     ]
    },
    {
     "name": "stdout",
     "output_type": "stream",
     "text": [
      "Completed processing F:\\UCF_Crimes\\UCF_Crimes\\Videos\\Robbery\\Robbery108_x264.mp4\n"
     ]
    },
    {
     "name": "stderr",
     "output_type": "stream",
     "text": [
      " 73%|███████▎  | 109/150 [05:43<01:30,  2.21s/it]"
     ]
    },
    {
     "name": "stdout",
     "output_type": "stream",
     "text": [
      "Completed processing F:\\UCF_Crimes\\UCF_Crimes\\Videos\\Robbery\\Robbery109_x264.mp4\n"
     ]
    },
    {
     "name": "stderr",
     "output_type": "stream",
     "text": [
      " 73%|███████▎  | 110/150 [05:51<02:36,  3.91s/it]"
     ]
    },
    {
     "name": "stdout",
     "output_type": "stream",
     "text": [
      "Completed processing F:\\UCF_Crimes\\UCF_Crimes\\Videos\\Robbery\\Robbery110_x264.mp4\n"
     ]
    },
    {
     "name": "stderr",
     "output_type": "stream",
     "text": [
      " 74%|███████▍  | 111/150 [05:56<02:44,  4.22s/it]"
     ]
    },
    {
     "name": "stdout",
     "output_type": "stream",
     "text": [
      "Completed processing F:\\UCF_Crimes\\UCF_Crimes\\Videos\\Robbery\\Robbery111_x264.mp4\n"
     ]
    },
    {
     "name": "stderr",
     "output_type": "stream",
     "text": [
      " 75%|███████▍  | 112/150 [05:58<02:10,  3.43s/it]"
     ]
    },
    {
     "name": "stdout",
     "output_type": "stream",
     "text": [
      "Completed processing F:\\UCF_Crimes\\UCF_Crimes\\Videos\\Robbery\\Robbery112_x264.mp4\n"
     ]
    },
    {
     "name": "stderr",
     "output_type": "stream",
     "text": [
      " 75%|███████▌  | 113/150 [05:59<01:39,  2.70s/it]"
     ]
    },
    {
     "name": "stdout",
     "output_type": "stream",
     "text": [
      "Completed processing F:\\UCF_Crimes\\UCF_Crimes\\Videos\\Robbery\\Robbery113_x264.mp4\n"
     ]
    },
    {
     "name": "stderr",
     "output_type": "stream",
     "text": [
      " 76%|███████▌  | 114/150 [06:01<01:35,  2.65s/it]"
     ]
    },
    {
     "name": "stdout",
     "output_type": "stream",
     "text": [
      "Completed processing F:\\UCF_Crimes\\UCF_Crimes\\Videos\\Robbery\\Robbery114_x264.mp4\n"
     ]
    },
    {
     "name": "stderr",
     "output_type": "stream",
     "text": [
      " 77%|███████▋  | 115/150 [06:03<01:22,  2.37s/it]"
     ]
    },
    {
     "name": "stdout",
     "output_type": "stream",
     "text": [
      "Completed processing F:\\UCF_Crimes\\UCF_Crimes\\Videos\\Robbery\\Robbery115_x264.mp4\n"
     ]
    },
    {
     "name": "stderr",
     "output_type": "stream",
     "text": [
      " 77%|███████▋  | 116/150 [06:04<01:01,  1.80s/it]"
     ]
    },
    {
     "name": "stdout",
     "output_type": "stream",
     "text": [
      "Completed processing F:\\UCF_Crimes\\UCF_Crimes\\Videos\\Robbery\\Robbery116_x264.mp4\n"
     ]
    },
    {
     "name": "stderr",
     "output_type": "stream",
     "text": [
      " 78%|███████▊  | 117/150 [06:07<01:14,  2.24s/it]"
     ]
    },
    {
     "name": "stdout",
     "output_type": "stream",
     "text": [
      "Completed processing F:\\UCF_Crimes\\UCF_Crimes\\Videos\\Robbery\\Robbery117_x264.mp4\n"
     ]
    },
    {
     "name": "stderr",
     "output_type": "stream",
     "text": [
      " 79%|███████▊  | 118/150 [06:09<01:09,  2.17s/it]"
     ]
    },
    {
     "name": "stdout",
     "output_type": "stream",
     "text": [
      "Completed processing F:\\UCF_Crimes\\UCF_Crimes\\Videos\\Robbery\\Robbery118_x264.mp4\n"
     ]
    },
    {
     "name": "stderr",
     "output_type": "stream",
     "text": [
      " 79%|███████▉  | 119/150 [06:12<01:15,  2.42s/it]"
     ]
    },
    {
     "name": "stdout",
     "output_type": "stream",
     "text": [
      "Completed processing F:\\UCF_Crimes\\UCF_Crimes\\Videos\\Robbery\\Robbery119_x264.mp4\n"
     ]
    },
    {
     "name": "stderr",
     "output_type": "stream",
     "text": [
      " 80%|████████  | 120/150 [06:13<01:01,  2.04s/it]"
     ]
    },
    {
     "name": "stdout",
     "output_type": "stream",
     "text": [
      "Completed processing F:\\UCF_Crimes\\UCF_Crimes\\Videos\\Robbery\\Robbery120_x264.mp4\n"
     ]
    },
    {
     "name": "stderr",
     "output_type": "stream",
     "text": [
      " 81%|████████  | 121/150 [06:14<00:52,  1.80s/it]"
     ]
    },
    {
     "name": "stdout",
     "output_type": "stream",
     "text": [
      "Completed processing F:\\UCF_Crimes\\UCF_Crimes\\Videos\\Robbery\\Robbery121_x264.mp4\n"
     ]
    },
    {
     "name": "stderr",
     "output_type": "stream",
     "text": [
      " 81%|████████▏ | 122/150 [06:15<00:44,  1.59s/it]"
     ]
    },
    {
     "name": "stdout",
     "output_type": "stream",
     "text": [
      "Completed processing F:\\UCF_Crimes\\UCF_Crimes\\Videos\\Robbery\\Robbery122_x264.mp4\n"
     ]
    },
    {
     "name": "stderr",
     "output_type": "stream",
     "text": [
      " 82%|████████▏ | 123/150 [06:17<00:40,  1.52s/it]"
     ]
    },
    {
     "name": "stdout",
     "output_type": "stream",
     "text": [
      "Completed processing F:\\UCF_Crimes\\UCF_Crimes\\Videos\\Robbery\\Robbery123_x264.mp4\n"
     ]
    },
    {
     "name": "stderr",
     "output_type": "stream",
     "text": [
      " 83%|████████▎ | 124/150 [06:28<01:55,  4.45s/it]"
     ]
    },
    {
     "name": "stdout",
     "output_type": "stream",
     "text": [
      "Completed processing F:\\UCF_Crimes\\UCF_Crimes\\Videos\\Robbery\\Robbery124_x264.mp4\n"
     ]
    },
    {
     "name": "stderr",
     "output_type": "stream",
     "text": [
      " 83%|████████▎ | 125/150 [06:37<02:26,  5.85s/it]"
     ]
    },
    {
     "name": "stdout",
     "output_type": "stream",
     "text": [
      "Completed processing F:\\UCF_Crimes\\UCF_Crimes\\Videos\\Robbery\\Robbery125_x264.mp4\n"
     ]
    },
    {
     "name": "stderr",
     "output_type": "stream",
     "text": [
      " 84%|████████▍ | 126/150 [06:39<01:52,  4.67s/it]"
     ]
    },
    {
     "name": "stdout",
     "output_type": "stream",
     "text": [
      "Completed processing F:\\UCF_Crimes\\UCF_Crimes\\Videos\\Robbery\\Robbery126_x264.mp4\n"
     ]
    },
    {
     "name": "stderr",
     "output_type": "stream",
     "text": [
      " 85%|████████▍ | 127/150 [06:40<01:24,  3.70s/it]"
     ]
    },
    {
     "name": "stdout",
     "output_type": "stream",
     "text": [
      "Completed processing F:\\UCF_Crimes\\UCF_Crimes\\Videos\\Robbery\\Robbery127_x264.mp4\n"
     ]
    },
    {
     "name": "stderr",
     "output_type": "stream",
     "text": [
      " 85%|████████▌ | 128/150 [06:58<02:51,  7.81s/it]"
     ]
    },
    {
     "name": "stdout",
     "output_type": "stream",
     "text": [
      "Completed processing F:\\UCF_Crimes\\UCF_Crimes\\Videos\\Robbery\\Robbery128_x264.mp4\n"
     ]
    },
    {
     "name": "stderr",
     "output_type": "stream",
     "text": [
      " 86%|████████▌ | 129/150 [07:04<02:31,  7.19s/it]"
     ]
    },
    {
     "name": "stdout",
     "output_type": "stream",
     "text": [
      "Completed processing F:\\UCF_Crimes\\UCF_Crimes\\Videos\\Robbery\\Robbery129_x264.mp4\n"
     ]
    },
    {
     "name": "stderr",
     "output_type": "stream",
     "text": [
      " 87%|████████▋ | 130/150 [07:06<01:52,  5.65s/it]"
     ]
    },
    {
     "name": "stdout",
     "output_type": "stream",
     "text": [
      "Completed processing F:\\UCF_Crimes\\UCF_Crimes\\Videos\\Robbery\\Robbery130_x264.mp4\n"
     ]
    },
    {
     "name": "stderr",
     "output_type": "stream",
     "text": [
      " 87%|████████▋ | 131/150 [07:08<01:26,  4.56s/it]"
     ]
    },
    {
     "name": "stdout",
     "output_type": "stream",
     "text": [
      "Completed processing F:\\UCF_Crimes\\UCF_Crimes\\Videos\\Robbery\\Robbery131_x264.mp4\n"
     ]
    },
    {
     "name": "stderr",
     "output_type": "stream",
     "text": [
      " 88%|████████▊ | 132/150 [07:09<01:02,  3.47s/it]"
     ]
    },
    {
     "name": "stdout",
     "output_type": "stream",
     "text": [
      "Completed processing F:\\UCF_Crimes\\UCF_Crimes\\Videos\\Robbery\\Robbery132_x264.mp4\n"
     ]
    },
    {
     "name": "stderr",
     "output_type": "stream",
     "text": [
      " 89%|████████▊ | 133/150 [07:10<00:49,  2.94s/it]"
     ]
    },
    {
     "name": "stdout",
     "output_type": "stream",
     "text": [
      "Completed processing F:\\UCF_Crimes\\UCF_Crimes\\Videos\\Robbery\\Robbery133_x264.mp4\n"
     ]
    },
    {
     "name": "stderr",
     "output_type": "stream",
     "text": [
      " 89%|████████▉ | 134/150 [07:11<00:36,  2.30s/it]"
     ]
    },
    {
     "name": "stdout",
     "output_type": "stream",
     "text": [
      "Completed processing F:\\UCF_Crimes\\UCF_Crimes\\Videos\\Robbery\\Robbery134_x264.mp4\n"
     ]
    },
    {
     "name": "stderr",
     "output_type": "stream",
     "text": [
      " 90%|█████████ | 135/150 [07:14<00:38,  2.59s/it]"
     ]
    },
    {
     "name": "stdout",
     "output_type": "stream",
     "text": [
      "Completed processing F:\\UCF_Crimes\\UCF_Crimes\\Videos\\Robbery\\Robbery135_x264.mp4\n"
     ]
    },
    {
     "name": "stderr",
     "output_type": "stream",
     "text": [
      " 91%|█████████ | 136/150 [07:16<00:30,  2.18s/it]"
     ]
    },
    {
     "name": "stdout",
     "output_type": "stream",
     "text": [
      "Completed processing F:\\UCF_Crimes\\UCF_Crimes\\Videos\\Robbery\\Robbery136_x264.mp4\n"
     ]
    },
    {
     "name": "stderr",
     "output_type": "stream",
     "text": [
      " 91%|█████████▏| 137/150 [07:18<00:29,  2.24s/it]"
     ]
    },
    {
     "name": "stdout",
     "output_type": "stream",
     "text": [
      "Completed processing F:\\UCF_Crimes\\UCF_Crimes\\Videos\\Robbery\\Robbery137_x264.mp4\n"
     ]
    },
    {
     "name": "stderr",
     "output_type": "stream",
     "text": [
      " 92%|█████████▏| 138/150 [07:19<00:22,  1.85s/it]"
     ]
    },
    {
     "name": "stdout",
     "output_type": "stream",
     "text": [
      "Completed processing F:\\UCF_Crimes\\UCF_Crimes\\Videos\\Robbery\\Robbery138_x264.mp4\n"
     ]
    },
    {
     "name": "stderr",
     "output_type": "stream",
     "text": [
      " 93%|█████████▎| 139/150 [07:20<00:17,  1.61s/it]"
     ]
    },
    {
     "name": "stdout",
     "output_type": "stream",
     "text": [
      "Completed processing F:\\UCF_Crimes\\UCF_Crimes\\Videos\\Robbery\\Robbery139_x264.mp4\n"
     ]
    },
    {
     "name": "stderr",
     "output_type": "stream",
     "text": [
      " 93%|█████████▎| 140/150 [07:21<00:14,  1.48s/it]"
     ]
    },
    {
     "name": "stdout",
     "output_type": "stream",
     "text": [
      "Completed processing F:\\UCF_Crimes\\UCF_Crimes\\Videos\\Robbery\\Robbery140_x264.mp4\n"
     ]
    },
    {
     "name": "stderr",
     "output_type": "stream",
     "text": [
      " 94%|█████████▍| 141/150 [07:25<00:19,  2.16s/it]"
     ]
    },
    {
     "name": "stdout",
     "output_type": "stream",
     "text": [
      "Completed processing F:\\UCF_Crimes\\UCF_Crimes\\Videos\\Robbery\\Robbery141_x264.mp4\n"
     ]
    },
    {
     "name": "stderr",
     "output_type": "stream",
     "text": [
      " 95%|█████████▍| 142/150 [07:28<00:19,  2.48s/it]"
     ]
    },
    {
     "name": "stdout",
     "output_type": "stream",
     "text": [
      "Completed processing F:\\UCF_Crimes\\UCF_Crimes\\Videos\\Robbery\\Robbery142_x264.mp4\n"
     ]
    },
    {
     "name": "stderr",
     "output_type": "stream",
     "text": [
      " 95%|█████████▌| 143/150 [07:29<00:14,  2.10s/it]"
     ]
    },
    {
     "name": "stdout",
     "output_type": "stream",
     "text": [
      "Completed processing F:\\UCF_Crimes\\UCF_Crimes\\Videos\\Robbery\\Robbery143_x264.mp4\n"
     ]
    },
    {
     "name": "stderr",
     "output_type": "stream",
     "text": [
      " 96%|█████████▌| 144/150 [07:31<00:11,  1.89s/it]"
     ]
    },
    {
     "name": "stdout",
     "output_type": "stream",
     "text": [
      "Completed processing F:\\UCF_Crimes\\UCF_Crimes\\Videos\\Robbery\\Robbery144_x264.mp4\n"
     ]
    },
    {
     "name": "stderr",
     "output_type": "stream",
     "text": [
      " 97%|█████████▋| 145/150 [07:32<00:08,  1.79s/it]"
     ]
    },
    {
     "name": "stdout",
     "output_type": "stream",
     "text": [
      "Completed processing F:\\UCF_Crimes\\UCF_Crimes\\Videos\\Robbery\\Robbery145_x264.mp4\n"
     ]
    },
    {
     "name": "stderr",
     "output_type": "stream",
     "text": [
      " 97%|█████████▋| 146/150 [07:34<00:07,  1.85s/it]"
     ]
    },
    {
     "name": "stdout",
     "output_type": "stream",
     "text": [
      "Completed processing F:\\UCF_Crimes\\UCF_Crimes\\Videos\\Robbery\\Robbery146_x264.mp4\n"
     ]
    },
    {
     "name": "stderr",
     "output_type": "stream",
     "text": [
      " 98%|█████████▊| 147/150 [07:35<00:04,  1.50s/it]"
     ]
    },
    {
     "name": "stdout",
     "output_type": "stream",
     "text": [
      "Completed processing F:\\UCF_Crimes\\UCF_Crimes\\Videos\\Robbery\\Robbery147_x264.mp4\n"
     ]
    },
    {
     "name": "stderr",
     "output_type": "stream",
     "text": [
      " 99%|█████████▊| 148/150 [07:38<00:04,  2.07s/it]"
     ]
    },
    {
     "name": "stdout",
     "output_type": "stream",
     "text": [
      "Completed processing F:\\UCF_Crimes\\UCF_Crimes\\Videos\\Robbery\\Robbery148_x264.mp4\n"
     ]
    },
    {
     "name": "stderr",
     "output_type": "stream",
     "text": [
      " 99%|█████████▉| 149/150 [07:40<00:01,  1.83s/it]"
     ]
    },
    {
     "name": "stdout",
     "output_type": "stream",
     "text": [
      "Completed processing F:\\UCF_Crimes\\UCF_Crimes\\Videos\\Robbery\\Robbery149_x264.mp4\n"
     ]
    },
    {
     "name": "stderr",
     "output_type": "stream",
     "text": [
      "100%|██████████| 150/150 [07:42<00:00,  3.09s/it]\n"
     ]
    },
    {
     "name": "stdout",
     "output_type": "stream",
     "text": [
      "Completed processing F:\\UCF_Crimes\\UCF_Crimes\\Videos\\Robbery\\Robbery150_x264.mp4\n"
     ]
    },
    {
     "name": "stderr",
     "output_type": "stream",
     "text": [
      "  2%|▏         | 1/50 [00:00<00:23,  2.11it/s]"
     ]
    },
    {
     "name": "stdout",
     "output_type": "stream",
     "text": [
      "Completed processing F:\\UCF_Crimes\\UCF_Crimes\\Videos\\Shooting\\Shooting001_x264.mp4\n"
     ]
    },
    {
     "name": "stderr",
     "output_type": "stream",
     "text": [
      "  4%|▍         | 2/50 [00:02<00:53,  1.10s/it]"
     ]
    },
    {
     "name": "stdout",
     "output_type": "stream",
     "text": [
      "Completed processing F:\\UCF_Crimes\\UCF_Crimes\\Videos\\Shooting\\Shooting002_x264.mp4\n"
     ]
    },
    {
     "name": "stderr",
     "output_type": "stream",
     "text": [
      "  6%|▌         | 3/50 [00:03<01:08,  1.46s/it]"
     ]
    },
    {
     "name": "stdout",
     "output_type": "stream",
     "text": [
      "Completed processing F:\\UCF_Crimes\\UCF_Crimes\\Videos\\Shooting\\Shooting003_x264.mp4\n"
     ]
    },
    {
     "name": "stderr",
     "output_type": "stream",
     "text": [
      "  8%|▊         | 4/50 [00:05<01:09,  1.52s/it]"
     ]
    },
    {
     "name": "stdout",
     "output_type": "stream",
     "text": [
      "Completed processing F:\\UCF_Crimes\\UCF_Crimes\\Videos\\Shooting\\Shooting004_x264.mp4\n"
     ]
    },
    {
     "name": "stderr",
     "output_type": "stream",
     "text": [
      " 10%|█         | 5/50 [00:09<01:49,  2.43s/it]"
     ]
    },
    {
     "name": "stdout",
     "output_type": "stream",
     "text": [
      "Completed processing F:\\UCF_Crimes\\UCF_Crimes\\Videos\\Shooting\\Shooting005_x264.mp4\n"
     ]
    },
    {
     "name": "stderr",
     "output_type": "stream",
     "text": [
      " 12%|█▏        | 6/50 [00:20<03:57,  5.39s/it]"
     ]
    },
    {
     "name": "stdout",
     "output_type": "stream",
     "text": [
      "Completed processing F:\\UCF_Crimes\\UCF_Crimes\\Videos\\Shooting\\Shooting006_x264.mp4\n"
     ]
    },
    {
     "name": "stderr",
     "output_type": "stream",
     "text": [
      " 14%|█▍        | 7/50 [00:22<03:00,  4.19s/it]"
     ]
    },
    {
     "name": "stdout",
     "output_type": "stream",
     "text": [
      "Completed processing F:\\UCF_Crimes\\UCF_Crimes\\Videos\\Shooting\\Shooting007_x264.mp4\n"
     ]
    },
    {
     "name": "stderr",
     "output_type": "stream",
     "text": [
      " 16%|█▌        | 8/50 [00:24<02:21,  3.37s/it]"
     ]
    },
    {
     "name": "stdout",
     "output_type": "stream",
     "text": [
      "Completed processing F:\\UCF_Crimes\\UCF_Crimes\\Videos\\Shooting\\Shooting008_x264.mp4\n"
     ]
    },
    {
     "name": "stderr",
     "output_type": "stream",
     "text": [
      " 18%|█▊        | 9/50 [00:29<02:48,  4.11s/it]"
     ]
    },
    {
     "name": "stdout",
     "output_type": "stream",
     "text": [
      "Completed processing F:\\UCF_Crimes\\UCF_Crimes\\Videos\\Shooting\\Shooting009_x264.mp4\n"
     ]
    },
    {
     "name": "stderr",
     "output_type": "stream",
     "text": [
      " 20%|██        | 10/50 [00:32<02:25,  3.64s/it]"
     ]
    },
    {
     "name": "stdout",
     "output_type": "stream",
     "text": [
      "Completed processing F:\\UCF_Crimes\\UCF_Crimes\\Videos\\Shooting\\Shooting010_x264.mp4\n"
     ]
    },
    {
     "name": "stderr",
     "output_type": "stream",
     "text": [
      " 22%|██▏       | 11/50 [00:45<04:13,  6.51s/it]"
     ]
    },
    {
     "name": "stdout",
     "output_type": "stream",
     "text": [
      "Completed processing F:\\UCF_Crimes\\UCF_Crimes\\Videos\\Shooting\\Shooting011_x264.mp4\n"
     ]
    },
    {
     "name": "stderr",
     "output_type": "stream",
     "text": [
      " 24%|██▍       | 12/50 [00:46<03:09,  5.00s/it]"
     ]
    },
    {
     "name": "stdout",
     "output_type": "stream",
     "text": [
      "Completed processing F:\\UCF_Crimes\\UCF_Crimes\\Videos\\Shooting\\Shooting012_x264.mp4\n"
     ]
    },
    {
     "name": "stderr",
     "output_type": "stream",
     "text": [
      " 26%|██▌       | 13/50 [00:48<02:21,  3.83s/it]"
     ]
    },
    {
     "name": "stdout",
     "output_type": "stream",
     "text": [
      "Completed processing F:\\UCF_Crimes\\UCF_Crimes\\Videos\\Shooting\\Shooting013_x264.mp4\n"
     ]
    },
    {
     "name": "stderr",
     "output_type": "stream",
     "text": [
      " 28%|██▊       | 14/50 [01:08<05:13,  8.71s/it]"
     ]
    },
    {
     "name": "stdout",
     "output_type": "stream",
     "text": [
      "Completed processing F:\\UCF_Crimes\\UCF_Crimes\\Videos\\Shooting\\Shooting014_x264.mp4\n"
     ]
    },
    {
     "name": "stderr",
     "output_type": "stream",
     "text": [
      " 30%|███       | 15/50 [01:09<03:48,  6.54s/it]"
     ]
    },
    {
     "name": "stdout",
     "output_type": "stream",
     "text": [
      "Completed processing F:\\UCF_Crimes\\UCF_Crimes\\Videos\\Shooting\\Shooting015_x264.mp4\n"
     ]
    },
    {
     "name": "stderr",
     "output_type": "stream",
     "text": [
      " 32%|███▏      | 16/50 [01:10<02:45,  4.87s/it]"
     ]
    },
    {
     "name": "stdout",
     "output_type": "stream",
     "text": [
      "Completed processing F:\\UCF_Crimes\\UCF_Crimes\\Videos\\Shooting\\Shooting017_x264.mp4\n"
     ]
    },
    {
     "name": "stderr",
     "output_type": "stream",
     "text": [
      " 34%|███▍      | 17/50 [01:12<02:09,  3.91s/it]"
     ]
    },
    {
     "name": "stdout",
     "output_type": "stream",
     "text": [
      "Completed processing F:\\UCF_Crimes\\UCF_Crimes\\Videos\\Shooting\\Shooting018_x264.mp4\n"
     ]
    },
    {
     "name": "stderr",
     "output_type": "stream",
     "text": [
      " 36%|███▌      | 18/50 [01:14<01:52,  3.51s/it]"
     ]
    },
    {
     "name": "stdout",
     "output_type": "stream",
     "text": [
      "Completed processing F:\\UCF_Crimes\\UCF_Crimes\\Videos\\Shooting\\Shooting019_x264.mp4\n"
     ]
    },
    {
     "name": "stderr",
     "output_type": "stream",
     "text": [
      " 38%|███▊      | 19/50 [01:20<02:04,  4.02s/it]"
     ]
    },
    {
     "name": "stdout",
     "output_type": "stream",
     "text": [
      "Completed processing F:\\UCF_Crimes\\UCF_Crimes\\Videos\\Shooting\\Shooting020_x264.mp4\n"
     ]
    },
    {
     "name": "stderr",
     "output_type": "stream",
     "text": [
      " 40%|████      | 20/50 [01:21<01:35,  3.19s/it]"
     ]
    },
    {
     "name": "stdout",
     "output_type": "stream",
     "text": [
      "Completed processing F:\\UCF_Crimes\\UCF_Crimes\\Videos\\Shooting\\Shooting021_x264.mp4\n"
     ]
    },
    {
     "name": "stderr",
     "output_type": "stream",
     "text": [
      " 42%|████▏     | 21/50 [01:25<01:44,  3.61s/it]"
     ]
    },
    {
     "name": "stdout",
     "output_type": "stream",
     "text": [
      "Completed processing F:\\UCF_Crimes\\UCF_Crimes\\Videos\\Shooting\\Shooting022_x264.mp4\n"
     ]
    },
    {
     "name": "stderr",
     "output_type": "stream",
     "text": [
      " 44%|████▍     | 22/50 [01:26<01:15,  2.70s/it]"
     ]
    },
    {
     "name": "stdout",
     "output_type": "stream",
     "text": [
      "Completed processing F:\\UCF_Crimes\\UCF_Crimes\\Videos\\Shooting\\Shooting023_x264.mp4\n"
     ]
    },
    {
     "name": "stderr",
     "output_type": "stream",
     "text": [
      " 46%|████▌     | 23/50 [01:28<01:08,  2.55s/it]"
     ]
    },
    {
     "name": "stdout",
     "output_type": "stream",
     "text": [
      "Completed processing F:\\UCF_Crimes\\UCF_Crimes\\Videos\\Shooting\\Shooting024_x264.mp4\n"
     ]
    },
    {
     "name": "stderr",
     "output_type": "stream",
     "text": [
      " 48%|████▊     | 24/50 [01:31<01:08,  2.64s/it]"
     ]
    },
    {
     "name": "stdout",
     "output_type": "stream",
     "text": [
      "Completed processing F:\\UCF_Crimes\\UCF_Crimes\\Videos\\Shooting\\Shooting025_x264.mp4\n"
     ]
    },
    {
     "name": "stderr",
     "output_type": "stream",
     "text": [
      " 50%|█████     | 25/50 [01:32<00:57,  2.29s/it]"
     ]
    },
    {
     "name": "stdout",
     "output_type": "stream",
     "text": [
      "Completed processing F:\\UCF_Crimes\\UCF_Crimes\\Videos\\Shooting\\Shooting026_x264.mp4\n"
     ]
    },
    {
     "name": "stderr",
     "output_type": "stream",
     "text": [
      " 52%|█████▏    | 26/50 [01:33<00:44,  1.86s/it]"
     ]
    },
    {
     "name": "stdout",
     "output_type": "stream",
     "text": [
      "Completed processing F:\\UCF_Crimes\\UCF_Crimes\\Videos\\Shooting\\Shooting027_x264.mp4\n"
     ]
    },
    {
     "name": "stderr",
     "output_type": "stream",
     "text": [
      " 54%|█████▍    | 27/50 [01:35<00:39,  1.74s/it]"
     ]
    },
    {
     "name": "stdout",
     "output_type": "stream",
     "text": [
      "Completed processing F:\\UCF_Crimes\\UCF_Crimes\\Videos\\Shooting\\Shooting028_x264.mp4\n"
     ]
    },
    {
     "name": "stderr",
     "output_type": "stream",
     "text": [
      " 56%|█████▌    | 28/50 [01:36<00:35,  1.64s/it]"
     ]
    },
    {
     "name": "stdout",
     "output_type": "stream",
     "text": [
      "Completed processing F:\\UCF_Crimes\\UCF_Crimes\\Videos\\Shooting\\Shooting029_x264.mp4\n"
     ]
    },
    {
     "name": "stderr",
     "output_type": "stream",
     "text": [
      " 58%|█████▊    | 29/50 [01:37<00:31,  1.48s/it]"
     ]
    },
    {
     "name": "stdout",
     "output_type": "stream",
     "text": [
      "Completed processing F:\\UCF_Crimes\\UCF_Crimes\\Videos\\Shooting\\Shooting030_x264.mp4\n"
     ]
    },
    {
     "name": "stderr",
     "output_type": "stream",
     "text": [
      " 60%|██████    | 30/50 [01:44<01:00,  3.02s/it]"
     ]
    },
    {
     "name": "stdout",
     "output_type": "stream",
     "text": [
      "Completed processing F:\\UCF_Crimes\\UCF_Crimes\\Videos\\Shooting\\Shooting031_x264.mp4\n"
     ]
    },
    {
     "name": "stderr",
     "output_type": "stream",
     "text": [
      " 62%|██████▏   | 31/50 [02:09<03:03,  9.66s/it]"
     ]
    },
    {
     "name": "stdout",
     "output_type": "stream",
     "text": [
      "Completed processing F:\\UCF_Crimes\\UCF_Crimes\\Videos\\Shooting\\Shooting032_x264.mp4\n"
     ]
    },
    {
     "name": "stderr",
     "output_type": "stream",
     "text": [
      " 64%|██████▍   | 32/50 [02:13<02:20,  7.80s/it]"
     ]
    },
    {
     "name": "stdout",
     "output_type": "stream",
     "text": [
      "Completed processing F:\\UCF_Crimes\\UCF_Crimes\\Videos\\Shooting\\Shooting033_x264.mp4\n"
     ]
    },
    {
     "name": "stderr",
     "output_type": "stream",
     "text": [
      " 66%|██████▌   | 33/50 [02:14<01:40,  5.88s/it]"
     ]
    },
    {
     "name": "stdout",
     "output_type": "stream",
     "text": [
      "Completed processing F:\\UCF_Crimes\\UCF_Crimes\\Videos\\Shooting\\Shooting034_x264.mp4\n"
     ]
    },
    {
     "name": "stderr",
     "output_type": "stream",
     "text": [
      " 68%|██████▊   | 34/50 [02:27<02:09,  8.09s/it]"
     ]
    },
    {
     "name": "stdout",
     "output_type": "stream",
     "text": [
      "Completed processing F:\\UCF_Crimes\\UCF_Crimes\\Videos\\Shooting\\Shooting036_x264.mp4\n"
     ]
    },
    {
     "name": "stderr",
     "output_type": "stream",
     "text": [
      " 70%|███████   | 35/50 [02:28<01:26,  5.78s/it]"
     ]
    },
    {
     "name": "stdout",
     "output_type": "stream",
     "text": [
      "Completed processing F:\\UCF_Crimes\\UCF_Crimes\\Videos\\Shooting\\Shooting037_x264.mp4\n"
     ]
    },
    {
     "name": "stderr",
     "output_type": "stream",
     "text": [
      " 72%|███████▏  | 36/50 [02:29<01:01,  4.41s/it]"
     ]
    },
    {
     "name": "stdout",
     "output_type": "stream",
     "text": [
      "Completed processing F:\\UCF_Crimes\\UCF_Crimes\\Videos\\Shooting\\Shooting038_x264.mp4\n"
     ]
    },
    {
     "name": "stderr",
     "output_type": "stream",
     "text": [
      " 74%|███████▍  | 37/50 [02:30<00:43,  3.32s/it]"
     ]
    },
    {
     "name": "stdout",
     "output_type": "stream",
     "text": [
      "Completed processing F:\\UCF_Crimes\\UCF_Crimes\\Videos\\Shooting\\Shooting039_x264.mp4\n"
     ]
    },
    {
     "name": "stderr",
     "output_type": "stream",
     "text": [
      " 76%|███████▌  | 38/50 [02:30<00:31,  2.60s/it]"
     ]
    },
    {
     "name": "stdout",
     "output_type": "stream",
     "text": [
      "Completed processing F:\\UCF_Crimes\\UCF_Crimes\\Videos\\Shooting\\Shooting040_x264.mp4\n"
     ]
    },
    {
     "name": "stderr",
     "output_type": "stream",
     "text": [
      " 78%|███████▊  | 39/50 [02:32<00:24,  2.21s/it]"
     ]
    },
    {
     "name": "stdout",
     "output_type": "stream",
     "text": [
      "Completed processing F:\\UCF_Crimes\\UCF_Crimes\\Videos\\Shooting\\Shooting041_x264.mp4\n"
     ]
    },
    {
     "name": "stderr",
     "output_type": "stream",
     "text": [
      " 80%|████████  | 40/50 [02:34<00:20,  2.10s/it]"
     ]
    },
    {
     "name": "stdout",
     "output_type": "stream",
     "text": [
      "Completed processing F:\\UCF_Crimes\\UCF_Crimes\\Videos\\Shooting\\Shooting042_x264.mp4\n"
     ]
    },
    {
     "name": "stderr",
     "output_type": "stream",
     "text": [
      " 82%|████████▏ | 41/50 [02:36<00:18,  2.04s/it]"
     ]
    },
    {
     "name": "stdout",
     "output_type": "stream",
     "text": [
      "Completed processing F:\\UCF_Crimes\\UCF_Crimes\\Videos\\Shooting\\Shooting043_x264.mp4\n"
     ]
    },
    {
     "name": "stderr",
     "output_type": "stream",
     "text": [
      " 84%|████████▍ | 42/50 [02:36<00:12,  1.59s/it]"
     ]
    },
    {
     "name": "stdout",
     "output_type": "stream",
     "text": [
      "Completed processing F:\\UCF_Crimes\\UCF_Crimes\\Videos\\Shooting\\Shooting044_x264.mp4\n"
     ]
    },
    {
     "name": "stderr",
     "output_type": "stream",
     "text": [
      " 86%|████████▌ | 43/50 [02:42<00:20,  2.86s/it]"
     ]
    },
    {
     "name": "stdout",
     "output_type": "stream",
     "text": [
      "Completed processing F:\\UCF_Crimes\\UCF_Crimes\\Videos\\Shooting\\Shooting046_x264.mp4\n"
     ]
    },
    {
     "name": "stderr",
     "output_type": "stream",
     "text": [
      " 88%|████████▊ | 44/50 [02:51<00:28,  4.71s/it]"
     ]
    },
    {
     "name": "stdout",
     "output_type": "stream",
     "text": [
      "Completed processing F:\\UCF_Crimes\\UCF_Crimes\\Videos\\Shooting\\Shooting047_x264.mp4\n"
     ]
    },
    {
     "name": "stderr",
     "output_type": "stream",
     "text": [
      " 90%|█████████ | 45/50 [02:53<00:20,  4.06s/it]"
     ]
    },
    {
     "name": "stdout",
     "output_type": "stream",
     "text": [
      "Completed processing F:\\UCF_Crimes\\UCF_Crimes\\Videos\\Shooting\\Shooting048_x264.mp4\n"
     ]
    },
    {
     "name": "stderr",
     "output_type": "stream",
     "text": [
      " 92%|█████████▏| 46/50 [02:57<00:15,  3.89s/it]"
     ]
    },
    {
     "name": "stdout",
     "output_type": "stream",
     "text": [
      "Completed processing F:\\UCF_Crimes\\UCF_Crimes\\Videos\\Shooting\\Shooting050_x264.mp4\n"
     ]
    },
    {
     "name": "stderr",
     "output_type": "stream",
     "text": [
      " 94%|█████████▍| 47/50 [02:58<00:09,  3.18s/it]"
     ]
    },
    {
     "name": "stdout",
     "output_type": "stream",
     "text": [
      "Completed processing F:\\UCF_Crimes\\UCF_Crimes\\Videos\\Shooting\\Shooting051_x264.mp4\n"
     ]
    },
    {
     "name": "stderr",
     "output_type": "stream",
     "text": [
      " 96%|█████████▌| 48/50 [03:04<00:07,  3.92s/it]"
     ]
    },
    {
     "name": "stdout",
     "output_type": "stream",
     "text": [
      "Completed processing F:\\UCF_Crimes\\UCF_Crimes\\Videos\\Shooting\\Shooting052_x264.mp4\n"
     ]
    },
    {
     "name": "stderr",
     "output_type": "stream",
     "text": [
      " 98%|█████████▊| 49/50 [03:05<00:03,  3.05s/it]"
     ]
    },
    {
     "name": "stdout",
     "output_type": "stream",
     "text": [
      "Completed processing F:\\UCF_Crimes\\UCF_Crimes\\Videos\\Shooting\\Shooting053_x264.mp4\n"
     ]
    },
    {
     "name": "stderr",
     "output_type": "stream",
     "text": [
      "100%|██████████| 50/50 [03:06<00:00,  3.73s/it]\n"
     ]
    },
    {
     "name": "stdout",
     "output_type": "stream",
     "text": [
      "Completed processing F:\\UCF_Crimes\\UCF_Crimes\\Videos\\Shooting\\Shooting054_x264.mp4\n"
     ]
    },
    {
     "name": "stderr",
     "output_type": "stream",
     "text": [
      "  2%|▏         | 1/50 [00:04<03:59,  4.88s/it]"
     ]
    },
    {
     "name": "stdout",
     "output_type": "stream",
     "text": [
      "Completed processing F:\\UCF_Crimes\\UCF_Crimes\\Videos\\Shoplifting\\Shoplifting001_x264.mp4\n"
     ]
    },
    {
     "name": "stderr",
     "output_type": "stream",
     "text": [
      "  4%|▍         | 2/50 [00:17<07:43,  9.65s/it]"
     ]
    },
    {
     "name": "stdout",
     "output_type": "stream",
     "text": [
      "Completed processing F:\\UCF_Crimes\\UCF_Crimes\\Videos\\Shoplifting\\Shoplifting003_x264.mp4\n"
     ]
    },
    {
     "name": "stderr",
     "output_type": "stream",
     "text": [
      "  6%|▌         | 3/50 [00:24<06:36,  8.44s/it]"
     ]
    },
    {
     "name": "stdout",
     "output_type": "stream",
     "text": [
      "Completed processing F:\\UCF_Crimes\\UCF_Crimes\\Videos\\Shoplifting\\Shoplifting004_x264.mp4\n"
     ]
    },
    {
     "name": "stderr",
     "output_type": "stream",
     "text": [
      "  8%|▊         | 4/50 [00:27<04:39,  6.07s/it]"
     ]
    },
    {
     "name": "stdout",
     "output_type": "stream",
     "text": [
      "Completed processing F:\\UCF_Crimes\\UCF_Crimes\\Videos\\Shoplifting\\Shoplifting005_x264.mp4\n"
     ]
    },
    {
     "name": "stderr",
     "output_type": "stream",
     "text": [
      " 10%|█         | 5/50 [00:30<03:49,  5.09s/it]"
     ]
    },
    {
     "name": "stdout",
     "output_type": "stream",
     "text": [
      "Completed processing F:\\UCF_Crimes\\UCF_Crimes\\Videos\\Shoplifting\\Shoplifting006_x264.mp4\n"
     ]
    },
    {
     "name": "stderr",
     "output_type": "stream",
     "text": [
      " 12%|█▏        | 6/50 [00:37<04:07,  5.62s/it]"
     ]
    },
    {
     "name": "stdout",
     "output_type": "stream",
     "text": [
      "Completed processing F:\\UCF_Crimes\\UCF_Crimes\\Videos\\Shoplifting\\Shoplifting007_x264.mp4\n"
     ]
    },
    {
     "name": "stderr",
     "output_type": "stream",
     "text": [
      " 14%|█▍        | 7/50 [00:47<05:02,  7.03s/it]"
     ]
    },
    {
     "name": "stdout",
     "output_type": "stream",
     "text": [
      "Completed processing F:\\UCF_Crimes\\UCF_Crimes\\Videos\\Shoplifting\\Shoplifting008_x264.mp4\n"
     ]
    },
    {
     "name": "stderr",
     "output_type": "stream",
     "text": [
      " 16%|█▌        | 8/50 [00:53<04:39,  6.64s/it]"
     ]
    },
    {
     "name": "stdout",
     "output_type": "stream",
     "text": [
      "Completed processing F:\\UCF_Crimes\\UCF_Crimes\\Videos\\Shoplifting\\Shoplifting009_x264.mp4\n"
     ]
    },
    {
     "name": "stderr",
     "output_type": "stream",
     "text": [
      " 18%|█▊        | 9/50 [00:56<03:48,  5.58s/it]"
     ]
    },
    {
     "name": "stdout",
     "output_type": "stream",
     "text": [
      "Completed processing F:\\UCF_Crimes\\UCF_Crimes\\Videos\\Shoplifting\\Shoplifting010_x264.mp4\n"
     ]
    },
    {
     "name": "stderr",
     "output_type": "stream",
     "text": [
      " 20%|██        | 10/50 [02:22<20:19, 30.48s/it]"
     ]
    },
    {
     "name": "stdout",
     "output_type": "stream",
     "text": [
      "Completed processing F:\\UCF_Crimes\\UCF_Crimes\\Videos\\Shoplifting\\Shoplifting012_x264.mp4\n"
     ]
    },
    {
     "name": "stderr",
     "output_type": "stream",
     "text": [
      " 22%|██▏       | 11/50 [02:24<14:08, 21.75s/it]"
     ]
    },
    {
     "name": "stdout",
     "output_type": "stream",
     "text": [
      "Completed processing F:\\UCF_Crimes\\UCF_Crimes\\Videos\\Shoplifting\\Shoplifting013_x264.mp4\n"
     ]
    },
    {
     "name": "stderr",
     "output_type": "stream",
     "text": [
      " 24%|██▍       | 12/50 [03:37<23:37, 37.31s/it]"
     ]
    },
    {
     "name": "stdout",
     "output_type": "stream",
     "text": [
      "Completed processing F:\\UCF_Crimes\\UCF_Crimes\\Videos\\Shoplifting\\Shoplifting014_x264.mp4\n"
     ]
    },
    {
     "name": "stderr",
     "output_type": "stream",
     "text": [
      " 26%|██▌       | 13/50 [03:39<16:29, 26.73s/it]"
     ]
    },
    {
     "name": "stdout",
     "output_type": "stream",
     "text": [
      "Completed processing F:\\UCF_Crimes\\UCF_Crimes\\Videos\\Shoplifting\\Shoplifting015_x264.mp4\n"
     ]
    },
    {
     "name": "stderr",
     "output_type": "stream",
     "text": [
      " 28%|██▊       | 14/50 [03:41<11:25, 19.05s/it]"
     ]
    },
    {
     "name": "stdout",
     "output_type": "stream",
     "text": [
      "Completed processing F:\\UCF_Crimes\\UCF_Crimes\\Videos\\Shoplifting\\Shoplifting016_x264.mp4\n"
     ]
    },
    {
     "name": "stderr",
     "output_type": "stream",
     "text": [
      " 30%|███       | 15/50 [03:41<07:51, 13.47s/it]"
     ]
    },
    {
     "name": "stdout",
     "output_type": "stream",
     "text": [
      "Completed processing F:\\UCF_Crimes\\UCF_Crimes\\Videos\\Shoplifting\\Shoplifting017_x264.mp4\n"
     ]
    },
    {
     "name": "stderr",
     "output_type": "stream",
     "text": [
      " 32%|███▏      | 16/50 [03:43<05:42, 10.09s/it]"
     ]
    },
    {
     "name": "stdout",
     "output_type": "stream",
     "text": [
      "Completed processing F:\\UCF_Crimes\\UCF_Crimes\\Videos\\Shoplifting\\Shoplifting018_x264.mp4\n"
     ]
    },
    {
     "name": "stderr",
     "output_type": "stream",
     "text": [
      " 34%|███▍      | 17/50 [03:44<04:00,  7.28s/it]"
     ]
    },
    {
     "name": "stdout",
     "output_type": "stream",
     "text": [
      "Completed processing F:\\UCF_Crimes\\UCF_Crimes\\Videos\\Shoplifting\\Shoplifting019_x264.mp4\n"
     ]
    },
    {
     "name": "stderr",
     "output_type": "stream",
     "text": [
      " 36%|███▌      | 18/50 [03:51<03:49,  7.18s/it]"
     ]
    },
    {
     "name": "stdout",
     "output_type": "stream",
     "text": [
      "Completed processing F:\\UCF_Crimes\\UCF_Crimes\\Videos\\Shoplifting\\Shoplifting020_x264.mp4\n"
     ]
    },
    {
     "name": "stderr",
     "output_type": "stream",
     "text": [
      " 38%|███▊      | 19/50 [03:55<03:10,  6.14s/it]"
     ]
    },
    {
     "name": "stdout",
     "output_type": "stream",
     "text": [
      "Completed processing F:\\UCF_Crimes\\UCF_Crimes\\Videos\\Shoplifting\\Shoplifting021_x264.mp4\n"
     ]
    },
    {
     "name": "stderr",
     "output_type": "stream",
     "text": [
      " 40%|████      | 20/50 [03:57<02:27,  4.92s/it]"
     ]
    },
    {
     "name": "stdout",
     "output_type": "stream",
     "text": [
      "Completed processing F:\\UCF_Crimes\\UCF_Crimes\\Videos\\Shoplifting\\Shoplifting022_x264.mp4\n"
     ]
    },
    {
     "name": "stderr",
     "output_type": "stream",
     "text": [
      " 42%|████▏     | 21/50 [03:58<01:49,  3.77s/it]"
     ]
    },
    {
     "name": "stdout",
     "output_type": "stream",
     "text": [
      "Completed processing F:\\UCF_Crimes\\UCF_Crimes\\Videos\\Shoplifting\\Shoplifting024_x264.mp4\n"
     ]
    },
    {
     "name": "stderr",
     "output_type": "stream",
     "text": [
      " 44%|████▍     | 22/50 [04:00<01:33,  3.33s/it]"
     ]
    },
    {
     "name": "stdout",
     "output_type": "stream",
     "text": [
      "Completed processing F:\\UCF_Crimes\\UCF_Crimes\\Videos\\Shoplifting\\Shoplifting025_x264.mp4\n"
     ]
    },
    {
     "name": "stderr",
     "output_type": "stream",
     "text": [
      " 46%|████▌     | 23/50 [04:02<01:13,  2.73s/it]"
     ]
    },
    {
     "name": "stdout",
     "output_type": "stream",
     "text": [
      "Completed processing F:\\UCF_Crimes\\UCF_Crimes\\Videos\\Shoplifting\\Shoplifting026_x264.mp4\n"
     ]
    },
    {
     "name": "stderr",
     "output_type": "stream",
     "text": [
      " 48%|████▊     | 24/50 [04:04<01:04,  2.49s/it]"
     ]
    },
    {
     "name": "stdout",
     "output_type": "stream",
     "text": [
      "Completed processing F:\\UCF_Crimes\\UCF_Crimes\\Videos\\Shoplifting\\Shoplifting027_x264.mp4\n"
     ]
    },
    {
     "name": "stderr",
     "output_type": "stream",
     "text": [
      " 50%|█████     | 25/50 [04:05<00:51,  2.07s/it]"
     ]
    },
    {
     "name": "stdout",
     "output_type": "stream",
     "text": [
      "Completed processing F:\\UCF_Crimes\\UCF_Crimes\\Videos\\Shoplifting\\Shoplifting028_x264.mp4\n"
     ]
    },
    {
     "name": "stderr",
     "output_type": "stream",
     "text": [
      " 52%|█████▏    | 26/50 [04:07<00:49,  2.08s/it]"
     ]
    },
    {
     "name": "stdout",
     "output_type": "stream",
     "text": [
      "Completed processing F:\\UCF_Crimes\\UCF_Crimes\\Videos\\Shoplifting\\Shoplifting029_x264.mp4\n"
     ]
    },
    {
     "name": "stderr",
     "output_type": "stream",
     "text": [
      " 54%|█████▍    | 27/50 [04:33<03:32,  9.25s/it]"
     ]
    },
    {
     "name": "stdout",
     "output_type": "stream",
     "text": [
      "Completed processing F:\\UCF_Crimes\\UCF_Crimes\\Videos\\Shoplifting\\Shoplifting030_x264.mp4\n"
     ]
    },
    {
     "name": "stderr",
     "output_type": "stream",
     "text": [
      " 56%|█████▌    | 28/50 [04:33<02:26,  6.66s/it]"
     ]
    },
    {
     "name": "stdout",
     "output_type": "stream",
     "text": [
      "Completed processing F:\\UCF_Crimes\\UCF_Crimes\\Videos\\Shoplifting\\Shoplifting031_x264.mp4\n"
     ]
    },
    {
     "name": "stderr",
     "output_type": "stream",
     "text": [
      " 58%|█████▊    | 29/50 [04:35<01:45,  5.03s/it]"
     ]
    },
    {
     "name": "stdout",
     "output_type": "stream",
     "text": [
      "Completed processing F:\\UCF_Crimes\\UCF_Crimes\\Videos\\Shoplifting\\Shoplifting032_x264.mp4\n"
     ]
    },
    {
     "name": "stderr",
     "output_type": "stream",
     "text": [
      " 60%|██████    | 30/50 [04:35<01:15,  3.77s/it]"
     ]
    },
    {
     "name": "stdout",
     "output_type": "stream",
     "text": [
      "Completed processing F:\\UCF_Crimes\\UCF_Crimes\\Videos\\Shoplifting\\Shoplifting033_x264.mp4\n"
     ]
    },
    {
     "name": "stderr",
     "output_type": "stream",
     "text": [
      " 62%|██████▏   | 31/50 [04:47<01:55,  6.06s/it]"
     ]
    },
    {
     "name": "stdout",
     "output_type": "stream",
     "text": [
      "Completed processing F:\\UCF_Crimes\\UCF_Crimes\\Videos\\Shoplifting\\Shoplifting034_x264.mp4\n"
     ]
    },
    {
     "name": "stderr",
     "output_type": "stream",
     "text": [
      " 64%|██████▍   | 32/50 [04:50<01:35,  5.31s/it]"
     ]
    },
    {
     "name": "stdout",
     "output_type": "stream",
     "text": [
      "Completed processing F:\\UCF_Crimes\\UCF_Crimes\\Videos\\Shoplifting\\Shoplifting036_x264.mp4\n"
     ]
    },
    {
     "name": "stderr",
     "output_type": "stream",
     "text": [
      " 66%|██████▌   | 33/50 [04:52<01:10,  4.13s/it]"
     ]
    },
    {
     "name": "stdout",
     "output_type": "stream",
     "text": [
      "Completed processing F:\\UCF_Crimes\\UCF_Crimes\\Videos\\Shoplifting\\Shoplifting037_x264.mp4\n"
     ]
    },
    {
     "name": "stderr",
     "output_type": "stream",
     "text": [
      " 68%|██████▊   | 34/50 [04:54<00:58,  3.66s/it]"
     ]
    },
    {
     "name": "stdout",
     "output_type": "stream",
     "text": [
      "Completed processing F:\\UCF_Crimes\\UCF_Crimes\\Videos\\Shoplifting\\Shoplifting038_x264.mp4\n"
     ]
    },
    {
     "name": "stderr",
     "output_type": "stream",
     "text": [
      " 70%|███████   | 35/50 [04:57<00:50,  3.38s/it]"
     ]
    },
    {
     "name": "stdout",
     "output_type": "stream",
     "text": [
      "Completed processing F:\\UCF_Crimes\\UCF_Crimes\\Videos\\Shoplifting\\Shoplifting039_x264.mp4\n"
     ]
    },
    {
     "name": "stderr",
     "output_type": "stream",
     "text": [
      " 72%|███████▏  | 36/50 [05:24<02:27, 10.55s/it]"
     ]
    },
    {
     "name": "stdout",
     "output_type": "stream",
     "text": [
      "Completed processing F:\\UCF_Crimes\\UCF_Crimes\\Videos\\Shoplifting\\Shoplifting040_x264.mp4\n"
     ]
    },
    {
     "name": "stderr",
     "output_type": "stream",
     "text": [
      " 74%|███████▍  | 37/50 [05:37<02:27, 11.36s/it]"
     ]
    },
    {
     "name": "stdout",
     "output_type": "stream",
     "text": [
      "Completed processing F:\\UCF_Crimes\\UCF_Crimes\\Videos\\Shoplifting\\Shoplifting041_x264.mp4\n"
     ]
    },
    {
     "name": "stderr",
     "output_type": "stream",
     "text": [
      " 76%|███████▌  | 38/50 [05:43<01:54,  9.52s/it]"
     ]
    },
    {
     "name": "stdout",
     "output_type": "stream",
     "text": [
      "Completed processing F:\\UCF_Crimes\\UCF_Crimes\\Videos\\Shoplifting\\Shoplifting042_x264.mp4\n"
     ]
    },
    {
     "name": "stderr",
     "output_type": "stream",
     "text": [
      " 78%|███████▊  | 39/50 [05:53<01:47,  9.73s/it]"
     ]
    },
    {
     "name": "stdout",
     "output_type": "stream",
     "text": [
      "Completed processing F:\\UCF_Crimes\\UCF_Crimes\\Videos\\Shoplifting\\Shoplifting043_x264.mp4\n"
     ]
    },
    {
     "name": "stderr",
     "output_type": "stream",
     "text": [
      " 80%|████████  | 40/50 [06:09<01:57, 11.74s/it]"
     ]
    },
    {
     "name": "stdout",
     "output_type": "stream",
     "text": [
      "Completed processing F:\\UCF_Crimes\\UCF_Crimes\\Videos\\Shoplifting\\Shoplifting044_x264.mp4\n"
     ]
    },
    {
     "name": "stderr",
     "output_type": "stream",
     "text": [
      " 82%|████████▏ | 41/50 [06:11<01:18,  8.67s/it]"
     ]
    },
    {
     "name": "stdout",
     "output_type": "stream",
     "text": [
      "Completed processing F:\\UCF_Crimes\\UCF_Crimes\\Videos\\Shoplifting\\Shoplifting045_x264.mp4\n"
     ]
    },
    {
     "name": "stderr",
     "output_type": "stream",
     "text": [
      " 84%|████████▍ | 42/50 [06:14<00:55,  6.90s/it]"
     ]
    },
    {
     "name": "stdout",
     "output_type": "stream",
     "text": [
      "Completed processing F:\\UCF_Crimes\\UCF_Crimes\\Videos\\Shoplifting\\Shoplifting047_x264.mp4\n"
     ]
    },
    {
     "name": "stderr",
     "output_type": "stream",
     "text": [
      " 86%|████████▌ | 43/50 [06:17<00:41,  5.87s/it]"
     ]
    },
    {
     "name": "stdout",
     "output_type": "stream",
     "text": [
      "Completed processing F:\\UCF_Crimes\\UCF_Crimes\\Videos\\Shoplifting\\Shoplifting048_x264.mp4\n"
     ]
    },
    {
     "name": "stderr",
     "output_type": "stream",
     "text": [
      " 88%|████████▊ | 44/50 [06:19<00:28,  4.79s/it]"
     ]
    },
    {
     "name": "stdout",
     "output_type": "stream",
     "text": [
      "Completed processing F:\\UCF_Crimes\\UCF_Crimes\\Videos\\Shoplifting\\Shoplifting049_x264.mp4\n"
     ]
    },
    {
     "name": "stderr",
     "output_type": "stream",
     "text": [
      " 90%|█████████ | 45/50 [06:21<00:19,  3.98s/it]"
     ]
    },
    {
     "name": "stdout",
     "output_type": "stream",
     "text": [
      "Completed processing F:\\UCF_Crimes\\UCF_Crimes\\Videos\\Shoplifting\\Shoplifting050_x264.mp4\n"
     ]
    },
    {
     "name": "stderr",
     "output_type": "stream",
     "text": [
      " 92%|█████████▏| 46/50 [06:30<00:21,  5.41s/it]"
     ]
    },
    {
     "name": "stdout",
     "output_type": "stream",
     "text": [
      "Completed processing F:\\UCF_Crimes\\UCF_Crimes\\Videos\\Shoplifting\\Shoplifting051_x264.mp4\n"
     ]
    },
    {
     "name": "stderr",
     "output_type": "stream",
     "text": [
      " 94%|█████████▍| 47/50 [06:58<00:36, 12.02s/it]"
     ]
    },
    {
     "name": "stdout",
     "output_type": "stream",
     "text": [
      "Completed processing F:\\UCF_Crimes\\UCF_Crimes\\Videos\\Shoplifting\\Shoplifting052_x264.mp4\n"
     ]
    },
    {
     "name": "stderr",
     "output_type": "stream",
     "text": [
      " 96%|█████████▌| 48/50 [06:59<00:17,  8.90s/it]"
     ]
    },
    {
     "name": "stdout",
     "output_type": "stream",
     "text": [
      "Completed processing F:\\UCF_Crimes\\UCF_Crimes\\Videos\\Shoplifting\\Shoplifting053_x264.mp4\n"
     ]
    },
    {
     "name": "stderr",
     "output_type": "stream",
     "text": [
      " 98%|█████████▊| 49/50 [07:00<00:06,  6.53s/it]"
     ]
    },
    {
     "name": "stdout",
     "output_type": "stream",
     "text": [
      "Completed processing F:\\UCF_Crimes\\UCF_Crimes\\Videos\\Shoplifting\\Shoplifting054_x264.mp4\n"
     ]
    },
    {
     "name": "stderr",
     "output_type": "stream",
     "text": [
      "100%|██████████| 50/50 [07:07<00:00,  8.55s/it]\n"
     ]
    },
    {
     "name": "stdout",
     "output_type": "stream",
     "text": [
      "Completed processing F:\\UCF_Crimes\\UCF_Crimes\\Videos\\Shoplifting\\Shoplifting055_x264.mp4\n"
     ]
    },
    {
     "name": "stderr",
     "output_type": "stream",
     "text": [
      "  1%|          | 1/100 [00:03<05:15,  3.18s/it]"
     ]
    },
    {
     "name": "stdout",
     "output_type": "stream",
     "text": [
      "Completed processing F:\\UCF_Crimes\\UCF_Crimes\\Videos\\Stealing\\Stealing002_x264.mp4\n"
     ]
    },
    {
     "name": "stderr",
     "output_type": "stream",
     "text": [
      "  2%|▏         | 2/100 [00:07<06:25,  3.94s/it]"
     ]
    },
    {
     "name": "stdout",
     "output_type": "stream",
     "text": [
      "Completed processing F:\\UCF_Crimes\\UCF_Crimes\\Videos\\Stealing\\Stealing003_x264.mp4\n"
     ]
    },
    {
     "name": "stderr",
     "output_type": "stream",
     "text": [
      "  3%|▎         | 3/100 [00:14<08:45,  5.42s/it]"
     ]
    },
    {
     "name": "stdout",
     "output_type": "stream",
     "text": [
      "Completed processing F:\\UCF_Crimes\\UCF_Crimes\\Videos\\Stealing\\Stealing004_x264.mp4\n"
     ]
    },
    {
     "name": "stderr",
     "output_type": "stream",
     "text": [
      "  4%|▍         | 4/100 [00:18<07:20,  4.59s/it]"
     ]
    },
    {
     "name": "stdout",
     "output_type": "stream",
     "text": [
      "Completed processing F:\\UCF_Crimes\\UCF_Crimes\\Videos\\Stealing\\Stealing006_x264.mp4\n"
     ]
    },
    {
     "name": "stderr",
     "output_type": "stream",
     "text": [
      "  5%|▌         | 5/100 [00:20<06:13,  3.94s/it]"
     ]
    },
    {
     "name": "stdout",
     "output_type": "stream",
     "text": [
      "Completed processing F:\\UCF_Crimes\\UCF_Crimes\\Videos\\Stealing\\Stealing007_x264.mp4\n"
     ]
    },
    {
     "name": "stderr",
     "output_type": "stream",
     "text": [
      "  6%|▌         | 6/100 [00:25<06:21,  4.05s/it]"
     ]
    },
    {
     "name": "stdout",
     "output_type": "stream",
     "text": [
      "Completed processing F:\\UCF_Crimes\\UCF_Crimes\\Videos\\Stealing\\Stealing008_x264.mp4\n"
     ]
    },
    {
     "name": "stderr",
     "output_type": "stream",
     "text": [
      "  7%|▋         | 7/100 [00:26<05:04,  3.28s/it]"
     ]
    },
    {
     "name": "stdout",
     "output_type": "stream",
     "text": [
      "Completed processing F:\\UCF_Crimes\\UCF_Crimes\\Videos\\Stealing\\Stealing009_x264.mp4\n"
     ]
    },
    {
     "name": "stderr",
     "output_type": "stream",
     "text": [
      "  8%|▊         | 8/100 [00:30<05:12,  3.39s/it]"
     ]
    },
    {
     "name": "stdout",
     "output_type": "stream",
     "text": [
      "Completed processing F:\\UCF_Crimes\\UCF_Crimes\\Videos\\Stealing\\Stealing010_x264.mp4\n"
     ]
    },
    {
     "name": "stderr",
     "output_type": "stream",
     "text": [
      "  9%|▉         | 9/100 [00:34<05:29,  3.62s/it]"
     ]
    },
    {
     "name": "stdout",
     "output_type": "stream",
     "text": [
      "Completed processing F:\\UCF_Crimes\\UCF_Crimes\\Videos\\Stealing\\Stealing011_x264.mp4\n"
     ]
    },
    {
     "name": "stderr",
     "output_type": "stream",
     "text": [
      " 10%|█         | 10/100 [00:37<04:59,  3.33s/it]"
     ]
    },
    {
     "name": "stdout",
     "output_type": "stream",
     "text": [
      "Completed processing F:\\UCF_Crimes\\UCF_Crimes\\Videos\\Stealing\\Stealing012_x264.mp4\n"
     ]
    },
    {
     "name": "stderr",
     "output_type": "stream",
     "text": [
      " 11%|█         | 11/100 [00:48<08:22,  5.65s/it]"
     ]
    },
    {
     "name": "stdout",
     "output_type": "stream",
     "text": [
      "Completed processing F:\\UCF_Crimes\\UCF_Crimes\\Videos\\Stealing\\Stealing013_x264.mp4\n"
     ]
    },
    {
     "name": "stderr",
     "output_type": "stream",
     "text": [
      " 12%|█▏        | 12/100 [00:52<07:51,  5.36s/it]"
     ]
    },
    {
     "name": "stdout",
     "output_type": "stream",
     "text": [
      "Completed processing F:\\UCF_Crimes\\UCF_Crimes\\Videos\\Stealing\\Stealing014_x264.mp4\n"
     ]
    },
    {
     "name": "stderr",
     "output_type": "stream",
     "text": [
      " 13%|█▎        | 13/100 [00:54<06:10,  4.26s/it]"
     ]
    },
    {
     "name": "stdout",
     "output_type": "stream",
     "text": [
      "Completed processing F:\\UCF_Crimes\\UCF_Crimes\\Videos\\Stealing\\Stealing015_x264.mp4\n"
     ]
    },
    {
     "name": "stderr",
     "output_type": "stream",
     "text": [
      " 14%|█▍        | 14/100 [00:56<05:13,  3.65s/it]"
     ]
    },
    {
     "name": "stdout",
     "output_type": "stream",
     "text": [
      "Completed processing F:\\UCF_Crimes\\UCF_Crimes\\Videos\\Stealing\\Stealing016_x264.mp4\n"
     ]
    },
    {
     "name": "stderr",
     "output_type": "stream",
     "text": [
      " 15%|█▌        | 15/100 [00:58<04:27,  3.14s/it]"
     ]
    },
    {
     "name": "stdout",
     "output_type": "stream",
     "text": [
      "Completed processing F:\\UCF_Crimes\\UCF_Crimes\\Videos\\Stealing\\Stealing017_x264.mp4\n"
     ]
    },
    {
     "name": "stderr",
     "output_type": "stream",
     "text": [
      " 16%|█▌        | 16/100 [01:01<03:58,  2.84s/it]"
     ]
    },
    {
     "name": "stdout",
     "output_type": "stream",
     "text": [
      "Completed processing F:\\UCF_Crimes\\UCF_Crimes\\Videos\\Stealing\\Stealing018_x264.mp4\n"
     ]
    },
    {
     "name": "stderr",
     "output_type": "stream",
     "text": [
      " 17%|█▋        | 17/100 [01:06<05:02,  3.65s/it]"
     ]
    },
    {
     "name": "stdout",
     "output_type": "stream",
     "text": [
      "Completed processing F:\\UCF_Crimes\\UCF_Crimes\\Videos\\Stealing\\Stealing019_x264.mp4\n"
     ]
    },
    {
     "name": "stderr",
     "output_type": "stream",
     "text": [
      " 18%|█▊        | 18/100 [01:13<06:10,  4.52s/it]"
     ]
    },
    {
     "name": "stdout",
     "output_type": "stream",
     "text": [
      "Completed processing F:\\UCF_Crimes\\UCF_Crimes\\Videos\\Stealing\\Stealing020_x264.mp4\n"
     ]
    },
    {
     "name": "stderr",
     "output_type": "stream",
     "text": [
      " 19%|█▉        | 19/100 [01:18<06:27,  4.79s/it]"
     ]
    },
    {
     "name": "stdout",
     "output_type": "stream",
     "text": [
      "Completed processing F:\\UCF_Crimes\\UCF_Crimes\\Videos\\Stealing\\Stealing021_x264.mp4\n"
     ]
    },
    {
     "name": "stderr",
     "output_type": "stream",
     "text": [
      " 20%|██        | 20/100 [01:21<05:42,  4.28s/it]"
     ]
    },
    {
     "name": "stdout",
     "output_type": "stream",
     "text": [
      "Completed processing F:\\UCF_Crimes\\UCF_Crimes\\Videos\\Stealing\\Stealing022_x264.mp4\n"
     ]
    },
    {
     "name": "stderr",
     "output_type": "stream",
     "text": [
      " 21%|██        | 21/100 [01:25<05:33,  4.22s/it]"
     ]
    },
    {
     "name": "stdout",
     "output_type": "stream",
     "text": [
      "Completed processing F:\\UCF_Crimes\\UCF_Crimes\\Videos\\Stealing\\Stealing023_x264.mp4\n"
     ]
    },
    {
     "name": "stderr",
     "output_type": "stream",
     "text": [
      " 22%|██▏       | 22/100 [01:28<04:48,  3.69s/it]"
     ]
    },
    {
     "name": "stdout",
     "output_type": "stream",
     "text": [
      "Completed processing F:\\UCF_Crimes\\UCF_Crimes\\Videos\\Stealing\\Stealing024_x264.mp4\n"
     ]
    },
    {
     "name": "stderr",
     "output_type": "stream",
     "text": [
      " 23%|██▎       | 23/100 [01:47<10:53,  8.48s/it]"
     ]
    },
    {
     "name": "stdout",
     "output_type": "stream",
     "text": [
      "Completed processing F:\\UCF_Crimes\\UCF_Crimes\\Videos\\Stealing\\Stealing025_x264.mp4\n"
     ]
    },
    {
     "name": "stderr",
     "output_type": "stream",
     "text": [
      " 24%|██▍       | 24/100 [01:50<08:38,  6.82s/it]"
     ]
    },
    {
     "name": "stdout",
     "output_type": "stream",
     "text": [
      "Completed processing F:\\UCF_Crimes\\UCF_Crimes\\Videos\\Stealing\\Stealing026_x264.mp4\n"
     ]
    },
    {
     "name": "stderr",
     "output_type": "stream",
     "text": [
      " 25%|██▌       | 25/100 [01:53<06:51,  5.48s/it]"
     ]
    },
    {
     "name": "stdout",
     "output_type": "stream",
     "text": [
      "Completed processing F:\\UCF_Crimes\\UCF_Crimes\\Videos\\Stealing\\Stealing027_x264.mp4\n"
     ]
    },
    {
     "name": "stderr",
     "output_type": "stream",
     "text": [
      " 26%|██▌       | 26/100 [01:54<05:22,  4.36s/it]"
     ]
    },
    {
     "name": "stdout",
     "output_type": "stream",
     "text": [
      "Completed processing F:\\UCF_Crimes\\UCF_Crimes\\Videos\\Stealing\\Stealing028_x264.mp4\n"
     ]
    },
    {
     "name": "stderr",
     "output_type": "stream",
     "text": [
      " 27%|██▋       | 27/100 [01:55<03:55,  3.23s/it]"
     ]
    },
    {
     "name": "stdout",
     "output_type": "stream",
     "text": [
      "Completed processing F:\\UCF_Crimes\\UCF_Crimes\\Videos\\Stealing\\Stealing029_x264.mp4\n"
     ]
    },
    {
     "name": "stderr",
     "output_type": "stream",
     "text": [
      " 28%|██▊       | 28/100 [01:56<03:07,  2.60s/it]"
     ]
    },
    {
     "name": "stdout",
     "output_type": "stream",
     "text": [
      "Completed processing F:\\UCF_Crimes\\UCF_Crimes\\Videos\\Stealing\\Stealing030_x264.mp4\n"
     ]
    },
    {
     "name": "stderr",
     "output_type": "stream",
     "text": [
      " 29%|██▉       | 29/100 [01:57<02:36,  2.21s/it]"
     ]
    },
    {
     "name": "stdout",
     "output_type": "stream",
     "text": [
      "Completed processing F:\\UCF_Crimes\\UCF_Crimes\\Videos\\Stealing\\Stealing031_x264.mp4\n"
     ]
    },
    {
     "name": "stderr",
     "output_type": "stream",
     "text": [
      " 30%|███       | 30/100 [02:03<03:48,  3.26s/it]"
     ]
    },
    {
     "name": "stdout",
     "output_type": "stream",
     "text": [
      "Completed processing F:\\UCF_Crimes\\UCF_Crimes\\Videos\\Stealing\\Stealing032_x264.mp4\n"
     ]
    },
    {
     "name": "stderr",
     "output_type": "stream",
     "text": [
      " 31%|███       | 31/100 [02:13<06:03,  5.28s/it]"
     ]
    },
    {
     "name": "stdout",
     "output_type": "stream",
     "text": [
      "Completed processing F:\\UCF_Crimes\\UCF_Crimes\\Videos\\Stealing\\Stealing035_x264.mp4\n"
     ]
    },
    {
     "name": "stderr",
     "output_type": "stream",
     "text": [
      " 32%|███▏      | 32/100 [02:15<04:53,  4.32s/it]"
     ]
    },
    {
     "name": "stdout",
     "output_type": "stream",
     "text": [
      "Completed processing F:\\UCF_Crimes\\UCF_Crimes\\Videos\\Stealing\\Stealing036_x264.mp4\n"
     ]
    },
    {
     "name": "stderr",
     "output_type": "stream",
     "text": [
      " 33%|███▎      | 33/100 [02:21<05:14,  4.70s/it]"
     ]
    },
    {
     "name": "stdout",
     "output_type": "stream",
     "text": [
      "Completed processing F:\\UCF_Crimes\\UCF_Crimes\\Videos\\Stealing\\Stealing037_x264.mp4\n"
     ]
    },
    {
     "name": "stderr",
     "output_type": "stream",
     "text": [
      " 34%|███▍      | 34/100 [02:24<04:49,  4.38s/it]"
     ]
    },
    {
     "name": "stdout",
     "output_type": "stream",
     "text": [
      "Completed processing F:\\UCF_Crimes\\UCF_Crimes\\Videos\\Stealing\\Stealing042_x264.mp4\n"
     ]
    },
    {
     "name": "stderr",
     "output_type": "stream",
     "text": [
      " 35%|███▌      | 35/100 [02:33<06:07,  5.65s/it]"
     ]
    },
    {
     "name": "stdout",
     "output_type": "stream",
     "text": [
      "Completed processing F:\\UCF_Crimes\\UCF_Crimes\\Videos\\Stealing\\Stealing043_x264.mp4\n"
     ]
    },
    {
     "name": "stderr",
     "output_type": "stream",
     "text": [
      " 36%|███▌      | 36/100 [02:36<05:15,  4.93s/it]"
     ]
    },
    {
     "name": "stdout",
     "output_type": "stream",
     "text": [
      "Completed processing F:\\UCF_Crimes\\UCF_Crimes\\Videos\\Stealing\\Stealing044_x264.mp4\n"
     ]
    },
    {
     "name": "stderr",
     "output_type": "stream",
     "text": [
      " 37%|███▋      | 37/100 [02:46<06:46,  6.45s/it]"
     ]
    },
    {
     "name": "stdout",
     "output_type": "stream",
     "text": [
      "Completed processing F:\\UCF_Crimes\\UCF_Crimes\\Videos\\Stealing\\Stealing045_x264.mp4\n"
     ]
    },
    {
     "name": "stderr",
     "output_type": "stream",
     "text": [
      " 38%|███▊      | 38/100 [02:58<08:16,  8.01s/it]"
     ]
    },
    {
     "name": "stdout",
     "output_type": "stream",
     "text": [
      "Completed processing F:\\UCF_Crimes\\UCF_Crimes\\Videos\\Stealing\\Stealing046_x264.mp4\n"
     ]
    },
    {
     "name": "stderr",
     "output_type": "stream",
     "text": [
      " 39%|███▉      | 39/100 [02:59<06:10,  6.08s/it]"
     ]
    },
    {
     "name": "stdout",
     "output_type": "stream",
     "text": [
      "Completed processing F:\\UCF_Crimes\\UCF_Crimes\\Videos\\Stealing\\Stealing047_x264.mp4\n"
     ]
    },
    {
     "name": "stderr",
     "output_type": "stream",
     "text": [
      " 40%|████      | 40/100 [03:08<06:50,  6.84s/it]"
     ]
    },
    {
     "name": "stdout",
     "output_type": "stream",
     "text": [
      "Completed processing F:\\UCF_Crimes\\UCF_Crimes\\Videos\\Stealing\\Stealing048_x264.mp4\n"
     ]
    },
    {
     "name": "stderr",
     "output_type": "stream",
     "text": [
      " 41%|████      | 41/100 [03:10<05:10,  5.26s/it]"
     ]
    },
    {
     "name": "stdout",
     "output_type": "stream",
     "text": [
      "Completed processing F:\\UCF_Crimes\\UCF_Crimes\\Videos\\Stealing\\Stealing049_x264.mp4\n"
     ]
    },
    {
     "name": "stderr",
     "output_type": "stream",
     "text": [
      " 42%|████▏     | 42/100 [03:13<04:32,  4.69s/it]"
     ]
    },
    {
     "name": "stdout",
     "output_type": "stream",
     "text": [
      "Completed processing F:\\UCF_Crimes\\UCF_Crimes\\Videos\\Stealing\\Stealing050_x264.mp4\n"
     ]
    },
    {
     "name": "stderr",
     "output_type": "stream",
     "text": [
      " 43%|████▎     | 43/100 [03:25<06:28,  6.82s/it]"
     ]
    },
    {
     "name": "stdout",
     "output_type": "stream",
     "text": [
      "Completed processing F:\\UCF_Crimes\\UCF_Crimes\\Videos\\Stealing\\Stealing051_x264.mp4\n"
     ]
    },
    {
     "name": "stderr",
     "output_type": "stream",
     "text": [
      " 44%|████▍     | 44/100 [03:28<05:24,  5.79s/it]"
     ]
    },
    {
     "name": "stdout",
     "output_type": "stream",
     "text": [
      "Completed processing F:\\UCF_Crimes\\UCF_Crimes\\Videos\\Stealing\\Stealing052_x264.mp4\n"
     ]
    },
    {
     "name": "stderr",
     "output_type": "stream",
     "text": [
      " 45%|████▌     | 45/100 [03:41<07:15,  7.92s/it]"
     ]
    },
    {
     "name": "stdout",
     "output_type": "stream",
     "text": [
      "Completed processing F:\\UCF_Crimes\\UCF_Crimes\\Videos\\Stealing\\Stealing053_x264.mp4\n"
     ]
    },
    {
     "name": "stderr",
     "output_type": "stream",
     "text": [
      " 46%|████▌     | 46/100 [03:44<05:50,  6.49s/it]"
     ]
    },
    {
     "name": "stdout",
     "output_type": "stream",
     "text": [
      "Completed processing F:\\UCF_Crimes\\UCF_Crimes\\Videos\\Stealing\\Stealing054_x264.mp4\n"
     ]
    },
    {
     "name": "stderr",
     "output_type": "stream",
     "text": [
      " 47%|████▋     | 47/100 [03:46<04:27,  5.05s/it]"
     ]
    },
    {
     "name": "stdout",
     "output_type": "stream",
     "text": [
      "Completed processing F:\\UCF_Crimes\\UCF_Crimes\\Videos\\Stealing\\Stealing055_x264.mp4\n"
     ]
    },
    {
     "name": "stderr",
     "output_type": "stream",
     "text": [
      " 48%|████▊     | 48/100 [03:49<03:44,  4.32s/it]"
     ]
    },
    {
     "name": "stdout",
     "output_type": "stream",
     "text": [
      "Completed processing F:\\UCF_Crimes\\UCF_Crimes\\Videos\\Stealing\\Stealing057_x264.mp4\n"
     ]
    },
    {
     "name": "stderr",
     "output_type": "stream",
     "text": [
      " 49%|████▉     | 49/100 [03:54<03:58,  4.67s/it]"
     ]
    },
    {
     "name": "stdout",
     "output_type": "stream",
     "text": [
      "Completed processing F:\\UCF_Crimes\\UCF_Crimes\\Videos\\Stealing\\Stealing058_x264.mp4\n"
     ]
    },
    {
     "name": "stderr",
     "output_type": "stream",
     "text": [
      " 50%|█████     | 50/100 [03:56<03:13,  3.87s/it]"
     ]
    },
    {
     "name": "stdout",
     "output_type": "stream",
     "text": [
      "Completed processing F:\\UCF_Crimes\\UCF_Crimes\\Videos\\Stealing\\Stealing059_x264.mp4\n"
     ]
    },
    {
     "name": "stderr",
     "output_type": "stream",
     "text": [
      " 51%|█████     | 51/100 [03:57<02:32,  3.11s/it]"
     ]
    },
    {
     "name": "stdout",
     "output_type": "stream",
     "text": [
      "Completed processing F:\\UCF_Crimes\\UCF_Crimes\\Videos\\Stealing\\Stealing060_x264.mp4\n"
     ]
    },
    {
     "name": "stderr",
     "output_type": "stream",
     "text": [
      " 52%|█████▏    | 52/100 [04:00<02:21,  2.94s/it]"
     ]
    },
    {
     "name": "stdout",
     "output_type": "stream",
     "text": [
      "Completed processing F:\\UCF_Crimes\\UCF_Crimes\\Videos\\Stealing\\Stealing061_x264.mp4\n"
     ]
    },
    {
     "name": "stderr",
     "output_type": "stream",
     "text": [
      " 53%|█████▎    | 53/100 [04:02<02:04,  2.65s/it]"
     ]
    },
    {
     "name": "stdout",
     "output_type": "stream",
     "text": [
      "Completed processing F:\\UCF_Crimes\\UCF_Crimes\\Videos\\Stealing\\Stealing062_x264.mp4\n"
     ]
    },
    {
     "name": "stderr",
     "output_type": "stream",
     "text": [
      " 54%|█████▍    | 54/100 [04:15<04:25,  5.77s/it]"
     ]
    },
    {
     "name": "stdout",
     "output_type": "stream",
     "text": [
      "Completed processing F:\\UCF_Crimes\\UCF_Crimes\\Videos\\Stealing\\Stealing063_x264.mp4\n"
     ]
    },
    {
     "name": "stderr",
     "output_type": "stream",
     "text": [
      " 55%|█████▌    | 55/100 [04:19<03:56,  5.26s/it]"
     ]
    },
    {
     "name": "stdout",
     "output_type": "stream",
     "text": [
      "Completed processing F:\\UCF_Crimes\\UCF_Crimes\\Videos\\Stealing\\Stealing065_x264.mp4\n"
     ]
    },
    {
     "name": "stderr",
     "output_type": "stream",
     "text": [
      " 56%|█████▌    | 56/100 [04:21<03:03,  4.17s/it]"
     ]
    },
    {
     "name": "stdout",
     "output_type": "stream",
     "text": [
      "Completed processing F:\\UCF_Crimes\\UCF_Crimes\\Videos\\Stealing\\Stealing066_x264.mp4\n"
     ]
    },
    {
     "name": "stderr",
     "output_type": "stream",
     "text": [
      " 57%|█████▋    | 57/100 [04:23<02:32,  3.54s/it]"
     ]
    },
    {
     "name": "stdout",
     "output_type": "stream",
     "text": [
      "Completed processing F:\\UCF_Crimes\\UCF_Crimes\\Videos\\Stealing\\Stealing067_x264.mp4\n"
     ]
    },
    {
     "name": "stderr",
     "output_type": "stream",
     "text": [
      " 58%|█████▊    | 58/100 [04:30<03:16,  4.67s/it]"
     ]
    },
    {
     "name": "stdout",
     "output_type": "stream",
     "text": [
      "Completed processing F:\\UCF_Crimes\\UCF_Crimes\\Videos\\Stealing\\Stealing068_x264.mp4\n"
     ]
    },
    {
     "name": "stderr",
     "output_type": "stream",
     "text": [
      " 59%|█████▉    | 59/100 [04:31<02:23,  3.50s/it]"
     ]
    },
    {
     "name": "stdout",
     "output_type": "stream",
     "text": [
      "Completed processing F:\\UCF_Crimes\\UCF_Crimes\\Videos\\Stealing\\Stealing069_x264.mp4\n"
     ]
    },
    {
     "name": "stderr",
     "output_type": "stream",
     "text": [
      " 60%|██████    | 60/100 [04:32<01:53,  2.85s/it]"
     ]
    },
    {
     "name": "stdout",
     "output_type": "stream",
     "text": [
      "Completed processing F:\\UCF_Crimes\\UCF_Crimes\\Videos\\Stealing\\Stealing070_x264.mp4\n"
     ]
    },
    {
     "name": "stderr",
     "output_type": "stream",
     "text": [
      " 61%|██████    | 61/100 [04:33<01:32,  2.36s/it]"
     ]
    },
    {
     "name": "stdout",
     "output_type": "stream",
     "text": [
      "Completed processing F:\\UCF_Crimes\\UCF_Crimes\\Videos\\Stealing\\Stealing071_x264.mp4\n"
     ]
    },
    {
     "name": "stderr",
     "output_type": "stream",
     "text": [
      " 62%|██████▏   | 62/100 [04:43<02:56,  4.64s/it]"
     ]
    },
    {
     "name": "stdout",
     "output_type": "stream",
     "text": [
      "Completed processing F:\\UCF_Crimes\\UCF_Crimes\\Videos\\Stealing\\Stealing072_x264.mp4\n"
     ]
    },
    {
     "name": "stderr",
     "output_type": "stream",
     "text": [
      " 63%|██████▎   | 63/100 [04:45<02:14,  3.64s/it]"
     ]
    },
    {
     "name": "stdout",
     "output_type": "stream",
     "text": [
      "Completed processing F:\\UCF_Crimes\\UCF_Crimes\\Videos\\Stealing\\Stealing073_x264.mp4\n"
     ]
    },
    {
     "name": "stderr",
     "output_type": "stream",
     "text": [
      " 64%|██████▍   | 64/100 [04:47<01:59,  3.32s/it]"
     ]
    },
    {
     "name": "stdout",
     "output_type": "stream",
     "text": [
      "Completed processing F:\\UCF_Crimes\\UCF_Crimes\\Videos\\Stealing\\Stealing074_x264.mp4\n"
     ]
    },
    {
     "name": "stderr",
     "output_type": "stream",
     "text": [
      " 65%|██████▌   | 65/100 [04:52<02:15,  3.87s/it]"
     ]
    },
    {
     "name": "stdout",
     "output_type": "stream",
     "text": [
      "Completed processing F:\\UCF_Crimes\\UCF_Crimes\\Videos\\Stealing\\Stealing075_x264.mp4\n"
     ]
    },
    {
     "name": "stderr",
     "output_type": "stream",
     "text": [
      " 66%|██████▌   | 66/100 [05:14<05:17,  9.35s/it]"
     ]
    },
    {
     "name": "stdout",
     "output_type": "stream",
     "text": [
      "Completed processing F:\\UCF_Crimes\\UCF_Crimes\\Videos\\Stealing\\Stealing077_x264.mp4\n"
     ]
    },
    {
     "name": "stderr",
     "output_type": "stream",
     "text": [
      " 67%|██████▋   | 67/100 [05:17<03:59,  7.27s/it]"
     ]
    },
    {
     "name": "stdout",
     "output_type": "stream",
     "text": [
      "Completed processing F:\\UCF_Crimes\\UCF_Crimes\\Videos\\Stealing\\Stealing078_x264.mp4\n"
     ]
    },
    {
     "name": "stderr",
     "output_type": "stream",
     "text": [
      " 68%|██████▊   | 68/100 [05:23<03:38,  6.83s/it]"
     ]
    },
    {
     "name": "stdout",
     "output_type": "stream",
     "text": [
      "Completed processing F:\\UCF_Crimes\\UCF_Crimes\\Videos\\Stealing\\Stealing079_x264.mp4\n"
     ]
    },
    {
     "name": "stderr",
     "output_type": "stream",
     "text": [
      " 69%|██████▉   | 69/100 [05:24<02:38,  5.13s/it]"
     ]
    },
    {
     "name": "stdout",
     "output_type": "stream",
     "text": [
      "Completed processing F:\\UCF_Crimes\\UCF_Crimes\\Videos\\Stealing\\Stealing080_x264.mp4\n"
     ]
    },
    {
     "name": "stderr",
     "output_type": "stream",
     "text": [
      " 70%|███████   | 70/100 [05:25<01:58,  3.96s/it]"
     ]
    },
    {
     "name": "stdout",
     "output_type": "stream",
     "text": [
      "Completed processing F:\\UCF_Crimes\\UCF_Crimes\\Videos\\Stealing\\Stealing081_x264.mp4\n"
     ]
    },
    {
     "name": "stderr",
     "output_type": "stream",
     "text": [
      " 71%|███████   | 71/100 [05:26<01:32,  3.18s/it]"
     ]
    },
    {
     "name": "stdout",
     "output_type": "stream",
     "text": [
      "Completed processing F:\\UCF_Crimes\\UCF_Crimes\\Videos\\Stealing\\Stealing082_x264.mp4\n"
     ]
    },
    {
     "name": "stderr",
     "output_type": "stream",
     "text": [
      " 72%|███████▏  | 72/100 [05:31<01:43,  3.69s/it]"
     ]
    },
    {
     "name": "stdout",
     "output_type": "stream",
     "text": [
      "Completed processing F:\\UCF_Crimes\\UCF_Crimes\\Videos\\Stealing\\Stealing083_x264.mp4\n"
     ]
    },
    {
     "name": "stderr",
     "output_type": "stream",
     "text": [
      " 73%|███████▎  | 73/100 [05:44<02:54,  6.47s/it]"
     ]
    },
    {
     "name": "stdout",
     "output_type": "stream",
     "text": [
      "Completed processing F:\\UCF_Crimes\\UCF_Crimes\\Videos\\Stealing\\Stealing084_x264.mp4\n"
     ]
    },
    {
     "name": "stderr",
     "output_type": "stream",
     "text": [
      " 74%|███████▍  | 74/100 [06:04<04:30, 10.41s/it]"
     ]
    },
    {
     "name": "stdout",
     "output_type": "stream",
     "text": [
      "Completed processing F:\\UCF_Crimes\\UCF_Crimes\\Videos\\Stealing\\Stealing086_x264.mp4\n"
     ]
    },
    {
     "name": "stderr",
     "output_type": "stream",
     "text": [
      " 75%|███████▌  | 75/100 [06:09<03:43,  8.93s/it]"
     ]
    },
    {
     "name": "stdout",
     "output_type": "stream",
     "text": [
      "Completed processing F:\\UCF_Crimes\\UCF_Crimes\\Videos\\Stealing\\Stealing087_x264.mp4\n"
     ]
    },
    {
     "name": "stderr",
     "output_type": "stream",
     "text": [
      " 76%|███████▌  | 76/100 [06:21<03:50,  9.62s/it]"
     ]
    },
    {
     "name": "stdout",
     "output_type": "stream",
     "text": [
      "Completed processing F:\\UCF_Crimes\\UCF_Crimes\\Videos\\Stealing\\Stealing088_x264.mp4\n"
     ]
    },
    {
     "name": "stderr",
     "output_type": "stream",
     "text": [
      " 77%|███████▋  | 77/100 [06:31<03:47,  9.88s/it]"
     ]
    },
    {
     "name": "stdout",
     "output_type": "stream",
     "text": [
      "Completed processing F:\\UCF_Crimes\\UCF_Crimes\\Videos\\Stealing\\Stealing089_x264.mp4\n"
     ]
    },
    {
     "name": "stderr",
     "output_type": "stream",
     "text": [
      " 78%|███████▊  | 78/100 [06:32<02:35,  7.08s/it]"
     ]
    },
    {
     "name": "stdout",
     "output_type": "stream",
     "text": [
      "Completed processing F:\\UCF_Crimes\\UCF_Crimes\\Videos\\Stealing\\Stealing091_x264.mp4\n"
     ]
    },
    {
     "name": "stderr",
     "output_type": "stream",
     "text": [
      " 79%|███████▉  | 79/100 [06:46<03:12,  9.16s/it]"
     ]
    },
    {
     "name": "stdout",
     "output_type": "stream",
     "text": [
      "Completed processing F:\\UCF_Crimes\\UCF_Crimes\\Videos\\Stealing\\Stealing092_x264.mp4\n"
     ]
    },
    {
     "name": "stderr",
     "output_type": "stream",
     "text": [
      " 80%|████████  | 80/100 [06:47<02:15,  6.76s/it]"
     ]
    },
    {
     "name": "stdout",
     "output_type": "stream",
     "text": [
      "Completed processing F:\\UCF_Crimes\\UCF_Crimes\\Videos\\Stealing\\Stealing093_x264.mp4\n"
     ]
    },
    {
     "name": "stderr",
     "output_type": "stream",
     "text": [
      " 81%|████████  | 81/100 [06:50<01:45,  5.57s/it]"
     ]
    },
    {
     "name": "stdout",
     "output_type": "stream",
     "text": [
      "Completed processing F:\\UCF_Crimes\\UCF_Crimes\\Videos\\Stealing\\Stealing094_x264.mp4\n"
     ]
    },
    {
     "name": "stderr",
     "output_type": "stream",
     "text": [
      " 82%|████████▏ | 82/100 [06:50<01:13,  4.11s/it]"
     ]
    },
    {
     "name": "stdout",
     "output_type": "stream",
     "text": [
      "Completed processing F:\\UCF_Crimes\\UCF_Crimes\\Videos\\Stealing\\Stealing095_x264.mp4\n"
     ]
    },
    {
     "name": "stderr",
     "output_type": "stream",
     "text": [
      " 83%|████████▎ | 83/100 [06:57<01:23,  4.88s/it]"
     ]
    },
    {
     "name": "stdout",
     "output_type": "stream",
     "text": [
      "Completed processing F:\\UCF_Crimes\\UCF_Crimes\\Videos\\Stealing\\Stealing096_x264.mp4\n"
     ]
    },
    {
     "name": "stderr",
     "output_type": "stream",
     "text": [
      " 84%|████████▍ | 84/100 [06:58<01:00,  3.80s/it]"
     ]
    },
    {
     "name": "stdout",
     "output_type": "stream",
     "text": [
      "Completed processing F:\\UCF_Crimes\\UCF_Crimes\\Videos\\Stealing\\Stealing097_x264.mp4\n"
     ]
    },
    {
     "name": "stderr",
     "output_type": "stream",
     "text": [
      " 85%|████████▌ | 85/100 [07:11<01:35,  6.34s/it]"
     ]
    },
    {
     "name": "stdout",
     "output_type": "stream",
     "text": [
      "Completed processing F:\\UCF_Crimes\\UCF_Crimes\\Videos\\Stealing\\Stealing098_x264.mp4\n"
     ]
    },
    {
     "name": "stderr",
     "output_type": "stream",
     "text": [
      " 86%|████████▌ | 86/100 [07:25<02:02,  8.75s/it]"
     ]
    },
    {
     "name": "stdout",
     "output_type": "stream",
     "text": [
      "Completed processing F:\\UCF_Crimes\\UCF_Crimes\\Videos\\Stealing\\Stealing100_x264.mp4\n"
     ]
    },
    {
     "name": "stderr",
     "output_type": "stream",
     "text": [
      " 87%|████████▋ | 87/100 [07:27<01:28,  6.79s/it]"
     ]
    },
    {
     "name": "stdout",
     "output_type": "stream",
     "text": [
      "Completed processing F:\\UCF_Crimes\\UCF_Crimes\\Videos\\Stealing\\Stealing101_x264.mp4\n"
     ]
    },
    {
     "name": "stderr",
     "output_type": "stream",
     "text": [
      " 88%|████████▊ | 88/100 [07:28<01:01,  5.13s/it]"
     ]
    },
    {
     "name": "stdout",
     "output_type": "stream",
     "text": [
      "Completed processing F:\\UCF_Crimes\\UCF_Crimes\\Videos\\Stealing\\Stealing102_x264.mp4\n"
     ]
    },
    {
     "name": "stderr",
     "output_type": "stream",
     "text": [
      " 89%|████████▉ | 89/100 [07:34<00:57,  5.21s/it]"
     ]
    },
    {
     "name": "stdout",
     "output_type": "stream",
     "text": [
      "Completed processing F:\\UCF_Crimes\\UCF_Crimes\\Videos\\Stealing\\Stealing103_x264.mp4\n"
     ]
    },
    {
     "name": "stderr",
     "output_type": "stream",
     "text": [
      " 90%|█████████ | 90/100 [07:36<00:44,  4.41s/it]"
     ]
    },
    {
     "name": "stdout",
     "output_type": "stream",
     "text": [
      "Completed processing F:\\UCF_Crimes\\UCF_Crimes\\Videos\\Stealing\\Stealing104_x264.mp4\n"
     ]
    },
    {
     "name": "stderr",
     "output_type": "stream",
     "text": [
      " 91%|█████████ | 91/100 [07:38<00:31,  3.48s/it]"
     ]
    },
    {
     "name": "stdout",
     "output_type": "stream",
     "text": [
      "Completed processing F:\\UCF_Crimes\\UCF_Crimes\\Videos\\Stealing\\Stealing105_x264.mp4\n"
     ]
    },
    {
     "name": "stderr",
     "output_type": "stream",
     "text": [
      " 92%|█████████▏| 92/100 [07:39<00:22,  2.82s/it]"
     ]
    },
    {
     "name": "stdout",
     "output_type": "stream",
     "text": [
      "Completed processing F:\\UCF_Crimes\\UCF_Crimes\\Videos\\Stealing\\Stealing106_x264.mp4\n"
     ]
    },
    {
     "name": "stderr",
     "output_type": "stream",
     "text": [
      " 93%|█████████▎| 93/100 [07:44<00:24,  3.54s/it]"
     ]
    },
    {
     "name": "stdout",
     "output_type": "stream",
     "text": [
      "Completed processing F:\\UCF_Crimes\\UCF_Crimes\\Videos\\Stealing\\Stealing107_x264.mp4\n"
     ]
    },
    {
     "name": "stderr",
     "output_type": "stream",
     "text": [
      " 94%|█████████▍| 94/100 [07:47<00:20,  3.45s/it]"
     ]
    },
    {
     "name": "stdout",
     "output_type": "stream",
     "text": [
      "Completed processing F:\\UCF_Crimes\\UCF_Crimes\\Videos\\Stealing\\Stealing108_x264.mp4\n"
     ]
    },
    {
     "name": "stderr",
     "output_type": "stream",
     "text": [
      " 95%|█████████▌| 95/100 [07:56<00:25,  5.05s/it]"
     ]
    },
    {
     "name": "stdout",
     "output_type": "stream",
     "text": [
      "Completed processing F:\\UCF_Crimes\\UCF_Crimes\\Videos\\Stealing\\Stealing109_x264.mp4\n"
     ]
    },
    {
     "name": "stderr",
     "output_type": "stream",
     "text": [
      " 96%|█████████▌| 96/100 [07:58<00:16,  4.12s/it]"
     ]
    },
    {
     "name": "stdout",
     "output_type": "stream",
     "text": [
      "Completed processing F:\\UCF_Crimes\\UCF_Crimes\\Videos\\Stealing\\Stealing110_x264.mp4\n"
     ]
    },
    {
     "name": "stderr",
     "output_type": "stream",
     "text": [
      " 97%|█████████▋| 97/100 [08:02<00:12,  4.00s/it]"
     ]
    },
    {
     "name": "stdout",
     "output_type": "stream",
     "text": [
      "Completed processing F:\\UCF_Crimes\\UCF_Crimes\\Videos\\Stealing\\Stealing111_x264.mp4\n"
     ]
    },
    {
     "name": "stderr",
     "output_type": "stream",
     "text": [
      " 98%|█████████▊| 98/100 [08:04<00:06,  3.47s/it]"
     ]
    },
    {
     "name": "stdout",
     "output_type": "stream",
     "text": [
      "Completed processing F:\\UCF_Crimes\\UCF_Crimes\\Videos\\Stealing\\Stealing112_x264.mp4\n"
     ]
    },
    {
     "name": "stderr",
     "output_type": "stream",
     "text": [
      " 99%|█████████▉| 99/100 [08:06<00:02,  2.93s/it]"
     ]
    },
    {
     "name": "stdout",
     "output_type": "stream",
     "text": [
      "Completed processing F:\\UCF_Crimes\\UCF_Crimes\\Videos\\Stealing\\Stealing113_x264.mp4\n"
     ]
    },
    {
     "name": "stderr",
     "output_type": "stream",
     "text": [
      "100%|██████████| 100/100 [08:07<00:00,  4.87s/it]\n"
     ]
    },
    {
     "name": "stdout",
     "output_type": "stream",
     "text": [
      "Completed processing F:\\UCF_Crimes\\UCF_Crimes\\Videos\\Stealing\\Stealing114_x264.mp4\n"
     ]
    },
    {
     "name": "stderr",
     "output_type": "stream",
     "text": [
      "  1%|          | 1/150 [00:07<19:23,  7.81s/it]"
     ]
    },
    {
     "name": "stdout",
     "output_type": "stream",
     "text": [
      "Completed processing F:\\UCF_Crimes\\UCF_Crimes\\Videos\\Testing_Normal_Videos_Anomaly\\Normal_Videos_003_x264.mp4\n"
     ]
    },
    {
     "name": "stderr",
     "output_type": "stream",
     "text": [
      "  1%|▏         | 2/150 [00:08<08:46,  3.56s/it]"
     ]
    },
    {
     "name": "stdout",
     "output_type": "stream",
     "text": [
      "Completed processing F:\\UCF_Crimes\\UCF_Crimes\\Videos\\Testing_Normal_Videos_Anomaly\\Normal_Videos_006_x264.mp4\n"
     ]
    },
    {
     "name": "stderr",
     "output_type": "stream",
     "text": [
      "  2%|▏         | 3/150 [00:09<05:49,  2.38s/it]"
     ]
    },
    {
     "name": "stdout",
     "output_type": "stream",
     "text": [
      "Completed processing F:\\UCF_Crimes\\UCF_Crimes\\Videos\\Testing_Normal_Videos_Anomaly\\Normal_Videos_010_x264.mp4\n"
     ]
    },
    {
     "name": "stderr",
     "output_type": "stream",
     "text": [
      "  3%|▎         | 4/150 [00:10<04:52,  2.01s/it]"
     ]
    },
    {
     "name": "stdout",
     "output_type": "stream",
     "text": [
      "Completed processing F:\\UCF_Crimes\\UCF_Crimes\\Videos\\Testing_Normal_Videos_Anomaly\\Normal_Videos_014_x264.mp4\n"
     ]
    },
    {
     "name": "stderr",
     "output_type": "stream",
     "text": [
      "  3%|▎         | 5/150 [00:11<03:32,  1.46s/it]"
     ]
    },
    {
     "name": "stdout",
     "output_type": "stream",
     "text": [
      "Completed processing F:\\UCF_Crimes\\UCF_Crimes\\Videos\\Testing_Normal_Videos_Anomaly\\Normal_Videos_015_x264.mp4\n"
     ]
    },
    {
     "name": "stderr",
     "output_type": "stream",
     "text": [
      "  4%|▍         | 6/150 [00:12<03:11,  1.33s/it]"
     ]
    },
    {
     "name": "stdout",
     "output_type": "stream",
     "text": [
      "Completed processing F:\\UCF_Crimes\\UCF_Crimes\\Videos\\Testing_Normal_Videos_Anomaly\\Normal_Videos_018_x264.mp4\n"
     ]
    },
    {
     "name": "stderr",
     "output_type": "stream",
     "text": [
      "  5%|▍         | 7/150 [00:18<06:33,  2.75s/it]"
     ]
    },
    {
     "name": "stdout",
     "output_type": "stream",
     "text": [
      "Completed processing F:\\UCF_Crimes\\UCF_Crimes\\Videos\\Testing_Normal_Videos_Anomaly\\Normal_Videos_019_x264.mp4\n"
     ]
    },
    {
     "name": "stderr",
     "output_type": "stream",
     "text": [
      "  5%|▌         | 8/150 [00:19<05:10,  2.18s/it]"
     ]
    },
    {
     "name": "stdout",
     "output_type": "stream",
     "text": [
      "Completed processing F:\\UCF_Crimes\\UCF_Crimes\\Videos\\Testing_Normal_Videos_Anomaly\\Normal_Videos_024_x264.mp4\n"
     ]
    },
    {
     "name": "stderr",
     "output_type": "stream",
     "text": [
      "  6%|▌         | 9/150 [00:19<04:02,  1.72s/it]"
     ]
    },
    {
     "name": "stdout",
     "output_type": "stream",
     "text": [
      "Completed processing F:\\UCF_Crimes\\UCF_Crimes\\Videos\\Testing_Normal_Videos_Anomaly\\Normal_Videos_025_x264.mp4\n"
     ]
    },
    {
     "name": "stderr",
     "output_type": "stream",
     "text": [
      "  7%|▋         | 10/150 [00:35<13:59,  6.00s/it]"
     ]
    },
    {
     "name": "stdout",
     "output_type": "stream",
     "text": [
      "Completed processing F:\\UCF_Crimes\\UCF_Crimes\\Videos\\Testing_Normal_Videos_Anomaly\\Normal_Videos_027_x264.mp4\n"
     ]
    },
    {
     "name": "stderr",
     "output_type": "stream",
     "text": [
      "  7%|▋         | 11/150 [00:37<11:02,  4.77s/it]"
     ]
    },
    {
     "name": "stdout",
     "output_type": "stream",
     "text": [
      "Completed processing F:\\UCF_Crimes\\UCF_Crimes\\Videos\\Testing_Normal_Videos_Anomaly\\Normal_Videos_033_x264.mp4\n"
     ]
    },
    {
     "name": "stderr",
     "output_type": "stream",
     "text": [
      "  8%|▊         | 12/150 [00:38<08:31,  3.70s/it]"
     ]
    },
    {
     "name": "stdout",
     "output_type": "stream",
     "text": [
      "Completed processing F:\\UCF_Crimes\\UCF_Crimes\\Videos\\Testing_Normal_Videos_Anomaly\\Normal_Videos_034_x264.mp4\n"
     ]
    },
    {
     "name": "stderr",
     "output_type": "stream",
     "text": [
      "  9%|▊         | 13/150 [00:39<06:32,  2.87s/it]"
     ]
    },
    {
     "name": "stdout",
     "output_type": "stream",
     "text": [
      "Completed processing F:\\UCF_Crimes\\UCF_Crimes\\Videos\\Testing_Normal_Videos_Anomaly\\Normal_Videos_041_x264.mp4\n"
     ]
    },
    {
     "name": "stderr",
     "output_type": "stream",
     "text": [
      "  9%|▉         | 14/150 [00:49<11:16,  4.98s/it]"
     ]
    },
    {
     "name": "stdout",
     "output_type": "stream",
     "text": [
      "Completed processing F:\\UCF_Crimes\\UCF_Crimes\\Videos\\Testing_Normal_Videos_Anomaly\\Normal_Videos_042_x264.mp4\n"
     ]
    },
    {
     "name": "stderr",
     "output_type": "stream",
     "text": [
      " 10%|█         | 15/150 [00:54<11:01,  4.90s/it]"
     ]
    },
    {
     "name": "stdout",
     "output_type": "stream",
     "text": [
      "Completed processing F:\\UCF_Crimes\\UCF_Crimes\\Videos\\Testing_Normal_Videos_Anomaly\\Normal_Videos_048_x264.mp4\n"
     ]
    },
    {
     "name": "stderr",
     "output_type": "stream",
     "text": [
      " 11%|█         | 16/150 [00:59<11:01,  4.93s/it]"
     ]
    },
    {
     "name": "stdout",
     "output_type": "stream",
     "text": [
      "Completed processing F:\\UCF_Crimes\\UCF_Crimes\\Videos\\Testing_Normal_Videos_Anomaly\\Normal_Videos_050_x264.mp4\n"
     ]
    },
    {
     "name": "stderr",
     "output_type": "stream",
     "text": [
      " 11%|█▏        | 17/150 [01:04<11:28,  5.18s/it]"
     ]
    },
    {
     "name": "stdout",
     "output_type": "stream",
     "text": [
      "Completed processing F:\\UCF_Crimes\\UCF_Crimes\\Videos\\Testing_Normal_Videos_Anomaly\\Normal_Videos_051_x264.mp4\n"
     ]
    },
    {
     "name": "stderr",
     "output_type": "stream",
     "text": [
      " 12%|█▏        | 18/150 [01:06<09:08,  4.15s/it]"
     ]
    },
    {
     "name": "stdout",
     "output_type": "stream",
     "text": [
      "Completed processing F:\\UCF_Crimes\\UCF_Crimes\\Videos\\Testing_Normal_Videos_Anomaly\\Normal_Videos_056_x264.mp4\n"
     ]
    },
    {
     "name": "stderr",
     "output_type": "stream",
     "text": [
      " 13%|█▎        | 19/150 [01:08<07:46,  3.56s/it]"
     ]
    },
    {
     "name": "stdout",
     "output_type": "stream",
     "text": [
      "Completed processing F:\\UCF_Crimes\\UCF_Crimes\\Videos\\Testing_Normal_Videos_Anomaly\\Normal_Videos_059_x264.mp4\n"
     ]
    },
    {
     "name": "stderr",
     "output_type": "stream",
     "text": [
      " 13%|█▎        | 20/150 [01:09<05:42,  2.63s/it]"
     ]
    },
    {
     "name": "stdout",
     "output_type": "stream",
     "text": [
      "Completed processing F:\\UCF_Crimes\\UCF_Crimes\\Videos\\Testing_Normal_Videos_Anomaly\\Normal_Videos_063_x264.mp4\n"
     ]
    },
    {
     "name": "stderr",
     "output_type": "stream",
     "text": [
      " 14%|█▍        | 21/150 [01:10<04:39,  2.17s/it]"
     ]
    },
    {
     "name": "stdout",
     "output_type": "stream",
     "text": [
      "Completed processing F:\\UCF_Crimes\\UCF_Crimes\\Videos\\Testing_Normal_Videos_Anomaly\\Normal_Videos_067_x264.mp4\n"
     ]
    },
    {
     "name": "stderr",
     "output_type": "stream",
     "text": [
      " 15%|█▍        | 22/150 [01:11<03:57,  1.85s/it]"
     ]
    },
    {
     "name": "stdout",
     "output_type": "stream",
     "text": [
      "Completed processing F:\\UCF_Crimes\\UCF_Crimes\\Videos\\Testing_Normal_Videos_Anomaly\\Normal_Videos_070_x264.mp4\n"
     ]
    },
    {
     "name": "stderr",
     "output_type": "stream",
     "text": [
      " 15%|█▌        | 23/150 [01:12<03:18,  1.56s/it]"
     ]
    },
    {
     "name": "stdout",
     "output_type": "stream",
     "text": [
      "Completed processing F:\\UCF_Crimes\\UCF_Crimes\\Videos\\Testing_Normal_Videos_Anomaly\\Normal_Videos_100_x264.mp4\n"
     ]
    },
    {
     "name": "stderr",
     "output_type": "stream",
     "text": [
      " 16%|█▌        | 24/150 [01:12<02:41,  1.28s/it]"
     ]
    },
    {
     "name": "stdout",
     "output_type": "stream",
     "text": [
      "Completed processing F:\\UCF_Crimes\\UCF_Crimes\\Videos\\Testing_Normal_Videos_Anomaly\\Normal_Videos_129_x264.mp4\n"
     ]
    },
    {
     "name": "stderr",
     "output_type": "stream",
     "text": [
      " 17%|█▋        | 25/150 [01:13<02:24,  1.16s/it]"
     ]
    },
    {
     "name": "stdout",
     "output_type": "stream",
     "text": [
      "Completed processing F:\\UCF_Crimes\\UCF_Crimes\\Videos\\Testing_Normal_Videos_Anomaly\\Normal_Videos_150_x264.mp4\n"
     ]
    },
    {
     "name": "stderr",
     "output_type": "stream",
     "text": [
      " 17%|█▋        | 26/150 [01:15<02:56,  1.43s/it]"
     ]
    },
    {
     "name": "stdout",
     "output_type": "stream",
     "text": [
      "Completed processing F:\\UCF_Crimes\\UCF_Crimes\\Videos\\Testing_Normal_Videos_Anomaly\\Normal_Videos_168_x264.mp4\n"
     ]
    },
    {
     "name": "stderr",
     "output_type": "stream",
     "text": [
      " 18%|█▊        | 27/150 [01:25<08:08,  3.97s/it]"
     ]
    },
    {
     "name": "stdout",
     "output_type": "stream",
     "text": [
      "Completed processing F:\\UCF_Crimes\\UCF_Crimes\\Videos\\Testing_Normal_Videos_Anomaly\\Normal_Videos_175_x264.mp4\n"
     ]
    },
    {
     "name": "stderr",
     "output_type": "stream",
     "text": [
      " 19%|█▊        | 28/150 [01:30<08:22,  4.12s/it]"
     ]
    },
    {
     "name": "stdout",
     "output_type": "stream",
     "text": [
      "Completed processing F:\\UCF_Crimes\\UCF_Crimes\\Videos\\Testing_Normal_Videos_Anomaly\\Normal_Videos_182_x264.mp4\n"
     ]
    },
    {
     "name": "stderr",
     "output_type": "stream",
     "text": [
      " 19%|█▉        | 29/150 [01:31<06:18,  3.13s/it]"
     ]
    },
    {
     "name": "stdout",
     "output_type": "stream",
     "text": [
      "Completed processing F:\\UCF_Crimes\\UCF_Crimes\\Videos\\Testing_Normal_Videos_Anomaly\\Normal_Videos_189_x264.mp4\n"
     ]
    },
    {
     "name": "stderr",
     "output_type": "stream",
     "text": [
      " 20%|██        | 30/150 [01:33<05:48,  2.91s/it]"
     ]
    },
    {
     "name": "stdout",
     "output_type": "stream",
     "text": [
      "Completed processing F:\\UCF_Crimes\\UCF_Crimes\\Videos\\Testing_Normal_Videos_Anomaly\\Normal_Videos_196_x264.mp4\n"
     ]
    },
    {
     "name": "stderr",
     "output_type": "stream",
     "text": [
      " 21%|██        | 31/150 [01:42<09:19,  4.70s/it]"
     ]
    },
    {
     "name": "stdout",
     "output_type": "stream",
     "text": [
      "Completed processing F:\\UCF_Crimes\\UCF_Crimes\\Videos\\Testing_Normal_Videos_Anomaly\\Normal_Videos_203_x264.mp4\n"
     ]
    },
    {
     "name": "stderr",
     "output_type": "stream",
     "text": [
      " 21%|██▏       | 32/150 [02:03<18:53,  9.61s/it]"
     ]
    },
    {
     "name": "stdout",
     "output_type": "stream",
     "text": [
      "Completed processing F:\\UCF_Crimes\\UCF_Crimes\\Videos\\Testing_Normal_Videos_Anomaly\\Normal_Videos_210_x264.mp4\n"
     ]
    },
    {
     "name": "stderr",
     "output_type": "stream",
     "text": [
      " 22%|██▏       | 33/150 [02:05<14:10,  7.27s/it]"
     ]
    },
    {
     "name": "stdout",
     "output_type": "stream",
     "text": [
      "Completed processing F:\\UCF_Crimes\\UCF_Crimes\\Videos\\Testing_Normal_Videos_Anomaly\\Normal_Videos_217_x264.mp4\n"
     ]
    },
    {
     "name": "stderr",
     "output_type": "stream",
     "text": [
      " 23%|██▎       | 34/150 [02:25<21:24, 11.07s/it]"
     ]
    },
    {
     "name": "stdout",
     "output_type": "stream",
     "text": [
      "Completed processing F:\\UCF_Crimes\\UCF_Crimes\\Videos\\Testing_Normal_Videos_Anomaly\\Normal_Videos_224_x264.mp4\n"
     ]
    },
    {
     "name": "stderr",
     "output_type": "stream",
     "text": [
      " 23%|██▎       | 35/150 [02:44<26:15, 13.70s/it]"
     ]
    },
    {
     "name": "stdout",
     "output_type": "stream",
     "text": [
      "Completed processing F:\\UCF_Crimes\\UCF_Crimes\\Videos\\Testing_Normal_Videos_Anomaly\\Normal_Videos_246_x264.mp4\n"
     ]
    },
    {
     "name": "stderr",
     "output_type": "stream",
     "text": [
      " 24%|██▍       | 36/150 [03:16<36:25, 19.17s/it]"
     ]
    },
    {
     "name": "stdout",
     "output_type": "stream",
     "text": [
      "Completed processing F:\\UCF_Crimes\\UCF_Crimes\\Videos\\Testing_Normal_Videos_Anomaly\\Normal_Videos_247_x264.mp4\n"
     ]
    },
    {
     "name": "stderr",
     "output_type": "stream",
     "text": [
      " 25%|██▍       | 37/150 [03:18<26:01, 13.82s/it]"
     ]
    },
    {
     "name": "stdout",
     "output_type": "stream",
     "text": [
      "Completed processing F:\\UCF_Crimes\\UCF_Crimes\\Videos\\Testing_Normal_Videos_Anomaly\\Normal_Videos_248_x264.mp4\n"
     ]
    },
    {
     "name": "stderr",
     "output_type": "stream",
     "text": [
      " 25%|██▌       | 38/150 [03:18<18:21,  9.83s/it]"
     ]
    },
    {
     "name": "stdout",
     "output_type": "stream",
     "text": [
      "Completed processing F:\\UCF_Crimes\\UCF_Crimes\\Videos\\Testing_Normal_Videos_Anomaly\\Normal_Videos_251_x264.mp4\n"
     ]
    },
    {
     "name": "stderr",
     "output_type": "stream",
     "text": [
      " 26%|██▌       | 39/150 [03:19<13:21,  7.22s/it]"
     ]
    },
    {
     "name": "stdout",
     "output_type": "stream",
     "text": [
      "Completed processing F:\\UCF_Crimes\\UCF_Crimes\\Videos\\Testing_Normal_Videos_Anomaly\\Normal_Videos_289_x264.mp4\n"
     ]
    },
    {
     "name": "stderr",
     "output_type": "stream",
     "text": [
      " 27%|██▋       | 40/150 [03:29<14:47,  8.07s/it]"
     ]
    },
    {
     "name": "stdout",
     "output_type": "stream",
     "text": [
      "Completed processing F:\\UCF_Crimes\\UCF_Crimes\\Videos\\Testing_Normal_Videos_Anomaly\\Normal_Videos_310_x264.mp4\n"
     ]
    },
    {
     "name": "stderr",
     "output_type": "stream",
     "text": [
      " 27%|██▋       | 41/150 [03:31<11:05,  6.10s/it]"
     ]
    },
    {
     "name": "stdout",
     "output_type": "stream",
     "text": [
      "Completed processing F:\\UCF_Crimes\\UCF_Crimes\\Videos\\Testing_Normal_Videos_Anomaly\\Normal_Videos_312_x264.mp4\n"
     ]
    },
    {
     "name": "stderr",
     "output_type": "stream",
     "text": [
      " 28%|██▊       | 42/150 [03:32<08:23,  4.67s/it]"
     ]
    },
    {
     "name": "stdout",
     "output_type": "stream",
     "text": [
      "Completed processing F:\\UCF_Crimes\\UCF_Crimes\\Videos\\Testing_Normal_Videos_Anomaly\\Normal_Videos_317_x264.mp4\n"
     ]
    },
    {
     "name": "stderr",
     "output_type": "stream",
     "text": [
      " 29%|██▊       | 43/150 [03:33<06:01,  3.38s/it]"
     ]
    },
    {
     "name": "stdout",
     "output_type": "stream",
     "text": [
      "Completed processing F:\\UCF_Crimes\\UCF_Crimes\\Videos\\Testing_Normal_Videos_Anomaly\\Normal_Videos_345_x264.mp4\n"
     ]
    },
    {
     "name": "stderr",
     "output_type": "stream",
     "text": [
      " 29%|██▉       | 44/150 [03:50<13:32,  7.67s/it]"
     ]
    },
    {
     "name": "stdout",
     "output_type": "stream",
     "text": [
      "Completed processing F:\\UCF_Crimes\\UCF_Crimes\\Videos\\Testing_Normal_Videos_Anomaly\\Normal_Videos_352_x264.mp4\n"
     ]
    },
    {
     "name": "stderr",
     "output_type": "stream",
     "text": [
      " 30%|███       | 45/150 [03:52<10:01,  5.72s/it]"
     ]
    },
    {
     "name": "stdout",
     "output_type": "stream",
     "text": [
      "Completed processing F:\\UCF_Crimes\\UCF_Crimes\\Videos\\Testing_Normal_Videos_Anomaly\\Normal_Videos_360_x264.mp4\n"
     ]
    },
    {
     "name": "stderr",
     "output_type": "stream",
     "text": [
      " 31%|███       | 46/150 [04:09<16:02,  9.26s/it]"
     ]
    },
    {
     "name": "stdout",
     "output_type": "stream",
     "text": [
      "Completed processing F:\\UCF_Crimes\\UCF_Crimes\\Videos\\Testing_Normal_Videos_Anomaly\\Normal_Videos_365_x264.mp4\n"
     ]
    },
    {
     "name": "stderr",
     "output_type": "stream",
     "text": [
      " 31%|███▏      | 47/150 [04:11<12:00,  7.00s/it]"
     ]
    },
    {
     "name": "stdout",
     "output_type": "stream",
     "text": [
      "Completed processing F:\\UCF_Crimes\\UCF_Crimes\\Videos\\Testing_Normal_Videos_Anomaly\\Normal_Videos_401_x264.mp4\n"
     ]
    },
    {
     "name": "stderr",
     "output_type": "stream",
     "text": [
      " 32%|███▏      | 48/150 [04:12<08:58,  5.28s/it]"
     ]
    },
    {
     "name": "stdout",
     "output_type": "stream",
     "text": [
      "Completed processing F:\\UCF_Crimes\\UCF_Crimes\\Videos\\Testing_Normal_Videos_Anomaly\\Normal_Videos_417_x264.mp4\n"
     ]
    },
    {
     "name": "stderr",
     "output_type": "stream",
     "text": [
      " 33%|███▎      | 49/150 [04:17<08:47,  5.22s/it]"
     ]
    },
    {
     "name": "stdout",
     "output_type": "stream",
     "text": [
      "Completed processing F:\\UCF_Crimes\\UCF_Crimes\\Videos\\Testing_Normal_Videos_Anomaly\\Normal_Videos_439_x264.mp4\n"
     ]
    },
    {
     "name": "stderr",
     "output_type": "stream",
     "text": [
      " 33%|███▎      | 50/150 [04:18<06:19,  3.79s/it]"
     ]
    },
    {
     "name": "stdout",
     "output_type": "stream",
     "text": [
      "Completed processing F:\\UCF_Crimes\\UCF_Crimes\\Videos\\Testing_Normal_Videos_Anomaly\\Normal_Videos_452_x264.mp4\n"
     ]
    },
    {
     "name": "stderr",
     "output_type": "stream",
     "text": [
      " 34%|███▍      | 51/150 [04:37<14:06,  8.55s/it]"
     ]
    },
    {
     "name": "stdout",
     "output_type": "stream",
     "text": [
      "Completed processing F:\\UCF_Crimes\\UCF_Crimes\\Videos\\Testing_Normal_Videos_Anomaly\\Normal_Videos_453_x264.mp4\n"
     ]
    },
    {
     "name": "stderr",
     "output_type": "stream",
     "text": [
      " 35%|███▍      | 52/150 [04:42<12:14,  7.49s/it]"
     ]
    },
    {
     "name": "stdout",
     "output_type": "stream",
     "text": [
      "Completed processing F:\\UCF_Crimes\\UCF_Crimes\\Videos\\Testing_Normal_Videos_Anomaly\\Normal_Videos_478_x264.mp4\n"
     ]
    },
    {
     "name": "stderr",
     "output_type": "stream",
     "text": [
      " 35%|███▌      | 53/150 [05:22<27:54, 17.27s/it]"
     ]
    },
    {
     "name": "stdout",
     "output_type": "stream",
     "text": [
      "Completed processing F:\\UCF_Crimes\\UCF_Crimes\\Videos\\Testing_Normal_Videos_Anomaly\\Normal_Videos_576_x264.mp4\n"
     ]
    },
    {
     "name": "stderr",
     "output_type": "stream",
     "text": [
      " 36%|███▌      | 54/150 [05:28<22:07, 13.83s/it]"
     ]
    },
    {
     "name": "stdout",
     "output_type": "stream",
     "text": [
      "Completed processing F:\\UCF_Crimes\\UCF_Crimes\\Videos\\Testing_Normal_Videos_Anomaly\\Normal_Videos_597_x264.mp4\n"
     ]
    },
    {
     "name": "stderr",
     "output_type": "stream",
     "text": [
      " 37%|███▋      | 55/150 [05:41<21:15, 13.42s/it]"
     ]
    },
    {
     "name": "stdout",
     "output_type": "stream",
     "text": [
      "Completed processing F:\\UCF_Crimes\\UCF_Crimes\\Videos\\Testing_Normal_Videos_Anomaly\\Normal_Videos_603_x264.mp4\n"
     ]
    },
    {
     "name": "stderr",
     "output_type": "stream",
     "text": [
      " 37%|███▋      | 56/150 [05:42<15:14,  9.73s/it]"
     ]
    },
    {
     "name": "stdout",
     "output_type": "stream",
     "text": [
      "Completed processing F:\\UCF_Crimes\\UCF_Crimes\\Videos\\Testing_Normal_Videos_Anomaly\\Normal_Videos_606_x264.mp4\n"
     ]
    },
    {
     "name": "stderr",
     "output_type": "stream",
     "text": [
      " 38%|███▊      | 57/150 [05:56<17:03, 11.00s/it]"
     ]
    },
    {
     "name": "stdout",
     "output_type": "stream",
     "text": [
      "Completed processing F:\\UCF_Crimes\\UCF_Crimes\\Videos\\Testing_Normal_Videos_Anomaly\\Normal_Videos_621_x264.mp4\n"
     ]
    },
    {
     "name": "stderr",
     "output_type": "stream",
     "text": [
      " 39%|███▊      | 58/150 [06:10<18:15, 11.91s/it]"
     ]
    },
    {
     "name": "stdout",
     "output_type": "stream",
     "text": [
      "Completed processing F:\\UCF_Crimes\\UCF_Crimes\\Videos\\Testing_Normal_Videos_Anomaly\\Normal_Videos_634_x264.mp4\n"
     ]
    },
    {
     "name": "stderr",
     "output_type": "stream",
     "text": [
      " 39%|███▉      | 59/150 [06:13<14:03,  9.27s/it]"
     ]
    },
    {
     "name": "stdout",
     "output_type": "stream",
     "text": [
      "Completed processing F:\\UCF_Crimes\\UCF_Crimes\\Videos\\Testing_Normal_Videos_Anomaly\\Normal_Videos_641_x264.mp4\n"
     ]
    },
    {
     "name": "stderr",
     "output_type": "stream",
     "text": [
      " 40%|████      | 60/150 [06:15<10:32,  7.03s/it]"
     ]
    },
    {
     "name": "stdout",
     "output_type": "stream",
     "text": [
      "Completed processing F:\\UCF_Crimes\\UCF_Crimes\\Videos\\Testing_Normal_Videos_Anomaly\\Normal_Videos_656_x264.mp4\n"
     ]
    },
    {
     "name": "stderr",
     "output_type": "stream",
     "text": [
      " 41%|████      | 61/150 [06:19<09:12,  6.21s/it]"
     ]
    },
    {
     "name": "stdout",
     "output_type": "stream",
     "text": [
      "Completed processing F:\\UCF_Crimes\\UCF_Crimes\\Videos\\Testing_Normal_Videos_Anomaly\\Normal_Videos_686_x264.mp4\n"
     ]
    },
    {
     "name": "stderr",
     "output_type": "stream",
     "text": [
      " 41%|████▏     | 62/150 [06:23<08:09,  5.56s/it]"
     ]
    },
    {
     "name": "stdout",
     "output_type": "stream",
     "text": [
      "Completed processing F:\\UCF_Crimes\\UCF_Crimes\\Videos\\Testing_Normal_Videos_Anomaly\\Normal_Videos_696_x264.mp4\n"
     ]
    },
    {
     "name": "stderr",
     "output_type": "stream",
     "text": [
      " 42%|████▏     | 63/150 [06:32<09:27,  6.52s/it]"
     ]
    },
    {
     "name": "stdout",
     "output_type": "stream",
     "text": [
      "Completed processing F:\\UCF_Crimes\\UCF_Crimes\\Videos\\Testing_Normal_Videos_Anomaly\\Normal_Videos_702_x264.mp4\n"
     ]
    },
    {
     "name": "stderr",
     "output_type": "stream",
     "text": [
      " 43%|████▎     | 64/150 [06:33<07:12,  5.03s/it]"
     ]
    },
    {
     "name": "stdout",
     "output_type": "stream",
     "text": [
      "Completed processing F:\\UCF_Crimes\\UCF_Crimes\\Videos\\Testing_Normal_Videos_Anomaly\\Normal_Videos_704_x264.mp4\n"
     ]
    },
    {
     "name": "stderr",
     "output_type": "stream",
     "text": [
      " 43%|████▎     | 65/150 [06:35<05:49,  4.11s/it]"
     ]
    },
    {
     "name": "stdout",
     "output_type": "stream",
     "text": [
      "Completed processing F:\\UCF_Crimes\\UCF_Crimes\\Videos\\Testing_Normal_Videos_Anomaly\\Normal_Videos_710_x264.mp4\n"
     ]
    },
    {
     "name": "stderr",
     "output_type": "stream",
     "text": [
      " 44%|████▍     | 66/150 [06:37<04:34,  3.27s/it]"
     ]
    },
    {
     "name": "stdout",
     "output_type": "stream",
     "text": [
      "Completed processing F:\\UCF_Crimes\\UCF_Crimes\\Videos\\Testing_Normal_Videos_Anomaly\\Normal_Videos_717_x264.mp4\n"
     ]
    },
    {
     "name": "stderr",
     "output_type": "stream",
     "text": [
      " 45%|████▍     | 67/150 [07:04<14:34, 10.54s/it]"
     ]
    },
    {
     "name": "stdout",
     "output_type": "stream",
     "text": [
      "Completed processing F:\\UCF_Crimes\\UCF_Crimes\\Videos\\Testing_Normal_Videos_Anomaly\\Normal_Videos_722_x264.mp4\n"
     ]
    },
    {
     "name": "stderr",
     "output_type": "stream",
     "text": [
      " 45%|████▌     | 68/150 [07:05<10:26,  7.64s/it]"
     ]
    },
    {
     "name": "stdout",
     "output_type": "stream",
     "text": [
      "Completed processing F:\\UCF_Crimes\\UCF_Crimes\\Videos\\Testing_Normal_Videos_Anomaly\\Normal_Videos_725_x264.mp4\n"
     ]
    },
    {
     "name": "stderr",
     "output_type": "stream",
     "text": [
      " 46%|████▌     | 69/150 [07:05<07:21,  5.44s/it]"
     ]
    },
    {
     "name": "stdout",
     "output_type": "stream",
     "text": [
      "Completed processing F:\\UCF_Crimes\\UCF_Crimes\\Videos\\Testing_Normal_Videos_Anomaly\\Normal_Videos_745_x264.mp4\n"
     ]
    },
    {
     "name": "stderr",
     "output_type": "stream",
     "text": [
      " 47%|████▋     | 70/150 [07:07<05:49,  4.37s/it]"
     ]
    },
    {
     "name": "stdout",
     "output_type": "stream",
     "text": [
      "Completed processing F:\\UCF_Crimes\\UCF_Crimes\\Videos\\Testing_Normal_Videos_Anomaly\\Normal_Videos_758_x264.mp4\n"
     ]
    },
    {
     "name": "stderr",
     "output_type": "stream",
     "text": [
      " 47%|████▋     | 71/150 [07:08<04:32,  3.44s/it]"
     ]
    },
    {
     "name": "stdout",
     "output_type": "stream",
     "text": [
      "Completed processing F:\\UCF_Crimes\\UCF_Crimes\\Videos\\Testing_Normal_Videos_Anomaly\\Normal_Videos_778_x264.mp4\n"
     ]
    },
    {
     "name": "stderr",
     "output_type": "stream",
     "text": [
      " 48%|████▊     | 72/150 [07:10<03:55,  3.02s/it]"
     ]
    },
    {
     "name": "stdout",
     "output_type": "stream",
     "text": [
      "Completed processing F:\\UCF_Crimes\\UCF_Crimes\\Videos\\Testing_Normal_Videos_Anomaly\\Normal_Videos_780_x264.mp4\n"
     ]
    },
    {
     "name": "stderr",
     "output_type": "stream",
     "text": [
      " 49%|████▊     | 73/150 [07:25<08:18,  6.48s/it]"
     ]
    },
    {
     "name": "stdout",
     "output_type": "stream",
     "text": [
      "Completed processing F:\\UCF_Crimes\\UCF_Crimes\\Videos\\Testing_Normal_Videos_Anomaly\\Normal_Videos_781_x264.mp4\n"
     ]
    },
    {
     "name": "stderr",
     "output_type": "stream",
     "text": [
      " 49%|████▉     | 74/150 [07:30<07:50,  6.19s/it]"
     ]
    },
    {
     "name": "stdout",
     "output_type": "stream",
     "text": [
      "Completed processing F:\\UCF_Crimes\\UCF_Crimes\\Videos\\Testing_Normal_Videos_Anomaly\\Normal_Videos_782_x264.mp4\n"
     ]
    },
    {
     "name": "stderr",
     "output_type": "stream",
     "text": [
      " 50%|█████     | 75/150 [07:40<09:07,  7.31s/it]"
     ]
    },
    {
     "name": "stdout",
     "output_type": "stream",
     "text": [
      "Completed processing F:\\UCF_Crimes\\UCF_Crimes\\Videos\\Testing_Normal_Videos_Anomaly\\Normal_Videos_783_x264.mp4\n"
     ]
    },
    {
     "name": "stderr",
     "output_type": "stream",
     "text": [
      " 51%|█████     | 76/150 [07:47<08:45,  7.10s/it]"
     ]
    },
    {
     "name": "stdout",
     "output_type": "stream",
     "text": [
      "Completed processing F:\\UCF_Crimes\\UCF_Crimes\\Videos\\Testing_Normal_Videos_Anomaly\\Normal_Videos_798_x264.mp4\n"
     ]
    },
    {
     "name": "stderr",
     "output_type": "stream",
     "text": [
      " 51%|█████▏    | 77/150 [07:57<09:52,  8.11s/it]"
     ]
    },
    {
     "name": "stdout",
     "output_type": "stream",
     "text": [
      "Completed processing F:\\UCF_Crimes\\UCF_Crimes\\Videos\\Testing_Normal_Videos_Anomaly\\Normal_Videos_801_x264.mp4\n"
     ]
    },
    {
     "name": "stderr",
     "output_type": "stream",
     "text": [
      " 52%|█████▏    | 78/150 [07:59<07:12,  6.00s/it]"
     ]
    },
    {
     "name": "stdout",
     "output_type": "stream",
     "text": [
      "Completed processing F:\\UCF_Crimes\\UCF_Crimes\\Videos\\Testing_Normal_Videos_Anomaly\\Normal_Videos_828_x264.mp4\n"
     ]
    },
    {
     "name": "stderr",
     "output_type": "stream",
     "text": [
      " 53%|█████▎    | 79/150 [07:59<05:11,  4.39s/it]"
     ]
    },
    {
     "name": "stdout",
     "output_type": "stream",
     "text": [
      "Completed processing F:\\UCF_Crimes\\UCF_Crimes\\Videos\\Testing_Normal_Videos_Anomaly\\Normal_Videos_831_x264.mp4\n"
     ]
    },
    {
     "name": "stderr",
     "output_type": "stream",
     "text": [
      " 53%|█████▎    | 80/150 [08:01<04:02,  3.47s/it]"
     ]
    },
    {
     "name": "stdout",
     "output_type": "stream",
     "text": [
      "Completed processing F:\\UCF_Crimes\\UCF_Crimes\\Videos\\Testing_Normal_Videos_Anomaly\\Normal_Videos_866_x264.mp4\n"
     ]
    },
    {
     "name": "stderr",
     "output_type": "stream",
     "text": [
      " 54%|█████▍    | 81/150 [08:01<03:02,  2.65s/it]"
     ]
    },
    {
     "name": "stdout",
     "output_type": "stream",
     "text": [
      "Completed processing F:\\UCF_Crimes\\UCF_Crimes\\Videos\\Testing_Normal_Videos_Anomaly\\Normal_Videos_867_x264.mp4\n"
     ]
    },
    {
     "name": "stderr",
     "output_type": "stream",
     "text": [
      " 55%|█████▍    | 82/150 [08:04<03:02,  2.68s/it]"
     ]
    },
    {
     "name": "stdout",
     "output_type": "stream",
     "text": [
      "Completed processing F:\\UCF_Crimes\\UCF_Crimes\\Videos\\Testing_Normal_Videos_Anomaly\\Normal_Videos_868_x264.mp4\n"
     ]
    },
    {
     "name": "stderr",
     "output_type": "stream",
     "text": [
      " 55%|█████▌    | 83/150 [08:07<02:57,  2.64s/it]"
     ]
    },
    {
     "name": "stdout",
     "output_type": "stream",
     "text": [
      "Completed processing F:\\UCF_Crimes\\UCF_Crimes\\Videos\\Testing_Normal_Videos_Anomaly\\Normal_Videos_869_x264.mp4\n"
     ]
    },
    {
     "name": "stderr",
     "output_type": "stream",
     "text": [
      " 56%|█████▌    | 84/150 [08:07<02:18,  2.11s/it]"
     ]
    },
    {
     "name": "stdout",
     "output_type": "stream",
     "text": [
      "Completed processing F:\\UCF_Crimes\\UCF_Crimes\\Videos\\Testing_Normal_Videos_Anomaly\\Normal_Videos_870_x264.mp4\n"
     ]
    },
    {
     "name": "stderr",
     "output_type": "stream",
     "text": [
      " 57%|█████▋    | 85/150 [08:12<03:11,  2.94s/it]"
     ]
    },
    {
     "name": "stdout",
     "output_type": "stream",
     "text": [
      "Completed processing F:\\UCF_Crimes\\UCF_Crimes\\Videos\\Testing_Normal_Videos_Anomaly\\Normal_Videos_871_x264.mp4\n"
     ]
    },
    {
     "name": "stderr",
     "output_type": "stream",
     "text": [
      " 57%|█████▋    | 86/150 [08:13<02:24,  2.26s/it]"
     ]
    },
    {
     "name": "stdout",
     "output_type": "stream",
     "text": [
      "Completed processing F:\\UCF_Crimes\\UCF_Crimes\\Videos\\Testing_Normal_Videos_Anomaly\\Normal_Videos_872_x264.mp4\n"
     ]
    },
    {
     "name": "stderr",
     "output_type": "stream",
     "text": [
      " 58%|█████▊    | 87/150 [08:15<02:12,  2.11s/it]"
     ]
    },
    {
     "name": "stdout",
     "output_type": "stream",
     "text": [
      "Completed processing F:\\UCF_Crimes\\UCF_Crimes\\Videos\\Testing_Normal_Videos_Anomaly\\Normal_Videos_873_x264.mp4\n"
     ]
    },
    {
     "name": "stderr",
     "output_type": "stream",
     "text": [
      " 59%|█████▊    | 88/150 [08:19<02:55,  2.83s/it]"
     ]
    },
    {
     "name": "stdout",
     "output_type": "stream",
     "text": [
      "Completed processing F:\\UCF_Crimes\\UCF_Crimes\\Videos\\Testing_Normal_Videos_Anomaly\\Normal_Videos_874_x264.mp4\n"
     ]
    },
    {
     "name": "stderr",
     "output_type": "stream",
     "text": [
      " 59%|█████▉    | 89/150 [08:22<02:50,  2.80s/it]"
     ]
    },
    {
     "name": "stdout",
     "output_type": "stream",
     "text": [
      "Completed processing F:\\UCF_Crimes\\UCF_Crimes\\Videos\\Testing_Normal_Videos_Anomaly\\Normal_Videos_875_x264.mp4\n"
     ]
    },
    {
     "name": "stderr",
     "output_type": "stream",
     "text": [
      " 60%|██████    | 90/150 [08:23<02:19,  2.32s/it]"
     ]
    },
    {
     "name": "stdout",
     "output_type": "stream",
     "text": [
      "Completed processing F:\\UCF_Crimes\\UCF_Crimes\\Videos\\Testing_Normal_Videos_Anomaly\\Normal_Videos_876_x264.mp4\n"
     ]
    },
    {
     "name": "stderr",
     "output_type": "stream",
     "text": [
      " 61%|██████    | 91/150 [08:31<03:57,  4.02s/it]"
     ]
    },
    {
     "name": "stdout",
     "output_type": "stream",
     "text": [
      "Completed processing F:\\UCF_Crimes\\UCF_Crimes\\Videos\\Testing_Normal_Videos_Anomaly\\Normal_Videos_877_x264.mp4\n"
     ]
    },
    {
     "name": "stderr",
     "output_type": "stream",
     "text": [
      " 61%|██████▏   | 92/150 [08:32<02:51,  2.95s/it]"
     ]
    },
    {
     "name": "stdout",
     "output_type": "stream",
     "text": [
      "Completed processing F:\\UCF_Crimes\\UCF_Crimes\\Videos\\Testing_Normal_Videos_Anomaly\\Normal_Videos_878_x264.mp4\n"
     ]
    },
    {
     "name": "stderr",
     "output_type": "stream",
     "text": [
      " 62%|██████▏   | 93/150 [08:33<02:16,  2.40s/it]"
     ]
    },
    {
     "name": "stdout",
     "output_type": "stream",
     "text": [
      "Completed processing F:\\UCF_Crimes\\UCF_Crimes\\Videos\\Testing_Normal_Videos_Anomaly\\Normal_Videos_879_x264.mp4\n"
     ]
    },
    {
     "name": "stderr",
     "output_type": "stream",
     "text": [
      " 63%|██████▎   | 94/150 [08:48<05:54,  6.33s/it]"
     ]
    },
    {
     "name": "stdout",
     "output_type": "stream",
     "text": [
      "Completed processing F:\\UCF_Crimes\\UCF_Crimes\\Videos\\Testing_Normal_Videos_Anomaly\\Normal_Videos_880_x264.mp4\n"
     ]
    },
    {
     "name": "stderr",
     "output_type": "stream",
     "text": [
      " 63%|██████▎   | 95/150 [08:49<04:09,  4.53s/it]"
     ]
    },
    {
     "name": "stdout",
     "output_type": "stream",
     "text": [
      "Completed processing F:\\UCF_Crimes\\UCF_Crimes\\Videos\\Testing_Normal_Videos_Anomaly\\Normal_Videos_881_x264.mp4\n"
     ]
    },
    {
     "name": "stderr",
     "output_type": "stream",
     "text": [
      " 64%|██████▍   | 96/150 [08:50<03:19,  3.69s/it]"
     ]
    },
    {
     "name": "stdout",
     "output_type": "stream",
     "text": [
      "Completed processing F:\\UCF_Crimes\\UCF_Crimes\\Videos\\Testing_Normal_Videos_Anomaly\\Normal_Videos_882_x264.mp4\n"
     ]
    },
    {
     "name": "stderr",
     "output_type": "stream",
     "text": [
      " 65%|██████▍   | 97/150 [08:51<02:22,  2.69s/it]"
     ]
    },
    {
     "name": "stdout",
     "output_type": "stream",
     "text": [
      "Completed processing F:\\UCF_Crimes\\UCF_Crimes\\Videos\\Testing_Normal_Videos_Anomaly\\Normal_Videos_883_x264.mp4\n"
     ]
    },
    {
     "name": "stderr",
     "output_type": "stream",
     "text": [
      " 65%|██████▌   | 98/150 [09:01<04:17,  4.96s/it]"
     ]
    },
    {
     "name": "stdout",
     "output_type": "stream",
     "text": [
      "Completed processing F:\\UCF_Crimes\\UCF_Crimes\\Videos\\Testing_Normal_Videos_Anomaly\\Normal_Videos_884_x264.mp4\n"
     ]
    },
    {
     "name": "stderr",
     "output_type": "stream",
     "text": [
      " 66%|██████▌   | 99/150 [09:01<03:04,  3.62s/it]"
     ]
    },
    {
     "name": "stdout",
     "output_type": "stream",
     "text": [
      "Completed processing F:\\UCF_Crimes\\UCF_Crimes\\Videos\\Testing_Normal_Videos_Anomaly\\Normal_Videos_885_x264.mp4\n"
     ]
    },
    {
     "name": "stderr",
     "output_type": "stream",
     "text": [
      " 67%|██████▋   | 100/150 [09:04<02:49,  3.39s/it]"
     ]
    },
    {
     "name": "stdout",
     "output_type": "stream",
     "text": [
      "Completed processing F:\\UCF_Crimes\\UCF_Crimes\\Videos\\Testing_Normal_Videos_Anomaly\\Normal_Videos_886_x264.mp4\n"
     ]
    },
    {
     "name": "stderr",
     "output_type": "stream",
     "text": [
      " 67%|██████▋   | 101/150 [09:32<08:41, 10.64s/it]"
     ]
    },
    {
     "name": "stdout",
     "output_type": "stream",
     "text": [
      "Completed processing F:\\UCF_Crimes\\UCF_Crimes\\Videos\\Testing_Normal_Videos_Anomaly\\Normal_Videos_887_x264.mp4\n"
     ]
    },
    {
     "name": "stderr",
     "output_type": "stream",
     "text": [
      " 68%|██████▊   | 102/150 [09:32<06:05,  7.61s/it]"
     ]
    },
    {
     "name": "stdout",
     "output_type": "stream",
     "text": [
      "Completed processing F:\\UCF_Crimes\\UCF_Crimes\\Videos\\Testing_Normal_Videos_Anomaly\\Normal_Videos_888_x264.mp4\n"
     ]
    },
    {
     "name": "stderr",
     "output_type": "stream",
     "text": [
      " 69%|██████▊   | 103/150 [09:33<04:15,  5.43s/it]"
     ]
    },
    {
     "name": "stdout",
     "output_type": "stream",
     "text": [
      "Completed processing F:\\UCF_Crimes\\UCF_Crimes\\Videos\\Testing_Normal_Videos_Anomaly\\Normal_Videos_889_x264.mp4\n"
     ]
    },
    {
     "name": "stderr",
     "output_type": "stream",
     "text": [
      " 69%|██████▉   | 104/150 [09:37<03:53,  5.07s/it]"
     ]
    },
    {
     "name": "stdout",
     "output_type": "stream",
     "text": [
      "Completed processing F:\\UCF_Crimes\\UCF_Crimes\\Videos\\Testing_Normal_Videos_Anomaly\\Normal_Videos_890_x264.mp4\n"
     ]
    },
    {
     "name": "stderr",
     "output_type": "stream",
     "text": [
      " 70%|███████   | 105/150 [09:39<03:06,  4.15s/it]"
     ]
    },
    {
     "name": "stdout",
     "output_type": "stream",
     "text": [
      "Completed processing F:\\UCF_Crimes\\UCF_Crimes\\Videos\\Testing_Normal_Videos_Anomaly\\Normal_Videos_891_x264.mp4\n"
     ]
    },
    {
     "name": "stderr",
     "output_type": "stream",
     "text": [
      " 71%|███████   | 106/150 [09:41<02:32,  3.46s/it]"
     ]
    },
    {
     "name": "stdout",
     "output_type": "stream",
     "text": [
      "Completed processing F:\\UCF_Crimes\\UCF_Crimes\\Videos\\Testing_Normal_Videos_Anomaly\\Normal_Videos_892_x264.mp4\n"
     ]
    },
    {
     "name": "stderr",
     "output_type": "stream",
     "text": [
      " 71%|███████▏  | 107/150 [09:48<03:17,  4.60s/it]"
     ]
    },
    {
     "name": "stdout",
     "output_type": "stream",
     "text": [
      "Completed processing F:\\UCF_Crimes\\UCF_Crimes\\Videos\\Testing_Normal_Videos_Anomaly\\Normal_Videos_893_x264.mp4\n"
     ]
    },
    {
     "name": "stderr",
     "output_type": "stream",
     "text": [
      " 72%|███████▏  | 108/150 [09:51<02:54,  4.14s/it]"
     ]
    },
    {
     "name": "stdout",
     "output_type": "stream",
     "text": [
      "Completed processing F:\\UCF_Crimes\\UCF_Crimes\\Videos\\Testing_Normal_Videos_Anomaly\\Normal_Videos_894_x264.mp4\n"
     ]
    },
    {
     "name": "stderr",
     "output_type": "stream",
     "text": [
      " 73%|███████▎  | 109/150 [09:54<02:36,  3.83s/it]"
     ]
    },
    {
     "name": "stdout",
     "output_type": "stream",
     "text": [
      "Completed processing F:\\UCF_Crimes\\UCF_Crimes\\Videos\\Testing_Normal_Videos_Anomaly\\Normal_Videos_895_x264.mp4\n"
     ]
    },
    {
     "name": "stderr",
     "output_type": "stream",
     "text": [
      " 73%|███████▎  | 110/150 [09:57<02:18,  3.46s/it]"
     ]
    },
    {
     "name": "stdout",
     "output_type": "stream",
     "text": [
      "Completed processing F:\\UCF_Crimes\\UCF_Crimes\\Videos\\Testing_Normal_Videos_Anomaly\\Normal_Videos_896_x264.mp4\n"
     ]
    },
    {
     "name": "stderr",
     "output_type": "stream",
     "text": [
      " 74%|███████▍  | 111/150 [09:58<01:46,  2.74s/it]"
     ]
    },
    {
     "name": "stdout",
     "output_type": "stream",
     "text": [
      "Completed processing F:\\UCF_Crimes\\UCF_Crimes\\Videos\\Testing_Normal_Videos_Anomaly\\Normal_Videos_897_x264.mp4\n"
     ]
    },
    {
     "name": "stderr",
     "output_type": "stream",
     "text": [
      " 75%|███████▍  | 112/150 [09:59<01:24,  2.23s/it]"
     ]
    },
    {
     "name": "stdout",
     "output_type": "stream",
     "text": [
      "Completed processing F:\\UCF_Crimes\\UCF_Crimes\\Videos\\Testing_Normal_Videos_Anomaly\\Normal_Videos_898_x264.mp4\n"
     ]
    },
    {
     "name": "stderr",
     "output_type": "stream",
     "text": [
      " 75%|███████▌  | 113/150 [10:00<01:12,  1.96s/it]"
     ]
    },
    {
     "name": "stdout",
     "output_type": "stream",
     "text": [
      "Completed processing F:\\UCF_Crimes\\UCF_Crimes\\Videos\\Testing_Normal_Videos_Anomaly\\Normal_Videos_899_x264.mp4\n"
     ]
    },
    {
     "name": "stderr",
     "output_type": "stream",
     "text": [
      " 76%|███████▌  | 114/150 [10:02<01:04,  1.80s/it]"
     ]
    },
    {
     "name": "stdout",
     "output_type": "stream",
     "text": [
      "Completed processing F:\\UCF_Crimes\\UCF_Crimes\\Videos\\Testing_Normal_Videos_Anomaly\\Normal_Videos_900_x264.mp4\n"
     ]
    },
    {
     "name": "stderr",
     "output_type": "stream",
     "text": [
      " 77%|███████▋  | 115/150 [10:03<00:56,  1.62s/it]"
     ]
    },
    {
     "name": "stdout",
     "output_type": "stream",
     "text": [
      "Completed processing F:\\UCF_Crimes\\UCF_Crimes\\Videos\\Testing_Normal_Videos_Anomaly\\Normal_Videos_901_x264.mp4\n"
     ]
    },
    {
     "name": "stderr",
     "output_type": "stream",
     "text": [
      " 77%|███████▋  | 116/150 [10:05<00:56,  1.66s/it]"
     ]
    },
    {
     "name": "stdout",
     "output_type": "stream",
     "text": [
      "Completed processing F:\\UCF_Crimes\\UCF_Crimes\\Videos\\Testing_Normal_Videos_Anomaly\\Normal_Videos_902_x264.mp4\n"
     ]
    },
    {
     "name": "stderr",
     "output_type": "stream",
     "text": [
      " 78%|███████▊  | 117/150 [10:06<00:47,  1.44s/it]"
     ]
    },
    {
     "name": "stdout",
     "output_type": "stream",
     "text": [
      "Completed processing F:\\UCF_Crimes\\UCF_Crimes\\Videos\\Testing_Normal_Videos_Anomaly\\Normal_Videos_903_x264.mp4\n"
     ]
    },
    {
     "name": "stderr",
     "output_type": "stream",
     "text": [
      " 79%|███████▊  | 118/150 [10:06<00:40,  1.27s/it]"
     ]
    },
    {
     "name": "stdout",
     "output_type": "stream",
     "text": [
      "Completed processing F:\\UCF_Crimes\\UCF_Crimes\\Videos\\Testing_Normal_Videos_Anomaly\\Normal_Videos_904_x264.mp4\n"
     ]
    },
    {
     "name": "stderr",
     "output_type": "stream",
     "text": [
      " 79%|███████▉  | 119/150 [10:08<00:39,  1.28s/it]"
     ]
    },
    {
     "name": "stdout",
     "output_type": "stream",
     "text": [
      "Completed processing F:\\UCF_Crimes\\UCF_Crimes\\Videos\\Testing_Normal_Videos_Anomaly\\Normal_Videos_905_x264.mp4\n"
     ]
    },
    {
     "name": "stderr",
     "output_type": "stream",
     "text": [
      " 80%|████████  | 120/150 [10:08<00:33,  1.11s/it]"
     ]
    },
    {
     "name": "stdout",
     "output_type": "stream",
     "text": [
      "Completed processing F:\\UCF_Crimes\\UCF_Crimes\\Videos\\Testing_Normal_Videos_Anomaly\\Normal_Videos_906_x264.mp4\n"
     ]
    },
    {
     "name": "stderr",
     "output_type": "stream",
     "text": [
      " 81%|████████  | 121/150 [10:09<00:28,  1.00it/s]"
     ]
    },
    {
     "name": "stdout",
     "output_type": "stream",
     "text": [
      "Completed processing F:\\UCF_Crimes\\UCF_Crimes\\Videos\\Testing_Normal_Videos_Anomaly\\Normal_Videos_907_x264.mp4\n"
     ]
    },
    {
     "name": "stderr",
     "output_type": "stream",
     "text": [
      " 81%|████████▏ | 122/150 [10:10<00:29,  1.06s/it]"
     ]
    },
    {
     "name": "stdout",
     "output_type": "stream",
     "text": [
      "Completed processing F:\\UCF_Crimes\\UCF_Crimes\\Videos\\Testing_Normal_Videos_Anomaly\\Normal_Videos_908_x264.mp4\n"
     ]
    },
    {
     "name": "stderr",
     "output_type": "stream",
     "text": [
      " 82%|████████▏ | 123/150 [10:11<00:29,  1.08s/it]"
     ]
    },
    {
     "name": "stdout",
     "output_type": "stream",
     "text": [
      "Completed processing F:\\UCF_Crimes\\UCF_Crimes\\Videos\\Testing_Normal_Videos_Anomaly\\Normal_Videos_909_x264.mp4\n"
     ]
    },
    {
     "name": "stderr",
     "output_type": "stream",
     "text": [
      " 83%|████████▎ | 124/150 [10:12<00:26,  1.00s/it]"
     ]
    },
    {
     "name": "stdout",
     "output_type": "stream",
     "text": [
      "Completed processing F:\\UCF_Crimes\\UCF_Crimes\\Videos\\Testing_Normal_Videos_Anomaly\\Normal_Videos_910_x264.mp4\n"
     ]
    },
    {
     "name": "stderr",
     "output_type": "stream",
     "text": [
      " 83%|████████▎ | 125/150 [10:13<00:23,  1.04it/s]"
     ]
    },
    {
     "name": "stdout",
     "output_type": "stream",
     "text": [
      "Completed processing F:\\UCF_Crimes\\UCF_Crimes\\Videos\\Testing_Normal_Videos_Anomaly\\Normal_Videos_911_x264.mp4\n"
     ]
    },
    {
     "name": "stderr",
     "output_type": "stream",
     "text": [
      " 84%|████████▍ | 126/150 [10:14<00:23,  1.04it/s]"
     ]
    },
    {
     "name": "stdout",
     "output_type": "stream",
     "text": [
      "Completed processing F:\\UCF_Crimes\\UCF_Crimes\\Videos\\Testing_Normal_Videos_Anomaly\\Normal_Videos_912_x264.mp4\n"
     ]
    },
    {
     "name": "stderr",
     "output_type": "stream",
     "text": [
      " 85%|████████▍ | 127/150 [10:15<00:21,  1.08it/s]"
     ]
    },
    {
     "name": "stdout",
     "output_type": "stream",
     "text": [
      "Completed processing F:\\UCF_Crimes\\UCF_Crimes\\Videos\\Testing_Normal_Videos_Anomaly\\Normal_Videos_913_x264.mp4\n"
     ]
    },
    {
     "name": "stderr",
     "output_type": "stream",
     "text": [
      " 85%|████████▌ | 128/150 [10:16<00:21,  1.02it/s]"
     ]
    },
    {
     "name": "stdout",
     "output_type": "stream",
     "text": [
      "Completed processing F:\\UCF_Crimes\\UCF_Crimes\\Videos\\Testing_Normal_Videos_Anomaly\\Normal_Videos_914_x264.mp4\n"
     ]
    },
    {
     "name": "stderr",
     "output_type": "stream",
     "text": [
      " 86%|████████▌ | 129/150 [10:17<00:22,  1.08s/it]"
     ]
    },
    {
     "name": "stdout",
     "output_type": "stream",
     "text": [
      "Completed processing F:\\UCF_Crimes\\UCF_Crimes\\Videos\\Testing_Normal_Videos_Anomaly\\Normal_Videos_915_x264.mp4\n"
     ]
    },
    {
     "name": "stderr",
     "output_type": "stream",
     "text": [
      " 87%|████████▋ | 130/150 [10:34<01:53,  5.66s/it]"
     ]
    },
    {
     "name": "stdout",
     "output_type": "stream",
     "text": [
      "Completed processing F:\\UCF_Crimes\\UCF_Crimes\\Videos\\Testing_Normal_Videos_Anomaly\\Normal_Videos_923_x264.mp4\n"
     ]
    },
    {
     "name": "stderr",
     "output_type": "stream",
     "text": [
      " 87%|████████▋ | 131/150 [12:16<10:58, 34.66s/it]"
     ]
    },
    {
     "name": "stdout",
     "output_type": "stream",
     "text": [
      "Completed processing F:\\UCF_Crimes\\UCF_Crimes\\Videos\\Testing_Normal_Videos_Anomaly\\Normal_Videos_924_x264.mp4\n"
     ]
    },
    {
     "name": "stderr",
     "output_type": "stream",
     "text": [
      " 88%|████████▊ | 132/150 [12:25<08:05, 26.97s/it]"
     ]
    },
    {
     "name": "stdout",
     "output_type": "stream",
     "text": [
      "Completed processing F:\\UCF_Crimes\\UCF_Crimes\\Videos\\Testing_Normal_Videos_Anomaly\\Normal_Videos_925_x264.mp4\n"
     ]
    },
    {
     "name": "stderr",
     "output_type": "stream",
     "text": [
      " 89%|████████▊ | 133/150 [12:27<05:29, 19.37s/it]"
     ]
    },
    {
     "name": "stdout",
     "output_type": "stream",
     "text": [
      "Completed processing F:\\UCF_Crimes\\UCF_Crimes\\Videos\\Testing_Normal_Videos_Anomaly\\Normal_Videos_926_x264.mp4\n"
     ]
    },
    {
     "name": "stderr",
     "output_type": "stream",
     "text": [
      " 89%|████████▉ | 134/150 [12:29<03:46, 14.15s/it]"
     ]
    },
    {
     "name": "stdout",
     "output_type": "stream",
     "text": [
      "Completed processing F:\\UCF_Crimes\\UCF_Crimes\\Videos\\Testing_Normal_Videos_Anomaly\\Normal_Videos_927_x264.mp4\n"
     ]
    },
    {
     "name": "stderr",
     "output_type": "stream",
     "text": [
      " 90%|█████████ | 135/150 [12:30<02:33, 10.22s/it]"
     ]
    },
    {
     "name": "stdout",
     "output_type": "stream",
     "text": [
      "Completed processing F:\\UCF_Crimes\\UCF_Crimes\\Videos\\Testing_Normal_Videos_Anomaly\\Normal_Videos_928_x264.mp4\n"
     ]
    },
    {
     "name": "stderr",
     "output_type": "stream",
     "text": [
      " 91%|█████████ | 136/150 [12:31<01:44,  7.47s/it]"
     ]
    },
    {
     "name": "stdout",
     "output_type": "stream",
     "text": [
      "Completed processing F:\\UCF_Crimes\\UCF_Crimes\\Videos\\Testing_Normal_Videos_Anomaly\\Normal_Videos_929_x264.mp4\n"
     ]
    },
    {
     "name": "stderr",
     "output_type": "stream",
     "text": [
      " 91%|█████████▏| 137/150 [12:34<01:18,  6.04s/it]"
     ]
    },
    {
     "name": "stdout",
     "output_type": "stream",
     "text": [
      "Completed processing F:\\UCF_Crimes\\UCF_Crimes\\Videos\\Testing_Normal_Videos_Anomaly\\Normal_Videos_930_x264.mp4\n"
     ]
    },
    {
     "name": "stderr",
     "output_type": "stream",
     "text": [
      " 92%|█████████▏| 138/150 [12:36<00:58,  4.86s/it]"
     ]
    },
    {
     "name": "stdout",
     "output_type": "stream",
     "text": [
      "Completed processing F:\\UCF_Crimes\\UCF_Crimes\\Videos\\Testing_Normal_Videos_Anomaly\\Normal_Videos_931_x264.mp4\n"
     ]
    },
    {
     "name": "stderr",
     "output_type": "stream",
     "text": [
      " 93%|█████████▎| 139/150 [12:38<00:43,  3.97s/it]"
     ]
    },
    {
     "name": "stdout",
     "output_type": "stream",
     "text": [
      "Completed processing F:\\UCF_Crimes\\UCF_Crimes\\Videos\\Testing_Normal_Videos_Anomaly\\Normal_Videos_932_x264.mp4\n"
     ]
    },
    {
     "name": "stderr",
     "output_type": "stream",
     "text": [
      " 93%|█████████▎| 140/150 [12:39<00:33,  3.35s/it]"
     ]
    },
    {
     "name": "stdout",
     "output_type": "stream",
     "text": [
      "Completed processing F:\\UCF_Crimes\\UCF_Crimes\\Videos\\Testing_Normal_Videos_Anomaly\\Normal_Videos_933_x264.mp4\n"
     ]
    },
    {
     "name": "stderr",
     "output_type": "stream",
     "text": [
      " 94%|█████████▍| 141/150 [12:41<00:26,  2.94s/it]"
     ]
    },
    {
     "name": "stdout",
     "output_type": "stream",
     "text": [
      "Completed processing F:\\UCF_Crimes\\UCF_Crimes\\Videos\\Testing_Normal_Videos_Anomaly\\Normal_Videos_934_x264.mp4\n"
     ]
    },
    {
     "name": "stderr",
     "output_type": "stream",
     "text": [
      " 95%|█████████▍| 142/150 [14:45<05:12, 39.01s/it]"
     ]
    },
    {
     "name": "stdout",
     "output_type": "stream",
     "text": [
      "Completed processing F:\\UCF_Crimes\\UCF_Crimes\\Videos\\Testing_Normal_Videos_Anomaly\\Normal_Videos_935_x264.mp4\n"
     ]
    },
    {
     "name": "stderr",
     "output_type": "stream",
     "text": [
      " 95%|█████████▌| 143/150 [14:46<03:14, 27.73s/it]"
     ]
    },
    {
     "name": "stdout",
     "output_type": "stream",
     "text": [
      "Completed processing F:\\UCF_Crimes\\UCF_Crimes\\Videos\\Testing_Normal_Videos_Anomaly\\Normal_Videos_936_x264.mp4\n"
     ]
    },
    {
     "name": "stderr",
     "output_type": "stream",
     "text": [
      " 96%|█████████▌| 144/150 [14:47<01:58, 19.82s/it]"
     ]
    },
    {
     "name": "stdout",
     "output_type": "stream",
     "text": [
      "Completed processing F:\\UCF_Crimes\\UCF_Crimes\\Videos\\Testing_Normal_Videos_Anomaly\\Normal_Videos_937_x264.mp4\n"
     ]
    },
    {
     "name": "stderr",
     "output_type": "stream",
     "text": [
      " 97%|█████████▋| 145/150 [14:53<01:17, 15.55s/it]"
     ]
    },
    {
     "name": "stdout",
     "output_type": "stream",
     "text": [
      "Completed processing F:\\UCF_Crimes\\UCF_Crimes\\Videos\\Testing_Normal_Videos_Anomaly\\Normal_Videos_938_x264.mp4\n"
     ]
    },
    {
     "name": "stderr",
     "output_type": "stream",
     "text": [
      " 97%|█████████▋| 146/150 [14:54<00:44, 11.12s/it]"
     ]
    },
    {
     "name": "stdout",
     "output_type": "stream",
     "text": [
      "Completed processing F:\\UCF_Crimes\\UCF_Crimes\\Videos\\Testing_Normal_Videos_Anomaly\\Normal_Videos_939_x264.mp4\n"
     ]
    },
    {
     "name": "stderr",
     "output_type": "stream",
     "text": [
      " 98%|█████████▊| 147/150 [15:30<00:56, 18.73s/it]"
     ]
    },
    {
     "name": "stdout",
     "output_type": "stream",
     "text": [
      "Completed processing F:\\UCF_Crimes\\UCF_Crimes\\Videos\\Testing_Normal_Videos_Anomaly\\Normal_Videos_940_x264.mp4\n"
     ]
    },
    {
     "name": "stderr",
     "output_type": "stream",
     "text": [
      " 99%|█████████▊| 148/150 [15:33<00:27, 13.88s/it]"
     ]
    },
    {
     "name": "stdout",
     "output_type": "stream",
     "text": [
      "Completed processing F:\\UCF_Crimes\\UCF_Crimes\\Videos\\Testing_Normal_Videos_Anomaly\\Normal_Videos_941_x264.mp4\n"
     ]
    },
    {
     "name": "stderr",
     "output_type": "stream",
     "text": [
      " 99%|█████████▉| 149/150 [15:34<00:10, 10.12s/it]"
     ]
    },
    {
     "name": "stdout",
     "output_type": "stream",
     "text": [
      "Completed processing F:\\UCF_Crimes\\UCF_Crimes\\Videos\\Testing_Normal_Videos_Anomaly\\Normal_Videos_943_x264.mp4\n"
     ]
    },
    {
     "name": "stderr",
     "output_type": "stream",
     "text": [
      "100%|██████████| 150/150 [15:57<00:00,  6.38s/it]\n"
     ]
    },
    {
     "name": "stdout",
     "output_type": "stream",
     "text": [
      "Completed processing F:\\UCF_Crimes\\UCF_Crimes\\Videos\\Testing_Normal_Videos_Anomaly\\Normal_Videos_944_x264.mp4\n"
     ]
    },
    {
     "name": "stderr",
     "output_type": "stream",
     "text": [
      "  0%|          | 1/800 [00:00<07:53,  1.69it/s]"
     ]
    },
    {
     "name": "stdout",
     "output_type": "stream",
     "text": [
      "Completed processing F:\\UCF_Crimes\\UCF_Crimes\\Videos\\Training_Normal_Videos_Anomaly\\Normal_Videos001_x264.mp4\n"
     ]
    },
    {
     "name": "stderr",
     "output_type": "stream",
     "text": [
      "  0%|          | 2/800 [00:02<16:06,  1.21s/it]"
     ]
    },
    {
     "name": "stdout",
     "output_type": "stream",
     "text": [
      "Completed processing F:\\UCF_Crimes\\UCF_Crimes\\Videos\\Training_Normal_Videos_Anomaly\\Normal_Videos002_x264.mp4\n"
     ]
    },
    {
     "name": "stderr",
     "output_type": "stream",
     "text": [
      "  0%|          | 3/800 [00:03<14:03,  1.06s/it]"
     ]
    },
    {
     "name": "stdout",
     "output_type": "stream",
     "text": [
      "Completed processing F:\\UCF_Crimes\\UCF_Crimes\\Videos\\Training_Normal_Videos_Anomaly\\Normal_Videos004_x264.mp4\n"
     ]
    },
    {
     "name": "stderr",
     "output_type": "stream",
     "text": [
      "  0%|          | 4/800 [00:03<10:55,  1.21it/s]"
     ]
    },
    {
     "name": "stdout",
     "output_type": "stream",
     "text": [
      "Completed processing F:\\UCF_Crimes\\UCF_Crimes\\Videos\\Training_Normal_Videos_Anomaly\\Normal_Videos005_x264.mp4\n"
     ]
    },
    {
     "name": "stderr",
     "output_type": "stream",
     "text": [
      "  1%|          | 5/800 [00:04<12:01,  1.10it/s]"
     ]
    },
    {
     "name": "stdout",
     "output_type": "stream",
     "text": [
      "Completed processing F:\\UCF_Crimes\\UCF_Crimes\\Videos\\Training_Normal_Videos_Anomaly\\Normal_Videos007_x264.mp4\n"
     ]
    },
    {
     "name": "stderr",
     "output_type": "stream",
     "text": [
      "  1%|          | 6/800 [00:13<48:58,  3.70s/it]"
     ]
    },
    {
     "name": "stdout",
     "output_type": "stream",
     "text": [
      "Completed processing F:\\UCF_Crimes\\UCF_Crimes\\Videos\\Training_Normal_Videos_Anomaly\\Normal_Videos008_x264.mp4\n"
     ]
    },
    {
     "name": "stderr",
     "output_type": "stream",
     "text": [
      "  1%|          | 7/800 [00:14<36:12,  2.74s/it]"
     ]
    },
    {
     "name": "stdout",
     "output_type": "stream",
     "text": [
      "Completed processing F:\\UCF_Crimes\\UCF_Crimes\\Videos\\Training_Normal_Videos_Anomaly\\Normal_Videos009_x264.mp4\n"
     ]
    },
    {
     "name": "stderr",
     "output_type": "stream",
     "text": [
      "  1%|          | 8/800 [00:15<28:05,  2.13s/it]"
     ]
    },
    {
     "name": "stdout",
     "output_type": "stream",
     "text": [
      "Completed processing F:\\UCF_Crimes\\UCF_Crimes\\Videos\\Training_Normal_Videos_Anomaly\\Normal_Videos011_x264.mp4\n"
     ]
    },
    {
     "name": "stderr",
     "output_type": "stream",
     "text": [
      "  1%|          | 9/800 [00:23<54:42,  4.15s/it]"
     ]
    },
    {
     "name": "stdout",
     "output_type": "stream",
     "text": [
      "Completed processing F:\\UCF_Crimes\\UCF_Crimes\\Videos\\Training_Normal_Videos_Anomaly\\Normal_Videos012_x264.mp4\n"
     ]
    },
    {
     "name": "stderr",
     "output_type": "stream",
     "text": [
      "  1%|▏         | 10/800 [00:25<42:52,  3.26s/it]"
     ]
    },
    {
     "name": "stdout",
     "output_type": "stream",
     "text": [
      "Completed processing F:\\UCF_Crimes\\UCF_Crimes\\Videos\\Training_Normal_Videos_Anomaly\\Normal_Videos013_x264.mp4\n"
     ]
    },
    {
     "name": "stderr",
     "output_type": "stream",
     "text": [
      "  1%|▏         | 11/800 [00:29<47:10,  3.59s/it]"
     ]
    },
    {
     "name": "stdout",
     "output_type": "stream",
     "text": [
      "Completed processing F:\\UCF_Crimes\\UCF_Crimes\\Videos\\Training_Normal_Videos_Anomaly\\Normal_Videos016_x264.mp4\n"
     ]
    },
    {
     "name": "stderr",
     "output_type": "stream",
     "text": [
      "  2%|▏         | 12/800 [00:30<36:56,  2.81s/it]"
     ]
    },
    {
     "name": "stdout",
     "output_type": "stream",
     "text": [
      "Completed processing F:\\UCF_Crimes\\UCF_Crimes\\Videos\\Training_Normal_Videos_Anomaly\\Normal_Videos017_x264.mp4\n"
     ]
    },
    {
     "name": "stderr",
     "output_type": "stream",
     "text": [
      "  2%|▏         | 13/800 [00:31<28:08,  2.15s/it]"
     ]
    },
    {
     "name": "stdout",
     "output_type": "stream",
     "text": [
      "Completed processing F:\\UCF_Crimes\\UCF_Crimes\\Videos\\Training_Normal_Videos_Anomaly\\Normal_Videos020_x264.mp4\n"
     ]
    },
    {
     "name": "stderr",
     "output_type": "stream",
     "text": [
      "  2%|▏         | 14/800 [00:33<27:36,  2.11s/it]"
     ]
    },
    {
     "name": "stdout",
     "output_type": "stream",
     "text": [
      "Completed processing F:\\UCF_Crimes\\UCF_Crimes\\Videos\\Training_Normal_Videos_Anomaly\\Normal_Videos021_x264.mp4\n"
     ]
    },
    {
     "name": "stderr",
     "output_type": "stream",
     "text": [
      "  2%|▏         | 15/800 [00:33<21:07,  1.61s/it]"
     ]
    },
    {
     "name": "stdout",
     "output_type": "stream",
     "text": [
      "Completed processing F:\\UCF_Crimes\\UCF_Crimes\\Videos\\Training_Normal_Videos_Anomaly\\Normal_Videos022_x264.mp4\n"
     ]
    },
    {
     "name": "stderr",
     "output_type": "stream",
     "text": [
      "  2%|▏         | 16/800 [00:35<20:49,  1.59s/it]"
     ]
    },
    {
     "name": "stdout",
     "output_type": "stream",
     "text": [
      "Completed processing F:\\UCF_Crimes\\UCF_Crimes\\Videos\\Training_Normal_Videos_Anomaly\\Normal_Videos023_x264.mp4\n"
     ]
    },
    {
     "name": "stderr",
     "output_type": "stream",
     "text": [
      "  2%|▏         | 17/800 [00:43<45:34,  3.49s/it]"
     ]
    },
    {
     "name": "stdout",
     "output_type": "stream",
     "text": [
      "Completed processing F:\\UCF_Crimes\\UCF_Crimes\\Videos\\Training_Normal_Videos_Anomaly\\Normal_Videos026_x264.mp4\n"
     ]
    },
    {
     "name": "stderr",
     "output_type": "stream",
     "text": [
      "  2%|▏         | 18/800 [00:54<1:15:12,  5.77s/it]"
     ]
    },
    {
     "name": "stdout",
     "output_type": "stream",
     "text": [
      "Completed processing F:\\UCF_Crimes\\UCF_Crimes\\Videos\\Training_Normal_Videos_Anomaly\\Normal_Videos028_x264.mp4\n"
     ]
    },
    {
     "name": "stderr",
     "output_type": "stream",
     "text": [
      "  2%|▏         | 19/800 [00:55<57:04,  4.38s/it]  "
     ]
    },
    {
     "name": "stdout",
     "output_type": "stream",
     "text": [
      "Completed processing F:\\UCF_Crimes\\UCF_Crimes\\Videos\\Training_Normal_Videos_Anomaly\\Normal_Videos029_x264.mp4\n"
     ]
    },
    {
     "name": "stderr",
     "output_type": "stream",
     "text": [
      "  2%|▎         | 20/800 [00:59<54:54,  4.22s/it]"
     ]
    },
    {
     "name": "stdout",
     "output_type": "stream",
     "text": [
      "Completed processing F:\\UCF_Crimes\\UCF_Crimes\\Videos\\Training_Normal_Videos_Anomaly\\Normal_Videos030_x264.mp4\n"
     ]
    },
    {
     "name": "stderr",
     "output_type": "stream",
     "text": [
      "  3%|▎         | 21/800 [01:12<1:29:23,  6.89s/it]"
     ]
    },
    {
     "name": "stdout",
     "output_type": "stream",
     "text": [
      "Completed processing F:\\UCF_Crimes\\UCF_Crimes\\Videos\\Training_Normal_Videos_Anomaly\\Normal_Videos031_x264.mp4\n"
     ]
    },
    {
     "name": "stderr",
     "output_type": "stream",
     "text": [
      "  3%|▎         | 22/800 [01:13<1:05:59,  5.09s/it]"
     ]
    },
    {
     "name": "stdout",
     "output_type": "stream",
     "text": [
      "Completed processing F:\\UCF_Crimes\\UCF_Crimes\\Videos\\Training_Normal_Videos_Anomaly\\Normal_Videos032_x264.mp4\n"
     ]
    },
    {
     "name": "stderr",
     "output_type": "stream",
     "text": [
      "  3%|▎         | 23/800 [02:23<5:19:33, 24.68s/it]"
     ]
    },
    {
     "name": "stdout",
     "output_type": "stream",
     "text": [
      "Completed processing F:\\UCF_Crimes\\UCF_Crimes\\Videos\\Training_Normal_Videos_Anomaly\\Normal_Videos035_x264.mp4\n"
     ]
    },
    {
     "name": "stderr",
     "output_type": "stream",
     "text": [
      "  3%|▎         | 24/800 [02:24<3:47:59, 17.63s/it]"
     ]
    },
    {
     "name": "stdout",
     "output_type": "stream",
     "text": [
      "Completed processing F:\\UCF_Crimes\\UCF_Crimes\\Videos\\Training_Normal_Videos_Anomaly\\Normal_Videos036_x264.mp4\n"
     ]
    },
    {
     "name": "stderr",
     "output_type": "stream",
     "text": [
      "  3%|▎         | 25/800 [02:25<2:41:04, 12.47s/it]"
     ]
    },
    {
     "name": "stdout",
     "output_type": "stream",
     "text": [
      "Completed processing F:\\UCF_Crimes\\UCF_Crimes\\Videos\\Training_Normal_Videos_Anomaly\\Normal_Videos037_x264.mp4\n"
     ]
    },
    {
     "name": "stderr",
     "output_type": "stream",
     "text": [
      "  3%|▎         | 26/800 [02:36<2:34:55, 12.01s/it]"
     ]
    },
    {
     "name": "stdout",
     "output_type": "stream",
     "text": [
      "Completed processing F:\\UCF_Crimes\\UCF_Crimes\\Videos\\Training_Normal_Videos_Anomaly\\Normal_Videos038_x264.mp4\n"
     ]
    },
    {
     "name": "stderr",
     "output_type": "stream",
     "text": [
      "  3%|▎         | 27/800 [02:38<1:56:06,  9.01s/it]"
     ]
    },
    {
     "name": "stdout",
     "output_type": "stream",
     "text": [
      "Completed processing F:\\UCF_Crimes\\UCF_Crimes\\Videos\\Training_Normal_Videos_Anomaly\\Normal_Videos039_x264.mp4\n"
     ]
    },
    {
     "name": "stderr",
     "output_type": "stream",
     "text": [
      "  4%|▎         | 28/800 [02:39<1:24:56,  6.60s/it]"
     ]
    },
    {
     "name": "stdout",
     "output_type": "stream",
     "text": [
      "Completed processing F:\\UCF_Crimes\\UCF_Crimes\\Videos\\Training_Normal_Videos_Anomaly\\Normal_Videos040_x264.mp4\n"
     ]
    },
    {
     "name": "stderr",
     "output_type": "stream",
     "text": [
      "  4%|▎         | 29/800 [02:40<1:06:07,  5.15s/it]"
     ]
    },
    {
     "name": "stdout",
     "output_type": "stream",
     "text": [
      "Completed processing F:\\UCF_Crimes\\UCF_Crimes\\Videos\\Training_Normal_Videos_Anomaly\\Normal_Videos043_x264.mp4\n"
     ]
    },
    {
     "name": "stderr",
     "output_type": "stream",
     "text": [
      "  4%|▍         | 30/800 [02:43<55:15,  4.31s/it]  "
     ]
    },
    {
     "name": "stdout",
     "output_type": "stream",
     "text": [
      "Completed processing F:\\UCF_Crimes\\UCF_Crimes\\Videos\\Training_Normal_Videos_Anomaly\\Normal_Videos044_x264.mp4\n"
     ]
    },
    {
     "name": "stderr",
     "output_type": "stream",
     "text": [
      "  4%|▍         | 31/800 [02:44<44:17,  3.46s/it]"
     ]
    },
    {
     "name": "stdout",
     "output_type": "stream",
     "text": [
      "Completed processing F:\\UCF_Crimes\\UCF_Crimes\\Videos\\Training_Normal_Videos_Anomaly\\Normal_Videos045_x264.mp4\n"
     ]
    },
    {
     "name": "stderr",
     "output_type": "stream",
     "text": [
      "  4%|▍         | 32/800 [03:15<2:30:46, 11.78s/it]"
     ]
    },
    {
     "name": "stdout",
     "output_type": "stream",
     "text": [
      "Completed processing F:\\UCF_Crimes\\UCF_Crimes\\Videos\\Training_Normal_Videos_Anomaly\\Normal_Videos046_x264.mp4\n"
     ]
    },
    {
     "name": "stderr",
     "output_type": "stream",
     "text": [
      "  4%|▍         | 33/800 [03:21<2:08:00, 10.01s/it]"
     ]
    },
    {
     "name": "stdout",
     "output_type": "stream",
     "text": [
      "Completed processing F:\\UCF_Crimes\\UCF_Crimes\\Videos\\Training_Normal_Videos_Anomaly\\Normal_Videos047_x264.mp4\n"
     ]
    },
    {
     "name": "stderr",
     "output_type": "stream",
     "text": [
      "  4%|▍         | 34/800 [03:41<2:45:49, 12.99s/it]"
     ]
    },
    {
     "name": "stdout",
     "output_type": "stream",
     "text": [
      "Completed processing F:\\UCF_Crimes\\UCF_Crimes\\Videos\\Training_Normal_Videos_Anomaly\\Normal_Videos049_x264.mp4\n"
     ]
    },
    {
     "name": "stderr",
     "output_type": "stream",
     "text": [
      "  4%|▍         | 35/800 [03:42<1:57:40,  9.23s/it]"
     ]
    },
    {
     "name": "stdout",
     "output_type": "stream",
     "text": [
      "Completed processing F:\\UCF_Crimes\\UCF_Crimes\\Videos\\Training_Normal_Videos_Anomaly\\Normal_Videos052_x264.mp4\n"
     ]
    },
    {
     "name": "stderr",
     "output_type": "stream",
     "text": [
      "  4%|▍         | 36/800 [03:42<1:24:09,  6.61s/it]"
     ]
    },
    {
     "name": "stdout",
     "output_type": "stream",
     "text": [
      "Completed processing F:\\UCF_Crimes\\UCF_Crimes\\Videos\\Training_Normal_Videos_Anomaly\\Normal_Videos053_x264.mp4\n"
     ]
    },
    {
     "name": "stderr",
     "output_type": "stream",
     "text": [
      "  5%|▍         | 37/800 [03:44<1:06:01,  5.19s/it]"
     ]
    },
    {
     "name": "stdout",
     "output_type": "stream",
     "text": [
      "Completed processing F:\\UCF_Crimes\\UCF_Crimes\\Videos\\Training_Normal_Videos_Anomaly\\Normal_Videos054_x264.mp4\n"
     ]
    },
    {
     "name": "stderr",
     "output_type": "stream",
     "text": [
      "  5%|▍         | 38/800 [03:44<47:38,  3.75s/it]  "
     ]
    },
    {
     "name": "stdout",
     "output_type": "stream",
     "text": [
      "Completed processing F:\\UCF_Crimes\\UCF_Crimes\\Videos\\Training_Normal_Videos_Anomaly\\Normal_Videos055_x264.mp4\n"
     ]
    },
    {
     "name": "stderr",
     "output_type": "stream",
     "text": [
      "  5%|▍         | 39/800 [03:48<45:31,  3.59s/it]"
     ]
    },
    {
     "name": "stdout",
     "output_type": "stream",
     "text": [
      "Completed processing F:\\UCF_Crimes\\UCF_Crimes\\Videos\\Training_Normal_Videos_Anomaly\\Normal_Videos057_x264.mp4\n"
     ]
    },
    {
     "name": "stderr",
     "output_type": "stream",
     "text": [
      "  5%|▌         | 40/800 [03:49<35:21,  2.79s/it]"
     ]
    },
    {
     "name": "stdout",
     "output_type": "stream",
     "text": [
      "Completed processing F:\\UCF_Crimes\\UCF_Crimes\\Videos\\Training_Normal_Videos_Anomaly\\Normal_Videos058_x264.mp4\n"
     ]
    },
    {
     "name": "stderr",
     "output_type": "stream",
     "text": [
      "  5%|▌         | 41/800 [03:57<57:11,  4.52s/it]"
     ]
    },
    {
     "name": "stdout",
     "output_type": "stream",
     "text": [
      "Completed processing F:\\UCF_Crimes\\UCF_Crimes\\Videos\\Training_Normal_Videos_Anomaly\\Normal_Videos060_x264.mp4\n"
     ]
    },
    {
     "name": "stderr",
     "output_type": "stream",
     "text": [
      "  5%|▌         | 42/800 [05:03<4:50:31, 23.00s/it]"
     ]
    },
    {
     "name": "stdout",
     "output_type": "stream",
     "text": [
      "Completed processing F:\\UCF_Crimes\\UCF_Crimes\\Videos\\Training_Normal_Videos_Anomaly\\Normal_Videos061_x264.mp4\n"
     ]
    },
    {
     "name": "stderr",
     "output_type": "stream",
     "text": [
      "  5%|▌         | 43/800 [05:05<3:29:55, 16.64s/it]"
     ]
    },
    {
     "name": "stdout",
     "output_type": "stream",
     "text": [
      "Completed processing F:\\UCF_Crimes\\UCF_Crimes\\Videos\\Training_Normal_Videos_Anomaly\\Normal_Videos062_x264.mp4\n"
     ]
    },
    {
     "name": "stderr",
     "output_type": "stream",
     "text": [
      "  6%|▌         | 44/800 [05:08<2:37:02, 12.46s/it]"
     ]
    },
    {
     "name": "stdout",
     "output_type": "stream",
     "text": [
      "Completed processing F:\\UCF_Crimes\\UCF_Crimes\\Videos\\Training_Normal_Videos_Anomaly\\Normal_Videos064_x264.mp4\n"
     ]
    },
    {
     "name": "stderr",
     "output_type": "stream",
     "text": [
      "  6%|▌         | 45/800 [05:09<1:53:14,  9.00s/it]"
     ]
    },
    {
     "name": "stdout",
     "output_type": "stream",
     "text": [
      "Completed processing F:\\UCF_Crimes\\UCF_Crimes\\Videos\\Training_Normal_Videos_Anomaly\\Normal_Videos065_x264.mp4\n"
     ]
    },
    {
     "name": "stderr",
     "output_type": "stream",
     "text": [
      "  6%|▌         | 46/800 [05:10<1:23:43,  6.66s/it]"
     ]
    },
    {
     "name": "stdout",
     "output_type": "stream",
     "text": [
      "Completed processing F:\\UCF_Crimes\\UCF_Crimes\\Videos\\Training_Normal_Videos_Anomaly\\Normal_Videos066_x264.mp4\n"
     ]
    },
    {
     "name": "stderr",
     "output_type": "stream",
     "text": [
      "  6%|▌         | 47/800 [05:12<1:07:27,  5.38s/it]"
     ]
    },
    {
     "name": "stdout",
     "output_type": "stream",
     "text": [
      "Completed processing F:\\UCF_Crimes\\UCF_Crimes\\Videos\\Training_Normal_Videos_Anomaly\\Normal_Videos068_x264.mp4\n"
     ]
    },
    {
     "name": "stderr",
     "output_type": "stream",
     "text": [
      "  6%|▌         | 48/800 [05:13<51:35,  4.12s/it]  "
     ]
    },
    {
     "name": "stdout",
     "output_type": "stream",
     "text": [
      "Completed processing F:\\UCF_Crimes\\UCF_Crimes\\Videos\\Training_Normal_Videos_Anomaly\\Normal_Videos069_x264.mp4\n"
     ]
    },
    {
     "name": "stderr",
     "output_type": "stream",
     "text": [
      "  6%|▌         | 49/800 [05:15<40:40,  3.25s/it]"
     ]
    },
    {
     "name": "stdout",
     "output_type": "stream",
     "text": [
      "Completed processing F:\\UCF_Crimes\\UCF_Crimes\\Videos\\Training_Normal_Videos_Anomaly\\Normal_Videos071_x264.mp4\n"
     ]
    },
    {
     "name": "stderr",
     "output_type": "stream",
     "text": [
      "  6%|▋         | 50/800 [05:16<33:08,  2.65s/it]"
     ]
    },
    {
     "name": "stdout",
     "output_type": "stream",
     "text": [
      "Completed processing F:\\UCF_Crimes\\UCF_Crimes\\Videos\\Training_Normal_Videos_Anomaly\\Normal_Videos072_x264.mp4\n"
     ]
    },
    {
     "name": "stderr",
     "output_type": "stream",
     "text": [
      "  6%|▋         | 51/800 [05:18<30:34,  2.45s/it]"
     ]
    },
    {
     "name": "stdout",
     "output_type": "stream",
     "text": [
      "Completed processing F:\\UCF_Crimes\\UCF_Crimes\\Videos\\Training_Normal_Videos_Anomaly\\Normal_Videos073_x264.mp4\n"
     ]
    },
    {
     "name": "stderr",
     "output_type": "stream",
     "text": [
      "  6%|▋         | 52/800 [05:20<30:47,  2.47s/it]"
     ]
    },
    {
     "name": "stdout",
     "output_type": "stream",
     "text": [
      "Completed processing F:\\UCF_Crimes\\UCF_Crimes\\Videos\\Training_Normal_Videos_Anomaly\\Normal_Videos074_x264.mp4\n"
     ]
    },
    {
     "name": "stderr",
     "output_type": "stream",
     "text": [
      "  7%|▋         | 53/800 [05:25<37:53,  3.04s/it]"
     ]
    },
    {
     "name": "stdout",
     "output_type": "stream",
     "text": [
      "Completed processing F:\\UCF_Crimes\\UCF_Crimes\\Videos\\Training_Normal_Videos_Anomaly\\Normal_Videos075_x264.mp4\n"
     ]
    },
    {
     "name": "stderr",
     "output_type": "stream",
     "text": [
      "  7%|▋         | 54/800 [05:29<40:35,  3.26s/it]"
     ]
    },
    {
     "name": "stdout",
     "output_type": "stream",
     "text": [
      "Completed processing F:\\UCF_Crimes\\UCF_Crimes\\Videos\\Training_Normal_Videos_Anomaly\\Normal_Videos076_x264.mp4\n"
     ]
    },
    {
     "name": "stderr",
     "output_type": "stream",
     "text": [
      "  7%|▋         | 55/800 [05:32<40:41,  3.28s/it]"
     ]
    },
    {
     "name": "stdout",
     "output_type": "stream",
     "text": [
      "Completed processing F:\\UCF_Crimes\\UCF_Crimes\\Videos\\Training_Normal_Videos_Anomaly\\Normal_Videos077_x264.mp4\n"
     ]
    },
    {
     "name": "stderr",
     "output_type": "stream",
     "text": [
      "  7%|▋         | 56/800 [05:34<37:58,  3.06s/it]"
     ]
    },
    {
     "name": "stdout",
     "output_type": "stream",
     "text": [
      "Completed processing F:\\UCF_Crimes\\UCF_Crimes\\Videos\\Training_Normal_Videos_Anomaly\\Normal_Videos078_x264.mp4\n"
     ]
    },
    {
     "name": "stderr",
     "output_type": "stream",
     "text": [
      "  7%|▋         | 57/800 [05:36<33:39,  2.72s/it]"
     ]
    },
    {
     "name": "stdout",
     "output_type": "stream",
     "text": [
      "Completed processing F:\\UCF_Crimes\\UCF_Crimes\\Videos\\Training_Normal_Videos_Anomaly\\Normal_Videos079_x264.mp4\n"
     ]
    },
    {
     "name": "stderr",
     "output_type": "stream",
     "text": [
      "  7%|▋         | 58/800 [05:39<32:21,  2.62s/it]"
     ]
    },
    {
     "name": "stdout",
     "output_type": "stream",
     "text": [
      "Completed processing F:\\UCF_Crimes\\UCF_Crimes\\Videos\\Training_Normal_Videos_Anomaly\\Normal_Videos080_x264.mp4\n"
     ]
    },
    {
     "name": "stderr",
     "output_type": "stream",
     "text": [
      "  7%|▋         | 59/800 [05:40<28:53,  2.34s/it]"
     ]
    },
    {
     "name": "stdout",
     "output_type": "stream",
     "text": [
      "Completed processing F:\\UCF_Crimes\\UCF_Crimes\\Videos\\Training_Normal_Videos_Anomaly\\Normal_Videos081_x264.mp4\n"
     ]
    },
    {
     "name": "stderr",
     "output_type": "stream",
     "text": [
      "  8%|▊         | 60/800 [05:42<24:52,  2.02s/it]"
     ]
    },
    {
     "name": "stdout",
     "output_type": "stream",
     "text": [
      "Completed processing F:\\UCF_Crimes\\UCF_Crimes\\Videos\\Training_Normal_Videos_Anomaly\\Normal_Videos082_x264.mp4\n"
     ]
    },
    {
     "name": "stderr",
     "output_type": "stream",
     "text": [
      "  8%|▊         | 61/800 [05:42<20:13,  1.64s/it]"
     ]
    },
    {
     "name": "stdout",
     "output_type": "stream",
     "text": [
      "Completed processing F:\\UCF_Crimes\\UCF_Crimes\\Videos\\Training_Normal_Videos_Anomaly\\Normal_Videos083_x264.mp4\n"
     ]
    },
    {
     "name": "stderr",
     "output_type": "stream",
     "text": [
      "  8%|▊         | 62/800 [06:12<2:04:49, 10.15s/it]"
     ]
    },
    {
     "name": "stdout",
     "output_type": "stream",
     "text": [
      "Completed processing F:\\UCF_Crimes\\UCF_Crimes\\Videos\\Training_Normal_Videos_Anomaly\\Normal_Videos084_x264.mp4\n"
     ]
    },
    {
     "name": "stderr",
     "output_type": "stream",
     "text": [
      "  8%|▊         | 63/800 [06:17<1:44:28,  8.51s/it]"
     ]
    },
    {
     "name": "stdout",
     "output_type": "stream",
     "text": [
      "Completed processing F:\\UCF_Crimes\\UCF_Crimes\\Videos\\Training_Normal_Videos_Anomaly\\Normal_Videos085_x264.mp4\n"
     ]
    },
    {
     "name": "stderr",
     "output_type": "stream",
     "text": [
      "  8%|▊         | 64/800 [06:21<1:26:21,  7.04s/it]"
     ]
    },
    {
     "name": "stdout",
     "output_type": "stream",
     "text": [
      "Completed processing F:\\UCF_Crimes\\UCF_Crimes\\Videos\\Training_Normal_Videos_Anomaly\\Normal_Videos086_x264.mp4\n"
     ]
    },
    {
     "name": "stderr",
     "output_type": "stream",
     "text": [
      "  8%|▊         | 65/800 [07:53<6:38:06, 32.50s/it]"
     ]
    },
    {
     "name": "stdout",
     "output_type": "stream",
     "text": [
      "Completed processing F:\\UCF_Crimes\\UCF_Crimes\\Videos\\Training_Normal_Videos_Anomaly\\Normal_Videos087_x264.mp4\n"
     ]
    },
    {
     "name": "stderr",
     "output_type": "stream",
     "text": [
      "  8%|▊         | 66/800 [07:55<4:48:26, 23.58s/it]"
     ]
    },
    {
     "name": "stdout",
     "output_type": "stream",
     "text": [
      "Completed processing F:\\UCF_Crimes\\UCF_Crimes\\Videos\\Training_Normal_Videos_Anomaly\\Normal_Videos088_x264.mp4\n"
     ]
    },
    {
     "name": "stderr",
     "output_type": "stream",
     "text": [
      "  8%|▊         | 67/800 [08:18<4:46:04, 23.42s/it]"
     ]
    },
    {
     "name": "stdout",
     "output_type": "stream",
     "text": [
      "Completed processing F:\\UCF_Crimes\\UCF_Crimes\\Videos\\Training_Normal_Videos_Anomaly\\Normal_Videos089_x264.mp4\n"
     ]
    },
    {
     "name": "stderr",
     "output_type": "stream",
     "text": [
      "  8%|▊         | 68/800 [09:00<5:53:40, 28.99s/it]"
     ]
    },
    {
     "name": "stdout",
     "output_type": "stream",
     "text": [
      "Completed processing F:\\UCF_Crimes\\UCF_Crimes\\Videos\\Training_Normal_Videos_Anomaly\\Normal_Videos090_x264.mp4\n"
     ]
    },
    {
     "name": "stderr",
     "output_type": "stream",
     "text": [
      "  9%|▊         | 69/800 [09:22<5:25:01, 26.68s/it]"
     ]
    },
    {
     "name": "stdout",
     "output_type": "stream",
     "text": [
      "Completed processing F:\\UCF_Crimes\\UCF_Crimes\\Videos\\Training_Normal_Videos_Anomaly\\Normal_Videos091_x264.mp4\n"
     ]
    },
    {
     "name": "stderr",
     "output_type": "stream",
     "text": [
      "  9%|▉         | 70/800 [09:24<3:55:22, 19.35s/it]"
     ]
    },
    {
     "name": "stdout",
     "output_type": "stream",
     "text": [
      "Completed processing F:\\UCF_Crimes\\UCF_Crimes\\Videos\\Training_Normal_Videos_Anomaly\\Normal_Videos092_x264.mp4\n"
     ]
    },
    {
     "name": "stderr",
     "output_type": "stream",
     "text": [
      "  9%|▉         | 71/800 [09:26<2:50:38, 14.04s/it]"
     ]
    },
    {
     "name": "stdout",
     "output_type": "stream",
     "text": [
      "Completed processing F:\\UCF_Crimes\\UCF_Crimes\\Videos\\Training_Normal_Videos_Anomaly\\Normal_Videos093_x264.mp4\n"
     ]
    },
    {
     "name": "stderr",
     "output_type": "stream",
     "text": [
      "  9%|▉         | 72/800 [09:27<2:05:13, 10.32s/it]"
     ]
    },
    {
     "name": "stdout",
     "output_type": "stream",
     "text": [
      "Completed processing F:\\UCF_Crimes\\UCF_Crimes\\Videos\\Training_Normal_Videos_Anomaly\\Normal_Videos094_x264.mp4\n"
     ]
    },
    {
     "name": "stderr",
     "output_type": "stream",
     "text": [
      "  9%|▉         | 73/800 [09:29<1:33:11,  7.69s/it]"
     ]
    },
    {
     "name": "stdout",
     "output_type": "stream",
     "text": [
      "Completed processing F:\\UCF_Crimes\\UCF_Crimes\\Videos\\Training_Normal_Videos_Anomaly\\Normal_Videos095_x264.mp4\n"
     ]
    },
    {
     "name": "stderr",
     "output_type": "stream",
     "text": [
      "  9%|▉         | 74/800 [09:30<1:08:13,  5.64s/it]"
     ]
    },
    {
     "name": "stdout",
     "output_type": "stream",
     "text": [
      "Completed processing F:\\UCF_Crimes\\UCF_Crimes\\Videos\\Training_Normal_Videos_Anomaly\\Normal_Videos096_x264.mp4\n"
     ]
    },
    {
     "name": "stderr",
     "output_type": "stream",
     "text": [
      "  9%|▉         | 75/800 [09:35<1:07:02,  5.55s/it]"
     ]
    },
    {
     "name": "stdout",
     "output_type": "stream",
     "text": [
      "Completed processing F:\\UCF_Crimes\\UCF_Crimes\\Videos\\Training_Normal_Videos_Anomaly\\Normal_Videos097_x264.mp4\n"
     ]
    },
    {
     "name": "stderr",
     "output_type": "stream",
     "text": [
      " 10%|▉         | 76/800 [09:39<1:01:42,  5.11s/it]"
     ]
    },
    {
     "name": "stdout",
     "output_type": "stream",
     "text": [
      "Completed processing F:\\UCF_Crimes\\UCF_Crimes\\Videos\\Training_Normal_Videos_Anomaly\\Normal_Videos098_x264.mp4\n"
     ]
    },
    {
     "name": "stderr",
     "output_type": "stream",
     "text": [
      " 10%|▉         | 77/800 [09:42<52:13,  4.33s/it]  "
     ]
    },
    {
     "name": "stdout",
     "output_type": "stream",
     "text": [
      "Completed processing F:\\UCF_Crimes\\UCF_Crimes\\Videos\\Training_Normal_Videos_Anomaly\\Normal_Videos099_x264.mp4\n"
     ]
    },
    {
     "name": "stderr",
     "output_type": "stream",
     "text": [
      " 10%|▉         | 78/800 [09:43<42:19,  3.52s/it]"
     ]
    },
    {
     "name": "stdout",
     "output_type": "stream",
     "text": [
      "Completed processing F:\\UCF_Crimes\\UCF_Crimes\\Videos\\Training_Normal_Videos_Anomaly\\Normal_Videos101_x264.mp4\n"
     ]
    },
    {
     "name": "stderr",
     "output_type": "stream",
     "text": [
      " 10%|▉         | 79/800 [09:44<33:53,  2.82s/it]"
     ]
    },
    {
     "name": "stdout",
     "output_type": "stream",
     "text": [
      "Completed processing F:\\UCF_Crimes\\UCF_Crimes\\Videos\\Training_Normal_Videos_Anomaly\\Normal_Videos102_x264.mp4\n"
     ]
    },
    {
     "name": "stderr",
     "output_type": "stream",
     "text": [
      " 10%|█         | 80/800 [09:45<26:51,  2.24s/it]"
     ]
    },
    {
     "name": "stdout",
     "output_type": "stream",
     "text": [
      "Completed processing F:\\UCF_Crimes\\UCF_Crimes\\Videos\\Training_Normal_Videos_Anomaly\\Normal_Videos103_x264.mp4\n"
     ]
    },
    {
     "name": "stderr",
     "output_type": "stream",
     "text": [
      " 10%|█         | 81/800 [09:46<21:59,  1.83s/it]"
     ]
    },
    {
     "name": "stdout",
     "output_type": "stream",
     "text": [
      "Completed processing F:\\UCF_Crimes\\UCF_Crimes\\Videos\\Training_Normal_Videos_Anomaly\\Normal_Videos104_x264.mp4\n"
     ]
    },
    {
     "name": "stderr",
     "output_type": "stream",
     "text": [
      " 10%|█         | 82/800 [09:47<18:43,  1.56s/it]"
     ]
    },
    {
     "name": "stdout",
     "output_type": "stream",
     "text": [
      "Completed processing F:\\UCF_Crimes\\UCF_Crimes\\Videos\\Training_Normal_Videos_Anomaly\\Normal_Videos105_x264.mp4\n"
     ]
    },
    {
     "name": "stderr",
     "output_type": "stream",
     "text": [
      " 10%|█         | 83/800 [09:49<21:26,  1.79s/it]"
     ]
    },
    {
     "name": "stdout",
     "output_type": "stream",
     "text": [
      "Completed processing F:\\UCF_Crimes\\UCF_Crimes\\Videos\\Training_Normal_Videos_Anomaly\\Normal_Videos106_x264.mp4\n"
     ]
    },
    {
     "name": "stderr",
     "output_type": "stream",
     "text": [
      " 10%|█         | 84/800 [09:54<30:10,  2.53s/it]"
     ]
    },
    {
     "name": "stdout",
     "output_type": "stream",
     "text": [
      "Completed processing F:\\UCF_Crimes\\UCF_Crimes\\Videos\\Training_Normal_Videos_Anomaly\\Normal_Videos107_x264.mp4\n"
     ]
    },
    {
     "name": "stderr",
     "output_type": "stream",
     "text": [
      " 11%|█         | 85/800 [09:56<28:08,  2.36s/it]"
     ]
    },
    {
     "name": "stdout",
     "output_type": "stream",
     "text": [
      "Completed processing F:\\UCF_Crimes\\UCF_Crimes\\Videos\\Training_Normal_Videos_Anomaly\\Normal_Videos108_x264.mp4\n"
     ]
    },
    {
     "name": "stderr",
     "output_type": "stream",
     "text": [
      " 11%|█         | 86/800 [09:58<26:37,  2.24s/it]"
     ]
    },
    {
     "name": "stdout",
     "output_type": "stream",
     "text": [
      "Completed processing F:\\UCF_Crimes\\UCF_Crimes\\Videos\\Training_Normal_Videos_Anomaly\\Normal_Videos109_x264.mp4\n"
     ]
    },
    {
     "name": "stderr",
     "output_type": "stream",
     "text": [
      " 11%|█         | 87/800 [10:01<31:07,  2.62s/it]"
     ]
    },
    {
     "name": "stdout",
     "output_type": "stream",
     "text": [
      "Completed processing F:\\UCF_Crimes\\UCF_Crimes\\Videos\\Training_Normal_Videos_Anomaly\\Normal_Videos110_x264.mp4\n"
     ]
    },
    {
     "name": "stderr",
     "output_type": "stream",
     "text": [
      " 11%|█         | 88/800 [10:25<1:45:50,  8.92s/it]"
     ]
    },
    {
     "name": "stdout",
     "output_type": "stream",
     "text": [
      "Completed processing F:\\UCF_Crimes\\UCF_Crimes\\Videos\\Training_Normal_Videos_Anomaly\\Normal_Videos111_x264.mp4\n"
     ]
    },
    {
     "name": "stderr",
     "output_type": "stream",
     "text": [
      " 11%|█         | 89/800 [10:26<1:16:51,  6.49s/it]"
     ]
    },
    {
     "name": "stdout",
     "output_type": "stream",
     "text": [
      "Completed processing F:\\UCF_Crimes\\UCF_Crimes\\Videos\\Training_Normal_Videos_Anomaly\\Normal_Videos112_x264.mp4\n"
     ]
    },
    {
     "name": "stderr",
     "output_type": "stream",
     "text": [
      " 11%|█▏        | 90/800 [10:26<56:25,  4.77s/it]  "
     ]
    },
    {
     "name": "stdout",
     "output_type": "stream",
     "text": [
      "Completed processing F:\\UCF_Crimes\\UCF_Crimes\\Videos\\Training_Normal_Videos_Anomaly\\Normal_Videos113_x264.mp4\n"
     ]
    },
    {
     "name": "stderr",
     "output_type": "stream",
     "text": [
      " 11%|█▏        | 91/800 [10:28<45:58,  3.89s/it]"
     ]
    },
    {
     "name": "stdout",
     "output_type": "stream",
     "text": [
      "Completed processing F:\\UCF_Crimes\\UCF_Crimes\\Videos\\Training_Normal_Videos_Anomaly\\Normal_Videos114_x264.mp4\n"
     ]
    },
    {
     "name": "stderr",
     "output_type": "stream",
     "text": [
      " 12%|█▏        | 92/800 [10:29<34:03,  2.89s/it]"
     ]
    },
    {
     "name": "stdout",
     "output_type": "stream",
     "text": [
      "Completed processing F:\\UCF_Crimes\\UCF_Crimes\\Videos\\Training_Normal_Videos_Anomaly\\Normal_Videos115_x264.mp4\n"
     ]
    },
    {
     "name": "stderr",
     "output_type": "stream",
     "text": [
      " 12%|█▏        | 93/800 [10:34<41:43,  3.54s/it]"
     ]
    },
    {
     "name": "stdout",
     "output_type": "stream",
     "text": [
      "Completed processing F:\\UCF_Crimes\\UCF_Crimes\\Videos\\Training_Normal_Videos_Anomaly\\Normal_Videos116_x264.mp4\n"
     ]
    },
    {
     "name": "stderr",
     "output_type": "stream",
     "text": [
      " 12%|█▏        | 94/800 [10:35<33:49,  2.88s/it]"
     ]
    },
    {
     "name": "stdout",
     "output_type": "stream",
     "text": [
      "Completed processing F:\\UCF_Crimes\\UCF_Crimes\\Videos\\Training_Normal_Videos_Anomaly\\Normal_Videos117_x264.mp4\n"
     ]
    },
    {
     "name": "stderr",
     "output_type": "stream",
     "text": [
      " 12%|█▏        | 95/800 [10:36<28:00,  2.38s/it]"
     ]
    },
    {
     "name": "stdout",
     "output_type": "stream",
     "text": [
      "Completed processing F:\\UCF_Crimes\\UCF_Crimes\\Videos\\Training_Normal_Videos_Anomaly\\Normal_Videos118_x264.mp4\n"
     ]
    },
    {
     "name": "stderr",
     "output_type": "stream",
     "text": [
      " 12%|█▏        | 96/800 [10:40<32:31,  2.77s/it]"
     ]
    },
    {
     "name": "stdout",
     "output_type": "stream",
     "text": [
      "Completed processing F:\\UCF_Crimes\\UCF_Crimes\\Videos\\Training_Normal_Videos_Anomaly\\Normal_Videos119_x264.mp4\n"
     ]
    },
    {
     "name": "stderr",
     "output_type": "stream",
     "text": [
      " 12%|█▏        | 97/800 [10:42<29:26,  2.51s/it]"
     ]
    },
    {
     "name": "stdout",
     "output_type": "stream",
     "text": [
      "Completed processing F:\\UCF_Crimes\\UCF_Crimes\\Videos\\Training_Normal_Videos_Anomaly\\Normal_Videos120_x264.mp4\n"
     ]
    },
    {
     "name": "stderr",
     "output_type": "stream",
     "text": [
      " 12%|█▏        | 98/800 [10:43<25:24,  2.17s/it]"
     ]
    },
    {
     "name": "stdout",
     "output_type": "stream",
     "text": [
      "Completed processing F:\\UCF_Crimes\\UCF_Crimes\\Videos\\Training_Normal_Videos_Anomaly\\Normal_Videos121_x264.mp4\n"
     ]
    },
    {
     "name": "stderr",
     "output_type": "stream",
     "text": [
      " 12%|█▏        | 99/800 [10:46<25:45,  2.20s/it]"
     ]
    },
    {
     "name": "stdout",
     "output_type": "stream",
     "text": [
      "Completed processing F:\\UCF_Crimes\\UCF_Crimes\\Videos\\Training_Normal_Videos_Anomaly\\Normal_Videos122_x264.mp4\n"
     ]
    },
    {
     "name": "stderr",
     "output_type": "stream",
     "text": [
      " 12%|█▎        | 100/800 [11:12<1:51:47,  9.58s/it]"
     ]
    },
    {
     "name": "stdout",
     "output_type": "stream",
     "text": [
      "Completed processing F:\\UCF_Crimes\\UCF_Crimes\\Videos\\Training_Normal_Videos_Anomaly\\Normal_Videos123_x264.mp4\n"
     ]
    },
    {
     "name": "stderr",
     "output_type": "stream",
     "text": [
      " 13%|█▎        | 101/800 [11:14<1:23:50,  7.20s/it]"
     ]
    },
    {
     "name": "stdout",
     "output_type": "stream",
     "text": [
      "Completed processing F:\\UCF_Crimes\\UCF_Crimes\\Videos\\Training_Normal_Videos_Anomaly\\Normal_Videos124_x264.mp4\n"
     ]
    },
    {
     "name": "stderr",
     "output_type": "stream",
     "text": [
      " 13%|█▎        | 102/800 [11:18<1:10:58,  6.10s/it]"
     ]
    },
    {
     "name": "stdout",
     "output_type": "stream",
     "text": [
      "Completed processing F:\\UCF_Crimes\\UCF_Crimes\\Videos\\Training_Normal_Videos_Anomaly\\Normal_Videos125_x264.mp4\n"
     ]
    },
    {
     "name": "stderr",
     "output_type": "stream",
     "text": [
      " 13%|█▎        | 103/800 [11:21<1:00:17,  5.19s/it]"
     ]
    },
    {
     "name": "stdout",
     "output_type": "stream",
     "text": [
      "Completed processing F:\\UCF_Crimes\\UCF_Crimes\\Videos\\Training_Normal_Videos_Anomaly\\Normal_Videos126_x264.mp4\n"
     ]
    },
    {
     "name": "stderr",
     "output_type": "stream",
     "text": [
      " 13%|█▎        | 104/800 [11:22<47:45,  4.12s/it]  "
     ]
    },
    {
     "name": "stdout",
     "output_type": "stream",
     "text": [
      "Completed processing F:\\UCF_Crimes\\UCF_Crimes\\Videos\\Training_Normal_Videos_Anomaly\\Normal_Videos127_x264.mp4\n"
     ]
    },
    {
     "name": "stderr",
     "output_type": "stream",
     "text": [
      " 13%|█▎        | 105/800 [11:24<40:30,  3.50s/it]"
     ]
    },
    {
     "name": "stdout",
     "output_type": "stream",
     "text": [
      "Completed processing F:\\UCF_Crimes\\UCF_Crimes\\Videos\\Training_Normal_Videos_Anomaly\\Normal_Videos128_x264.mp4\n"
     ]
    },
    {
     "name": "stderr",
     "output_type": "stream",
     "text": [
      " 13%|█▎        | 106/800 [11:38<1:15:00,  6.49s/it]"
     ]
    },
    {
     "name": "stdout",
     "output_type": "stream",
     "text": [
      "Completed processing F:\\UCF_Crimes\\UCF_Crimes\\Videos\\Training_Normal_Videos_Anomaly\\Normal_Videos130_x264.mp4\n"
     ]
    },
    {
     "name": "stderr",
     "output_type": "stream",
     "text": [
      " 13%|█▎        | 107/800 [11:40<59:58,  5.19s/it]  "
     ]
    },
    {
     "name": "stdout",
     "output_type": "stream",
     "text": [
      "Completed processing F:\\UCF_Crimes\\UCF_Crimes\\Videos\\Training_Normal_Videos_Anomaly\\Normal_Videos131_x264.mp4\n"
     ]
    },
    {
     "name": "stderr",
     "output_type": "stream",
     "text": [
      " 14%|█▎        | 108/800 [11:43<53:28,  4.64s/it]"
     ]
    },
    {
     "name": "stdout",
     "output_type": "stream",
     "text": [
      "Completed processing F:\\UCF_Crimes\\UCF_Crimes\\Videos\\Training_Normal_Videos_Anomaly\\Normal_Videos132_x264.mp4\n"
     ]
    },
    {
     "name": "stderr",
     "output_type": "stream",
     "text": [
      " 14%|█▎        | 109/800 [11:48<54:23,  4.72s/it]"
     ]
    },
    {
     "name": "stdout",
     "output_type": "stream",
     "text": [
      "Completed processing F:\\UCF_Crimes\\UCF_Crimes\\Videos\\Training_Normal_Videos_Anomaly\\Normal_Videos133_x264.mp4\n"
     ]
    },
    {
     "name": "stderr",
     "output_type": "stream",
     "text": [
      " 14%|█▍        | 110/800 [11:53<54:04,  4.70s/it]"
     ]
    },
    {
     "name": "stdout",
     "output_type": "stream",
     "text": [
      "Completed processing F:\\UCF_Crimes\\UCF_Crimes\\Videos\\Training_Normal_Videos_Anomaly\\Normal_Videos134_x264.mp4\n"
     ]
    },
    {
     "name": "stderr",
     "output_type": "stream",
     "text": [
      " 14%|█▍        | 111/800 [11:55<44:12,  3.85s/it]"
     ]
    },
    {
     "name": "stdout",
     "output_type": "stream",
     "text": [
      "Completed processing F:\\UCF_Crimes\\UCF_Crimes\\Videos\\Training_Normal_Videos_Anomaly\\Normal_Videos135_x264.mp4\n"
     ]
    },
    {
     "name": "stderr",
     "output_type": "stream",
     "text": [
      " 14%|█▍        | 112/800 [13:42<6:41:11, 34.99s/it]"
     ]
    },
    {
     "name": "stdout",
     "output_type": "stream",
     "text": [
      "Completed processing F:\\UCF_Crimes\\UCF_Crimes\\Videos\\Training_Normal_Videos_Anomaly\\Normal_Videos136_x264.mp4\n"
     ]
    },
    {
     "name": "stderr",
     "output_type": "stream",
     "text": [
      " 14%|█▍        | 113/800 [15:19<10:12:14, 53.47s/it]"
     ]
    },
    {
     "name": "stdout",
     "output_type": "stream",
     "text": [
      "Completed processing F:\\UCF_Crimes\\UCF_Crimes\\Videos\\Training_Normal_Videos_Anomaly\\Normal_Videos137_x264.mp4\n"
     ]
    },
    {
     "name": "stderr",
     "output_type": "stream",
     "text": [
      " 14%|█▍        | 114/800 [17:38<15:03:59, 79.07s/it]"
     ]
    },
    {
     "name": "stdout",
     "output_type": "stream",
     "text": [
      "Completed processing F:\\UCF_Crimes\\UCF_Crimes\\Videos\\Training_Normal_Videos_Anomaly\\Normal_Videos138_x264.mp4\n"
     ]
    },
    {
     "name": "stderr",
     "output_type": "stream",
     "text": [
      " 14%|█▍        | 115/800 [18:06<12:07:03, 63.68s/it]"
     ]
    },
    {
     "name": "stdout",
     "output_type": "stream",
     "text": [
      "Completed processing F:\\UCF_Crimes\\UCF_Crimes\\Videos\\Training_Normal_Videos_Anomaly\\Normal_Videos139_x264.mp4\n"
     ]
    },
    {
     "name": "stderr",
     "output_type": "stream",
     "text": [
      " 14%|█▍        | 116/800 [18:08<8:35:04, 45.18s/it] "
     ]
    },
    {
     "name": "stdout",
     "output_type": "stream",
     "text": [
      "Completed processing F:\\UCF_Crimes\\UCF_Crimes\\Videos\\Training_Normal_Videos_Anomaly\\Normal_Videos140_x264.mp4\n"
     ]
    },
    {
     "name": "stderr",
     "output_type": "stream",
     "text": [
      " 15%|█▍        | 117/800 [18:20<6:40:52, 35.22s/it]"
     ]
    },
    {
     "name": "stdout",
     "output_type": "stream",
     "text": [
      "Completed processing F:\\UCF_Crimes\\UCF_Crimes\\Videos\\Training_Normal_Videos_Anomaly\\Normal_Videos141_x264.mp4\n"
     ]
    },
    {
     "name": "stderr",
     "output_type": "stream",
     "text": [
      " 15%|█▍        | 118/800 [18:22<4:48:41, 25.40s/it]"
     ]
    },
    {
     "name": "stdout",
     "output_type": "stream",
     "text": [
      "Completed processing F:\\UCF_Crimes\\UCF_Crimes\\Videos\\Training_Normal_Videos_Anomaly\\Normal_Videos142_x264.mp4\n"
     ]
    },
    {
     "name": "stderr",
     "output_type": "stream",
     "text": [
      " 15%|█▍        | 119/800 [18:24<3:29:01, 18.42s/it]"
     ]
    },
    {
     "name": "stdout",
     "output_type": "stream",
     "text": [
      "Completed processing F:\\UCF_Crimes\\UCF_Crimes\\Videos\\Training_Normal_Videos_Anomaly\\Normal_Videos143_x264.mp4\n"
     ]
    },
    {
     "name": "stderr",
     "output_type": "stream",
     "text": [
      " 15%|█▌        | 120/800 [18:56<4:15:25, 22.54s/it]"
     ]
    },
    {
     "name": "stdout",
     "output_type": "stream",
     "text": [
      "Completed processing F:\\UCF_Crimes\\UCF_Crimes\\Videos\\Training_Normal_Videos_Anomaly\\Normal_Videos144_x264.mp4\n"
     ]
    },
    {
     "name": "stderr",
     "output_type": "stream",
     "text": [
      " 15%|█▌        | 121/800 [19:01<3:13:36, 17.11s/it]"
     ]
    },
    {
     "name": "stdout",
     "output_type": "stream",
     "text": [
      "Completed processing F:\\UCF_Crimes\\UCF_Crimes\\Videos\\Training_Normal_Videos_Anomaly\\Normal_Videos145_x264.mp4\n"
     ]
    },
    {
     "name": "stderr",
     "output_type": "stream",
     "text": [
      " 15%|█▌        | 122/800 [19:02<2:18:18, 12.24s/it]"
     ]
    },
    {
     "name": "stdout",
     "output_type": "stream",
     "text": [
      "Completed processing F:\\UCF_Crimes\\UCF_Crimes\\Videos\\Training_Normal_Videos_Anomaly\\Normal_Videos146_x264.mp4\n"
     ]
    },
    {
     "name": "stderr",
     "output_type": "stream",
     "text": [
      " 15%|█▌        | 123/800 [19:02<1:39:05,  8.78s/it]"
     ]
    },
    {
     "name": "stdout",
     "output_type": "stream",
     "text": [
      "Completed processing F:\\UCF_Crimes\\UCF_Crimes\\Videos\\Training_Normal_Videos_Anomaly\\Normal_Videos147_x264.mp4\n"
     ]
    },
    {
     "name": "stderr",
     "output_type": "stream",
     "text": [
      " 16%|█▌        | 124/800 [19:03<1:11:37,  6.36s/it]"
     ]
    },
    {
     "name": "stdout",
     "output_type": "stream",
     "text": [
      "Completed processing F:\\UCF_Crimes\\UCF_Crimes\\Videos\\Training_Normal_Videos_Anomaly\\Normal_Videos148_x264.mp4\n"
     ]
    },
    {
     "name": "stderr",
     "output_type": "stream",
     "text": [
      " 16%|█▌        | 125/800 [19:04<53:27,  4.75s/it]  "
     ]
    },
    {
     "name": "stdout",
     "output_type": "stream",
     "text": [
      "Completed processing F:\\UCF_Crimes\\UCF_Crimes\\Videos\\Training_Normal_Videos_Anomaly\\Normal_Videos149_x264.mp4\n"
     ]
    },
    {
     "name": "stderr",
     "output_type": "stream",
     "text": [
      " 16%|█▌        | 126/800 [19:11<59:23,  5.29s/it]"
     ]
    },
    {
     "name": "stdout",
     "output_type": "stream",
     "text": [
      "Completed processing F:\\UCF_Crimes\\UCF_Crimes\\Videos\\Training_Normal_Videos_Anomaly\\Normal_Videos151_x264.mp4\n"
     ]
    },
    {
     "name": "stderr",
     "output_type": "stream",
     "text": [
      " 16%|█▌        | 127/800 [19:19<1:08:35,  6.12s/it]"
     ]
    },
    {
     "name": "stdout",
     "output_type": "stream",
     "text": [
      "Completed processing F:\\UCF_Crimes\\UCF_Crimes\\Videos\\Training_Normal_Videos_Anomaly\\Normal_Videos152_x264.mp4\n"
     ]
    },
    {
     "name": "stderr",
     "output_type": "stream",
     "text": [
      " 16%|█▌        | 128/800 [19:27<1:14:52,  6.68s/it]"
     ]
    },
    {
     "name": "stdout",
     "output_type": "stream",
     "text": [
      "Completed processing F:\\UCF_Crimes\\UCF_Crimes\\Videos\\Training_Normal_Videos_Anomaly\\Normal_Videos153_x264.mp4\n"
     ]
    },
    {
     "name": "stderr",
     "output_type": "stream",
     "text": [
      " 16%|█▌        | 129/800 [19:28<55:18,  4.95s/it]  "
     ]
    },
    {
     "name": "stdout",
     "output_type": "stream",
     "text": [
      "Completed processing F:\\UCF_Crimes\\UCF_Crimes\\Videos\\Training_Normal_Videos_Anomaly\\Normal_Videos154_x264.mp4\n"
     ]
    },
    {
     "name": "stderr",
     "output_type": "stream",
     "text": [
      " 16%|█▋        | 130/800 [19:28<39:57,  3.58s/it]"
     ]
    },
    {
     "name": "stdout",
     "output_type": "stream",
     "text": [
      "Completed processing F:\\UCF_Crimes\\UCF_Crimes\\Videos\\Training_Normal_Videos_Anomaly\\Normal_Videos155_x264.mp4\n"
     ]
    },
    {
     "name": "stderr",
     "output_type": "stream",
     "text": [
      " 16%|█▋        | 131/800 [19:29<30:48,  2.76s/it]"
     ]
    },
    {
     "name": "stdout",
     "output_type": "stream",
     "text": [
      "Completed processing F:\\UCF_Crimes\\UCF_Crimes\\Videos\\Training_Normal_Videos_Anomaly\\Normal_Videos156_x264.mp4\n"
     ]
    },
    {
     "name": "stderr",
     "output_type": "stream",
     "text": [
      " 16%|█▋        | 132/800 [19:29<22:45,  2.04s/it]"
     ]
    },
    {
     "name": "stdout",
     "output_type": "stream",
     "text": [
      "Completed processing F:\\UCF_Crimes\\UCF_Crimes\\Videos\\Training_Normal_Videos_Anomaly\\Normal_Videos157_x264.mp4\n"
     ]
    },
    {
     "name": "stderr",
     "output_type": "stream",
     "text": [
      " 17%|█▋        | 133/800 [19:30<18:54,  1.70s/it]"
     ]
    },
    {
     "name": "stdout",
     "output_type": "stream",
     "text": [
      "Completed processing F:\\UCF_Crimes\\UCF_Crimes\\Videos\\Training_Normal_Videos_Anomaly\\Normal_Videos158_x264.mp4\n"
     ]
    },
    {
     "name": "stderr",
     "output_type": "stream",
     "text": [
      " 17%|█▋        | 134/800 [19:31<17:38,  1.59s/it]"
     ]
    },
    {
     "name": "stdout",
     "output_type": "stream",
     "text": [
      "Completed processing F:\\UCF_Crimes\\UCF_Crimes\\Videos\\Training_Normal_Videos_Anomaly\\Normal_Videos159_x264.mp4\n"
     ]
    },
    {
     "name": "stderr",
     "output_type": "stream",
     "text": [
      " 17%|█▋        | 135/800 [19:36<27:25,  2.47s/it]"
     ]
    },
    {
     "name": "stdout",
     "output_type": "stream",
     "text": [
      "Completed processing F:\\UCF_Crimes\\UCF_Crimes\\Videos\\Training_Normal_Videos_Anomaly\\Normal_Videos160_x264.mp4\n"
     ]
    },
    {
     "name": "stderr",
     "output_type": "stream",
     "text": [
      " 17%|█▋        | 136/800 [19:42<41:06,  3.71s/it]"
     ]
    },
    {
     "name": "stdout",
     "output_type": "stream",
     "text": [
      "Completed processing F:\\UCF_Crimes\\UCF_Crimes\\Videos\\Training_Normal_Videos_Anomaly\\Normal_Videos161_x264.mp4\n"
     ]
    },
    {
     "name": "stderr",
     "output_type": "stream",
     "text": [
      " 17%|█▋        | 137/800 [19:44<32:44,  2.96s/it]"
     ]
    },
    {
     "name": "stdout",
     "output_type": "stream",
     "text": [
      "Completed processing F:\\UCF_Crimes\\UCF_Crimes\\Videos\\Training_Normal_Videos_Anomaly\\Normal_Videos162_x264.mp4\n"
     ]
    },
    {
     "name": "stderr",
     "output_type": "stream",
     "text": [
      " 17%|█▋        | 138/800 [19:47<32:54,  2.98s/it]"
     ]
    },
    {
     "name": "stdout",
     "output_type": "stream",
     "text": [
      "Completed processing F:\\UCF_Crimes\\UCF_Crimes\\Videos\\Training_Normal_Videos_Anomaly\\Normal_Videos163_x264.mp4\n"
     ]
    },
    {
     "name": "stderr",
     "output_type": "stream",
     "text": [
      " 17%|█▋        | 139/800 [19:58<1:00:56,  5.53s/it]"
     ]
    },
    {
     "name": "stdout",
     "output_type": "stream",
     "text": [
      "Completed processing F:\\UCF_Crimes\\UCF_Crimes\\Videos\\Training_Normal_Videos_Anomaly\\Normal_Videos164_x264.mp4\n"
     ]
    },
    {
     "name": "stderr",
     "output_type": "stream",
     "text": [
      " 18%|█▊        | 140/800 [19:59<44:24,  4.04s/it]  "
     ]
    },
    {
     "name": "stdout",
     "output_type": "stream",
     "text": [
      "Completed processing F:\\UCF_Crimes\\UCF_Crimes\\Videos\\Training_Normal_Videos_Anomaly\\Normal_Videos165_x264.mp4\n"
     ]
    },
    {
     "name": "stderr",
     "output_type": "stream",
     "text": [
      " 18%|█▊        | 141/800 [20:00<35:56,  3.27s/it]"
     ]
    },
    {
     "name": "stdout",
     "output_type": "stream",
     "text": [
      "Completed processing F:\\UCF_Crimes\\UCF_Crimes\\Videos\\Training_Normal_Videos_Anomaly\\Normal_Videos166_x264.mp4\n"
     ]
    },
    {
     "name": "stderr",
     "output_type": "stream",
     "text": [
      " 18%|█▊        | 142/800 [20:02<29:54,  2.73s/it]"
     ]
    },
    {
     "name": "stdout",
     "output_type": "stream",
     "text": [
      "Completed processing F:\\UCF_Crimes\\UCF_Crimes\\Videos\\Training_Normal_Videos_Anomaly\\Normal_Videos167_x264.mp4\n"
     ]
    },
    {
     "name": "stderr",
     "output_type": "stream",
     "text": [
      " 18%|█▊        | 143/800 [20:04<27:12,  2.49s/it]"
     ]
    },
    {
     "name": "stdout",
     "output_type": "stream",
     "text": [
      "Completed processing F:\\UCF_Crimes\\UCF_Crimes\\Videos\\Training_Normal_Videos_Anomaly\\Normal_Videos169_x264.mp4\n"
     ]
    },
    {
     "name": "stderr",
     "output_type": "stream",
     "text": [
      " 18%|█▊        | 144/800 [20:05<22:47,  2.08s/it]"
     ]
    },
    {
     "name": "stdout",
     "output_type": "stream",
     "text": [
      "Completed processing F:\\UCF_Crimes\\UCF_Crimes\\Videos\\Training_Normal_Videos_Anomaly\\Normal_Videos170_x264.mp4\n"
     ]
    },
    {
     "name": "stderr",
     "output_type": "stream",
     "text": [
      " 18%|█▊        | 145/800 [20:41<2:14:17, 12.30s/it]"
     ]
    },
    {
     "name": "stdout",
     "output_type": "stream",
     "text": [
      "Completed processing F:\\UCF_Crimes\\UCF_Crimes\\Videos\\Training_Normal_Videos_Anomaly\\Normal_Videos171_x264.mp4\n"
     ]
    },
    {
     "name": "stderr",
     "output_type": "stream",
     "text": [
      " 18%|█▊        | 146/800 [20:54<2:16:57, 12.56s/it]"
     ]
    },
    {
     "name": "stdout",
     "output_type": "stream",
     "text": [
      "Completed processing F:\\UCF_Crimes\\UCF_Crimes\\Videos\\Training_Normal_Videos_Anomaly\\Normal_Videos172_x264.mp4\n"
     ]
    },
    {
     "name": "stderr",
     "output_type": "stream",
     "text": [
      " 18%|█▊        | 147/800 [20:55<1:38:15,  9.03s/it]"
     ]
    },
    {
     "name": "stdout",
     "output_type": "stream",
     "text": [
      "Completed processing F:\\UCF_Crimes\\UCF_Crimes\\Videos\\Training_Normal_Videos_Anomaly\\Normal_Videos173_x264.mp4\n"
     ]
    },
    {
     "name": "stderr",
     "output_type": "stream",
     "text": [
      " 18%|█▊        | 148/800 [20:56<1:12:56,  6.71s/it]"
     ]
    },
    {
     "name": "stdout",
     "output_type": "stream",
     "text": [
      "Completed processing F:\\UCF_Crimes\\UCF_Crimes\\Videos\\Training_Normal_Videos_Anomaly\\Normal_Videos174_x264.mp4\n"
     ]
    },
    {
     "name": "stderr",
     "output_type": "stream",
     "text": [
      " 19%|█▊        | 149/800 [21:01<1:06:02,  6.09s/it]"
     ]
    },
    {
     "name": "stdout",
     "output_type": "stream",
     "text": [
      "Completed processing F:\\UCF_Crimes\\UCF_Crimes\\Videos\\Training_Normal_Videos_Anomaly\\Normal_Videos176_x264.mp4\n"
     ]
    },
    {
     "name": "stderr",
     "output_type": "stream",
     "text": [
      " 19%|█▉        | 150/800 [21:13<1:25:16,  7.87s/it]"
     ]
    },
    {
     "name": "stdout",
     "output_type": "stream",
     "text": [
      "Completed processing F:\\UCF_Crimes\\UCF_Crimes\\Videos\\Training_Normal_Videos_Anomaly\\Normal_Videos177_x264.mp4\n"
     ]
    },
    {
     "name": "stderr",
     "output_type": "stream",
     "text": [
      " 19%|█▉        | 151/800 [21:14<1:03:44,  5.89s/it]"
     ]
    },
    {
     "name": "stdout",
     "output_type": "stream",
     "text": [
      "Completed processing F:\\UCF_Crimes\\UCF_Crimes\\Videos\\Training_Normal_Videos_Anomaly\\Normal_Videos178_x264.mp4\n"
     ]
    },
    {
     "name": "stderr",
     "output_type": "stream",
     "text": [
      " 19%|█▉        | 152/800 [21:19<1:00:17,  5.58s/it]"
     ]
    },
    {
     "name": "stdout",
     "output_type": "stream",
     "text": [
      "Completed processing F:\\UCF_Crimes\\UCF_Crimes\\Videos\\Training_Normal_Videos_Anomaly\\Normal_Videos179_x264.mp4\n"
     ]
    },
    {
     "name": "stderr",
     "output_type": "stream",
     "text": [
      " 19%|█▉        | 153/800 [21:40<1:50:31, 10.25s/it]"
     ]
    },
    {
     "name": "stdout",
     "output_type": "stream",
     "text": [
      "Completed processing F:\\UCF_Crimes\\UCF_Crimes\\Videos\\Training_Normal_Videos_Anomaly\\Normal_Videos180_x264.mp4\n"
     ]
    },
    {
     "name": "stderr",
     "output_type": "stream",
     "text": [
      " 19%|█▉        | 154/800 [21:53<1:59:05, 11.06s/it]"
     ]
    },
    {
     "name": "stdout",
     "output_type": "stream",
     "text": [
      "Completed processing F:\\UCF_Crimes\\UCF_Crimes\\Videos\\Training_Normal_Videos_Anomaly\\Normal_Videos181_x264.mp4\n"
     ]
    },
    {
     "name": "stderr",
     "output_type": "stream",
     "text": [
      " 19%|█▉        | 155/800 [21:55<1:29:23,  8.32s/it]"
     ]
    },
    {
     "name": "stdout",
     "output_type": "stream",
     "text": [
      "Completed processing F:\\UCF_Crimes\\UCF_Crimes\\Videos\\Training_Normal_Videos_Anomaly\\Normal_Videos183_x264.mp4\n"
     ]
    },
    {
     "name": "stderr",
     "output_type": "stream",
     "text": [
      " 20%|█▉        | 156/800 [21:57<1:09:45,  6.50s/it]"
     ]
    },
    {
     "name": "stdout",
     "output_type": "stream",
     "text": [
      "Completed processing F:\\UCF_Crimes\\UCF_Crimes\\Videos\\Training_Normal_Videos_Anomaly\\Normal_Videos184_x264.mp4\n"
     ]
    },
    {
     "name": "stderr",
     "output_type": "stream",
     "text": [
      " 20%|█▉        | 157/800 [22:05<1:15:16,  7.02s/it]"
     ]
    },
    {
     "name": "stdout",
     "output_type": "stream",
     "text": [
      "Completed processing F:\\UCF_Crimes\\UCF_Crimes\\Videos\\Training_Normal_Videos_Anomaly\\Normal_Videos185_x264.mp4\n"
     ]
    },
    {
     "name": "stderr",
     "output_type": "stream",
     "text": [
      " 20%|█▉        | 158/800 [22:13<1:17:47,  7.27s/it]"
     ]
    },
    {
     "name": "stdout",
     "output_type": "stream",
     "text": [
      "Completed processing F:\\UCF_Crimes\\UCF_Crimes\\Videos\\Training_Normal_Videos_Anomaly\\Normal_Videos186_x264.mp4\n"
     ]
    },
    {
     "name": "stderr",
     "output_type": "stream",
     "text": [
      " 20%|█▉        | 159/800 [22:22<1:22:06,  7.69s/it]"
     ]
    },
    {
     "name": "stdout",
     "output_type": "stream",
     "text": [
      "Completed processing F:\\UCF_Crimes\\UCF_Crimes\\Videos\\Training_Normal_Videos_Anomaly\\Normal_Videos187_x264.mp4\n"
     ]
    },
    {
     "name": "stderr",
     "output_type": "stream",
     "text": [
      " 20%|██        | 160/800 [22:32<1:30:31,  8.49s/it]"
     ]
    },
    {
     "name": "stdout",
     "output_type": "stream",
     "text": [
      "Completed processing F:\\UCF_Crimes\\UCF_Crimes\\Videos\\Training_Normal_Videos_Anomaly\\Normal_Videos188_x264.mp4\n"
     ]
    },
    {
     "name": "stderr",
     "output_type": "stream",
     "text": [
      " 20%|██        | 161/800 [22:36<1:14:48,  7.02s/it]"
     ]
    },
    {
     "name": "stdout",
     "output_type": "stream",
     "text": [
      "Completed processing F:\\UCF_Crimes\\UCF_Crimes\\Videos\\Training_Normal_Videos_Anomaly\\Normal_Videos190_x264.mp4\n"
     ]
    },
    {
     "name": "stderr",
     "output_type": "stream",
     "text": [
      " 20%|██        | 162/800 [22:40<1:06:36,  6.26s/it]"
     ]
    },
    {
     "name": "stdout",
     "output_type": "stream",
     "text": [
      "Completed processing F:\\UCF_Crimes\\UCF_Crimes\\Videos\\Training_Normal_Videos_Anomaly\\Normal_Videos191_x264.mp4\n"
     ]
    },
    {
     "name": "stderr",
     "output_type": "stream",
     "text": [
      " 20%|██        | 163/800 [22:44<58:37,  5.52s/it]  "
     ]
    },
    {
     "name": "stdout",
     "output_type": "stream",
     "text": [
      "Completed processing F:\\UCF_Crimes\\UCF_Crimes\\Videos\\Training_Normal_Videos_Anomaly\\Normal_Videos192_x264.mp4\n"
     ]
    },
    {
     "name": "stderr",
     "output_type": "stream",
     "text": [
      " 20%|██        | 164/800 [22:48<51:37,  4.87s/it]"
     ]
    },
    {
     "name": "stdout",
     "output_type": "stream",
     "text": [
      "Completed processing F:\\UCF_Crimes\\UCF_Crimes\\Videos\\Training_Normal_Videos_Anomaly\\Normal_Videos193_x264.mp4\n"
     ]
    },
    {
     "name": "stderr",
     "output_type": "stream",
     "text": [
      " 21%|██        | 165/800 [23:01<1:19:30,  7.51s/it]"
     ]
    },
    {
     "name": "stdout",
     "output_type": "stream",
     "text": [
      "Completed processing F:\\UCF_Crimes\\UCF_Crimes\\Videos\\Training_Normal_Videos_Anomaly\\Normal_Videos194_x264.mp4\n"
     ]
    },
    {
     "name": "stderr",
     "output_type": "stream",
     "text": [
      " 21%|██        | 166/800 [23:06<1:10:46,  6.70s/it]"
     ]
    },
    {
     "name": "stdout",
     "output_type": "stream",
     "text": [
      "Completed processing F:\\UCF_Crimes\\UCF_Crimes\\Videos\\Training_Normal_Videos_Anomaly\\Normal_Videos195_x264.mp4\n"
     ]
    },
    {
     "name": "stderr",
     "output_type": "stream",
     "text": [
      " 21%|██        | 167/800 [23:09<59:11,  5.61s/it]  "
     ]
    },
    {
     "name": "stdout",
     "output_type": "stream",
     "text": [
      "Completed processing F:\\UCF_Crimes\\UCF_Crimes\\Videos\\Training_Normal_Videos_Anomaly\\Normal_Videos197_x264.mp4\n"
     ]
    },
    {
     "name": "stderr",
     "output_type": "stream",
     "text": [
      " 21%|██        | 168/800 [23:11<48:16,  4.58s/it]"
     ]
    },
    {
     "name": "stdout",
     "output_type": "stream",
     "text": [
      "Completed processing F:\\UCF_Crimes\\UCF_Crimes\\Videos\\Training_Normal_Videos_Anomaly\\Normal_Videos198_x264.mp4\n"
     ]
    },
    {
     "name": "stderr",
     "output_type": "stream",
     "text": [
      " 21%|██        | 169/800 [23:18<53:24,  5.08s/it]"
     ]
    },
    {
     "name": "stdout",
     "output_type": "stream",
     "text": [
      "Completed processing F:\\UCF_Crimes\\UCF_Crimes\\Videos\\Training_Normal_Videos_Anomaly\\Normal_Videos199_x264.mp4\n"
     ]
    },
    {
     "name": "stderr",
     "output_type": "stream",
     "text": [
      " 21%|██▏       | 170/800 [23:22<51:31,  4.91s/it]"
     ]
    },
    {
     "name": "stdout",
     "output_type": "stream",
     "text": [
      "Completed processing F:\\UCF_Crimes\\UCF_Crimes\\Videos\\Training_Normal_Videos_Anomaly\\Normal_Videos200_x264.mp4\n"
     ]
    },
    {
     "name": "stderr",
     "output_type": "stream",
     "text": [
      " 21%|██▏       | 171/800 [23:25<44:52,  4.28s/it]"
     ]
    },
    {
     "name": "stdout",
     "output_type": "stream",
     "text": [
      "Completed processing F:\\UCF_Crimes\\UCF_Crimes\\Videos\\Training_Normal_Videos_Anomaly\\Normal_Videos201_x264.mp4\n"
     ]
    },
    {
     "name": "stderr",
     "output_type": "stream",
     "text": [
      " 22%|██▏       | 172/800 [23:27<38:18,  3.66s/it]"
     ]
    },
    {
     "name": "stdout",
     "output_type": "stream",
     "text": [
      "Completed processing F:\\UCF_Crimes\\UCF_Crimes\\Videos\\Training_Normal_Videos_Anomaly\\Normal_Videos202_x264.mp4\n"
     ]
    },
    {
     "name": "stderr",
     "output_type": "stream",
     "text": [
      " 22%|██▏       | 173/800 [23:28<29:09,  2.79s/it]"
     ]
    },
    {
     "name": "stdout",
     "output_type": "stream",
     "text": [
      "Completed processing F:\\UCF_Crimes\\UCF_Crimes\\Videos\\Training_Normal_Videos_Anomaly\\Normal_Videos204_x264.mp4\n"
     ]
    },
    {
     "name": "stderr",
     "output_type": "stream",
     "text": [
      " 22%|██▏       | 174/800 [23:35<42:15,  4.05s/it]"
     ]
    },
    {
     "name": "stdout",
     "output_type": "stream",
     "text": [
      "Completed processing F:\\UCF_Crimes\\UCF_Crimes\\Videos\\Training_Normal_Videos_Anomaly\\Normal_Videos205_x264.mp4\n"
     ]
    },
    {
     "name": "stderr",
     "output_type": "stream",
     "text": [
      " 22%|██▏       | 175/800 [23:44<56:36,  5.43s/it]"
     ]
    },
    {
     "name": "stdout",
     "output_type": "stream",
     "text": [
      "Completed processing F:\\UCF_Crimes\\UCF_Crimes\\Videos\\Training_Normal_Videos_Anomaly\\Normal_Videos206_x264.mp4\n"
     ]
    },
    {
     "name": "stderr",
     "output_type": "stream",
     "text": [
      " 22%|██▏       | 176/800 [23:46<47:09,  4.53s/it]"
     ]
    },
    {
     "name": "stdout",
     "output_type": "stream",
     "text": [
      "Completed processing F:\\UCF_Crimes\\UCF_Crimes\\Videos\\Training_Normal_Videos_Anomaly\\Normal_Videos207_x264.mp4\n"
     ]
    },
    {
     "name": "stderr",
     "output_type": "stream",
     "text": [
      " 22%|██▏       | 177/800 [23:48<40:43,  3.92s/it]"
     ]
    },
    {
     "name": "stdout",
     "output_type": "stream",
     "text": [
      "Completed processing F:\\UCF_Crimes\\UCF_Crimes\\Videos\\Training_Normal_Videos_Anomaly\\Normal_Videos208_x264.mp4\n"
     ]
    },
    {
     "name": "stderr",
     "output_type": "stream",
     "text": [
      " 22%|██▏       | 178/800 [23:49<30:28,  2.94s/it]"
     ]
    },
    {
     "name": "stdout",
     "output_type": "stream",
     "text": [
      "Completed processing F:\\UCF_Crimes\\UCF_Crimes\\Videos\\Training_Normal_Videos_Anomaly\\Normal_Videos209_x264.mp4\n"
     ]
    },
    {
     "name": "stderr",
     "output_type": "stream",
     "text": [
      " 22%|██▏       | 179/800 [23:57<45:48,  4.43s/it]"
     ]
    },
    {
     "name": "stdout",
     "output_type": "stream",
     "text": [
      "Completed processing F:\\UCF_Crimes\\UCF_Crimes\\Videos\\Training_Normal_Videos_Anomaly\\Normal_Videos211_x264.mp4\n"
     ]
    },
    {
     "name": "stderr",
     "output_type": "stream",
     "text": [
      " 22%|██▎       | 180/800 [24:11<1:16:46,  7.43s/it]"
     ]
    },
    {
     "name": "stdout",
     "output_type": "stream",
     "text": [
      "Completed processing F:\\UCF_Crimes\\UCF_Crimes\\Videos\\Training_Normal_Videos_Anomaly\\Normal_Videos212_x264.mp4\n"
     ]
    },
    {
     "name": "stderr",
     "output_type": "stream",
     "text": [
      " 23%|██▎       | 181/800 [24:13<59:05,  5.73s/it]  "
     ]
    },
    {
     "name": "stdout",
     "output_type": "stream",
     "text": [
      "Completed processing F:\\UCF_Crimes\\UCF_Crimes\\Videos\\Training_Normal_Videos_Anomaly\\Normal_Videos213_x264.mp4\n"
     ]
    },
    {
     "name": "stderr",
     "output_type": "stream",
     "text": [
      " 23%|██▎       | 182/800 [24:24<1:13:57,  7.18s/it]"
     ]
    },
    {
     "name": "stdout",
     "output_type": "stream",
     "text": [
      "Completed processing F:\\UCF_Crimes\\UCF_Crimes\\Videos\\Training_Normal_Videos_Anomaly\\Normal_Videos214_x264.mp4\n"
     ]
    },
    {
     "name": "stderr",
     "output_type": "stream",
     "text": [
      " 23%|██▎       | 183/800 [24:25<55:20,  5.38s/it]  "
     ]
    },
    {
     "name": "stdout",
     "output_type": "stream",
     "text": [
      "Completed processing F:\\UCF_Crimes\\UCF_Crimes\\Videos\\Training_Normal_Videos_Anomaly\\Normal_Videos215_x264.mp4\n"
     ]
    },
    {
     "name": "stderr",
     "output_type": "stream",
     "text": [
      " 23%|██▎       | 184/800 [24:28<47:47,  4.66s/it]"
     ]
    },
    {
     "name": "stdout",
     "output_type": "stream",
     "text": [
      "Completed processing F:\\UCF_Crimes\\UCF_Crimes\\Videos\\Training_Normal_Videos_Anomaly\\Normal_Videos216_x264.mp4\n"
     ]
    },
    {
     "name": "stderr",
     "output_type": "stream",
     "text": [
      " 23%|██▎       | 185/800 [24:29<37:28,  3.66s/it]"
     ]
    },
    {
     "name": "stdout",
     "output_type": "stream",
     "text": [
      "Completed processing F:\\UCF_Crimes\\UCF_Crimes\\Videos\\Training_Normal_Videos_Anomaly\\Normal_Videos218_x264.mp4\n"
     ]
    },
    {
     "name": "stderr",
     "output_type": "stream",
     "text": [
      " 23%|██▎       | 186/800 [24:32<33:44,  3.30s/it]"
     ]
    },
    {
     "name": "stdout",
     "output_type": "stream",
     "text": [
      "Completed processing F:\\UCF_Crimes\\UCF_Crimes\\Videos\\Training_Normal_Videos_Anomaly\\Normal_Videos219_x264.mp4\n"
     ]
    },
    {
     "name": "stderr",
     "output_type": "stream",
     "text": [
      " 23%|██▎       | 187/800 [24:34<31:18,  3.06s/it]"
     ]
    },
    {
     "name": "stdout",
     "output_type": "stream",
     "text": [
      "Completed processing F:\\UCF_Crimes\\UCF_Crimes\\Videos\\Training_Normal_Videos_Anomaly\\Normal_Videos220_x264.mp4\n"
     ]
    },
    {
     "name": "stderr",
     "output_type": "stream",
     "text": [
      " 24%|██▎       | 188/800 [24:36<28:26,  2.79s/it]"
     ]
    },
    {
     "name": "stdout",
     "output_type": "stream",
     "text": [
      "Completed processing F:\\UCF_Crimes\\UCF_Crimes\\Videos\\Training_Normal_Videos_Anomaly\\Normal_Videos221_x264.mp4\n"
     ]
    },
    {
     "name": "stderr",
     "output_type": "stream",
     "text": [
      " 24%|██▎       | 189/800 [24:37<22:59,  2.26s/it]"
     ]
    },
    {
     "name": "stdout",
     "output_type": "stream",
     "text": [
      "Completed processing F:\\UCF_Crimes\\UCF_Crimes\\Videos\\Training_Normal_Videos_Anomaly\\Normal_Videos222_x264.mp4\n"
     ]
    },
    {
     "name": "stderr",
     "output_type": "stream",
     "text": [
      " 24%|██▍       | 190/800 [24:42<31:27,  3.09s/it]"
     ]
    },
    {
     "name": "stdout",
     "output_type": "stream",
     "text": [
      "Completed processing F:\\UCF_Crimes\\UCF_Crimes\\Videos\\Training_Normal_Videos_Anomaly\\Normal_Videos223_x264.mp4\n"
     ]
    },
    {
     "name": "stderr",
     "output_type": "stream",
     "text": [
      " 24%|██▍       | 191/800 [25:04<1:26:22,  8.51s/it]"
     ]
    },
    {
     "name": "stdout",
     "output_type": "stream",
     "text": [
      "Completed processing F:\\UCF_Crimes\\UCF_Crimes\\Videos\\Training_Normal_Videos_Anomaly\\Normal_Videos225_x264.mp4\n"
     ]
    },
    {
     "name": "stderr",
     "output_type": "stream",
     "text": [
      " 24%|██▍       | 192/800 [25:52<3:27:15, 20.45s/it]"
     ]
    },
    {
     "name": "stdout",
     "output_type": "stream",
     "text": [
      "Completed processing F:\\UCF_Crimes\\UCF_Crimes\\Videos\\Training_Normal_Videos_Anomaly\\Normal_Videos226_x264.mp4\n"
     ]
    },
    {
     "name": "stderr",
     "output_type": "stream",
     "text": [
      " 24%|██▍       | 193/800 [25:54<2:30:26, 14.87s/it]"
     ]
    },
    {
     "name": "stdout",
     "output_type": "stream",
     "text": [
      "Completed processing F:\\UCF_Crimes\\UCF_Crimes\\Videos\\Training_Normal_Videos_Anomaly\\Normal_Videos227_x264.mp4\n"
     ]
    },
    {
     "name": "stderr",
     "output_type": "stream",
     "text": [
      " 24%|██▍       | 194/800 [25:56<1:51:22, 11.03s/it]"
     ]
    },
    {
     "name": "stdout",
     "output_type": "stream",
     "text": [
      "Completed processing F:\\UCF_Crimes\\UCF_Crimes\\Videos\\Training_Normal_Videos_Anomaly\\Normal_Videos228_x264.mp4\n"
     ]
    },
    {
     "name": "stderr",
     "output_type": "stream",
     "text": [
      " 24%|██▍       | 195/800 [25:58<1:24:31,  8.38s/it]"
     ]
    },
    {
     "name": "stdout",
     "output_type": "stream",
     "text": [
      "Completed processing F:\\UCF_Crimes\\UCF_Crimes\\Videos\\Training_Normal_Videos_Anomaly\\Normal_Videos229_x264.mp4\n"
     ]
    },
    {
     "name": "stderr",
     "output_type": "stream",
     "text": [
      " 24%|██▍       | 196/800 [25:59<1:01:12,  6.08s/it]"
     ]
    },
    {
     "name": "stdout",
     "output_type": "stream",
     "text": [
      "Completed processing F:\\UCF_Crimes\\UCF_Crimes\\Videos\\Training_Normal_Videos_Anomaly\\Normal_Videos230_x264.mp4\n"
     ]
    },
    {
     "name": "stderr",
     "output_type": "stream",
     "text": [
      " 25%|██▍       | 197/800 [26:09<1:12:37,  7.23s/it]"
     ]
    },
    {
     "name": "stdout",
     "output_type": "stream",
     "text": [
      "Completed processing F:\\UCF_Crimes\\UCF_Crimes\\Videos\\Training_Normal_Videos_Anomaly\\Normal_Videos231_x264.mp4\n"
     ]
    },
    {
     "name": "stderr",
     "output_type": "stream",
     "text": [
      " 25%|██▍       | 198/800 [26:10<54:47,  5.46s/it]  "
     ]
    },
    {
     "name": "stdout",
     "output_type": "stream",
     "text": [
      "Completed processing F:\\UCF_Crimes\\UCF_Crimes\\Videos\\Training_Normal_Videos_Anomaly\\Normal_Videos232_x264.mp4\n"
     ]
    },
    {
     "name": "stderr",
     "output_type": "stream",
     "text": [
      " 25%|██▍       | 199/800 [26:11<41:41,  4.16s/it]"
     ]
    },
    {
     "name": "stdout",
     "output_type": "stream",
     "text": [
      "Completed processing F:\\UCF_Crimes\\UCF_Crimes\\Videos\\Training_Normal_Videos_Anomaly\\Normal_Videos233_x264.mp4\n"
     ]
    },
    {
     "name": "stderr",
     "output_type": "stream",
     "text": [
      " 25%|██▌       | 200/800 [26:17<46:34,  4.66s/it]"
     ]
    },
    {
     "name": "stdout",
     "output_type": "stream",
     "text": [
      "Completed processing F:\\UCF_Crimes\\UCF_Crimes\\Videos\\Training_Normal_Videos_Anomaly\\Normal_Videos234_x264.mp4\n"
     ]
    },
    {
     "name": "stderr",
     "output_type": "stream",
     "text": [
      " 25%|██▌       | 201/800 [26:19<38:44,  3.88s/it]"
     ]
    },
    {
     "name": "stdout",
     "output_type": "stream",
     "text": [
      "Completed processing F:\\UCF_Crimes\\UCF_Crimes\\Videos\\Training_Normal_Videos_Anomaly\\Normal_Videos235_x264.mp4\n"
     ]
    },
    {
     "name": "stderr",
     "output_type": "stream",
     "text": [
      " 25%|██▌       | 202/800 [26:22<37:09,  3.73s/it]"
     ]
    },
    {
     "name": "stdout",
     "output_type": "stream",
     "text": [
      "Completed processing F:\\UCF_Crimes\\UCF_Crimes\\Videos\\Training_Normal_Videos_Anomaly\\Normal_Videos236_x264.mp4\n"
     ]
    },
    {
     "name": "stderr",
     "output_type": "stream",
     "text": [
      " 25%|██▌       | 203/800 [26:24<30:36,  3.08s/it]"
     ]
    },
    {
     "name": "stdout",
     "output_type": "stream",
     "text": [
      "Completed processing F:\\UCF_Crimes\\UCF_Crimes\\Videos\\Training_Normal_Videos_Anomaly\\Normal_Videos237_x264.mp4\n"
     ]
    },
    {
     "name": "stderr",
     "output_type": "stream",
     "text": [
      " 26%|██▌       | 204/800 [26:28<32:11,  3.24s/it]"
     ]
    },
    {
     "name": "stdout",
     "output_type": "stream",
     "text": [
      "Completed processing F:\\UCF_Crimes\\UCF_Crimes\\Videos\\Training_Normal_Videos_Anomaly\\Normal_Videos238_x264.mp4\n"
     ]
    },
    {
     "name": "stderr",
     "output_type": "stream",
     "text": [
      " 26%|██▌       | 205/800 [26:31<32:17,  3.26s/it]"
     ]
    },
    {
     "name": "stdout",
     "output_type": "stream",
     "text": [
      "Completed processing F:\\UCF_Crimes\\UCF_Crimes\\Videos\\Training_Normal_Videos_Anomaly\\Normal_Videos239_x264.mp4\n"
     ]
    },
    {
     "name": "stderr",
     "output_type": "stream",
     "text": [
      " 26%|██▌       | 206/800 [26:35<34:49,  3.52s/it]"
     ]
    },
    {
     "name": "stdout",
     "output_type": "stream",
     "text": [
      "Completed processing F:\\UCF_Crimes\\UCF_Crimes\\Videos\\Training_Normal_Videos_Anomaly\\Normal_Videos240_x264.mp4\n"
     ]
    },
    {
     "name": "stderr",
     "output_type": "stream",
     "text": [
      " 26%|██▌       | 207/800 [26:38<32:14,  3.26s/it]"
     ]
    },
    {
     "name": "stdout",
     "output_type": "stream",
     "text": [
      "Completed processing F:\\UCF_Crimes\\UCF_Crimes\\Videos\\Training_Normal_Videos_Anomaly\\Normal_Videos241_x264.mp4\n"
     ]
    },
    {
     "name": "stderr",
     "output_type": "stream",
     "text": [
      " 26%|██▌       | 208/800 [26:39<27:59,  2.84s/it]"
     ]
    },
    {
     "name": "stdout",
     "output_type": "stream",
     "text": [
      "Completed processing F:\\UCF_Crimes\\UCF_Crimes\\Videos\\Training_Normal_Videos_Anomaly\\Normal_Videos242_x264.mp4\n"
     ]
    },
    {
     "name": "stderr",
     "output_type": "stream",
     "text": [
      " 26%|██▌       | 209/800 [26:41<24:41,  2.51s/it]"
     ]
    },
    {
     "name": "stdout",
     "output_type": "stream",
     "text": [
      "Completed processing F:\\UCF_Crimes\\UCF_Crimes\\Videos\\Training_Normal_Videos_Anomaly\\Normal_Videos243_x264.mp4\n"
     ]
    },
    {
     "name": "stderr",
     "output_type": "stream",
     "text": [
      " 26%|██▋       | 210/800 [26:44<25:02,  2.55s/it]"
     ]
    },
    {
     "name": "stdout",
     "output_type": "stream",
     "text": [
      "Completed processing F:\\UCF_Crimes\\UCF_Crimes\\Videos\\Training_Normal_Videos_Anomaly\\Normal_Videos244_x264.mp4\n"
     ]
    },
    {
     "name": "stderr",
     "output_type": "stream",
     "text": [
      " 26%|██▋       | 211/800 [27:04<1:16:56,  7.84s/it]"
     ]
    },
    {
     "name": "stdout",
     "output_type": "stream",
     "text": [
      "Completed processing F:\\UCF_Crimes\\UCF_Crimes\\Videos\\Training_Normal_Videos_Anomaly\\Normal_Videos245_x264.mp4\n"
     ]
    },
    {
     "name": "stderr",
     "output_type": "stream",
     "text": [
      " 26%|██▋       | 212/800 [27:05<55:49,  5.70s/it]  "
     ]
    },
    {
     "name": "stdout",
     "output_type": "stream",
     "text": [
      "Completed processing F:\\UCF_Crimes\\UCF_Crimes\\Videos\\Training_Normal_Videos_Anomaly\\Normal_Videos249_x264.mp4\n"
     ]
    },
    {
     "name": "stderr",
     "output_type": "stream",
     "text": [
      " 27%|██▋       | 213/800 [27:08<48:19,  4.94s/it]"
     ]
    },
    {
     "name": "stdout",
     "output_type": "stream",
     "text": [
      "Completed processing F:\\UCF_Crimes\\UCF_Crimes\\Videos\\Training_Normal_Videos_Anomaly\\Normal_Videos250_x264.mp4\n"
     ]
    },
    {
     "name": "stderr",
     "output_type": "stream",
     "text": [
      " 27%|██▋       | 214/800 [27:10<39:01,  4.00s/it]"
     ]
    },
    {
     "name": "stdout",
     "output_type": "stream",
     "text": [
      "Completed processing F:\\UCF_Crimes\\UCF_Crimes\\Videos\\Training_Normal_Videos_Anomaly\\Normal_Videos252_x264.mp4\n"
     ]
    },
    {
     "name": "stderr",
     "output_type": "stream",
     "text": [
      " 27%|██▋       | 215/800 [27:10<29:31,  3.03s/it]"
     ]
    },
    {
     "name": "stdout",
     "output_type": "stream",
     "text": [
      "Completed processing F:\\UCF_Crimes\\UCF_Crimes\\Videos\\Training_Normal_Videos_Anomaly\\Normal_Videos253_x264.mp4\n"
     ]
    },
    {
     "name": "stderr",
     "output_type": "stream",
     "text": [
      " 27%|██▋       | 216/800 [27:12<24:46,  2.55s/it]"
     ]
    },
    {
     "name": "stdout",
     "output_type": "stream",
     "text": [
      "Completed processing F:\\UCF_Crimes\\UCF_Crimes\\Videos\\Training_Normal_Videos_Anomaly\\Normal_Videos254_x264.mp4\n"
     ]
    },
    {
     "name": "stderr",
     "output_type": "stream",
     "text": [
      " 27%|██▋       | 217/800 [27:16<28:22,  2.92s/it]"
     ]
    },
    {
     "name": "stdout",
     "output_type": "stream",
     "text": [
      "Completed processing F:\\UCF_Crimes\\UCF_Crimes\\Videos\\Training_Normal_Videos_Anomaly\\Normal_Videos255_x264.mp4\n"
     ]
    },
    {
     "name": "stderr",
     "output_type": "stream",
     "text": [
      " 27%|██▋       | 218/800 [27:18<27:45,  2.86s/it]"
     ]
    },
    {
     "name": "stdout",
     "output_type": "stream",
     "text": [
      "Completed processing F:\\UCF_Crimes\\UCF_Crimes\\Videos\\Training_Normal_Videos_Anomaly\\Normal_Videos256_x264.mp4\n"
     ]
    },
    {
     "name": "stderr",
     "output_type": "stream",
     "text": [
      " 27%|██▋       | 219/800 [27:21<25:55,  2.68s/it]"
     ]
    },
    {
     "name": "stdout",
     "output_type": "stream",
     "text": [
      "Completed processing F:\\UCF_Crimes\\UCF_Crimes\\Videos\\Training_Normal_Videos_Anomaly\\Normal_Videos257_x264.mp4\n"
     ]
    },
    {
     "name": "stderr",
     "output_type": "stream",
     "text": [
      " 28%|██▊       | 220/800 [27:22<22:27,  2.32s/it]"
     ]
    },
    {
     "name": "stdout",
     "output_type": "stream",
     "text": [
      "Completed processing F:\\UCF_Crimes\\UCF_Crimes\\Videos\\Training_Normal_Videos_Anomaly\\Normal_Videos258_x264.mp4\n"
     ]
    },
    {
     "name": "stderr",
     "output_type": "stream",
     "text": [
      " 28%|██▊       | 221/800 [27:25<23:38,  2.45s/it]"
     ]
    },
    {
     "name": "stdout",
     "output_type": "stream",
     "text": [
      "Completed processing F:\\UCF_Crimes\\UCF_Crimes\\Videos\\Training_Normal_Videos_Anomaly\\Normal_Videos259_x264.mp4\n"
     ]
    },
    {
     "name": "stderr",
     "output_type": "stream",
     "text": [
      " 28%|██▊       | 222/800 [27:28<24:45,  2.57s/it]"
     ]
    },
    {
     "name": "stdout",
     "output_type": "stream",
     "text": [
      "Completed processing F:\\UCF_Crimes\\UCF_Crimes\\Videos\\Training_Normal_Videos_Anomaly\\Normal_Videos260_x264.mp4\n"
     ]
    },
    {
     "name": "stderr",
     "output_type": "stream",
     "text": [
      " 28%|██▊       | 223/800 [27:32<28:15,  2.94s/it]"
     ]
    },
    {
     "name": "stdout",
     "output_type": "stream",
     "text": [
      "Completed processing F:\\UCF_Crimes\\UCF_Crimes\\Videos\\Training_Normal_Videos_Anomaly\\Normal_Videos261_x264.mp4\n"
     ]
    },
    {
     "name": "stderr",
     "output_type": "stream",
     "text": [
      " 28%|██▊       | 224/800 [27:40<42:48,  4.46s/it]"
     ]
    },
    {
     "name": "stdout",
     "output_type": "stream",
     "text": [
      "Completed processing F:\\UCF_Crimes\\UCF_Crimes\\Videos\\Training_Normal_Videos_Anomaly\\Normal_Videos262_x264.mp4\n"
     ]
    },
    {
     "name": "stderr",
     "output_type": "stream",
     "text": [
      " 28%|██▊       | 225/800 [27:42<36:02,  3.76s/it]"
     ]
    },
    {
     "name": "stdout",
     "output_type": "stream",
     "text": [
      "Completed processing F:\\UCF_Crimes\\UCF_Crimes\\Videos\\Training_Normal_Videos_Anomaly\\Normal_Videos263_x264.mp4\n"
     ]
    },
    {
     "name": "stderr",
     "output_type": "stream",
     "text": [
      " 28%|██▊       | 226/800 [27:46<37:23,  3.91s/it]"
     ]
    },
    {
     "name": "stdout",
     "output_type": "stream",
     "text": [
      "Completed processing F:\\UCF_Crimes\\UCF_Crimes\\Videos\\Training_Normal_Videos_Anomaly\\Normal_Videos264_x264.mp4\n"
     ]
    },
    {
     "name": "stderr",
     "output_type": "stream",
     "text": [
      " 28%|██▊       | 227/800 [27:48<31:28,  3.30s/it]"
     ]
    },
    {
     "name": "stdout",
     "output_type": "stream",
     "text": [
      "Completed processing F:\\UCF_Crimes\\UCF_Crimes\\Videos\\Training_Normal_Videos_Anomaly\\Normal_Videos265_x264.mp4\n"
     ]
    },
    {
     "name": "stderr",
     "output_type": "stream",
     "text": [
      " 28%|██▊       | 228/800 [28:13<1:34:19,  9.89s/it]"
     ]
    },
    {
     "name": "stdout",
     "output_type": "stream",
     "text": [
      "Completed processing F:\\UCF_Crimes\\UCF_Crimes\\Videos\\Training_Normal_Videos_Anomaly\\Normal_Videos266_x264.mp4\n"
     ]
    },
    {
     "name": "stderr",
     "output_type": "stream",
     "text": [
      " 29%|██▊       | 229/800 [28:17<1:17:00,  8.09s/it]"
     ]
    },
    {
     "name": "stdout",
     "output_type": "stream",
     "text": [
      "Completed processing F:\\UCF_Crimes\\UCF_Crimes\\Videos\\Training_Normal_Videos_Anomaly\\Normal_Videos267_x264.mp4\n"
     ]
    },
    {
     "name": "stderr",
     "output_type": "stream",
     "text": [
      " 29%|██▉       | 230/800 [28:19<1:00:37,  6.38s/it]"
     ]
    },
    {
     "name": "stdout",
     "output_type": "stream",
     "text": [
      "Completed processing F:\\UCF_Crimes\\UCF_Crimes\\Videos\\Training_Normal_Videos_Anomaly\\Normal_Videos268_x264.mp4\n"
     ]
    },
    {
     "name": "stderr",
     "output_type": "stream",
     "text": [
      " 29%|██▉       | 231/800 [28:20<43:39,  4.60s/it]  "
     ]
    },
    {
     "name": "stdout",
     "output_type": "stream",
     "text": [
      "Completed processing F:\\UCF_Crimes\\UCF_Crimes\\Videos\\Training_Normal_Videos_Anomaly\\Normal_Videos269_x264.mp4\n"
     ]
    },
    {
     "name": "stderr",
     "output_type": "stream",
     "text": [
      " 29%|██▉       | 232/800 [28:22<37:11,  3.93s/it]"
     ]
    },
    {
     "name": "stdout",
     "output_type": "stream",
     "text": [
      "Completed processing F:\\UCF_Crimes\\UCF_Crimes\\Videos\\Training_Normal_Videos_Anomaly\\Normal_Videos270_x264.mp4\n"
     ]
    },
    {
     "name": "stderr",
     "output_type": "stream",
     "text": [
      " 29%|██▉       | 233/800 [28:24<31:14,  3.31s/it]"
     ]
    },
    {
     "name": "stdout",
     "output_type": "stream",
     "text": [
      "Completed processing F:\\UCF_Crimes\\UCF_Crimes\\Videos\\Training_Normal_Videos_Anomaly\\Normal_Videos271_x264.mp4\n"
     ]
    },
    {
     "name": "stderr",
     "output_type": "stream",
     "text": [
      " 29%|██▉       | 234/800 [28:28<31:54,  3.38s/it]"
     ]
    },
    {
     "name": "stdout",
     "output_type": "stream",
     "text": [
      "Completed processing F:\\UCF_Crimes\\UCF_Crimes\\Videos\\Training_Normal_Videos_Anomaly\\Normal_Videos272_x264.mp4\n"
     ]
    },
    {
     "name": "stderr",
     "output_type": "stream",
     "text": [
      " 29%|██▉       | 235/800 [28:32<33:42,  3.58s/it]"
     ]
    },
    {
     "name": "stdout",
     "output_type": "stream",
     "text": [
      "Completed processing F:\\UCF_Crimes\\UCF_Crimes\\Videos\\Training_Normal_Videos_Anomaly\\Normal_Videos273_x264.mp4\n"
     ]
    },
    {
     "name": "stderr",
     "output_type": "stream",
     "text": [
      " 30%|██▉       | 236/800 [28:41<49:05,  5.22s/it]"
     ]
    },
    {
     "name": "stdout",
     "output_type": "stream",
     "text": [
      "Completed processing F:\\UCF_Crimes\\UCF_Crimes\\Videos\\Training_Normal_Videos_Anomaly\\Normal_Videos274_x264.mp4\n"
     ]
    },
    {
     "name": "stderr",
     "output_type": "stream",
     "text": [
      " 30%|██▉       | 237/800 [28:43<41:34,  4.43s/it]"
     ]
    },
    {
     "name": "stdout",
     "output_type": "stream",
     "text": [
      "Completed processing F:\\UCF_Crimes\\UCF_Crimes\\Videos\\Training_Normal_Videos_Anomaly\\Normal_Videos275_x264.mp4\n"
     ]
    },
    {
     "name": "stderr",
     "output_type": "stream",
     "text": [
      " 30%|██▉       | 238/800 [28:48<43:08,  4.61s/it]"
     ]
    },
    {
     "name": "stdout",
     "output_type": "stream",
     "text": [
      "Completed processing F:\\UCF_Crimes\\UCF_Crimes\\Videos\\Training_Normal_Videos_Anomaly\\Normal_Videos276_x264.mp4\n"
     ]
    },
    {
     "name": "stderr",
     "output_type": "stream",
     "text": [
      " 30%|██▉       | 239/800 [29:14<1:42:04, 10.92s/it]"
     ]
    },
    {
     "name": "stdout",
     "output_type": "stream",
     "text": [
      "Completed processing F:\\UCF_Crimes\\UCF_Crimes\\Videos\\Training_Normal_Videos_Anomaly\\Normal_Videos277_x264.mp4\n"
     ]
    },
    {
     "name": "stderr",
     "output_type": "stream",
     "text": [
      " 30%|███       | 240/800 [29:16<1:17:18,  8.28s/it]"
     ]
    },
    {
     "name": "stdout",
     "output_type": "stream",
     "text": [
      "Completed processing F:\\UCF_Crimes\\UCF_Crimes\\Videos\\Training_Normal_Videos_Anomaly\\Normal_Videos278_x264.mp4\n"
     ]
    },
    {
     "name": "stderr",
     "output_type": "stream",
     "text": [
      " 30%|███       | 241/800 [29:21<1:08:39,  7.37s/it]"
     ]
    },
    {
     "name": "stdout",
     "output_type": "stream",
     "text": [
      "Completed processing F:\\UCF_Crimes\\UCF_Crimes\\Videos\\Training_Normal_Videos_Anomaly\\Normal_Videos279_x264.mp4\n"
     ]
    },
    {
     "name": "stderr",
     "output_type": "stream",
     "text": [
      " 30%|███       | 242/800 [29:25<57:05,  6.14s/it]  "
     ]
    },
    {
     "name": "stdout",
     "output_type": "stream",
     "text": [
      "Completed processing F:\\UCF_Crimes\\UCF_Crimes\\Videos\\Training_Normal_Videos_Anomaly\\Normal_Videos280_x264.mp4\n"
     ]
    },
    {
     "name": "stderr",
     "output_type": "stream",
     "text": [
      " 30%|███       | 243/800 [29:25<41:21,  4.46s/it]"
     ]
    },
    {
     "name": "stdout",
     "output_type": "stream",
     "text": [
      "Completed processing F:\\UCF_Crimes\\UCF_Crimes\\Videos\\Training_Normal_Videos_Anomaly\\Normal_Videos281_x264.mp4\n"
     ]
    },
    {
     "name": "stderr",
     "output_type": "stream",
     "text": [
      " 30%|███       | 244/800 [29:29<40:17,  4.35s/it]"
     ]
    },
    {
     "name": "stdout",
     "output_type": "stream",
     "text": [
      "Completed processing F:\\UCF_Crimes\\UCF_Crimes\\Videos\\Training_Normal_Videos_Anomaly\\Normal_Videos282_x264.mp4\n"
     ]
    },
    {
     "name": "stderr",
     "output_type": "stream",
     "text": [
      " 31%|███       | 245/800 [29:39<56:09,  6.07s/it]"
     ]
    },
    {
     "name": "stdout",
     "output_type": "stream",
     "text": [
      "Completed processing F:\\UCF_Crimes\\UCF_Crimes\\Videos\\Training_Normal_Videos_Anomaly\\Normal_Videos283_x264.mp4\n"
     ]
    },
    {
     "name": "stderr",
     "output_type": "stream",
     "text": [
      " 31%|███       | 246/800 [29:41<44:55,  4.87s/it]"
     ]
    },
    {
     "name": "stdout",
     "output_type": "stream",
     "text": [
      "Completed processing F:\\UCF_Crimes\\UCF_Crimes\\Videos\\Training_Normal_Videos_Anomaly\\Normal_Videos284_x264.mp4\n"
     ]
    },
    {
     "name": "stderr",
     "output_type": "stream",
     "text": [
      " 31%|███       | 247/800 [29:43<36:23,  3.95s/it]"
     ]
    },
    {
     "name": "stdout",
     "output_type": "stream",
     "text": [
      "Completed processing F:\\UCF_Crimes\\UCF_Crimes\\Videos\\Training_Normal_Videos_Anomaly\\Normal_Videos285_x264.mp4\n"
     ]
    },
    {
     "name": "stderr",
     "output_type": "stream",
     "text": [
      " 31%|███       | 248/800 [29:44<27:01,  2.94s/it]"
     ]
    },
    {
     "name": "stdout",
     "output_type": "stream",
     "text": [
      "Completed processing F:\\UCF_Crimes\\UCF_Crimes\\Videos\\Training_Normal_Videos_Anomaly\\Normal_Videos286_x264.mp4\n"
     ]
    },
    {
     "name": "stderr",
     "output_type": "stream",
     "text": [
      " 31%|███       | 249/800 [29:46<24:05,  2.62s/it]"
     ]
    },
    {
     "name": "stdout",
     "output_type": "stream",
     "text": [
      "Completed processing F:\\UCF_Crimes\\UCF_Crimes\\Videos\\Training_Normal_Videos_Anomaly\\Normal_Videos287_x264.mp4\n"
     ]
    },
    {
     "name": "stderr",
     "output_type": "stream",
     "text": [
      " 31%|███▏      | 250/800 [29:49<27:03,  2.95s/it]"
     ]
    },
    {
     "name": "stdout",
     "output_type": "stream",
     "text": [
      "Completed processing F:\\UCF_Crimes\\UCF_Crimes\\Videos\\Training_Normal_Videos_Anomaly\\Normal_Videos288_x264.mp4\n"
     ]
    },
    {
     "name": "stderr",
     "output_type": "stream",
     "text": [
      " 31%|███▏      | 251/800 [29:50<20:11,  2.21s/it]"
     ]
    },
    {
     "name": "stdout",
     "output_type": "stream",
     "text": [
      "Completed processing F:\\UCF_Crimes\\UCF_Crimes\\Videos\\Training_Normal_Videos_Anomaly\\Normal_Videos290_x264.mp4\n"
     ]
    },
    {
     "name": "stderr",
     "output_type": "stream",
     "text": [
      " 32%|███▏      | 252/800 [29:50<15:20,  1.68s/it]"
     ]
    },
    {
     "name": "stdout",
     "output_type": "stream",
     "text": [
      "Completed processing F:\\UCF_Crimes\\UCF_Crimes\\Videos\\Training_Normal_Videos_Anomaly\\Normal_Videos291_x264.mp4\n"
     ]
    },
    {
     "name": "stderr",
     "output_type": "stream",
     "text": [
      " 32%|███▏      | 253/800 [29:55<23:29,  2.58s/it]"
     ]
    },
    {
     "name": "stdout",
     "output_type": "stream",
     "text": [
      "Completed processing F:\\UCF_Crimes\\UCF_Crimes\\Videos\\Training_Normal_Videos_Anomaly\\Normal_Videos292_x264.mp4\n"
     ]
    },
    {
     "name": "stderr",
     "output_type": "stream",
     "text": [
      " 32%|███▏      | 254/800 [29:55<17:50,  1.96s/it]"
     ]
    },
    {
     "name": "stdout",
     "output_type": "stream",
     "text": [
      "Completed processing F:\\UCF_Crimes\\UCF_Crimes\\Videos\\Training_Normal_Videos_Anomaly\\Normal_Videos293_x264.mp4\n"
     ]
    },
    {
     "name": "stderr",
     "output_type": "stream",
     "text": [
      " 32%|███▏      | 255/800 [29:57<15:27,  1.70s/it]"
     ]
    },
    {
     "name": "stdout",
     "output_type": "stream",
     "text": [
      "Completed processing F:\\UCF_Crimes\\UCF_Crimes\\Videos\\Training_Normal_Videos_Anomaly\\Normal_Videos294_x264.mp4\n"
     ]
    },
    {
     "name": "stderr",
     "output_type": "stream",
     "text": [
      " 32%|███▏      | 256/800 [29:58<14:17,  1.58s/it]"
     ]
    },
    {
     "name": "stdout",
     "output_type": "stream",
     "text": [
      "Completed processing F:\\UCF_Crimes\\UCF_Crimes\\Videos\\Training_Normal_Videos_Anomaly\\Normal_Videos295_x264.mp4\n"
     ]
    },
    {
     "name": "stderr",
     "output_type": "stream",
     "text": [
      " 32%|███▏      | 257/800 [29:59<12:08,  1.34s/it]"
     ]
    },
    {
     "name": "stdout",
     "output_type": "stream",
     "text": [
      "Completed processing F:\\UCF_Crimes\\UCF_Crimes\\Videos\\Training_Normal_Videos_Anomaly\\Normal_Videos296_x264.mp4\n"
     ]
    },
    {
     "name": "stderr",
     "output_type": "stream",
     "text": [
      " 32%|███▏      | 258/800 [29:59<09:50,  1.09s/it]"
     ]
    },
    {
     "name": "stdout",
     "output_type": "stream",
     "text": [
      "Completed processing F:\\UCF_Crimes\\UCF_Crimes\\Videos\\Training_Normal_Videos_Anomaly\\Normal_Videos297_x264.mp4\n"
     ]
    },
    {
     "name": "stderr",
     "output_type": "stream",
     "text": [
      " 32%|███▏      | 259/800 [30:03<17:13,  1.91s/it]"
     ]
    },
    {
     "name": "stdout",
     "output_type": "stream",
     "text": [
      "Completed processing F:\\UCF_Crimes\\UCF_Crimes\\Videos\\Training_Normal_Videos_Anomaly\\Normal_Videos298_x264.mp4\n"
     ]
    },
    {
     "name": "stderr",
     "output_type": "stream",
     "text": [
      " 32%|███▎      | 260/800 [30:04<16:00,  1.78s/it]"
     ]
    },
    {
     "name": "stdout",
     "output_type": "stream",
     "text": [
      "Completed processing F:\\UCF_Crimes\\UCF_Crimes\\Videos\\Training_Normal_Videos_Anomaly\\Normal_Videos299_x264.mp4\n"
     ]
    },
    {
     "name": "stderr",
     "output_type": "stream",
     "text": [
      " 33%|███▎      | 261/800 [30:06<15:24,  1.72s/it]"
     ]
    },
    {
     "name": "stdout",
     "output_type": "stream",
     "text": [
      "Completed processing F:\\UCF_Crimes\\UCF_Crimes\\Videos\\Training_Normal_Videos_Anomaly\\Normal_Videos300_x264.mp4\n"
     ]
    },
    {
     "name": "stderr",
     "output_type": "stream",
     "text": [
      " 33%|███▎      | 262/800 [30:08<16:19,  1.82s/it]"
     ]
    },
    {
     "name": "stdout",
     "output_type": "stream",
     "text": [
      "Completed processing F:\\UCF_Crimes\\UCF_Crimes\\Videos\\Training_Normal_Videos_Anomaly\\Normal_Videos301_x264.mp4\n"
     ]
    },
    {
     "name": "stderr",
     "output_type": "stream",
     "text": [
      " 33%|███▎      | 263/800 [30:10<16:01,  1.79s/it]"
     ]
    },
    {
     "name": "stdout",
     "output_type": "stream",
     "text": [
      "Completed processing F:\\UCF_Crimes\\UCF_Crimes\\Videos\\Training_Normal_Videos_Anomaly\\Normal_Videos302_x264.mp4\n"
     ]
    },
    {
     "name": "stderr",
     "output_type": "stream",
     "text": [
      " 33%|███▎      | 264/800 [30:16<28:20,  3.17s/it]"
     ]
    },
    {
     "name": "stdout",
     "output_type": "stream",
     "text": [
      "Completed processing F:\\UCF_Crimes\\UCF_Crimes\\Videos\\Training_Normal_Videos_Anomaly\\Normal_Videos303_x264.mp4\n"
     ]
    },
    {
     "name": "stderr",
     "output_type": "stream",
     "text": [
      " 33%|███▎      | 265/800 [30:19<28:15,  3.17s/it]"
     ]
    },
    {
     "name": "stdout",
     "output_type": "stream",
     "text": [
      "Completed processing F:\\UCF_Crimes\\UCF_Crimes\\Videos\\Training_Normal_Videos_Anomaly\\Normal_Videos304_x264.mp4\n"
     ]
    },
    {
     "name": "stderr",
     "output_type": "stream",
     "text": [
      " 33%|███▎      | 266/800 [30:22<27:57,  3.14s/it]"
     ]
    },
    {
     "name": "stdout",
     "output_type": "stream",
     "text": [
      "Completed processing F:\\UCF_Crimes\\UCF_Crimes\\Videos\\Training_Normal_Videos_Anomaly\\Normal_Videos305_x264.mp4\n"
     ]
    },
    {
     "name": "stderr",
     "output_type": "stream",
     "text": [
      " 33%|███▎      | 267/800 [30:27<31:28,  3.54s/it]"
     ]
    },
    {
     "name": "stdout",
     "output_type": "stream",
     "text": [
      "Completed processing F:\\UCF_Crimes\\UCF_Crimes\\Videos\\Training_Normal_Videos_Anomaly\\Normal_Videos306_x264.mp4\n"
     ]
    },
    {
     "name": "stderr",
     "output_type": "stream",
     "text": [
      " 34%|███▎      | 268/800 [42:13<31:39:04, 214.18s/it]"
     ]
    },
    {
     "name": "stdout",
     "output_type": "stream",
     "text": [
      "Completed processing F:\\UCF_Crimes\\UCF_Crimes\\Videos\\Training_Normal_Videos_Anomaly\\Normal_Videos307_x264.mp4\n"
     ]
    },
    {
     "name": "stderr",
     "output_type": "stream",
     "text": [
      " 34%|███▎      | 269/800 [59:33<68:09:24, 462.08s/it]"
     ]
    },
    {
     "name": "stdout",
     "output_type": "stream",
     "text": [
      "Completed processing F:\\UCF_Crimes\\UCF_Crimes\\Videos\\Training_Normal_Videos_Anomaly\\Normal_Videos308_x264.mp4\n"
     ]
    },
    {
     "name": "stderr",
     "output_type": "stream",
     "text": [
      " 34%|███▍      | 270/800 [59:41<47:59:10, 325.94s/it]"
     ]
    },
    {
     "name": "stdout",
     "output_type": "stream",
     "text": [
      "Completed processing F:\\UCF_Crimes\\UCF_Crimes\\Videos\\Training_Normal_Videos_Anomaly\\Normal_Videos309_x264.mp4\n"
     ]
    },
    {
     "name": "stderr",
     "output_type": "stream",
     "text": [
      " 34%|███▍      | 271/800 [59:44<33:38:18, 228.92s/it]"
     ]
    },
    {
     "name": "stdout",
     "output_type": "stream",
     "text": [
      "Completed processing F:\\UCF_Crimes\\UCF_Crimes\\Videos\\Training_Normal_Videos_Anomaly\\Normal_Videos311_x264.mp4\n"
     ]
    },
    {
     "name": "stderr",
     "output_type": "stream",
     "text": [
      " 34%|███▍      | 272/800 [59:45<23:34:03, 160.69s/it]"
     ]
    },
    {
     "name": "stdout",
     "output_type": "stream",
     "text": [
      "Completed processing F:\\UCF_Crimes\\UCF_Crimes\\Videos\\Training_Normal_Videos_Anomaly\\Normal_Videos313_x264.mp4\n"
     ]
    },
    {
     "name": "stderr",
     "output_type": "stream",
     "text": [
      " 34%|███▍      | 273/800 [59:47<16:31:25, 112.88s/it]"
     ]
    },
    {
     "name": "stdout",
     "output_type": "stream",
     "text": [
      "Completed processing F:\\UCF_Crimes\\UCF_Crimes\\Videos\\Training_Normal_Videos_Anomaly\\Normal_Videos314_x264.mp4\n"
     ]
    },
    {
     "name": "stderr",
     "output_type": "stream",
     "text": [
      " 34%|███▍      | 274/800 [59:48<11:37:24, 79.55s/it] "
     ]
    },
    {
     "name": "stdout",
     "output_type": "stream",
     "text": [
      "Completed processing F:\\UCF_Crimes\\UCF_Crimes\\Videos\\Training_Normal_Videos_Anomaly\\Normal_Videos315_x264.mp4\n"
     ]
    },
    {
     "name": "stderr",
     "output_type": "stream",
     "text": [
      " 34%|███▍      | 275/800 [59:50<8:10:37, 56.07s/it] "
     ]
    },
    {
     "name": "stdout",
     "output_type": "stream",
     "text": [
      "Completed processing F:\\UCF_Crimes\\UCF_Crimes\\Videos\\Training_Normal_Videos_Anomaly\\Normal_Videos316_x264.mp4\n"
     ]
    },
    {
     "name": "stderr",
     "output_type": "stream",
     "text": [
      " 34%|███▍      | 276/800 [59:51<5:46:25, 39.67s/it]"
     ]
    },
    {
     "name": "stdout",
     "output_type": "stream",
     "text": [
      "Completed processing F:\\UCF_Crimes\\UCF_Crimes\\Videos\\Training_Normal_Videos_Anomaly\\Normal_Videos318_x264.mp4\n"
     ]
    },
    {
     "name": "stderr",
     "output_type": "stream",
     "text": [
      " 35%|███▍      | 277/800 [59:53<4:06:41, 28.30s/it]"
     ]
    },
    {
     "name": "stdout",
     "output_type": "stream",
     "text": [
      "Completed processing F:\\UCF_Crimes\\UCF_Crimes\\Videos\\Training_Normal_Videos_Anomaly\\Normal_Videos319_x264.mp4\n"
     ]
    },
    {
     "name": "stderr",
     "output_type": "stream",
     "text": [
      " 35%|███▍      | 278/800 [59:54<2:54:50, 20.10s/it]"
     ]
    },
    {
     "name": "stdout",
     "output_type": "stream",
     "text": [
      "Completed processing F:\\UCF_Crimes\\UCF_Crimes\\Videos\\Training_Normal_Videos_Anomaly\\Normal_Videos320_x264.mp4\n"
     ]
    },
    {
     "name": "stderr",
     "output_type": "stream",
     "text": [
      " 35%|███▍      | 279/800 [59:54<2:03:40, 14.24s/it]"
     ]
    },
    {
     "name": "stdout",
     "output_type": "stream",
     "text": [
      "Completed processing F:\\UCF_Crimes\\UCF_Crimes\\Videos\\Training_Normal_Videos_Anomaly\\Normal_Videos321_x264.mp4\n"
     ]
    },
    {
     "name": "stderr",
     "output_type": "stream",
     "text": [
      " 35%|███▌      | 280/800 [59:56<1:30:58, 10.50s/it]"
     ]
    },
    {
     "name": "stdout",
     "output_type": "stream",
     "text": [
      "Completed processing F:\\UCF_Crimes\\UCF_Crimes\\Videos\\Training_Normal_Videos_Anomaly\\Normal_Videos322_x264.mp4\n"
     ]
    },
    {
     "name": "stderr",
     "output_type": "stream",
     "text": [
      " 35%|███▌      | 281/800 [1:00:54<3:34:37, 24.81s/it]"
     ]
    },
    {
     "name": "stdout",
     "output_type": "stream",
     "text": [
      "Completed processing F:\\UCF_Crimes\\UCF_Crimes\\Videos\\Training_Normal_Videos_Anomaly\\Normal_Videos323_x264.mp4\n"
     ]
    },
    {
     "name": "stderr",
     "output_type": "stream",
     "text": [
      " 35%|███▌      | 282/800 [1:00:57<2:37:10, 18.21s/it]"
     ]
    },
    {
     "name": "stdout",
     "output_type": "stream",
     "text": [
      "Completed processing F:\\UCF_Crimes\\UCF_Crimes\\Videos\\Training_Normal_Videos_Anomaly\\Normal_Videos324_x264.mp4\n"
     ]
    },
    {
     "name": "stderr",
     "output_type": "stream",
     "text": [
      " 35%|███▌      | 283/800 [1:00:59<1:54:08, 13.25s/it]"
     ]
    },
    {
     "name": "stdout",
     "output_type": "stream",
     "text": [
      "Completed processing F:\\UCF_Crimes\\UCF_Crimes\\Videos\\Training_Normal_Videos_Anomaly\\Normal_Videos325_x264.mp4\n"
     ]
    },
    {
     "name": "stderr",
     "output_type": "stream",
     "text": [
      " 36%|███▌      | 284/800 [1:01:00<1:23:48,  9.75s/it]"
     ]
    },
    {
     "name": "stdout",
     "output_type": "stream",
     "text": [
      "Completed processing F:\\UCF_Crimes\\UCF_Crimes\\Videos\\Training_Normal_Videos_Anomaly\\Normal_Videos326_x264.mp4\n"
     ]
    },
    {
     "name": "stderr",
     "output_type": "stream",
     "text": [
      " 36%|███▌      | 285/800 [1:01:02<1:02:24,  7.27s/it]"
     ]
    },
    {
     "name": "stdout",
     "output_type": "stream",
     "text": [
      "Completed processing F:\\UCF_Crimes\\UCF_Crimes\\Videos\\Training_Normal_Videos_Anomaly\\Normal_Videos327_x264.mp4\n"
     ]
    },
    {
     "name": "stderr",
     "output_type": "stream",
     "text": [
      " 36%|███▌      | 286/800 [1:01:03<47:01,  5.49s/it]  "
     ]
    },
    {
     "name": "stdout",
     "output_type": "stream",
     "text": [
      "Completed processing F:\\UCF_Crimes\\UCF_Crimes\\Videos\\Training_Normal_Videos_Anomaly\\Normal_Videos328_x264.mp4\n"
     ]
    },
    {
     "name": "stderr",
     "output_type": "stream",
     "text": [
      " 36%|███▌      | 287/800 [1:01:05<36:07,  4.22s/it]"
     ]
    },
    {
     "name": "stdout",
     "output_type": "stream",
     "text": [
      "Completed processing F:\\UCF_Crimes\\UCF_Crimes\\Videos\\Training_Normal_Videos_Anomaly\\Normal_Videos329_x264.mp4\n"
     ]
    },
    {
     "name": "stderr",
     "output_type": "stream",
     "text": [
      " 36%|███▌      | 288/800 [1:01:06<28:28,  3.34s/it]"
     ]
    },
    {
     "name": "stdout",
     "output_type": "stream",
     "text": [
      "Completed processing F:\\UCF_Crimes\\UCF_Crimes\\Videos\\Training_Normal_Videos_Anomaly\\Normal_Videos330_x264.mp4\n"
     ]
    },
    {
     "name": "stderr",
     "output_type": "stream",
     "text": [
      " 36%|███▌      | 289/800 [1:02:24<3:40:34, 25.90s/it]"
     ]
    },
    {
     "name": "stdout",
     "output_type": "stream",
     "text": [
      "Completed processing F:\\UCF_Crimes\\UCF_Crimes\\Videos\\Training_Normal_Videos_Anomaly\\Normal_Videos331_x264.mp4\n"
     ]
    },
    {
     "name": "stderr",
     "output_type": "stream",
     "text": [
      " 36%|███▋      | 290/800 [1:02:40<3:15:03, 22.95s/it]"
     ]
    },
    {
     "name": "stdout",
     "output_type": "stream",
     "text": [
      "Completed processing F:\\UCF_Crimes\\UCF_Crimes\\Videos\\Training_Normal_Videos_Anomaly\\Normal_Videos332_x264.mp4\n"
     ]
    },
    {
     "name": "stderr",
     "output_type": "stream",
     "text": [
      " 36%|███▋      | 291/800 [1:02:42<2:19:16, 16.42s/it]"
     ]
    },
    {
     "name": "stdout",
     "output_type": "stream",
     "text": [
      "Completed processing F:\\UCF_Crimes\\UCF_Crimes\\Videos\\Training_Normal_Videos_Anomaly\\Normal_Videos333_x264.mp4\n"
     ]
    },
    {
     "name": "stderr",
     "output_type": "stream",
     "text": [
      " 36%|███▋      | 292/800 [1:02:43<1:41:23, 11.98s/it]"
     ]
    },
    {
     "name": "stdout",
     "output_type": "stream",
     "text": [
      "Completed processing F:\\UCF_Crimes\\UCF_Crimes\\Videos\\Training_Normal_Videos_Anomaly\\Normal_Videos334_x264.mp4\n"
     ]
    },
    {
     "name": "stderr",
     "output_type": "stream",
     "text": [
      " 37%|███▋      | 293/800 [1:02:49<1:24:57, 10.05s/it]"
     ]
    },
    {
     "name": "stdout",
     "output_type": "stream",
     "text": [
      "Completed processing F:\\UCF_Crimes\\UCF_Crimes\\Videos\\Training_Normal_Videos_Anomaly\\Normal_Videos335_x264.mp4\n"
     ]
    },
    {
     "name": "stderr",
     "output_type": "stream",
     "text": [
      " 37%|███▋      | 294/800 [1:02:50<1:02:16,  7.38s/it]"
     ]
    },
    {
     "name": "stdout",
     "output_type": "stream",
     "text": [
      "Completed processing F:\\UCF_Crimes\\UCF_Crimes\\Videos\\Training_Normal_Videos_Anomaly\\Normal_Videos336_x264.mp4\n"
     ]
    },
    {
     "name": "stderr",
     "output_type": "stream",
     "text": [
      " 37%|███▋      | 295/800 [1:02:50<44:31,  5.29s/it]  "
     ]
    },
    {
     "name": "stdout",
     "output_type": "stream",
     "text": [
      "Completed processing F:\\UCF_Crimes\\UCF_Crimes\\Videos\\Training_Normal_Videos_Anomaly\\Normal_Videos337_x264.mp4\n"
     ]
    },
    {
     "name": "stderr",
     "output_type": "stream",
     "text": [
      " 37%|███▋      | 296/800 [1:02:51<33:31,  3.99s/it]"
     ]
    },
    {
     "name": "stdout",
     "output_type": "stream",
     "text": [
      "Completed processing F:\\UCF_Crimes\\UCF_Crimes\\Videos\\Training_Normal_Videos_Anomaly\\Normal_Videos338_x264.mp4\n"
     ]
    },
    {
     "name": "stderr",
     "output_type": "stream",
     "text": [
      " 37%|███▋      | 297/800 [1:02:59<43:16,  5.16s/it]"
     ]
    },
    {
     "name": "stdout",
     "output_type": "stream",
     "text": [
      "Completed processing F:\\UCF_Crimes\\UCF_Crimes\\Videos\\Training_Normal_Videos_Anomaly\\Normal_Videos339_x264.mp4\n"
     ]
    },
    {
     "name": "stderr",
     "output_type": "stream",
     "text": [
      " 37%|███▋      | 298/800 [1:03:02<36:45,  4.39s/it]"
     ]
    },
    {
     "name": "stdout",
     "output_type": "stream",
     "text": [
      "Completed processing F:\\UCF_Crimes\\UCF_Crimes\\Videos\\Training_Normal_Videos_Anomaly\\Normal_Videos340_x264.mp4\n"
     ]
    },
    {
     "name": "stderr",
     "output_type": "stream",
     "text": [
      " 37%|███▋      | 299/800 [1:03:03<28:00,  3.35s/it]"
     ]
    },
    {
     "name": "stdout",
     "output_type": "stream",
     "text": [
      "Completed processing F:\\UCF_Crimes\\UCF_Crimes\\Videos\\Training_Normal_Videos_Anomaly\\Normal_Videos341_x264.mp4\n"
     ]
    },
    {
     "name": "stderr",
     "output_type": "stream",
     "text": [
      " 38%|███▊      | 300/800 [1:03:06<28:17,  3.40s/it]"
     ]
    },
    {
     "name": "stdout",
     "output_type": "stream",
     "text": [
      "Completed processing F:\\UCF_Crimes\\UCF_Crimes\\Videos\\Training_Normal_Videos_Anomaly\\Normal_Videos342_x264.mp4\n"
     ]
    },
    {
     "name": "stderr",
     "output_type": "stream",
     "text": [
      " 38%|███▊      | 301/800 [1:03:07<22:03,  2.65s/it]"
     ]
    },
    {
     "name": "stdout",
     "output_type": "stream",
     "text": [
      "Completed processing F:\\UCF_Crimes\\UCF_Crimes\\Videos\\Training_Normal_Videos_Anomaly\\Normal_Videos343_x264.mp4\n"
     ]
    },
    {
     "name": "stderr",
     "output_type": "stream",
     "text": [
      " 38%|███▊      | 302/800 [1:03:07<16:14,  1.96s/it]"
     ]
    },
    {
     "name": "stdout",
     "output_type": "stream",
     "text": [
      "Completed processing F:\\UCF_Crimes\\UCF_Crimes\\Videos\\Training_Normal_Videos_Anomaly\\Normal_Videos344_x264.mp4\n"
     ]
    },
    {
     "name": "stderr",
     "output_type": "stream",
     "text": [
      " 38%|███▊      | 303/800 [1:03:13<25:54,  3.13s/it]"
     ]
    },
    {
     "name": "stdout",
     "output_type": "stream",
     "text": [
      "Completed processing F:\\UCF_Crimes\\UCF_Crimes\\Videos\\Training_Normal_Videos_Anomaly\\Normal_Videos346_x264.mp4\n"
     ]
    },
    {
     "name": "stderr",
     "output_type": "stream",
     "text": [
      " 38%|███▊      | 304/800 [1:03:15<23:01,  2.78s/it]"
     ]
    },
    {
     "name": "stdout",
     "output_type": "stream",
     "text": [
      "Completed processing F:\\UCF_Crimes\\UCF_Crimes\\Videos\\Training_Normal_Videos_Anomaly\\Normal_Videos347_x264.mp4\n"
     ]
    },
    {
     "name": "stderr",
     "output_type": "stream",
     "text": [
      " 38%|███▊      | 305/800 [1:03:17<20:21,  2.47s/it]"
     ]
    },
    {
     "name": "stdout",
     "output_type": "stream",
     "text": [
      "Completed processing F:\\UCF_Crimes\\UCF_Crimes\\Videos\\Training_Normal_Videos_Anomaly\\Normal_Videos348_x264.mp4\n"
     ]
    },
    {
     "name": "stderr",
     "output_type": "stream",
     "text": [
      " 38%|███▊      | 306/800 [1:03:22<26:26,  3.21s/it]"
     ]
    },
    {
     "name": "stdout",
     "output_type": "stream",
     "text": [
      "Completed processing F:\\UCF_Crimes\\UCF_Crimes\\Videos\\Training_Normal_Videos_Anomaly\\Normal_Videos349_x264.mp4\n"
     ]
    },
    {
     "name": "stderr",
     "output_type": "stream",
     "text": [
      " 38%|███▊      | 307/800 [1:03:24<22:38,  2.76s/it]"
     ]
    },
    {
     "name": "stdout",
     "output_type": "stream",
     "text": [
      "Completed processing F:\\UCF_Crimes\\UCF_Crimes\\Videos\\Training_Normal_Videos_Anomaly\\Normal_Videos350_x264.mp4\n"
     ]
    },
    {
     "name": "stderr",
     "output_type": "stream",
     "text": [
      " 38%|███▊      | 308/800 [1:03:30<30:30,  3.72s/it]"
     ]
    },
    {
     "name": "stdout",
     "output_type": "stream",
     "text": [
      "Completed processing F:\\UCF_Crimes\\UCF_Crimes\\Videos\\Training_Normal_Videos_Anomaly\\Normal_Videos351_x264.mp4\n"
     ]
    },
    {
     "name": "stderr",
     "output_type": "stream",
     "text": [
      " 39%|███▊      | 309/800 [1:03:31<23:56,  2.93s/it]"
     ]
    },
    {
     "name": "stdout",
     "output_type": "stream",
     "text": [
      "Completed processing F:\\UCF_Crimes\\UCF_Crimes\\Videos\\Training_Normal_Videos_Anomaly\\Normal_Videos353_x264.mp4\n"
     ]
    },
    {
     "name": "stderr",
     "output_type": "stream",
     "text": [
      " 39%|███▉      | 310/800 [1:03:32<20:41,  2.53s/it]"
     ]
    },
    {
     "name": "stdout",
     "output_type": "stream",
     "text": [
      "Completed processing F:\\UCF_Crimes\\UCF_Crimes\\Videos\\Training_Normal_Videos_Anomaly\\Normal_Videos354_x264.mp4\n"
     ]
    },
    {
     "name": "stderr",
     "output_type": "stream",
     "text": [
      " 39%|███▉      | 311/800 [1:03:33<16:50,  2.07s/it]"
     ]
    },
    {
     "name": "stdout",
     "output_type": "stream",
     "text": [
      "Completed processing F:\\UCF_Crimes\\UCF_Crimes\\Videos\\Training_Normal_Videos_Anomaly\\Normal_Videos355_x264.mp4\n"
     ]
    },
    {
     "name": "stderr",
     "output_type": "stream",
     "text": [
      " 39%|███▉      | 312/800 [1:03:34<13:57,  1.72s/it]"
     ]
    },
    {
     "name": "stdout",
     "output_type": "stream",
     "text": [
      "Completed processing F:\\UCF_Crimes\\UCF_Crimes\\Videos\\Training_Normal_Videos_Anomaly\\Normal_Videos356_x264.mp4\n"
     ]
    },
    {
     "name": "stderr",
     "output_type": "stream",
     "text": [
      " 39%|███▉      | 313/800 [1:03:36<13:25,  1.65s/it]"
     ]
    },
    {
     "name": "stdout",
     "output_type": "stream",
     "text": [
      "Completed processing F:\\UCF_Crimes\\UCF_Crimes\\Videos\\Training_Normal_Videos_Anomaly\\Normal_Videos357_x264.mp4\n"
     ]
    },
    {
     "name": "stderr",
     "output_type": "stream",
     "text": [
      " 39%|███▉      | 314/800 [1:03:38<14:32,  1.80s/it]"
     ]
    },
    {
     "name": "stdout",
     "output_type": "stream",
     "text": [
      "Completed processing F:\\UCF_Crimes\\UCF_Crimes\\Videos\\Training_Normal_Videos_Anomaly\\Normal_Videos358_x264.mp4\n"
     ]
    },
    {
     "name": "stderr",
     "output_type": "stream",
     "text": [
      " 39%|███▉      | 315/800 [1:03:39<12:24,  1.53s/it]"
     ]
    },
    {
     "name": "stdout",
     "output_type": "stream",
     "text": [
      "Completed processing F:\\UCF_Crimes\\UCF_Crimes\\Videos\\Training_Normal_Videos_Anomaly\\Normal_Videos359_x264.mp4\n"
     ]
    },
    {
     "name": "stderr",
     "output_type": "stream",
     "text": [
      " 40%|███▉      | 316/800 [1:03:40<11:58,  1.48s/it]"
     ]
    },
    {
     "name": "stdout",
     "output_type": "stream",
     "text": [
      "Completed processing F:\\UCF_Crimes\\UCF_Crimes\\Videos\\Training_Normal_Videos_Anomaly\\Normal_Videos361_x264.mp4\n"
     ]
    },
    {
     "name": "stderr",
     "output_type": "stream",
     "text": [
      " 40%|███▉      | 317/800 [1:03:41<10:08,  1.26s/it]"
     ]
    },
    {
     "name": "stdout",
     "output_type": "stream",
     "text": [
      "Completed processing F:\\UCF_Crimes\\UCF_Crimes\\Videos\\Training_Normal_Videos_Anomaly\\Normal_Videos362_x264.mp4\n"
     ]
    },
    {
     "name": "stderr",
     "output_type": "stream",
     "text": [
      " 40%|███▉      | 318/800 [1:03:45<17:41,  2.20s/it]"
     ]
    },
    {
     "name": "stdout",
     "output_type": "stream",
     "text": [
      "Completed processing F:\\UCF_Crimes\\UCF_Crimes\\Videos\\Training_Normal_Videos_Anomaly\\Normal_Videos363_x264.mp4\n"
     ]
    },
    {
     "name": "stderr",
     "output_type": "stream",
     "text": [
      " 40%|███▉      | 319/800 [1:03:46<14:31,  1.81s/it]"
     ]
    },
    {
     "name": "stdout",
     "output_type": "stream",
     "text": [
      "Completed processing F:\\UCF_Crimes\\UCF_Crimes\\Videos\\Training_Normal_Videos_Anomaly\\Normal_Videos364_x264.mp4\n"
     ]
    },
    {
     "name": "stderr",
     "output_type": "stream",
     "text": [
      " 40%|████      | 320/800 [1:03:47<12:23,  1.55s/it]"
     ]
    },
    {
     "name": "stdout",
     "output_type": "stream",
     "text": [
      "Completed processing F:\\UCF_Crimes\\UCF_Crimes\\Videos\\Training_Normal_Videos_Anomaly\\Normal_Videos366_x264.mp4\n"
     ]
    },
    {
     "name": "stderr",
     "output_type": "stream",
     "text": [
      " 40%|████      | 321/800 [1:03:51<17:57,  2.25s/it]"
     ]
    },
    {
     "name": "stdout",
     "output_type": "stream",
     "text": [
      "Completed processing F:\\UCF_Crimes\\UCF_Crimes\\Videos\\Training_Normal_Videos_Anomaly\\Normal_Videos367_x264.mp4\n"
     ]
    },
    {
     "name": "stderr",
     "output_type": "stream",
     "text": [
      " 40%|████      | 322/800 [1:03:52<15:14,  1.91s/it]"
     ]
    },
    {
     "name": "stdout",
     "output_type": "stream",
     "text": [
      "Completed processing F:\\UCF_Crimes\\UCF_Crimes\\Videos\\Training_Normal_Videos_Anomaly\\Normal_Videos368_x264.mp4\n"
     ]
    },
    {
     "name": "stderr",
     "output_type": "stream",
     "text": [
      " 40%|████      | 323/800 [1:04:01<30:47,  3.87s/it]"
     ]
    },
    {
     "name": "stdout",
     "output_type": "stream",
     "text": [
      "Completed processing F:\\UCF_Crimes\\UCF_Crimes\\Videos\\Training_Normal_Videos_Anomaly\\Normal_Videos369_x264.mp4\n"
     ]
    },
    {
     "name": "stderr",
     "output_type": "stream",
     "text": [
      " 40%|████      | 324/800 [1:04:05<32:13,  4.06s/it]"
     ]
    },
    {
     "name": "stdout",
     "output_type": "stream",
     "text": [
      "Completed processing F:\\UCF_Crimes\\UCF_Crimes\\Videos\\Training_Normal_Videos_Anomaly\\Normal_Videos370_x264.mp4\n"
     ]
    },
    {
     "name": "stderr",
     "output_type": "stream",
     "text": [
      " 41%|████      | 325/800 [1:04:43<1:52:13, 14.18s/it]"
     ]
    },
    {
     "name": "stdout",
     "output_type": "stream",
     "text": [
      "Completed processing F:\\UCF_Crimes\\UCF_Crimes\\Videos\\Training_Normal_Videos_Anomaly\\Normal_Videos371_x264.mp4\n"
     ]
    },
    {
     "name": "stderr",
     "output_type": "stream",
     "text": [
      " 41%|████      | 326/800 [1:04:44<1:20:24, 10.18s/it]"
     ]
    },
    {
     "name": "stdout",
     "output_type": "stream",
     "text": [
      "Completed processing F:\\UCF_Crimes\\UCF_Crimes\\Videos\\Training_Normal_Videos_Anomaly\\Normal_Videos372_x264.mp4\n"
     ]
    },
    {
     "name": "stderr",
     "output_type": "stream",
     "text": [
      " 41%|████      | 327/800 [1:04:44<57:58,  7.35s/it]  "
     ]
    },
    {
     "name": "stdout",
     "output_type": "stream",
     "text": [
      "Completed processing F:\\UCF_Crimes\\UCF_Crimes\\Videos\\Training_Normal_Videos_Anomaly\\Normal_Videos373_x264.mp4\n"
     ]
    },
    {
     "name": "stderr",
     "output_type": "stream",
     "text": [
      " 41%|████      | 328/800 [1:04:45<41:46,  5.31s/it]"
     ]
    },
    {
     "name": "stdout",
     "output_type": "stream",
     "text": [
      "Completed processing F:\\UCF_Crimes\\UCF_Crimes\\Videos\\Training_Normal_Videos_Anomaly\\Normal_Videos374_x264.mp4\n"
     ]
    },
    {
     "name": "stderr",
     "output_type": "stream",
     "text": [
      " 41%|████      | 329/800 [1:05:44<2:48:38, 21.48s/it]"
     ]
    },
    {
     "name": "stdout",
     "output_type": "stream",
     "text": [
      "Completed processing F:\\UCF_Crimes\\UCF_Crimes\\Videos\\Training_Normal_Videos_Anomaly\\Normal_Videos375_x264.mp4\n"
     ]
    },
    {
     "name": "stderr",
     "output_type": "stream",
     "text": [
      " 41%|████▏     | 330/800 [1:05:49<2:09:17, 16.51s/it]"
     ]
    },
    {
     "name": "stdout",
     "output_type": "stream",
     "text": [
      "Completed processing F:\\UCF_Crimes\\UCF_Crimes\\Videos\\Training_Normal_Videos_Anomaly\\Normal_Videos376_x264.mp4\n"
     ]
    },
    {
     "name": "stderr",
     "output_type": "stream",
     "text": [
      " 41%|████▏     | 331/800 [1:06:02<2:00:13, 15.38s/it]"
     ]
    },
    {
     "name": "stdout",
     "output_type": "stream",
     "text": [
      "Completed processing F:\\UCF_Crimes\\UCF_Crimes\\Videos\\Training_Normal_Videos_Anomaly\\Normal_Videos377_x264.mp4\n"
     ]
    },
    {
     "name": "stderr",
     "output_type": "stream",
     "text": [
      " 42%|████▏     | 332/800 [1:06:03<1:25:32, 10.97s/it]"
     ]
    },
    {
     "name": "stdout",
     "output_type": "stream",
     "text": [
      "Completed processing F:\\UCF_Crimes\\UCF_Crimes\\Videos\\Training_Normal_Videos_Anomaly\\Normal_Videos378_x264.mp4\n"
     ]
    },
    {
     "name": "stderr",
     "output_type": "stream",
     "text": [
      " 42%|████▏     | 333/800 [1:06:04<1:02:54,  8.08s/it]"
     ]
    },
    {
     "name": "stdout",
     "output_type": "stream",
     "text": [
      "Completed processing F:\\UCF_Crimes\\UCF_Crimes\\Videos\\Training_Normal_Videos_Anomaly\\Normal_Videos379_x264.mp4\n"
     ]
    },
    {
     "name": "stderr",
     "output_type": "stream",
     "text": [
      " 42%|████▏     | 334/800 [1:06:07<50:24,  6.49s/it]  "
     ]
    },
    {
     "name": "stdout",
     "output_type": "stream",
     "text": [
      "Completed processing F:\\UCF_Crimes\\UCF_Crimes\\Videos\\Training_Normal_Videos_Anomaly\\Normal_Videos380_x264.mp4\n"
     ]
    },
    {
     "name": "stderr",
     "output_type": "stream",
     "text": [
      " 42%|████▏     | 335/800 [1:06:09<40:14,  5.19s/it]"
     ]
    },
    {
     "name": "stdout",
     "output_type": "stream",
     "text": [
      "Completed processing F:\\UCF_Crimes\\UCF_Crimes\\Videos\\Training_Normal_Videos_Anomaly\\Normal_Videos381_x264.mp4\n"
     ]
    },
    {
     "name": "stderr",
     "output_type": "stream",
     "text": [
      " 42%|████▏     | 336/800 [1:06:11<32:30,  4.20s/it]"
     ]
    },
    {
     "name": "stdout",
     "output_type": "stream",
     "text": [
      "Completed processing F:\\UCF_Crimes\\UCF_Crimes\\Videos\\Training_Normal_Videos_Anomaly\\Normal_Videos382_x264.mp4\n"
     ]
    },
    {
     "name": "stderr",
     "output_type": "stream",
     "text": [
      " 42%|████▏     | 337/800 [1:06:13<27:10,  3.52s/it]"
     ]
    },
    {
     "name": "stdout",
     "output_type": "stream",
     "text": [
      "Completed processing F:\\UCF_Crimes\\UCF_Crimes\\Videos\\Training_Normal_Videos_Anomaly\\Normal_Videos383_x264.mp4\n"
     ]
    },
    {
     "name": "stderr",
     "output_type": "stream",
     "text": [
      " 42%|████▏     | 338/800 [1:06:15<24:39,  3.20s/it]"
     ]
    },
    {
     "name": "stdout",
     "output_type": "stream",
     "text": [
      "Completed processing F:\\UCF_Crimes\\UCF_Crimes\\Videos\\Training_Normal_Videos_Anomaly\\Normal_Videos384_x264.mp4\n"
     ]
    },
    {
     "name": "stderr",
     "output_type": "stream",
     "text": [
      " 42%|████▏     | 339/800 [1:06:18<23:17,  3.03s/it]"
     ]
    },
    {
     "name": "stdout",
     "output_type": "stream",
     "text": [
      "Completed processing F:\\UCF_Crimes\\UCF_Crimes\\Videos\\Training_Normal_Videos_Anomaly\\Normal_Videos385_x264.mp4\n"
     ]
    },
    {
     "name": "stderr",
     "output_type": "stream",
     "text": [
      " 42%|████▎     | 340/800 [1:06:22<26:26,  3.45s/it]"
     ]
    },
    {
     "name": "stdout",
     "output_type": "stream",
     "text": [
      "Completed processing F:\\UCF_Crimes\\UCF_Crimes\\Videos\\Training_Normal_Videos_Anomaly\\Normal_Videos386_x264.mp4\n"
     ]
    },
    {
     "name": "stderr",
     "output_type": "stream",
     "text": [
      " 43%|████▎     | 341/800 [1:06:23<20:36,  2.69s/it]"
     ]
    },
    {
     "name": "stdout",
     "output_type": "stream",
     "text": [
      "Completed processing F:\\UCF_Crimes\\UCF_Crimes\\Videos\\Training_Normal_Videos_Anomaly\\Normal_Videos387_x264.mp4\n"
     ]
    },
    {
     "name": "stderr",
     "output_type": "stream",
     "text": [
      " 43%|████▎     | 342/800 [1:06:28<25:23,  3.33s/it]"
     ]
    },
    {
     "name": "stdout",
     "output_type": "stream",
     "text": [
      "Completed processing F:\\UCF_Crimes\\UCF_Crimes\\Videos\\Training_Normal_Videos_Anomaly\\Normal_Videos388_x264.mp4\n"
     ]
    },
    {
     "name": "stderr",
     "output_type": "stream",
     "text": [
      " 43%|████▎     | 343/800 [1:06:32<26:12,  3.44s/it]"
     ]
    },
    {
     "name": "stdout",
     "output_type": "stream",
     "text": [
      "Completed processing F:\\UCF_Crimes\\UCF_Crimes\\Videos\\Training_Normal_Videos_Anomaly\\Normal_Videos389_x264.mp4\n"
     ]
    },
    {
     "name": "stderr",
     "output_type": "stream",
     "text": [
      " 43%|████▎     | 344/800 [1:06:32<19:39,  2.59s/it]"
     ]
    },
    {
     "name": "stdout",
     "output_type": "stream",
     "text": [
      "Completed processing F:\\UCF_Crimes\\UCF_Crimes\\Videos\\Training_Normal_Videos_Anomaly\\Normal_Videos390_x264.mp4\n"
     ]
    },
    {
     "name": "stderr",
     "output_type": "stream",
     "text": [
      " 43%|████▎     | 345/800 [1:06:48<49:37,  6.54s/it]"
     ]
    },
    {
     "name": "stdout",
     "output_type": "stream",
     "text": [
      "Completed processing F:\\UCF_Crimes\\UCF_Crimes\\Videos\\Training_Normal_Videos_Anomaly\\Normal_Videos391_x264.mp4\n"
     ]
    },
    {
     "name": "stderr",
     "output_type": "stream",
     "text": [
      " 43%|████▎     | 346/800 [1:06:50<39:14,  5.19s/it]"
     ]
    },
    {
     "name": "stdout",
     "output_type": "stream",
     "text": [
      "Completed processing F:\\UCF_Crimes\\UCF_Crimes\\Videos\\Training_Normal_Videos_Anomaly\\Normal_Videos392_x264.mp4\n"
     ]
    },
    {
     "name": "stderr",
     "output_type": "stream",
     "text": [
      " 43%|████▎     | 347/800 [1:06:53<34:49,  4.61s/it]"
     ]
    },
    {
     "name": "stdout",
     "output_type": "stream",
     "text": [
      "Completed processing F:\\UCF_Crimes\\UCF_Crimes\\Videos\\Training_Normal_Videos_Anomaly\\Normal_Videos393_x264.mp4\n"
     ]
    },
    {
     "name": "stderr",
     "output_type": "stream",
     "text": [
      " 44%|████▎     | 348/800 [1:06:55<28:13,  3.75s/it]"
     ]
    },
    {
     "name": "stdout",
     "output_type": "stream",
     "text": [
      "Completed processing F:\\UCF_Crimes\\UCF_Crimes\\Videos\\Training_Normal_Videos_Anomaly\\Normal_Videos394_x264.mp4\n"
     ]
    },
    {
     "name": "stderr",
     "output_type": "stream",
     "text": [
      " 44%|████▎     | 349/800 [1:06:56<21:03,  2.80s/it]"
     ]
    },
    {
     "name": "stdout",
     "output_type": "stream",
     "text": [
      "Completed processing F:\\UCF_Crimes\\UCF_Crimes\\Videos\\Training_Normal_Videos_Anomaly\\Normal_Videos395_x264.mp4\n"
     ]
    },
    {
     "name": "stderr",
     "output_type": "stream",
     "text": [
      " 44%|████▍     | 350/800 [1:08:18<3:20:46, 26.77s/it]"
     ]
    },
    {
     "name": "stdout",
     "output_type": "stream",
     "text": [
      "Completed processing F:\\UCF_Crimes\\UCF_Crimes\\Videos\\Training_Normal_Videos_Anomaly\\Normal_Videos396_x264.mp4\n"
     ]
    },
    {
     "name": "stderr",
     "output_type": "stream",
     "text": [
      " 44%|████▍     | 351/800 [1:09:12<4:20:05, 34.76s/it]"
     ]
    },
    {
     "name": "stdout",
     "output_type": "stream",
     "text": [
      "Completed processing F:\\UCF_Crimes\\UCF_Crimes\\Videos\\Training_Normal_Videos_Anomaly\\Normal_Videos397_x264.mp4\n"
     ]
    },
    {
     "name": "stderr",
     "output_type": "stream",
     "text": [
      " 44%|████▍     | 352/800 [1:09:16<3:10:31, 25.52s/it]"
     ]
    },
    {
     "name": "stdout",
     "output_type": "stream",
     "text": [
      "Completed processing F:\\UCF_Crimes\\UCF_Crimes\\Videos\\Training_Normal_Videos_Anomaly\\Normal_Videos398_x264.mp4\n"
     ]
    },
    {
     "name": "stderr",
     "output_type": "stream",
     "text": [
      " 44%|████▍     | 353/800 [1:09:19<2:20:38, 18.88s/it]"
     ]
    },
    {
     "name": "stdout",
     "output_type": "stream",
     "text": [
      "Completed processing F:\\UCF_Crimes\\UCF_Crimes\\Videos\\Training_Normal_Videos_Anomaly\\Normal_Videos399_x264.mp4\n"
     ]
    },
    {
     "name": "stderr",
     "output_type": "stream",
     "text": [
      " 44%|████▍     | 354/800 [1:09:20<1:40:12, 13.48s/it]"
     ]
    },
    {
     "name": "stdout",
     "output_type": "stream",
     "text": [
      "Completed processing F:\\UCF_Crimes\\UCF_Crimes\\Videos\\Training_Normal_Videos_Anomaly\\Normal_Videos400_x264.mp4\n"
     ]
    },
    {
     "name": "stderr",
     "output_type": "stream",
     "text": [
      " 44%|████▍     | 355/800 [1:09:21<1:11:52,  9.69s/it]"
     ]
    },
    {
     "name": "stdout",
     "output_type": "stream",
     "text": [
      "Completed processing F:\\UCF_Crimes\\UCF_Crimes\\Videos\\Training_Normal_Videos_Anomaly\\Normal_Videos402_x264.mp4\n"
     ]
    },
    {
     "name": "stderr",
     "output_type": "stream",
     "text": [
      " 44%|████▍     | 356/800 [1:09:21<51:15,  6.93s/it]  "
     ]
    },
    {
     "name": "stdout",
     "output_type": "stream",
     "text": [
      "Completed processing F:\\UCF_Crimes\\UCF_Crimes\\Videos\\Training_Normal_Videos_Anomaly\\Normal_Videos403_x264.mp4\n"
     ]
    },
    {
     "name": "stderr",
     "output_type": "stream",
     "text": [
      " 45%|████▍     | 357/800 [1:09:24<42:44,  5.79s/it]"
     ]
    },
    {
     "name": "stdout",
     "output_type": "stream",
     "text": [
      "Completed processing F:\\UCF_Crimes\\UCF_Crimes\\Videos\\Training_Normal_Videos_Anomaly\\Normal_Videos404_x264.mp4\n"
     ]
    },
    {
     "name": "stderr",
     "output_type": "stream",
     "text": [
      " 45%|████▍     | 358/800 [1:09:26<32:46,  4.45s/it]"
     ]
    },
    {
     "name": "stdout",
     "output_type": "stream",
     "text": [
      "Completed processing F:\\UCF_Crimes\\UCF_Crimes\\Videos\\Training_Normal_Videos_Anomaly\\Normal_Videos405_x264.mp4\n"
     ]
    },
    {
     "name": "stderr",
     "output_type": "stream",
     "text": [
      " 45%|████▍     | 359/800 [1:09:26<24:36,  3.35s/it]"
     ]
    },
    {
     "name": "stdout",
     "output_type": "stream",
     "text": [
      "Completed processing F:\\UCF_Crimes\\UCF_Crimes\\Videos\\Training_Normal_Videos_Anomaly\\Normal_Videos406_x264.mp4\n"
     ]
    },
    {
     "name": "stderr",
     "output_type": "stream",
     "text": [
      " 45%|████▌     | 360/800 [1:09:27<18:27,  2.52s/it]"
     ]
    },
    {
     "name": "stdout",
     "output_type": "stream",
     "text": [
      "Completed processing F:\\UCF_Crimes\\UCF_Crimes\\Videos\\Training_Normal_Videos_Anomaly\\Normal_Videos407_x264.mp4\n"
     ]
    },
    {
     "name": "stderr",
     "output_type": "stream",
     "text": [
      " 45%|████▌     | 361/800 [1:09:28<15:11,  2.08s/it]"
     ]
    },
    {
     "name": "stdout",
     "output_type": "stream",
     "text": [
      "Completed processing F:\\UCF_Crimes\\UCF_Crimes\\Videos\\Training_Normal_Videos_Anomaly\\Normal_Videos408_x264.mp4\n"
     ]
    },
    {
     "name": "stderr",
     "output_type": "stream",
     "text": [
      " 45%|████▌     | 362/800 [1:09:32<19:11,  2.63s/it]"
     ]
    },
    {
     "name": "stdout",
     "output_type": "stream",
     "text": [
      "Completed processing F:\\UCF_Crimes\\UCF_Crimes\\Videos\\Training_Normal_Videos_Anomaly\\Normal_Videos409_x264.mp4\n"
     ]
    },
    {
     "name": "stderr",
     "output_type": "stream",
     "text": [
      " 45%|████▌     | 363/800 [1:09:45<42:21,  5.82s/it]"
     ]
    },
    {
     "name": "stdout",
     "output_type": "stream",
     "text": [
      "Completed processing F:\\UCF_Crimes\\UCF_Crimes\\Videos\\Training_Normal_Videos_Anomaly\\Normal_Videos410_x264.mp4\n"
     ]
    },
    {
     "name": "stderr",
     "output_type": "stream",
     "text": [
      " 46%|████▌     | 364/800 [1:09:46<31:40,  4.36s/it]"
     ]
    },
    {
     "name": "stdout",
     "output_type": "stream",
     "text": [
      "Completed processing F:\\UCF_Crimes\\UCF_Crimes\\Videos\\Training_Normal_Videos_Anomaly\\Normal_Videos411_x264.mp4\n"
     ]
    },
    {
     "name": "stderr",
     "output_type": "stream",
     "text": [
      " 46%|████▌     | 365/800 [1:09:47<23:45,  3.28s/it]"
     ]
    },
    {
     "name": "stdout",
     "output_type": "stream",
     "text": [
      "Completed processing F:\\UCF_Crimes\\UCF_Crimes\\Videos\\Training_Normal_Videos_Anomaly\\Normal_Videos412_x264.mp4\n"
     ]
    },
    {
     "name": "stderr",
     "output_type": "stream",
     "text": [
      " 46%|████▌     | 366/800 [1:09:49<22:00,  3.04s/it]"
     ]
    },
    {
     "name": "stdout",
     "output_type": "stream",
     "text": [
      "Completed processing F:\\UCF_Crimes\\UCF_Crimes\\Videos\\Training_Normal_Videos_Anomaly\\Normal_Videos413_x264.mp4\n"
     ]
    },
    {
     "name": "stderr",
     "output_type": "stream",
     "text": [
      " 46%|████▌     | 367/800 [1:09:50<16:52,  2.34s/it]"
     ]
    },
    {
     "name": "stdout",
     "output_type": "stream",
     "text": [
      "Completed processing F:\\UCF_Crimes\\UCF_Crimes\\Videos\\Training_Normal_Videos_Anomaly\\Normal_Videos414_x264.mp4\n"
     ]
    },
    {
     "name": "stderr",
     "output_type": "stream",
     "text": [
      " 46%|████▌     | 368/800 [1:10:18<1:10:50,  9.84s/it]"
     ]
    },
    {
     "name": "stdout",
     "output_type": "stream",
     "text": [
      "Completed processing F:\\UCF_Crimes\\UCF_Crimes\\Videos\\Training_Normal_Videos_Anomaly\\Normal_Videos415_x264.mp4\n"
     ]
    },
    {
     "name": "stderr",
     "output_type": "stream",
     "text": [
      " 46%|████▌     | 369/800 [1:10:19<51:57,  7.23s/it]  "
     ]
    },
    {
     "name": "stdout",
     "output_type": "stream",
     "text": [
      "Completed processing F:\\UCF_Crimes\\UCF_Crimes\\Videos\\Training_Normal_Videos_Anomaly\\Normal_Videos416_x264.mp4\n"
     ]
    },
    {
     "name": "stderr",
     "output_type": "stream",
     "text": [
      " 46%|████▋     | 370/800 [1:10:21<40:20,  5.63s/it]"
     ]
    },
    {
     "name": "stdout",
     "output_type": "stream",
     "text": [
      "Completed processing F:\\UCF_Crimes\\UCF_Crimes\\Videos\\Training_Normal_Videos_Anomaly\\Normal_Videos418_x264.mp4\n"
     ]
    },
    {
     "name": "stderr",
     "output_type": "stream",
     "text": [
      " 46%|████▋     | 371/800 [1:10:22<31:01,  4.34s/it]"
     ]
    },
    {
     "name": "stdout",
     "output_type": "stream",
     "text": [
      "Completed processing F:\\UCF_Crimes\\UCF_Crimes\\Videos\\Training_Normal_Videos_Anomaly\\Normal_Videos419_x264.mp4\n"
     ]
    },
    {
     "name": "stderr",
     "output_type": "stream",
     "text": [
      " 46%|████▋     | 372/800 [1:10:33<45:11,  6.33s/it]"
     ]
    },
    {
     "name": "stdout",
     "output_type": "stream",
     "text": [
      "Completed processing F:\\UCF_Crimes\\UCF_Crimes\\Videos\\Training_Normal_Videos_Anomaly\\Normal_Videos420_x264.mp4\n"
     ]
    },
    {
     "name": "stderr",
     "output_type": "stream",
     "text": [
      " 47%|████▋     | 373/800 [1:10:35<36:40,  5.15s/it]"
     ]
    },
    {
     "name": "stdout",
     "output_type": "stream",
     "text": [
      "Completed processing F:\\UCF_Crimes\\UCF_Crimes\\Videos\\Training_Normal_Videos_Anomaly\\Normal_Videos421_x264.mp4\n"
     ]
    },
    {
     "name": "stderr",
     "output_type": "stream",
     "text": [
      " 47%|████▋     | 374/800 [1:10:37<29:19,  4.13s/it]"
     ]
    },
    {
     "name": "stdout",
     "output_type": "stream",
     "text": [
      "Completed processing F:\\UCF_Crimes\\UCF_Crimes\\Videos\\Training_Normal_Videos_Anomaly\\Normal_Videos422_x264.mp4\n"
     ]
    },
    {
     "name": "stderr",
     "output_type": "stream",
     "text": [
      " 47%|████▋     | 375/800 [1:10:42<31:27,  4.44s/it]"
     ]
    },
    {
     "name": "stdout",
     "output_type": "stream",
     "text": [
      "Completed processing F:\\UCF_Crimes\\UCF_Crimes\\Videos\\Training_Normal_Videos_Anomaly\\Normal_Videos423_x264.mp4\n"
     ]
    },
    {
     "name": "stderr",
     "output_type": "stream",
     "text": [
      " 47%|████▋     | 376/800 [1:10:49<37:15,  5.27s/it]"
     ]
    },
    {
     "name": "stdout",
     "output_type": "stream",
     "text": [
      "Completed processing F:\\UCF_Crimes\\UCF_Crimes\\Videos\\Training_Normal_Videos_Anomaly\\Normal_Videos424_x264.mp4\n"
     ]
    },
    {
     "name": "stderr",
     "output_type": "stream",
     "text": [
      " 47%|████▋     | 377/800 [1:13:46<6:40:19, 56.78s/it]"
     ]
    },
    {
     "name": "stdout",
     "output_type": "stream",
     "text": [
      "Completed processing F:\\UCF_Crimes\\UCF_Crimes\\Videos\\Training_Normal_Videos_Anomaly\\Normal_Videos425_x264.mp4\n"
     ]
    },
    {
     "name": "stderr",
     "output_type": "stream",
     "text": [
      " 47%|████▋     | 378/800 [1:13:48<4:42:46, 40.21s/it]"
     ]
    },
    {
     "name": "stdout",
     "output_type": "stream",
     "text": [
      "Completed processing F:\\UCF_Crimes\\UCF_Crimes\\Videos\\Training_Normal_Videos_Anomaly\\Normal_Videos426_x264.mp4\n"
     ]
    },
    {
     "name": "stderr",
     "output_type": "stream",
     "text": [
      " 47%|████▋     | 379/800 [1:13:49<3:20:35, 28.59s/it]"
     ]
    },
    {
     "name": "stdout",
     "output_type": "stream",
     "text": [
      "Completed processing F:\\UCF_Crimes\\UCF_Crimes\\Videos\\Training_Normal_Videos_Anomaly\\Normal_Videos427_x264.mp4\n"
     ]
    },
    {
     "name": "stderr",
     "output_type": "stream",
     "text": [
      " 48%|████▊     | 380/800 [1:13:50<2:22:20, 20.33s/it]"
     ]
    },
    {
     "name": "stdout",
     "output_type": "stream",
     "text": [
      "Completed processing F:\\UCF_Crimes\\UCF_Crimes\\Videos\\Training_Normal_Videos_Anomaly\\Normal_Videos428_x264.mp4\n"
     ]
    },
    {
     "name": "stderr",
     "output_type": "stream",
     "text": [
      " 48%|████▊     | 381/800 [1:13:54<1:47:08, 15.34s/it]"
     ]
    },
    {
     "name": "stdout",
     "output_type": "stream",
     "text": [
      "Completed processing F:\\UCF_Crimes\\UCF_Crimes\\Videos\\Training_Normal_Videos_Anomaly\\Normal_Videos429_x264.mp4\n"
     ]
    },
    {
     "name": "stderr",
     "output_type": "stream",
     "text": [
      " 48%|████▊     | 382/800 [1:13:55<1:16:40, 11.01s/it]"
     ]
    },
    {
     "name": "stdout",
     "output_type": "stream",
     "text": [
      "Completed processing F:\\UCF_Crimes\\UCF_Crimes\\Videos\\Training_Normal_Videos_Anomaly\\Normal_Videos430_x264.mp4\n"
     ]
    },
    {
     "name": "stderr",
     "output_type": "stream",
     "text": [
      " 48%|████▊     | 383/800 [1:13:58<59:31,  8.56s/it]  "
     ]
    },
    {
     "name": "stdout",
     "output_type": "stream",
     "text": [
      "Completed processing F:\\UCF_Crimes\\UCF_Crimes\\Videos\\Training_Normal_Videos_Anomaly\\Normal_Videos431_x264.mp4\n"
     ]
    },
    {
     "name": "stderr",
     "output_type": "stream",
     "text": [
      " 48%|████▊     | 384/800 [1:14:01<48:58,  7.06s/it]"
     ]
    },
    {
     "name": "stdout",
     "output_type": "stream",
     "text": [
      "Completed processing F:\\UCF_Crimes\\UCF_Crimes\\Videos\\Training_Normal_Videos_Anomaly\\Normal_Videos432_x264.mp4\n"
     ]
    },
    {
     "name": "stderr",
     "output_type": "stream",
     "text": [
      " 48%|████▊     | 385/800 [1:14:02<35:12,  5.09s/it]"
     ]
    },
    {
     "name": "stdout",
     "output_type": "stream",
     "text": [
      "Completed processing F:\\UCF_Crimes\\UCF_Crimes\\Videos\\Training_Normal_Videos_Anomaly\\Normal_Videos433_x264.mp4\n"
     ]
    },
    {
     "name": "stderr",
     "output_type": "stream",
     "text": [
      " 48%|████▊     | 386/800 [1:14:04<28:50,  4.18s/it]"
     ]
    },
    {
     "name": "stdout",
     "output_type": "stream",
     "text": [
      "Completed processing F:\\UCF_Crimes\\UCF_Crimes\\Videos\\Training_Normal_Videos_Anomaly\\Normal_Videos434_x264.mp4\n"
     ]
    },
    {
     "name": "stderr",
     "output_type": "stream",
     "text": [
      " 48%|████▊     | 387/800 [1:14:05<22:45,  3.31s/it]"
     ]
    },
    {
     "name": "stdout",
     "output_type": "stream",
     "text": [
      "Completed processing F:\\UCF_Crimes\\UCF_Crimes\\Videos\\Training_Normal_Videos_Anomaly\\Normal_Videos435_x264.mp4\n"
     ]
    },
    {
     "name": "stderr",
     "output_type": "stream",
     "text": [
      " 48%|████▊     | 388/800 [1:14:08<20:28,  2.98s/it]"
     ]
    },
    {
     "name": "stdout",
     "output_type": "stream",
     "text": [
      "Completed processing F:\\UCF_Crimes\\UCF_Crimes\\Videos\\Training_Normal_Videos_Anomaly\\Normal_Videos436_x264.mp4\n"
     ]
    },
    {
     "name": "stderr",
     "output_type": "stream",
     "text": [
      " 49%|████▊     | 389/800 [1:14:11<20:53,  3.05s/it]"
     ]
    },
    {
     "name": "stdout",
     "output_type": "stream",
     "text": [
      "Completed processing F:\\UCF_Crimes\\UCF_Crimes\\Videos\\Training_Normal_Videos_Anomaly\\Normal_Videos437_x264.mp4\n"
     ]
    },
    {
     "name": "stderr",
     "output_type": "stream",
     "text": [
      " 49%|████▉     | 390/800 [1:14:11<16:10,  2.37s/it]"
     ]
    },
    {
     "name": "stdout",
     "output_type": "stream",
     "text": [
      "Completed processing F:\\UCF_Crimes\\UCF_Crimes\\Videos\\Training_Normal_Videos_Anomaly\\Normal_Videos438_x264.mp4\n"
     ]
    },
    {
     "name": "stderr",
     "output_type": "stream",
     "text": [
      " 49%|████▉     | 391/800 [1:14:12<13:16,  1.95s/it]"
     ]
    },
    {
     "name": "stdout",
     "output_type": "stream",
     "text": [
      "Completed processing F:\\UCF_Crimes\\UCF_Crimes\\Videos\\Training_Normal_Videos_Anomaly\\Normal_Videos440_x264.mp4\n"
     ]
    },
    {
     "name": "stderr",
     "output_type": "stream",
     "text": [
      " 49%|████▉     | 392/800 [1:14:14<13:11,  1.94s/it]"
     ]
    },
    {
     "name": "stdout",
     "output_type": "stream",
     "text": [
      "Completed processing F:\\UCF_Crimes\\UCF_Crimes\\Videos\\Training_Normal_Videos_Anomaly\\Normal_Videos441_x264.mp4\n"
     ]
    },
    {
     "name": "stderr",
     "output_type": "stream",
     "text": [
      " 49%|████▉     | 393/800 [1:14:16<12:16,  1.81s/it]"
     ]
    },
    {
     "name": "stdout",
     "output_type": "stream",
     "text": [
      "Completed processing F:\\UCF_Crimes\\UCF_Crimes\\Videos\\Training_Normal_Videos_Anomaly\\Normal_Videos442_x264.mp4\n"
     ]
    },
    {
     "name": "stderr",
     "output_type": "stream",
     "text": [
      " 49%|████▉     | 394/800 [1:14:18<12:15,  1.81s/it]"
     ]
    },
    {
     "name": "stdout",
     "output_type": "stream",
     "text": [
      "Completed processing F:\\UCF_Crimes\\UCF_Crimes\\Videos\\Training_Normal_Videos_Anomaly\\Normal_Videos443_x264.mp4\n"
     ]
    },
    {
     "name": "stderr",
     "output_type": "stream",
     "text": [
      " 49%|████▉     | 395/800 [1:14:19<10:27,  1.55s/it]"
     ]
    },
    {
     "name": "stdout",
     "output_type": "stream",
     "text": [
      "Completed processing F:\\UCF_Crimes\\UCF_Crimes\\Videos\\Training_Normal_Videos_Anomaly\\Normal_Videos444_x264.mp4\n"
     ]
    },
    {
     "name": "stderr",
     "output_type": "stream",
     "text": [
      " 50%|████▉     | 396/800 [1:14:23<15:26,  2.29s/it]"
     ]
    },
    {
     "name": "stdout",
     "output_type": "stream",
     "text": [
      "Completed processing F:\\UCF_Crimes\\UCF_Crimes\\Videos\\Training_Normal_Videos_Anomaly\\Normal_Videos445_x264.mp4\n"
     ]
    },
    {
     "name": "stderr",
     "output_type": "stream",
     "text": [
      " 50%|████▉     | 397/800 [1:14:23<11:58,  1.78s/it]"
     ]
    },
    {
     "name": "stdout",
     "output_type": "stream",
     "text": [
      "Completed processing F:\\UCF_Crimes\\UCF_Crimes\\Videos\\Training_Normal_Videos_Anomaly\\Normal_Videos446_x264.mp4\n"
     ]
    },
    {
     "name": "stderr",
     "output_type": "stream",
     "text": [
      " 50%|████▉     | 398/800 [1:14:38<38:52,  5.80s/it]"
     ]
    },
    {
     "name": "stdout",
     "output_type": "stream",
     "text": [
      "Completed processing F:\\UCF_Crimes\\UCF_Crimes\\Videos\\Training_Normal_Videos_Anomaly\\Normal_Videos447_x264.mp4\n"
     ]
    },
    {
     "name": "stderr",
     "output_type": "stream",
     "text": [
      " 50%|████▉     | 399/800 [1:14:56<1:03:01,  9.43s/it]"
     ]
    },
    {
     "name": "stdout",
     "output_type": "stream",
     "text": [
      "Completed processing F:\\UCF_Crimes\\UCF_Crimes\\Videos\\Training_Normal_Videos_Anomaly\\Normal_Videos448_x264.mp4\n"
     ]
    },
    {
     "name": "stderr",
     "output_type": "stream",
     "text": [
      " 50%|█████     | 400/800 [1:16:39<4:09:12, 37.38s/it]"
     ]
    },
    {
     "name": "stdout",
     "output_type": "stream",
     "text": [
      "Completed processing F:\\UCF_Crimes\\UCF_Crimes\\Videos\\Training_Normal_Videos_Anomaly\\Normal_Videos449_x264.mp4\n"
     ]
    },
    {
     "name": "stderr",
     "output_type": "stream",
     "text": [
      " 50%|█████     | 401/800 [1:18:28<6:32:14, 58.98s/it]"
     ]
    },
    {
     "name": "stdout",
     "output_type": "stream",
     "text": [
      "Completed processing F:\\UCF_Crimes\\UCF_Crimes\\Videos\\Training_Normal_Videos_Anomaly\\Normal_Videos450_x264.mp4\n"
     ]
    },
    {
     "name": "stderr",
     "output_type": "stream",
     "text": [
      " 50%|█████     | 402/800 [1:18:33<4:43:35, 42.75s/it]"
     ]
    },
    {
     "name": "stdout",
     "output_type": "stream",
     "text": [
      "Completed processing F:\\UCF_Crimes\\UCF_Crimes\\Videos\\Training_Normal_Videos_Anomaly\\Normal_Videos451_x264.mp4\n"
     ]
    },
    {
     "name": "stderr",
     "output_type": "stream",
     "text": [
      " 50%|█████     | 403/800 [1:18:35<3:21:33, 30.46s/it]"
     ]
    },
    {
     "name": "stdout",
     "output_type": "stream",
     "text": [
      "Completed processing F:\\UCF_Crimes\\UCF_Crimes\\Videos\\Training_Normal_Videos_Anomaly\\Normal_Videos454_x264.mp4\n"
     ]
    },
    {
     "name": "stderr",
     "output_type": "stream",
     "text": [
      " 50%|█████     | 404/800 [1:18:36<2:22:08, 21.54s/it]"
     ]
    },
    {
     "name": "stdout",
     "output_type": "stream",
     "text": [
      "Completed processing F:\\UCF_Crimes\\UCF_Crimes\\Videos\\Training_Normal_Videos_Anomaly\\Normal_Videos455_x264.mp4\n"
     ]
    },
    {
     "name": "stderr",
     "output_type": "stream",
     "text": [
      " 51%|█████     | 405/800 [1:18:40<1:48:02, 16.41s/it]"
     ]
    },
    {
     "name": "stdout",
     "output_type": "stream",
     "text": [
      "Completed processing F:\\UCF_Crimes\\UCF_Crimes\\Videos\\Training_Normal_Videos_Anomaly\\Normal_Videos456_x264.mp4\n"
     ]
    },
    {
     "name": "stderr",
     "output_type": "stream",
     "text": [
      " 51%|█████     | 406/800 [1:18:42<1:18:54, 12.02s/it]"
     ]
    },
    {
     "name": "stdout",
     "output_type": "stream",
     "text": [
      "Completed processing F:\\UCF_Crimes\\UCF_Crimes\\Videos\\Training_Normal_Videos_Anomaly\\Normal_Videos457_x264.mp4\n"
     ]
    },
    {
     "name": "stderr",
     "output_type": "stream",
     "text": [
      " 51%|█████     | 407/800 [1:18:49<1:09:16, 10.58s/it]"
     ]
    },
    {
     "name": "stdout",
     "output_type": "stream",
     "text": [
      "Completed processing F:\\UCF_Crimes\\UCF_Crimes\\Videos\\Training_Normal_Videos_Anomaly\\Normal_Videos458_x264.mp4\n"
     ]
    },
    {
     "name": "stderr",
     "output_type": "stream",
     "text": [
      " 51%|█████     | 408/800 [1:18:57<1:03:34,  9.73s/it]"
     ]
    },
    {
     "name": "stdout",
     "output_type": "stream",
     "text": [
      "Completed processing F:\\UCF_Crimes\\UCF_Crimes\\Videos\\Training_Normal_Videos_Anomaly\\Normal_Videos459_x264.mp4\n"
     ]
    },
    {
     "name": "stderr",
     "output_type": "stream",
     "text": [
      " 51%|█████     | 409/800 [1:19:22<1:33:09, 14.30s/it]"
     ]
    },
    {
     "name": "stdout",
     "output_type": "stream",
     "text": [
      "Completed processing F:\\UCF_Crimes\\UCF_Crimes\\Videos\\Training_Normal_Videos_Anomaly\\Normal_Videos460_x264.mp4\n"
     ]
    },
    {
     "name": "stderr",
     "output_type": "stream",
     "text": [
      " 51%|█████▏    | 410/800 [1:19:24<1:09:01, 10.62s/it]"
     ]
    },
    {
     "name": "stdout",
     "output_type": "stream",
     "text": [
      "Completed processing F:\\UCF_Crimes\\UCF_Crimes\\Videos\\Training_Normal_Videos_Anomaly\\Normal_Videos461_x264.mp4\n"
     ]
    },
    {
     "name": "stderr",
     "output_type": "stream",
     "text": [
      " 51%|█████▏    | 411/800 [1:19:27<54:32,  8.41s/it]  "
     ]
    },
    {
     "name": "stdout",
     "output_type": "stream",
     "text": [
      "Completed processing F:\\UCF_Crimes\\UCF_Crimes\\Videos\\Training_Normal_Videos_Anomaly\\Normal_Videos462_x264.mp4\n"
     ]
    },
    {
     "name": "stderr",
     "output_type": "stream",
     "text": [
      " 52%|█████▏    | 412/800 [1:19:37<57:53,  8.95s/it]"
     ]
    },
    {
     "name": "stdout",
     "output_type": "stream",
     "text": [
      "Completed processing F:\\UCF_Crimes\\UCF_Crimes\\Videos\\Training_Normal_Videos_Anomaly\\Normal_Videos463_x264.mp4\n"
     ]
    },
    {
     "name": "stderr",
     "output_type": "stream",
     "text": [
      " 52%|█████▏    | 413/800 [1:19:43<50:33,  7.84s/it]"
     ]
    },
    {
     "name": "stdout",
     "output_type": "stream",
     "text": [
      "Completed processing F:\\UCF_Crimes\\UCF_Crimes\\Videos\\Training_Normal_Videos_Anomaly\\Normal_Videos464_x264.mp4\n"
     ]
    },
    {
     "name": "stderr",
     "output_type": "stream",
     "text": [
      " 52%|█████▏    | 414/800 [1:19:45<40:19,  6.27s/it]"
     ]
    },
    {
     "name": "stdout",
     "output_type": "stream",
     "text": [
      "Completed processing F:\\UCF_Crimes\\UCF_Crimes\\Videos\\Training_Normal_Videos_Anomaly\\Normal_Videos465_x264.mp4\n"
     ]
    },
    {
     "name": "stderr",
     "output_type": "stream",
     "text": [
      " 52%|█████▏    | 415/800 [1:19:47<31:58,  4.98s/it]"
     ]
    },
    {
     "name": "stdout",
     "output_type": "stream",
     "text": [
      "Completed processing F:\\UCF_Crimes\\UCF_Crimes\\Videos\\Training_Normal_Videos_Anomaly\\Normal_Videos466_x264.mp4\n"
     ]
    },
    {
     "name": "stderr",
     "output_type": "stream",
     "text": [
      " 52%|█████▏    | 416/800 [1:19:53<33:32,  5.24s/it]"
     ]
    },
    {
     "name": "stdout",
     "output_type": "stream",
     "text": [
      "Completed processing F:\\UCF_Crimes\\UCF_Crimes\\Videos\\Training_Normal_Videos_Anomaly\\Normal_Videos467_x264.mp4\n"
     ]
    },
    {
     "name": "stderr",
     "output_type": "stream",
     "text": [
      " 52%|█████▏    | 417/800 [1:19:54<25:09,  3.94s/it]"
     ]
    },
    {
     "name": "stdout",
     "output_type": "stream",
     "text": [
      "Completed processing F:\\UCF_Crimes\\UCF_Crimes\\Videos\\Training_Normal_Videos_Anomaly\\Normal_Videos468_x264.mp4\n"
     ]
    },
    {
     "name": "stderr",
     "output_type": "stream",
     "text": [
      " 52%|█████▏    | 418/800 [1:20:00<28:44,  4.51s/it]"
     ]
    },
    {
     "name": "stdout",
     "output_type": "stream",
     "text": [
      "Completed processing F:\\UCF_Crimes\\UCF_Crimes\\Videos\\Training_Normal_Videos_Anomaly\\Normal_Videos469_x264.mp4\n"
     ]
    },
    {
     "name": "stderr",
     "output_type": "stream",
     "text": [
      " 52%|█████▏    | 419/800 [1:20:01<22:21,  3.52s/it]"
     ]
    },
    {
     "name": "stdout",
     "output_type": "stream",
     "text": [
      "Completed processing F:\\UCF_Crimes\\UCF_Crimes\\Videos\\Training_Normal_Videos_Anomaly\\Normal_Videos470_x264.mp4\n"
     ]
    },
    {
     "name": "stderr",
     "output_type": "stream",
     "text": [
      " 52%|█████▎    | 420/800 [1:23:08<6:10:50, 58.55s/it]"
     ]
    },
    {
     "name": "stdout",
     "output_type": "stream",
     "text": [
      "Completed processing F:\\UCF_Crimes\\UCF_Crimes\\Videos\\Training_Normal_Videos_Anomaly\\Normal_Videos471_x264.mp4\n"
     ]
    },
    {
     "name": "stderr",
     "output_type": "stream",
     "text": [
      " 53%|█████▎    | 421/800 [1:26:09<10:01:14, 95.18s/it]"
     ]
    },
    {
     "name": "stdout",
     "output_type": "stream",
     "text": [
      "Completed processing F:\\UCF_Crimes\\UCF_Crimes\\Videos\\Training_Normal_Videos_Anomaly\\Normal_Videos472_x264.mp4\n"
     ]
    },
    {
     "name": "stderr",
     "output_type": "stream",
     "text": [
      " 53%|█████▎    | 422/800 [1:27:16<9:06:46, 86.79s/it] "
     ]
    },
    {
     "name": "stdout",
     "output_type": "stream",
     "text": [
      "Completed processing F:\\UCF_Crimes\\UCF_Crimes\\Videos\\Training_Normal_Videos_Anomaly\\Normal_Videos473_x264.mp4\n"
     ]
    },
    {
     "name": "stderr",
     "output_type": "stream",
     "text": [
      " 53%|█████▎    | 423/800 [1:27:22<6:32:40, 62.50s/it]"
     ]
    },
    {
     "name": "stdout",
     "output_type": "stream",
     "text": [
      "Completed processing F:\\UCF_Crimes\\UCF_Crimes\\Videos\\Training_Normal_Videos_Anomaly\\Normal_Videos474_x264.mp4\n"
     ]
    },
    {
     "name": "stderr",
     "output_type": "stream",
     "text": [
      " 53%|█████▎    | 424/800 [1:27:39<5:07:23, 49.05s/it]"
     ]
    },
    {
     "name": "stdout",
     "output_type": "stream",
     "text": [
      "Completed processing F:\\UCF_Crimes\\UCF_Crimes\\Videos\\Training_Normal_Videos_Anomaly\\Normal_Videos475_x264.mp4\n"
     ]
    },
    {
     "name": "stderr",
     "output_type": "stream",
     "text": [
      " 53%|█████▎    | 425/800 [1:27:44<3:44:09, 35.87s/it]"
     ]
    },
    {
     "name": "stdout",
     "output_type": "stream",
     "text": [
      "Completed processing F:\\UCF_Crimes\\UCF_Crimes\\Videos\\Training_Normal_Videos_Anomaly\\Normal_Videos476_x264.mp4\n"
     ]
    },
    {
     "name": "stderr",
     "output_type": "stream",
     "text": [
      " 53%|█████▎    | 426/800 [1:27:47<2:40:32, 25.76s/it]"
     ]
    },
    {
     "name": "stdout",
     "output_type": "stream",
     "text": [
      "Completed processing F:\\UCF_Crimes\\UCF_Crimes\\Videos\\Training_Normal_Videos_Anomaly\\Normal_Videos477_x264.mp4\n"
     ]
    },
    {
     "name": "stderr",
     "output_type": "stream",
     "text": [
      " 53%|█████▎    | 427/800 [1:28:27<3:07:12, 30.11s/it]"
     ]
    },
    {
     "name": "stdout",
     "output_type": "stream",
     "text": [
      "Completed processing F:\\UCF_Crimes\\UCF_Crimes\\Videos\\Training_Normal_Videos_Anomaly\\Normal_Videos479_x264.mp4\n"
     ]
    },
    {
     "name": "stderr",
     "output_type": "stream",
     "text": [
      " 54%|█████▎    | 428/800 [1:28:29<2:14:59, 21.77s/it]"
     ]
    },
    {
     "name": "stdout",
     "output_type": "stream",
     "text": [
      "Completed processing F:\\UCF_Crimes\\UCF_Crimes\\Videos\\Training_Normal_Videos_Anomaly\\Normal_Videos480_x264.mp4\n"
     ]
    },
    {
     "name": "stderr",
     "output_type": "stream",
     "text": [
      " 54%|█████▎    | 429/800 [1:28:38<1:49:54, 17.77s/it]"
     ]
    },
    {
     "name": "stdout",
     "output_type": "stream",
     "text": [
      "Completed processing F:\\UCF_Crimes\\UCF_Crimes\\Videos\\Training_Normal_Videos_Anomaly\\Normal_Videos481_x264.mp4\n"
     ]
    },
    {
     "name": "stderr",
     "output_type": "stream",
     "text": [
      " 54%|█████▍    | 430/800 [1:28:42<1:25:23, 13.85s/it]"
     ]
    },
    {
     "name": "stdout",
     "output_type": "stream",
     "text": [
      "Completed processing F:\\UCF_Crimes\\UCF_Crimes\\Videos\\Training_Normal_Videos_Anomaly\\Normal_Videos482_x264.mp4\n"
     ]
    },
    {
     "name": "stderr",
     "output_type": "stream",
     "text": [
      " 54%|█████▍    | 431/800 [1:28:47<1:07:55, 11.05s/it]"
     ]
    },
    {
     "name": "stdout",
     "output_type": "stream",
     "text": [
      "Completed processing F:\\UCF_Crimes\\UCF_Crimes\\Videos\\Training_Normal_Videos_Anomaly\\Normal_Videos483_x264.mp4\n"
     ]
    },
    {
     "name": "stderr",
     "output_type": "stream",
     "text": [
      " 54%|█████▍    | 432/800 [1:29:23<1:54:43, 18.71s/it]"
     ]
    },
    {
     "name": "stdout",
     "output_type": "stream",
     "text": [
      "Completed processing F:\\UCF_Crimes\\UCF_Crimes\\Videos\\Training_Normal_Videos_Anomaly\\Normal_Videos484_x264.mp4\n"
     ]
    },
    {
     "name": "stderr",
     "output_type": "stream",
     "text": [
      " 54%|█████▍    | 433/800 [1:29:25<1:22:18, 13.46s/it]"
     ]
    },
    {
     "name": "stdout",
     "output_type": "stream",
     "text": [
      "Completed processing F:\\UCF_Crimes\\UCF_Crimes\\Videos\\Training_Normal_Videos_Anomaly\\Normal_Videos485_x264.mp4\n"
     ]
    },
    {
     "name": "stderr",
     "output_type": "stream",
     "text": [
      " 54%|█████▍    | 434/800 [1:29:28<1:03:18, 10.38s/it]"
     ]
    },
    {
     "name": "stdout",
     "output_type": "stream",
     "text": [
      "Completed processing F:\\UCF_Crimes\\UCF_Crimes\\Videos\\Training_Normal_Videos_Anomaly\\Normal_Videos486_x264.mp4\n"
     ]
    },
    {
     "name": "stderr",
     "output_type": "stream",
     "text": [
      " 54%|█████▍    | 435/800 [1:29:28<45:19,  7.45s/it]  "
     ]
    },
    {
     "name": "stdout",
     "output_type": "stream",
     "text": [
      "Completed processing F:\\UCF_Crimes\\UCF_Crimes\\Videos\\Training_Normal_Videos_Anomaly\\Normal_Videos487_x264.mp4\n"
     ]
    },
    {
     "name": "stderr",
     "output_type": "stream",
     "text": [
      " 55%|█████▍    | 436/800 [1:29:30<33:57,  5.60s/it]"
     ]
    },
    {
     "name": "stdout",
     "output_type": "stream",
     "text": [
      "Completed processing F:\\UCF_Crimes\\UCF_Crimes\\Videos\\Training_Normal_Videos_Anomaly\\Normal_Videos488_x264.mp4\n"
     ]
    },
    {
     "name": "stderr",
     "output_type": "stream",
     "text": [
      " 55%|█████▍    | 437/800 [1:29:34<31:21,  5.18s/it]"
     ]
    },
    {
     "name": "stdout",
     "output_type": "stream",
     "text": [
      "Completed processing F:\\UCF_Crimes\\UCF_Crimes\\Videos\\Training_Normal_Videos_Anomaly\\Normal_Videos489_x264.mp4\n"
     ]
    },
    {
     "name": "stderr",
     "output_type": "stream",
     "text": [
      " 55%|█████▍    | 438/800 [1:29:42<36:11,  6.00s/it]"
     ]
    },
    {
     "name": "stdout",
     "output_type": "stream",
     "text": [
      "Completed processing F:\\UCF_Crimes\\UCF_Crimes\\Videos\\Training_Normal_Videos_Anomaly\\Normal_Videos490_x264.mp4\n"
     ]
    },
    {
     "name": "stderr",
     "output_type": "stream",
     "text": [
      " 55%|█████▍    | 439/800 [1:29:53<46:19,  7.70s/it]"
     ]
    },
    {
     "name": "stdout",
     "output_type": "stream",
     "text": [
      "Completed processing F:\\UCF_Crimes\\UCF_Crimes\\Videos\\Training_Normal_Videos_Anomaly\\Normal_Videos491_x264.mp4\n"
     ]
    },
    {
     "name": "stderr",
     "output_type": "stream",
     "text": [
      " 55%|█████▌    | 440/800 [1:30:41<1:57:08, 19.52s/it]"
     ]
    },
    {
     "name": "stdout",
     "output_type": "stream",
     "text": [
      "Completed processing F:\\UCF_Crimes\\UCF_Crimes\\Videos\\Training_Normal_Videos_Anomaly\\Normal_Videos492_x264.mp4\n"
     ]
    },
    {
     "name": "stderr",
     "output_type": "stream",
     "text": [
      " 55%|█████▌    | 441/800 [1:30:42<1:23:35, 13.97s/it]"
     ]
    },
    {
     "name": "stdout",
     "output_type": "stream",
     "text": [
      "Completed processing F:\\UCF_Crimes\\UCF_Crimes\\Videos\\Training_Normal_Videos_Anomaly\\Normal_Videos493_x264.mp4\n"
     ]
    },
    {
     "name": "stderr",
     "output_type": "stream",
     "text": [
      " 55%|█████▌    | 442/800 [1:31:11<1:50:17, 18.48s/it]"
     ]
    },
    {
     "name": "stdout",
     "output_type": "stream",
     "text": [
      "Completed processing F:\\UCF_Crimes\\UCF_Crimes\\Videos\\Training_Normal_Videos_Anomaly\\Normal_Videos494_x264.mp4\n"
     ]
    },
    {
     "name": "stderr",
     "output_type": "stream",
     "text": [
      " 55%|█████▌    | 443/800 [1:31:11<1:18:09, 13.14s/it]"
     ]
    },
    {
     "name": "stdout",
     "output_type": "stream",
     "text": [
      "Completed processing F:\\UCF_Crimes\\UCF_Crimes\\Videos\\Training_Normal_Videos_Anomaly\\Normal_Videos495_x264.mp4\n"
     ]
    },
    {
     "name": "stderr",
     "output_type": "stream",
     "text": [
      " 56%|█████▌    | 444/800 [1:34:56<7:34:45, 76.64s/it]"
     ]
    },
    {
     "name": "stdout",
     "output_type": "stream",
     "text": [
      "Completed processing F:\\UCF_Crimes\\UCF_Crimes\\Videos\\Training_Normal_Videos_Anomaly\\Normal_Videos496_x264.mp4\n"
     ]
    },
    {
     "name": "stderr",
     "output_type": "stream",
     "text": [
      " 56%|█████▌    | 445/800 [1:34:58<5:20:48, 54.22s/it]"
     ]
    },
    {
     "name": "stdout",
     "output_type": "stream",
     "text": [
      "Completed processing F:\\UCF_Crimes\\UCF_Crimes\\Videos\\Training_Normal_Videos_Anomaly\\Normal_Videos497_x264.mp4\n"
     ]
    },
    {
     "name": "stderr",
     "output_type": "stream",
     "text": [
      " 56%|█████▌    | 446/800 [1:35:04<3:55:03, 39.84s/it]"
     ]
    },
    {
     "name": "stdout",
     "output_type": "stream",
     "text": [
      "Completed processing F:\\UCF_Crimes\\UCF_Crimes\\Videos\\Training_Normal_Videos_Anomaly\\Normal_Videos498_x264.mp4\n"
     ]
    },
    {
     "name": "stderr",
     "output_type": "stream",
     "text": [
      " 56%|█████▌    | 447/800 [1:35:07<2:48:07, 28.58s/it]"
     ]
    },
    {
     "name": "stdout",
     "output_type": "stream",
     "text": [
      "Completed processing F:\\UCF_Crimes\\UCF_Crimes\\Videos\\Training_Normal_Videos_Anomaly\\Normal_Videos499_x264.mp4\n"
     ]
    },
    {
     "name": "stderr",
     "output_type": "stream",
     "text": [
      " 56%|█████▌    | 448/800 [1:35:07<1:58:20, 20.17s/it]"
     ]
    },
    {
     "name": "stdout",
     "output_type": "stream",
     "text": [
      "Completed processing F:\\UCF_Crimes\\UCF_Crimes\\Videos\\Training_Normal_Videos_Anomaly\\Normal_Videos500_x264.mp4\n"
     ]
    },
    {
     "name": "stderr",
     "output_type": "stream",
     "text": [
      " 56%|█████▌    | 449/800 [1:35:09<1:25:44, 14.66s/it]"
     ]
    },
    {
     "name": "stdout",
     "output_type": "stream",
     "text": [
      "Completed processing F:\\UCF_Crimes\\UCF_Crimes\\Videos\\Training_Normal_Videos_Anomaly\\Normal_Videos501_x264.mp4\n"
     ]
    },
    {
     "name": "stderr",
     "output_type": "stream",
     "text": [
      " 56%|█████▋    | 450/800 [1:35:10<1:01:34, 10.55s/it]"
     ]
    },
    {
     "name": "stdout",
     "output_type": "stream",
     "text": [
      "Completed processing F:\\UCF_Crimes\\UCF_Crimes\\Videos\\Training_Normal_Videos_Anomaly\\Normal_Videos502_x264.mp4\n"
     ]
    },
    {
     "name": "stderr",
     "output_type": "stream",
     "text": [
      " 56%|█████▋    | 451/800 [1:35:11<44:37,  7.67s/it]  "
     ]
    },
    {
     "name": "stdout",
     "output_type": "stream",
     "text": [
      "Completed processing F:\\UCF_Crimes\\UCF_Crimes\\Videos\\Training_Normal_Videos_Anomaly\\Normal_Videos503_x264.mp4\n"
     ]
    },
    {
     "name": "stderr",
     "output_type": "stream",
     "text": [
      " 56%|█████▋    | 452/800 [1:35:12<32:23,  5.59s/it]"
     ]
    },
    {
     "name": "stdout",
     "output_type": "stream",
     "text": [
      "Completed processing F:\\UCF_Crimes\\UCF_Crimes\\Videos\\Training_Normal_Videos_Anomaly\\Normal_Videos504_x264.mp4\n"
     ]
    },
    {
     "name": "stderr",
     "output_type": "stream",
     "text": [
      " 57%|█████▋    | 453/800 [1:35:12<23:54,  4.13s/it]"
     ]
    },
    {
     "name": "stdout",
     "output_type": "stream",
     "text": [
      "Completed processing F:\\UCF_Crimes\\UCF_Crimes\\Videos\\Training_Normal_Videos_Anomaly\\Normal_Videos505_x264.mp4\n"
     ]
    },
    {
     "name": "stderr",
     "output_type": "stream",
     "text": [
      " 57%|█████▋    | 454/800 [1:35:14<18:56,  3.29s/it]"
     ]
    },
    {
     "name": "stdout",
     "output_type": "stream",
     "text": [
      "Completed processing F:\\UCF_Crimes\\UCF_Crimes\\Videos\\Training_Normal_Videos_Anomaly\\Normal_Videos506_x264.mp4\n"
     ]
    },
    {
     "name": "stderr",
     "output_type": "stream",
     "text": [
      " 57%|█████▋    | 455/800 [1:35:16<17:09,  2.98s/it]"
     ]
    },
    {
     "name": "stdout",
     "output_type": "stream",
     "text": [
      "Completed processing F:\\UCF_Crimes\\UCF_Crimes\\Videos\\Training_Normal_Videos_Anomaly\\Normal_Videos507_x264.mp4\n"
     ]
    },
    {
     "name": "stderr",
     "output_type": "stream",
     "text": [
      " 57%|█████▋    | 456/800 [1:35:18<15:38,  2.73s/it]"
     ]
    },
    {
     "name": "stdout",
     "output_type": "stream",
     "text": [
      "Completed processing F:\\UCF_Crimes\\UCF_Crimes\\Videos\\Training_Normal_Videos_Anomaly\\Normal_Videos508_x264.mp4\n"
     ]
    },
    {
     "name": "stderr",
     "output_type": "stream",
     "text": [
      " 57%|█████▋    | 457/800 [1:35:19<12:24,  2.17s/it]"
     ]
    },
    {
     "name": "stdout",
     "output_type": "stream",
     "text": [
      "Completed processing F:\\UCF_Crimes\\UCF_Crimes\\Videos\\Training_Normal_Videos_Anomaly\\Normal_Videos509_x264.mp4\n"
     ]
    },
    {
     "name": "stderr",
     "output_type": "stream",
     "text": [
      " 57%|█████▋    | 458/800 [1:35:46<54:56,  9.64s/it]"
     ]
    },
    {
     "name": "stdout",
     "output_type": "stream",
     "text": [
      "Completed processing F:\\UCF_Crimes\\UCF_Crimes\\Videos\\Training_Normal_Videos_Anomaly\\Normal_Videos510_x264.mp4\n"
     ]
    },
    {
     "name": "stderr",
     "output_type": "stream",
     "text": [
      " 57%|█████▋    | 459/800 [1:36:16<1:30:16, 15.89s/it]"
     ]
    },
    {
     "name": "stdout",
     "output_type": "stream",
     "text": [
      "Completed processing F:\\UCF_Crimes\\UCF_Crimes\\Videos\\Training_Normal_Videos_Anomaly\\Normal_Videos511_x264.mp4\n"
     ]
    },
    {
     "name": "stderr",
     "output_type": "stream",
     "text": [
      " 57%|█████▊    | 460/800 [1:37:00<2:17:27, 24.26s/it]"
     ]
    },
    {
     "name": "stdout",
     "output_type": "stream",
     "text": [
      "Completed processing F:\\UCF_Crimes\\UCF_Crimes\\Videos\\Training_Normal_Videos_Anomaly\\Normal_Videos512_x264.mp4\n"
     ]
    },
    {
     "name": "stderr",
     "output_type": "stream",
     "text": [
      " 58%|█████▊    | 461/800 [1:37:03<1:40:06, 17.72s/it]"
     ]
    },
    {
     "name": "stdout",
     "output_type": "stream",
     "text": [
      "Completed processing F:\\UCF_Crimes\\UCF_Crimes\\Videos\\Training_Normal_Videos_Anomaly\\Normal_Videos513_x264.mp4\n"
     ]
    },
    {
     "name": "stderr",
     "output_type": "stream",
     "text": [
      " 58%|█████▊    | 462/800 [1:37:08<1:19:06, 14.04s/it]"
     ]
    },
    {
     "name": "stdout",
     "output_type": "stream",
     "text": [
      "Completed processing F:\\UCF_Crimes\\UCF_Crimes\\Videos\\Training_Normal_Videos_Anomaly\\Normal_Videos514_x264.mp4\n"
     ]
    },
    {
     "name": "stderr",
     "output_type": "stream",
     "text": [
      " 58%|█████▊    | 463/800 [1:37:18<1:11:31, 12.74s/it]"
     ]
    },
    {
     "name": "stdout",
     "output_type": "stream",
     "text": [
      "Completed processing F:\\UCF_Crimes\\UCF_Crimes\\Videos\\Training_Normal_Videos_Anomaly\\Normal_Videos515_x264.mp4\n"
     ]
    },
    {
     "name": "stderr",
     "output_type": "stream",
     "text": [
      " 58%|█████▊    | 464/800 [1:37:23<58:36, 10.47s/it]  "
     ]
    },
    {
     "name": "stdout",
     "output_type": "stream",
     "text": [
      "Completed processing F:\\UCF_Crimes\\UCF_Crimes\\Videos\\Training_Normal_Videos_Anomaly\\Normal_Videos516_x264.mp4\n"
     ]
    },
    {
     "name": "stderr",
     "output_type": "stream",
     "text": [
      " 58%|█████▊    | 465/800 [1:37:29<50:41,  9.08s/it]"
     ]
    },
    {
     "name": "stdout",
     "output_type": "stream",
     "text": [
      "Completed processing F:\\UCF_Crimes\\UCF_Crimes\\Videos\\Training_Normal_Videos_Anomaly\\Normal_Videos517_x264.mp4\n"
     ]
    },
    {
     "name": "stderr",
     "output_type": "stream",
     "text": [
      " 58%|█████▊    | 466/800 [1:37:31<39:48,  7.15s/it]"
     ]
    },
    {
     "name": "stdout",
     "output_type": "stream",
     "text": [
      "Completed processing F:\\UCF_Crimes\\UCF_Crimes\\Videos\\Training_Normal_Videos_Anomaly\\Normal_Videos518_x264.mp4\n"
     ]
    },
    {
     "name": "stderr",
     "output_type": "stream",
     "text": [
      " 58%|█████▊    | 467/800 [1:37:34<31:51,  5.74s/it]"
     ]
    },
    {
     "name": "stdout",
     "output_type": "stream",
     "text": [
      "Completed processing F:\\UCF_Crimes\\UCF_Crimes\\Videos\\Training_Normal_Videos_Anomaly\\Normal_Videos519_x264.mp4\n"
     ]
    },
    {
     "name": "stderr",
     "output_type": "stream",
     "text": [
      " 58%|█████▊    | 468/800 [1:38:31<1:56:45, 21.10s/it]"
     ]
    },
    {
     "name": "stdout",
     "output_type": "stream",
     "text": [
      "Completed processing F:\\UCF_Crimes\\UCF_Crimes\\Videos\\Training_Normal_Videos_Anomaly\\Normal_Videos520_x264.mp4\n"
     ]
    },
    {
     "name": "stderr",
     "output_type": "stream",
     "text": [
      " 59%|█████▊    | 469/800 [1:39:30<2:59:00, 32.45s/it]"
     ]
    },
    {
     "name": "stdout",
     "output_type": "stream",
     "text": [
      "Completed processing F:\\UCF_Crimes\\UCF_Crimes\\Videos\\Training_Normal_Videos_Anomaly\\Normal_Videos521_x264.mp4\n"
     ]
    },
    {
     "name": "stderr",
     "output_type": "stream",
     "text": [
      " 59%|█████▉    | 470/800 [1:39:37<2:16:48, 24.88s/it]"
     ]
    },
    {
     "name": "stdout",
     "output_type": "stream",
     "text": [
      "Completed processing F:\\UCF_Crimes\\UCF_Crimes\\Videos\\Training_Normal_Videos_Anomaly\\Normal_Videos522_x264.mp4\n"
     ]
    },
    {
     "name": "stderr",
     "output_type": "stream",
     "text": [
      " 59%|█████▉    | 471/800 [1:39:38<1:36:43, 17.64s/it]"
     ]
    },
    {
     "name": "stdout",
     "output_type": "stream",
     "text": [
      "Completed processing F:\\UCF_Crimes\\UCF_Crimes\\Videos\\Training_Normal_Videos_Anomaly\\Normal_Videos523_x264.mp4\n"
     ]
    },
    {
     "name": "stderr",
     "output_type": "stream",
     "text": [
      " 59%|█████▉    | 472/800 [1:39:50<1:26:51, 15.89s/it]"
     ]
    },
    {
     "name": "stdout",
     "output_type": "stream",
     "text": [
      "Completed processing F:\\UCF_Crimes\\UCF_Crimes\\Videos\\Training_Normal_Videos_Anomaly\\Normal_Videos524_x264.mp4\n"
     ]
    },
    {
     "name": "stderr",
     "output_type": "stream",
     "text": [
      " 59%|█████▉    | 473/800 [1:40:23<1:54:54, 21.08s/it]"
     ]
    },
    {
     "name": "stdout",
     "output_type": "stream",
     "text": [
      "Completed processing F:\\UCF_Crimes\\UCF_Crimes\\Videos\\Training_Normal_Videos_Anomaly\\Normal_Videos525_x264.mp4\n"
     ]
    },
    {
     "name": "stderr",
     "output_type": "stream",
     "text": [
      " 59%|█████▉    | 474/800 [1:40:32<1:35:22, 17.55s/it]"
     ]
    },
    {
     "name": "stdout",
     "output_type": "stream",
     "text": [
      "Completed processing F:\\UCF_Crimes\\UCF_Crimes\\Videos\\Training_Normal_Videos_Anomaly\\Normal_Videos526_x264.mp4\n"
     ]
    },
    {
     "name": "stderr",
     "output_type": "stream",
     "text": [
      " 59%|█████▉    | 475/800 [1:40:33<1:08:36, 12.67s/it]"
     ]
    },
    {
     "name": "stdout",
     "output_type": "stream",
     "text": [
      "Completed processing F:\\UCF_Crimes\\UCF_Crimes\\Videos\\Training_Normal_Videos_Anomaly\\Normal_Videos527_x264.mp4\n"
     ]
    },
    {
     "name": "stderr",
     "output_type": "stream",
     "text": [
      " 60%|█████▉    | 476/800 [1:40:35<50:32,  9.36s/it]  "
     ]
    },
    {
     "name": "stdout",
     "output_type": "stream",
     "text": [
      "Completed processing F:\\UCF_Crimes\\UCF_Crimes\\Videos\\Training_Normal_Videos_Anomaly\\Normal_Videos528_x264.mp4\n"
     ]
    },
    {
     "name": "stderr",
     "output_type": "stream",
     "text": [
      " 60%|█████▉    | 477/800 [1:42:14<3:14:47, 36.18s/it]"
     ]
    },
    {
     "name": "stdout",
     "output_type": "stream",
     "text": [
      "Completed processing F:\\UCF_Crimes\\UCF_Crimes\\Videos\\Training_Normal_Videos_Anomaly\\Normal_Videos529_x264.mp4\n"
     ]
    },
    {
     "name": "stderr",
     "output_type": "stream",
     "text": [
      " 60%|█████▉    | 478/800 [1:43:49<4:49:53, 54.02s/it]"
     ]
    },
    {
     "name": "stdout",
     "output_type": "stream",
     "text": [
      "Completed processing F:\\UCF_Crimes\\UCF_Crimes\\Videos\\Training_Normal_Videos_Anomaly\\Normal_Videos530_x264.mp4\n"
     ]
    },
    {
     "name": "stderr",
     "output_type": "stream",
     "text": [
      " 60%|█████▉    | 479/800 [1:43:55<3:30:54, 39.42s/it]"
     ]
    },
    {
     "name": "stdout",
     "output_type": "stream",
     "text": [
      "Completed processing F:\\UCF_Crimes\\UCF_Crimes\\Videos\\Training_Normal_Videos_Anomaly\\Normal_Videos531_x264.mp4\n"
     ]
    },
    {
     "name": "stderr",
     "output_type": "stream",
     "text": [
      " 60%|██████    | 480/800 [1:44:17<3:03:06, 34.33s/it]"
     ]
    },
    {
     "name": "stdout",
     "output_type": "stream",
     "text": [
      "Completed processing F:\\UCF_Crimes\\UCF_Crimes\\Videos\\Training_Normal_Videos_Anomaly\\Normal_Videos532_x264.mp4\n"
     ]
    },
    {
     "name": "stderr",
     "output_type": "stream",
     "text": [
      " 60%|██████    | 481/800 [1:45:29<4:02:59, 45.70s/it]"
     ]
    },
    {
     "name": "stdout",
     "output_type": "stream",
     "text": [
      "Completed processing F:\\UCF_Crimes\\UCF_Crimes\\Videos\\Training_Normal_Videos_Anomaly\\Normal_Videos533_x264.mp4\n"
     ]
    },
    {
     "name": "stderr",
     "output_type": "stream",
     "text": [
      " 60%|██████    | 482/800 [1:46:03<3:43:34, 42.18s/it]"
     ]
    },
    {
     "name": "stdout",
     "output_type": "stream",
     "text": [
      "Completed processing F:\\UCF_Crimes\\UCF_Crimes\\Videos\\Training_Normal_Videos_Anomaly\\Normal_Videos534_x264.mp4\n"
     ]
    },
    {
     "name": "stderr",
     "output_type": "stream",
     "text": [
      " 60%|██████    | 483/800 [1:46:07<2:41:27, 30.56s/it]"
     ]
    },
    {
     "name": "stdout",
     "output_type": "stream",
     "text": [
      "Completed processing F:\\UCF_Crimes\\UCF_Crimes\\Videos\\Training_Normal_Videos_Anomaly\\Normal_Videos535_x264.mp4\n"
     ]
    },
    {
     "name": "stderr",
     "output_type": "stream",
     "text": [
      " 60%|██████    | 484/800 [1:46:21<2:14:48, 25.60s/it]"
     ]
    },
    {
     "name": "stdout",
     "output_type": "stream",
     "text": [
      "Completed processing F:\\UCF_Crimes\\UCF_Crimes\\Videos\\Training_Normal_Videos_Anomaly\\Normal_Videos536_x264.mp4\n"
     ]
    },
    {
     "name": "stderr",
     "output_type": "stream",
     "text": [
      " 61%|██████    | 485/800 [1:46:25<1:40:52, 19.22s/it]"
     ]
    },
    {
     "name": "stdout",
     "output_type": "stream",
     "text": [
      "Completed processing F:\\UCF_Crimes\\UCF_Crimes\\Videos\\Training_Normal_Videos_Anomaly\\Normal_Videos537_x264.mp4\n"
     ]
    },
    {
     "name": "stderr",
     "output_type": "stream",
     "text": [
      " 61%|██████    | 486/800 [1:46:26<1:12:01, 13.76s/it]"
     ]
    },
    {
     "name": "stdout",
     "output_type": "stream",
     "text": [
      "Completed processing F:\\UCF_Crimes\\UCF_Crimes\\Videos\\Training_Normal_Videos_Anomaly\\Normal_Videos538_x264.mp4\n"
     ]
    },
    {
     "name": "stderr",
     "output_type": "stream",
     "text": [
      " 61%|██████    | 487/800 [1:46:27<51:53,  9.95s/it]  "
     ]
    },
    {
     "name": "stdout",
     "output_type": "stream",
     "text": [
      "Completed processing F:\\UCF_Crimes\\UCF_Crimes\\Videos\\Training_Normal_Videos_Anomaly\\Normal_Videos539_x264.mp4\n"
     ]
    },
    {
     "name": "stderr",
     "output_type": "stream",
     "text": [
      " 61%|██████    | 488/800 [1:47:48<2:41:27, 31.05s/it]"
     ]
    },
    {
     "name": "stdout",
     "output_type": "stream",
     "text": [
      "Completed processing F:\\UCF_Crimes\\UCF_Crimes\\Videos\\Training_Normal_Videos_Anomaly\\Normal_Videos540_x264.mp4\n"
     ]
    },
    {
     "name": "stderr",
     "output_type": "stream",
     "text": [
      " 61%|██████    | 489/800 [1:49:14<4:06:33, 47.57s/it]"
     ]
    },
    {
     "name": "stdout",
     "output_type": "stream",
     "text": [
      "Completed processing F:\\UCF_Crimes\\UCF_Crimes\\Videos\\Training_Normal_Videos_Anomaly\\Normal_Videos541_x264.mp4\n"
     ]
    },
    {
     "name": "stderr",
     "output_type": "stream",
     "text": [
      " 61%|██████▏   | 490/800 [1:49:19<3:00:52, 35.01s/it]"
     ]
    },
    {
     "name": "stdout",
     "output_type": "stream",
     "text": [
      "Completed processing F:\\UCF_Crimes\\UCF_Crimes\\Videos\\Training_Normal_Videos_Anomaly\\Normal_Videos542_x264.mp4\n"
     ]
    },
    {
     "name": "stderr",
     "output_type": "stream",
     "text": [
      " 61%|██████▏   | 491/800 [1:49:51<2:54:23, 33.86s/it]"
     ]
    },
    {
     "name": "stdout",
     "output_type": "stream",
     "text": [
      "Completed processing F:\\UCF_Crimes\\UCF_Crimes\\Videos\\Training_Normal_Videos_Anomaly\\Normal_Videos543_x264.mp4\n"
     ]
    },
    {
     "name": "stderr",
     "output_type": "stream",
     "text": [
      " 62%|██████▏   | 492/800 [1:50:44<3:24:11, 39.78s/it]"
     ]
    },
    {
     "name": "stdout",
     "output_type": "stream",
     "text": [
      "Completed processing F:\\UCF_Crimes\\UCF_Crimes\\Videos\\Training_Normal_Videos_Anomaly\\Normal_Videos544_x264.mp4\n"
     ]
    },
    {
     "name": "stderr",
     "output_type": "stream",
     "text": [
      " 62%|██████▏   | 493/800 [1:50:52<2:34:37, 30.22s/it]"
     ]
    },
    {
     "name": "stdout",
     "output_type": "stream",
     "text": [
      "Completed processing F:\\UCF_Crimes\\UCF_Crimes\\Videos\\Training_Normal_Videos_Anomaly\\Normal_Videos545_x264.mp4\n"
     ]
    },
    {
     "name": "stderr",
     "output_type": "stream",
     "text": [
      " 62%|██████▏   | 494/800 [1:50:56<1:53:07, 22.18s/it]"
     ]
    },
    {
     "name": "stdout",
     "output_type": "stream",
     "text": [
      "Completed processing F:\\UCF_Crimes\\UCF_Crimes\\Videos\\Training_Normal_Videos_Anomaly\\Normal_Videos546_x264.mp4\n"
     ]
    },
    {
     "name": "stderr",
     "output_type": "stream",
     "text": [
      " 62%|██████▏   | 495/800 [1:59:59<15:07:34, 178.54s/it]"
     ]
    },
    {
     "name": "stdout",
     "output_type": "stream",
     "text": [
      "Completed processing F:\\UCF_Crimes\\UCF_Crimes\\Videos\\Training_Normal_Videos_Anomaly\\Normal_Videos547_x264.mp4\n"
     ]
    },
    {
     "name": "stderr",
     "output_type": "stream",
     "text": [
      " 62%|██████▏   | 496/800 [2:01:19<12:34:15, 148.87s/it]"
     ]
    },
    {
     "name": "stdout",
     "output_type": "stream",
     "text": [
      "Completed processing F:\\UCF_Crimes\\UCF_Crimes\\Videos\\Training_Normal_Videos_Anomaly\\Normal_Videos548_x264.mp4\n"
     ]
    },
    {
     "name": "stderr",
     "output_type": "stream",
     "text": [
      " 62%|██████▏   | 497/800 [2:01:28<9:00:54, 107.11s/it] "
     ]
    },
    {
     "name": "stdout",
     "output_type": "stream",
     "text": [
      "Completed processing F:\\UCF_Crimes\\UCF_Crimes\\Videos\\Training_Normal_Videos_Anomaly\\Normal_Videos549_x264.mp4\n"
     ]
    },
    {
     "name": "stderr",
     "output_type": "stream",
     "text": [
      " 62%|██████▏   | 498/800 [2:01:37<6:30:41, 77.62s/it] "
     ]
    },
    {
     "name": "stdout",
     "output_type": "stream",
     "text": [
      "Completed processing F:\\UCF_Crimes\\UCF_Crimes\\Videos\\Training_Normal_Videos_Anomaly\\Normal_Videos550_x264.mp4\n"
     ]
    },
    {
     "name": "stderr",
     "output_type": "stream",
     "text": [
      " 62%|██████▏   | 499/800 [2:02:27<5:48:30, 69.47s/it]"
     ]
    },
    {
     "name": "stdout",
     "output_type": "stream",
     "text": [
      "Completed processing F:\\UCF_Crimes\\UCF_Crimes\\Videos\\Training_Normal_Videos_Anomaly\\Normal_Videos551_x264.mp4\n"
     ]
    },
    {
     "name": "stderr",
     "output_type": "stream",
     "text": [
      " 62%|██████▎   | 500/800 [2:02:32<4:09:27, 49.89s/it]"
     ]
    },
    {
     "name": "stdout",
     "output_type": "stream",
     "text": [
      "Completed processing F:\\UCF_Crimes\\UCF_Crimes\\Videos\\Training_Normal_Videos_Anomaly\\Normal_Videos552_x264.mp4\n"
     ]
    },
    {
     "name": "stderr",
     "output_type": "stream",
     "text": [
      " 63%|██████▎   | 501/800 [2:02:44<3:12:48, 38.69s/it]"
     ]
    },
    {
     "name": "stdout",
     "output_type": "stream",
     "text": [
      "Completed processing F:\\UCF_Crimes\\UCF_Crimes\\Videos\\Training_Normal_Videos_Anomaly\\Normal_Videos553_x264.mp4\n"
     ]
    },
    {
     "name": "stderr",
     "output_type": "stream",
     "text": [
      " 63%|██████▎   | 502/800 [2:02:48<2:19:33, 28.10s/it]"
     ]
    },
    {
     "name": "stdout",
     "output_type": "stream",
     "text": [
      "Completed processing F:\\UCF_Crimes\\UCF_Crimes\\Videos\\Training_Normal_Videos_Anomaly\\Normal_Videos554_x264.mp4\n"
     ]
    },
    {
     "name": "stderr",
     "output_type": "stream",
     "text": [
      " 63%|██████▎   | 503/800 [2:02:49<1:38:42, 19.94s/it]"
     ]
    },
    {
     "name": "stdout",
     "output_type": "stream",
     "text": [
      "Completed processing F:\\UCF_Crimes\\UCF_Crimes\\Videos\\Training_Normal_Videos_Anomaly\\Normal_Videos555_x264.mp4\n"
     ]
    },
    {
     "name": "stderr",
     "output_type": "stream",
     "text": [
      " 63%|██████▎   | 504/800 [2:03:47<2:35:47, 31.58s/it]"
     ]
    },
    {
     "name": "stdout",
     "output_type": "stream",
     "text": [
      "Completed processing F:\\UCF_Crimes\\UCF_Crimes\\Videos\\Training_Normal_Videos_Anomaly\\Normal_Videos556_x264.mp4\n"
     ]
    },
    {
     "name": "stderr",
     "output_type": "stream",
     "text": [
      " 63%|██████▎   | 505/800 [2:04:04<2:13:34, 27.17s/it]"
     ]
    },
    {
     "name": "stdout",
     "output_type": "stream",
     "text": [
      "Completed processing F:\\UCF_Crimes\\UCF_Crimes\\Videos\\Training_Normal_Videos_Anomaly\\Normal_Videos557_x264.mp4\n"
     ]
    },
    {
     "name": "stderr",
     "output_type": "stream",
     "text": [
      " 63%|██████▎   | 506/800 [2:04:06<1:35:36, 19.51s/it]"
     ]
    },
    {
     "name": "stdout",
     "output_type": "stream",
     "text": [
      "Completed processing F:\\UCF_Crimes\\UCF_Crimes\\Videos\\Training_Normal_Videos_Anomaly\\Normal_Videos558_x264.mp4\n"
     ]
    },
    {
     "name": "stderr",
     "output_type": "stream",
     "text": [
      " 63%|██████▎   | 507/800 [2:04:22<1:31:00, 18.64s/it]"
     ]
    },
    {
     "name": "stdout",
     "output_type": "stream",
     "text": [
      "Completed processing F:\\UCF_Crimes\\UCF_Crimes\\Videos\\Training_Normal_Videos_Anomaly\\Normal_Videos559_x264.mp4\n"
     ]
    },
    {
     "name": "stderr",
     "output_type": "stream",
     "text": [
      " 64%|██████▎   | 508/800 [2:04:38<1:26:56, 17.87s/it]"
     ]
    },
    {
     "name": "stdout",
     "output_type": "stream",
     "text": [
      "Completed processing F:\\UCF_Crimes\\UCF_Crimes\\Videos\\Training_Normal_Videos_Anomaly\\Normal_Videos560_x264.mp4\n"
     ]
    },
    {
     "name": "stderr",
     "output_type": "stream",
     "text": [
      " 64%|██████▎   | 509/800 [2:04:59<1:30:01, 18.56s/it]"
     ]
    },
    {
     "name": "stdout",
     "output_type": "stream",
     "text": [
      "Completed processing F:\\UCF_Crimes\\UCF_Crimes\\Videos\\Training_Normal_Videos_Anomaly\\Normal_Videos561_x264.mp4\n"
     ]
    },
    {
     "name": "stderr",
     "output_type": "stream",
     "text": [
      " 64%|██████▍   | 510/800 [2:05:21<1:35:57, 19.85s/it]"
     ]
    },
    {
     "name": "stdout",
     "output_type": "stream",
     "text": [
      "Completed processing F:\\UCF_Crimes\\UCF_Crimes\\Videos\\Training_Normal_Videos_Anomaly\\Normal_Videos562_x264.mp4\n"
     ]
    },
    {
     "name": "stderr",
     "output_type": "stream",
     "text": [
      " 64%|██████▍   | 511/800 [2:06:28<2:43:45, 34.00s/it]"
     ]
    },
    {
     "name": "stdout",
     "output_type": "stream",
     "text": [
      "Completed processing F:\\UCF_Crimes\\UCF_Crimes\\Videos\\Training_Normal_Videos_Anomaly\\Normal_Videos563_x264.mp4\n"
     ]
    },
    {
     "name": "stderr",
     "output_type": "stream",
     "text": [
      " 64%|██████▍   | 512/800 [2:06:43<2:14:49, 28.09s/it]"
     ]
    },
    {
     "name": "stdout",
     "output_type": "stream",
     "text": [
      "Completed processing F:\\UCF_Crimes\\UCF_Crimes\\Videos\\Training_Normal_Videos_Anomaly\\Normal_Videos564_x264.mp4\n"
     ]
    },
    {
     "name": "stderr",
     "output_type": "stream",
     "text": [
      " 64%|██████▍   | 513/800 [2:07:30<2:41:31, 33.77s/it]"
     ]
    },
    {
     "name": "stdout",
     "output_type": "stream",
     "text": [
      "Completed processing F:\\UCF_Crimes\\UCF_Crimes\\Videos\\Training_Normal_Videos_Anomaly\\Normal_Videos565_x264.mp4\n"
     ]
    },
    {
     "name": "stderr",
     "output_type": "stream",
     "text": [
      " 64%|██████▍   | 514/800 [2:07:55<2:28:44, 31.21s/it]"
     ]
    },
    {
     "name": "stdout",
     "output_type": "stream",
     "text": [
      "Completed processing F:\\UCF_Crimes\\UCF_Crimes\\Videos\\Training_Normal_Videos_Anomaly\\Normal_Videos566_x264.mp4\n"
     ]
    },
    {
     "name": "stderr",
     "output_type": "stream",
     "text": [
      " 64%|██████▍   | 515/800 [2:08:00<1:51:14, 23.42s/it]"
     ]
    },
    {
     "name": "stdout",
     "output_type": "stream",
     "text": [
      "Completed processing F:\\UCF_Crimes\\UCF_Crimes\\Videos\\Training_Normal_Videos_Anomaly\\Normal_Videos567_x264.mp4\n"
     ]
    },
    {
     "name": "stderr",
     "output_type": "stream",
     "text": [
      " 64%|██████▍   | 516/800 [2:08:07<1:27:05, 18.40s/it]"
     ]
    },
    {
     "name": "stdout",
     "output_type": "stream",
     "text": [
      "Completed processing F:\\UCF_Crimes\\UCF_Crimes\\Videos\\Training_Normal_Videos_Anomaly\\Normal_Videos568_x264.mp4\n"
     ]
    },
    {
     "name": "stderr",
     "output_type": "stream",
     "text": [
      " 65%|██████▍   | 517/800 [2:08:10<1:05:03, 13.79s/it]"
     ]
    },
    {
     "name": "stdout",
     "output_type": "stream",
     "text": [
      "Completed processing F:\\UCF_Crimes\\UCF_Crimes\\Videos\\Training_Normal_Videos_Anomaly\\Normal_Videos569_x264.mp4\n"
     ]
    },
    {
     "name": "stderr",
     "output_type": "stream",
     "text": [
      " 65%|██████▍   | 518/800 [2:08:11<46:39,  9.93s/it]  "
     ]
    },
    {
     "name": "stdout",
     "output_type": "stream",
     "text": [
      "Completed processing F:\\UCF_Crimes\\UCF_Crimes\\Videos\\Training_Normal_Videos_Anomaly\\Normal_Videos570_x264.mp4\n"
     ]
    },
    {
     "name": "stderr",
     "output_type": "stream",
     "text": [
      " 65%|██████▍   | 519/800 [2:08:13<35:43,  7.63s/it]"
     ]
    },
    {
     "name": "stdout",
     "output_type": "stream",
     "text": [
      "Completed processing F:\\UCF_Crimes\\UCF_Crimes\\Videos\\Training_Normal_Videos_Anomaly\\Normal_Videos571_x264.mp4\n"
     ]
    },
    {
     "name": "stderr",
     "output_type": "stream",
     "text": [
      " 65%|██████▌   | 520/800 [2:08:17<30:12,  6.47s/it]"
     ]
    },
    {
     "name": "stdout",
     "output_type": "stream",
     "text": [
      "Completed processing F:\\UCF_Crimes\\UCF_Crimes\\Videos\\Training_Normal_Videos_Anomaly\\Normal_Videos572_x264.mp4\n"
     ]
    },
    {
     "name": "stderr",
     "output_type": "stream",
     "text": [
      " 65%|██████▌   | 521/800 [2:08:21<26:15,  5.65s/it]"
     ]
    },
    {
     "name": "stdout",
     "output_type": "stream",
     "text": [
      "Completed processing F:\\UCF_Crimes\\UCF_Crimes\\Videos\\Training_Normal_Videos_Anomaly\\Normal_Videos573_x264.mp4\n"
     ]
    },
    {
     "name": "stderr",
     "output_type": "stream",
     "text": [
      " 65%|██████▌   | 522/800 [2:08:30<30:56,  6.68s/it]"
     ]
    },
    {
     "name": "stdout",
     "output_type": "stream",
     "text": [
      "Completed processing F:\\UCF_Crimes\\UCF_Crimes\\Videos\\Training_Normal_Videos_Anomaly\\Normal_Videos574_x264.mp4\n"
     ]
    },
    {
     "name": "stderr",
     "output_type": "stream",
     "text": [
      " 65%|██████▌   | 523/800 [2:08:33<26:23,  5.72s/it]"
     ]
    },
    {
     "name": "stdout",
     "output_type": "stream",
     "text": [
      "Completed processing F:\\UCF_Crimes\\UCF_Crimes\\Videos\\Training_Normal_Videos_Anomaly\\Normal_Videos575_x264.mp4\n"
     ]
    },
    {
     "name": "stderr",
     "output_type": "stream",
     "text": [
      " 66%|██████▌   | 524/800 [2:08:41<29:10,  6.34s/it]"
     ]
    },
    {
     "name": "stdout",
     "output_type": "stream",
     "text": [
      "Completed processing F:\\UCF_Crimes\\UCF_Crimes\\Videos\\Training_Normal_Videos_Anomaly\\Normal_Videos577_x264.mp4\n"
     ]
    },
    {
     "name": "stderr",
     "output_type": "stream",
     "text": [
      " 66%|██████▌   | 525/800 [2:08:45<25:12,  5.50s/it]"
     ]
    },
    {
     "name": "stdout",
     "output_type": "stream",
     "text": [
      "Completed processing F:\\UCF_Crimes\\UCF_Crimes\\Videos\\Training_Normal_Videos_Anomaly\\Normal_Videos578_x264.mp4\n"
     ]
    },
    {
     "name": "stderr",
     "output_type": "stream",
     "text": [
      " 66%|██████▌   | 526/800 [2:09:02<41:57,  9.19s/it]"
     ]
    },
    {
     "name": "stdout",
     "output_type": "stream",
     "text": [
      "Completed processing F:\\UCF_Crimes\\UCF_Crimes\\Videos\\Training_Normal_Videos_Anomaly\\Normal_Videos579_x264.mp4\n"
     ]
    },
    {
     "name": "stderr",
     "output_type": "stream",
     "text": [
      " 66%|██████▌   | 527/800 [2:09:06<33:52,  7.44s/it]"
     ]
    },
    {
     "name": "stdout",
     "output_type": "stream",
     "text": [
      "Completed processing F:\\UCF_Crimes\\UCF_Crimes\\Videos\\Training_Normal_Videos_Anomaly\\Normal_Videos580_x264.mp4\n"
     ]
    },
    {
     "name": "stderr",
     "output_type": "stream",
     "text": [
      " 66%|██████▌   | 528/800 [2:09:09<27:37,  6.10s/it]"
     ]
    },
    {
     "name": "stdout",
     "output_type": "stream",
     "text": [
      "Completed processing F:\\UCF_Crimes\\UCF_Crimes\\Videos\\Training_Normal_Videos_Anomaly\\Normal_Videos581_x264.mp4\n"
     ]
    },
    {
     "name": "stderr",
     "output_type": "stream",
     "text": [
      " 66%|██████▌   | 529/800 [2:09:13<25:02,  5.54s/it]"
     ]
    },
    {
     "name": "stdout",
     "output_type": "stream",
     "text": [
      "Completed processing F:\\UCF_Crimes\\UCF_Crimes\\Videos\\Training_Normal_Videos_Anomaly\\Normal_Videos582_x264.mp4\n"
     ]
    },
    {
     "name": "stderr",
     "output_type": "stream",
     "text": [
      " 66%|██████▋   | 530/800 [2:09:19<25:56,  5.76s/it]"
     ]
    },
    {
     "name": "stdout",
     "output_type": "stream",
     "text": [
      "Completed processing F:\\UCF_Crimes\\UCF_Crimes\\Videos\\Training_Normal_Videos_Anomaly\\Normal_Videos583_x264.mp4\n"
     ]
    },
    {
     "name": "stderr",
     "output_type": "stream",
     "text": [
      " 66%|██████▋   | 531/800 [2:09:27<28:40,  6.40s/it]"
     ]
    },
    {
     "name": "stdout",
     "output_type": "stream",
     "text": [
      "Completed processing F:\\UCF_Crimes\\UCF_Crimes\\Videos\\Training_Normal_Videos_Anomaly\\Normal_Videos584_x264.mp4\n"
     ]
    },
    {
     "name": "stderr",
     "output_type": "stream",
     "text": [
      " 66%|██████▋   | 532/800 [2:09:29<21:55,  4.91s/it]"
     ]
    },
    {
     "name": "stdout",
     "output_type": "stream",
     "text": [
      "Completed processing F:\\UCF_Crimes\\UCF_Crimes\\Videos\\Training_Normal_Videos_Anomaly\\Normal_Videos585_x264.mp4\n"
     ]
    },
    {
     "name": "stderr",
     "output_type": "stream",
     "text": [
      " 67%|██████▋   | 533/800 [2:09:30<16:54,  3.80s/it]"
     ]
    },
    {
     "name": "stdout",
     "output_type": "stream",
     "text": [
      "Completed processing F:\\UCF_Crimes\\UCF_Crimes\\Videos\\Training_Normal_Videos_Anomaly\\Normal_Videos586_x264.mp4\n"
     ]
    },
    {
     "name": "stderr",
     "output_type": "stream",
     "text": [
      " 67%|██████▋   | 534/800 [2:09:36<20:31,  4.63s/it]"
     ]
    },
    {
     "name": "stdout",
     "output_type": "stream",
     "text": [
      "Completed processing F:\\UCF_Crimes\\UCF_Crimes\\Videos\\Training_Normal_Videos_Anomaly\\Normal_Videos587_x264.mp4\n"
     ]
    },
    {
     "name": "stderr",
     "output_type": "stream",
     "text": [
      " 67%|██████▋   | 535/800 [2:09:43<22:40,  5.13s/it]"
     ]
    },
    {
     "name": "stdout",
     "output_type": "stream",
     "text": [
      "Completed processing F:\\UCF_Crimes\\UCF_Crimes\\Videos\\Training_Normal_Videos_Anomaly\\Normal_Videos588_x264.mp4\n"
     ]
    },
    {
     "name": "stderr",
     "output_type": "stream",
     "text": [
      " 67%|██████▋   | 536/800 [2:09:47<21:15,  4.83s/it]"
     ]
    },
    {
     "name": "stdout",
     "output_type": "stream",
     "text": [
      "Completed processing F:\\UCF_Crimes\\UCF_Crimes\\Videos\\Training_Normal_Videos_Anomaly\\Normal_Videos589_x264.mp4\n"
     ]
    },
    {
     "name": "stderr",
     "output_type": "stream",
     "text": [
      " 67%|██████▋   | 537/800 [2:09:55<25:59,  5.93s/it]"
     ]
    },
    {
     "name": "stdout",
     "output_type": "stream",
     "text": [
      "Completed processing F:\\UCF_Crimes\\UCF_Crimes\\Videos\\Training_Normal_Videos_Anomaly\\Normal_Videos590_x264.mp4\n"
     ]
    },
    {
     "name": "stderr",
     "output_type": "stream",
     "text": [
      " 67%|██████▋   | 538/800 [2:10:04<29:36,  6.78s/it]"
     ]
    },
    {
     "name": "stdout",
     "output_type": "stream",
     "text": [
      "Completed processing F:\\UCF_Crimes\\UCF_Crimes\\Videos\\Training_Normal_Videos_Anomaly\\Normal_Videos591_x264.mp4\n"
     ]
    },
    {
     "name": "stderr",
     "output_type": "stream",
     "text": [
      " 67%|██████▋   | 539/800 [2:10:06<23:44,  5.46s/it]"
     ]
    },
    {
     "name": "stdout",
     "output_type": "stream",
     "text": [
      "Completed processing F:\\UCF_Crimes\\UCF_Crimes\\Videos\\Training_Normal_Videos_Anomaly\\Normal_Videos592_x264.mp4\n"
     ]
    },
    {
     "name": "stderr",
     "output_type": "stream",
     "text": [
      " 68%|██████▊   | 540/800 [2:10:09<19:49,  4.58s/it]"
     ]
    },
    {
     "name": "stdout",
     "output_type": "stream",
     "text": [
      "Completed processing F:\\UCF_Crimes\\UCF_Crimes\\Videos\\Training_Normal_Videos_Anomaly\\Normal_Videos593_x264.mp4\n"
     ]
    },
    {
     "name": "stderr",
     "output_type": "stream",
     "text": [
      " 68%|██████▊   | 541/800 [2:10:11<16:05,  3.73s/it]"
     ]
    },
    {
     "name": "stdout",
     "output_type": "stream",
     "text": [
      "Completed processing F:\\UCF_Crimes\\UCF_Crimes\\Videos\\Training_Normal_Videos_Anomaly\\Normal_Videos594_x264.mp4\n"
     ]
    },
    {
     "name": "stderr",
     "output_type": "stream",
     "text": [
      " 68%|██████▊   | 542/800 [2:10:13<14:09,  3.29s/it]"
     ]
    },
    {
     "name": "stdout",
     "output_type": "stream",
     "text": [
      "Completed processing F:\\UCF_Crimes\\UCF_Crimes\\Videos\\Training_Normal_Videos_Anomaly\\Normal_Videos595_x264.mp4\n"
     ]
    },
    {
     "name": "stderr",
     "output_type": "stream",
     "text": [
      " 68%|██████▊   | 543/800 [2:10:15<13:07,  3.07s/it]"
     ]
    },
    {
     "name": "stdout",
     "output_type": "stream",
     "text": [
      "Completed processing F:\\UCF_Crimes\\UCF_Crimes\\Videos\\Training_Normal_Videos_Anomaly\\Normal_Videos596_x264.mp4\n"
     ]
    },
    {
     "name": "stderr",
     "output_type": "stream",
     "text": [
      " 68%|██████▊   | 544/800 [2:10:22<18:03,  4.23s/it]"
     ]
    },
    {
     "name": "stdout",
     "output_type": "stream",
     "text": [
      "Completed processing F:\\UCF_Crimes\\UCF_Crimes\\Videos\\Training_Normal_Videos_Anomaly\\Normal_Videos598_x264.mp4\n"
     ]
    },
    {
     "name": "stderr",
     "output_type": "stream",
     "text": [
      " 68%|██████▊   | 545/800 [2:10:25<15:55,  3.75s/it]"
     ]
    },
    {
     "name": "stdout",
     "output_type": "stream",
     "text": [
      "Completed processing F:\\UCF_Crimes\\UCF_Crimes\\Videos\\Training_Normal_Videos_Anomaly\\Normal_Videos599_x264.mp4\n"
     ]
    },
    {
     "name": "stderr",
     "output_type": "stream",
     "text": [
      " 68%|██████▊   | 546/800 [2:10:27<13:13,  3.12s/it]"
     ]
    },
    {
     "name": "stdout",
     "output_type": "stream",
     "text": [
      "Completed processing F:\\UCF_Crimes\\UCF_Crimes\\Videos\\Training_Normal_Videos_Anomaly\\Normal_Videos600_x264.mp4\n"
     ]
    },
    {
     "name": "stderr",
     "output_type": "stream",
     "text": [
      " 68%|██████▊   | 547/800 [2:10:29<12:21,  2.93s/it]"
     ]
    },
    {
     "name": "stdout",
     "output_type": "stream",
     "text": [
      "Completed processing F:\\UCF_Crimes\\UCF_Crimes\\Videos\\Training_Normal_Videos_Anomaly\\Normal_Videos601_x264.mp4\n"
     ]
    },
    {
     "name": "stderr",
     "output_type": "stream",
     "text": [
      " 68%|██████▊   | 548/800 [2:10:38<20:01,  4.77s/it]"
     ]
    },
    {
     "name": "stdout",
     "output_type": "stream",
     "text": [
      "Completed processing F:\\UCF_Crimes\\UCF_Crimes\\Videos\\Training_Normal_Videos_Anomaly\\Normal_Videos602_x264.mp4\n"
     ]
    },
    {
     "name": "stderr",
     "output_type": "stream",
     "text": [
      " 69%|██████▊   | 549/800 [2:10:40<16:09,  3.86s/it]"
     ]
    },
    {
     "name": "stdout",
     "output_type": "stream",
     "text": [
      "Completed processing F:\\UCF_Crimes\\UCF_Crimes\\Videos\\Training_Normal_Videos_Anomaly\\Normal_Videos604_x264.mp4\n"
     ]
    },
    {
     "name": "stderr",
     "output_type": "stream",
     "text": [
      " 69%|██████▉   | 550/800 [2:10:44<16:12,  3.89s/it]"
     ]
    },
    {
     "name": "stdout",
     "output_type": "stream",
     "text": [
      "Completed processing F:\\UCF_Crimes\\UCF_Crimes\\Videos\\Training_Normal_Videos_Anomaly\\Normal_Videos605_x264.mp4\n"
     ]
    },
    {
     "name": "stderr",
     "output_type": "stream",
     "text": [
      " 69%|██████▉   | 551/800 [2:10:46<13:55,  3.35s/it]"
     ]
    },
    {
     "name": "stdout",
     "output_type": "stream",
     "text": [
      "Completed processing F:\\UCF_Crimes\\UCF_Crimes\\Videos\\Training_Normal_Videos_Anomaly\\Normal_Videos607_x264.mp4\n"
     ]
    },
    {
     "name": "stderr",
     "output_type": "stream",
     "text": [
      " 69%|██████▉   | 552/800 [2:10:54<19:01,  4.60s/it]"
     ]
    },
    {
     "name": "stdout",
     "output_type": "stream",
     "text": [
      "Completed processing F:\\UCF_Crimes\\UCF_Crimes\\Videos\\Training_Normal_Videos_Anomaly\\Normal_Videos608_x264.mp4\n"
     ]
    },
    {
     "name": "stderr",
     "output_type": "stream",
     "text": [
      " 69%|██████▉   | 553/800 [2:10:54<14:05,  3.42s/it]"
     ]
    },
    {
     "name": "stdout",
     "output_type": "stream",
     "text": [
      "Completed processing F:\\UCF_Crimes\\UCF_Crimes\\Videos\\Training_Normal_Videos_Anomaly\\Normal_Videos609_x264.mp4\n"
     ]
    },
    {
     "name": "stderr",
     "output_type": "stream",
     "text": [
      " 69%|██████▉   | 554/800 [2:10:55<10:55,  2.66s/it]"
     ]
    },
    {
     "name": "stdout",
     "output_type": "stream",
     "text": [
      "Completed processing F:\\UCF_Crimes\\UCF_Crimes\\Videos\\Training_Normal_Videos_Anomaly\\Normal_Videos610_x264.mp4\n"
     ]
    },
    {
     "name": "stderr",
     "output_type": "stream",
     "text": [
      " 69%|██████▉   | 555/800 [2:10:56<09:11,  2.25s/it]"
     ]
    },
    {
     "name": "stdout",
     "output_type": "stream",
     "text": [
      "Completed processing F:\\UCF_Crimes\\UCF_Crimes\\Videos\\Training_Normal_Videos_Anomaly\\Normal_Videos611_x264.mp4\n"
     ]
    },
    {
     "name": "stderr",
     "output_type": "stream",
     "text": [
      " 70%|██████▉   | 556/800 [2:11:03<14:08,  3.48s/it]"
     ]
    },
    {
     "name": "stdout",
     "output_type": "stream",
     "text": [
      "Completed processing F:\\UCF_Crimes\\UCF_Crimes\\Videos\\Training_Normal_Videos_Anomaly\\Normal_Videos612_x264.mp4\n"
     ]
    },
    {
     "name": "stderr",
     "output_type": "stream",
     "text": [
      " 70%|██████▉   | 557/800 [2:11:23<34:05,  8.42s/it]"
     ]
    },
    {
     "name": "stdout",
     "output_type": "stream",
     "text": [
      "Completed processing F:\\UCF_Crimes\\UCF_Crimes\\Videos\\Training_Normal_Videos_Anomaly\\Normal_Videos613_x264.mp4\n"
     ]
    },
    {
     "name": "stderr",
     "output_type": "stream",
     "text": [
      " 70%|██████▉   | 558/800 [2:11:25<26:22,  6.54s/it]"
     ]
    },
    {
     "name": "stdout",
     "output_type": "stream",
     "text": [
      "Completed processing F:\\UCF_Crimes\\UCF_Crimes\\Videos\\Training_Normal_Videos_Anomaly\\Normal_Videos614_x264.mp4\n"
     ]
    },
    {
     "name": "stderr",
     "output_type": "stream",
     "text": [
      " 70%|██████▉   | 559/800 [2:11:29<23:47,  5.92s/it]"
     ]
    },
    {
     "name": "stdout",
     "output_type": "stream",
     "text": [
      "Completed processing F:\\UCF_Crimes\\UCF_Crimes\\Videos\\Training_Normal_Videos_Anomaly\\Normal_Videos615_x264.mp4\n"
     ]
    },
    {
     "name": "stderr",
     "output_type": "stream",
     "text": [
      " 70%|███████   | 560/800 [2:11:34<22:25,  5.60s/it]"
     ]
    },
    {
     "name": "stdout",
     "output_type": "stream",
     "text": [
      "Completed processing F:\\UCF_Crimes\\UCF_Crimes\\Videos\\Training_Normal_Videos_Anomaly\\Normal_Videos616_x264.mp4\n"
     ]
    },
    {
     "name": "stderr",
     "output_type": "stream",
     "text": [
      " 70%|███████   | 561/800 [2:11:37<19:14,  4.83s/it]"
     ]
    },
    {
     "name": "stdout",
     "output_type": "stream",
     "text": [
      "Completed processing F:\\UCF_Crimes\\UCF_Crimes\\Videos\\Training_Normal_Videos_Anomaly\\Normal_Videos617_x264.mp4\n"
     ]
    },
    {
     "name": "stderr",
     "output_type": "stream",
     "text": [
      " 70%|███████   | 562/800 [2:11:39<15:57,  4.02s/it]"
     ]
    },
    {
     "name": "stdout",
     "output_type": "stream",
     "text": [
      "Completed processing F:\\UCF_Crimes\\UCF_Crimes\\Videos\\Training_Normal_Videos_Anomaly\\Normal_Videos618_x264.mp4\n"
     ]
    },
    {
     "name": "stderr",
     "output_type": "stream",
     "text": [
      " 70%|███████   | 563/800 [2:11:47<20:10,  5.11s/it]"
     ]
    },
    {
     "name": "stdout",
     "output_type": "stream",
     "text": [
      "Completed processing F:\\UCF_Crimes\\UCF_Crimes\\Videos\\Training_Normal_Videos_Anomaly\\Normal_Videos619_x264.mp4\n"
     ]
    },
    {
     "name": "stderr",
     "output_type": "stream",
     "text": [
      " 70%|███████   | 564/800 [2:11:55<23:06,  5.87s/it]"
     ]
    },
    {
     "name": "stdout",
     "output_type": "stream",
     "text": [
      "Completed processing F:\\UCF_Crimes\\UCF_Crimes\\Videos\\Training_Normal_Videos_Anomaly\\Normal_Videos620_x264.mp4\n"
     ]
    },
    {
     "name": "stderr",
     "output_type": "stream",
     "text": [
      " 71%|███████   | 565/800 [2:11:57<19:14,  4.91s/it]"
     ]
    },
    {
     "name": "stdout",
     "output_type": "stream",
     "text": [
      "Completed processing F:\\UCF_Crimes\\UCF_Crimes\\Videos\\Training_Normal_Videos_Anomaly\\Normal_Videos622_x264.mp4\n"
     ]
    },
    {
     "name": "stderr",
     "output_type": "stream",
     "text": [
      " 71%|███████   | 566/800 [2:12:07<25:00,  6.41s/it]"
     ]
    },
    {
     "name": "stdout",
     "output_type": "stream",
     "text": [
      "Completed processing F:\\UCF_Crimes\\UCF_Crimes\\Videos\\Training_Normal_Videos_Anomaly\\Normal_Videos623_x264.mp4\n"
     ]
    },
    {
     "name": "stderr",
     "output_type": "stream",
     "text": [
      " 71%|███████   | 567/800 [2:12:21<33:39,  8.67s/it]"
     ]
    },
    {
     "name": "stdout",
     "output_type": "stream",
     "text": [
      "Completed processing F:\\UCF_Crimes\\UCF_Crimes\\Videos\\Training_Normal_Videos_Anomaly\\Normal_Videos624_x264.mp4\n"
     ]
    },
    {
     "name": "stderr",
     "output_type": "stream",
     "text": [
      " 71%|███████   | 568/800 [2:12:24<26:55,  6.96s/it]"
     ]
    },
    {
     "name": "stdout",
     "output_type": "stream",
     "text": [
      "Completed processing F:\\UCF_Crimes\\UCF_Crimes\\Videos\\Training_Normal_Videos_Anomaly\\Normal_Videos625_x264.mp4\n"
     ]
    },
    {
     "name": "stderr",
     "output_type": "stream",
     "text": [
      " 71%|███████   | 569/800 [2:12:33<29:22,  7.63s/it]"
     ]
    },
    {
     "name": "stdout",
     "output_type": "stream",
     "text": [
      "Completed processing F:\\UCF_Crimes\\UCF_Crimes\\Videos\\Training_Normal_Videos_Anomaly\\Normal_Videos626_x264.mp4\n"
     ]
    },
    {
     "name": "stderr",
     "output_type": "stream",
     "text": [
      " 71%|███████▏  | 570/800 [2:12:40<27:52,  7.27s/it]"
     ]
    },
    {
     "name": "stdout",
     "output_type": "stream",
     "text": [
      "Completed processing F:\\UCF_Crimes\\UCF_Crimes\\Videos\\Training_Normal_Videos_Anomaly\\Normal_Videos627_x264.mp4\n"
     ]
    },
    {
     "name": "stderr",
     "output_type": "stream",
     "text": [
      " 71%|███████▏  | 571/800 [2:12:41<20:31,  5.38s/it]"
     ]
    },
    {
     "name": "stdout",
     "output_type": "stream",
     "text": [
      "Completed processing F:\\UCF_Crimes\\UCF_Crimes\\Videos\\Training_Normal_Videos_Anomaly\\Normal_Videos628_x264.mp4\n"
     ]
    },
    {
     "name": "stderr",
     "output_type": "stream",
     "text": [
      " 72%|███████▏  | 572/800 [2:12:46<19:48,  5.21s/it]"
     ]
    },
    {
     "name": "stdout",
     "output_type": "stream",
     "text": [
      "Completed processing F:\\UCF_Crimes\\UCF_Crimes\\Videos\\Training_Normal_Videos_Anomaly\\Normal_Videos629_x264.mp4\n"
     ]
    },
    {
     "name": "stderr",
     "output_type": "stream",
     "text": [
      " 72%|███████▏  | 573/800 [2:13:35<1:10:17, 18.58s/it]"
     ]
    },
    {
     "name": "stdout",
     "output_type": "stream",
     "text": [
      "Completed processing F:\\UCF_Crimes\\UCF_Crimes\\Videos\\Training_Normal_Videos_Anomaly\\Normal_Videos630_x264.mp4\n"
     ]
    },
    {
     "name": "stderr",
     "output_type": "stream",
     "text": [
      " 72%|███████▏  | 574/800 [2:13:41<55:52, 14.83s/it]  "
     ]
    },
    {
     "name": "stdout",
     "output_type": "stream",
     "text": [
      "Completed processing F:\\UCF_Crimes\\UCF_Crimes\\Videos\\Training_Normal_Videos_Anomaly\\Normal_Videos631_x264.mp4\n"
     ]
    },
    {
     "name": "stderr",
     "output_type": "stream",
     "text": [
      " 72%|███████▏  | 575/800 [2:13:53<52:05, 13.89s/it]"
     ]
    },
    {
     "name": "stdout",
     "output_type": "stream",
     "text": [
      "Completed processing F:\\UCF_Crimes\\UCF_Crimes\\Videos\\Training_Normal_Videos_Anomaly\\Normal_Videos632_x264.mp4\n"
     ]
    },
    {
     "name": "stderr",
     "output_type": "stream",
     "text": [
      " 72%|███████▏  | 576/800 [2:20:10<7:38:41, 122.86s/it]"
     ]
    },
    {
     "name": "stdout",
     "output_type": "stream",
     "text": [
      "Completed processing F:\\UCF_Crimes\\UCF_Crimes\\Videos\\Training_Normal_Videos_Anomaly\\Normal_Videos633_x264.mp4\n"
     ]
    },
    {
     "name": "stderr",
     "output_type": "stream",
     "text": [
      " 72%|███████▏  | 577/800 [2:20:11<5:20:57, 86.36s/it] "
     ]
    },
    {
     "name": "stdout",
     "output_type": "stream",
     "text": [
      "Completed processing F:\\UCF_Crimes\\UCF_Crimes\\Videos\\Training_Normal_Videos_Anomaly\\Normal_Videos635_x264.mp4\n"
     ]
    },
    {
     "name": "stderr",
     "output_type": "stream",
     "text": [
      " 72%|███████▏  | 578/800 [2:20:12<3:44:49, 60.76s/it]"
     ]
    },
    {
     "name": "stdout",
     "output_type": "stream",
     "text": [
      "Completed processing F:\\UCF_Crimes\\UCF_Crimes\\Videos\\Training_Normal_Videos_Anomaly\\Normal_Videos636_x264.mp4\n"
     ]
    },
    {
     "name": "stderr",
     "output_type": "stream",
     "text": [
      " 72%|███████▏  | 579/800 [2:20:15<2:39:09, 43.21s/it]"
     ]
    },
    {
     "name": "stdout",
     "output_type": "stream",
     "text": [
      "Completed processing F:\\UCF_Crimes\\UCF_Crimes\\Videos\\Training_Normal_Videos_Anomaly\\Normal_Videos637_x264.mp4\n"
     ]
    },
    {
     "name": "stderr",
     "output_type": "stream",
     "text": [
      " 72%|███████▎  | 580/800 [2:20:48<2:27:39, 40.27s/it]"
     ]
    },
    {
     "name": "stdout",
     "output_type": "stream",
     "text": [
      "Completed processing F:\\UCF_Crimes\\UCF_Crimes\\Videos\\Training_Normal_Videos_Anomaly\\Normal_Videos638_x264.mp4\n"
     ]
    },
    {
     "name": "stderr",
     "output_type": "stream",
     "text": [
      " 73%|███████▎  | 581/800 [2:20:51<1:46:11, 29.09s/it]"
     ]
    },
    {
     "name": "stdout",
     "output_type": "stream",
     "text": [
      "Completed processing F:\\UCF_Crimes\\UCF_Crimes\\Videos\\Training_Normal_Videos_Anomaly\\Normal_Videos639_x264.mp4\n"
     ]
    },
    {
     "name": "stderr",
     "output_type": "stream",
     "text": [
      " 73%|███████▎  | 582/800 [2:20:53<1:15:49, 20.87s/it]"
     ]
    },
    {
     "name": "stdout",
     "output_type": "stream",
     "text": [
      "Completed processing F:\\UCF_Crimes\\UCF_Crimes\\Videos\\Training_Normal_Videos_Anomaly\\Normal_Videos640_x264.mp4\n"
     ]
    },
    {
     "name": "stderr",
     "output_type": "stream",
     "text": [
      " 73%|███████▎  | 583/800 [2:21:57<2:02:14, 33.80s/it]"
     ]
    },
    {
     "name": "stdout",
     "output_type": "stream",
     "text": [
      "Completed processing F:\\UCF_Crimes\\UCF_Crimes\\Videos\\Training_Normal_Videos_Anomaly\\Normal_Videos642_x264.mp4\n"
     ]
    },
    {
     "name": "stderr",
     "output_type": "stream",
     "text": [
      " 73%|███████▎  | 584/800 [2:22:00<1:28:57, 24.71s/it]"
     ]
    },
    {
     "name": "stdout",
     "output_type": "stream",
     "text": [
      "Completed processing F:\\UCF_Crimes\\UCF_Crimes\\Videos\\Training_Normal_Videos_Anomaly\\Normal_Videos643_x264.mp4\n"
     ]
    },
    {
     "name": "stderr",
     "output_type": "stream",
     "text": [
      " 73%|███████▎  | 585/800 [2:22:02<1:03:24, 17.69s/it]"
     ]
    },
    {
     "name": "stdout",
     "output_type": "stream",
     "text": [
      "Completed processing F:\\UCF_Crimes\\UCF_Crimes\\Videos\\Training_Normal_Videos_Anomaly\\Normal_Videos644_x264.mp4\n"
     ]
    },
    {
     "name": "stderr",
     "output_type": "stream",
     "text": [
      " 73%|███████▎  | 586/800 [2:22:03<45:42, 12.82s/it]  "
     ]
    },
    {
     "name": "stdout",
     "output_type": "stream",
     "text": [
      "Completed processing F:\\UCF_Crimes\\UCF_Crimes\\Videos\\Training_Normal_Videos_Anomaly\\Normal_Videos645_x264.mp4\n"
     ]
    },
    {
     "name": "stderr",
     "output_type": "stream",
     "text": [
      " 73%|███████▎  | 587/800 [2:22:07<36:05, 10.17s/it]"
     ]
    },
    {
     "name": "stdout",
     "output_type": "stream",
     "text": [
      "Completed processing F:\\UCF_Crimes\\UCF_Crimes\\Videos\\Training_Normal_Videos_Anomaly\\Normal_Videos646_x264.mp4\n"
     ]
    },
    {
     "name": "stderr",
     "output_type": "stream",
     "text": [
      " 74%|███████▎  | 588/800 [2:22:09<27:37,  7.82s/it]"
     ]
    },
    {
     "name": "stdout",
     "output_type": "stream",
     "text": [
      "Completed processing F:\\UCF_Crimes\\UCF_Crimes\\Videos\\Training_Normal_Videos_Anomaly\\Normal_Videos647_x264.mp4\n"
     ]
    },
    {
     "name": "stderr",
     "output_type": "stream",
     "text": [
      " 74%|███████▎  | 589/800 [2:22:10<20:10,  5.74s/it]"
     ]
    },
    {
     "name": "stdout",
     "output_type": "stream",
     "text": [
      "Completed processing F:\\UCF_Crimes\\UCF_Crimes\\Videos\\Training_Normal_Videos_Anomaly\\Normal_Videos648_x264.mp4\n"
     ]
    },
    {
     "name": "stderr",
     "output_type": "stream",
     "text": [
      " 74%|███████▍  | 590/800 [2:22:11<14:54,  4.26s/it]"
     ]
    },
    {
     "name": "stdout",
     "output_type": "stream",
     "text": [
      "Completed processing F:\\UCF_Crimes\\UCF_Crimes\\Videos\\Training_Normal_Videos_Anomaly\\Normal_Videos649_x264.mp4\n"
     ]
    },
    {
     "name": "stderr",
     "output_type": "stream",
     "text": [
      " 74%|███████▍  | 591/800 [2:22:12<11:34,  3.32s/it]"
     ]
    },
    {
     "name": "stdout",
     "output_type": "stream",
     "text": [
      "Completed processing F:\\UCF_Crimes\\UCF_Crimes\\Videos\\Training_Normal_Videos_Anomaly\\Normal_Videos650_x264.mp4\n"
     ]
    },
    {
     "name": "stderr",
     "output_type": "stream",
     "text": [
      " 74%|███████▍  | 592/800 [2:22:13<09:07,  2.63s/it]"
     ]
    },
    {
     "name": "stdout",
     "output_type": "stream",
     "text": [
      "Completed processing F:\\UCF_Crimes\\UCF_Crimes\\Videos\\Training_Normal_Videos_Anomaly\\Normal_Videos651_x264.mp4\n"
     ]
    },
    {
     "name": "stderr",
     "output_type": "stream",
     "text": [
      " 74%|███████▍  | 593/800 [2:22:23<16:58,  4.92s/it]"
     ]
    },
    {
     "name": "stdout",
     "output_type": "stream",
     "text": [
      "Completed processing F:\\UCF_Crimes\\UCF_Crimes\\Videos\\Training_Normal_Videos_Anomaly\\Normal_Videos652_x264.mp4\n"
     ]
    },
    {
     "name": "stderr",
     "output_type": "stream",
     "text": [
      " 74%|███████▍  | 594/800 [2:22:25<12:57,  3.77s/it]"
     ]
    },
    {
     "name": "stdout",
     "output_type": "stream",
     "text": [
      "Completed processing F:\\UCF_Crimes\\UCF_Crimes\\Videos\\Training_Normal_Videos_Anomaly\\Normal_Videos653_x264.mp4\n"
     ]
    },
    {
     "name": "stderr",
     "output_type": "stream",
     "text": [
      " 74%|███████▍  | 595/800 [2:22:28<12:04,  3.53s/it]"
     ]
    },
    {
     "name": "stdout",
     "output_type": "stream",
     "text": [
      "Completed processing F:\\UCF_Crimes\\UCF_Crimes\\Videos\\Training_Normal_Videos_Anomaly\\Normal_Videos654_x264.mp4\n"
     ]
    },
    {
     "name": "stderr",
     "output_type": "stream",
     "text": [
      " 74%|███████▍  | 596/800 [2:22:36<17:01,  5.01s/it]"
     ]
    },
    {
     "name": "stdout",
     "output_type": "stream",
     "text": [
      "Completed processing F:\\UCF_Crimes\\UCF_Crimes\\Videos\\Training_Normal_Videos_Anomaly\\Normal_Videos655_x264.mp4\n"
     ]
    },
    {
     "name": "stderr",
     "output_type": "stream",
     "text": [
      " 75%|███████▍  | 597/800 [2:22:38<13:36,  4.02s/it]"
     ]
    },
    {
     "name": "stdout",
     "output_type": "stream",
     "text": [
      "Completed processing F:\\UCF_Crimes\\UCF_Crimes\\Videos\\Training_Normal_Videos_Anomaly\\Normal_Videos657_x264.mp4\n"
     ]
    },
    {
     "name": "stderr",
     "output_type": "stream",
     "text": [
      " 75%|███████▍  | 598/800 [2:22:38<10:05,  3.00s/it]"
     ]
    },
    {
     "name": "stdout",
     "output_type": "stream",
     "text": [
      "Completed processing F:\\UCF_Crimes\\UCF_Crimes\\Videos\\Training_Normal_Videos_Anomaly\\Normal_Videos658_x264.mp4\n"
     ]
    },
    {
     "name": "stderr",
     "output_type": "stream",
     "text": [
      " 75%|███████▍  | 599/800 [2:22:39<07:40,  2.29s/it]"
     ]
    },
    {
     "name": "stdout",
     "output_type": "stream",
     "text": [
      "Completed processing F:\\UCF_Crimes\\UCF_Crimes\\Videos\\Training_Normal_Videos_Anomaly\\Normal_Videos659_x264.mp4\n"
     ]
    },
    {
     "name": "stderr",
     "output_type": "stream",
     "text": [
      " 75%|███████▌  | 600/800 [2:22:40<06:41,  2.01s/it]"
     ]
    },
    {
     "name": "stdout",
     "output_type": "stream",
     "text": [
      "Completed processing F:\\UCF_Crimes\\UCF_Crimes\\Videos\\Training_Normal_Videos_Anomaly\\Normal_Videos660_x264.mp4\n"
     ]
    },
    {
     "name": "stderr",
     "output_type": "stream",
     "text": [
      " 75%|███████▌  | 601/800 [2:22:41<05:30,  1.66s/it]"
     ]
    },
    {
     "name": "stdout",
     "output_type": "stream",
     "text": [
      "Completed processing F:\\UCF_Crimes\\UCF_Crimes\\Videos\\Training_Normal_Videos_Anomaly\\Normal_Videos661_x264.mp4\n"
     ]
    },
    {
     "name": "stderr",
     "output_type": "stream",
     "text": [
      " 75%|███████▌  | 602/800 [2:22:42<04:30,  1.37s/it]"
     ]
    },
    {
     "name": "stdout",
     "output_type": "stream",
     "text": [
      "Completed processing F:\\UCF_Crimes\\UCF_Crimes\\Videos\\Training_Normal_Videos_Anomaly\\Normal_Videos662_x264.mp4\n"
     ]
    },
    {
     "name": "stderr",
     "output_type": "stream",
     "text": [
      " 75%|███████▌  | 603/800 [2:22:43<04:13,  1.29s/it]"
     ]
    },
    {
     "name": "stdout",
     "output_type": "stream",
     "text": [
      "Completed processing F:\\UCF_Crimes\\UCF_Crimes\\Videos\\Training_Normal_Videos_Anomaly\\Normal_Videos663_x264.mp4\n"
     ]
    },
    {
     "name": "stderr",
     "output_type": "stream",
     "text": [
      " 76%|███████▌  | 604/800 [2:22:44<03:44,  1.14s/it]"
     ]
    },
    {
     "name": "stdout",
     "output_type": "stream",
     "text": [
      "Completed processing F:\\UCF_Crimes\\UCF_Crimes\\Videos\\Training_Normal_Videos_Anomaly\\Normal_Videos664_x264.mp4\n"
     ]
    },
    {
     "name": "stderr",
     "output_type": "stream",
     "text": [
      " 76%|███████▌  | 605/800 [2:22:55<13:12,  4.07s/it]"
     ]
    },
    {
     "name": "stdout",
     "output_type": "stream",
     "text": [
      "Completed processing F:\\UCF_Crimes\\UCF_Crimes\\Videos\\Training_Normal_Videos_Anomaly\\Normal_Videos665_x264.mp4\n"
     ]
    },
    {
     "name": "stderr",
     "output_type": "stream",
     "text": [
      " 76%|███████▌  | 606/800 [2:24:47<1:57:58, 36.49s/it]"
     ]
    },
    {
     "name": "stdout",
     "output_type": "stream",
     "text": [
      "Completed processing F:\\UCF_Crimes\\UCF_Crimes\\Videos\\Training_Normal_Videos_Anomaly\\Normal_Videos666_x264.mp4\n"
     ]
    },
    {
     "name": "stderr",
     "output_type": "stream",
     "text": [
      " 76%|███████▌  | 607/800 [2:24:48<1:23:26, 25.94s/it]"
     ]
    },
    {
     "name": "stdout",
     "output_type": "stream",
     "text": [
      "Completed processing F:\\UCF_Crimes\\UCF_Crimes\\Videos\\Training_Normal_Videos_Anomaly\\Normal_Videos667_x264.mp4\n"
     ]
    },
    {
     "name": "stderr",
     "output_type": "stream",
     "text": [
      " 76%|███████▌  | 608/800 [2:24:51<1:01:07, 19.10s/it]"
     ]
    },
    {
     "name": "stdout",
     "output_type": "stream",
     "text": [
      "Completed processing F:\\UCF_Crimes\\UCF_Crimes\\Videos\\Training_Normal_Videos_Anomaly\\Normal_Videos668_x264.mp4\n"
     ]
    },
    {
     "name": "stderr",
     "output_type": "stream",
     "text": [
      " 76%|███████▌  | 609/800 [2:24:52<43:40, 13.72s/it]  "
     ]
    },
    {
     "name": "stdout",
     "output_type": "stream",
     "text": [
      "Completed processing F:\\UCF_Crimes\\UCF_Crimes\\Videos\\Training_Normal_Videos_Anomaly\\Normal_Videos669_x264.mp4\n"
     ]
    },
    {
     "name": "stderr",
     "output_type": "stream",
     "text": [
      " 76%|███████▋  | 610/800 [2:24:57<34:45, 10.98s/it]"
     ]
    },
    {
     "name": "stdout",
     "output_type": "stream",
     "text": [
      "Completed processing F:\\UCF_Crimes\\UCF_Crimes\\Videos\\Training_Normal_Videos_Anomaly\\Normal_Videos670_x264.mp4\n"
     ]
    },
    {
     "name": "stderr",
     "output_type": "stream",
     "text": [
      " 76%|███████▋  | 611/800 [2:24:58<25:16,  8.02s/it]"
     ]
    },
    {
     "name": "stdout",
     "output_type": "stream",
     "text": [
      "Completed processing F:\\UCF_Crimes\\UCF_Crimes\\Videos\\Training_Normal_Videos_Anomaly\\Normal_Videos671_x264.mp4\n"
     ]
    },
    {
     "name": "stderr",
     "output_type": "stream",
     "text": [
      " 76%|███████▋  | 612/800 [2:25:00<19:28,  6.22s/it]"
     ]
    },
    {
     "name": "stdout",
     "output_type": "stream",
     "text": [
      "Completed processing F:\\UCF_Crimes\\UCF_Crimes\\Videos\\Training_Normal_Videos_Anomaly\\Normal_Videos672_x264.mp4\n"
     ]
    },
    {
     "name": "stderr",
     "output_type": "stream",
     "text": [
      " 77%|███████▋  | 613/800 [2:25:06<19:12,  6.16s/it]"
     ]
    },
    {
     "name": "stdout",
     "output_type": "stream",
     "text": [
      "Completed processing F:\\UCF_Crimes\\UCF_Crimes\\Videos\\Training_Normal_Videos_Anomaly\\Normal_Videos673_x264.mp4\n"
     ]
    },
    {
     "name": "stderr",
     "output_type": "stream",
     "text": [
      " 77%|███████▋  | 614/800 [2:25:11<18:17,  5.90s/it]"
     ]
    },
    {
     "name": "stdout",
     "output_type": "stream",
     "text": [
      "Completed processing F:\\UCF_Crimes\\UCF_Crimes\\Videos\\Training_Normal_Videos_Anomaly\\Normal_Videos674_x264.mp4\n"
     ]
    },
    {
     "name": "stderr",
     "output_type": "stream",
     "text": [
      " 77%|███████▋  | 615/800 [2:25:13<14:10,  4.60s/it]"
     ]
    },
    {
     "name": "stdout",
     "output_type": "stream",
     "text": [
      "Completed processing F:\\UCF_Crimes\\UCF_Crimes\\Videos\\Training_Normal_Videos_Anomaly\\Normal_Videos675_x264.mp4\n"
     ]
    },
    {
     "name": "stderr",
     "output_type": "stream",
     "text": [
      " 77%|███████▋  | 616/800 [2:25:19<15:19,  5.00s/it]"
     ]
    },
    {
     "name": "stdout",
     "output_type": "stream",
     "text": [
      "Completed processing F:\\UCF_Crimes\\UCF_Crimes\\Videos\\Training_Normal_Videos_Anomaly\\Normal_Videos676_x264.mp4\n"
     ]
    },
    {
     "name": "stderr",
     "output_type": "stream",
     "text": [
      " 77%|███████▋  | 617/800 [2:25:22<13:13,  4.34s/it]"
     ]
    },
    {
     "name": "stdout",
     "output_type": "stream",
     "text": [
      "Completed processing F:\\UCF_Crimes\\UCF_Crimes\\Videos\\Training_Normal_Videos_Anomaly\\Normal_Videos677_x264.mp4\n"
     ]
    },
    {
     "name": "stderr",
     "output_type": "stream",
     "text": [
      " 77%|███████▋  | 618/800 [2:25:24<10:54,  3.60s/it]"
     ]
    },
    {
     "name": "stdout",
     "output_type": "stream",
     "text": [
      "Completed processing F:\\UCF_Crimes\\UCF_Crimes\\Videos\\Training_Normal_Videos_Anomaly\\Normal_Videos678_x264.mp4\n"
     ]
    },
    {
     "name": "stderr",
     "output_type": "stream",
     "text": [
      " 77%|███████▋  | 619/800 [2:25:47<28:45,  9.53s/it]"
     ]
    },
    {
     "name": "stdout",
     "output_type": "stream",
     "text": [
      "Completed processing F:\\UCF_Crimes\\UCF_Crimes\\Videos\\Training_Normal_Videos_Anomaly\\Normal_Videos679_x264.mp4\n"
     ]
    },
    {
     "name": "stderr",
     "output_type": "stream",
     "text": [
      " 78%|███████▊  | 620/800 [2:25:48<20:54,  6.97s/it]"
     ]
    },
    {
     "name": "stdout",
     "output_type": "stream",
     "text": [
      "Completed processing F:\\UCF_Crimes\\UCF_Crimes\\Videos\\Training_Normal_Videos_Anomaly\\Normal_Videos680_x264.mp4\n"
     ]
    },
    {
     "name": "stderr",
     "output_type": "stream",
     "text": [
      " 78%|███████▊  | 621/800 [2:26:18<41:25, 13.89s/it]"
     ]
    },
    {
     "name": "stdout",
     "output_type": "stream",
     "text": [
      "Completed processing F:\\UCF_Crimes\\UCF_Crimes\\Videos\\Training_Normal_Videos_Anomaly\\Normal_Videos681_x264.mp4\n"
     ]
    },
    {
     "name": "stderr",
     "output_type": "stream",
     "text": [
      " 78%|███████▊  | 622/800 [2:26:27<36:26, 12.28s/it]"
     ]
    },
    {
     "name": "stdout",
     "output_type": "stream",
     "text": [
      "Completed processing F:\\UCF_Crimes\\UCF_Crimes\\Videos\\Training_Normal_Videos_Anomaly\\Normal_Videos682_x264.mp4\n"
     ]
    },
    {
     "name": "stderr",
     "output_type": "stream",
     "text": [
      " 78%|███████▊  | 623/800 [2:26:49<45:15, 15.34s/it]"
     ]
    },
    {
     "name": "stdout",
     "output_type": "stream",
     "text": [
      "Completed processing F:\\UCF_Crimes\\UCF_Crimes\\Videos\\Training_Normal_Videos_Anomaly\\Normal_Videos683_x264.mp4\n"
     ]
    },
    {
     "name": "stderr",
     "output_type": "stream",
     "text": [
      " 78%|███████▊  | 624/800 [2:27:08<48:17, 16.46s/it]"
     ]
    },
    {
     "name": "stdout",
     "output_type": "stream",
     "text": [
      "Completed processing F:\\UCF_Crimes\\UCF_Crimes\\Videos\\Training_Normal_Videos_Anomaly\\Normal_Videos684_x264.mp4\n"
     ]
    },
    {
     "name": "stderr",
     "output_type": "stream",
     "text": [
      " 78%|███████▊  | 625/800 [2:27:10<34:50, 11.94s/it]"
     ]
    },
    {
     "name": "stdout",
     "output_type": "stream",
     "text": [
      "Completed processing F:\\UCF_Crimes\\UCF_Crimes\\Videos\\Training_Normal_Videos_Anomaly\\Normal_Videos685_x264.mp4\n"
     ]
    },
    {
     "name": "stderr",
     "output_type": "stream",
     "text": [
      " 78%|███████▊  | 626/800 [2:27:45<54:52, 18.92s/it]"
     ]
    },
    {
     "name": "stdout",
     "output_type": "stream",
     "text": [
      "Completed processing F:\\UCF_Crimes\\UCF_Crimes\\Videos\\Training_Normal_Videos_Anomaly\\Normal_Videos687_x264.mp4\n"
     ]
    },
    {
     "name": "stderr",
     "output_type": "stream",
     "text": [
      " 78%|███████▊  | 627/800 [2:28:44<1:29:41, 31.11s/it]"
     ]
    },
    {
     "name": "stdout",
     "output_type": "stream",
     "text": [
      "Completed processing F:\\UCF_Crimes\\UCF_Crimes\\Videos\\Training_Normal_Videos_Anomaly\\Normal_Videos688_x264.mp4\n"
     ]
    },
    {
     "name": "stderr",
     "output_type": "stream",
     "text": [
      " 78%|███████▊  | 628/800 [2:29:11<1:25:12, 29.72s/it]"
     ]
    },
    {
     "name": "stdout",
     "output_type": "stream",
     "text": [
      "Completed processing F:\\UCF_Crimes\\UCF_Crimes\\Videos\\Training_Normal_Videos_Anomaly\\Normal_Videos689_x264.mp4\n"
     ]
    },
    {
     "name": "stderr",
     "output_type": "stream",
     "text": [
      " 79%|███████▊  | 629/800 [2:29:12<1:00:04, 21.08s/it]"
     ]
    },
    {
     "name": "stdout",
     "output_type": "stream",
     "text": [
      "Completed processing F:\\UCF_Crimes\\UCF_Crimes\\Videos\\Training_Normal_Videos_Anomaly\\Normal_Videos690_x264.mp4\n"
     ]
    },
    {
     "name": "stderr",
     "output_type": "stream",
     "text": [
      " 79%|███████▉  | 630/800 [2:29:28<56:02, 19.78s/it]  "
     ]
    },
    {
     "name": "stdout",
     "output_type": "stream",
     "text": [
      "Completed processing F:\\UCF_Crimes\\UCF_Crimes\\Videos\\Training_Normal_Videos_Anomaly\\Normal_Videos691_x264.mp4\n"
     ]
    },
    {
     "name": "stderr",
     "output_type": "stream",
     "text": [
      " 79%|███████▉  | 631/800 [2:29:30<40:36, 14.42s/it]"
     ]
    },
    {
     "name": "stdout",
     "output_type": "stream",
     "text": [
      "Completed processing F:\\UCF_Crimes\\UCF_Crimes\\Videos\\Training_Normal_Videos_Anomaly\\Normal_Videos692_x264.mp4\n"
     ]
    },
    {
     "name": "stderr",
     "output_type": "stream",
     "text": [
      " 79%|███████▉  | 632/800 [2:29:31<28:58, 10.35s/it]"
     ]
    },
    {
     "name": "stdout",
     "output_type": "stream",
     "text": [
      "Completed processing F:\\UCF_Crimes\\UCF_Crimes\\Videos\\Training_Normal_Videos_Anomaly\\Normal_Videos693_x264.mp4\n"
     ]
    },
    {
     "name": "stderr",
     "output_type": "stream",
     "text": [
      " 79%|███████▉  | 633/800 [2:29:48<34:17, 12.32s/it]"
     ]
    },
    {
     "name": "stdout",
     "output_type": "stream",
     "text": [
      "Completed processing F:\\UCF_Crimes\\UCF_Crimes\\Videos\\Training_Normal_Videos_Anomaly\\Normal_Videos694_x264.mp4\n"
     ]
    },
    {
     "name": "stderr",
     "output_type": "stream",
     "text": [
      " 79%|███████▉  | 634/800 [2:29:53<28:02, 10.14s/it]"
     ]
    },
    {
     "name": "stdout",
     "output_type": "stream",
     "text": [
      "Completed processing F:\\UCF_Crimes\\UCF_Crimes\\Videos\\Training_Normal_Videos_Anomaly\\Normal_Videos695_x264.mp4\n"
     ]
    },
    {
     "name": "stderr",
     "output_type": "stream",
     "text": [
      " 79%|███████▉  | 635/800 [2:29:55<20:44,  7.54s/it]"
     ]
    },
    {
     "name": "stdout",
     "output_type": "stream",
     "text": [
      "Completed processing F:\\UCF_Crimes\\UCF_Crimes\\Videos\\Training_Normal_Videos_Anomaly\\Normal_Videos697_x264.mp4\n"
     ]
    },
    {
     "name": "stderr",
     "output_type": "stream",
     "text": [
      " 80%|███████▉  | 636/800 [2:29:55<15:06,  5.53s/it]"
     ]
    },
    {
     "name": "stdout",
     "output_type": "stream",
     "text": [
      "Completed processing F:\\UCF_Crimes\\UCF_Crimes\\Videos\\Training_Normal_Videos_Anomaly\\Normal_Videos698_x264.mp4\n"
     ]
    },
    {
     "name": "stderr",
     "output_type": "stream",
     "text": [
      " 80%|███████▉  | 637/800 [2:29:57<11:37,  4.28s/it]"
     ]
    },
    {
     "name": "stdout",
     "output_type": "stream",
     "text": [
      "Completed processing F:\\UCF_Crimes\\UCF_Crimes\\Videos\\Training_Normal_Videos_Anomaly\\Normal_Videos699_x264.mp4\n"
     ]
    },
    {
     "name": "stderr",
     "output_type": "stream",
     "text": [
      " 80%|███████▉  | 638/800 [2:30:03<13:01,  4.82s/it]"
     ]
    },
    {
     "name": "stdout",
     "output_type": "stream",
     "text": [
      "Completed processing F:\\UCF_Crimes\\UCF_Crimes\\Videos\\Training_Normal_Videos_Anomaly\\Normal_Videos700_x264.mp4\n"
     ]
    },
    {
     "name": "stderr",
     "output_type": "stream",
     "text": [
      " 80%|███████▉  | 639/800 [2:30:44<41:59, 15.65s/it]"
     ]
    },
    {
     "name": "stdout",
     "output_type": "stream",
     "text": [
      "Completed processing F:\\UCF_Crimes\\UCF_Crimes\\Videos\\Training_Normal_Videos_Anomaly\\Normal_Videos701_x264.mp4\n"
     ]
    },
    {
     "name": "stderr",
     "output_type": "stream",
     "text": [
      " 80%|████████  | 640/800 [2:30:46<30:42, 11.51s/it]"
     ]
    },
    {
     "name": "stdout",
     "output_type": "stream",
     "text": [
      "Completed processing F:\\UCF_Crimes\\UCF_Crimes\\Videos\\Training_Normal_Videos_Anomaly\\Normal_Videos703_x264.mp4\n"
     ]
    },
    {
     "name": "stderr",
     "output_type": "stream",
     "text": [
      " 80%|████████  | 641/800 [2:30:46<21:37,  8.16s/it]"
     ]
    },
    {
     "name": "stdout",
     "output_type": "stream",
     "text": [
      "Completed processing F:\\UCF_Crimes\\UCF_Crimes\\Videos\\Training_Normal_Videos_Anomaly\\Normal_Videos705_x264.mp4\n"
     ]
    },
    {
     "name": "stderr",
     "output_type": "stream",
     "text": [
      " 80%|████████  | 642/800 [2:30:47<15:41,  5.96s/it]"
     ]
    },
    {
     "name": "stdout",
     "output_type": "stream",
     "text": [
      "Completed processing F:\\UCF_Crimes\\UCF_Crimes\\Videos\\Training_Normal_Videos_Anomaly\\Normal_Videos706_x264.mp4\n"
     ]
    },
    {
     "name": "stderr",
     "output_type": "stream",
     "text": [
      " 80%|████████  | 643/800 [2:30:49<12:27,  4.76s/it]"
     ]
    },
    {
     "name": "stdout",
     "output_type": "stream",
     "text": [
      "Completed processing F:\\UCF_Crimes\\UCF_Crimes\\Videos\\Training_Normal_Videos_Anomaly\\Normal_Videos707_x264.mp4\n"
     ]
    },
    {
     "name": "stderr",
     "output_type": "stream",
     "text": [
      " 80%|████████  | 644/800 [2:30:51<10:28,  4.03s/it]"
     ]
    },
    {
     "name": "stdout",
     "output_type": "stream",
     "text": [
      "Completed processing F:\\UCF_Crimes\\UCF_Crimes\\Videos\\Training_Normal_Videos_Anomaly\\Normal_Videos708_x264.mp4\n"
     ]
    },
    {
     "name": "stderr",
     "output_type": "stream",
     "text": [
      " 81%|████████  | 645/800 [2:30:55<09:54,  3.84s/it]"
     ]
    },
    {
     "name": "stdout",
     "output_type": "stream",
     "text": [
      "Completed processing F:\\UCF_Crimes\\UCF_Crimes\\Videos\\Training_Normal_Videos_Anomaly\\Normal_Videos709_x264.mp4\n"
     ]
    },
    {
     "name": "stderr",
     "output_type": "stream",
     "text": [
      " 81%|████████  | 646/800 [2:30:56<07:58,  3.11s/it]"
     ]
    },
    {
     "name": "stdout",
     "output_type": "stream",
     "text": [
      "Completed processing F:\\UCF_Crimes\\UCF_Crimes\\Videos\\Training_Normal_Videos_Anomaly\\Normal_Videos711_x264.mp4\n"
     ]
    },
    {
     "name": "stderr",
     "output_type": "stream",
     "text": [
      " 81%|████████  | 647/800 [2:30:59<08:02,  3.15s/it]"
     ]
    },
    {
     "name": "stdout",
     "output_type": "stream",
     "text": [
      "Completed processing F:\\UCF_Crimes\\UCF_Crimes\\Videos\\Training_Normal_Videos_Anomaly\\Normal_Videos712_x264.mp4\n"
     ]
    },
    {
     "name": "stderr",
     "output_type": "stream",
     "text": [
      " 81%|████████  | 648/800 [2:32:15<1:03:05, 24.90s/it]"
     ]
    },
    {
     "name": "stdout",
     "output_type": "stream",
     "text": [
      "Completed processing F:\\UCF_Crimes\\UCF_Crimes\\Videos\\Training_Normal_Videos_Anomaly\\Normal_Videos713_x264.mp4\n"
     ]
    },
    {
     "name": "stderr",
     "output_type": "stream",
     "text": [
      " 81%|████████  | 649/800 [2:33:30<1:40:44, 40.03s/it]"
     ]
    },
    {
     "name": "stdout",
     "output_type": "stream",
     "text": [
      "Completed processing F:\\UCF_Crimes\\UCF_Crimes\\Videos\\Training_Normal_Videos_Anomaly\\Normal_Videos714_x264.mp4\n"
     ]
    },
    {
     "name": "stderr",
     "output_type": "stream",
     "text": [
      " 81%|████████▏ | 650/800 [2:33:31<1:10:51, 28.34s/it]"
     ]
    },
    {
     "name": "stdout",
     "output_type": "stream",
     "text": [
      "Completed processing F:\\UCF_Crimes\\UCF_Crimes\\Videos\\Training_Normal_Videos_Anomaly\\Normal_Videos715_x264.mp4\n"
     ]
    },
    {
     "name": "stderr",
     "output_type": "stream",
     "text": [
      " 81%|████████▏ | 651/800 [2:33:59<1:09:50, 28.13s/it]"
     ]
    },
    {
     "name": "stdout",
     "output_type": "stream",
     "text": [
      "Completed processing F:\\UCF_Crimes\\UCF_Crimes\\Videos\\Training_Normal_Videos_Anomaly\\Normal_Videos716_x264.mp4\n"
     ]
    },
    {
     "name": "stderr",
     "output_type": "stream",
     "text": [
      " 82%|████████▏ | 652/800 [2:34:30<1:11:58, 29.18s/it]"
     ]
    },
    {
     "name": "stdout",
     "output_type": "stream",
     "text": [
      "Completed processing F:\\UCF_Crimes\\UCF_Crimes\\Videos\\Training_Normal_Videos_Anomaly\\Normal_Videos718_x264.mp4\n"
     ]
    },
    {
     "name": "stderr",
     "output_type": "stream",
     "text": [
      " 82%|████████▏ | 653/800 [2:34:33<52:05, 21.26s/it]  "
     ]
    },
    {
     "name": "stdout",
     "output_type": "stream",
     "text": [
      "Completed processing F:\\UCF_Crimes\\UCF_Crimes\\Videos\\Training_Normal_Videos_Anomaly\\Normal_Videos719_x264.mp4\n"
     ]
    },
    {
     "name": "stderr",
     "output_type": "stream",
     "text": [
      " 82%|████████▏ | 654/800 [2:34:43<43:06, 17.72s/it]"
     ]
    },
    {
     "name": "stdout",
     "output_type": "stream",
     "text": [
      "Completed processing F:\\UCF_Crimes\\UCF_Crimes\\Videos\\Training_Normal_Videos_Anomaly\\Normal_Videos720_x264.mp4\n"
     ]
    },
    {
     "name": "stderr",
     "output_type": "stream",
     "text": [
      " 82%|████████▏ | 655/800 [2:34:45<31:25, 13.01s/it]"
     ]
    },
    {
     "name": "stdout",
     "output_type": "stream",
     "text": [
      "Completed processing F:\\UCF_Crimes\\UCF_Crimes\\Videos\\Training_Normal_Videos_Anomaly\\Normal_Videos721_x264.mp4\n"
     ]
    },
    {
     "name": "stderr",
     "output_type": "stream",
     "text": [
      " 82%|████████▏ | 656/800 [2:34:49<25:07, 10.47s/it]"
     ]
    },
    {
     "name": "stdout",
     "output_type": "stream",
     "text": [
      "Completed processing F:\\UCF_Crimes\\UCF_Crimes\\Videos\\Training_Normal_Videos_Anomaly\\Normal_Videos723_x264.mp4\n"
     ]
    },
    {
     "name": "stderr",
     "output_type": "stream",
     "text": [
      " 82%|████████▏ | 657/800 [2:34:51<18:20,  7.69s/it]"
     ]
    },
    {
     "name": "stdout",
     "output_type": "stream",
     "text": [
      "Completed processing F:\\UCF_Crimes\\UCF_Crimes\\Videos\\Training_Normal_Videos_Anomaly\\Normal_Videos724_x264.mp4\n"
     ]
    },
    {
     "name": "stderr",
     "output_type": "stream",
     "text": [
      " 82%|████████▏ | 658/800 [2:34:52<13:44,  5.81s/it]"
     ]
    },
    {
     "name": "stdout",
     "output_type": "stream",
     "text": [
      "Completed processing F:\\UCF_Crimes\\UCF_Crimes\\Videos\\Training_Normal_Videos_Anomaly\\Normal_Videos726_x264.mp4\n"
     ]
    },
    {
     "name": "stderr",
     "output_type": "stream",
     "text": [
      " 82%|████████▏ | 659/800 [2:34:53<10:24,  4.43s/it]"
     ]
    },
    {
     "name": "stdout",
     "output_type": "stream",
     "text": [
      "Completed processing F:\\UCF_Crimes\\UCF_Crimes\\Videos\\Training_Normal_Videos_Anomaly\\Normal_Videos727_x264.mp4\n"
     ]
    },
    {
     "name": "stderr",
     "output_type": "stream",
     "text": [
      " 82%|████████▎ | 660/800 [2:34:55<08:36,  3.69s/it]"
     ]
    },
    {
     "name": "stdout",
     "output_type": "stream",
     "text": [
      "Completed processing F:\\UCF_Crimes\\UCF_Crimes\\Videos\\Training_Normal_Videos_Anomaly\\Normal_Videos728_x264.mp4\n"
     ]
    },
    {
     "name": "stderr",
     "output_type": "stream",
     "text": [
      " 83%|████████▎ | 661/800 [2:34:56<06:55,  2.99s/it]"
     ]
    },
    {
     "name": "stdout",
     "output_type": "stream",
     "text": [
      "Completed processing F:\\UCF_Crimes\\UCF_Crimes\\Videos\\Training_Normal_Videos_Anomaly\\Normal_Videos729_x264.mp4\n"
     ]
    },
    {
     "name": "stderr",
     "output_type": "stream",
     "text": [
      " 83%|████████▎ | 662/800 [2:34:57<05:26,  2.36s/it]"
     ]
    },
    {
     "name": "stdout",
     "output_type": "stream",
     "text": [
      "Completed processing F:\\UCF_Crimes\\UCF_Crimes\\Videos\\Training_Normal_Videos_Anomaly\\Normal_Videos730_x264.mp4\n"
     ]
    },
    {
     "name": "stderr",
     "output_type": "stream",
     "text": [
      " 83%|████████▎ | 663/800 [2:34:58<04:06,  1.80s/it]"
     ]
    },
    {
     "name": "stdout",
     "output_type": "stream",
     "text": [
      "Completed processing F:\\UCF_Crimes\\UCF_Crimes\\Videos\\Training_Normal_Videos_Anomaly\\Normal_Videos731_x264.mp4\n"
     ]
    },
    {
     "name": "stderr",
     "output_type": "stream",
     "text": [
      " 83%|████████▎ | 664/800 [2:34:59<03:50,  1.70s/it]"
     ]
    },
    {
     "name": "stdout",
     "output_type": "stream",
     "text": [
      "Completed processing F:\\UCF_Crimes\\UCF_Crimes\\Videos\\Training_Normal_Videos_Anomaly\\Normal_Videos732_x264.mp4\n"
     ]
    },
    {
     "name": "stderr",
     "output_type": "stream",
     "text": [
      " 83%|████████▎ | 665/800 [2:35:00<03:23,  1.51s/it]"
     ]
    },
    {
     "name": "stdout",
     "output_type": "stream",
     "text": [
      "Completed processing F:\\UCF_Crimes\\UCF_Crimes\\Videos\\Training_Normal_Videos_Anomaly\\Normal_Videos733_x264.mp4\n"
     ]
    },
    {
     "name": "stderr",
     "output_type": "stream",
     "text": [
      " 83%|████████▎ | 666/800 [2:35:01<03:03,  1.37s/it]"
     ]
    },
    {
     "name": "stdout",
     "output_type": "stream",
     "text": [
      "Completed processing F:\\UCF_Crimes\\UCF_Crimes\\Videos\\Training_Normal_Videos_Anomaly\\Normal_Videos734_x264.mp4\n"
     ]
    },
    {
     "name": "stderr",
     "output_type": "stream",
     "text": [
      " 83%|████████▎ | 667/800 [2:35:02<02:49,  1.27s/it]"
     ]
    },
    {
     "name": "stdout",
     "output_type": "stream",
     "text": [
      "Completed processing F:\\UCF_Crimes\\UCF_Crimes\\Videos\\Training_Normal_Videos_Anomaly\\Normal_Videos735_x264.mp4\n"
     ]
    },
    {
     "name": "stderr",
     "output_type": "stream",
     "text": [
      " 84%|████████▎ | 668/800 [2:35:03<02:36,  1.19s/it]"
     ]
    },
    {
     "name": "stdout",
     "output_type": "stream",
     "text": [
      "Completed processing F:\\UCF_Crimes\\UCF_Crimes\\Videos\\Training_Normal_Videos_Anomaly\\Normal_Videos736_x264.mp4\n"
     ]
    },
    {
     "name": "stderr",
     "output_type": "stream",
     "text": [
      " 84%|████████▎ | 669/800 [2:35:05<02:36,  1.19s/it]"
     ]
    },
    {
     "name": "stdout",
     "output_type": "stream",
     "text": [
      "Completed processing F:\\UCF_Crimes\\UCF_Crimes\\Videos\\Training_Normal_Videos_Anomaly\\Normal_Videos737_x264.mp4\n"
     ]
    },
    {
     "name": "stderr",
     "output_type": "stream",
     "text": [
      " 84%|████████▍ | 670/800 [2:35:06<02:40,  1.23s/it]"
     ]
    },
    {
     "name": "stdout",
     "output_type": "stream",
     "text": [
      "Completed processing F:\\UCF_Crimes\\UCF_Crimes\\Videos\\Training_Normal_Videos_Anomaly\\Normal_Videos738_x264.mp4\n"
     ]
    },
    {
     "name": "stderr",
     "output_type": "stream",
     "text": [
      " 84%|████████▍ | 671/800 [2:35:07<02:38,  1.23s/it]"
     ]
    },
    {
     "name": "stdout",
     "output_type": "stream",
     "text": [
      "Completed processing F:\\UCF_Crimes\\UCF_Crimes\\Videos\\Training_Normal_Videos_Anomaly\\Normal_Videos739_x264.mp4\n"
     ]
    },
    {
     "name": "stderr",
     "output_type": "stream",
     "text": [
      " 84%|████████▍ | 672/800 [2:35:08<02:22,  1.11s/it]"
     ]
    },
    {
     "name": "stdout",
     "output_type": "stream",
     "text": [
      "Completed processing F:\\UCF_Crimes\\UCF_Crimes\\Videos\\Training_Normal_Videos_Anomaly\\Normal_Videos740_x264.mp4\n"
     ]
    },
    {
     "name": "stderr",
     "output_type": "stream",
     "text": [
      " 84%|████████▍ | 673/800 [2:35:14<05:29,  2.59s/it]"
     ]
    },
    {
     "name": "stdout",
     "output_type": "stream",
     "text": [
      "Completed processing F:\\UCF_Crimes\\UCF_Crimes\\Videos\\Training_Normal_Videos_Anomaly\\Normal_Videos741_x264.mp4\n"
     ]
    },
    {
     "name": "stderr",
     "output_type": "stream",
     "text": [
      " 84%|████████▍ | 674/800 [2:35:15<04:27,  2.12s/it]"
     ]
    },
    {
     "name": "stdout",
     "output_type": "stream",
     "text": [
      "Completed processing F:\\UCF_Crimes\\UCF_Crimes\\Videos\\Training_Normal_Videos_Anomaly\\Normal_Videos742_x264.mp4\n"
     ]
    },
    {
     "name": "stderr",
     "output_type": "stream",
     "text": [
      " 84%|████████▍ | 675/800 [2:35:20<06:27,  3.10s/it]"
     ]
    },
    {
     "name": "stdout",
     "output_type": "stream",
     "text": [
      "Completed processing F:\\UCF_Crimes\\UCF_Crimes\\Videos\\Training_Normal_Videos_Anomaly\\Normal_Videos743_x264.mp4\n"
     ]
    },
    {
     "name": "stderr",
     "output_type": "stream",
     "text": [
      " 84%|████████▍ | 676/800 [2:35:22<05:23,  2.61s/it]"
     ]
    },
    {
     "name": "stdout",
     "output_type": "stream",
     "text": [
      "Completed processing F:\\UCF_Crimes\\UCF_Crimes\\Videos\\Training_Normal_Videos_Anomaly\\Normal_Videos744_x264.mp4\n"
     ]
    },
    {
     "name": "stderr",
     "output_type": "stream",
     "text": [
      " 85%|████████▍ | 677/800 [2:35:22<04:04,  1.99s/it]"
     ]
    },
    {
     "name": "stdout",
     "output_type": "stream",
     "text": [
      "Completed processing F:\\UCF_Crimes\\UCF_Crimes\\Videos\\Training_Normal_Videos_Anomaly\\Normal_Videos746_x264.mp4\n"
     ]
    },
    {
     "name": "stderr",
     "output_type": "stream",
     "text": [
      " 85%|████████▍ | 678/800 [2:35:24<03:48,  1.88s/it]"
     ]
    },
    {
     "name": "stdout",
     "output_type": "stream",
     "text": [
      "Completed processing F:\\UCF_Crimes\\UCF_Crimes\\Videos\\Training_Normal_Videos_Anomaly\\Normal_Videos747_x264.mp4\n"
     ]
    },
    {
     "name": "stderr",
     "output_type": "stream",
     "text": [
      " 85%|████████▍ | 679/800 [2:35:25<03:13,  1.60s/it]"
     ]
    },
    {
     "name": "stdout",
     "output_type": "stream",
     "text": [
      "Completed processing F:\\UCF_Crimes\\UCF_Crimes\\Videos\\Training_Normal_Videos_Anomaly\\Normal_Videos748_x264.mp4\n"
     ]
    },
    {
     "name": "stderr",
     "output_type": "stream",
     "text": [
      " 85%|████████▌ | 680/800 [2:35:26<02:54,  1.45s/it]"
     ]
    },
    {
     "name": "stdout",
     "output_type": "stream",
     "text": [
      "Completed processing F:\\UCF_Crimes\\UCF_Crimes\\Videos\\Training_Normal_Videos_Anomaly\\Normal_Videos749_x264.mp4\n"
     ]
    },
    {
     "name": "stderr",
     "output_type": "stream",
     "text": [
      " 85%|████████▌ | 681/800 [2:35:27<02:46,  1.40s/it]"
     ]
    },
    {
     "name": "stdout",
     "output_type": "stream",
     "text": [
      "Completed processing F:\\UCF_Crimes\\UCF_Crimes\\Videos\\Training_Normal_Videos_Anomaly\\Normal_Videos750_x264.mp4\n"
     ]
    },
    {
     "name": "stderr",
     "output_type": "stream",
     "text": [
      " 85%|████████▌ | 682/800 [2:35:29<02:35,  1.31s/it]"
     ]
    },
    {
     "name": "stdout",
     "output_type": "stream",
     "text": [
      "Completed processing F:\\UCF_Crimes\\UCF_Crimes\\Videos\\Training_Normal_Videos_Anomaly\\Normal_Videos751_x264.mp4\n"
     ]
    },
    {
     "name": "stderr",
     "output_type": "stream",
     "text": [
      " 85%|████████▌ | 683/800 [2:35:30<02:25,  1.24s/it]"
     ]
    },
    {
     "name": "stdout",
     "output_type": "stream",
     "text": [
      "Completed processing F:\\UCF_Crimes\\UCF_Crimes\\Videos\\Training_Normal_Videos_Anomaly\\Normal_Videos752_x264.mp4\n"
     ]
    },
    {
     "name": "stderr",
     "output_type": "stream",
     "text": [
      " 86%|████████▌ | 684/800 [2:35:31<02:20,  1.21s/it]"
     ]
    },
    {
     "name": "stdout",
     "output_type": "stream",
     "text": [
      "Completed processing F:\\UCF_Crimes\\UCF_Crimes\\Videos\\Training_Normal_Videos_Anomaly\\Normal_Videos753_x264.mp4\n"
     ]
    },
    {
     "name": "stderr",
     "output_type": "stream",
     "text": [
      " 86%|████████▌ | 685/800 [2:35:32<02:30,  1.31s/it]"
     ]
    },
    {
     "name": "stdout",
     "output_type": "stream",
     "text": [
      "Completed processing F:\\UCF_Crimes\\UCF_Crimes\\Videos\\Training_Normal_Videos_Anomaly\\Normal_Videos754_x264.mp4\n"
     ]
    },
    {
     "name": "stderr",
     "output_type": "stream",
     "text": [
      " 86%|████████▌ | 686/800 [2:35:34<02:35,  1.36s/it]"
     ]
    },
    {
     "name": "stdout",
     "output_type": "stream",
     "text": [
      "Completed processing F:\\UCF_Crimes\\UCF_Crimes\\Videos\\Training_Normal_Videos_Anomaly\\Normal_Videos755_x264.mp4\n"
     ]
    },
    {
     "name": "stderr",
     "output_type": "stream",
     "text": [
      " 86%|████████▌ | 687/800 [2:35:35<02:15,  1.19s/it]"
     ]
    },
    {
     "name": "stdout",
     "output_type": "stream",
     "text": [
      "Completed processing F:\\UCF_Crimes\\UCF_Crimes\\Videos\\Training_Normal_Videos_Anomaly\\Normal_Videos756_x264.mp4\n"
     ]
    },
    {
     "name": "stderr",
     "output_type": "stream",
     "text": [
      " 86%|████████▌ | 688/800 [2:35:36<02:06,  1.13s/it]"
     ]
    },
    {
     "name": "stdout",
     "output_type": "stream",
     "text": [
      "Completed processing F:\\UCF_Crimes\\UCF_Crimes\\Videos\\Training_Normal_Videos_Anomaly\\Normal_Videos757_x264.mp4\n"
     ]
    },
    {
     "name": "stderr",
     "output_type": "stream",
     "text": [
      " 86%|████████▌ | 689/800 [2:35:37<01:58,  1.07s/it]"
     ]
    },
    {
     "name": "stdout",
     "output_type": "stream",
     "text": [
      "Completed processing F:\\UCF_Crimes\\UCF_Crimes\\Videos\\Training_Normal_Videos_Anomaly\\Normal_Videos759_x264.mp4\n"
     ]
    },
    {
     "name": "stderr",
     "output_type": "stream",
     "text": [
      " 86%|████████▋ | 690/800 [2:35:38<02:13,  1.22s/it]"
     ]
    },
    {
     "name": "stdout",
     "output_type": "stream",
     "text": [
      "Completed processing F:\\UCF_Crimes\\UCF_Crimes\\Videos\\Training_Normal_Videos_Anomaly\\Normal_Videos760_x264.mp4\n"
     ]
    },
    {
     "name": "stderr",
     "output_type": "stream",
     "text": [
      " 86%|████████▋ | 691/800 [2:35:41<03:23,  1.86s/it]"
     ]
    },
    {
     "name": "stdout",
     "output_type": "stream",
     "text": [
      "Completed processing F:\\UCF_Crimes\\UCF_Crimes\\Videos\\Training_Normal_Videos_Anomaly\\Normal_Videos761_x264.mp4\n"
     ]
    },
    {
     "name": "stderr",
     "output_type": "stream",
     "text": [
      " 86%|████████▋ | 692/800 [2:35:58<11:14,  6.24s/it]"
     ]
    },
    {
     "name": "stdout",
     "output_type": "stream",
     "text": [
      "Completed processing F:\\UCF_Crimes\\UCF_Crimes\\Videos\\Training_Normal_Videos_Anomaly\\Normal_Videos762_x264.mp4\n"
     ]
    },
    {
     "name": "stderr",
     "output_type": "stream",
     "text": [
      " 87%|████████▋ | 693/800 [2:36:02<09:49,  5.51s/it]"
     ]
    },
    {
     "name": "stdout",
     "output_type": "stream",
     "text": [
      "Completed processing F:\\UCF_Crimes\\UCF_Crimes\\Videos\\Training_Normal_Videos_Anomaly\\Normal_Videos763_x264.mp4\n"
     ]
    },
    {
     "name": "stderr",
     "output_type": "stream",
     "text": [
      " 87%|████████▋ | 694/800 [2:36:05<08:31,  4.83s/it]"
     ]
    },
    {
     "name": "stdout",
     "output_type": "stream",
     "text": [
      "Completed processing F:\\UCF_Crimes\\UCF_Crimes\\Videos\\Training_Normal_Videos_Anomaly\\Normal_Videos764_x264.mp4\n"
     ]
    },
    {
     "name": "stderr",
     "output_type": "stream",
     "text": [
      " 87%|████████▋ | 695/800 [2:36:06<06:31,  3.73s/it]"
     ]
    },
    {
     "name": "stdout",
     "output_type": "stream",
     "text": [
      "Completed processing F:\\UCF_Crimes\\UCF_Crimes\\Videos\\Training_Normal_Videos_Anomaly\\Normal_Videos765_x264.mp4\n"
     ]
    },
    {
     "name": "stderr",
     "output_type": "stream",
     "text": [
      " 87%|████████▋ | 696/800 [2:36:07<04:47,  2.76s/it]"
     ]
    },
    {
     "name": "stdout",
     "output_type": "stream",
     "text": [
      "Completed processing F:\\UCF_Crimes\\UCF_Crimes\\Videos\\Training_Normal_Videos_Anomaly\\Normal_Videos766_x264.mp4\n"
     ]
    },
    {
     "name": "stderr",
     "output_type": "stream",
     "text": [
      " 87%|████████▋ | 697/800 [2:36:09<04:18,  2.51s/it]"
     ]
    },
    {
     "name": "stdout",
     "output_type": "stream",
     "text": [
      "Completed processing F:\\UCF_Crimes\\UCF_Crimes\\Videos\\Training_Normal_Videos_Anomaly\\Normal_Videos767_x264.mp4\n"
     ]
    },
    {
     "name": "stderr",
     "output_type": "stream",
     "text": [
      " 87%|████████▋ | 698/800 [2:36:10<03:33,  2.09s/it]"
     ]
    },
    {
     "name": "stdout",
     "output_type": "stream",
     "text": [
      "Completed processing F:\\UCF_Crimes\\UCF_Crimes\\Videos\\Training_Normal_Videos_Anomaly\\Normal_Videos768_x264.mp4\n"
     ]
    },
    {
     "name": "stderr",
     "output_type": "stream",
     "text": [
      " 87%|████████▋ | 699/800 [2:36:59<27:26, 16.30s/it]"
     ]
    },
    {
     "name": "stdout",
     "output_type": "stream",
     "text": [
      "Completed processing F:\\UCF_Crimes\\UCF_Crimes\\Videos\\Training_Normal_Videos_Anomaly\\Normal_Videos769_x264.mp4\n"
     ]
    },
    {
     "name": "stderr",
     "output_type": "stream",
     "text": [
      " 88%|████████▊ | 700/800 [2:37:00<19:23, 11.63s/it]"
     ]
    },
    {
     "name": "stdout",
     "output_type": "stream",
     "text": [
      "Completed processing F:\\UCF_Crimes\\UCF_Crimes\\Videos\\Training_Normal_Videos_Anomaly\\Normal_Videos770_x264.mp4\n"
     ]
    },
    {
     "name": "stderr",
     "output_type": "stream",
     "text": [
      " 88%|████████▊ | 701/800 [2:37:02<14:43,  8.92s/it]"
     ]
    },
    {
     "name": "stdout",
     "output_type": "stream",
     "text": [
      "Completed processing F:\\UCF_Crimes\\UCF_Crimes\\Videos\\Training_Normal_Videos_Anomaly\\Normal_Videos771_x264.mp4\n"
     ]
    },
    {
     "name": "stderr",
     "output_type": "stream",
     "text": [
      " 88%|████████▊ | 702/800 [2:37:04<10:50,  6.64s/it]"
     ]
    },
    {
     "name": "stdout",
     "output_type": "stream",
     "text": [
      "Completed processing F:\\UCF_Crimes\\UCF_Crimes\\Videos\\Training_Normal_Videos_Anomaly\\Normal_Videos772_x264.mp4\n"
     ]
    },
    {
     "name": "stderr",
     "output_type": "stream",
     "text": [
      " 88%|████████▊ | 703/800 [2:37:08<09:23,  5.81s/it]"
     ]
    },
    {
     "name": "stdout",
     "output_type": "stream",
     "text": [
      "Completed processing F:\\UCF_Crimes\\UCF_Crimes\\Videos\\Training_Normal_Videos_Anomaly\\Normal_Videos773_x264.mp4\n"
     ]
    },
    {
     "name": "stderr",
     "output_type": "stream",
     "text": [
      " 88%|████████▊ | 704/800 [2:37:09<07:23,  4.62s/it]"
     ]
    },
    {
     "name": "stdout",
     "output_type": "stream",
     "text": [
      "Completed processing F:\\UCF_Crimes\\UCF_Crimes\\Videos\\Training_Normal_Videos_Anomaly\\Normal_Videos774_x264.mp4\n"
     ]
    },
    {
     "name": "stderr",
     "output_type": "stream",
     "text": [
      " 88%|████████▊ | 705/800 [2:37:12<06:14,  3.95s/it]"
     ]
    },
    {
     "name": "stdout",
     "output_type": "stream",
     "text": [
      "Completed processing F:\\UCF_Crimes\\UCF_Crimes\\Videos\\Training_Normal_Videos_Anomaly\\Normal_Videos775_x264.mp4\n"
     ]
    },
    {
     "name": "stderr",
     "output_type": "stream",
     "text": [
      " 88%|████████▊ | 706/800 [2:37:38<16:24, 10.48s/it]"
     ]
    },
    {
     "name": "stdout",
     "output_type": "stream",
     "text": [
      "Completed processing F:\\UCF_Crimes\\UCF_Crimes\\Videos\\Training_Normal_Videos_Anomaly\\Normal_Videos776_x264.mp4\n"
     ]
    },
    {
     "name": "stderr",
     "output_type": "stream",
     "text": [
      " 88%|████████▊ | 707/800 [2:37:45<14:36,  9.43s/it]"
     ]
    },
    {
     "name": "stdout",
     "output_type": "stream",
     "text": [
      "Completed processing F:\\UCF_Crimes\\UCF_Crimes\\Videos\\Training_Normal_Videos_Anomaly\\Normal_Videos777_x264.mp4\n"
     ]
    },
    {
     "name": "stderr",
     "output_type": "stream",
     "text": [
      " 88%|████████▊ | 708/800 [2:37:45<10:24,  6.78s/it]"
     ]
    },
    {
     "name": "stdout",
     "output_type": "stream",
     "text": [
      "Completed processing F:\\UCF_Crimes\\UCF_Crimes\\Videos\\Training_Normal_Videos_Anomaly\\Normal_Videos779_x264.mp4\n"
     ]
    },
    {
     "name": "stderr",
     "output_type": "stream",
     "text": [
      " 89%|████████▊ | 709/800 [2:37:46<07:43,  5.09s/it]"
     ]
    },
    {
     "name": "stdout",
     "output_type": "stream",
     "text": [
      "Completed processing F:\\UCF_Crimes\\UCF_Crimes\\Videos\\Training_Normal_Videos_Anomaly\\Normal_Videos784_x264.mp4\n"
     ]
    },
    {
     "name": "stderr",
     "output_type": "stream",
     "text": [
      " 89%|████████▉ | 710/800 [2:39:16<45:38, 30.43s/it]"
     ]
    },
    {
     "name": "stdout",
     "output_type": "stream",
     "text": [
      "Completed processing F:\\UCF_Crimes\\UCF_Crimes\\Videos\\Training_Normal_Videos_Anomaly\\Normal_Videos785_x264.mp4\n"
     ]
    },
    {
     "name": "stderr",
     "output_type": "stream",
     "text": [
      " 89%|████████▉ | 711/800 [2:39:22<34:15, 23.09s/it]"
     ]
    },
    {
     "name": "stdout",
     "output_type": "stream",
     "text": [
      "Completed processing F:\\UCF_Crimes\\UCF_Crimes\\Videos\\Training_Normal_Videos_Anomaly\\Normal_Videos786_x264.mp4\n"
     ]
    },
    {
     "name": "stderr",
     "output_type": "stream",
     "text": [
      " 89%|████████▉ | 712/800 [2:39:28<26:12, 17.87s/it]"
     ]
    },
    {
     "name": "stdout",
     "output_type": "stream",
     "text": [
      "Completed processing F:\\UCF_Crimes\\UCF_Crimes\\Videos\\Training_Normal_Videos_Anomaly\\Normal_Videos787_x264.mp4\n"
     ]
    },
    {
     "name": "stderr",
     "output_type": "stream",
     "text": [
      " 89%|████████▉ | 713/800 [2:39:28<18:33, 12.80s/it]"
     ]
    },
    {
     "name": "stdout",
     "output_type": "stream",
     "text": [
      "Completed processing F:\\UCF_Crimes\\UCF_Crimes\\Videos\\Training_Normal_Videos_Anomaly\\Normal_Videos788_x264.mp4\n"
     ]
    },
    {
     "name": "stderr",
     "output_type": "stream",
     "text": [
      " 89%|████████▉ | 714/800 [2:39:34<15:12, 10.61s/it]"
     ]
    },
    {
     "name": "stdout",
     "output_type": "stream",
     "text": [
      "Completed processing F:\\UCF_Crimes\\UCF_Crimes\\Videos\\Training_Normal_Videos_Anomaly\\Normal_Videos789_x264.mp4\n"
     ]
    },
    {
     "name": "stderr",
     "output_type": "stream",
     "text": [
      " 89%|████████▉ | 715/800 [2:39:35<11:05,  7.83s/it]"
     ]
    },
    {
     "name": "stdout",
     "output_type": "stream",
     "text": [
      "Completed processing F:\\UCF_Crimes\\UCF_Crimes\\Videos\\Training_Normal_Videos_Anomaly\\Normal_Videos790_x264.mp4\n"
     ]
    },
    {
     "name": "stderr",
     "output_type": "stream",
     "text": [
      " 90%|████████▉ | 716/800 [2:39:39<09:08,  6.53s/it]"
     ]
    },
    {
     "name": "stdout",
     "output_type": "stream",
     "text": [
      "Completed processing F:\\UCF_Crimes\\UCF_Crimes\\Videos\\Training_Normal_Videos_Anomaly\\Normal_Videos791_x264.mp4\n"
     ]
    },
    {
     "name": "stderr",
     "output_type": "stream",
     "text": [
      " 90%|████████▉ | 717/800 [2:39:47<09:48,  7.09s/it]"
     ]
    },
    {
     "name": "stdout",
     "output_type": "stream",
     "text": [
      "Completed processing F:\\UCF_Crimes\\UCF_Crimes\\Videos\\Training_Normal_Videos_Anomaly\\Normal_Videos792_x264.mp4\n"
     ]
    },
    {
     "name": "stderr",
     "output_type": "stream",
     "text": [
      " 90%|████████▉ | 718/800 [2:39:49<07:41,  5.63s/it]"
     ]
    },
    {
     "name": "stdout",
     "output_type": "stream",
     "text": [
      "Completed processing F:\\UCF_Crimes\\UCF_Crimes\\Videos\\Training_Normal_Videos_Anomaly\\Normal_Videos793_x264.mp4\n"
     ]
    },
    {
     "name": "stderr",
     "output_type": "stream",
     "text": [
      " 90%|████████▉ | 719/800 [2:39:54<07:02,  5.22s/it]"
     ]
    },
    {
     "name": "stdout",
     "output_type": "stream",
     "text": [
      "Completed processing F:\\UCF_Crimes\\UCF_Crimes\\Videos\\Training_Normal_Videos_Anomaly\\Normal_Videos794_x264.mp4\n"
     ]
    },
    {
     "name": "stderr",
     "output_type": "stream",
     "text": [
      " 90%|█████████ | 720/800 [2:40:06<09:54,  7.43s/it]"
     ]
    },
    {
     "name": "stdout",
     "output_type": "stream",
     "text": [
      "Completed processing F:\\UCF_Crimes\\UCF_Crimes\\Videos\\Training_Normal_Videos_Anomaly\\Normal_Videos795_x264.mp4\n"
     ]
    },
    {
     "name": "stderr",
     "output_type": "stream",
     "text": [
      " 90%|█████████ | 721/800 [2:40:25<14:15, 10.82s/it]"
     ]
    },
    {
     "name": "stdout",
     "output_type": "stream",
     "text": [
      "Completed processing F:\\UCF_Crimes\\UCF_Crimes\\Videos\\Training_Normal_Videos_Anomaly\\Normal_Videos796_x264.mp4\n"
     ]
    },
    {
     "name": "stderr",
     "output_type": "stream",
     "text": [
      " 90%|█████████ | 722/800 [2:40:29<11:12,  8.62s/it]"
     ]
    },
    {
     "name": "stdout",
     "output_type": "stream",
     "text": [
      "Completed processing F:\\UCF_Crimes\\UCF_Crimes\\Videos\\Training_Normal_Videos_Anomaly\\Normal_Videos797_x264.mp4\n"
     ]
    },
    {
     "name": "stderr",
     "output_type": "stream",
     "text": [
      " 90%|█████████ | 723/800 [2:40:32<08:55,  6.96s/it]"
     ]
    },
    {
     "name": "stdout",
     "output_type": "stream",
     "text": [
      "Completed processing F:\\UCF_Crimes\\UCF_Crimes\\Videos\\Training_Normal_Videos_Anomaly\\Normal_Videos799_x264.mp4\n"
     ]
    },
    {
     "name": "stderr",
     "output_type": "stream",
     "text": [
      " 90%|█████████ | 724/800 [2:40:32<06:25,  5.07s/it]"
     ]
    },
    {
     "name": "stdout",
     "output_type": "stream",
     "text": [
      "Completed processing F:\\UCF_Crimes\\UCF_Crimes\\Videos\\Training_Normal_Videos_Anomaly\\Normal_Videos800_x264.mp4\n"
     ]
    },
    {
     "name": "stderr",
     "output_type": "stream",
     "text": [
      " 91%|█████████ | 725/800 [2:40:35<05:34,  4.45s/it]"
     ]
    },
    {
     "name": "stdout",
     "output_type": "stream",
     "text": [
      "Completed processing F:\\UCF_Crimes\\UCF_Crimes\\Videos\\Training_Normal_Videos_Anomaly\\Normal_Videos802_x264.mp4\n"
     ]
    },
    {
     "name": "stderr",
     "output_type": "stream",
     "text": [
      " 91%|█████████ | 726/800 [2:40:38<04:55,  4.00s/it]"
     ]
    },
    {
     "name": "stdout",
     "output_type": "stream",
     "text": [
      "Completed processing F:\\UCF_Crimes\\UCF_Crimes\\Videos\\Training_Normal_Videos_Anomaly\\Normal_Videos803_x264.mp4\n"
     ]
    },
    {
     "name": "stderr",
     "output_type": "stream",
     "text": [
      " 91%|█████████ | 727/800 [2:40:41<04:21,  3.58s/it]"
     ]
    },
    {
     "name": "stdout",
     "output_type": "stream",
     "text": [
      "Completed processing F:\\UCF_Crimes\\UCF_Crimes\\Videos\\Training_Normal_Videos_Anomaly\\Normal_Videos804_x264.mp4\n"
     ]
    },
    {
     "name": "stderr",
     "output_type": "stream",
     "text": [
      " 91%|█████████ | 728/800 [2:40:44<04:02,  3.37s/it]"
     ]
    },
    {
     "name": "stdout",
     "output_type": "stream",
     "text": [
      "Completed processing F:\\UCF_Crimes\\UCF_Crimes\\Videos\\Training_Normal_Videos_Anomaly\\Normal_Videos805_x264.mp4\n"
     ]
    },
    {
     "name": "stderr",
     "output_type": "stream",
     "text": [
      " 91%|█████████ | 729/800 [2:40:46<03:46,  3.19s/it]"
     ]
    },
    {
     "name": "stdout",
     "output_type": "stream",
     "text": [
      "Completed processing F:\\UCF_Crimes\\UCF_Crimes\\Videos\\Training_Normal_Videos_Anomaly\\Normal_Videos806_x264.mp4\n"
     ]
    },
    {
     "name": "stderr",
     "output_type": "stream",
     "text": [
      " 91%|█████████▏| 730/800 [2:40:49<03:35,  3.07s/it]"
     ]
    },
    {
     "name": "stdout",
     "output_type": "stream",
     "text": [
      "Completed processing F:\\UCF_Crimes\\UCF_Crimes\\Videos\\Training_Normal_Videos_Anomaly\\Normal_Videos807_x264.mp4\n"
     ]
    },
    {
     "name": "stderr",
     "output_type": "stream",
     "text": [
      " 91%|█████████▏| 731/800 [2:40:52<03:27,  3.00s/it]"
     ]
    },
    {
     "name": "stdout",
     "output_type": "stream",
     "text": [
      "Completed processing F:\\UCF_Crimes\\UCF_Crimes\\Videos\\Training_Normal_Videos_Anomaly\\Normal_Videos808_x264.mp4\n"
     ]
    },
    {
     "name": "stderr",
     "output_type": "stream",
     "text": [
      " 92%|█████████▏| 732/800 [2:40:55<03:18,  2.92s/it]"
     ]
    },
    {
     "name": "stdout",
     "output_type": "stream",
     "text": [
      "Completed processing F:\\UCF_Crimes\\UCF_Crimes\\Videos\\Training_Normal_Videos_Anomaly\\Normal_Videos809_x264.mp4\n"
     ]
    },
    {
     "name": "stderr",
     "output_type": "stream",
     "text": [
      " 92%|█████████▏| 733/800 [2:40:58<03:14,  2.90s/it]"
     ]
    },
    {
     "name": "stdout",
     "output_type": "stream",
     "text": [
      "Completed processing F:\\UCF_Crimes\\UCF_Crimes\\Videos\\Training_Normal_Videos_Anomaly\\Normal_Videos810_x264.mp4\n"
     ]
    },
    {
     "name": "stderr",
     "output_type": "stream",
     "text": [
      " 92%|█████████▏| 734/800 [2:41:00<03:01,  2.76s/it]"
     ]
    },
    {
     "name": "stdout",
     "output_type": "stream",
     "text": [
      "Completed processing F:\\UCF_Crimes\\UCF_Crimes\\Videos\\Training_Normal_Videos_Anomaly\\Normal_Videos811_x264.mp4\n"
     ]
    },
    {
     "name": "stderr",
     "output_type": "stream",
     "text": [
      " 92%|█████████▏| 735/800 [2:41:03<03:02,  2.81s/it]"
     ]
    },
    {
     "name": "stdout",
     "output_type": "stream",
     "text": [
      "Completed processing F:\\UCF_Crimes\\UCF_Crimes\\Videos\\Training_Normal_Videos_Anomaly\\Normal_Videos812_x264.mp4\n"
     ]
    },
    {
     "name": "stderr",
     "output_type": "stream",
     "text": [
      " 92%|█████████▏| 736/800 [2:41:06<02:54,  2.72s/it]"
     ]
    },
    {
     "name": "stdout",
     "output_type": "stream",
     "text": [
      "Completed processing F:\\UCF_Crimes\\UCF_Crimes\\Videos\\Training_Normal_Videos_Anomaly\\Normal_Videos813_x264.mp4\n"
     ]
    },
    {
     "name": "stderr",
     "output_type": "stream",
     "text": [
      " 92%|█████████▏| 737/800 [2:41:08<02:50,  2.70s/it]"
     ]
    },
    {
     "name": "stdout",
     "output_type": "stream",
     "text": [
      "Completed processing F:\\UCF_Crimes\\UCF_Crimes\\Videos\\Training_Normal_Videos_Anomaly\\Normal_Videos814_x264.mp4\n"
     ]
    },
    {
     "name": "stderr",
     "output_type": "stream",
     "text": [
      " 92%|█████████▏| 738/800 [2:41:11<02:48,  2.72s/it]"
     ]
    },
    {
     "name": "stdout",
     "output_type": "stream",
     "text": [
      "Completed processing F:\\UCF_Crimes\\UCF_Crimes\\Videos\\Training_Normal_Videos_Anomaly\\Normal_Videos815_x264.mp4\n"
     ]
    },
    {
     "name": "stderr",
     "output_type": "stream",
     "text": [
      " 92%|█████████▏| 739/800 [2:41:14<02:44,  2.69s/it]"
     ]
    },
    {
     "name": "stdout",
     "output_type": "stream",
     "text": [
      "Completed processing F:\\UCF_Crimes\\UCF_Crimes\\Videos\\Training_Normal_Videos_Anomaly\\Normal_Videos816_x264.mp4\n"
     ]
    },
    {
     "name": "stderr",
     "output_type": "stream",
     "text": [
      " 92%|█████████▎| 740/800 [2:41:16<02:39,  2.65s/it]"
     ]
    },
    {
     "name": "stdout",
     "output_type": "stream",
     "text": [
      "Completed processing F:\\UCF_Crimes\\UCF_Crimes\\Videos\\Training_Normal_Videos_Anomaly\\Normal_Videos817_x264.mp4\n"
     ]
    },
    {
     "name": "stderr",
     "output_type": "stream",
     "text": [
      " 93%|█████████▎| 741/800 [2:41:17<02:03,  2.10s/it]"
     ]
    },
    {
     "name": "stdout",
     "output_type": "stream",
     "text": [
      "Completed processing F:\\UCF_Crimes\\UCF_Crimes\\Videos\\Training_Normal_Videos_Anomaly\\Normal_Videos818_x264.mp4\n"
     ]
    },
    {
     "name": "stderr",
     "output_type": "stream",
     "text": [
      " 93%|█████████▎| 742/800 [2:42:24<20:59, 21.71s/it]"
     ]
    },
    {
     "name": "stdout",
     "output_type": "stream",
     "text": [
      "Completed processing F:\\UCF_Crimes\\UCF_Crimes\\Videos\\Training_Normal_Videos_Anomaly\\Normal_Videos819_x264.mp4\n"
     ]
    },
    {
     "name": "stderr",
     "output_type": "stream",
     "text": [
      " 93%|█████████▎| 743/800 [2:42:25<14:38, 15.41s/it]"
     ]
    },
    {
     "name": "stdout",
     "output_type": "stream",
     "text": [
      "Completed processing F:\\UCF_Crimes\\UCF_Crimes\\Videos\\Training_Normal_Videos_Anomaly\\Normal_Videos820_x264.mp4\n"
     ]
    },
    {
     "name": "stderr",
     "output_type": "stream",
     "text": [
      " 93%|█████████▎| 744/800 [2:42:28<10:57, 11.74s/it]"
     ]
    },
    {
     "name": "stdout",
     "output_type": "stream",
     "text": [
      "Completed processing F:\\UCF_Crimes\\UCF_Crimes\\Videos\\Training_Normal_Videos_Anomaly\\Normal_Videos821_x264.mp4\n"
     ]
    },
    {
     "name": "stderr",
     "output_type": "stream",
     "text": [
      " 93%|█████████▎| 745/800 [2:42:30<08:05,  8.83s/it]"
     ]
    },
    {
     "name": "stdout",
     "output_type": "stream",
     "text": [
      "Completed processing F:\\UCF_Crimes\\UCF_Crimes\\Videos\\Training_Normal_Videos_Anomaly\\Normal_Videos822_x264.mp4\n"
     ]
    },
    {
     "name": "stderr",
     "output_type": "stream",
     "text": [
      " 93%|█████████▎| 746/800 [2:42:32<05:58,  6.64s/it]"
     ]
    },
    {
     "name": "stdout",
     "output_type": "stream",
     "text": [
      "Completed processing F:\\UCF_Crimes\\UCF_Crimes\\Videos\\Training_Normal_Videos_Anomaly\\Normal_Videos823_x264.mp4\n"
     ]
    },
    {
     "name": "stderr",
     "output_type": "stream",
     "text": [
      " 93%|█████████▎| 747/800 [2:42:33<04:27,  5.04s/it]"
     ]
    },
    {
     "name": "stdout",
     "output_type": "stream",
     "text": [
      "Completed processing F:\\UCF_Crimes\\UCF_Crimes\\Videos\\Training_Normal_Videos_Anomaly\\Normal_Videos824_x264.mp4\n"
     ]
    },
    {
     "name": "stderr",
     "output_type": "stream",
     "text": [
      " 94%|█████████▎| 748/800 [2:42:35<03:27,  3.99s/it]"
     ]
    },
    {
     "name": "stdout",
     "output_type": "stream",
     "text": [
      "Completed processing F:\\UCF_Crimes\\UCF_Crimes\\Videos\\Training_Normal_Videos_Anomaly\\Normal_Videos825_x264.mp4\n"
     ]
    },
    {
     "name": "stderr",
     "output_type": "stream",
     "text": [
      " 94%|█████████▎| 749/800 [2:42:36<02:45,  3.25s/it]"
     ]
    },
    {
     "name": "stdout",
     "output_type": "stream",
     "text": [
      "Completed processing F:\\UCF_Crimes\\UCF_Crimes\\Videos\\Training_Normal_Videos_Anomaly\\Normal_Videos826_x264.mp4\n"
     ]
    },
    {
     "name": "stderr",
     "output_type": "stream",
     "text": [
      " 94%|█████████▍| 750/800 [2:42:38<02:16,  2.73s/it]"
     ]
    },
    {
     "name": "stdout",
     "output_type": "stream",
     "text": [
      "Completed processing F:\\UCF_Crimes\\UCF_Crimes\\Videos\\Training_Normal_Videos_Anomaly\\Normal_Videos827_x264.mp4\n"
     ]
    },
    {
     "name": "stderr",
     "output_type": "stream",
     "text": [
      " 94%|█████████▍| 751/800 [2:42:39<01:53,  2.32s/it]"
     ]
    },
    {
     "name": "stdout",
     "output_type": "stream",
     "text": [
      "Completed processing F:\\UCF_Crimes\\UCF_Crimes\\Videos\\Training_Normal_Videos_Anomaly\\Normal_Videos829_x264.mp4\n"
     ]
    },
    {
     "name": "stderr",
     "output_type": "stream",
     "text": [
      " 94%|█████████▍| 752/800 [2:42:43<02:08,  2.68s/it]"
     ]
    },
    {
     "name": "stdout",
     "output_type": "stream",
     "text": [
      "Completed processing F:\\UCF_Crimes\\UCF_Crimes\\Videos\\Training_Normal_Videos_Anomaly\\Normal_Videos830_x264.mp4\n"
     ]
    },
    {
     "name": "stderr",
     "output_type": "stream",
     "text": [
      " 94%|█████████▍| 753/800 [2:42:58<04:57,  6.32s/it]"
     ]
    },
    {
     "name": "stdout",
     "output_type": "stream",
     "text": [
      "Completed processing F:\\UCF_Crimes\\UCF_Crimes\\Videos\\Training_Normal_Videos_Anomaly\\Normal_Videos832_x264.mp4\n"
     ]
    },
    {
     "name": "stderr",
     "output_type": "stream",
     "text": [
      " 94%|█████████▍| 754/800 [2:43:00<04:03,  5.30s/it]"
     ]
    },
    {
     "name": "stdout",
     "output_type": "stream",
     "text": [
      "Completed processing F:\\UCF_Crimes\\UCF_Crimes\\Videos\\Training_Normal_Videos_Anomaly\\Normal_Videos833_x264.mp4\n"
     ]
    },
    {
     "name": "stderr",
     "output_type": "stream",
     "text": [
      " 94%|█████████▍| 755/800 [2:43:11<05:03,  6.75s/it]"
     ]
    },
    {
     "name": "stdout",
     "output_type": "stream",
     "text": [
      "Completed processing F:\\UCF_Crimes\\UCF_Crimes\\Videos\\Training_Normal_Videos_Anomaly\\Normal_Videos834_x264.mp4\n"
     ]
    },
    {
     "name": "stderr",
     "output_type": "stream",
     "text": [
      " 94%|█████████▍| 756/800 [2:43:13<04:03,  5.53s/it]"
     ]
    },
    {
     "name": "stdout",
     "output_type": "stream",
     "text": [
      "Completed processing F:\\UCF_Crimes\\UCF_Crimes\\Videos\\Training_Normal_Videos_Anomaly\\Normal_Videos835_x264.mp4\n"
     ]
    },
    {
     "name": "stderr",
     "output_type": "stream",
     "text": [
      " 95%|█████████▍| 757/800 [2:43:43<09:06, 12.70s/it]"
     ]
    },
    {
     "name": "stdout",
     "output_type": "stream",
     "text": [
      "Completed processing F:\\UCF_Crimes\\UCF_Crimes\\Videos\\Training_Normal_Videos_Anomaly\\Normal_Videos836_x264.mp4\n"
     ]
    },
    {
     "name": "stderr",
     "output_type": "stream",
     "text": [
      " 95%|█████████▍| 758/800 [2:43:46<07:01, 10.03s/it]"
     ]
    },
    {
     "name": "stdout",
     "output_type": "stream",
     "text": [
      "Completed processing F:\\UCF_Crimes\\UCF_Crimes\\Videos\\Training_Normal_Videos_Anomaly\\Normal_Videos837_x264.mp4\n"
     ]
    },
    {
     "name": "stderr",
     "output_type": "stream",
     "text": [
      " 95%|█████████▍| 759/800 [2:43:51<05:44,  8.40s/it]"
     ]
    },
    {
     "name": "stdout",
     "output_type": "stream",
     "text": [
      "Completed processing F:\\UCF_Crimes\\UCF_Crimes\\Videos\\Training_Normal_Videos_Anomaly\\Normal_Videos838_x264.mp4\n"
     ]
    },
    {
     "name": "stderr",
     "output_type": "stream",
     "text": [
      " 95%|█████████▌| 760/800 [2:43:52<04:03,  6.08s/it]"
     ]
    },
    {
     "name": "stdout",
     "output_type": "stream",
     "text": [
      "Completed processing F:\\UCF_Crimes\\UCF_Crimes\\Videos\\Training_Normal_Videos_Anomaly\\Normal_Videos839_x264.mp4\n"
     ]
    },
    {
     "name": "stderr",
     "output_type": "stream",
     "text": [
      " 95%|█████████▌| 761/800 [2:43:52<02:51,  4.39s/it]"
     ]
    },
    {
     "name": "stdout",
     "output_type": "stream",
     "text": [
      "Completed processing F:\\UCF_Crimes\\UCF_Crimes\\Videos\\Training_Normal_Videos_Anomaly\\Normal_Videos840_x264.mp4\n"
     ]
    },
    {
     "name": "stderr",
     "output_type": "stream",
     "text": [
      " 95%|█████████▌| 762/800 [2:43:53<02:02,  3.23s/it]"
     ]
    },
    {
     "name": "stdout",
     "output_type": "stream",
     "text": [
      "Completed processing F:\\UCF_Crimes\\UCF_Crimes\\Videos\\Training_Normal_Videos_Anomaly\\Normal_Videos841_x264.mp4\n"
     ]
    },
    {
     "name": "stderr",
     "output_type": "stream",
     "text": [
      " 95%|█████████▌| 763/800 [2:43:54<01:35,  2.59s/it]"
     ]
    },
    {
     "name": "stdout",
     "output_type": "stream",
     "text": [
      "Completed processing F:\\UCF_Crimes\\UCF_Crimes\\Videos\\Training_Normal_Videos_Anomaly\\Normal_Videos842_x264.mp4\n"
     ]
    },
    {
     "name": "stderr",
     "output_type": "stream",
     "text": [
      " 96%|█████████▌| 764/800 [2:43:54<01:10,  1.96s/it]"
     ]
    },
    {
     "name": "stdout",
     "output_type": "stream",
     "text": [
      "Completed processing F:\\UCF_Crimes\\UCF_Crimes\\Videos\\Training_Normal_Videos_Anomaly\\Normal_Videos843_x264.mp4\n"
     ]
    },
    {
     "name": "stderr",
     "output_type": "stream",
     "text": [
      " 96%|█████████▌| 765/800 [2:43:55<00:57,  1.63s/it]"
     ]
    },
    {
     "name": "stdout",
     "output_type": "stream",
     "text": [
      "Completed processing F:\\UCF_Crimes\\UCF_Crimes\\Videos\\Training_Normal_Videos_Anomaly\\Normal_Videos844_x264.mp4\n"
     ]
    },
    {
     "name": "stderr",
     "output_type": "stream",
     "text": [
      " 96%|█████████▌| 766/800 [2:43:56<00:45,  1.34s/it]"
     ]
    },
    {
     "name": "stdout",
     "output_type": "stream",
     "text": [
      "Completed processing F:\\UCF_Crimes\\UCF_Crimes\\Videos\\Training_Normal_Videos_Anomaly\\Normal_Videos845_x264.mp4\n"
     ]
    },
    {
     "name": "stderr",
     "output_type": "stream",
     "text": [
      " 96%|█████████▌| 767/800 [2:43:58<00:51,  1.57s/it]"
     ]
    },
    {
     "name": "stdout",
     "output_type": "stream",
     "text": [
      "Completed processing F:\\UCF_Crimes\\UCF_Crimes\\Videos\\Training_Normal_Videos_Anomaly\\Normal_Videos846_x264.mp4\n"
     ]
    },
    {
     "name": "stderr",
     "output_type": "stream",
     "text": [
      " 96%|█████████▌| 768/800 [2:44:02<01:10,  2.20s/it]"
     ]
    },
    {
     "name": "stdout",
     "output_type": "stream",
     "text": [
      "Completed processing F:\\UCF_Crimes\\UCF_Crimes\\Videos\\Training_Normal_Videos_Anomaly\\Normal_Videos847_x264.mp4\n"
     ]
    },
    {
     "name": "stderr",
     "output_type": "stream",
     "text": [
      " 96%|█████████▌| 769/800 [2:44:04<01:12,  2.33s/it]"
     ]
    },
    {
     "name": "stdout",
     "output_type": "stream",
     "text": [
      "Completed processing F:\\UCF_Crimes\\UCF_Crimes\\Videos\\Training_Normal_Videos_Anomaly\\Normal_Videos848_x264.mp4\n"
     ]
    },
    {
     "name": "stderr",
     "output_type": "stream",
     "text": [
      " 96%|█████████▋| 770/800 [2:44:08<01:19,  2.66s/it]"
     ]
    },
    {
     "name": "stdout",
     "output_type": "stream",
     "text": [
      "Completed processing F:\\UCF_Crimes\\UCF_Crimes\\Videos\\Training_Normal_Videos_Anomaly\\Normal_Videos849_x264.mp4\n"
     ]
    },
    {
     "name": "stderr",
     "output_type": "stream",
     "text": [
      " 96%|█████████▋| 771/800 [2:44:10<01:13,  2.52s/it]"
     ]
    },
    {
     "name": "stdout",
     "output_type": "stream",
     "text": [
      "Completed processing F:\\UCF_Crimes\\UCF_Crimes\\Videos\\Training_Normal_Videos_Anomaly\\Normal_Videos850_x264.mp4\n"
     ]
    },
    {
     "name": "stderr",
     "output_type": "stream",
     "text": [
      " 96%|█████████▋| 772/800 [2:44:12<01:04,  2.32s/it]"
     ]
    },
    {
     "name": "stdout",
     "output_type": "stream",
     "text": [
      "Completed processing F:\\UCF_Crimes\\UCF_Crimes\\Videos\\Training_Normal_Videos_Anomaly\\Normal_Videos851_x264.mp4\n"
     ]
    },
    {
     "name": "stderr",
     "output_type": "stream",
     "text": [
      " 97%|█████████▋| 773/800 [2:44:15<01:09,  2.56s/it]"
     ]
    },
    {
     "name": "stdout",
     "output_type": "stream",
     "text": [
      "Completed processing F:\\UCF_Crimes\\UCF_Crimes\\Videos\\Training_Normal_Videos_Anomaly\\Normal_Videos852_x264.mp4\n"
     ]
    },
    {
     "name": "stderr",
     "output_type": "stream",
     "text": [
      " 97%|█████████▋| 774/800 [2:44:16<00:55,  2.13s/it]"
     ]
    },
    {
     "name": "stdout",
     "output_type": "stream",
     "text": [
      "Completed processing F:\\UCF_Crimes\\UCF_Crimes\\Videos\\Training_Normal_Videos_Anomaly\\Normal_Videos853_x264.mp4\n"
     ]
    },
    {
     "name": "stderr",
     "output_type": "stream",
     "text": [
      " 97%|█████████▋| 775/800 [2:44:36<03:09,  7.56s/it]"
     ]
    },
    {
     "name": "stdout",
     "output_type": "stream",
     "text": [
      "Completed processing F:\\UCF_Crimes\\UCF_Crimes\\Videos\\Training_Normal_Videos_Anomaly\\Normal_Videos854_x264.mp4\n"
     ]
    },
    {
     "name": "stderr",
     "output_type": "stream",
     "text": [
      " 97%|█████████▋| 776/800 [2:44:57<04:36, 11.52s/it]"
     ]
    },
    {
     "name": "stdout",
     "output_type": "stream",
     "text": [
      "Completed processing F:\\UCF_Crimes\\UCF_Crimes\\Videos\\Training_Normal_Videos_Anomaly\\Normal_Videos855_x264.mp4\n"
     ]
    },
    {
     "name": "stderr",
     "output_type": "stream",
     "text": [
      " 97%|█████████▋| 777/800 [2:45:17<05:26, 14.19s/it]"
     ]
    },
    {
     "name": "stdout",
     "output_type": "stream",
     "text": [
      "Completed processing F:\\UCF_Crimes\\UCF_Crimes\\Videos\\Training_Normal_Videos_Anomaly\\Normal_Videos856_x264.mp4\n"
     ]
    },
    {
     "name": "stderr",
     "output_type": "stream",
     "text": [
      " 97%|█████████▋| 778/800 [2:45:18<03:43, 10.17s/it]"
     ]
    },
    {
     "name": "stdout",
     "output_type": "stream",
     "text": [
      "Completed processing F:\\UCF_Crimes\\UCF_Crimes\\Videos\\Training_Normal_Videos_Anomaly\\Normal_Videos857_x264.mp4\n"
     ]
    },
    {
     "name": "stderr",
     "output_type": "stream",
     "text": [
      " 97%|█████████▋| 779/800 [2:45:19<02:35,  7.43s/it]"
     ]
    },
    {
     "name": "stdout",
     "output_type": "stream",
     "text": [
      "Completed processing F:\\UCF_Crimes\\UCF_Crimes\\Videos\\Training_Normal_Videos_Anomaly\\Normal_Videos858_x264.mp4\n"
     ]
    },
    {
     "name": "stderr",
     "output_type": "stream",
     "text": [
      " 98%|█████████▊| 780/800 [2:45:20<01:49,  5.47s/it]"
     ]
    },
    {
     "name": "stdout",
     "output_type": "stream",
     "text": [
      "Completed processing F:\\UCF_Crimes\\UCF_Crimes\\Videos\\Training_Normal_Videos_Anomaly\\Normal_Videos859_x264.mp4\n"
     ]
    },
    {
     "name": "stderr",
     "output_type": "stream",
     "text": [
      " 98%|█████████▊| 781/800 [2:45:21<01:20,  4.24s/it]"
     ]
    },
    {
     "name": "stdout",
     "output_type": "stream",
     "text": [
      "Completed processing F:\\UCF_Crimes\\UCF_Crimes\\Videos\\Training_Normal_Videos_Anomaly\\Normal_Videos860_x264.mp4\n"
     ]
    },
    {
     "name": "stderr",
     "output_type": "stream",
     "text": [
      " 98%|█████████▊| 782/800 [2:45:23<01:02,  3.46s/it]"
     ]
    },
    {
     "name": "stdout",
     "output_type": "stream",
     "text": [
      "Completed processing F:\\UCF_Crimes\\UCF_Crimes\\Videos\\Training_Normal_Videos_Anomaly\\Normal_Videos861_x264.mp4\n"
     ]
    },
    {
     "name": "stderr",
     "output_type": "stream",
     "text": [
      " 98%|█████████▊| 783/800 [2:45:25<00:50,  2.98s/it]"
     ]
    },
    {
     "name": "stdout",
     "output_type": "stream",
     "text": [
      "Completed processing F:\\UCF_Crimes\\UCF_Crimes\\Videos\\Training_Normal_Videos_Anomaly\\Normal_Videos862_x264.mp4\n"
     ]
    },
    {
     "name": "stderr",
     "output_type": "stream",
     "text": [
      " 98%|█████████▊| 784/800 [2:45:27<00:41,  2.61s/it]"
     ]
    },
    {
     "name": "stdout",
     "output_type": "stream",
     "text": [
      "Completed processing F:\\UCF_Crimes\\UCF_Crimes\\Videos\\Training_Normal_Videos_Anomaly\\Normal_Videos863_x264.mp4\n"
     ]
    },
    {
     "name": "stderr",
     "output_type": "stream",
     "text": [
      " 98%|█████████▊| 785/800 [2:45:28<00:32,  2.14s/it]"
     ]
    },
    {
     "name": "stdout",
     "output_type": "stream",
     "text": [
      "Completed processing F:\\UCF_Crimes\\UCF_Crimes\\Videos\\Training_Normal_Videos_Anomaly\\Normal_Videos864_x264.mp4\n"
     ]
    },
    {
     "name": "stderr",
     "output_type": "stream",
     "text": [
      " 98%|█████████▊| 786/800 [2:45:29<00:28,  2.03s/it]"
     ]
    },
    {
     "name": "stdout",
     "output_type": "stream",
     "text": [
      "Completed processing F:\\UCF_Crimes\\UCF_Crimes\\Videos\\Training_Normal_Videos_Anomaly\\Normal_Videos865_x264.mp4\n"
     ]
    },
    {
     "name": "stderr",
     "output_type": "stream",
     "text": [
      " 98%|█████████▊| 787/800 [2:45:30<00:19,  1.51s/it]"
     ]
    },
    {
     "name": "stdout",
     "output_type": "stream",
     "text": [
      "Completed processing F:\\UCF_Crimes\\UCF_Crimes\\Videos\\Training_Normal_Videos_Anomaly\\Normal_Videos916_x264.mp4\n"
     ]
    },
    {
     "name": "stderr",
     "output_type": "stream",
     "text": [
      " 98%|█████████▊| 788/800 [2:45:31<00:16,  1.38s/it]"
     ]
    },
    {
     "name": "stdout",
     "output_type": "stream",
     "text": [
      "Completed processing F:\\UCF_Crimes\\UCF_Crimes\\Videos\\Training_Normal_Videos_Anomaly\\Normal_Videos917_x264.mp4\n"
     ]
    },
    {
     "name": "stderr",
     "output_type": "stream",
     "text": [
      " 99%|█████████▊| 789/800 [2:45:32<00:13,  1.23s/it]"
     ]
    },
    {
     "name": "stdout",
     "output_type": "stream",
     "text": [
      "Completed processing F:\\UCF_Crimes\\UCF_Crimes\\Videos\\Training_Normal_Videos_Anomaly\\Normal_Videos918_x264.mp4\n"
     ]
    },
    {
     "name": "stderr",
     "output_type": "stream",
     "text": [
      " 99%|█████████▉| 790/800 [2:45:32<00:10,  1.02s/it]"
     ]
    },
    {
     "name": "stdout",
     "output_type": "stream",
     "text": [
      "Completed processing F:\\UCF_Crimes\\UCF_Crimes\\Videos\\Training_Normal_Videos_Anomaly\\Normal_Videos919_x264.mp4\n"
     ]
    },
    {
     "name": "stderr",
     "output_type": "stream",
     "text": [
      " 99%|█████████▉| 791/800 [2:45:34<00:10,  1.11s/it]"
     ]
    },
    {
     "name": "stdout",
     "output_type": "stream",
     "text": [
      "Completed processing F:\\UCF_Crimes\\UCF_Crimes\\Videos\\Training_Normal_Videos_Anomaly\\Normal_Videos920_x264.mp4\n"
     ]
    },
    {
     "name": "stderr",
     "output_type": "stream",
     "text": [
      " 99%|█████████▉| 792/800 [2:45:36<00:11,  1.39s/it]"
     ]
    },
    {
     "name": "stdout",
     "output_type": "stream",
     "text": [
      "Completed processing F:\\UCF_Crimes\\UCF_Crimes\\Videos\\Training_Normal_Videos_Anomaly\\Normal_Videos921_x264.mp4\n"
     ]
    },
    {
     "name": "stderr",
     "output_type": "stream",
     "text": [
      " 99%|█████████▉| 793/800 [2:45:36<00:08,  1.21s/it]"
     ]
    },
    {
     "name": "stdout",
     "output_type": "stream",
     "text": [
      "Completed processing F:\\UCF_Crimes\\UCF_Crimes\\Videos\\Training_Normal_Videos_Anomaly\\Normal_Videos922_x264.mp4\n"
     ]
    },
    {
     "name": "stderr",
     "output_type": "stream",
     "text": [
      " 99%|█████████▉| 794/800 [2:45:37<00:06,  1.07s/it]"
     ]
    },
    {
     "name": "stdout",
     "output_type": "stream",
     "text": [
      "Completed processing F:\\UCF_Crimes\\UCF_Crimes\\Videos\\Training_Normal_Videos_Anomaly\\Normal_Videos942_x264.mp4\n"
     ]
    },
    {
     "name": "stderr",
     "output_type": "stream",
     "text": [
      " 99%|█████████▉| 795/800 [2:45:41<00:08,  1.79s/it]"
     ]
    },
    {
     "name": "stdout",
     "output_type": "stream",
     "text": [
      "Completed processing F:\\UCF_Crimes\\UCF_Crimes\\Videos\\Training_Normal_Videos_Anomaly\\Normal_Videos945_x264.mp4\n"
     ]
    },
    {
     "name": "stderr",
     "output_type": "stream",
     "text": [
      "100%|█████████▉| 796/800 [2:49:40<04:52, 73.12s/it]"
     ]
    },
    {
     "name": "stdout",
     "output_type": "stream",
     "text": [
      "Completed processing F:\\UCF_Crimes\\UCF_Crimes\\Videos\\Training_Normal_Videos_Anomaly\\Normal_Videos946_x264.mp4\n"
     ]
    },
    {
     "name": "stderr",
     "output_type": "stream",
     "text": [
      "100%|█████████▉| 797/800 [2:52:56<05:29, 109.90s/it]"
     ]
    },
    {
     "name": "stdout",
     "output_type": "stream",
     "text": [
      "Completed processing F:\\UCF_Crimes\\UCF_Crimes\\Videos\\Training_Normal_Videos_Anomaly\\Normal_Videos947_x264.mp4\n"
     ]
    },
    {
     "name": "stderr",
     "output_type": "stream",
     "text": [
      "100%|█████████▉| 798/800 [2:53:00<02:36, 78.01s/it] "
     ]
    },
    {
     "name": "stdout",
     "output_type": "stream",
     "text": [
      "Completed processing F:\\UCF_Crimes\\UCF_Crimes\\Videos\\Training_Normal_Videos_Anomaly\\Normal_Videos948_x264.mp4\n"
     ]
    },
    {
     "name": "stderr",
     "output_type": "stream",
     "text": [
      "100%|█████████▉| 799/800 [2:53:01<00:54, 54.97s/it]"
     ]
    },
    {
     "name": "stdout",
     "output_type": "stream",
     "text": [
      "Completed processing F:\\UCF_Crimes\\UCF_Crimes\\Videos\\Training_Normal_Videos_Anomaly\\Normal_Videos949_x264.mp4\n"
     ]
    },
    {
     "name": "stderr",
     "output_type": "stream",
     "text": [
      "100%|██████████| 800/800 [2:53:03<00:00, 12.98s/it]\n"
     ]
    },
    {
     "name": "stdout",
     "output_type": "stream",
     "text": [
      "Completed processing F:\\UCF_Crimes\\UCF_Crimes\\Videos\\Training_Normal_Videos_Anomaly\\Normal_Videos950_x264.mp4\n"
     ]
    },
    {
     "name": "stderr",
     "output_type": "stream",
     "text": [
      "  2%|▏         | 1/50 [00:01<01:08,  1.40s/it]"
     ]
    },
    {
     "name": "stdout",
     "output_type": "stream",
     "text": [
      "Completed processing F:\\UCF_Crimes\\UCF_Crimes\\Videos\\Vandalism\\Vandalism001_x264.mp4\n"
     ]
    },
    {
     "name": "stderr",
     "output_type": "stream",
     "text": [
      "  4%|▍         | 2/50 [00:03<01:16,  1.59s/it]"
     ]
    },
    {
     "name": "stdout",
     "output_type": "stream",
     "text": [
      "Completed processing F:\\UCF_Crimes\\UCF_Crimes\\Videos\\Vandalism\\Vandalism002_x264.mp4\n"
     ]
    },
    {
     "name": "stderr",
     "output_type": "stream",
     "text": [
      "  6%|▌         | 3/50 [00:04<01:18,  1.67s/it]"
     ]
    },
    {
     "name": "stdout",
     "output_type": "stream",
     "text": [
      "Completed processing F:\\UCF_Crimes\\UCF_Crimes\\Videos\\Vandalism\\Vandalism003_x264.mp4\n"
     ]
    },
    {
     "name": "stderr",
     "output_type": "stream",
     "text": [
      "  8%|▊         | 4/50 [00:07<01:31,  1.99s/it]"
     ]
    },
    {
     "name": "stdout",
     "output_type": "stream",
     "text": [
      "Completed processing F:\\UCF_Crimes\\UCF_Crimes\\Videos\\Vandalism\\Vandalism004_x264.mp4\n"
     ]
    },
    {
     "name": "stderr",
     "output_type": "stream",
     "text": [
      " 10%|█         | 5/50 [00:08<01:17,  1.73s/it]"
     ]
    },
    {
     "name": "stdout",
     "output_type": "stream",
     "text": [
      "Completed processing F:\\UCF_Crimes\\UCF_Crimes\\Videos\\Vandalism\\Vandalism005_x264.mp4\n"
     ]
    },
    {
     "name": "stderr",
     "output_type": "stream",
     "text": [
      " 12%|█▏        | 6/50 [00:09<00:59,  1.36s/it]"
     ]
    },
    {
     "name": "stdout",
     "output_type": "stream",
     "text": [
      "Completed processing F:\\UCF_Crimes\\UCF_Crimes\\Videos\\Vandalism\\Vandalism006_x264.mp4\n"
     ]
    },
    {
     "name": "stderr",
     "output_type": "stream",
     "text": [
      " 14%|█▍        | 7/50 [00:10<00:56,  1.31s/it]"
     ]
    },
    {
     "name": "stdout",
     "output_type": "stream",
     "text": [
      "Completed processing F:\\UCF_Crimes\\UCF_Crimes\\Videos\\Vandalism\\Vandalism007_x264.mp4\n"
     ]
    },
    {
     "name": "stderr",
     "output_type": "stream",
     "text": [
      " 16%|█▌        | 8/50 [00:25<03:52,  5.54s/it]"
     ]
    },
    {
     "name": "stdout",
     "output_type": "stream",
     "text": [
      "Completed processing F:\\UCF_Crimes\\UCF_Crimes\\Videos\\Vandalism\\Vandalism008_x264.mp4\n"
     ]
    },
    {
     "name": "stderr",
     "output_type": "stream",
     "text": [
      " 18%|█▊        | 9/50 [00:26<02:58,  4.35s/it]"
     ]
    },
    {
     "name": "stdout",
     "output_type": "stream",
     "text": [
      "Completed processing F:\\UCF_Crimes\\UCF_Crimes\\Videos\\Vandalism\\Vandalism009_x264.mp4\n"
     ]
    },
    {
     "name": "stderr",
     "output_type": "stream",
     "text": [
      " 20%|██        | 10/50 [00:30<02:50,  4.26s/it]"
     ]
    },
    {
     "name": "stdout",
     "output_type": "stream",
     "text": [
      "Completed processing F:\\UCF_Crimes\\UCF_Crimes\\Videos\\Vandalism\\Vandalism010_x264.mp4\n"
     ]
    },
    {
     "name": "stderr",
     "output_type": "stream",
     "text": [
      " 22%|██▏       | 11/50 [01:16<11:00, 16.95s/it]"
     ]
    },
    {
     "name": "stdout",
     "output_type": "stream",
     "text": [
      "Completed processing F:\\UCF_Crimes\\UCF_Crimes\\Videos\\Vandalism\\Vandalism011_x264.mp4\n"
     ]
    },
    {
     "name": "stderr",
     "output_type": "stream",
     "text": [
      " 24%|██▍       | 12/50 [01:17<07:38, 12.07s/it]"
     ]
    },
    {
     "name": "stdout",
     "output_type": "stream",
     "text": [
      "Completed processing F:\\UCF_Crimes\\UCF_Crimes\\Videos\\Vandalism\\Vandalism012_x264.mp4\n"
     ]
    },
    {
     "name": "stderr",
     "output_type": "stream",
     "text": [
      " 26%|██▌       | 13/50 [01:19<05:36,  9.10s/it]"
     ]
    },
    {
     "name": "stdout",
     "output_type": "stream",
     "text": [
      "Completed processing F:\\UCF_Crimes\\UCF_Crimes\\Videos\\Vandalism\\Vandalism013_x264.mp4\n"
     ]
    },
    {
     "name": "stderr",
     "output_type": "stream",
     "text": [
      " 28%|██▊       | 14/50 [01:20<03:53,  6.49s/it]"
     ]
    },
    {
     "name": "stdout",
     "output_type": "stream",
     "text": [
      "Completed processing F:\\UCF_Crimes\\UCF_Crimes\\Videos\\Vandalism\\Vandalism014_x264.mp4\n"
     ]
    },
    {
     "name": "stderr",
     "output_type": "stream",
     "text": [
      " 30%|███       | 15/50 [01:22<03:05,  5.29s/it]"
     ]
    },
    {
     "name": "stdout",
     "output_type": "stream",
     "text": [
      "Completed processing F:\\UCF_Crimes\\UCF_Crimes\\Videos\\Vandalism\\Vandalism015_x264.mp4\n"
     ]
    },
    {
     "name": "stderr",
     "output_type": "stream",
     "text": [
      " 32%|███▏      | 16/50 [01:27<02:55,  5.17s/it]"
     ]
    },
    {
     "name": "stdout",
     "output_type": "stream",
     "text": [
      "Completed processing F:\\UCF_Crimes\\UCF_Crimes\\Videos\\Vandalism\\Vandalism016_x264.mp4\n"
     ]
    },
    {
     "name": "stderr",
     "output_type": "stream",
     "text": [
      " 34%|███▍      | 17/50 [01:28<02:11,  4.00s/it]"
     ]
    },
    {
     "name": "stdout",
     "output_type": "stream",
     "text": [
      "Completed processing F:\\UCF_Crimes\\UCF_Crimes\\Videos\\Vandalism\\Vandalism017_x264.mp4\n"
     ]
    },
    {
     "name": "stderr",
     "output_type": "stream",
     "text": [
      " 36%|███▌      | 18/50 [01:33<02:18,  4.33s/it]"
     ]
    },
    {
     "name": "stdout",
     "output_type": "stream",
     "text": [
      "Completed processing F:\\UCF_Crimes\\UCF_Crimes\\Videos\\Vandalism\\Vandalism018_x264.mp4\n"
     ]
    },
    {
     "name": "stderr",
     "output_type": "stream",
     "text": [
      " 38%|███▊      | 19/50 [01:35<01:50,  3.56s/it]"
     ]
    },
    {
     "name": "stdout",
     "output_type": "stream",
     "text": [
      "Completed processing F:\\UCF_Crimes\\UCF_Crimes\\Videos\\Vandalism\\Vandalism019_x264.mp4\n"
     ]
    },
    {
     "name": "stderr",
     "output_type": "stream",
     "text": [
      " 40%|████      | 20/50 [01:37<01:26,  2.89s/it]"
     ]
    },
    {
     "name": "stdout",
     "output_type": "stream",
     "text": [
      "Completed processing F:\\UCF_Crimes\\UCF_Crimes\\Videos\\Vandalism\\Vandalism020_x264.mp4\n"
     ]
    },
    {
     "name": "stderr",
     "output_type": "stream",
     "text": [
      " 42%|████▏     | 21/50 [01:38<01:10,  2.43s/it]"
     ]
    },
    {
     "name": "stdout",
     "output_type": "stream",
     "text": [
      "Completed processing F:\\UCF_Crimes\\UCF_Crimes\\Videos\\Vandalism\\Vandalism021_x264.mp4\n"
     ]
    },
    {
     "name": "stderr",
     "output_type": "stream",
     "text": [
      " 44%|████▍     | 22/50 [01:42<01:23,  2.97s/it]"
     ]
    },
    {
     "name": "stdout",
     "output_type": "stream",
     "text": [
      "Completed processing F:\\UCF_Crimes\\UCF_Crimes\\Videos\\Vandalism\\Vandalism022_x264.mp4\n"
     ]
    },
    {
     "name": "stderr",
     "output_type": "stream",
     "text": [
      " 46%|████▌     | 23/50 [01:50<01:55,  4.30s/it]"
     ]
    },
    {
     "name": "stdout",
     "output_type": "stream",
     "text": [
      "Completed processing F:\\UCF_Crimes\\UCF_Crimes\\Videos\\Vandalism\\Vandalism023_x264.mp4\n"
     ]
    },
    {
     "name": "stderr",
     "output_type": "stream",
     "text": [
      " 48%|████▊     | 24/50 [01:51<01:26,  3.32s/it]"
     ]
    },
    {
     "name": "stdout",
     "output_type": "stream",
     "text": [
      "Completed processing F:\\UCF_Crimes\\UCF_Crimes\\Videos\\Vandalism\\Vandalism024_x264.mp4\n"
     ]
    },
    {
     "name": "stderr",
     "output_type": "stream",
     "text": [
      " 50%|█████     | 25/50 [01:55<01:32,  3.69s/it]"
     ]
    },
    {
     "name": "stdout",
     "output_type": "stream",
     "text": [
      "Completed processing F:\\UCF_Crimes\\UCF_Crimes\\Videos\\Vandalism\\Vandalism025_x264.mp4\n"
     ]
    },
    {
     "name": "stderr",
     "output_type": "stream",
     "text": [
      " 52%|█████▏    | 26/50 [01:56<01:08,  2.84s/it]"
     ]
    },
    {
     "name": "stdout",
     "output_type": "stream",
     "text": [
      "Completed processing F:\\UCF_Crimes\\UCF_Crimes\\Videos\\Vandalism\\Vandalism026_x264.mp4\n"
     ]
    },
    {
     "name": "stderr",
     "output_type": "stream",
     "text": [
      " 54%|█████▍    | 27/50 [01:57<00:50,  2.19s/it]"
     ]
    },
    {
     "name": "stdout",
     "output_type": "stream",
     "text": [
      "Completed processing F:\\UCF_Crimes\\UCF_Crimes\\Videos\\Vandalism\\Vandalism027_x264.mp4\n"
     ]
    },
    {
     "name": "stderr",
     "output_type": "stream",
     "text": [
      " 56%|█████▌    | 28/50 [02:01<01:03,  2.88s/it]"
     ]
    },
    {
     "name": "stdout",
     "output_type": "stream",
     "text": [
      "Completed processing F:\\UCF_Crimes\\UCF_Crimes\\Videos\\Vandalism\\Vandalism028_x264.mp4\n"
     ]
    },
    {
     "name": "stderr",
     "output_type": "stream",
     "text": [
      " 58%|█████▊    | 29/50 [02:02<00:46,  2.23s/it]"
     ]
    },
    {
     "name": "stdout",
     "output_type": "stream",
     "text": [
      "Completed processing F:\\UCF_Crimes\\UCF_Crimes\\Videos\\Vandalism\\Vandalism029_x264.mp4\n"
     ]
    },
    {
     "name": "stderr",
     "output_type": "stream",
     "text": [
      " 60%|██████    | 30/50 [02:03<00:39,  1.98s/it]"
     ]
    },
    {
     "name": "stdout",
     "output_type": "stream",
     "text": [
      "Completed processing F:\\UCF_Crimes\\UCF_Crimes\\Videos\\Vandalism\\Vandalism030_x264.mp4\n"
     ]
    },
    {
     "name": "stderr",
     "output_type": "stream",
     "text": [
      " 62%|██████▏   | 31/50 [02:05<00:37,  2.00s/it]"
     ]
    },
    {
     "name": "stdout",
     "output_type": "stream",
     "text": [
      "Completed processing F:\\UCF_Crimes\\UCF_Crimes\\Videos\\Vandalism\\Vandalism031_x264.mp4\n"
     ]
    },
    {
     "name": "stderr",
     "output_type": "stream",
     "text": [
      " 64%|██████▍   | 32/50 [02:06<00:28,  1.56s/it]"
     ]
    },
    {
     "name": "stdout",
     "output_type": "stream",
     "text": [
      "Completed processing F:\\UCF_Crimes\\UCF_Crimes\\Videos\\Vandalism\\Vandalism032_x264.mp4\n"
     ]
    },
    {
     "name": "stderr",
     "output_type": "stream",
     "text": [
      " 66%|██████▌   | 33/50 [02:08<00:30,  1.78s/it]"
     ]
    },
    {
     "name": "stdout",
     "output_type": "stream",
     "text": [
      "Completed processing F:\\UCF_Crimes\\UCF_Crimes\\Videos\\Vandalism\\Vandalism033_x264.mp4\n"
     ]
    },
    {
     "name": "stderr",
     "output_type": "stream",
     "text": [
      " 68%|██████▊   | 34/50 [02:10<00:29,  1.85s/it]"
     ]
    },
    {
     "name": "stdout",
     "output_type": "stream",
     "text": [
      "Completed processing F:\\UCF_Crimes\\UCF_Crimes\\Videos\\Vandalism\\Vandalism034_x264.mp4\n"
     ]
    },
    {
     "name": "stderr",
     "output_type": "stream",
     "text": [
      " 70%|███████   | 35/50 [02:11<00:25,  1.67s/it]"
     ]
    },
    {
     "name": "stdout",
     "output_type": "stream",
     "text": [
      "Completed processing F:\\UCF_Crimes\\UCF_Crimes\\Videos\\Vandalism\\Vandalism035_x264.mp4\n"
     ]
    },
    {
     "name": "stderr",
     "output_type": "stream",
     "text": [
      " 72%|███████▏  | 36/50 [02:13<00:22,  1.62s/it]"
     ]
    },
    {
     "name": "stdout",
     "output_type": "stream",
     "text": [
      "Completed processing F:\\UCF_Crimes\\UCF_Crimes\\Videos\\Vandalism\\Vandalism036_x264.mp4\n"
     ]
    },
    {
     "name": "stderr",
     "output_type": "stream",
     "text": [
      " 74%|███████▍  | 37/50 [02:16<00:25,  1.99s/it]"
     ]
    },
    {
     "name": "stdout",
     "output_type": "stream",
     "text": [
      "Completed processing F:\\UCF_Crimes\\UCF_Crimes\\Videos\\Vandalism\\Vandalism037_x264.mp4\n"
     ]
    },
    {
     "name": "stderr",
     "output_type": "stream",
     "text": [
      " 76%|███████▌  | 38/50 [02:18<00:24,  2.06s/it]"
     ]
    },
    {
     "name": "stdout",
     "output_type": "stream",
     "text": [
      "Completed processing F:\\UCF_Crimes\\UCF_Crimes\\Videos\\Vandalism\\Vandalism038_x264.mp4\n"
     ]
    },
    {
     "name": "stderr",
     "output_type": "stream",
     "text": [
      " 78%|███████▊  | 39/50 [02:19<00:18,  1.67s/it]"
     ]
    },
    {
     "name": "stdout",
     "output_type": "stream",
     "text": [
      "Completed processing F:\\UCF_Crimes\\UCF_Crimes\\Videos\\Vandalism\\Vandalism039_x264.mp4\n"
     ]
    },
    {
     "name": "stderr",
     "output_type": "stream",
     "text": [
      " 80%|████████  | 40/50 [02:20<00:14,  1.47s/it]"
     ]
    },
    {
     "name": "stdout",
     "output_type": "stream",
     "text": [
      "Completed processing F:\\UCF_Crimes\\UCF_Crimes\\Videos\\Vandalism\\Vandalism040_x264.mp4\n"
     ]
    },
    {
     "name": "stderr",
     "output_type": "stream",
     "text": [
      " 82%|████████▏ | 41/50 [02:25<00:22,  2.55s/it]"
     ]
    },
    {
     "name": "stdout",
     "output_type": "stream",
     "text": [
      "Completed processing F:\\UCF_Crimes\\UCF_Crimes\\Videos\\Vandalism\\Vandalism041_x264.mp4\n"
     ]
    },
    {
     "name": "stderr",
     "output_type": "stream",
     "text": [
      " 84%|████████▍ | 42/50 [02:29<00:23,  2.98s/it]"
     ]
    },
    {
     "name": "stdout",
     "output_type": "stream",
     "text": [
      "Completed processing F:\\UCF_Crimes\\UCF_Crimes\\Videos\\Vandalism\\Vandalism042_x264.mp4\n"
     ]
    },
    {
     "name": "stderr",
     "output_type": "stream",
     "text": [
      " 86%|████████▌ | 43/50 [02:32<00:20,  2.93s/it]"
     ]
    },
    {
     "name": "stdout",
     "output_type": "stream",
     "text": [
      "Completed processing F:\\UCF_Crimes\\UCF_Crimes\\Videos\\Vandalism\\Vandalism043_x264.mp4\n"
     ]
    },
    {
     "name": "stderr",
     "output_type": "stream",
     "text": [
      " 88%|████████▊ | 44/50 [02:36<00:19,  3.25s/it]"
     ]
    },
    {
     "name": "stdout",
     "output_type": "stream",
     "text": [
      "Completed processing F:\\UCF_Crimes\\UCF_Crimes\\Videos\\Vandalism\\Vandalism044_x264.mp4\n"
     ]
    },
    {
     "name": "stderr",
     "output_type": "stream",
     "text": [
      " 90%|█████████ | 45/50 [02:41<00:18,  3.76s/it]"
     ]
    },
    {
     "name": "stdout",
     "output_type": "stream",
     "text": [
      "Completed processing F:\\UCF_Crimes\\UCF_Crimes\\Videos\\Vandalism\\Vandalism045_x264.mp4\n"
     ]
    },
    {
     "name": "stderr",
     "output_type": "stream",
     "text": [
      " 92%|█████████▏| 46/50 [02:43<00:13,  3.31s/it]"
     ]
    },
    {
     "name": "stdout",
     "output_type": "stream",
     "text": [
      "Completed processing F:\\UCF_Crimes\\UCF_Crimes\\Videos\\Vandalism\\Vandalism046_x264.mp4\n"
     ]
    },
    {
     "name": "stderr",
     "output_type": "stream",
     "text": [
      " 94%|█████████▍| 47/50 [02:45<00:09,  3.00s/it]"
     ]
    },
    {
     "name": "stdout",
     "output_type": "stream",
     "text": [
      "Completed processing F:\\UCF_Crimes\\UCF_Crimes\\Videos\\Vandalism\\Vandalism047_x264.mp4\n"
     ]
    },
    {
     "name": "stderr",
     "output_type": "stream",
     "text": [
      " 96%|█████████▌| 48/50 [02:52<00:08,  4.25s/it]"
     ]
    },
    {
     "name": "stdout",
     "output_type": "stream",
     "text": [
      "Completed processing F:\\UCF_Crimes\\UCF_Crimes\\Videos\\Vandalism\\Vandalism048_x264.mp4\n"
     ]
    },
    {
     "name": "stderr",
     "output_type": "stream",
     "text": [
      " 98%|█████████▊| 49/50 [03:01<00:05,  5.64s/it]"
     ]
    },
    {
     "name": "stdout",
     "output_type": "stream",
     "text": [
      "Completed processing F:\\UCF_Crimes\\UCF_Crimes\\Videos\\Vandalism\\Vandalism049_x264.mp4\n"
     ]
    },
    {
     "name": "stderr",
     "output_type": "stream",
     "text": [
      "100%|██████████| 50/50 [03:02<00:00,  3.66s/it]\n"
     ]
    },
    {
     "name": "stdout",
     "output_type": "stream",
     "text": [
      "Completed processing F:\\UCF_Crimes\\UCF_Crimes\\Videos\\Vandalism\\Vandalism050_x264.mp4\n"
     ]
    },
    {
     "name": "stderr",
     "output_type": "stream",
     "text": [
      "  2%|▏         | 1/50 [00:00<00:22,  2.15it/s]"
     ]
    },
    {
     "name": "stdout",
     "output_type": "stream",
     "text": [
      "Completed processing F:\\UCF_Crimes\\UCF_Crimes\\Videos\\z_Normal_Videos_event\\Normal_Videos_015_x264.mp4\n"
     ]
    },
    {
     "name": "stderr",
     "output_type": "stream",
     "text": [
      "  4%|▍         | 2/50 [00:05<02:23,  3.00s/it]"
     ]
    },
    {
     "name": "stdout",
     "output_type": "stream",
     "text": [
      "Completed processing F:\\UCF_Crimes\\UCF_Crimes\\Videos\\z_Normal_Videos_event\\Normal_Videos_050_x264.mp4\n"
     ]
    },
    {
     "name": "stderr",
     "output_type": "stream",
     "text": [
      "  6%|▌         | 3/50 [00:05<01:31,  1.94s/it]"
     ]
    },
    {
     "name": "stdout",
     "output_type": "stream",
     "text": [
      "Completed processing F:\\UCF_Crimes\\UCF_Crimes\\Videos\\z_Normal_Videos_event\\Normal_Videos_100_x264.mp4\n"
     ]
    },
    {
     "name": "stderr",
     "output_type": "stream",
     "text": [
      "  8%|▊         | 4/50 [00:06<01:02,  1.36s/it]"
     ]
    },
    {
     "name": "stdout",
     "output_type": "stream",
     "text": [
      "Completed processing F:\\UCF_Crimes\\UCF_Crimes\\Videos\\z_Normal_Videos_event\\Normal_Videos_129_x264.mp4\n"
     ]
    },
    {
     "name": "stderr",
     "output_type": "stream",
     "text": [
      " 10%|█         | 5/50 [00:07<00:52,  1.16s/it]"
     ]
    },
    {
     "name": "stdout",
     "output_type": "stream",
     "text": [
      "Completed processing F:\\UCF_Crimes\\UCF_Crimes\\Videos\\z_Normal_Videos_event\\Normal_Videos_150_x264.mp4\n"
     ]
    },
    {
     "name": "stderr",
     "output_type": "stream",
     "text": [
      " 12%|█▏        | 6/50 [00:25<05:12,  7.11s/it]"
     ]
    },
    {
     "name": "stdout",
     "output_type": "stream",
     "text": [
      "Completed processing F:\\UCF_Crimes\\UCF_Crimes\\Videos\\z_Normal_Videos_event\\Normal_Videos_246_x264.mp4\n"
     ]
    },
    {
     "name": "stderr",
     "output_type": "stream",
     "text": [
      " 14%|█▍        | 7/50 [00:57<10:51, 15.14s/it]"
     ]
    },
    {
     "name": "stdout",
     "output_type": "stream",
     "text": [
      "Completed processing F:\\UCF_Crimes\\UCF_Crimes\\Videos\\z_Normal_Videos_event\\Normal_Videos_247_x264.mp4\n"
     ]
    },
    {
     "name": "stderr",
     "output_type": "stream",
     "text": [
      " 16%|█▌        | 8/50 [00:58<07:30, 10.72s/it]"
     ]
    },
    {
     "name": "stdout",
     "output_type": "stream",
     "text": [
      "Completed processing F:\\UCF_Crimes\\UCF_Crimes\\Videos\\z_Normal_Videos_event\\Normal_Videos_248_x264.mp4\n"
     ]
    },
    {
     "name": "stderr",
     "output_type": "stream",
     "text": [
      " 18%|█▊        | 9/50 [00:59<05:10,  7.56s/it]"
     ]
    },
    {
     "name": "stdout",
     "output_type": "stream",
     "text": [
      "Completed processing F:\\UCF_Crimes\\UCF_Crimes\\Videos\\z_Normal_Videos_event\\Normal_Videos_251_x264.mp4\n"
     ]
    },
    {
     "name": "stderr",
     "output_type": "stream",
     "text": [
      " 20%|██        | 10/50 [01:00<03:40,  5.52s/it]"
     ]
    },
    {
     "name": "stdout",
     "output_type": "stream",
     "text": [
      "Completed processing F:\\UCF_Crimes\\UCF_Crimes\\Videos\\z_Normal_Videos_event\\Normal_Videos_289_x264.mp4\n"
     ]
    },
    {
     "name": "stderr",
     "output_type": "stream",
     "text": [
      " 22%|██▏       | 11/50 [01:09<04:24,  6.78s/it]"
     ]
    },
    {
     "name": "stdout",
     "output_type": "stream",
     "text": [
      "Completed processing F:\\UCF_Crimes\\UCF_Crimes\\Videos\\z_Normal_Videos_event\\Normal_Videos_310_x264.mp4\n"
     ]
    },
    {
     "name": "stderr",
     "output_type": "stream",
     "text": [
      " 24%|██▍       | 12/50 [01:11<03:15,  5.13s/it]"
     ]
    },
    {
     "name": "stdout",
     "output_type": "stream",
     "text": [
      "Completed processing F:\\UCF_Crimes\\UCF_Crimes\\Videos\\z_Normal_Videos_event\\Normal_Videos_312_x264.mp4\n"
     ]
    },
    {
     "name": "stderr",
     "output_type": "stream",
     "text": [
      " 26%|██▌       | 13/50 [01:12<02:24,  3.90s/it]"
     ]
    },
    {
     "name": "stdout",
     "output_type": "stream",
     "text": [
      "Completed processing F:\\UCF_Crimes\\UCF_Crimes\\Videos\\z_Normal_Videos_event\\Normal_Videos_317_x264.mp4\n"
     ]
    },
    {
     "name": "stderr",
     "output_type": "stream",
     "text": [
      " 28%|██▊       | 14/50 [01:12<01:41,  2.82s/it]"
     ]
    },
    {
     "name": "stdout",
     "output_type": "stream",
     "text": [
      "Completed processing F:\\UCF_Crimes\\UCF_Crimes\\Videos\\z_Normal_Videos_event\\Normal_Videos_345_x264.mp4\n"
     ]
    },
    {
     "name": "stderr",
     "output_type": "stream",
     "text": [
      " 30%|███       | 15/50 [01:29<04:09,  7.13s/it]"
     ]
    },
    {
     "name": "stdout",
     "output_type": "stream",
     "text": [
      "Completed processing F:\\UCF_Crimes\\UCF_Crimes\\Videos\\z_Normal_Videos_event\\Normal_Videos_352_x264.mp4\n"
     ]
    },
    {
     "name": "stderr",
     "output_type": "stream",
     "text": [
      " 32%|███▏      | 16/50 [01:30<03:00,  5.32s/it]"
     ]
    },
    {
     "name": "stdout",
     "output_type": "stream",
     "text": [
      "Completed processing F:\\UCF_Crimes\\UCF_Crimes\\Videos\\z_Normal_Videos_event\\Normal_Videos_360_x264.mp4\n"
     ]
    },
    {
     "name": "stderr",
     "output_type": "stream",
     "text": [
      " 34%|███▍      | 17/50 [01:48<04:59,  9.06s/it]"
     ]
    },
    {
     "name": "stdout",
     "output_type": "stream",
     "text": [
      "Completed processing F:\\UCF_Crimes\\UCF_Crimes\\Videos\\z_Normal_Videos_event\\Normal_Videos_365_x264.mp4\n"
     ]
    },
    {
     "name": "stderr",
     "output_type": "stream",
     "text": [
      " 36%|███▌      | 18/50 [01:50<03:38,  6.81s/it]"
     ]
    },
    {
     "name": "stdout",
     "output_type": "stream",
     "text": [
      "Completed processing F:\\UCF_Crimes\\UCF_Crimes\\Videos\\z_Normal_Videos_event\\Normal_Videos_401_x264.mp4\n"
     ]
    },
    {
     "name": "stderr",
     "output_type": "stream",
     "text": [
      " 38%|███▊      | 19/50 [01:51<02:39,  5.16s/it]"
     ]
    },
    {
     "name": "stdout",
     "output_type": "stream",
     "text": [
      "Completed processing F:\\UCF_Crimes\\UCF_Crimes\\Videos\\z_Normal_Videos_event\\Normal_Videos_417_x264.mp4\n"
     ]
    },
    {
     "name": "stderr",
     "output_type": "stream",
     "text": [
      " 40%|████      | 20/50 [01:56<02:33,  5.10s/it]"
     ]
    },
    {
     "name": "stdout",
     "output_type": "stream",
     "text": [
      "Completed processing F:\\UCF_Crimes\\UCF_Crimes\\Videos\\z_Normal_Videos_event\\Normal_Videos_439_x264.mp4\n"
     ]
    },
    {
     "name": "stderr",
     "output_type": "stream",
     "text": [
      " 42%|████▏     | 21/50 [01:57<01:48,  3.75s/it]"
     ]
    },
    {
     "name": "stdout",
     "output_type": "stream",
     "text": [
      "Completed processing F:\\UCF_Crimes\\UCF_Crimes\\Videos\\z_Normal_Videos_event\\Normal_Videos_452_x264.mp4\n"
     ]
    },
    {
     "name": "stderr",
     "output_type": "stream",
     "text": [
      " 44%|████▍     | 22/50 [02:17<04:02,  8.64s/it]"
     ]
    },
    {
     "name": "stdout",
     "output_type": "stream",
     "text": [
      "Completed processing F:\\UCF_Crimes\\UCF_Crimes\\Videos\\z_Normal_Videos_event\\Normal_Videos_453_x264.mp4\n"
     ]
    },
    {
     "name": "stderr",
     "output_type": "stream",
     "text": [
      " 46%|████▌     | 23/50 [02:22<03:23,  7.53s/it]"
     ]
    },
    {
     "name": "stdout",
     "output_type": "stream",
     "text": [
      "Completed processing F:\\UCF_Crimes\\UCF_Crimes\\Videos\\z_Normal_Videos_event\\Normal_Videos_478_x264.mp4\n"
     ]
    },
    {
     "name": "stderr",
     "output_type": "stream",
     "text": [
      " 48%|████▊     | 24/50 [02:35<04:01,  9.29s/it]"
     ]
    },
    {
     "name": "stdout",
     "output_type": "stream",
     "text": [
      "Completed processing F:\\UCF_Crimes\\UCF_Crimes\\Videos\\z_Normal_Videos_event\\Normal_Videos_576_x264.mp4\n"
     ]
    },
    {
     "name": "stderr",
     "output_type": "stream",
     "text": [
      " 50%|█████     | 25/50 [02:42<03:36,  8.66s/it]"
     ]
    },
    {
     "name": "stdout",
     "output_type": "stream",
     "text": [
      "Completed processing F:\\UCF_Crimes\\UCF_Crimes\\Videos\\z_Normal_Videos_event\\Normal_Videos_597_x264.mp4\n"
     ]
    },
    {
     "name": "stderr",
     "output_type": "stream",
     "text": [
      " 52%|█████▏    | 26/50 [02:57<04:10, 10.44s/it]"
     ]
    },
    {
     "name": "stdout",
     "output_type": "stream",
     "text": [
      "Completed processing F:\\UCF_Crimes\\UCF_Crimes\\Videos\\z_Normal_Videos_event\\Normal_Videos_603_x264.mp4\n"
     ]
    },
    {
     "name": "stderr",
     "output_type": "stream",
     "text": [
      " 54%|█████▍    | 27/50 [02:58<02:58,  7.76s/it]"
     ]
    },
    {
     "name": "stdout",
     "output_type": "stream",
     "text": [
      "Completed processing F:\\UCF_Crimes\\UCF_Crimes\\Videos\\z_Normal_Videos_event\\Normal_Videos_606_x264.mp4\n"
     ]
    },
    {
     "name": "stderr",
     "output_type": "stream",
     "text": [
      " 56%|█████▌    | 28/50 [03:15<03:46, 10.28s/it]"
     ]
    },
    {
     "name": "stdout",
     "output_type": "stream",
     "text": [
      "Completed processing F:\\UCF_Crimes\\UCF_Crimes\\Videos\\z_Normal_Videos_event\\Normal_Videos_621_x264.mp4\n"
     ]
    },
    {
     "name": "stderr",
     "output_type": "stream",
     "text": [
      " 58%|█████▊    | 29/50 [04:16<08:59, 25.71s/it]"
     ]
    },
    {
     "name": "stdout",
     "output_type": "stream",
     "text": [
      "Completed processing F:\\UCF_Crimes\\UCF_Crimes\\Videos\\z_Normal_Videos_event\\Normal_Videos_634_x264.mp4\n"
     ]
    },
    {
     "name": "stderr",
     "output_type": "stream",
     "text": [
      " 60%|██████    | 30/50 [04:21<06:25, 19.30s/it]"
     ]
    },
    {
     "name": "stdout",
     "output_type": "stream",
     "text": [
      "Completed processing F:\\UCF_Crimes\\UCF_Crimes\\Videos\\z_Normal_Videos_event\\Normal_Videos_641_x264.mp4\n"
     ]
    },
    {
     "name": "stderr",
     "output_type": "stream",
     "text": [
      " 62%|██████▏   | 31/50 [04:23<04:30, 14.26s/it]"
     ]
    },
    {
     "name": "stdout",
     "output_type": "stream",
     "text": [
      "Completed processing F:\\UCF_Crimes\\UCF_Crimes\\Videos\\z_Normal_Videos_event\\Normal_Videos_656_x264.mp4\n"
     ]
    },
    {
     "name": "stderr",
     "output_type": "stream",
     "text": [
      " 64%|██████▍   | 32/50 [04:29<03:30, 11.72s/it]"
     ]
    },
    {
     "name": "stdout",
     "output_type": "stream",
     "text": [
      "Completed processing F:\\UCF_Crimes\\UCF_Crimes\\Videos\\z_Normal_Videos_event\\Normal_Videos_696_x264.mp4\n"
     ]
    },
    {
     "name": "stderr",
     "output_type": "stream",
     "text": [
      " 66%|██████▌   | 33/50 [04:31<02:30,  8.84s/it]"
     ]
    },
    {
     "name": "stdout",
     "output_type": "stream",
     "text": [
      "Completed processing F:\\UCF_Crimes\\UCF_Crimes\\Videos\\z_Normal_Videos_event\\Normal_Videos_704_x264.mp4\n"
     ]
    },
    {
     "name": "stderr",
     "output_type": "stream",
     "text": [
      " 68%|██████▊   | 34/50 [05:06<04:26, 16.64s/it]"
     ]
    },
    {
     "name": "stdout",
     "output_type": "stream",
     "text": [
      "Completed processing F:\\UCF_Crimes\\UCF_Crimes\\Videos\\z_Normal_Videos_event\\Normal_Videos_722_x264.mp4\n"
     ]
    },
    {
     "name": "stderr",
     "output_type": "stream",
     "text": [
      " 70%|███████   | 35/50 [05:06<02:56, 11.79s/it]"
     ]
    },
    {
     "name": "stdout",
     "output_type": "stream",
     "text": [
      "Completed processing F:\\UCF_Crimes\\UCF_Crimes\\Videos\\z_Normal_Videos_event\\Normal_Videos_745_x264.mp4\n"
     ]
    },
    {
     "name": "stderr",
     "output_type": "stream",
     "text": [
      " 72%|███████▏  | 36/50 [05:09<02:07,  9.08s/it]"
     ]
    },
    {
     "name": "stdout",
     "output_type": "stream",
     "text": [
      "Completed processing F:\\UCF_Crimes\\UCF_Crimes\\Videos\\z_Normal_Videos_event\\Normal_Videos_758_x264.mp4\n"
     ]
    },
    {
     "name": "stderr",
     "output_type": "stream",
     "text": [
      " 74%|███████▍  | 37/50 [05:15<01:45,  8.10s/it]"
     ]
    },
    {
     "name": "stdout",
     "output_type": "stream",
     "text": [
      "Completed processing F:\\UCF_Crimes\\UCF_Crimes\\Videos\\z_Normal_Videos_event\\Normal_Videos_781_x264.mp4\n"
     ]
    },
    {
     "name": "stderr",
     "output_type": "stream",
     "text": [
      " 76%|███████▌  | 38/50 [05:22<01:33,  7.83s/it]"
     ]
    },
    {
     "name": "stdout",
     "output_type": "stream",
     "text": [
      "Completed processing F:\\UCF_Crimes\\UCF_Crimes\\Videos\\z_Normal_Videos_event\\Normal_Videos_798_x264.mp4\n"
     ]
    },
    {
     "name": "stderr",
     "output_type": "stream",
     "text": [
      " 78%|███████▊  | 39/50 [05:35<01:41,  9.22s/it]"
     ]
    },
    {
     "name": "stdout",
     "output_type": "stream",
     "text": [
      "Completed processing F:\\UCF_Crimes\\UCF_Crimes\\Videos\\z_Normal_Videos_event\\Normal_Videos_801_x264.mp4\n"
     ]
    },
    {
     "name": "stderr",
     "output_type": "stream",
     "text": [
      " 80%|████████  | 40/50 [05:36<01:07,  6.77s/it]"
     ]
    },
    {
     "name": "stdout",
     "output_type": "stream",
     "text": [
      "Completed processing F:\\UCF_Crimes\\UCF_Crimes\\Videos\\z_Normal_Videos_event\\Normal_Videos_828_x264.mp4\n"
     ]
    },
    {
     "name": "stderr",
     "output_type": "stream",
     "text": [
      " 82%|████████▏ | 41/50 [05:36<00:44,  4.90s/it]"
     ]
    },
    {
     "name": "stdout",
     "output_type": "stream",
     "text": [
      "Completed processing F:\\UCF_Crimes\\UCF_Crimes\\Videos\\z_Normal_Videos_event\\Normal_Videos_831_x264.mp4\n"
     ]
    },
    {
     "name": "stderr",
     "output_type": "stream",
     "text": [
      " 84%|████████▍ | 42/50 [05:45<00:48,  6.04s/it]"
     ]
    },
    {
     "name": "stdout",
     "output_type": "stream",
     "text": [
      "Completed processing F:\\UCF_Crimes\\UCF_Crimes\\Videos\\z_Normal_Videos_event\\Normal_Videos_877_x264.mp4\n"
     ]
    },
    {
     "name": "stderr",
     "output_type": "stream",
     "text": [
      " 86%|████████▌ | 43/50 [05:45<00:30,  4.30s/it]"
     ]
    },
    {
     "name": "stdout",
     "output_type": "stream",
     "text": [
      "Completed processing F:\\UCF_Crimes\\UCF_Crimes\\Videos\\z_Normal_Videos_event\\Normal_Videos_881_x264.mp4\n"
     ]
    },
    {
     "name": "stderr",
     "output_type": "stream",
     "text": [
      " 88%|████████▊ | 44/50 [05:46<00:19,  3.23s/it]"
     ]
    },
    {
     "name": "stdout",
     "output_type": "stream",
     "text": [
      "Completed processing F:\\UCF_Crimes\\UCF_Crimes\\Videos\\z_Normal_Videos_event\\Normal_Videos_885_x264.mp4\n"
     ]
    },
    {
     "name": "stderr",
     "output_type": "stream",
     "text": [
      " 90%|█████████ | 45/50 [05:48<00:14,  2.92s/it]"
     ]
    },
    {
     "name": "stdout",
     "output_type": "stream",
     "text": [
      "Completed processing F:\\UCF_Crimes\\UCF_Crimes\\Videos\\z_Normal_Videos_event\\Normal_Videos_892_x264.mp4\n"
     ]
    },
    {
     "name": "stderr",
     "output_type": "stream",
     "text": [
      " 92%|█████████▏| 46/50 [05:49<00:09,  2.46s/it]"
     ]
    },
    {
     "name": "stdout",
     "output_type": "stream",
     "text": [
      "Completed processing F:\\UCF_Crimes\\UCF_Crimes\\Videos\\z_Normal_Videos_event\\Normal_Videos_905_x264.mp4\n"
     ]
    },
    {
     "name": "stderr",
     "output_type": "stream",
     "text": [
      " 94%|█████████▍| 47/50 [05:50<00:05,  1.97s/it]"
     ]
    },
    {
     "name": "stdout",
     "output_type": "stream",
     "text": [
      "Completed processing F:\\UCF_Crimes\\UCF_Crimes\\Videos\\z_Normal_Videos_event\\Normal_Videos_912_x264.mp4\n"
     ]
    },
    {
     "name": "stderr",
     "output_type": "stream",
     "text": [
      " 96%|█████████▌| 48/50 [05:51<00:03,  1.70s/it]"
     ]
    },
    {
     "name": "stdout",
     "output_type": "stream",
     "text": [
      "Completed processing F:\\UCF_Crimes\\UCF_Crimes\\Videos\\z_Normal_Videos_event\\Normal_Videos_913_x264.mp4\n"
     ]
    },
    {
     "name": "stderr",
     "output_type": "stream",
     "text": [
      " 98%|█████████▊| 49/50 [05:52<00:01,  1.47s/it]"
     ]
    },
    {
     "name": "stdout",
     "output_type": "stream",
     "text": [
      "Completed processing F:\\UCF_Crimes\\UCF_Crimes\\Videos\\z_Normal_Videos_event\\Normal_Videos_914_x264.mp4\n"
     ]
    },
    {
     "name": "stderr",
     "output_type": "stream",
     "text": [
      "100%|██████████| 50/50 [05:53<00:00,  7.07s/it]"
     ]
    },
    {
     "name": "stdout",
     "output_type": "stream",
     "text": [
      "Completed processing F:\\UCF_Crimes\\UCF_Crimes\\Videos\\z_Normal_Videos_event\\Normal_Videos_929_x264.mp4\n"
     ]
    },
    {
     "name": "stderr",
     "output_type": "stream",
     "text": [
      "\n"
     ]
    }
   ],
   "source": [
    "import os\n",
    "import cv2\n",
    "import numpy as np\n",
    "from tqdm import tqdm\n",
    "\n",
    "def extract_and_preprocess_frames(video_path, output_dir, frame_rate=1, target_size=(128, 128)):\n",
    "    \"\"\"\n",
    "    비디오 파일에서 프레임을 추출하여 카테고리별로 저장하는 함수\n",
    "    \"\"\"\n",
    "    # 비디오 파일의 카테고리 추출 (Abuse, Arrest 등)\n",
    "    category = os.path.basename(os.path.dirname(video_path))\n",
    "    video_name = os.path.splitext(os.path.basename(video_path))[0]\n",
    "\n",
    "    # 카테고리별 디렉토리 생성\n",
    "    video_output_dir = os.path.join(output_dir, category, video_name)\n",
    "    os.makedirs(video_output_dir, exist_ok=True)\n",
    "\n",
    "    cap = cv2.VideoCapture(video_path)\n",
    "    if not cap.isOpened():\n",
    "        print(f\"Error: Unable to open video file {video_path}\")\n",
    "        return\n",
    "\n",
    "    frame_count = 0\n",
    "    success, frame = cap.read()\n",
    "    while success:\n",
    "        if frame_count % frame_rate == 0:\n",
    "            try:\n",
    "                resized_frame = cv2.resize(frame, target_size)\n",
    "                frame_filename = os.path.join(video_output_dir, f'frame_{frame_count}.jpg')\n",
    "                cv2.imwrite(frame_filename, resized_frame)\n",
    "            except Exception as e:\n",
    "                print(f\"Error processing frame {frame_count}: {e}\")\n",
    "\n",
    "        success, frame = cap.read()\n",
    "        frame_count += 1\n",
    "\n",
    "    cap.release()\n",
    "    print(f\"Completed processing {video_path}\")\n",
    "\n",
    "# 비디오 파일 경로 및 출력 디렉토리 설정\n",
    "video_dir = 'F:\\\\UCF_Crimes\\\\UCF_Crimes\\\\Videos'\n",
    "output_dir = 'F:\\\\UCF_Crimes\\\\UCF_Crimes\\\\processed_frames'\n",
    "\n",
    "# 비디오 파일 처리\n",
    "for root, dirs, files in os.walk(video_dir):\n",
    "    for video_file in tqdm(files):\n",
    "        if video_file.endswith(('.mp4', '.avi')):\n",
    "            video_path = os.path.join(root, video_file)\n",
    "            extract_and_preprocess_frames(video_path, output_dir, frame_rate=30, target_size=(128, 128))\n"
   ]
  },
  {
   "cell_type": "code",
   "execution_count": 33,
   "metadata": {},
   "outputs": [],
   "source": [
    "from keras.models import Sequential\n",
    "from keras.layers import Conv3D, MaxPooling3D, TimeDistributed, LSTM, Dense, Dropout, Flatten\n",
    "\n",
    "def create_lstm_cnn3d_model(input_shape, num_classes):\n",
    "    model = Sequential()\n",
    "\n",
    "    # 3D CNN layer for extracting spatio-temporal features\n",
    "    model.add(Conv3D(32, kernel_size=(3, 3, 3), activation='relu', input_shape=input_shape))\n",
    "    model.add(MaxPooling3D(pool_size=(2, 2, 2)))\n",
    "    model.add(Conv3D(64, kernel_size=(3, 3, 3), activation='relu'))\n",
    "    model.add(MaxPooling3D(pool_size=(2, 2, 2)))\n",
    "    model.add(Conv3D(128, kernel_size=(3, 3, 3), activation='relu'))\n",
    "    model.add(MaxPooling3D(pool_size=(2, 2, 2)))\n",
    "\n",
    "    # Flattening the 3D features\n",
    "    model.add(TimeDistributed(Flatten()))\n",
    "\n",
    "    # LSTM layer for sequential learning\n",
    "    model.add(LSTM(64, return_sequences=False, activation='relu'))\n",
    "\n",
    "    # Fully connected layer\n",
    "    model.add(Dropout(0.5))\n",
    "    model.add(Dense(64, activation='relu'))\n",
    "    model.add(Dense(num_classes, activation='softmax'))  # Softmax for multi-class classification\n",
    "\n",
    "    model.compile(optimizer='adam', loss='categorical_crossentropy', metrics=['accuracy'])\n",
    "    return model\n"
   ]
  },
  {
   "cell_type": "code",
   "execution_count": 34,
   "metadata": {},
   "outputs": [
    {
     "ename": "FileNotFoundError",
     "evalue": "[WinError 3] 지정된 경로를 찾을 수 없습니다: 'F:\\\\UCF_Crimes\\\\UCF_Crimes\\\\processed_frames\\\\Abuse/Abuse001_x264.mp4'",
     "output_type": "error",
     "traceback": [
      "\u001b[1;31m---------------------------------------------------------------------------\u001b[0m",
      "\u001b[1;31mFileNotFoundError\u001b[0m                         Traceback (most recent call last)",
      "Cell \u001b[1;32mIn[34], line 54\u001b[0m\n\u001b[0;32m     51\u001b[0m test_split \u001b[38;5;241m=\u001b[39m \u001b[38;5;124m'\u001b[39m\u001b[38;5;124mF:\u001b[39m\u001b[38;5;130;01m\\\\\u001b[39;00m\u001b[38;5;124mUCF_Crimes\u001b[39m\u001b[38;5;130;01m\\\\\u001b[39;00m\u001b[38;5;124mUCF_Crimes\u001b[39m\u001b[38;5;130;01m\\\\\u001b[39;00m\u001b[38;5;124mAnomaly_Detection_splits\u001b[39m\u001b[38;5;130;01m\\\\\u001b[39;00m\u001b[38;5;124mAnomaly_Test.txt\u001b[39m\u001b[38;5;124m'\u001b[39m\n\u001b[0;32m     52\u001b[0m video_root \u001b[38;5;241m=\u001b[39m \u001b[38;5;124m'\u001b[39m\u001b[38;5;124mF:\u001b[39m\u001b[38;5;130;01m\\\\\u001b[39;00m\u001b[38;5;124mUCF_Crimes\u001b[39m\u001b[38;5;130;01m\\\\\u001b[39;00m\u001b[38;5;124mUCF_Crimes\u001b[39m\u001b[38;5;130;01m\\\\\u001b[39;00m\u001b[38;5;124mprocessed_frames\u001b[39m\u001b[38;5;124m'\u001b[39m\n\u001b[1;32m---> 54\u001b[0m X_train, y_train \u001b[38;5;241m=\u001b[39m \u001b[43mload_split_data\u001b[49m\u001b[43m(\u001b[49m\u001b[43mtrain_split\u001b[49m\u001b[43m,\u001b[49m\u001b[43m \u001b[49m\u001b[43mvideo_root\u001b[49m\u001b[43m)\u001b[49m\n\u001b[0;32m     55\u001b[0m X_test, y_test \u001b[38;5;241m=\u001b[39m load_split_data(test_split, video_root)\n",
      "Cell \u001b[1;32mIn[34], line 39\u001b[0m, in \u001b[0;36mload_split_data\u001b[1;34m(split_file, video_root, seq_length, img_size)\u001b[0m\n\u001b[0;32m     37\u001b[0m \u001b[38;5;66;03m# 프레임 로드\u001b[39;00m\n\u001b[0;32m     38\u001b[0m frames_path \u001b[38;5;241m=\u001b[39m os\u001b[38;5;241m.\u001b[39mpath\u001b[38;5;241m.\u001b[39mjoin(video_root, video_path)\n\u001b[1;32m---> 39\u001b[0m frames \u001b[38;5;241m=\u001b[39m \u001b[38;5;28msorted\u001b[39m(\u001b[43mos\u001b[49m\u001b[38;5;241;43m.\u001b[39;49m\u001b[43mlistdir\u001b[49m\u001b[43m(\u001b[49m\u001b[43mframes_path\u001b[49m\u001b[43m)\u001b[49m)\n\u001b[0;32m     40\u001b[0m frames \u001b[38;5;241m=\u001b[39m [cv2\u001b[38;5;241m.\u001b[39mresize(cv2\u001b[38;5;241m.\u001b[39mimread(os\u001b[38;5;241m.\u001b[39mpath\u001b[38;5;241m.\u001b[39mjoin(frames_path, img)), img_size) \u001b[38;5;241m/\u001b[39m \u001b[38;5;241m255.0\u001b[39m \u001b[38;5;28;01mfor\u001b[39;00m img \u001b[38;5;129;01min\u001b[39;00m frames]\n\u001b[0;32m     42\u001b[0m \u001b[38;5;66;03m# 시퀀스 추출\u001b[39;00m\n",
      "\u001b[1;31mFileNotFoundError\u001b[0m: [WinError 3] 지정된 경로를 찾을 수 없습니다: 'F:\\\\UCF_Crimes\\\\UCF_Crimes\\\\processed_frames\\\\Abuse/Abuse001_x264.mp4'"
     ]
    }
   ],
   "source": [
    "# 카테고리 라벨을 숫자로 변환하는 함수\n",
    "def get_label_from_category(category):\n",
    "    class_map = {\n",
    "        'Abuse': 0,\n",
    "        'Arrest': 1,\n",
    "        'Arson': 2,\n",
    "        'Assault': 3,\n",
    "        'Burglary': 4,\n",
    "        'Explosion': 5,\n",
    "        'Fighting': 6,\n",
    "        'RoadAccidents': 7,\n",
    "        'Robbery': 8,\n",
    "        'Shooting': 9,\n",
    "        'Shoplifting': 10,\n",
    "        'Stealing': 11,\n",
    "        'Vandalism': 12,\n",
    "        'Normal': 13\n",
    "    }\n",
    "    return class_map.get(category, 13)\n",
    "\n",
    "# 데이터 로드 함수\n",
    "import cv2\n",
    "import os\n",
    "import numpy as np\n",
    "\n",
    "def load_split_data(split_file, video_root, seq_length=20, img_size=(128, 128)):\n",
    "    X = []\n",
    "    y = []\n",
    "\n",
    "    with open(split_file, 'r') as f:\n",
    "        lines = f.readlines()\n",
    "        for line in lines:\n",
    "            video_path = line.strip()\n",
    "            category = video_path.split('/')[0]\n",
    "            label = get_label_from_category(category)\n",
    "\n",
    "            # 프레임 로드\n",
    "            frames_path = os.path.join(video_root, video_path)\n",
    "            frames = sorted(os.listdir(frames_path))\n",
    "            frames = [cv2.resize(cv2.imread(os.path.join(frames_path, img)), img_size) / 255.0 for img in frames]\n",
    "\n",
    "            # 시퀀스 추출\n",
    "            for i in range(0, len(frames) - seq_length + 1, seq_length):\n",
    "                X.append(frames[i:i + seq_length])\n",
    "                y.append(label)\n",
    "\n",
    "    return np.array(X), np.array(y)\n",
    "\n",
    "# 학습 및 테스트 데이터 로드\n",
    "train_split = 'F:\\\\UCF_Crimes\\\\UCF_Crimes\\\\Anomaly_Detection_splits\\\\Anomaly_Train.txt'\n",
    "test_split = 'F:\\\\UCF_Crimes\\\\UCF_Crimes\\\\Anomaly_Detection_splits\\\\Anomaly_Test.txt'\n",
    "video_root = 'F:\\\\UCF_Crimes\\\\UCF_Crimes\\\\processed_frames'\n",
    "\n",
    "X_train, y_train = load_split_data(train_split, video_root)\n",
    "X_test, y_test = load_split_data(test_split, video_root)\n"
   ]
  },
  {
   "cell_type": "code",
   "execution_count": null,
   "metadata": {},
   "outputs": [],
   "source": [
    "from keras.utils import to_categorical\n",
    "\n",
    "# 라벨을 원핫 인코딩으로 변환\n",
    "num_classes = 14\n",
    "y_train = to_categorical(y_train, num_classes=num_classes)\n",
    "y_test = to_categorical(y_test, num_classes=num_classes)\n",
    "\n",
    "# 모델 생성\n",
    "input_shape = (20, 128, 128, 3)  # (시퀀스 길이, 이미지 크기, 채널 수)\n",
    "model = create_lstm_cnn3d_model(input_shape, num_classes)\n",
    "\n",
    "# 모델 학습\n",
    "model.fit(X_train, y_train, epochs=10, batch_size=8, validation_split=0.2)\n"
   ]
  },
  {
   "cell_type": "code",
   "execution_count": null,
   "metadata": {},
   "outputs": [],
   "source": [
    "from sklearn.metrics import confusion_matrix\n",
    "import seaborn as sns\n",
    "import matplotlib.pyplot as plt\n",
    "\n",
    "# 모델 평가\n",
    "loss, acc = model.evaluate(X_test, y_test)\n",
    "print(f\"Test Accuracy: {acc}, Loss: {loss}\")\n",
    "\n",
    "# 예측 수행\n",
    "y_pred = np.argmax(model.predict(X_test), axis=1)\n",
    "y_true = np.argmax(y_test, axis=1)\n",
    "\n",
    "# 혼돈 행렬 생성 및 시각화\n",
    "cm = confusion_matrix(y_true, y_pred)\n",
    "plt.figure(figsize=(10, 8))\n",
    "sns.heatmap(cm, annot=True, fmt='d', cmap='Blues', xticklabels=list(get_label_from_category.keys()), yticklabels=list(get_label_from_category.keys()))\n",
    "plt.title('Confusion Matrix for LSTM + 3D CNN Model')\n",
    "plt.xlabel('Predicted Label')\n",
    "plt.ylabel('True Label')\n",
    "plt.show()\n"
   ]
  },
  {
   "cell_type": "code",
   "execution_count": null,
   "metadata": {},
   "outputs": [],
   "source": [
    "# 모델 저장\n",
    "model.save('lstm_cnn3d_model_0.h5')"
   ]
  },
  {
   "cell_type": "code",
   "execution_count": null,
   "metadata": {},
   "outputs": [],
   "source": [
    "# 전이학습(Transfer Learning)\n",
    "new_split = 'F:\\\\UCF_Crimes\\\\UCF_Crimes\\\\new_split.txt'\n",
    "new_X, new_y = load_split_data(new_split, video_root)\n",
    "\n",
    "# 전이학습 수행\n",
    "new_y = to_categorical(new_y, num_classes=num_classes)\n",
    "model.fit(new_X, new_y, epochs=5, batch_size=8)\n",
    "\n"
   ]
  },
  {
   "cell_type": "markdown",
   "metadata": {},
   "source": [
    "동적 맵핑"
   ]
  },
  {
   "cell_type": "code",
   "execution_count": 41,
   "metadata": {},
   "outputs": [],
   "source": [
    "# 카테고리 라벨을 숫자로 변환하는 함수\n",
    "def get_label_from_category(category, class_map):\n",
    "    return class_map.get(category, len(class_map))  # 매핑되지 않은 경우 마지막 인덱스 사용\n"
   ]
  },
  {
   "cell_type": "code",
   "execution_count": 42,
   "metadata": {},
   "outputs": [],
   "source": [
    "import cv2\n",
    "import os\n",
    "import numpy as np\n",
    "def load_split_data(split_file, video_root, class_map, seq_length=20, img_size=(128, 128)):\n",
    "    X = []\n",
    "    y = []\n",
    "\n",
    "    with open(split_file, 'r') as f:\n",
    "        lines = f.readlines()\n",
    "        for line in lines:\n",
    "            video_path = line.strip().replace('.mp4', '')  # .mp4 확장자 제거\n",
    "            category = video_path.split('/')[0]\n",
    "            label = get_label_from_category(category, class_map)\n",
    "\n",
    "            # 프레임 로드\n",
    "            frames_path = os.path.join(video_root, video_path)\n",
    "            frames = sorted(os.listdir(frames_path))\n",
    "            frames = [cv2.resize(cv2.imread(os.path.join(frames_path, img)), img_size) / 255.0 for img in frames]\n",
    "\n",
    "            # 시퀀스 추출\n",
    "            for i in range(0, len(frames) - seq_length + 1, seq_length):\n",
    "                X.append(frames[i:i + seq_length])\n",
    "                y.append(label)\n",
    "\n",
    "    return np.array(X), np.array(y)"
   ]
  },
  {
   "cell_type": "code",
   "execution_count": 44,
   "metadata": {},
   "outputs": [],
   "source": [
    "# ClassIDs.txt 파일을 읽어서 class_map 생성\n",
    "def load_class_ids(class_id_file):\n",
    "    class_map = {}\n",
    "    with open(class_id_file, 'r') as f:\n",
    "        lines = f.readlines()\n",
    "        for line in lines:\n",
    "            class_name, class_id = line.strip().split()\n",
    "            class_map[class_name] = int(class_id)\n",
    "    return class_map"
   ]
  },
  {
   "cell_type": "code",
   "execution_count": 45,
   "metadata": {},
   "outputs": [
    {
     "ename": "MemoryError",
     "evalue": "Unable to allocate 384. KiB for an array with shape (128, 128, 3) and data type float64",
     "output_type": "error",
     "traceback": [
      "\u001b[1;31m---------------------------------------------------------------------------\u001b[0m",
      "\u001b[1;31mMemoryError\u001b[0m                               Traceback (most recent call last)",
      "Cell \u001b[1;32mIn[45], line 8\u001b[0m\n\u001b[0;32m      5\u001b[0m class_map \u001b[38;5;241m=\u001b[39m load_class_ids(class_id_file)\n\u001b[0;32m      7\u001b[0m \u001b[38;5;66;03m# 학습 및 테스트 데이터 로드\u001b[39;00m\n\u001b[1;32m----> 8\u001b[0m X_train, y_train \u001b[38;5;241m=\u001b[39m \u001b[43mload_split_data\u001b[49m\u001b[43m(\u001b[49m\u001b[43mtrain_split\u001b[49m\u001b[43m,\u001b[49m\u001b[43m \u001b[49m\u001b[43mvideo_root\u001b[49m\u001b[43m,\u001b[49m\u001b[43m \u001b[49m\u001b[43mclass_map\u001b[49m\u001b[43m)\u001b[49m\n\u001b[0;32m      9\u001b[0m X_test, y_test \u001b[38;5;241m=\u001b[39m load_split_data(test_split, video_root, class_map)\n",
      "Cell \u001b[1;32mIn[42], line 18\u001b[0m, in \u001b[0;36mload_split_data\u001b[1;34m(split_file, video_root, class_map, seq_length, img_size)\u001b[0m\n\u001b[0;32m     16\u001b[0m frames_path \u001b[38;5;241m=\u001b[39m os\u001b[38;5;241m.\u001b[39mpath\u001b[38;5;241m.\u001b[39mjoin(video_root, video_path)\n\u001b[0;32m     17\u001b[0m frames \u001b[38;5;241m=\u001b[39m \u001b[38;5;28msorted\u001b[39m(os\u001b[38;5;241m.\u001b[39mlistdir(frames_path))\n\u001b[1;32m---> 18\u001b[0m frames \u001b[38;5;241m=\u001b[39m \u001b[43m[\u001b[49m\u001b[43mcv2\u001b[49m\u001b[38;5;241;43m.\u001b[39;49m\u001b[43mresize\u001b[49m\u001b[43m(\u001b[49m\u001b[43mcv2\u001b[49m\u001b[38;5;241;43m.\u001b[39;49m\u001b[43mimread\u001b[49m\u001b[43m(\u001b[49m\u001b[43mos\u001b[49m\u001b[38;5;241;43m.\u001b[39;49m\u001b[43mpath\u001b[49m\u001b[38;5;241;43m.\u001b[39;49m\u001b[43mjoin\u001b[49m\u001b[43m(\u001b[49m\u001b[43mframes_path\u001b[49m\u001b[43m,\u001b[49m\u001b[43m \u001b[49m\u001b[43mimg\u001b[49m\u001b[43m)\u001b[49m\u001b[43m)\u001b[49m\u001b[43m,\u001b[49m\u001b[43m \u001b[49m\u001b[43mimg_size\u001b[49m\u001b[43m)\u001b[49m\u001b[43m \u001b[49m\u001b[38;5;241;43m/\u001b[39;49m\u001b[43m \u001b[49m\u001b[38;5;241;43m255.0\u001b[39;49m\u001b[43m \u001b[49m\u001b[38;5;28;43;01mfor\u001b[39;49;00m\u001b[43m \u001b[49m\u001b[43mimg\u001b[49m\u001b[43m \u001b[49m\u001b[38;5;129;43;01min\u001b[39;49;00m\u001b[43m \u001b[49m\u001b[43mframes\u001b[49m\u001b[43m]\u001b[49m\n\u001b[0;32m     20\u001b[0m \u001b[38;5;66;03m# 시퀀스 추출\u001b[39;00m\n\u001b[0;32m     21\u001b[0m \u001b[38;5;28;01mfor\u001b[39;00m i \u001b[38;5;129;01min\u001b[39;00m \u001b[38;5;28mrange\u001b[39m(\u001b[38;5;241m0\u001b[39m, \u001b[38;5;28mlen\u001b[39m(frames) \u001b[38;5;241m-\u001b[39m seq_length \u001b[38;5;241m+\u001b[39m \u001b[38;5;241m1\u001b[39m, seq_length):\n",
      "Cell \u001b[1;32mIn[42], line 18\u001b[0m, in \u001b[0;36m<listcomp>\u001b[1;34m(.0)\u001b[0m\n\u001b[0;32m     16\u001b[0m frames_path \u001b[38;5;241m=\u001b[39m os\u001b[38;5;241m.\u001b[39mpath\u001b[38;5;241m.\u001b[39mjoin(video_root, video_path)\n\u001b[0;32m     17\u001b[0m frames \u001b[38;5;241m=\u001b[39m \u001b[38;5;28msorted\u001b[39m(os\u001b[38;5;241m.\u001b[39mlistdir(frames_path))\n\u001b[1;32m---> 18\u001b[0m frames \u001b[38;5;241m=\u001b[39m [\u001b[43mcv2\u001b[49m\u001b[38;5;241;43m.\u001b[39;49m\u001b[43mresize\u001b[49m\u001b[43m(\u001b[49m\u001b[43mcv2\u001b[49m\u001b[38;5;241;43m.\u001b[39;49m\u001b[43mimread\u001b[49m\u001b[43m(\u001b[49m\u001b[43mos\u001b[49m\u001b[38;5;241;43m.\u001b[39;49m\u001b[43mpath\u001b[49m\u001b[38;5;241;43m.\u001b[39;49m\u001b[43mjoin\u001b[49m\u001b[43m(\u001b[49m\u001b[43mframes_path\u001b[49m\u001b[43m,\u001b[49m\u001b[43m \u001b[49m\u001b[43mimg\u001b[49m\u001b[43m)\u001b[49m\u001b[43m)\u001b[49m\u001b[43m,\u001b[49m\u001b[43m \u001b[49m\u001b[43mimg_size\u001b[49m\u001b[43m)\u001b[49m\u001b[43m \u001b[49m\u001b[38;5;241;43m/\u001b[39;49m\u001b[43m \u001b[49m\u001b[38;5;241;43m255.0\u001b[39;49m \u001b[38;5;28;01mfor\u001b[39;00m img \u001b[38;5;129;01min\u001b[39;00m frames]\n\u001b[0;32m     20\u001b[0m \u001b[38;5;66;03m# 시퀀스 추출\u001b[39;00m\n\u001b[0;32m     21\u001b[0m \u001b[38;5;28;01mfor\u001b[39;00m i \u001b[38;5;129;01min\u001b[39;00m \u001b[38;5;28mrange\u001b[39m(\u001b[38;5;241m0\u001b[39m, \u001b[38;5;28mlen\u001b[39m(frames) \u001b[38;5;241m-\u001b[39m seq_length \u001b[38;5;241m+\u001b[39m \u001b[38;5;241m1\u001b[39m, seq_length):\n",
      "\u001b[1;31mMemoryError\u001b[0m: Unable to allocate 384. KiB for an array with shape (128, 128, 3) and data type float64"
     ]
    }
   ],
   "source": [
    "# ClassIDs.txt 파일 경로\n",
    "class_id_file = 'F:\\\\UCF_Crimes\\\\UCF_Crimes\\\\Action_Regnition_splits\\\\ClassIDs.txt'\n",
    "\n",
    "# class_map 로드\n",
    "class_map = load_class_ids(class_id_file)\n",
    "\n",
    "# 학습 및 테스트 데이터 로드\n",
    "X_train, y_train = load_split_data(train_split, video_root, class_map)\n",
    "X_test, y_test = load_split_data(test_split, video_root, class_map)\n"
   ]
  },
  {
   "cell_type": "code",
   "execution_count": null,
   "metadata": {},
   "outputs": [],
   "source": [
    "from keras.utils import to_categorical\n",
    "\n",
    "# 라벨을 원핫 인코딩으로 변환\n",
    "num_classes = len(class_map)  # 동적으로 클래스 수 설정\n",
    "y_train = to_categorical(y_train, num_classes=num_classes)\n",
    "y_test = to_categorical(y_test, num_classes=num_classes)\n",
    "\n",
    "# 모델 생성\n",
    "input_shape = (20, 128, 128, 3)  # (시퀀스 길이, 이미지 크기, 채널 수)\n",
    "model = create_lstm_cnn3d_model(input_shape, num_classes)\n",
    "\n",
    "# 모델 학습\n",
    "model.fit(X_train, y_train, epochs=10, batch_size=8, validation_split=0.2)"
   ]
  },
  {
   "cell_type": "code",
   "execution_count": null,
   "metadata": {},
   "outputs": [],
   "source": [
    "from sklearn.metrics import confusion_matrix\n",
    "import seaborn as sns\n",
    "import matplotlib.pyplot as plt\n",
    "\n",
    "# 모델 평가\n",
    "loss, acc = model.evaluate(X_test, y_test)\n",
    "print(f\"Test Accuracy: {acc}, Loss: {loss}\")\n",
    "\n",
    "# 예측 수행\n",
    "y_pred = np.argmax(model.predict(X_test), axis=1)\n",
    "y_true = np.argmax(y_test, axis=1)\n",
    "\n",
    "# 혼돈 행렬 생성 및 시각화\n",
    "cm = confusion_matrix(y_true, y_pred)\n",
    "plt.figure(figsize=(10, 8))\n",
    "sns.heatmap(cm, annot=True, fmt='d', cmap='Blues', xticklabels=list(get_label_from_category.keys()), yticklabels=list(get_label_from_category.keys()))\n",
    "plt.title('Confusion Matrix for LSTM + 3D CNN Model')\n",
    "plt.xlabel('Predicted Label')\n",
    "plt.ylabel('True Label')\n",
    "plt.show()\n"
   ]
  },
  {
   "cell_type": "code",
   "execution_count": null,
   "metadata": {},
   "outputs": [],
   "source": [
    "# 모델 저장\n",
    "model.save('lstm_cnn3d_model_1.h5')"
   ]
  },
  {
   "cell_type": "markdown",
   "metadata": {},
   "source": [
    "여기부터 주 내용"
   ]
  },
  {
   "cell_type": "code",
   "execution_count": 4,
   "metadata": {},
   "outputs": [],
   "source": [
    "import os\n",
    "import cv2\n",
    "import numpy as np\n",
    "import tensorflow as tf\n",
    "from keras.models import Sequential\n",
    "from keras.layers import Conv3D, MaxPooling3D, LSTM, Dense, Flatten, TimeDistributed, Dropout\n",
    "from keras.utils import to_categorical\n",
    "from sklearn.model_selection import train_test_split, GridSearchCV\n",
    "from sklearn.metrics import accuracy_score, classification_report, confusion_matrix\n",
    "import matplotlib.pyplot as plt\n",
    "import seaborn as sns\n"
   ]
  },
  {
   "cell_type": "code",
   "execution_count": 12,
   "metadata": {},
   "outputs": [],
   "source": [
    "def get_label_from_category(category):\n",
    "    class_map = {\n",
    "        'Abuse': 0,\n",
    "        'Arrest': 1,\n",
    "        'Arson': 2,\n",
    "        'Assault': 3,\n",
    "        'Burglary': 4,\n",
    "        'Explosion': 5,\n",
    "        'Fighting': 6,\n",
    "        'RoadAccidents': 7,\n",
    "        'Robbery': 8,\n",
    "        'Shooting': 9,\n",
    "        'Shoplifting': 10,\n",
    "        'Stealing': 11,\n",
    "        'Vandalism': 12,\n",
    "        'Normal_Videos_event': 13\n",
    "    }\n",
    "    return class_map.get(category, 13)\n"
   ]
  },
  {
   "cell_type": "code",
   "execution_count": 3,
   "metadata": {},
   "outputs": [],
   "source": [
    "def video_data_generator(split_file, video_root, batch_size, img_size=(128, 128), seq_length=20, num_classes=14):\n",
    "    \"\"\"\n",
    "    배치 단위로 비디오 데이터를 제너레이트하는 함수\n",
    "    - split_file: 비디오 파일 목록이 있는 텍스트 파일 경로\n",
    "    - video_root: 비디오 파일의 루트 디렉토리\n",
    "    - batch_size: 배치 크기\n",
    "    - img_size: 이미지 크기\n",
    "    - seq_length: 비디오 시퀀스의 길이\n",
    "    - num_classes: 클래스의 수\n",
    "    \"\"\"\n",
    "    with open(split_file, 'r') as f:\n",
    "        lines = f.readlines()\n",
    "    \n",
    "    num_samples = len(lines)\n",
    "    \n",
    "    while True:  # 무한히 데이터 생성\n",
    "        X_batch = []\n",
    "        y_batch = []\n",
    "        \n",
    "        for i in range(batch_size):\n",
    "            # 현재 비디오 파일 정보 로드\n",
    "            line = lines[i % num_samples].strip()  # 파일명\n",
    "            category = line.split('/')[0]  # 카테고리 추출\n",
    "            label = get_label_from_category(category)  # 라벨 변환\n",
    "            \n",
    "            video_path = os.path.join(video_root, line)  # 비디오 경로\n",
    "            cap = cv2.VideoCapture(video_path)\n",
    "            \n",
    "            frames = []\n",
    "            success, frame = cap.read()\n",
    "            while success and len(frames) < seq_length:\n",
    "                resized_frame = cv2.resize(frame, img_size)\n",
    "                frames.append(resized_frame)\n",
    "                success, frame = cap.read()\n",
    "            cap.release()\n",
    "\n",
    "            if len(frames) == seq_length:\n",
    "                X_batch.append(np.array(frames))\n",
    "                y_batch.append(label)\n",
    "        \n",
    "        X_batch = np.array(X_batch)\n",
    "        y_batch = to_categorical(np.array(y_batch), num_classes=num_classes)\n",
    "        \n",
    "        yield X_batch, y_batch"
   ]
  },
  {
   "cell_type": "code",
   "execution_count": 4,
   "metadata": {},
   "outputs": [],
   "source": [
    "train_split = 'F:\\\\UCF_Crimes\\\\UCF_Crimes\\\\Anomaly_Detection_splits\\\\Anomaly_Train.txt'\n",
    "test_split = 'F:\\\\UCF_Crimes\\\\UCF_Crimes\\\\Anomaly_Detection_splits\\\\Anomaly_Test.txt'\n",
    "video_root = 'F:\\\\UCF_Crimes\\\\UCF_Crimes\\\\Videos'\n",
    "\n",
    "# 배치 크기 설정\n",
    "batch_size = 8\n",
    "\n",
    "# 데이터 제너레이터 준비\n",
    "train_generator = video_data_generator(train_split, video_root, batch_size)\n",
    "test_generator = video_data_generator(test_split, video_root, batch_size)\n",
    "\n",
    "# 총 학습 데이터 수 계산\n",
    "with open(train_split, 'r') as f:\n",
    "    num_train_samples = len(f.readlines())\n",
    "with open(test_split, 'r') as f:\n",
    "    num_test_samples = len(f.readlines())"
   ]
  },
  {
   "cell_type": "markdown",
   "metadata": {},
   "source": [
    "create a model(3D CNN + LSTM)"
   ]
  },
  {
   "cell_type": "code",
   "execution_count": 31,
   "metadata": {},
   "outputs": [],
   "source": [
    "from keras.models import Sequential\n",
    "from keras.layers import Conv3D, MaxPooling3D, TimeDistributed, LSTM, Dense, Dropout, Flatten\n",
    "from keras import regularizers\n",
    "\n",
    "def create_lstm_cnn3d_model(input_shape, num_classes, dropout_rate=0.5, reg=None):\n",
    "    model = Sequential()\n",
    "\n",
    "    # 3D CNN layer for extracting spatio-temporal features\n",
    "    model.add(Conv3D(32, kernel_size=(3, 3, 3), activation='relu', input_shape=input_shape))\n",
    "    model.add(MaxPooling3D(pool_size=(2, 2, 2)))\n",
    "    model.add(Conv3D(64, kernel_size=(3, 3, 3), activation='relu', kernel_regularizer=reg))  # L1, L2 적용\n",
    "    model.add(MaxPooling3D(pool_size=(2, 2, 2)))\n",
    "\n",
    "    # Flattening the 3D features\n",
    "    model.add(TimeDistributed(Flatten()))\n",
    "\n",
    "    # LSTM layer for sequential learning\n",
    "    model.add(LSTM(64, return_sequences=False, activation='relu', kernel_regularizer=reg))  # L1, L2 적용\n",
    "\n",
    "    # Fully connected layer\n",
    "    model.add(Dropout(dropout_rate))  # Dropout 추가\n",
    "    model.add(Dense(64, activation='relu', kernel_regularizer=reg))  # L1, L2 적용\n",
    "    model.add(Dense(num_classes, activation='softmax'))  # Softmax for multi-class classification\n",
    "\n",
    "    model.compile(optimizer='adam', loss='categorical_crossentropy', metrics=['accuracy'])\n",
    "    return model\n"
   ]
  },
  {
   "cell_type": "code",
   "execution_count": 29,
   "metadata": {},
   "outputs": [
    {
     "name": "stdout",
     "output_type": "stream",
     "text": [
      "Train 데이터 분포:\n",
      "{'Abuse': 39, 'Arrest': 27, 'Arson': 30, 'Assault': 36, 'Burglary': 59, 'Explosion': 19, 'Fighting': 29, 'RoadAccidents': 83, 'Robbery': 97, 'Shooting': 14, 'Shoplifting': 23, 'Stealing': 66, 'Training_Normal_Videos_Anomaly': 574, 'Vandalism': 31}\n",
      "Validation 데이터 분포:\n",
      "{'Abuse': 9, 'Arrest': 18, 'Arson': 11, 'Assault': 11, 'Burglary': 28, 'Explosion': 10, 'Fighting': 16, 'RoadAccidents': 44, 'Robbery': 48, 'Shooting': 13, 'Shoplifting': 6, 'Stealing': 29, 'Training_Normal_Videos_Anomaly': 226, 'Vandalism': 14}\n"
     ]
    }
   ],
   "source": [
    "import numpy as np\n",
    "\n",
    "# Train 데이터 분포 확인\n",
    "train_labels = [line.split('/')[0] for line in train_lines]\n",
    "unique, counts = np.unique(train_labels, return_counts=True)\n",
    "print(\"Train 데이터 분포:\")\n",
    "print(dict(zip(unique, counts)))\n",
    "\n",
    "# Validation 데이터 분포 확인\n",
    "val_labels = [line.split('/')[0] for line in val_lines]\n",
    "unique, counts = np.unique(val_labels, return_counts=True)\n",
    "print(\"Validation 데이터 분포:\")\n",
    "print(dict(zip(unique, counts)))"
   ]
  },
  {
   "cell_type": "code",
   "execution_count": 34,
   "metadata": {},
   "outputs": [
    {
     "name": "stdout",
     "output_type": "stream",
     "text": [
      "Epoch 1/100\n",
      "201/201 [==============================] - 227s 1s/step - loss: 425.4583 - accuracy: 0.9328\n",
      "Epoch 2/100\n",
      "201/201 [==============================] - 232s 1s/step - loss: 123.2400 - accuracy: 0.9888\n",
      "Epoch 3/100\n",
      "201/201 [==============================] - 231s 1s/step - loss: 93.0511 - accuracy: 0.9944\n",
      "Epoch 4/100\n",
      "201/201 [==============================] - 228s 1s/step - loss: 72.8112 - accuracy: 0.9813\n",
      "Epoch 5/100\n",
      "201/201 [==============================] - 224s 1s/step - loss: 67.9038 - accuracy: 0.9826\n",
      "Epoch 6/100\n",
      "201/201 [==============================] - 231s 1s/step - loss: 51.6364 - accuracy: 0.9969\n",
      "Epoch 7/100\n",
      "201/201 [==============================] - 241s 1s/step - loss: 41.8634 - accuracy: 0.9963\n",
      "Epoch 8/100\n",
      "201/201 [==============================] - 246s 1s/step - loss: 35.9311 - accuracy: 0.9950\n",
      "Epoch 9/100\n",
      "201/201 [==============================] - 252s 1s/step - loss: 31.5131 - accuracy: 0.9925\n",
      "Epoch 10/100\n",
      "201/201 [==============================] - 242s 1s/step - loss: 26.1162 - accuracy: 0.9956\n",
      "Epoch 11/100\n",
      "201/201 [==============================] - 240s 1s/step - loss: 24.8972 - accuracy: 0.9919\n",
      "Epoch 12/100\n",
      "201/201 [==============================] - 245s 1s/step - loss: 32.7113 - accuracy: 0.9888\n",
      "Epoch 13/100\n",
      "201/201 [==============================] - 229s 1s/step - loss: 41.2485 - accuracy: 0.9963\n",
      "Epoch 14/100\n",
      "201/201 [==============================] - 226s 1s/step - loss: 28.1345 - accuracy: 1.0000\n",
      "Epoch 15/100\n",
      "201/201 [==============================] - 223s 1s/step - loss: 23.3021 - accuracy: 0.9963\n",
      "Epoch 16/100\n",
      "201/201 [==============================] - 224s 1s/step - loss: 18.7119 - accuracy: 0.9994\n",
      "Epoch 17/100\n",
      "201/201 [==============================] - 244s 1s/step - loss: 15.9314 - accuracy: 0.9981\n",
      "Epoch 18/100\n",
      "201/201 [==============================] - 235s 1s/step - loss: 14.1439 - accuracy: 0.9994\n",
      "Epoch 19/100\n",
      "201/201 [==============================] - 236s 1s/step - loss: 12.5773 - accuracy: 1.0000\n",
      "Epoch 20/100\n",
      "201/201 [==============================] - 231s 1s/step - loss: 12.6428 - accuracy: 0.9981\n",
      "Epoch 21/100\n",
      "201/201 [==============================] - 234s 1s/step - loss: 11.4320 - accuracy: 0.9981\n",
      "Epoch 22/100\n",
      "201/201 [==============================] - 256s 1s/step - loss: 10.1174 - accuracy: 0.9994\n",
      "Epoch 23/100\n",
      "201/201 [==============================] - 234s 1s/step - loss: 9.1301 - accuracy: 1.0000\n",
      "Epoch 24/100\n",
      "201/201 [==============================] - 231s 1s/step - loss: 9.0000 - accuracy: 0.9994\n",
      "Epoch 25/100\n",
      "201/201 [==============================] - 234s 1s/step - loss: 7.9671 - accuracy: 1.0000\n",
      "Epoch 26/100\n",
      "201/201 [==============================] - 238s 1s/step - loss: 17.6634 - accuracy: 0.9963\n",
      "Epoch 27/100\n",
      "201/201 [==============================] - 238s 1s/step - loss: 10.0950 - accuracy: 1.0000\n",
      "Epoch 28/100\n",
      "201/201 [==============================] - 239s 1s/step - loss: 8.1448 - accuracy: 1.0000\n",
      "Epoch 29/100\n",
      "201/201 [==============================] - 243s 1s/step - loss: 7.2432 - accuracy: 1.0000\n",
      "Epoch 30/100\n",
      "201/201 [==============================] - 238s 1s/step - loss: 6.6854 - accuracy: 1.0000\n",
      "Epoch 31/100\n",
      "201/201 [==============================] - 240s 1s/step - loss: 6.2862 - accuracy: 1.0000\n",
      "Epoch 32/100\n",
      "201/201 [==============================] - 239s 1s/step - loss: 5.9655 - accuracy: 1.0000\n",
      "Epoch 33/100\n",
      "201/201 [==============================] - 237s 1s/step - loss: 5.7098 - accuracy: 1.0000\n",
      "Epoch 34/100\n",
      "201/201 [==============================] - 238s 1s/step - loss: 5.5053 - accuracy: 1.0000\n",
      "Epoch 35/100\n",
      "201/201 [==============================] - 237s 1s/step - loss: 5.3128 - accuracy: 1.0000\n",
      "Epoch 36/100\n",
      "201/201 [==============================] - 235s 1s/step - loss: 5.1477 - accuracy: 1.0000\n",
      "Epoch 37/100\n",
      "201/201 [==============================] - 239s 1s/step - loss: 5.2050 - accuracy: 0.9988\n",
      "Epoch 38/100\n",
      "201/201 [==============================] - 237s 1s/step - loss: 4.9430 - accuracy: 0.9994\n",
      "Epoch 39/100\n",
      "201/201 [==============================] - 236s 1s/step - loss: 4.7680 - accuracy: 1.0000\n",
      "Epoch 40/100\n",
      "201/201 [==============================] - 235s 1s/step - loss: 5.0395 - accuracy: 0.9969\n",
      "Epoch 41/100\n",
      "201/201 [==============================] - 236s 1s/step - loss: 4.6014 - accuracy: 1.0000\n",
      "Epoch 42/100\n",
      "201/201 [==============================] - 242s 1s/step - loss: 4.4802 - accuracy: 1.0000\n",
      "Epoch 43/100\n",
      "201/201 [==============================] - 237s 1s/step - loss: 4.4266 - accuracy: 1.0000\n",
      "Epoch 44/100\n",
      "201/201 [==============================] - 237s 1s/step - loss: 4.3250 - accuracy: 1.0000\n",
      "Epoch 45/100\n",
      "201/201 [==============================] - 231s 1s/step - loss: 4.2620 - accuracy: 1.0000\n",
      "Epoch 46/100\n",
      "201/201 [==============================] - 229s 1s/step - loss: 4.2448 - accuracy: 0.9994\n",
      "Epoch 47/100\n",
      "201/201 [==============================] - 233s 1s/step - loss: 4.1525 - accuracy: 1.0000\n",
      "Epoch 48/100\n",
      "201/201 [==============================] - 238s 1s/step - loss: 4.1076 - accuracy: 1.0000\n",
      "Epoch 49/100\n",
      "201/201 [==============================] - 241s 1s/step - loss: 4.0564 - accuracy: 1.0000\n",
      "Epoch 50/100\n",
      "201/201 [==============================] - 243s 1s/step - loss: 4.0119 - accuracy: 1.0000\n",
      "Epoch 51/100\n",
      "201/201 [==============================] - 239s 1s/step - loss: 3.9669 - accuracy: 1.0000\n",
      "Epoch 52/100\n",
      "201/201 [==============================] - 242s 1s/step - loss: 3.9270 - accuracy: 1.0000\n",
      "Epoch 53/100\n",
      "201/201 [==============================] - 222s 1s/step - loss: 3.8920 - accuracy: 1.0000\n",
      "Epoch 54/100\n",
      "201/201 [==============================] - 236s 1s/step - loss: 3.8503 - accuracy: 1.0000\n",
      "Epoch 55/100\n",
      "201/201 [==============================] - 242s 1s/step - loss: 3.8136 - accuracy: 1.0000\n",
      "Epoch 56/100\n",
      "201/201 [==============================] - 244s 1s/step - loss: 3.7783 - accuracy: 1.0000\n",
      "Epoch 57/100\n",
      "201/201 [==============================] - 243s 1s/step - loss: 3.7450 - accuracy: 1.0000\n",
      "Epoch 58/100\n",
      "201/201 [==============================] - 245s 1s/step - loss: 3.7113 - accuracy: 1.0000\n",
      "Epoch 59/100\n",
      "201/201 [==============================] - 242s 1s/step - loss: 3.6813 - accuracy: 1.0000\n",
      "Epoch 60/100\n",
      "201/201 [==============================] - 242s 1s/step - loss: 3.6541 - accuracy: 1.0000\n",
      "Epoch 61/100\n",
      "201/201 [==============================] - 242s 1s/step - loss: 3.6249 - accuracy: 1.0000\n",
      "Epoch 62/100\n",
      "201/201 [==============================] - 244s 1s/step - loss: 3.5957 - accuracy: 1.0000\n",
      "Epoch 63/100\n",
      "201/201 [==============================] - 241s 1s/step - loss: 3.5686 - accuracy: 1.0000\n",
      "Epoch 64/100\n",
      "201/201 [==============================] - 242s 1s/step - loss: 3.5425 - accuracy: 1.0000\n",
      "Epoch 65/100\n",
      "201/201 [==============================] - 240s 1s/step - loss: 3.5194 - accuracy: 1.0000\n",
      "Epoch 66/100\n",
      "201/201 [==============================] - 243s 1s/step - loss: 3.4994 - accuracy: 1.0000\n",
      "Epoch 67/100\n",
      "201/201 [==============================] - 255s 1s/step - loss: 3.4764 - accuracy: 1.0000\n",
      "Epoch 68/100\n",
      "201/201 [==============================] - 242s 1s/step - loss: 3.4566 - accuracy: 1.0000\n",
      "Epoch 69/100\n",
      "201/201 [==============================] - 244s 1s/step - loss: 3.4369 - accuracy: 1.0000\n",
      "Epoch 70/100\n",
      "201/201 [==============================] - 264s 1s/step - loss: 3.4161 - accuracy: 1.0000\n",
      "Epoch 71/100\n",
      "201/201 [==============================] - 248s 1s/step - loss: 3.3970 - accuracy: 1.0000\n",
      "Epoch 72/100\n",
      "201/201 [==============================] - 249s 1s/step - loss: 3.3788 - accuracy: 1.0000\n",
      "Epoch 73/100\n",
      "201/201 [==============================] - 248s 1s/step - loss: 3.3605 - accuracy: 1.0000\n",
      "Epoch 74/100\n",
      "201/201 [==============================] - 249s 1s/step - loss: 3.3439 - accuracy: 1.0000\n",
      "Epoch 75/100\n",
      "201/201 [==============================] - 250s 1s/step - loss: 3.3270 - accuracy: 1.0000\n",
      "Epoch 76/100\n",
      "201/201 [==============================] - 253s 1s/step - loss: 3.3139 - accuracy: 1.0000\n",
      "Epoch 77/100\n",
      "201/201 [==============================] - 254s 1s/step - loss: 3.3001 - accuracy: 1.0000\n",
      "Epoch 78/100\n",
      "201/201 [==============================] - 260s 1s/step - loss: 3.2873 - accuracy: 1.0000\n",
      "Epoch 79/100\n",
      "201/201 [==============================] - 255s 1s/step - loss: 3.2771 - accuracy: 1.0000\n",
      "Epoch 80/100\n",
      "201/201 [==============================] - 256s 1s/step - loss: 3.2676 - accuracy: 1.0000\n",
      "Epoch 81/100\n",
      "201/201 [==============================] - 256s 1s/step - loss: 3.2592 - accuracy: 1.0000\n",
      "Epoch 82/100\n",
      "201/201 [==============================] - 253s 1s/step - loss: 3.2524 - accuracy: 1.0000\n",
      "Epoch 83/100\n",
      "201/201 [==============================] - 252s 1s/step - loss: 3.2474 - accuracy: 1.0000\n",
      "Epoch 84/100\n",
      "201/201 [==============================] - 252s 1s/step - loss: 3.2438 - accuracy: 1.0000\n",
      "Epoch 85/100\n",
      "201/201 [==============================] - 242s 1s/step - loss: 3.2413 - accuracy: 1.0000\n",
      "Epoch 86/100\n",
      "201/201 [==============================] - 246s 1s/step - loss: 3.2388 - accuracy: 1.0000\n",
      "Epoch 87/100\n",
      "201/201 [==============================] - 244s 1s/step - loss: 3.2363 - accuracy: 1.0000\n",
      "Epoch 88/100\n",
      "201/201 [==============================] - 241s 1s/step - loss: 3.2345 - accuracy: 1.0000\n",
      "Epoch 89/100\n",
      "201/201 [==============================] - 241s 1s/step - loss: 3.2330 - accuracy: 1.0000\n",
      "Epoch 90/100\n",
      "201/201 [==============================] - 245s 1s/step - loss: 3.2317 - accuracy: 1.0000\n",
      "Epoch 91/100\n",
      "201/201 [==============================] - 241s 1s/step - loss: 3.2303 - accuracy: 1.0000\n",
      "Epoch 92/100\n",
      "201/201 [==============================] - 242s 1s/step - loss: 3.2287 - accuracy: 1.0000\n",
      "Epoch 93/100\n",
      "201/201 [==============================] - 245s 1s/step - loss: 3.2273 - accuracy: 1.0000\n",
      "Epoch 94/100\n",
      "201/201 [==============================] - 244s 1s/step - loss: 3.2259 - accuracy: 1.0000\n",
      "Epoch 95/100\n",
      "201/201 [==============================] - 242s 1s/step - loss: 3.2244 - accuracy: 1.0000\n",
      "Epoch 96/100\n",
      "201/201 [==============================] - 243s 1s/step - loss: 3.2229 - accuracy: 1.0000\n",
      "Epoch 97/100\n",
      "201/201 [==============================] - 242s 1s/step - loss: 3.2213 - accuracy: 1.0000\n",
      "Epoch 98/100\n",
      "201/201 [==============================] - 244s 1s/step - loss: 3.2196 - accuracy: 1.0000\n",
      "Epoch 99/100\n",
      "201/201 [==============================] - 242s 1s/step - loss: 3.2180 - accuracy: 1.0000\n",
      "Epoch 100/100\n",
      "201/201 [==============================] - 241s 1s/step - loss: 3.2163 - accuracy: 1.0000\n"
     ]
    },
    {
     "data": {
      "text/plain": [
       "<keras.src.callbacks.History at 0x1f1179828d0>"
      ]
     },
     "execution_count": 34,
     "metadata": {},
     "output_type": "execute_result"
    }
   ],
   "source": [
    "from keras.optimizers import Adam\n",
    "\n",
    "# 모델 생성\n",
    "input_shape = (20, 128, 128, 3)  # (시퀀스 길이, 이미지 크기, 채널 수)\n",
    "num_classes = 14  # 카테고리 수\n",
    "\n",
    "# L2 정규화와 dropout 추가\n",
    "reg = regularizers.l1_l2(0.02)  # L2 정규화\n",
    "model = create_lstm_cnn3d_model(input_shape, num_classes, dropout_rate=0.8, reg=reg)\n",
    "\n",
    "model.compile(optimizer=Adam(learning_rate=0.0001), loss='categorical_crossentropy', metrics=['accuracy'])\n",
    "\n",
    "# 모델 학습 (train만 사용)\n",
    "model.fit(\n",
    "    train_generator,\n",
    "    steps_per_epoch=num_train_samples // batch_size,\n",
    "    epochs=100\n",
    ")"
   ]
  },
  {
   "cell_type": "markdown",
   "metadata": {},
   "source": [
    "best_parameter_model for Grid_Search "
   ]
  },
  {
   "cell_type": "code",
   "execution_count": 1,
   "metadata": {},
   "outputs": [],
   "source": [
    "import tensorflow as tf\n",
    "from keras.models import Sequential\n",
    "from keras.layers import Conv3D, MaxPooling3D, TimeDistributed, LSTM, Dense, Dropout, Flatten\n",
    "from keras.optimizers import Adam\n",
    "\n",
    "\n",
    "# LSTM-CNN3D 모델 정의 (기존 모델에 하이퍼파라미터 적용)\n",
    "def build_model(hp):\n",
    "    model = Sequential()\n",
    "\n",
    "    # 3D CNN layer for extracting spatio-temporal features\n",
    "    model.add(Conv3D(hp.Int('conv_units', min_value=32, max_value=128, step=32), \n",
    "                     kernel_size=(3, 3, 3), activation='relu', input_shape=(20, 128, 128, 3)))\n",
    "    model.add(MaxPooling3D(pool_size=(2, 2, 2)))\n",
    "    \n",
    "    model.add(Conv3D(hp.Int('conv_units_2', min_value=32, max_value=128, step=32), \n",
    "                     kernel_size=(3, 3, 3), activation='relu'))\n",
    "    model.add(MaxPooling3D(pool_size=(2, 2, 2)))\n",
    "\n",
    "    # Flattening the 3D features\n",
    "    model.add(TimeDistributed(Flatten()))\n",
    "\n",
    "    # LSTM layer for sequential learning\n",
    "    model.add(LSTM(hp.Int('lstm_units', min_value=32, max_value=128, step=32), \n",
    "                   return_sequences=False, activation='relu'))\n",
    "\n",
    "    # Fully connected layer with dropout\n",
    "    model.add(Dropout(hp.Float('dropout', min_value=0.2, max_value=0.5, step=0.1)))\n",
    "    model.add(Dense(hp.Int('dense_units', min_value=32, max_value=128, step=32), activation='relu'))\n",
    "\n",
    "    # Output layer\n",
    "    model.add(Dense(14, activation='softmax'))  # 14개의 클래스\n",
    "\n",
    "    # 모델 컴파일\n",
    "    model.compile(optimizer=Adam(hp.Choice('learning_rate', values=[1e-2, 1e-3, 1e-4])),\n",
    "                  loss='categorical_crossentropy', metrics=['accuracy'])\n",
    "\n",
    "    return model\n"
   ]
  },
  {
   "cell_type": "code",
   "execution_count": 46,
   "metadata": {},
   "outputs": [
    {
     "name": "stdout",
     "output_type": "stream",
     "text": [
      "\n",
      "Search: Running Trial #1\n",
      "\n",
      "Value             |Best Value So Far |Hyperparameter\n",
      "32                |32                |conv_units\n",
      "32                |32                |conv_units_2\n",
      "96                |96                |lstm_units\n",
      "0.3               |0.3               |dropout\n",
      "64                |64                |dense_units\n",
      "0.0001            |0.0001            |learning_rate\n",
      "2                 |2                 |tuner/epochs\n",
      "0                 |0                 |tuner/initial_epoch\n",
      "2                 |2                 |tuner/bracket\n",
      "0                 |0                 |tuner/round\n",
      "\n",
      "Epoch 1/2\n",
      " 157109/Unknown - 112953s 719ms/step - loss: 0.0034 - accuracy: 0.9999"
     ]
    }
   ],
   "source": [
    "# Keras Tuner를 사용하여 하이퍼파라미터 튜닝\n",
    "tuner = kt.Hyperband(build_model, \n",
    "                     objective='val_accuracy', \n",
    "                     max_epochs=10, \n",
    "                     factor=3, \n",
    "                     directory='my_dir', \n",
    "                     project_name='lstm_cnn3d_hyperparameter_tuning')\n",
    "\n",
    "# 데이터 준비 (예: train_generator, test_generator 사용)\n",
    "tuner.search(train_generator, epochs=10, validation_data=test_generator)\n",
    "\n",
    "# 최적의 하이퍼파라미터로 모델을 다시 학습\n",
    "best_model = tuner.get_best_models(num_models=1)[0]\n",
    "best_model.summary()\n"
   ]
  },
  {
   "cell_type": "code",
   "execution_count": null,
   "metadata": {},
   "outputs": [],
   "source": [
    "loss, acc = model.evaluate(test_generator, steps=num_test_samples // batch_size)\n",
    "print(f\"Test Accuracy: {acc}, Loss: {loss}\")\n"
   ]
  },
  {
   "cell_type": "markdown",
   "metadata": {},
   "source": [
    "build_best_model user setting"
   ]
  },
  {
   "cell_type": "markdown",
   "metadata": {},
   "source": [
    "NEW generater"
   ]
  },
  {
   "cell_type": "code",
   "execution_count": 30,
   "metadata": {},
   "outputs": [],
   "source": [
    "from tensorflow.keras.layers import Input, Conv3D, MaxPooling3D, LSTM, Dense, Dropout, TimeDistributed, Flatten, Concatenate\n",
    "from tensorflow.keras.models import Model\n",
    "\n",
    "def build_combined_model(input_shape_rgb, input_shape_flow, num_classes):\n",
    "    # RGB Stream\n",
    "    rgb_input = Input(shape=input_shape_rgb)\n",
    "    rgb_conv = Conv3D(32, kernel_size=(3, 3, 3), activation='relu')(rgb_input)\n",
    "    rgb_pool = MaxPooling3D(pool_size=(2, 2, 2))(rgb_conv)\n",
    "    rgb_conv = Conv3D(64, kernel_size=(3, 3, 3), activation='relu')(rgb_pool)\n",
    "    rgb_pool = MaxPooling3D(pool_size=(2, 2, 2))(rgb_conv)\n",
    "    rgb_flat = TimeDistributed(Flatten())(rgb_pool)\n",
    "    rgb_lstm = LSTM(64, return_sequences=False, activation='relu')(rgb_flat)\n",
    "\n",
    "    # Optical Flow Stream\n",
    "    flow_input = Input(shape=input_shape_flow)\n",
    "    flow_conv = Conv3D(32, kernel_size=(3, 3, 3), activation='relu')(flow_input)\n",
    "    flow_pool = MaxPooling3D(pool_size=(2, 2, 2))(flow_conv)\n",
    "    flow_conv = Conv3D(64, kernel_size=(3, 3, 3), activation='relu')(flow_pool)\n",
    "    flow_pool = MaxPooling3D(pool_size=(2, 2, 2))(flow_conv)\n",
    "    flow_flat = TimeDistributed(Flatten())(flow_pool)\n",
    "    flow_lstm = LSTM(64, return_sequences=False, activation='relu')(flow_flat)\n",
    "\n",
    "    # 두 스트림의 출력을 결합\n",
    "    combined = Concatenate()([rgb_lstm, flow_lstm])\n",
    "\n",
    "    # Fully Connected Layers\n",
    "    x = Dense(64, activation='relu')(combined)\n",
    "    x = Dropout(0.5)(x)\n",
    "    output = Dense(num_classes, activation='softmax')(x)\n",
    "\n",
    "    # 모델 생성\n",
    "    model = Model(inputs=[rgb_input, flow_input], outputs=output)\n",
    "    model.compile(optimizer='adam', loss='categorical_crossentropy', metrics=['accuracy'])\n",
    "    \n",
    "    return model\n"
   ]
  },
  {
   "cell_type": "code",
   "execution_count": 31,
   "metadata": {},
   "outputs": [],
   "source": [
    "import cv2\n",
    "import numpy as np\n",
    "import os\n",
    "\n",
    "def video_data_generator(split_file, video_root, batch_size, seq_length=20, img_size=(128, 128)):\n",
    "    X_batch = []\n",
    "    y_batch = []\n",
    "    while True:\n",
    "        with open(split_file, 'r') as f:\n",
    "            lines = f.readlines()\n",
    "            for line in lines:\n",
    "                video_path = line.strip()  # 비디오 경로를 로드\n",
    "                label = get_label_from_category(video_path.split('/')[0])  # 레이블 할당\n",
    "\n",
    "                # 비디오 프레임 로드\n",
    "                frames = load_video_frames(os.path.join(video_root, video_path), seq_length, img_size)\n",
    "\n",
    "                if len(frames) == seq_length:  # 지정된 길이만큼 프레임을 추출\n",
    "                    X_batch.append(frames)\n",
    "                    y_batch.append(label)\n",
    "\n",
    "                if len(X_batch) == batch_size:\n",
    "                    yield np.array(X_batch), np.array(y_batch)\n",
    "                    X_batch = []\n",
    "                    y_batch = []\n",
    "\n",
    "def optical_flow_data_generator(split_file, video_root, batch_size, seq_length=20, img_size=(128, 128)):\n",
    "    X_batch = []\n",
    "    y_batch = []\n",
    "    while True:\n",
    "        with open(split_file, 'r') as f:\n",
    "            lines = f.readlines()\n",
    "            for line in lines:\n",
    "                video_path = line.strip()  # 비디오 경로를 로드\n",
    "                label = get_label_from_category(video_path.split('/')[0])  # 레이블 할당\n",
    "\n",
    "                # Optical Flow 로드\n",
    "                optical_flow_frames = load_optical_flow(os.path.join(video_root, video_path), seq_length, img_size)\n",
    "\n",
    "                if len(optical_flow_frames) == seq_length:\n",
    "                    X_batch.append(optical_flow_frames)\n",
    "                    y_batch.append(label)\n",
    "\n",
    "                if len(X_batch) == batch_size:\n",
    "                    yield np.array(X_batch), np.array(y_batch)\n",
    "                    X_batch = []\n",
    "                    y_batch = []\n"
   ]
  },
  {
   "cell_type": "code",
   "execution_count": 32,
   "metadata": {},
   "outputs": [],
   "source": [
    "def load_video_frames(video_path, seq_length, img_size):\n",
    "    cap = cv2.VideoCapture(video_path)\n",
    "    frames = []\n",
    "    while cap.isOpened():\n",
    "        ret, frame = cap.read()\n",
    "        if not ret or len(frames) >= seq_length:\n",
    "            break\n",
    "        frame = cv2.resize(frame, img_size)\n",
    "        frames.append(frame)\n",
    "    cap.release()\n",
    "    return frames\n",
    "\n",
    "def load_optical_flow(video_path, seq_length, img_size):\n",
    "    # Optical Flow 계산을 위한 함수\n",
    "    cap = cv2.VideoCapture(video_path)\n",
    "    ret, prev_frame = cap.read()\n",
    "    prev_frame = cv2.cvtColor(prev_frame, cv2.COLOR_BGR2GRAY)\n",
    "    frames = []\n",
    "    while cap.isOpened():\n",
    "        ret, frame = cap.read()\n",
    "        if not ret or len(frames) >= seq_length:\n",
    "            break\n",
    "        gray_frame = cv2.cvtColor(frame, cv2.COLOR_BGR2GRAY)\n",
    "        flow = cv2.calcOpticalFlowFarneback(prev_frame, gray_frame, None, 0.5, 3, 15, 3, 5, 1.2, 0)\n",
    "        flow_resized = cv2.resize(flow, img_size)\n",
    "        frames.append(flow_resized)\n",
    "        prev_frame = gray_frame\n",
    "    cap.release()\n",
    "    return frames\n"
   ]
  },
  {
   "cell_type": "code",
   "execution_count": 36,
   "metadata": {},
   "outputs": [],
   "source": [
    "# 데이터 준비\n",
    "train_rgb_generator = video_data_generator(train_split, video_root, batch_size)\n",
    "test_rgb_generator = video_data_generator(test_split, video_root, batch_size)\n",
    "train_optical_flow_generator = optical_flow_data_generator(train_split, video_root, batch_size)\n",
    "test_optical_flow_generator = optical_flow_data_generator(test_split, video_root, batch_size)\n",
    "\n",
    "# 두 개의 제너레이터를 결합하여 학습\n",
    "train_combined_generator = zip(train_rgb_generator, train_optical_flow_generator)\n",
    "test_combined_generator = zip(test_rgb_generator, test_optical_flow_generator)\n",
    "\n",
    "# EarlyStopping 설정\n",
    "early_stopping = EarlyStopping(monitor='val_loss', patience=3, min_delta=0.001, restore_best_weights=True, verbose=1)\n",
    "\n",
    "import numpy as np\n",
    "from tensorflow.keras.utils import Sequence\n",
    "\n",
    "class CombinedGenerator(Sequence):\n",
    "    def __init__(self, rgb_gen, flow_gen, batch_size):\n",
    "        self.rgb_gen = rgb_gen\n",
    "        self.flow_gen = flow_gen\n",
    "        self.batch_size = batch_size\n",
    "\n",
    "    def __len__(self):\n",
    "        return min(len(self.rgb_gen), len(self.flow_gen))\n",
    "\n",
    "    def __getitem__(self, index):\n",
    "        rgb_data, rgb_labels = self.rgb_gen[index]\n",
    "        flow_data, flow_labels = self.flow_gen[index]\n",
    "\n",
    "        # 두 스트림의 레이블이 동일한지 확인\n",
    "        assert np.array_equal(rgb_labels, flow_labels), \"RGB와 Optical Flow 레이블이 일치하지 않습니다.\"\n",
    "        \n",
    "        return [rgb_data, flow_data], rgb_labels\n",
    "\n",
    "    def on_epoch_end(self):\n",
    "        # 에포크가 끝날 때마다 제너레이터 셔플 또는 리셋할 수 있음\n",
    "        pass\n",
    "\n",
    "# 두 개의 제너레이터 결합\n",
    "train_combined_generator = CombinedGenerator(train_rgb_generator, train_optical_flow_generator, batch_size)\n",
    "test_combined_generator = CombinedGenerator(test_rgb_generator, test_optical_flow_generator, batch_size)\n"
   ]
  },
  {
   "cell_type": "code",
   "execution_count": 38,
   "metadata": {},
   "outputs": [
    {
     "ename": "NameError",
     "evalue": "name 'train_rgb_data' is not defined",
     "output_type": "error",
     "traceback": [
      "\u001b[1;31m---------------------------------------------------------------------------\u001b[0m",
      "\u001b[1;31mNameError\u001b[0m                                 Traceback (most recent call last)",
      "Cell \u001b[1;32mIn[38], line 55\u001b[0m\n\u001b[0;32m     53\u001b[0m \u001b[38;5;66;03m# 데이터 제너레이터 초기화\u001b[39;00m\n\u001b[0;32m     54\u001b[0m batch_size \u001b[38;5;241m=\u001b[39m \u001b[38;5;241m8\u001b[39m\n\u001b[1;32m---> 55\u001b[0m rgb_train_generator \u001b[38;5;241m=\u001b[39m RGBDataGenerator(\u001b[43mtrain_rgb_data\u001b[49m, train_labels, batch_size)\n\u001b[0;32m     56\u001b[0m flow_train_generator \u001b[38;5;241m=\u001b[39m OpticalFlowDataGenerator(train_flow_data, train_labels, batch_size)\n\u001b[0;32m     58\u001b[0m train_combined_generator \u001b[38;5;241m=\u001b[39m CombinedGenerator(rgb_train_generator, flow_train_generator, batch_size)\n",
      "\u001b[1;31mNameError\u001b[0m: name 'train_rgb_data' is not defined"
     ]
    }
   ],
   "source": [
    "import numpy as np\n",
    "from tensorflow.keras.utils import Sequence\n",
    "\n",
    "# RGB 데이터 제너레이터 정의\n",
    "class RGBDataGenerator(Sequence):\n",
    "    def __init__(self, rgb_data, labels, batch_size):\n",
    "        self.rgb_data = rgb_data\n",
    "        self.labels = labels\n",
    "        self.batch_size = batch_size\n",
    "\n",
    "    def __len__(self):\n",
    "        return len(self.rgb_data) // self.batch_size\n",
    "\n",
    "    def __getitem__(self, index):\n",
    "        batch_rgb_data = self.rgb_data[index * self.batch_size:(index + 1) * self.batch_size]\n",
    "        batch_labels = self.labels[index * self.batch_size:(index + 1) * self.batch_size]\n",
    "        return batch_rgb_data, batch_labels\n",
    "\n",
    "# Optical Flow 데이터 제너레이터 정의\n",
    "class OpticalFlowDataGenerator(Sequence):\n",
    "    def __init__(self, flow_data, labels, batch_size):\n",
    "        self.flow_data = flow_data\n",
    "        self.labels = labels\n",
    "        self.batch_size = batch_size\n",
    "\n",
    "    def __len__(self):\n",
    "        return len(self.flow_data) // self.batch_size\n",
    "\n",
    "    def __getitem__(self, index):\n",
    "        batch_flow_data = self.flow_data[index * self.batch_size:(index + 1) * self.batch_size]\n",
    "        batch_labels = self.labels[index * self.batch_size:(index + 1) * self.batch_size]\n",
    "        return batch_flow_data, batch_labels\n",
    "\n",
    "# 두 스트림의 데이터를 결합한 제너레이터\n",
    "class CombinedGenerator(Sequence):\n",
    "    def __init__(self, rgb_gen, flow_gen, batch_size):\n",
    "        self.rgb_gen = rgb_gen\n",
    "        self.flow_gen = flow_gen\n",
    "        self.batch_size = batch_size\n",
    "\n",
    "    def __len__(self):\n",
    "        return min(len(self.rgb_gen), len(self.flow_gen))\n",
    "\n",
    "    def __getitem__(self, index):\n",
    "        rgb_data, rgb_labels = self.rgb_gen[index]\n",
    "        flow_data, flow_labels = self.flow_gen[index]\n",
    "\n",
    "        # 두 스트림의 레이블이 동일한지 확인\n",
    "        assert np.array_equal(rgb_labels, flow_labels), \"RGB와 Optical Flow 레이블이 일치하지 않습니다.\"\n",
    "        \n",
    "        return [rgb_data, flow_data], rgb_labels\n",
    "\n",
    "# 데이터 제너레이터 초기화\n",
    "batch_size = 8\n",
    "rgb_train_generator = RGBDataGenerator(train_rgb_data, train_labels, batch_size)\n",
    "flow_train_generator = OpticalFlowDataGenerator(train_flow_data, train_labels, batch_size)\n",
    "\n",
    "train_combined_generator = CombinedGenerator(rgb_train_generator, flow_train_generator, batch_size)\n",
    "\n",
    "rgb_test_generator = RGBDataGenerator(test_rgb_data, test_labels, batch_size)\n",
    "flow_test_generator = OpticalFlowDataGenerator(test_flow_data, test_labels, batch_size)\n",
    "\n",
    "test_combined_generator = CombinedGenerator(rgb_test_generator, flow_test_generator, batch_size)\n",
    "\n",
    "# 모델 학습\n",
    "history = combined_model.fit(\n",
    "    train_combined_generator,\n",
    "    steps_per_epoch=len(train_combined_generator),\n",
    "    epochs=100,\n",
    "    validation_data=test_combined_generator,\n",
    "    validation_steps=len(test_combined_generator),\n",
    "    callbacks=[early_stopping]\n",
    ")\n"
   ]
  },
  {
   "cell_type": "code",
   "execution_count": null,
   "metadata": {},
   "outputs": [],
   "source": [
    "model.save('lstm_cnn3d_model.h5')\n"
   ]
  },
  {
   "cell_type": "code",
   "execution_count": null,
   "metadata": {},
   "outputs": [],
   "source": [
    "# 새로운 데이터 학습 (new_split에 새로운 학습 파일 경로)\n",
    "new_split = 'F:\\\\UCF_Crimes\\\\UCF_Crimes\\\\Anomaly_Detection_splits\\\\New_Train.txt'\n",
    "new_X, new_y = load_split_data(new_split, video_root)\n",
    "\n",
    "# 전이학습 수행\n",
    "model.fit(new_X, to_categorical(new_y, num_classes=num_classes), epochs=5, batch_size=8)\n",
    "\n",
    "# 새로운 데이터 평가\n",
    "loss, acc = model.evaluate(new_X, to_categorical(new_y, num_classes=num_classes))\n",
    "print(f\"Transfer Learning Test Accuracy: {acc}, Loss: {loss}\")\n"
   ]
  }
 ],
 "metadata": {
  "kernelspec": {
   "display_name": "base",
   "language": "python",
   "name": "python3"
  },
  "language_info": {
   "codemirror_mode": {
    "name": "ipython",
    "version": 3
   },
   "file_extension": ".py",
   "mimetype": "text/x-python",
   "name": "python",
   "nbconvert_exporter": "python",
   "pygments_lexer": "ipython3",
   "version": "3.11.7"
  }
 },
 "nbformat": 4,
 "nbformat_minor": 2
}
